{
 "cells": [
  {
   "cell_type": "markdown",
   "metadata": {},
   "source": [
    "# Problem 700"
   ]
  },
  {
   "cell_type": "code",
   "execution_count": 2,
   "metadata": {},
   "outputs": [
    {
     "ename": "KeyboardInterrupt",
     "evalue": "",
     "output_type": "error",
     "traceback": [
      "\u001b[0;31m---------------------------------------------------------------------------\u001b[0m",
      "\u001b[0;31mKeyboardInterrupt\u001b[0m                         Traceback (most recent call last)",
      "Cell \u001b[0;32mIn[2], line 4\u001b[0m\n\u001b[1;32m      2\u001b[0m a \u001b[38;5;241m=\u001b[39m \u001b[38;5;241m1\u001b[39m\n\u001b[1;32m      3\u001b[0m euler_coin\u001b[38;5;241m=\u001b[39m[\u001b[38;5;241m1504170715041707\u001b[39m]\n\u001b[0;32m----> 4\u001b[0m \u001b[38;5;28;01mwhile\u001b[39;00m \u001b[38;5;28;01mTrue\u001b[39;00m:\n\u001b[1;32m      5\u001b[0m     new_value \u001b[38;5;241m=\u001b[39m (\u001b[38;5;241m1504170715041707\u001b[39m\u001b[38;5;241m*\u001b[39ma)\u001b[38;5;241m%\u001b[39m\u001b[38;5;241m4503599627370517\u001b[39m\n\u001b[1;32m      6\u001b[0m     \u001b[38;5;28;01mif\u001b[39;00m new_value\u001b[38;5;241m<\u001b[39meuler_coin[\u001b[38;5;241m-\u001b[39m\u001b[38;5;241m1\u001b[39m]:\n",
      "\u001b[0;31mKeyboardInterrupt\u001b[0m: "
     ]
    }
   ],
   "source": [
    "#a(n)=(1504170715041707×n)mod4503599627370517\n",
    "a = 1\n",
    "euler_coin=[1504170715041707]\n",
    "while True:\n",
    "    new_value = (1504170715041707*a)%4503599627370517\n",
    "    if new_value<euler_coin[-1]:\n",
    "        euler_coin.append(new_value)\n",
    "    if euler_coin[-1]==0:\n",
    "        break\n",
    "    a+=1\n",
    "sum = 0\n",
    "for i in euler_coin:\n",
    "    sum+=i\n",
    "print(sum)\n",
    "    "
   ]
  }
 ],
 "metadata": {
  "kernelspec": {
   "display_name": "Python 3",
   "language": "python",
   "name": "python3"
  },
  "language_info": {
   "codemirror_mode": {
    "name": "ipython",
    "version": 3
   },
   "file_extension": ".py",
   "mimetype": "text/x-python",
   "name": "python",
   "nbconvert_exporter": "python",
   "pygments_lexer": "ipython3",
   "version": "3.12.8"
  }
 },
 "nbformat": 4,
 "nbformat_minor": 2
}
