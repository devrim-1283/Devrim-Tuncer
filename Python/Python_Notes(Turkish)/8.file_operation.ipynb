{
 "cells": [
  {
   "cell_type": "markdown",
   "metadata": {},
   "source": [
    "# FİLE OPERATİONS\n",
    "Pythonda bir dosya açmak için open() fonksiyonunu kullanırız bu fonksiyonun ilk parametresi açaçağımız dosyanın adı uzantısı information.txt  ikinci parametresi dosya açma kipini burada w write ile açabiliriz w kipi dosyayı açmaya yarar eğer öyle bir dosya yoksa dosyayı açar varsa dosyayı siler yeniden açar bu çok tehlikelidir anlayacağın üzere dikakt edilmesi gerekli ikinci kipimiz a kiği append demek bu daha iyi bir seçenek çünkü dosya yoksa açmaya var ise de var olan dosyaya yazmamızı sağlar mouse en sona gider yazmak için de .write() fonksiyonunu kullanırız open fonksiyonunun bir diğer parametresi de encoding=\"utf-8\" parametresi bu parametre ile içine türkçe karakterler yazabiliriz dosyanın. dosyamızı yazdıktan sonra .close fonksiyonu kullanmalıyız yoksa dosyamız açık kalır bu da sistem kaynakları açısından sıkıntılıdır."
   ]
  },
  {
   "cell_type": "code",
   "execution_count": 56,
   "metadata": {},
   "outputs": [],
   "source": [
    "file = open(\"/home/devrim/Desktop/readme.txt\",\"w\",encoding=\"utf-8\")"
   ]
  },
  {
   "cell_type": "code",
   "execution_count": 57,
   "metadata": {},
   "outputs": [
    {
     "data": {
      "text/plain": [
       "13"
      ]
     },
     "execution_count": 57,
     "metadata": {},
     "output_type": "execute_result"
    }
   ],
   "source": [
    "file.write(\"Devrim Tunçer\")"
   ]
  },
  {
   "cell_type": "code",
   "execution_count": 58,
   "metadata": {},
   "outputs": [],
   "source": [
    "file.close()"
   ]
  },
  {
   "cell_type": "code",
   "execution_count": 59,
   "metadata": {},
   "outputs": [],
   "source": [
    "file = open(\"/home/devrim/Desktop/readme.txt\",\"a\")"
   ]
  },
  {
   "cell_type": "code",
   "execution_count": 60,
   "metadata": {},
   "outputs": [
    {
     "data": {
      "text/plain": [
       "13"
      ]
     },
     "execution_count": 60,
     "metadata": {},
     "output_type": "execute_result"
    }
   ],
   "source": [
    "file.write(\"deneme 1 2 3 \")"
   ]
  },
  {
   "cell_type": "code",
   "execution_count": 61,
   "metadata": {},
   "outputs": [],
   "source": [
    "file.close()"
   ]
  },
  {
   "cell_type": "code",
   "execution_count": 62,
   "metadata": {},
   "outputs": [],
   "source": [
    "file = open(\"/home/devrim/Desktop/readme.txt\",\"a\",encoding=\"utf-8\")"
   ]
  },
  {
   "cell_type": "code",
   "execution_count": 63,
   "metadata": {},
   "outputs": [
    {
     "data": {
      "text/plain": [
       "11"
      ]
     },
     "execution_count": 63,
     "metadata": {},
     "output_type": "execute_result"
    }
   ],
   "source": [
    "file.write(\"\\nAslan Kedi\")"
   ]
  },
  {
   "cell_type": "code",
   "execution_count": 64,
   "metadata": {},
   "outputs": [],
   "source": [
    "file.close()"
   ]
  },
  {
   "cell_type": "markdown",
   "metadata": {},
   "source": [
    "### DOSYA OKUMA İŞLEMLERİ\n",
    "Bunun için kullanacağımız kip \"r\" kipi: \"r\" kipi ile okumak istediğimiz dosya varsa işlemlerimize başlayabiliriz eğer yoksa FileNotFoundError döndürür. Bu hatayı try except ile giderebiliriz. Dosyamızı \"r\" kipi ile açtıktan sonra 4 farklı okuma yöntemimiz var. Bu arada yukarıda oluşturduğumuz file değişkeni aslında imleç görevi görür ne demek istediğimi şimdi örneklerde anlayacaksın. İlk okuma yöntemi for for i in file yaptığımız zaman satır satır okuma yapabiliriz. İkinci yöntemimiz .read() fonksiyonu bunu bir değişkene atıp değişkeni yazdırırsak tüm dosyayı yazdırırız. Üçüncü yöntemimiz .readline() fonksiyonu buradada bu readline fonksiyonu her çalıştırdığımızda bir satırı okumamızı sağlar. Dördüncü okuma yöntemimiz ise .readlines() readline dan farkı tüm satırları bir listeye atar ve o listeyi döndürür."
   ]
  },
  {
   "cell_type": "code",
   "execution_count": 65,
   "metadata": {},
   "outputs": [],
   "source": [
    "file = open(\"/home/devrim/Desktop/readme.txt\",\"r\",encoding=\"utf-8\")\n"
   ]
  },
  {
   "cell_type": "code",
   "execution_count": 66,
   "metadata": {},
   "outputs": [],
   "source": [
    "file.close()"
   ]
  },
  {
   "cell_type": "code",
   "execution_count": 67,
   "metadata": {},
   "outputs": [
    {
     "ename": "FileNotFoundError",
     "evalue": "[Errno 2] No such file or directory: '/home/devrim/Desktop/readme2.txt'",
     "output_type": "error",
     "traceback": [
      "\u001b[0;31m---------------------------------------------------------------------------\u001b[0m",
      "\u001b[0;31mFileNotFoundError\u001b[0m                         Traceback (most recent call last)",
      "Cell \u001b[0;32mIn[67], line 1\u001b[0m\n\u001b[0;32m----> 1\u001b[0m file \u001b[38;5;241m=\u001b[39m \u001b[38;5;28;43mopen\u001b[39;49m\u001b[43m(\u001b[49m\u001b[38;5;124;43m\"\u001b[39;49m\u001b[38;5;124;43m/home/devrim/Desktop/readme2.txt\u001b[39;49m\u001b[38;5;124;43m\"\u001b[39;49m\u001b[43m,\u001b[49m\u001b[38;5;124;43m\"\u001b[39;49m\u001b[38;5;124;43mr\u001b[39;49m\u001b[38;5;124;43m\"\u001b[39;49m\u001b[43m)\u001b[49m\n",
      "File \u001b[0;32m/var/data/python/lib/python3.12/site-packages/IPython/core/interactiveshell.py:324\u001b[0m, in \u001b[0;36m_modified_open\u001b[0;34m(file, *args, **kwargs)\u001b[0m\n\u001b[1;32m    317\u001b[0m \u001b[38;5;28;01mif\u001b[39;00m file \u001b[38;5;129;01min\u001b[39;00m {\u001b[38;5;241m0\u001b[39m, \u001b[38;5;241m1\u001b[39m, \u001b[38;5;241m2\u001b[39m}:\n\u001b[1;32m    318\u001b[0m     \u001b[38;5;28;01mraise\u001b[39;00m \u001b[38;5;167;01mValueError\u001b[39;00m(\n\u001b[1;32m    319\u001b[0m         \u001b[38;5;124mf\u001b[39m\u001b[38;5;124m\"\u001b[39m\u001b[38;5;124mIPython won\u001b[39m\u001b[38;5;124m'\u001b[39m\u001b[38;5;124mt let you open fd=\u001b[39m\u001b[38;5;132;01m{\u001b[39;00mfile\u001b[38;5;132;01m}\u001b[39;00m\u001b[38;5;124m by default \u001b[39m\u001b[38;5;124m\"\u001b[39m\n\u001b[1;32m    320\u001b[0m         \u001b[38;5;124m\"\u001b[39m\u001b[38;5;124mas it is likely to crash IPython. If you know what you are doing, \u001b[39m\u001b[38;5;124m\"\u001b[39m\n\u001b[1;32m    321\u001b[0m         \u001b[38;5;124m\"\u001b[39m\u001b[38;5;124myou can use builtins\u001b[39m\u001b[38;5;124m'\u001b[39m\u001b[38;5;124m open.\u001b[39m\u001b[38;5;124m\"\u001b[39m\n\u001b[1;32m    322\u001b[0m     )\n\u001b[0;32m--> 324\u001b[0m \u001b[38;5;28;01mreturn\u001b[39;00m \u001b[43mio_open\u001b[49m\u001b[43m(\u001b[49m\u001b[43mfile\u001b[49m\u001b[43m,\u001b[49m\u001b[43m \u001b[49m\u001b[38;5;241;43m*\u001b[39;49m\u001b[43margs\u001b[49m\u001b[43m,\u001b[49m\u001b[43m \u001b[49m\u001b[38;5;241;43m*\u001b[39;49m\u001b[38;5;241;43m*\u001b[39;49m\u001b[43mkwargs\u001b[49m\u001b[43m)\u001b[49m\n",
      "\u001b[0;31mFileNotFoundError\u001b[0m: [Errno 2] No such file or directory: '/home/devrim/Desktop/readme2.txt'"
     ]
    }
   ],
   "source": [
    "file = open(\"/home/devrim/Desktop/readme2.txt\",\"r\")"
   ]
  },
  {
   "cell_type": "code",
   "execution_count": 68,
   "metadata": {},
   "outputs": [
    {
     "name": "stdout",
     "output_type": "stream",
     "text": [
      "File not found\n"
     ]
    }
   ],
   "source": [
    "try:\n",
    "    file = open(\"/home/devrim/Desktop/readme2.txt\",\"r\",encoding=\"utf-8\")\n",
    "    file.close()\n",
    "except FileNotFoundError:\n",
    "    print(\"File not found\")\n"
   ]
  },
  {
   "cell_type": "code",
   "execution_count": 69,
   "metadata": {},
   "outputs": [
    {
     "name": "stdout",
     "output_type": "stream",
     "text": [
      "Devrim Tunçerdeneme 1 2 3 \n",
      "\n",
      "Aslan Kedi\n"
     ]
    }
   ],
   "source": [
    "file = open(\"/home/devrim/Desktop/readme.txt\",\"r\",encoding=\"utf8\")\n",
    "\n",
    "for i in file:\n",
    "    print(i)\n",
    "file.close()"
   ]
  },
  {
   "cell_type": "code",
   "execution_count": 70,
   "metadata": {},
   "outputs": [
    {
     "name": "stdout",
     "output_type": "stream",
     "text": [
      "Devrim Tunçerdeneme 1 2 3 \n",
      "Aslan Kedi"
     ]
    }
   ],
   "source": [
    "file = open(\"/home/devrim/Desktop/readme.txt\",\"r\",encoding=\"utf-8\")\n",
    "for line in file:\n",
    "    print(line,end=\"\")\n",
    "file.close()"
   ]
  },
  {
   "cell_type": "code",
   "execution_count": 71,
   "metadata": {},
   "outputs": [
    {
     "name": "stdout",
     "output_type": "stream",
     "text": [
      "Devrim Tunçerdeneme 1 2 3 \n",
      "Aslan Kedi\n"
     ]
    }
   ],
   "source": [
    "file = open(\"/home/devrim/Desktop/readme.txt\",\"r\",encoding=\"utf-8\")\n",
    "\n",
    "content = file.read()\n",
    "\n",
    "print(content)\n",
    "\n",
    "file.close()"
   ]
  },
  {
   "cell_type": "code",
   "execution_count": 72,
   "metadata": {},
   "outputs": [
    {
     "name": "stdout",
     "output_type": "stream",
     "text": [
      "Devrim Tunçerdeneme 1 2 3 \n",
      "\n"
     ]
    }
   ],
   "source": [
    "file = open(\"/home/devrim/Desktop/readme.txt\",\"r\",encoding=\"utf-8\")\n",
    "\n",
    "content = file.readline()\n",
    "\n",
    "print(content)\n",
    "\n",
    "file.close()"
   ]
  },
  {
   "cell_type": "code",
   "execution_count": 73,
   "metadata": {},
   "outputs": [
    {
     "name": "stdout",
     "output_type": "stream",
     "text": [
      "Devrim Tunçerdeneme 1 2 3 \n",
      "\n",
      "Aslan Kedi\n",
      "-----------------------\n",
      "\n",
      "\n"
     ]
    }
   ],
   "source": [
    "file = open(\"/home/devrim/Desktop/readme.txt\",\"r\",encoding=\"utf-8\")\n",
    "\n",
    "print(file.readline())\n",
    "print(file.readline())\n",
    "print(\"-----------------------\")\n",
    "print(file.readline())\n",
    "print(file.readline())\n",
    "file.close()"
   ]
  },
  {
   "cell_type": "code",
   "execution_count": 74,
   "metadata": {},
   "outputs": [
    {
     "name": "stdout",
     "output_type": "stream",
     "text": [
      "['Devrim Tunçerdeneme 1 2 3 \\n', 'Aslan Kedi']\n"
     ]
    }
   ],
   "source": [
    "file = open(\"/home/devrim/Desktop/readme.txt\",\"r\",encoding=\"utf-8\")\n",
    "\n",
    "list_of_content = file.readlines()\n",
    "\n",
    "print(list_of_content)\n",
    "file.close()"
   ]
  },
  {
   "cell_type": "markdown",
   "metadata": {},
   "source": [
    "### FİLE FUNCTİONS\n",
    "sürekli file.close() yazmak sıkıcı olabilir veya unutabiliriz. Bunun için harika bir yol var.\n",
    "\n",
    "with open() as file:\n",
    "\n",
    "    file.read()\n",
    "\n",
    "bu daha pratik ve kullanılması güzel. Konumuza devam edelim. .tell() fonksiyonu ile file imlecimizin kaçıncı byte olduğunu .seek() fonksiyonu ile de file imleci istediğimiz yere götürebiliriz. .read() fonksiyonunun içine girdiğimiz değer kadar byte okur."
   ]
  },
  {
   "cell_type": "code",
   "execution_count": 75,
   "metadata": {},
   "outputs": [
    {
     "name": "stdout",
     "output_type": "stream",
     "text": [
      "0\n",
      "çerdeneme \n",
      "21\n"
     ]
    }
   ],
   "source": [
    "with open(\"/home/devrim/Desktop/readme.txt\",\"r\",encoding=\"utf-8\") as file:\n",
    "    print(file.tell())\n",
    "    file.seek(10)\n",
    "    print(file.read(10))\n",
    "    print(file.tell())"
   ]
  },
  {
   "cell_type": "code",
   "execution_count": 88,
   "metadata": {},
   "outputs": [
    {
     "name": "stdout",
     "output_type": "stream",
     "text": [
      "0\n",
      "i üzerine \n",
      "0\n"
     ]
    }
   ],
   "source": [
    "with open(\"/home/devrim/Desktop/readme.txt\",\"r\",encoding=\"utf-8\") as file:\n",
    "    print(file.tell())\n",
    "    file.seek(10)\n",
    "    print(file.read(10))\n",
    "    file.seek(0)\n",
    "    print(file.tell())"
   ]
  },
  {
   "cell_type": "markdown",
   "metadata": {},
   "source": [
    "Bir diğer kipimiz \"r+\" kipi bu hem dosyayı okumamızı hem yazmamızı sağlar. Aşağıdaki örneklerde dosyanın sonuna başına ortasına nasıl yazdırma işlemi yapacağımızı gösterir."
   ]
  },
  {
   "cell_type": "code",
   "execution_count": 89,
   "metadata": {},
   "outputs": [
    {
     "name": "stdout",
     "output_type": "stream",
     "text": [
      "Maymun Kedi üzerine yazdıMaymun KediPamuk Kedi\n",
      "New File:\n",
      "Maymun Kedüzerine yazdııMaymun KediPamuk Kedi\n"
     ]
    }
   ],
   "source": [
    "with open(\"/home/devrim/Desktop/readme.txt\",\"r+\",encoding=\"utf-8\") as file:\n",
    "    print(file.read())\n",
    "    file.seek(10)\n",
    "    file.write(\"üzerine yazdı\")\n",
    "    print(\"New File:\")\n",
    "    file.seek(0)\n",
    "    print(file.read())"
   ]
  },
  {
   "cell_type": "code",
   "execution_count": 90,
   "metadata": {},
   "outputs": [
    {
     "name": "stdout",
     "output_type": "stream",
     "text": [
      "Maymun Kedüzerine yazdııMaymun KediPamuk KediMaymun Kedi\n"
     ]
    }
   ],
   "source": [
    "# Sonun yazna\n",
    "with open(\"/home/devrim/Desktop/readme.txt\",\"a\",encoding=\"utf-8\") as file:\n",
    "    file.write(\"Maymun Kedi\")\n",
    "    file.seek(0)\n",
    "with open(\"/home/devrim/Desktop/readme.txt\",\"r\",encoding=\"utf-8\") as file:\n",
    "    print(file.read())"
   ]
  },
  {
   "cell_type": "code",
   "execution_count": 91,
   "metadata": {},
   "outputs": [
    {
     "name": "stdout",
     "output_type": "stream",
     "text": [
      "Maymun Kedi Maymun Kedüzerine yazdııMaymun KediPamuk KediMaymun Kedi\n"
     ]
    }
   ],
   "source": [
    "#Başına yazma\n",
    "\n",
    "with open (\"/home/devrim/Desktop/readme.txt\",\"r+\",encoding=\"utf-8\") as file:\n",
    "    string = file.read()\n",
    "    string = \"Maymun Kedi \" + string\n",
    "    file.seek(0)\n",
    "    file.write(string)\n",
    "with open(\"/home/devrim/Desktop/readme.txt\",\"r+\",encoding=\"utf-8\") as file:\n",
    "    print(file.read())"
   ]
  },
  {
   "cell_type": "code",
   "execution_count": 92,
   "metadata": {},
   "outputs": [
    {
     "name": "stdout",
     "output_type": "stream",
     "text": [
      "Maymun Kedi Maymun Kedüzerine yazdııMaymun KediPamuk KediMaymun KediPamuk Kedi\n"
     ]
    }
   ],
   "source": [
    "#Ortasına Yazma\n",
    "\n",
    "with open(\"/home/devrim/Desktop/readme.txt\",\"r+\",encoding=\"utf-8\") as file:\n",
    "    list_lines = file.readlines()\n",
    "    file.seek(0)\n",
    "    list_lines.insert(3,\"Pamuk Kedi\")\n",
    "\n",
    "    for line in list_lines:\n",
    "        file.write(line)\n",
    "\n",
    "with open(\"/home/devrim/Desktop/readme.txt\",\"r+\",encoding=\"utf-8\") as file:\n",
    "    print(file.read())"
   ]
  }
 ],
 "metadata": {
  "kernelspec": {
   "display_name": "Python 3",
   "language": "python",
   "name": "python3"
  },
  "language_info": {
   "codemirror_mode": {
    "name": "ipython",
    "version": 3
   },
   "file_extension": ".py",
   "mimetype": "text/x-python",
   "name": "python",
   "nbconvert_exporter": "python",
   "pygments_lexer": "ipython3",
   "version": "3.12.7"
  }
 },
 "nbformat": 4,
 "nbformat_minor": 2
}
