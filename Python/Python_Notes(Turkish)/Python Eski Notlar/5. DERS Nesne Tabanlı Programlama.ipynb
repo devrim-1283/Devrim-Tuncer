{
 "cells": [
  {
   "cell_type": "code",
   "execution_count": 360,
   "id": "6d223b9a",
   "metadata": {},
   "outputs": [],
   "source": [
    "\"\"\"\n",
    "Nesne Tabanlı Programlama Mantığı\n",
    "Bu konuyla beraber Nesne Tabanlı Programlamaya giriş yapıyoruz ve bu konuda biraz Nesne Tabanlı\n",
    "programlama hakkında konuşacağız. Nesne Tabanlı Programlama veya ingilizce ismiyle \n",
    "** Object Oriented Programming** en basit anlamıyla gerçek hayatı programlamaya uyarlamak \n",
    "olarak düşünülebilir. Örneğin bir tane öğrenci otomasyon sistemi yazmak istiyoruz. Bunun \n",
    "için öğretmenleri , öğrencileri ve kursları aslında birer nesne olarak oluşturmamız gerekiyor.\n",
    "Böyle bir sistemi programlamayla gerçekleştirmek için aslında her bir nesnenin yapısını tanımlayıp,\n",
    "daha sonra bu yapılardan nesneler üretmemiz gerekiyor. İşte Nesne Tabanlı Programlama en basit anlamıyla\n",
    "bu şekildedir. Şimdi isterseniz obje veya nesne nedir anlamaya çalışalım.\n",
    "\n",
    "Obje nedir ?\n",
    "Etrafımıza baktığımızda aslında her bir eşyanın bir obje olduğunu görüyoruz. Örneğin bir tane televizyon \n",
    "kumandasını düşünelim. Bu kumandanın kendi içinde değişik özellikleri (attribute) ve \n",
    "fonksiyonları(metod) bulunuyor. Örneğin, kumandanın markası, tuşları aslında bu kumandanın \n",
    "özellikleridir(attribute). Kumandanın kırmızı tuşuna bastığımızda televizyonun kapanması ve\n",
    "sesi kapatma tuşuna bastığımızda televizyonun sesinin kapanması bu kumandanın metodlarıdır.\n",
    "Bunun gibi Pythondaki aslında her şey bir objedir. Örneğin, listelere bakacak olursak bu \n",
    "liste objelerinin aslında birçok metodu ve özelliği bulunur.\n",
    "\"\"\"\n",
    "liste = [1,2,3,4,5]  # Liste objesi oluşturmak"
   ]
  },
  {
   "cell_type": "code",
   "execution_count": 361,
   "id": "2f0a79f8",
   "metadata": {},
   "outputs": [
    {
     "name": "stdout",
     "output_type": "stream",
     "text": [
      "[1, 2, 3, 4, 5, 6]\n"
     ]
    }
   ],
   "source": [
    "liste.append(6) # Append metodu\n",
    "\n",
    "print(liste)"
   ]
  },
  {
   "cell_type": "code",
   "execution_count": 362,
   "id": "4ece8690",
   "metadata": {},
   "outputs": [
    {
     "data": {
      "text/plain": [
       "list"
      ]
     },
     "execution_count": 362,
     "metadata": {},
     "output_type": "execute_result"
    }
   ],
   "source": [
    "type(liste) # liste objesi"
   ]
  },
  {
   "cell_type": "code",
   "execution_count": 363,
   "id": "ec1abc78",
   "metadata": {},
   "outputs": [],
   "source": [
    "sözlük = dict()"
   ]
  },
  {
   "cell_type": "code",
   "execution_count": 364,
   "id": "ed663d1e",
   "metadata": {},
   "outputs": [
    {
     "data": {
      "text/plain": [
       "dict"
      ]
     },
     "execution_count": 364,
     "metadata": {},
     "output_type": "execute_result"
    }
   ],
   "source": [
    "type(sözlük) # dictionary objesi"
   ]
  },
  {
   "cell_type": "code",
   "execution_count": 365,
   "id": "b3b6fcee",
   "metadata": {},
   "outputs": [
    {
     "data": {
      "text/plain": [
       "tuple"
      ]
     },
     "execution_count": 365,
     "metadata": {},
     "output_type": "execute_result"
    }
   ],
   "source": [
    "type((1,2,3,4)) # tuple objesi"
   ]
  },
  {
   "cell_type": "code",
   "execution_count": 366,
   "id": "4d8fca0b",
   "metadata": {},
   "outputs": [],
   "source": [
    "def toplama(a,b):\n",
    "    return a + b"
   ]
  },
  {
   "cell_type": "code",
   "execution_count": 367,
   "id": "6ba3776d",
   "metadata": {},
   "outputs": [
    {
     "data": {
      "text/plain": [
       "function"
      ]
     },
     "execution_count": 367,
     "metadata": {},
     "output_type": "execute_result"
    }
   ],
   "source": [
    "type(toplama) # Fonksiyon objesi"
   ]
  },
  {
   "cell_type": "code",
   "execution_count": 368,
   "id": "f7edfd2c",
   "metadata": {},
   "outputs": [],
   "source": [
    "\"\"\"\n",
    "Nesne Tabanlı Programlama - Sınıflar\n",
    "Bu konuda artık kendi veri tiplerimizi ve objelerimizi üretmeye başlayacağız.\n",
    "\n",
    "Kendi veri tiplerimizi oluşturmak ve bu veri tiplerinden objeler üretmemiz için öncelikle\n",
    "objeleri üreteceğimiz yapıyı tanımlamamız gerekiyor. Bunu tasarladığımız yapıya da sınıf \n",
    "veya ingilizce ismiyle class diyoruz. Şimdi class yapılarını öğrenerek konumuza başlayalım.\n",
    "\n",
    "Class Anahtar Kelimesi\n",
    "Sınıflar veya Classlar objelerimizi oluştururken objelerin özelliklerini ve metodlarını tanımladığımız \n",
    "bir yapıdır ve biz herbir objeyi bu yapıya göre üretiriz. İsterseniz bir Araba classı tanımlayarak \n",
    "yapımızı kurmaya başlayalım.\n",
    "\"\"\"\n",
    "#  Yeni bir Araba veri tipi oluşturuyoruz.\n",
    "class Araba():\n",
    "    model =  \"Renault Megane\"\n",
    "    renk = \"Gümüş\"            # Sınıfımızın özellikleri (attributes)\n",
    "    beygir_gücü = 110\n",
    "    silindir = 4\n",
    "    \n",
    "    "
   ]
  },
  {
   "cell_type": "code",
   "execution_count": 369,
   "id": "e9e30be4",
   "metadata": {},
   "outputs": [],
   "source": [
    "\"\"\"\n",
    "Sınıfımızı Pythonda tanımladık. Peki bu sınıftan obje nasıl oluşturacağız ? Bunu da şu şekilde yapabiliyoruz.\n",
    "\n",
    "------------------------------------------------------------------------------------------------\n",
    "     obje_ismi = Sınıf_İsmi(parametreler(opsiyonel))\n",
    "     \n",
    "--------------------------------------------------------------------------------------------------\n",
    "\"\"\"\n",
    "araba1 =  Araba() # Araba veri tipinden bir \"araba1\" isminde bir obje oluşturduk."
   ]
  },
  {
   "cell_type": "code",
   "execution_count": 370,
   "id": "d91f2717",
   "metadata": {},
   "outputs": [
    {
     "data": {
      "text/plain": [
       "<__main__.Araba at 0x1ff9dd78d10>"
      ]
     },
     "execution_count": 370,
     "metadata": {},
     "output_type": "execute_result"
    }
   ],
   "source": [
    "araba1 # Objemizin veri tipi Araba"
   ]
  },
  {
   "cell_type": "code",
   "execution_count": 371,
   "id": "5ec0ca1c",
   "metadata": {},
   "outputs": [
    {
     "data": {
      "text/plain": [
       "__main__.Araba"
      ]
     },
     "execution_count": 371,
     "metadata": {},
     "output_type": "execute_result"
    }
   ],
   "source": [
    "type(araba1)"
   ]
  },
  {
   "cell_type": "code",
   "execution_count": 372,
   "id": "0a49a530",
   "metadata": {},
   "outputs": [
    {
     "data": {
      "text/plain": [
       "'Renault Megane'"
      ]
     },
     "execution_count": 372,
     "metadata": {},
     "output_type": "execute_result"
    }
   ],
   "source": [
    "\"\"\"\n",
    "araba1 objesi artık sınıfta tanımladığımız bütün özelliklere (attributes) sahip olmuş oldu.\n",
    "İşte sınıf ve obje üretmek bu şekilde olmaktadır. Peki bu araba objesinin özelliklerinin nasıl görebiliriz ?\n",
    "\n",
    "-----------------------------------------------------------------------------------------------------------\n",
    "------------------------------------------------------------------------------------------------------------\n",
    "\"\"\"\n",
    "araba1.model"
   ]
  },
  {
   "cell_type": "code",
   "execution_count": 373,
   "id": "4c245d58",
   "metadata": {},
   "outputs": [
    {
     "data": {
      "text/plain": [
       "'Gümüş'"
      ]
     },
     "execution_count": 373,
     "metadata": {},
     "output_type": "execute_result"
    }
   ],
   "source": [
    "araba1.renk"
   ]
  },
  {
   "cell_type": "code",
   "execution_count": 374,
   "id": "157e2b5a",
   "metadata": {},
   "outputs": [
    {
     "data": {
      "text/plain": [
       "110"
      ]
     },
     "execution_count": 374,
     "metadata": {},
     "output_type": "execute_result"
    }
   ],
   "source": [
    "araba1.beygir_gücü"
   ]
  },
  {
   "cell_type": "code",
   "execution_count": 375,
   "id": "c9dc0213",
   "metadata": {},
   "outputs": [
    {
     "data": {
      "text/plain": [
       "4"
      ]
     },
     "execution_count": 375,
     "metadata": {},
     "output_type": "execute_result"
    }
   ],
   "source": [
    "araba1.silindir"
   ]
  },
  {
   "cell_type": "code",
   "execution_count": 376,
   "id": "fb899bee",
   "metadata": {},
   "outputs": [],
   "source": [
    "araba2 =  Araba()"
   ]
  },
  {
   "cell_type": "code",
   "execution_count": 377,
   "id": "66de8836",
   "metadata": {},
   "outputs": [
    {
     "data": {
      "text/plain": [
       "'Renault Megane'"
      ]
     },
     "execution_count": 377,
     "metadata": {},
     "output_type": "execute_result"
    }
   ],
   "source": [
    "araba2.model"
   ]
  },
  {
   "cell_type": "code",
   "execution_count": 378,
   "id": "77012551",
   "metadata": {},
   "outputs": [
    {
     "data": {
      "text/plain": [
       "'Gümüş'"
      ]
     },
     "execution_count": 378,
     "metadata": {},
     "output_type": "execute_result"
    }
   ],
   "source": [
    "araba2.renk"
   ]
  },
  {
   "cell_type": "code",
   "execution_count": 379,
   "id": "ffa24a0e",
   "metadata": {},
   "outputs": [
    {
     "data": {
      "text/plain": [
       "110"
      ]
     },
     "execution_count": 379,
     "metadata": {},
     "output_type": "execute_result"
    }
   ],
   "source": [
    "araba2.beygir_gücü"
   ]
  },
  {
   "cell_type": "code",
   "execution_count": 380,
   "id": "689e2c4e",
   "metadata": {},
   "outputs": [
    {
     "data": {
      "text/plain": [
       "4"
      ]
     },
     "execution_count": 380,
     "metadata": {},
     "output_type": "execute_result"
    }
   ],
   "source": [
    "araba2.silindir"
   ]
  },
  {
   "cell_type": "code",
   "execution_count": 381,
   "id": "c37123b6",
   "metadata": {},
   "outputs": [
    {
     "data": {
      "text/plain": [
       "'Gümüş'"
      ]
     },
     "execution_count": 381,
     "metadata": {},
     "output_type": "execute_result"
    }
   ],
   "source": [
    "\"\"\"\n",
    "Burda gördüğümüz gibi oluşturduğumuz objelerin buradaki model,renk vs. gibi özelliklerinin değeri aynıdır. \n",
    "Çünkü aslında burada tanımladığımız özellikler birer sınıf özelliğidir. Yani biz bir obje oluşturduğumuzda\n",
    "bu özelliklerin değerleri varsayılan olarak gelir. Bu özelliklerin değerlerine , herhangi bir obje\n",
    "oluşturmadan da erişebiliriz. Bunu da şu şekilde yapabiliriz.\n",
    "\"\"\"\n",
    "Araba.renk # Class_İsmi.özellik_ismi"
   ]
  },
  {
   "cell_type": "code",
   "execution_count": 382,
   "id": "43ceb6f3",
   "metadata": {},
   "outputs": [
    {
     "data": {
      "text/plain": [
       "110"
      ]
     },
     "execution_count": 382,
     "metadata": {},
     "output_type": "execute_result"
    }
   ],
   "source": [
    "Araba.beygir_gücü"
   ]
  },
  {
   "cell_type": "code",
   "execution_count": 383,
   "id": "aa777f15",
   "metadata": {},
   "outputs": [
    {
     "data": {
      "text/plain": [
       "['__class__',\n",
       " '__delattr__',\n",
       " '__dict__',\n",
       " '__dir__',\n",
       " '__doc__',\n",
       " '__eq__',\n",
       " '__format__',\n",
       " '__ge__',\n",
       " '__getattribute__',\n",
       " '__getstate__',\n",
       " '__gt__',\n",
       " '__hash__',\n",
       " '__init__',\n",
       " '__init_subclass__',\n",
       " '__le__',\n",
       " '__lt__',\n",
       " '__module__',\n",
       " '__ne__',\n",
       " '__new__',\n",
       " '__reduce__',\n",
       " '__reduce_ex__',\n",
       " '__repr__',\n",
       " '__setattr__',\n",
       " '__sizeof__',\n",
       " '__str__',\n",
       " '__subclasshook__',\n",
       " '__weakref__',\n",
       " 'beygir_gücü',\n",
       " 'model',\n",
       " 'renk',\n",
       " 'silindir']"
      ]
     },
     "execution_count": 383,
     "metadata": {},
     "output_type": "execute_result"
    }
   ],
   "source": [
    "\"\"\"\n",
    "Bizim her bir objeyi başlangıçta farklı değerlerle oluşturmamız için her bir objeyi oluştururken \n",
    "objelerin değerlerini göndermemiz gerekiyor. Bunun için de özel bir metodu kullanmamız gerekmektedir.\n",
    "------------------------------- init() ----------------------------------------------------------\n",
    "Peki bu metod ne anlama geliyor ? İsterseniz ilk olarak dir() fonksiyonu yardımıyla araba1 objemizde \n",
    "neler var bakalım.\n",
    "\"\"\"\n",
    "dir(araba1)"
   ]
  },
  {
   "cell_type": "code",
   "execution_count": 384,
   "id": "bbc3932e",
   "metadata": {},
   "outputs": [],
   "source": [
    "\"\"\"\n",
    "Burada objemizin tüm özelliklerini ve metodlarını görüyoruz. Ancak biz herhangi \n",
    "bir metod tanımlamamıştır. Buradaki metodlar Python tarafından bir obje oluşturulduğunda\n",
    "özel olarak tanımlanan metodlardır ve biz eğer özel olarak bunları tanımlamazsak Python\n",
    "kendisi bunları varsayılan tanımlıyor. Burada aynı zamanda init metodunu da görüyoruz. \n",
    "Eğer biz bu metodu kendimiz tanımlarsak objelerimizi farklı değerlerle başlatabiliriz.\n",
    "\n",
    "Aslında init metodu Pythonda yapıcı(constructor ) fonksiyon olarak tanımlanmaktadır. \n",
    "Bu metod objelerimiz oluşturulurken otomatik olarak ilk çağrılan fonksiyondur. Bu metodu\n",
    "özel olarak tanımlayarak objelerimizi farklı değerlerle oluşturabiliriz.\n",
    "\n",
    "Peki bu metodu nasıl tanımlayacağız ? Direk örnek üzerinden görmeye çalışalım\n",
    "\"\"\"\n",
    "# Araba Veri tipi \n",
    "\n",
    "class Araba():\n",
    "    # Şimdilik Class özelliklerine ihtiyacımız yok.\n",
    "    \n",
    "    def __init__(self):\n",
    "        print(\"init fonksiyonu çağrıldı.\")\n",
    "        "
   ]
  },
  {
   "cell_type": "code",
   "execution_count": 385,
   "id": "c2412a0d",
   "metadata": {},
   "outputs": [
    {
     "name": "stdout",
     "output_type": "stream",
     "text": [
      "init fonksiyonu çağrıldı.\n"
     ]
    }
   ],
   "source": [
    "araba1 = Araba() # araba1 objesi oluşurken otomatik olarak __init__ metodumuz çağrılıyor."
   ]
  },
  {
   "cell_type": "code",
   "execution_count": 386,
   "id": "db31d235",
   "metadata": {},
   "outputs": [],
   "source": [
    "\"\"\"\n",
    "Peki burada self ne anlama geliyor ? self anahtar kelimesi objeyi oluşturduğumuz \n",
    "zaman o objeyi gösteren bir referanstır ve metodlarımızda en başta bulunması \n",
    "gereken bir parametredir. Yani biz bir objenin bütün özelliklerini ve metodlarını\n",
    "bu referans üzerinden kullanabiliriz.\n",
    "\n",
    "Objeler oluşturulurken, Python bu referansı metodlara otomatik olarak kendisi \n",
    "gönderir. Özel olarak self referansını göndermemize gerek yoktur.\n",
    "\n",
    "**init metodunu ve self'i ** iyi anlamak için objelerimize özellikler ekleyelim.\n",
    "\"\"\"\n",
    "class Araba():\n",
    "    \n",
    "    def __init__(self,model,renk,beygir_gücü,silindir): \n",
    "        # Parametrelerimizin değerlerini objelerimizi oluştururken göndereceğiz.\n",
    "        self.model =  model\n",
    "        # self.özellik_ismi = parametre değeri şeklinde objemizin model özelliğine değeri atıyoruz.\n",
    "        self.renk = renk \n",
    "        # self.özellik_ismi = parametre değeri şeklinde objemizin renk özelliğine değeri atıyoruz.\n",
    "        self.beygir_gücü = beygir_gücü \n",
    "        # self.özellik_ismi = parametre değeri şeklinde objemizin beygir_gücü özelliğine değeri atıyoruz.\n",
    "        self.silindir = silindir\n",
    "        # self.özellik_ismi = parametre değeri şeklinde objemizin silndir özelliğine değeri atıyoruz."
   ]
  },
  {
   "cell_type": "code",
   "execution_count": 387,
   "id": "1cb4fbb9",
   "metadata": {},
   "outputs": [],
   "source": [
    "# araba1 objesini oluşturalım.\n",
    "# Artık değerlerimizi göndererek objelerimizin özelliklerini istediğimiz değerle başlatabiliriz.\n",
    "araba1 = Araba(\"Peugeot 301\",\"Beyaz\",90,4) "
   ]
  },
  {
   "cell_type": "code",
   "execution_count": 388,
   "id": "ff64e601",
   "metadata": {},
   "outputs": [],
   "source": [
    "# araba2 objesini oluşturalım.\n",
    "araba2 = Araba(\"Renault Megane\",\"Gümüş\",110,4)"
   ]
  },
  {
   "cell_type": "code",
   "execution_count": 389,
   "id": "665e70fb",
   "metadata": {},
   "outputs": [
    {
     "data": {
      "text/plain": [
       "'Peugeot 301'"
      ]
     },
     "execution_count": 389,
     "metadata": {},
     "output_type": "execute_result"
    }
   ],
   "source": [
    "araba1.model"
   ]
  },
  {
   "cell_type": "code",
   "execution_count": 390,
   "id": "8d957ef9",
   "metadata": {},
   "outputs": [
    {
     "data": {
      "text/plain": [
       "'Beyaz'"
      ]
     },
     "execution_count": 390,
     "metadata": {},
     "output_type": "execute_result"
    }
   ],
   "source": [
    "araba1.renk"
   ]
  },
  {
   "cell_type": "code",
   "execution_count": 391,
   "id": "51d89507",
   "metadata": {},
   "outputs": [
    {
     "data": {
      "text/plain": [
       "'Renault Megane'"
      ]
     },
     "execution_count": 391,
     "metadata": {},
     "output_type": "execute_result"
    }
   ],
   "source": [
    "araba2.model"
   ]
  },
  {
   "cell_type": "code",
   "execution_count": 392,
   "id": "64651f23",
   "metadata": {},
   "outputs": [
    {
     "data": {
      "text/plain": [
       "'Gümüş'"
      ]
     },
     "execution_count": 392,
     "metadata": {},
     "output_type": "execute_result"
    }
   ],
   "source": [
    "araba2.renk"
   ]
  },
  {
   "cell_type": "code",
   "execution_count": 393,
   "id": "5fdc76dd",
   "metadata": {},
   "outputs": [],
   "source": [
    "class Araba():\n",
    "    \n",
    "    def __init__(self , model = \"Bilgi Yok\",renk = \"Bilgi Yok\",beygir_gücü = 75 ,silindirhacmi = 4): \n",
    "        self.model =  model \n",
    "        self.renk = renk \n",
    "        self.beygir_gücü = beygir_gücü \n",
    "        self.silindir1 = silindirhacmi"
   ]
  },
  {
   "cell_type": "code",
   "execution_count": 394,
   "id": "7caa388d",
   "metadata": {},
   "outputs": [],
   "source": [
    "araba1 = Araba(beygir_gücü = 85, renk = \"Siyah\");"
   ]
  },
  {
   "cell_type": "code",
   "execution_count": 395,
   "id": "313759aa",
   "metadata": {},
   "outputs": [
    {
     "data": {
      "text/plain": [
       "4"
      ]
     },
     "execution_count": 395,
     "metadata": {},
     "output_type": "execute_result"
    }
   ],
   "source": [
    "araba1.silindir1"
   ]
  },
  {
   "cell_type": "code",
   "execution_count": 396,
   "id": "33031c25",
   "metadata": {},
   "outputs": [],
   "source": [
    "araba1 = Araba(beygir_gücü = 85, renk = \"Siyah\")"
   ]
  },
  {
   "cell_type": "code",
   "execution_count": 397,
   "id": "451f9d41",
   "metadata": {},
   "outputs": [
    {
     "data": {
      "text/plain": [
       "'Siyah'"
      ]
     },
     "execution_count": 397,
     "metadata": {},
     "output_type": "execute_result"
    }
   ],
   "source": [
    "araba1.renk"
   ]
  },
  {
   "cell_type": "code",
   "execution_count": 398,
   "id": "1b6d3490",
   "metadata": {},
   "outputs": [
    {
     "data": {
      "text/plain": [
       "'Bilgi Yok'"
      ]
     },
     "execution_count": 398,
     "metadata": {},
     "output_type": "execute_result"
    }
   ],
   "source": [
    "araba1.model"
   ]
  },
  {
   "cell_type": "code",
   "execution_count": 399,
   "id": "c025b500",
   "metadata": {},
   "outputs": [],
   "source": [
    "\"\"\"\n",
    "İşte burada gördüğümüz gibi bir objeyi init metodunu kendimiz yazarak farklı değerlerle \n",
    "oluşturabiliyoruz. Bir sonraki derste objelere kendi metodlarımızı nasıl yazacağımızı öğrenmeye çalışacağız.\n",
    "\"\"\"\n",
    "class Yazılımcı():\n",
    "    \n",
    "    def __init__(self,isim,soyisim,numara,maaş,diller):\n",
    "        self.isim = isim\n",
    "        self.soyisim = soyisim\n",
    "        self.numara = numara    # Yazılımcı objelerinin özellikleri \n",
    "        self.maaş = maaş\n",
    "        self.diller = diller\n",
    "    "
   ]
  },
  {
   "cell_type": "code",
   "execution_count": 400,
   "id": "8f7fadaa",
   "metadata": {},
   "outputs": [],
   "source": [
    "# yazılımcı1 objesi\n",
    "yazılımcı1 =  Yazılımcı(\"Mustafa Murat\",\"Coşkun\",12345,3000,[\"Python\",\"C\",\"Java\"])\n"
   ]
  },
  {
   "cell_type": "code",
   "execution_count": 401,
   "id": "c4bbcf08",
   "metadata": {},
   "outputs": [],
   "source": [
    "yazılımcı2 = Yazılımcı(\"Serhat\",\"Say\",23456,3500,[\"Matlab\",\"R\",\"SmallTalk\"])"
   ]
  },
  {
   "cell_type": "code",
   "execution_count": 402,
   "id": "de26693a",
   "metadata": {},
   "outputs": [
    {
     "data": {
      "text/plain": [
       "['Python', 'C', 'Java']"
      ]
     },
     "execution_count": 402,
     "metadata": {},
     "output_type": "execute_result"
    }
   ],
   "source": [
    "yazılımcı1.diller"
   ]
  },
  {
   "cell_type": "code",
   "execution_count": 403,
   "id": "2448c0e4",
   "metadata": {},
   "outputs": [
    {
     "data": {
      "text/plain": [
       "'Say'"
      ]
     },
     "execution_count": 403,
     "metadata": {},
     "output_type": "execute_result"
    }
   ],
   "source": [
    "yazılımcı2.soyisim"
   ]
  },
  {
   "cell_type": "code",
   "execution_count": 404,
   "id": "caa438ee",
   "metadata": {},
   "outputs": [],
   "source": [
    "\"\"\"\n",
    "Önceki dersten bunların nasıl yapıldığını biliyoruz. \n",
    "Peki bu class'a metodlarımızı nasıl tanımlayabiliriz ? Aynı init metodunu tanımladığımız \n",
    "gibi bir class'a da istediğimiz kadar metod tanımlayabiliriz. Örneğin ,Yazılımcı classına \n",
    "bilgilerigöster isimli bir metod tanımlayalım.\n",
    "\"\"\"\n",
    "class Yazılımcı():\n",
    "    \n",
    "    def __init__(self,isim,soyisim,numara,maaş,diller):\n",
    "        self.isim = isim\n",
    "        self.soyisim = soyisim\n",
    "        self.numara = numara    # Yazılımcı objelerinin özellikleri \n",
    "        self.maaş = maaş\n",
    "        self.diller = diller\n",
    "    def bilgilerigöster(self):\n",
    "        print(\"\"\"\n",
    "        Çalışan Bilgisi:\n",
    "        \n",
    "        İsim :  {}\n",
    "        \n",
    "        Soyisim : {}\n",
    "        \n",
    "        Şirket Numarası: {}\n",
    "        \n",
    "        Maaş :  {}\n",
    "        \n",
    "        Diller: {}\n",
    "        \"\"\".format(self.isim,self.soyisim,self.numara,self.maaş,self.diller))\n",
    "     "
   ]
  },
  {
   "cell_type": "code",
   "execution_count": 405,
   "id": "9c7d267b",
   "metadata": {},
   "outputs": [],
   "source": [
    "yazılımcı1 =  Yazılımcı(\"Mustafa Murat\",\"Coşkun\",12345,3000,[\"Python\",\"C\",\"Java\"])"
   ]
  },
  {
   "cell_type": "code",
   "execution_count": 406,
   "id": "e9e1663e",
   "metadata": {},
   "outputs": [
    {
     "name": "stdout",
     "output_type": "stream",
     "text": [
      "\n",
      "        Çalışan Bilgisi:\n",
      "        \n",
      "        İsim :  Mustafa Murat\n",
      "        \n",
      "        Soyisim : Coşkun\n",
      "        \n",
      "        Şirket Numarası: 12345\n",
      "        \n",
      "        Maaş :  3000\n",
      "        \n",
      "        Diller: ['Python', 'C', 'Java']\n",
      "        \n"
     ]
    }
   ],
   "source": [
    "yazılımcı1.bilgilerigöster()"
   ]
  },
  {
   "cell_type": "code",
   "execution_count": 407,
   "id": "5cac7caf",
   "metadata": {},
   "outputs": [],
   "source": [
    "\"\"\"\n",
    "Burada bilgilerigöster isimli metod tanımlayarak her bir özelliğimizin değeri ekrana derli toplu bir şekilde \n",
    "yazdırmış olduk. Metodlarımızı yazarken dikkat etmemiz gerek nokta, her metodun birinci parametresinin self \n",
    "referansı olması gerektiğidir. Ayrıca objelerimizin özelliklerine mutlaka self referansıyla erişmemiz gerekiyor. \n",
    "İsterseniz bu classa 2 tane daha metod yazalım.\n",
    "\"\"\"\n",
    "class Yazılımcı():\n",
    "    \n",
    "    def __init__(self,isim,soyisim,numara,maaş,diller):\n",
    "        self.isim = isim\n",
    "        self.soyisim = soyisim\n",
    "        self.numara = numara    # Yazılımcı objelerinin özellikleri \n",
    "        self.maaş = maaş\n",
    "        self.diller = diller\n",
    "    def bilgilerigöster(self):\n",
    "        print(\"\"\"\n",
    "        Çalışan Bilgisi:\n",
    "        \n",
    "        İsim :  {}\n",
    "        \n",
    "        Soyisim : {}\n",
    "        \n",
    "        Şirket Numarası: {}\n",
    "        \n",
    "        Maaş :  {}\n",
    "        \n",
    "        Diller: {}\n",
    "        \"\"\".format(self.isim,self.soyisim,self.numara,self.maaş,self.diller))\n",
    "    def dil_ekle(self,yeni_dil):\n",
    "        print(\"Dil ekleniyor.\")\n",
    "        self.diller.append(yeni_dil)\n",
    "    def maas_yukselt(self,zam_miktarı):\n",
    "        print(\"Maaş yükseliyor...\")\n",
    "        \n",
    "        self.maaş += 250"
   ]
  },
  {
   "cell_type": "code",
   "execution_count": 408,
   "id": "09654c82",
   "metadata": {},
   "outputs": [],
   "source": [
    "yazılımcı1 =  Yazılımcı(\"Mustafa Murat\",\"Coşkun\",12345,3000,[\"Python\",\"C\",\"Java\"])"
   ]
  },
  {
   "cell_type": "code",
   "execution_count": 409,
   "id": "b6bdfd03",
   "metadata": {},
   "outputs": [
    {
     "name": "stdout",
     "output_type": "stream",
     "text": [
      "Maaş yükseliyor...\n"
     ]
    }
   ],
   "source": [
    "yazılımcı1.maas_yukselt(500)"
   ]
  },
  {
   "cell_type": "code",
   "execution_count": 410,
   "id": "e8dac4b9",
   "metadata": {},
   "outputs": [
    {
     "name": "stdout",
     "output_type": "stream",
     "text": [
      "\n",
      "        Çalışan Bilgisi:\n",
      "        \n",
      "        İsim :  Mustafa Murat\n",
      "        \n",
      "        Soyisim : Coşkun\n",
      "        \n",
      "        Şirket Numarası: 12345\n",
      "        \n",
      "        Maaş :  3250\n",
      "        \n",
      "        Diller: ['Python', 'C', 'Java']\n",
      "        \n"
     ]
    }
   ],
   "source": [
    "yazılımcı1.bilgilerigöster()"
   ]
  },
  {
   "cell_type": "code",
   "execution_count": 411,
   "id": "bf49b637",
   "metadata": {},
   "outputs": [
    {
     "name": "stdout",
     "output_type": "stream",
     "text": [
      "Dil ekleniyor.\n"
     ]
    }
   ],
   "source": [
    "yazılımcı1.dil_ekle(\"Javascript\")"
   ]
  },
  {
   "cell_type": "code",
   "execution_count": 412,
   "id": "ab89497f",
   "metadata": {},
   "outputs": [
    {
     "name": "stdout",
     "output_type": "stream",
     "text": [
      "\n",
      "        Çalışan Bilgisi:\n",
      "        \n",
      "        İsim :  Mustafa Murat\n",
      "        \n",
      "        Soyisim : Coşkun\n",
      "        \n",
      "        Şirket Numarası: 12345\n",
      "        \n",
      "        Maaş :  3250\n",
      "        \n",
      "        Diller: ['Python', 'C', 'Java', 'Javascript']\n",
      "        \n"
     ]
    }
   ],
   "source": [
    "yazılımcı1.bilgilerigöster()"
   ]
  },
  {
   "cell_type": "code",
   "execution_count": 413,
   "id": "c77932e2",
   "metadata": {},
   "outputs": [
    {
     "ename": "SyntaxError",
     "evalue": "incomplete input (2063136274.py, line 16)",
     "output_type": "error",
     "traceback": [
      "\u001b[1;36m  Cell \u001b[1;32mIn[413], line 16\u001b[1;36m\u001b[0m\n\u001b[1;33m    class çalışan():\u001b[0m\n\u001b[1;37m                    ^\u001b[0m\n\u001b[1;31mSyntaxError\u001b[0m\u001b[1;31m:\u001b[0m incomplete input\n"
     ]
    }
   ],
   "source": [
    "\"\"\"\n",
    "Nesne Tabanlı Programlama - Kalıtım (Inheritance)\n",
    "Bu konuda Nesne Tabanlı Programlamadaki inheritance(kalıtım veya miras alma) konseptini öğrenmeye çalışacağız. \n",
    "Inheritance veya kalıtım bir sınıfın başka bir sınıftan özelliklerini(attribute ) ve metodlarını miras almasıdır.\n",
    "\n",
    "Bu konsepti aslında bizim kendi anne babamızdan değişik özellikleri ve davranışları miras almamıza benzetebiliriz.\n",
    "(Hani derler ya ! Babasına çekmiş :) )\n",
    "\n",
    "Peki inheritance nerede işimize yarar ? Örneğin, bir şirketin çalışanlarını tasarlamak için sınıflar oluşturuyoruz. \n",
    "Bunun için Yönetici, Proje Direktörü, İşçi gibi sınıflar oluşturmamız gerekiyor. Aslında baktığımız zaman bu\n",
    "sınıfların hepsinin belli ortak metodları ve özellikleri bulunuyor. O zaman bu ortak özellikleri ve \n",
    "metodları tekrar tekrar bu sınıfların içinde tanımlamak yerine, bir tane ana class tanımlayıp bu classları\n",
    "bu classın özelliklerini ve metodlarını almalarını sağlayabiliriz. Inheritance'ın veya Kalıtım'ın temel\n",
    "mantığı budur.\n",
    "\"\"\"\n",
    "class çalışan():"
   ]
  },
  {
   "cell_type": "code",
   "execution_count": 83,
   "id": "3f425348",
   "metadata": {},
   "outputs": [],
   "source": [
    "class çalışan():\n",
    "    pass"
   ]
  },
  {
   "cell_type": "code",
   "execution_count": 84,
   "id": "8d7a1589",
   "metadata": {},
   "outputs": [],
   "source": [
    "class Çalışan():\n",
    "    def __init__(self,isim,maaş,departman):\n",
    "        print(\"Çalışan sınıfının init fonksiyonu\")\n",
    "        self.isim = isim\n",
    "        self.maaş = maaş\n",
    "        self.departman = departman\n",
    "    def bilgilerigoster(self):\n",
    "        \n",
    "        print(\"Çalışan sınıfının bilgileri.....\")\n",
    "        \n",
    "        print(\"İsim : {} \\nMaaş: {} \\nDepartman: {}\\n\".format(self.isim,self.maaş,self.departman))\n",
    "    def departman_degistir(self,yeni_departman):\n",
    "        print(\"Departman değişiyor....\")\n",
    "        self.departman = yeni_departman"
   ]
  },
  {
   "cell_type": "code",
   "execution_count": 85,
   "id": "929577f2",
   "metadata": {},
   "outputs": [],
   "source": [
    "class Yönetici(Çalışan): # Çalışan sınıfından miras alıyoruz.\n",
    "    pass # Pass Deyimi bir bloğu sonradan tanımlamak istediğimizde kullanılan bir deyimdir."
   ]
  },
  {
   "cell_type": "code",
   "execution_count": 86,
   "id": "7c2370b9",
   "metadata": {},
   "outputs": [
    {
     "name": "stdout",
     "output_type": "stream",
     "text": [
      "Çalışan sınıfının init fonksiyonu\n"
     ]
    }
   ],
   "source": [
    "yönetici1 = Yönetici(\"Mehmet Baltacı\",3000,\"İnsan Kaynakları\") # yönetici objesi"
   ]
  },
  {
   "cell_type": "code",
   "execution_count": 87,
   "id": "a45c5893",
   "metadata": {},
   "outputs": [
    {
     "name": "stdout",
     "output_type": "stream",
     "text": [
      "Çalışan sınıfının bilgileri.....\n",
      "İsim : Mehmet Baltacı \n",
      "Maaş: 3000 \n",
      "Departman: İnsan Kaynakları\n",
      "\n"
     ]
    }
   ],
   "source": [
    "yönetici1.bilgilerigoster()"
   ]
  },
  {
   "cell_type": "code",
   "execution_count": 88,
   "id": "0c9127e4",
   "metadata": {},
   "outputs": [
    {
     "name": "stdout",
     "output_type": "stream",
     "text": [
      "Departman değişiyor....\n"
     ]
    }
   ],
   "source": [
    "yönetici1.departman_degistir(\"Halkla İlişkiler\")"
   ]
  },
  {
   "cell_type": "code",
   "execution_count": 89,
   "id": "b4928989",
   "metadata": {},
   "outputs": [
    {
     "name": "stdout",
     "output_type": "stream",
     "text": [
      "Çalışan sınıfının bilgileri.....\n",
      "İsim : Mehmet Baltacı \n",
      "Maaş: 3000 \n",
      "Departman: Halkla İlişkiler\n",
      "\n"
     ]
    }
   ],
   "source": [
    "yönetici1.bilgilerigoster()"
   ]
  },
  {
   "cell_type": "code",
   "execution_count": 90,
   "id": "440b6107",
   "metadata": {},
   "outputs": [
    {
     "data": {
      "text/plain": [
       "['__class__',\n",
       " '__delattr__',\n",
       " '__dict__',\n",
       " '__dir__',\n",
       " '__doc__',\n",
       " '__eq__',\n",
       " '__format__',\n",
       " '__ge__',\n",
       " '__getattribute__',\n",
       " '__gt__',\n",
       " '__hash__',\n",
       " '__init__',\n",
       " '__init_subclass__',\n",
       " '__le__',\n",
       " '__lt__',\n",
       " '__module__',\n",
       " '__ne__',\n",
       " '__new__',\n",
       " '__reduce__',\n",
       " '__reduce_ex__',\n",
       " '__repr__',\n",
       " '__setattr__',\n",
       " '__sizeof__',\n",
       " '__str__',\n",
       " '__subclasshook__',\n",
       " '__weakref__',\n",
       " 'bilgilerigoster',\n",
       " 'departman',\n",
       " 'departman_degistir',\n",
       " 'isim',\n",
       " 'maaş']"
      ]
     },
     "execution_count": 90,
     "metadata": {},
     "output_type": "execute_result"
    }
   ],
   "source": [
    "dir(yönetici1)"
   ]
  },
  {
   "cell_type": "code",
   "execution_count": 91,
   "id": "087c7021",
   "metadata": {},
   "outputs": [],
   "source": [
    "class Yönetici(Çalışan):\n",
    "    def zam_yap(self,zam_miktarı):\n",
    "        print(\"Maaşa zam yapılıyor....\")\n",
    "        self.maaş += zam_miktarı  "
   ]
  },
  {
   "cell_type": "code",
   "execution_count": 92,
   "id": "1c839ec4",
   "metadata": {},
   "outputs": [
    {
     "name": "stdout",
     "output_type": "stream",
     "text": [
      "Çalışan sınıfının init fonksiyonu\n"
     ]
    }
   ],
   "source": [
    "yönetici2 = Yönetici(\"Mustafa Murat Coşkun\",3000,\"Bilişim\") # yönetici objesi"
   ]
  },
  {
   "cell_type": "code",
   "execution_count": 93,
   "id": "095df6f5",
   "metadata": {},
   "outputs": [
    {
     "name": "stdout",
     "output_type": "stream",
     "text": [
      "Çalışan sınıfının bilgileri.....\n",
      "İsim : Mustafa Murat Coşkun \n",
      "Maaş: 3000 \n",
      "Departman: Bilişim\n",
      "\n"
     ]
    }
   ],
   "source": [
    "yönetici2.bilgilerigoster()"
   ]
  },
  {
   "cell_type": "code",
   "execution_count": 94,
   "id": "3e4e04a7",
   "metadata": {},
   "outputs": [
    {
     "name": "stdout",
     "output_type": "stream",
     "text": [
      "Maaşa zam yapılıyor....\n"
     ]
    }
   ],
   "source": [
    "yönetici2.zam_yap(500) # Ekstra eklediğimiz fonksiyonu da kullanabiliyoruz."
   ]
  },
  {
   "cell_type": "code",
   "execution_count": 95,
   "id": "ef962f6a",
   "metadata": {},
   "outputs": [
    {
     "name": "stdout",
     "output_type": "stream",
     "text": [
      "Çalışan sınıfının bilgileri.....\n",
      "İsim : Mustafa Murat Coşkun \n",
      "Maaş: 3500 \n",
      "Departman: Bilişim\n",
      "\n"
     ]
    }
   ],
   "source": [
    "yönetici2.bilgilerigoster()"
   ]
  },
  {
   "cell_type": "code",
   "execution_count": 1,
   "id": "d70b67a2",
   "metadata": {},
   "outputs": [],
   "source": [
    "\"\"\"\n",
    "Overriding (İptal Etme)\n",
    "Eğer biz miras aldığımız metodları aynı isimle kendi sınıfımızda tekrar tanımlarsak ,\n",
    "artık metodu çağırdığımız zaman miras aldığımız değil kendi metodumuz çalışacaktır.\n",
    "Buna Nesne Tabanlı Programlamada bir metodu override etmek denmektedir.\n",
    "\n",
    "Örneğin artık Çalışan sınıfının init metodunu kullanmak yerine Yönetici sınıfında init\n",
    "metodunu override edebiliriz. Böylelikle Yönetici sınıfına ekstra özellikler(attribute) ekleyebiliriz.\n",
    "\"\"\"\n",
    "class Çalışan():\n",
    "    def __init__(self,isim,maaş,departman):\n",
    "        print(\"Çalışan sınıfının init fonksiyonu\")\n",
    "        self.isim = isim\n",
    "        self.maaş = maaş\n",
    "        self.departman = departman\n",
    "    def bilgilerigoster(self):\n",
    "        \n",
    "        print(\"Çalışan sınıfının bilgileri.....\")\n",
    "        \n",
    "        print(\"İsim : {} \\nMaaş: {} \\nDepartman: {}\\n\".format(self.isim,self.maaş,self.departman))\n",
    "    def departman_degistir(self,yeni_departman):\n",
    "        print(\"Departman değişiyor....\")\n",
    "        self.departman = yeni_departman"
   ]
  },
  {
   "cell_type": "code",
   "execution_count": 2,
   "id": "d6a89d5c",
   "metadata": {},
   "outputs": [],
   "source": [
    "class Yönetici(Çalışan):\n",
    "    \n",
    "    def __init__(self,isim,maaş,departman,kişi_sayısı): # Sorumlu olduğu kişi sayısı\n",
    "        print(\"Yönetici sınıfının init fonksiyonu\")\n",
    "        self.isim = isim\n",
    "        self.maaş = maaş\n",
    "        self.departman = departman\n",
    "        self.kişi_sayısı = kişi_sayısı # Yeni eklenen özellik\n",
    "    def zam_yap(self,zam_miktarı):\n",
    "        print(\"Maaşa zam yapılıyor....\")\n",
    "        self.maaş += zam_miktarı"
   ]
  },
  {
   "cell_type": "code",
   "execution_count": 98,
   "id": "59aebfd0",
   "metadata": {},
   "outputs": [
    {
     "name": "stdout",
     "output_type": "stream",
     "text": [
      "Yönetici sınıfının init fonksiyonu\n"
     ]
    }
   ],
   "source": [
    "a = Yönetici(\"Mustafa Murat Coşkun\",3000,\"Bilişim\",10) # Yönetici sınıfının init fonksiyonu. Override edildi."
   ]
  },
  {
   "cell_type": "code",
   "execution_count": 99,
   "id": "b7db5559",
   "metadata": {},
   "outputs": [],
   "source": [
    "class Çalışan():\n",
    "    def __init__(self,isim,maaş,departman):\n",
    "        print(\"Çalışan sınıfının init fonksiyonu\")\n",
    "        self.isim = isim\n",
    "        self.maaş = maaş\n",
    "        self.departman = departman\n",
    "    def bilgilerigoster(self):\n",
    "        \n",
    "        print(\"Çalışan sınıfının bilgileri.....\")\n",
    "        \n",
    "        print(\"İsim : {} \\nMaaş: {} \\nDepartman: {}\\n\".format(self.isim,self.maaş,self.departman))\n",
    "    def departman_degistir(self,yeni_departman):\n",
    "        print(\"Departman değişiyor....\")\n",
    "        self.departman = yeni_departman"
   ]
  },
  {
   "cell_type": "code",
   "execution_count": 100,
   "id": "d6b0b98e",
   "metadata": {},
   "outputs": [],
   "source": [
    "class Yönetici(Çalışan):\n",
    "    \n",
    "    def __init__(self,isim,maaş,departman,kişi_sayısı): # Sorumlu olduğu kişi sayısı\n",
    "        print(\"Yönetici sınıfının init fonksiyonu\")\n",
    "        self.isim = isim\n",
    "        self.maaş = maaş\n",
    "        self.departman = departman\n",
    "        self.kişi_sayısı = kişi_sayısı # Yeni eklenen özellik\n",
    "    def bilgilerigoster(self):\n",
    "        \n",
    "        print(\"Yönetici sınıfının bilgileri.....\")\n",
    "        \n",
    "        print(\"İsim : {} \\nMaaş: {} \\nDepartman: {}\\nSorumlu kişi sayısı: {}\".format(self.isim,self.maaş,self.departman,self.kişi_sayısı))\n",
    "    def zam_yap(self,zam_miktarı):\n",
    "        print(\"Maaşa zam yapılıyor....\")\n",
    "        self.maaş += zam_miktarı"
   ]
  },
  {
   "cell_type": "code",
   "execution_count": 101,
   "id": "9c14dbfa",
   "metadata": {},
   "outputs": [
    {
     "name": "stdout",
     "output_type": "stream",
     "text": [
      "Yönetici sınıfının init fonksiyonu\n"
     ]
    }
   ],
   "source": [
    "b =  Yönetici(\"Serhat Say\",2500,\"Pazarlama\",5)"
   ]
  },
  {
   "cell_type": "code",
   "execution_count": 102,
   "id": "f9d18b37",
   "metadata": {},
   "outputs": [
    {
     "name": "stdout",
     "output_type": "stream",
     "text": [
      "Yönetici sınıfının bilgileri.....\n",
      "İsim : Serhat Say \n",
      "Maaş: 2500 \n",
      "Departman: Pazarlama\n",
      "Sorumlu kişi sayısı: 5\n"
     ]
    }
   ],
   "source": [
    "b.bilgilerigoster() # Kendi yazdığımız fonksiyon çağrıldı. Overriding"
   ]
  },
  {
   "cell_type": "code",
   "execution_count": 114,
   "id": "4d5d70bd",
   "metadata": {},
   "outputs": [],
   "source": [
    "\"\"\"\n",
    "super Anahtar Kelimesi\n",
    "super anahtar kelimesi özellikle override ettiğimiz bir metodun içinde aynı zamanda\n",
    "miras aldığımız bir metodu kullanmak istersek kullanılabilir. Yani super en genel\n",
    "anlamıyla miras aldığımız sınıfın metodlarını alt sınıflardan kullanmamızı sağlar. \n",
    "Hemen örnek üzerinden anlamaya çalışalım.\n",
    "\"\"\"\n",
    "class Çalışan():\n",
    "    def __init__(self,isim,maaş,departman):\n",
    "        print(\"Çalışan sınıfının init fonksiyonu\")\n",
    "        self.isim = isim\n",
    "        self.maaş = maaş\n",
    "        self.departman = departman\n",
    "    def bilgilerigoster(self):\n",
    "        \n",
    "        print(\"Çalışan sınıfının bilgileri.....\")\n",
    "        \n",
    "        print(\"İsim : {} \\nMaaş: {} \\nDepartman: {}\\n\".format(self.isim,self.maaş,self.departman))\n",
    "    def departman_degistir(self,yeni_departman):\n",
    "        print(\"Departman değişiyor....\")\n",
    "        self.departman = yeni_departman"
   ]
  },
  {
   "cell_type": "code",
   "execution_count": 115,
   "id": "f79c19c6",
   "metadata": {},
   "outputs": [],
   "source": [
    "class Yönetici(Çalışan):\n",
    "    \n",
    "    def __init__(self,isim,maaş,departman,kişi_sayısı): # Sorumlu olduğu kişi sayısı\n",
    "        super().__init__(isim,maaş,departman) # 3 tane özelliği Çalışan fonksiyonunun init fonksiyonuyla hallediyoruz.\n",
    "        \n",
    "        print(\"Yönetici sınıfının init fonksiyonu\")\n",
    "        \n",
    "        self.kişi_sayısı = kişi_sayısı # Ekstra özelliği de kendimiz yazıyoruz.\n",
    "    def bilgilerigoster(self):\n",
    "        \n",
    "        print(\"Yönetici sınıfının bilgileri.....\")\n",
    "        \n",
    "        print(\"İsim : {} \\nMaaş: {} \\nDepartman: {}\\nSorumlu kişi sayısı: {}\".format(self.isim,self.maaş,self.departman,self.kişi_sayısı))\n",
    "    def zam_yap(self,zam_miktarı):\n",
    "        print(\"Maaşa zam yapılıyor....\")\n",
    "        self.maaş += zam_miktarı"
   ]
  },
  {
   "cell_type": "code",
   "execution_count": 116,
   "id": "cea003ad",
   "metadata": {},
   "outputs": [
    {
     "name": "stdout",
     "output_type": "stream",
     "text": [
      "Çalışan sınıfının init fonksiyonu\n",
      "Yönetici sınıfının init fonksiyonu\n"
     ]
    }
   ],
   "source": [
    "c = Yönetici(\"Oğuz Artıran\",3000,\"İnsan Kaynakları\",4)"
   ]
  },
  {
   "cell_type": "code",
   "execution_count": 128,
   "id": "3a9609d5",
   "metadata": {},
   "outputs": [],
   "source": [
    "\"\"\"\n",
    "Nesne Tabanlı Programlama - Özel Metodlar\n",
    "Nesne tabanlı programlamada son olarak sınıfların özel metodlarını nasıl kendimiz yazarız \n",
    "öğrenmeye çalışalım. Özel metodlar, daha önceden de bahsettiğimiz gibi bizim özel olarak\n",
    "çağırmadığımız ancak her classa ait metodlardır. Bunların çoğu biz tanımlamasak bile\n",
    "Python tarafından varsayılan olarak tanımlanır. Ancak bu metodların bazılarını da\n",
    "özel olarak bizim tanımlamamız gerekmektedir. Daha önceden gördüğümüz init metodu\n",
    "bu metodlara bir örnektir. Bu konuda bu metodlarını nasıl tanımlayacağımızı öğrenmeye\n",
    "çalışacağız. Şimdi örneklerimize geçelim.\n",
    "\"\"\"\n",
    "class Kitap():\n",
    "    pass"
   ]
  },
  {
   "cell_type": "code",
   "execution_count": 129,
   "id": "a3d05033",
   "metadata": {},
   "outputs": [],
   "source": [
    "kitap1 = Kitap() # __init__ metodu çağrılıyor."
   ]
  },
  {
   "cell_type": "code",
   "execution_count": 130,
   "id": "afdab087",
   "metadata": {},
   "outputs": [
    {
     "ename": "TypeError",
     "evalue": "object of type 'Kitap' has no len()",
     "output_type": "error",
     "traceback": [
      "\u001b[0;31m---------------------------------------------------------------------------\u001b[0m",
      "\u001b[0;31mTypeError\u001b[0m                                 Traceback (most recent call last)",
      "\u001b[0;32m/tmp/ipykernel_77690/3984236495.py\u001b[0m in \u001b[0;36m<module>\u001b[0;34m\u001b[0m\n\u001b[0;32m----> 1\u001b[0;31m \u001b[0mlen\u001b[0m\u001b[0;34m(\u001b[0m\u001b[0mkitap1\u001b[0m\u001b[0;34m)\u001b[0m \u001b[0;31m# __len__ metodu çağrılacak ancak tanımlı değil. Bunu özellikle bizim tanımlamamız gerekiyor.\u001b[0m\u001b[0;34m\u001b[0m\u001b[0;34m\u001b[0m\u001b[0m\n\u001b[0m",
      "\u001b[0;31mTypeError\u001b[0m: object of type 'Kitap' has no len()"
     ]
    }
   ],
   "source": [
    "len(kitap1) # __len__ metodu çağrılacak ancak tanımlı değil. Bunu özellikle bizim tanımlamamız gerekiyor."
   ]
  },
  {
   "cell_type": "code",
   "execution_count": 131,
   "id": "3575aa99",
   "metadata": {},
   "outputs": [
    {
     "name": "stdout",
     "output_type": "stream",
     "text": [
      "<__main__.Kitap object at 0x7fa78bd24520>\n"
     ]
    }
   ],
   "source": [
    "print(kitap1) # __str__ metodu çağrılır."
   ]
  },
  {
   "cell_type": "code",
   "execution_count": 133,
   "id": "567c74f0",
   "metadata": {},
   "outputs": [],
   "source": [
    "del kitap1 # del anahtar kelimesi bir objeyi siler ve __del__ metodu çağrılır. "
   ]
  },
  {
   "cell_type": "code",
   "execution_count": 134,
   "id": "936e43dd",
   "metadata": {},
   "outputs": [
    {
     "ename": "NameError",
     "evalue": "name 'kitap1' is not defined",
     "output_type": "error",
     "traceback": [
      "\u001b[0;31m---------------------------------------------------------------------------\u001b[0m",
      "\u001b[0;31mNameError\u001b[0m                                 Traceback (most recent call last)",
      "\u001b[0;32m/tmp/ipykernel_77690/2280558422.py\u001b[0m in \u001b[0;36m<module>\u001b[0;34m\u001b[0m\n\u001b[0;32m----> 1\u001b[0;31m \u001b[0mkitap1\u001b[0m\u001b[0;34m\u001b[0m\u001b[0;34m\u001b[0m\u001b[0m\n\u001b[0m",
      "\u001b[0;31mNameError\u001b[0m: name 'kitap1' is not defined"
     ]
    }
   ],
   "source": [
    "kitap1"
   ]
  },
  {
   "cell_type": "code",
   "execution_count": 4,
   "id": "a8cc4cb9",
   "metadata": {},
   "outputs": [],
   "source": [
    "\"\"\"\n",
    "init metodu\n",
    "init metodunu kendimiz tanımlarsak artık kendi init fonksiyonumuz çalışacaktır.\n",
    "\"\"\"\n",
    "class Kitap():\n",
    "    def __init__(self,isim,yazar,sayfa_sayısı,tür): \n",
    "        print(\"Kitap Objesi oluşuyor....\")\n",
    "        self.isim = isim\n",
    "        self.yazar = yazar\n",
    "        self.sayfa_sayısı = sayfa_sayısı\n",
    "        self.tür = tür"
   ]
  },
  {
   "cell_type": "code",
   "execution_count": 5,
   "id": "0e635030",
   "metadata": {},
   "outputs": [
    {
     "name": "stdout",
     "output_type": "stream",
     "text": [
      "Kitap Objesi oluşuyor....\n"
     ]
    }
   ],
   "source": [
    "kitap1 = Kitap(\"İstanbul Hatırası\",\"Ahmet Ümit\",561,\"Polisiye\") # Kendi metodumuz "
   ]
  },
  {
   "cell_type": "code",
   "execution_count": 6,
   "id": "38f6c968",
   "metadata": {},
   "outputs": [
    {
     "name": "stdout",
     "output_type": "stream",
     "text": [
      "<__main__.Kitap object at 0x7c09f02d9280>\n"
     ]
    }
   ],
   "source": [
    "\"\"\"\n",
    "str metodu\n",
    "Normalde print(kitap1) ifadesi ekrana şöyle bir yazı yazdırıyor.\n",
    "\"\"\"\n",
    "print(kitap1)"
   ]
  },
  {
   "cell_type": "code",
   "execution_count": 7,
   "id": "9e111e09",
   "metadata": {},
   "outputs": [],
   "source": [
    "class Kitap():\n",
    "    def __init__(self,isim,yazar,sayfa_sayısı,tür): \n",
    "        print(\"Kitap Objesi oluşuyor....\")\n",
    "        self.isim = isim\n",
    "        self.yazar = yazar\n",
    "        self.sayfa_sayısı = sayfa_sayısı\n",
    "        self.tür = tür\n",
    "    def __str__(self):\n",
    "        # Return kullanmamız gerekli\n",
    "        return \"İsim: {}\\nYazar: {}\\nSayfa Sayısı: {}\\nTür: {}\".format(self.isim,self.yazar,self.sayfa_sayısı,self.tür)"
   ]
  },
  {
   "cell_type": "code",
   "execution_count": 8,
   "id": "ccd039c0",
   "metadata": {},
   "outputs": [
    {
     "name": "stdout",
     "output_type": "stream",
     "text": [
      "Kitap Objesi oluşuyor....\n"
     ]
    }
   ],
   "source": [
    "kitap1 = Kitap(\"İstanbul Hatırası\",\"Ahmet Ümit\",561,\"Polisiye\")"
   ]
  },
  {
   "cell_type": "code",
   "execution_count": 9,
   "id": "50339b38",
   "metadata": {},
   "outputs": [
    {
     "name": "stdout",
     "output_type": "stream",
     "text": [
      "İsim: İstanbul Hatırası\n",
      "Yazar: Ahmet Ümit\n",
      "Sayfa Sayısı: 561\n",
      "Tür: Polisiye\n"
     ]
    }
   ],
   "source": [
    "print(kitap1)"
   ]
  },
  {
   "cell_type": "code",
   "execution_count": 142,
   "id": "9e78a314",
   "metadata": {},
   "outputs": [
    {
     "ename": "TypeError",
     "evalue": "object of type 'Kitap' has no len()",
     "output_type": "error",
     "traceback": [
      "\u001b[0;31m---------------------------------------------------------------------------\u001b[0m",
      "\u001b[0;31mTypeError\u001b[0m                                 Traceback (most recent call last)",
      "\u001b[0;32m/tmp/ipykernel_77690/4249526089.py\u001b[0m in \u001b[0;36m<module>\u001b[0;34m\u001b[0m\n\u001b[1;32m      4\u001b[0m \u001b[0mOnun\u001b[0m \u001b[0miçin\u001b[0m \u001b[0mbu\u001b[0m \u001b[0mmetodu\u001b[0m \u001b[0mkendimiz\u001b[0m \u001b[0mtanımlamamız\u001b[0m \u001b[0mgereklidir\u001b[0m\u001b[0;34m.\u001b[0m\u001b[0;34m\u001b[0m\u001b[0;34m\u001b[0m\u001b[0m\n\u001b[1;32m      5\u001b[0m \"\"\"\n\u001b[0;32m----> 6\u001b[0;31m \u001b[0mlen\u001b[0m\u001b[0;34m(\u001b[0m\u001b[0mkitap1\u001b[0m\u001b[0;34m)\u001b[0m\u001b[0;34m\u001b[0m\u001b[0;34m\u001b[0m\u001b[0m\n\u001b[0m",
      "\u001b[0;31mTypeError\u001b[0m: object of type 'Kitap' has no len()"
     ]
    }
   ],
   "source": [
    "\"\"\"\n",
    "len metodu\n",
    "len metodu normalde özel olarak biz tanımlamazsak tanımlanan bir metod değil.\n",
    "Onun için bu metodu kendimiz tanımlamamız gereklidir.\n",
    "\"\"\"\n",
    "len(kitap1)"
   ]
  },
  {
   "cell_type": "code",
   "execution_count": 143,
   "id": "2e2d2481",
   "metadata": {},
   "outputs": [],
   "source": [
    "class Kitap():\n",
    "    def __init__(self,isim,yazar,sayfa_sayısı,tür): \n",
    "        print(\"Kitap Objesi oluşuyor....\")\n",
    "        self.isim = isim\n",
    "        self.yazar = yazar\n",
    "        self.sayfa_sayısı = sayfa_sayısı\n",
    "        self.tür = tür\n",
    "    def __str__(self):\n",
    "        # Return kullanmamız gerekli\n",
    "        return \"İsim: {}\\nYazar: {}\\nSayfa Sayısı: {}\\nTür: {}\".format(self.isim,self.yazar,self.sayfa_sayısı,self.tür)\n",
    "    def __len__(self):\n",
    "        return self.sayfa_sayısı"
   ]
  },
  {
   "cell_type": "code",
   "execution_count": 144,
   "id": "c6178fdb",
   "metadata": {},
   "outputs": [
    {
     "name": "stdout",
     "output_type": "stream",
     "text": [
      "Kitap Objesi oluşuyor....\n"
     ]
    }
   ],
   "source": [
    "kitap1 = Kitap(\"İstanbul Hatırası\",\"Ahmet Ümit\",561,\"Polisiye\")"
   ]
  },
  {
   "cell_type": "code",
   "execution_count": 145,
   "id": "c4f7b4e0",
   "metadata": {},
   "outputs": [
    {
     "data": {
      "text/plain": [
       "561"
      ]
     },
     "execution_count": 145,
     "metadata": {},
     "output_type": "execute_result"
    }
   ],
   "source": [
    "len(kitap1) # KEndi __len__ metodumuz çağrıldı."
   ]
  },
  {
   "cell_type": "code",
   "execution_count": 146,
   "id": "0d94aeb5",
   "metadata": {},
   "outputs": [
    {
     "ename": "TypeError",
     "evalue": "object of type 'type' has no len()",
     "output_type": "error",
     "traceback": [
      "\u001b[0;31m---------------------------------------------------------------------------\u001b[0m",
      "\u001b[0;31mTypeError\u001b[0m                                 Traceback (most recent call last)",
      "\u001b[0;32m/tmp/ipykernel_77690/543242321.py\u001b[0m in \u001b[0;36m<module>\u001b[0;34m\u001b[0m\n\u001b[0;32m----> 1\u001b[0;31m \u001b[0mlen\u001b[0m\u001b[0;34m(\u001b[0m\u001b[0mKitap\u001b[0m\u001b[0;34m)\u001b[0m\u001b[0;34m\u001b[0m\u001b[0;34m\u001b[0m\u001b[0m\n\u001b[0m",
      "\u001b[0;31mTypeError\u001b[0m: object of type 'type' has no len()"
     ]
    }
   ],
   "source": [
    "\"\"\"\n",
    "\n",
    "del metodu\n",
    "del metodu Pythonda bir objeyi del anahtar kelimesiyle sildiğimiz zaman çalıştırılan metoddur. \n",
    "Bu metodu kendimiz tanımlayarak ekstra özellikler ekleyebiliriz.\n",
    "\"\"\""
   ]
  },
  {
   "cell_type": "code",
   "execution_count": 147,
   "id": "b0262fb4",
   "metadata": {},
   "outputs": [
    {
     "name": "stdout",
     "output_type": "stream",
     "text": [
      "Kitap Objesi oluşuyor....\n"
     ]
    }
   ],
   "source": [
    "kitap1 = Kitap(\"İstanbul Hatırası\",\"Ahmet Ümit\",561,\"Polisiye\")"
   ]
  },
  {
   "cell_type": "code",
   "execution_count": 148,
   "id": "1b63f897",
   "metadata": {},
   "outputs": [],
   "source": [
    "del kitap1"
   ]
  },
  {
   "cell_type": "code",
   "execution_count": 149,
   "id": "b2d5c62e",
   "metadata": {},
   "outputs": [
    {
     "ename": "NameError",
     "evalue": "name 'kitap1' is not defined",
     "output_type": "error",
     "traceback": [
      "\u001b[0;31m---------------------------------------------------------------------------\u001b[0m",
      "\u001b[0;31mNameError\u001b[0m                                 Traceback (most recent call last)",
      "\u001b[0;32m/tmp/ipykernel_77690/2280558422.py\u001b[0m in \u001b[0;36m<module>\u001b[0;34m\u001b[0m\n\u001b[0;32m----> 1\u001b[0;31m \u001b[0mkitap1\u001b[0m\u001b[0;34m\u001b[0m\u001b[0;34m\u001b[0m\u001b[0m\n\u001b[0m",
      "\u001b[0;31mNameError\u001b[0m: name 'kitap1' is not defined"
     ]
    }
   ],
   "source": [
    "kitap1"
   ]
  },
  {
   "cell_type": "code",
   "execution_count": 150,
   "id": "b665ebb9",
   "metadata": {},
   "outputs": [],
   "source": [
    "class Kitap():\n",
    "    def __init__(self,isim,yazar,sayfa_sayısı,tür): \n",
    "        print(\"Kitap Objesi oluşuyor....\")\n",
    "        self.isim = isim\n",
    "        self.yazar = yazar\n",
    "        self.sayfa_sayısı = sayfa_sayısı\n",
    "        self.tür = tür\n",
    "    def __str__(self):\n",
    "        # Return kullanmamız gerekli\n",
    "        return \"İsim: {}\\nYazar: {}\\nSayfa Sayısı: {}\\nTür: {}\".format(self.isim,self.yazar,self.sayfa_sayısı,self.tür)\n",
    "    def __len__(self):\n",
    "        return self.sayfa_sayısı\n",
    "    def __del__(self):\n",
    "        print(\"Kitap objesi siliniyor.......\")"
   ]
  },
  {
   "cell_type": "code",
   "execution_count": 151,
   "id": "96912565",
   "metadata": {},
   "outputs": [
    {
     "name": "stdout",
     "output_type": "stream",
     "text": [
      "Kitap Objesi oluşuyor....\n"
     ]
    }
   ],
   "source": [
    "kitap1 = Kitap(\"İstanbul Hatırası\",\"Ahmet Ümit\",561,\"Polisiye\")"
   ]
  },
  {
   "cell_type": "code",
   "execution_count": 152,
   "id": "2ee9ad0d",
   "metadata": {},
   "outputs": [
    {
     "name": "stdout",
     "output_type": "stream",
     "text": [
      "Kitap objesi siliniyor.......\n"
     ]
    }
   ],
   "source": [
    "del kitap1  # Ekstra ekrana yazdırma özelliği ekledik."
   ]
  },
  {
   "cell_type": "code",
   "execution_count": 153,
   "id": "21b4ae33",
   "metadata": {},
   "outputs": [
    {
     "ename": "NameError",
     "evalue": "name 'kitap1' is not defined",
     "output_type": "error",
     "traceback": [
      "\u001b[0;31m---------------------------------------------------------------------------\u001b[0m",
      "\u001b[0;31mNameError\u001b[0m                                 Traceback (most recent call last)",
      "\u001b[0;32m/tmp/ipykernel_77690/2280558422.py\u001b[0m in \u001b[0;36m<module>\u001b[0;34m\u001b[0m\n\u001b[0;32m----> 1\u001b[0;31m \u001b[0mkitap1\u001b[0m\u001b[0;34m\u001b[0m\u001b[0;34m\u001b[0m\u001b[0m\n\u001b[0m",
      "\u001b[0;31mNameError\u001b[0m: name 'kitap1' is not defined"
     ]
    }
   ],
   "source": [
    "kitap1"
   ]
  },
  {
   "cell_type": "code",
   "execution_count": 199,
   "id": "d4f4b5dc",
   "metadata": {},
   "outputs": [],
   "source": [
    "class Hayvan():\n",
    "    def __init__(self,isim,türü,yaşı):\n",
    "        print(\"hayvan classı çalıştı\")\n",
    "        self.isim = isim\n",
    "        self.türü = türü\n",
    "        self.yaş = yaşı\n",
    "    def yaşıbüyüt(self,yaşartışmiktarı):\n",
    "        self.yaş+=yaşartışmiktarı\n",
    "        print(self.yaş)"
   ]
  },
  {
   "cell_type": "code",
   "execution_count": 200,
   "id": "bbb640f4",
   "metadata": {},
   "outputs": [
    {
     "name": "stdout",
     "output_type": "stream",
     "text": [
      "hayvan classı çalıştı\n"
     ]
    }
   ],
   "source": [
    "hayvan1=Hayvan(\"maviş\",\"kuş\",2)"
   ]
  },
  {
   "cell_type": "code",
   "execution_count": 201,
   "id": "6aff853e",
   "metadata": {},
   "outputs": [
    {
     "data": {
      "text/plain": [
       "2"
      ]
     },
     "execution_count": 201,
     "metadata": {},
     "output_type": "execute_result"
    }
   ],
   "source": [
    "hayvan1.yaş"
   ]
  },
  {
   "cell_type": "code",
   "execution_count": 204,
   "id": "a58c3569",
   "metadata": {},
   "outputs": [],
   "source": [
    "class kuş(Hayvan):\n",
    "    def __init__(self,isim,tür,yaşı,cinsi,rengi):\n",
    "            super().__init__(isim,tür,yaşı)\n",
    "            print(\"yönetici classı çalıştı\")\n",
    "            self.cinsi=cinsi\n",
    "            self.rengi=rengi"
   ]
  },
  {
   "cell_type": "code",
   "execution_count": 205,
   "id": "6f04de1a",
   "metadata": {},
   "outputs": [
    {
     "name": "stdout",
     "output_type": "stream",
     "text": [
      "hayvan classı çalıştı\n",
      "yönetici classı çalıştı\n"
     ]
    }
   ],
   "source": [
    "hayvan1=kuş(\"maviş\",\"kuş\",2,\"muhabbet kuşu\",\"mavi\")"
   ]
  },
  {
   "cell_type": "code",
   "execution_count": 207,
   "id": "b528a116",
   "metadata": {},
   "outputs": [
    {
     "data": {
      "text/plain": [
       "2"
      ]
     },
     "execution_count": 207,
     "metadata": {},
     "output_type": "execute_result"
    }
   ],
   "source": [
    "hayvan1.yaş"
   ]
  },
  {
   "cell_type": "code",
   "execution_count": null,
   "id": "de03fa54",
   "metadata": {},
   "outputs": [],
   "source": [
    "#super(classAdı,self).__init__(isim,tür,yaşı)\n",
    "#çok fazla üst sınıf varsa"
   ]
  },
  {
   "cell_type": "code",
   "execution_count": 13,
   "id": "b697675c",
   "metadata": {},
   "outputs": [],
   "source": [
    "class fitness():\n",
    "    def __init__(self,name,surname,phonenumber,id,membershiptype,date):\n",
    "        print(\"Member registered successfully.....\")\n",
    "        self.name = name\n",
    "        self.surname = surname\n",
    "        self.phonenumber = phonenumber\n",
    "        self.id = id\n",
    "        self.membershiptype = membershiptype\n",
    "        self.date = date \n",
    "        membershiptypedict={\"bronze\":900,\"silver\":1300,\"gold\":2000,\"platinium\":3000}\n",
    "        if self.membershiptype in membershiptypedict.keys():\n",
    "            global price\n",
    "        price = membershiptypedict[self.membershiptype]\n",
    "        #self.price = price \n",
    "    def infoprice(self):\n",
    "        return price\n",
    "    "
   ]
  },
  {
   "cell_type": "code",
   "execution_count": 14,
   "id": "3a5073b4",
   "metadata": {},
   "outputs": [
    {
     "name": "stdout",
     "output_type": "stream",
     "text": [
      "Member registered successfully.....\n"
     ]
    }
   ],
   "source": [
    "jackafaha=fitness(\"Jack\",\"Afaha\",\"+905382822121\",11285364444,\"gold\",\"08.10.2024\")"
   ]
  },
  {
   "cell_type": "code",
   "execution_count": 15,
   "id": "eea81381",
   "metadata": {},
   "outputs": [
    {
     "data": {
      "text/plain": [
       "2000"
      ]
     },
     "execution_count": 15,
     "metadata": {},
     "output_type": "execute_result"
    }
   ],
   "source": [
    "jackafaha.infoprice()"
   ]
  },
  {
   "cell_type": "code",
   "execution_count": 68,
   "id": "0e1b9ab5",
   "metadata": {},
   "outputs": [
    {
     "data": {
      "text/plain": [
       "['__class__',\n",
       " '__delattr__',\n",
       " '__dict__',\n",
       " '__dir__',\n",
       " '__doc__',\n",
       " '__eq__',\n",
       " '__format__',\n",
       " '__ge__',\n",
       " '__getattribute__',\n",
       " '__getstate__',\n",
       " '__gt__',\n",
       " '__hash__',\n",
       " '__init__',\n",
       " '__init_subclass__',\n",
       " '__le__',\n",
       " '__lt__',\n",
       " '__module__',\n",
       " '__ne__',\n",
       " '__new__',\n",
       " '__reduce__',\n",
       " '__reduce_ex__',\n",
       " '__repr__',\n",
       " '__setattr__',\n",
       " '__sizeof__',\n",
       " '__str__',\n",
       " '__subclasshook__',\n",
       " '__weakref__',\n",
       " 'infoprice']"
      ]
     },
     "execution_count": 68,
     "metadata": {},
     "output_type": "execute_result"
    }
   ],
   "source": [
    "dir(fitness)"
   ]
  },
  {
   "cell_type": "code",
   "execution_count": 69,
   "id": "dea6c9c1",
   "metadata": {},
   "outputs": [
    {
     "data": {
      "text/plain": [
       "'Jack'"
      ]
     },
     "execution_count": 69,
     "metadata": {},
     "output_type": "execute_result"
    }
   ],
   "source": [
    "jackafaha.name"
   ]
  },
  {
   "cell_type": "code",
   "execution_count": 70,
   "id": "d2ec5eff",
   "metadata": {},
   "outputs": [],
   "source": [
    "\"\"\"\n",
    "Bu kodda price global değişken olduğu için tüm nesne objelerinde aynı değer dönecek nesneye özel yapmak için\n",
    "global yerine selfle yazmak gerekir\n",
    "\n",
    "\n",
    "\"\"\"\n",
    "class fitness():\n",
    "    def __init__(self,name,surname,phonenumber,id,membershiptype,date):\n",
    "        print(\"Member registered successfully.....\")\n",
    "        self.name = name\n",
    "        self.surname = surname\n",
    "        self.phonenumber = phonenumber\n",
    "        self.id = id\n",
    "        self.membershiptype = membershiptype\n",
    "        self.date = date \n",
    "        membershiptypedict={\"bronze\":900,\"silver\":1300,\"gold\":2000,\"platinium\":3000}\n",
    "        if self.membershiptype in membershiptypedict.keys():\n",
    "            global price\n",
    "        price = membershiptypedict[self.membershiptype]\n",
    "        #self.price = price \n",
    "    def infoprice(self):\n",
    "        return price\n",
    "    "
   ]
  },
  {
   "cell_type": "code",
   "execution_count": 72,
   "id": "5199a9b8",
   "metadata": {},
   "outputs": [],
   "source": [
    "class fitness():\n",
    "    def __init__(self,name,surname,phonenumber,id,membershiptype,date):\n",
    "        print(\"Member registered successfully.....\")\n",
    "        self.name = name\n",
    "        self.surname = surname\n",
    "        self.phonenumber = phonenumber\n",
    "        self.id = id\n",
    "        self.membershiptype = membershiptype\n",
    "        self.date = date \n",
    "        membershiptypedict={\"bronze\":900,\"silver\":1300,\"gold\":2000,\"platinium\":3000}\n",
    "        if self.membershiptype in membershiptypedict.keys():\n",
    "            self.price = membershiptypedict[self.membershiptype]\n",
    "        #self.price = price \n",
    "    def infoprice(self):\n",
    "        return price"
   ]
  },
  {
   "cell_type": "code",
   "execution_count": 73,
   "id": "ff92e922",
   "metadata": {},
   "outputs": [],
   "source": [
    "# Doğru olan yukarıda ki"
   ]
  },
  {
   "cell_type": "code",
   "execution_count": 74,
   "id": "21b5f7e7",
   "metadata": {},
   "outputs": [
    {
     "name": "stdout",
     "output_type": "stream",
     "text": [
      "Help on class super in module builtins:\n",
      "\n",
      "class super(object)\n",
      " |  super() -> same as super(__class__, <first argument>)\n",
      " |  super(type) -> unbound super object\n",
      " |  super(type, obj) -> bound super object; requires isinstance(obj, type)\n",
      " |  super(type, type2) -> bound super object; requires issubclass(type2, type)\n",
      " |  Typical use to call a cooperative superclass method:\n",
      " |  class C(B):\n",
      " |      def meth(self, arg):\n",
      " |          super().meth(arg)\n",
      " |  This works for class methods too:\n",
      " |  class C(B):\n",
      " |      @classmethod\n",
      " |      def cmeth(cls, arg):\n",
      " |          super().cmeth(arg)\n",
      " |\n",
      " |  Methods defined here:\n",
      " |\n",
      " |  __get__(self, instance, owner=None, /)\n",
      " |      Return an attribute of instance, which is of type owner.\n",
      " |\n",
      " |  __getattribute__(self, name, /)\n",
      " |      Return getattr(self, name).\n",
      " |\n",
      " |  __init__(self, /, *args, **kwargs)\n",
      " |      Initialize self.  See help(type(self)) for accurate signature.\n",
      " |\n",
      " |  __repr__(self, /)\n",
      " |      Return repr(self).\n",
      " |\n",
      " |  ----------------------------------------------------------------------\n",
      " |  Static methods defined here:\n",
      " |\n",
      " |  __new__(*args, **kwargs)\n",
      " |      Create and return a new object.  See help(type) for accurate signature.\n",
      " |\n",
      " |  ----------------------------------------------------------------------\n",
      " |  Data descriptors defined here:\n",
      " |\n",
      " |  __self__\n",
      " |      the instance invoking super(); may be None\n",
      " |\n",
      " |  __self_class__\n",
      " |      the type of the instance invoking super(); may be None\n",
      " |\n",
      " |  __thisclass__\n",
      " |      the class invoking super()\n",
      "\n"
     ]
    }
   ],
   "source": [
    "help(super)"
   ]
  },
  {
   "cell_type": "code",
   "execution_count": 427,
   "id": "ecd464ae",
   "metadata": {},
   "outputs": [],
   "source": [
    "class öğrencikayıt():\n",
    "    def __init__(self,ad,soyad,öğrenciid,doğumtarihi,ünigiriştarihi,fakülte,bölüm):\n",
    "        print(\"Öğrenci kayıt edildi....\")\n",
    "        self.ad = ad\n",
    "        self.soyad = soyad\n",
    "        self.öğrenciid = öğrenciid\n",
    "        self.doğumtarihi = doğumtarihi\n",
    "        self.ünigiriştarihi = ünigiriştarihi\n",
    "        self.fakülte = fakülte\n",
    "        self.bölüm = bölüm\n",
    "    def bilgilerigöster(self):\n",
    "        print(\"\"\"\n",
    "ad : {}\n",
    "soyad : {}\n",
    "öğrenci id : {}\n",
    "doğum tarihi : {}\n",
    "üni giriş tarihi : {}\n",
    "fakülte : {}\n",
    "bölüm : {}\n",
    "\"\"\".format(self.ad,self.soyad,self.öğrenciid,self.doğumtarihi,self.ünigiriştarihi,self.fakülte,self.bölüm))\n",
    "        "
   ]
  },
  {
   "cell_type": "code",
   "execution_count": 462,
   "id": "df9bda31",
   "metadata": {},
   "outputs": [],
   "source": [
    "class bilgisayarmüh(öğrencikayıt):\n",
    "    def __init__(self,ad,soyad,öğrenciid,doğumtarihi,ünigiriştarihi,fakülte,bölüm,bildiğidiller,alanı,burs):\n",
    "        super().__init__(ad,soyad,öğrenciid,doğumtarihi,ünigiriştarihi,fakülte,bölüm)\n",
    "        self.bildiğidiller=bildiğidiller\n",
    "        self.alanı=alanı\n",
    "        self.burs=burs\n",
    "    def bilgilerigöster(self):\n",
    "        super().bilgilerigöster()\n",
    "        print(f\"\"\"\n",
    "Bildiği diller: {self.bildiğidiller}\n",
    "Alanı: {self.alanı}\n",
    "Burs: {self.burs}\n",
    "\"\"\")"
   ]
  },
  {
   "cell_type": "code",
   "execution_count": 463,
   "id": "d176e7ab",
   "metadata": {},
   "outputs": [
    {
     "name": "stdout",
     "output_type": "stream",
     "text": [
      "Öğrenci kayıt edildi....\n"
     ]
    }
   ],
   "source": [
    "esmatansa = öğrencikayıt(\"Esma\",\"Tanşa\",230254022,\"15.05.2005\",\"2023\",\"Mühendislik\",\"Computer Engineering\")"
   ]
  },
  {
   "cell_type": "code",
   "execution_count": 464,
   "id": "289a39b8",
   "metadata": {},
   "outputs": [
    {
     "name": "stdout",
     "output_type": "stream",
     "text": [
      "Öğrenci kayıt edildi....\n"
     ]
    }
   ],
   "source": [
    "esmatansa = bilgisayarmüh(\"Esma\",\"Tanşa\",230254022,\"15.05.2005\",\"2023\",\"Mühendislik\",\"Computer Engineering\",\"Python\",\"AI\",True)"
   ]
  },
  {
   "cell_type": "code",
   "execution_count": 465,
   "id": "0bd5b647",
   "metadata": {},
   "outputs": [
    {
     "name": "stdout",
     "output_type": "stream",
     "text": [
      "\n",
      "ad : Esma\n",
      "soyad : Tanşa\n",
      "öğrenci id : 230254022\n",
      "doğum tarihi : 15.05.2005\n",
      "üni giriş tarihi : 2023\n",
      "fakülte : Mühendislik\n",
      "bölüm : Computer Engineering\n",
      "\n",
      "\n",
      "Bildiği diller: Python\n",
      "Alanı: AI\n",
      "Burs: True\n",
      "\n"
     ]
    }
   ],
   "source": [
    "esmatansa.bilgilerigöster()"
   ]
  },
  {
   "cell_type": "code",
   "execution_count": null,
   "id": "ecce59d5",
   "metadata": {},
   "outputs": [],
   "source": []
  }
 ],
 "metadata": {
  "kernelspec": {
   "display_name": "Python 3",
   "language": "python",
   "name": "python3"
  },
  "language_info": {
   "codemirror_mode": {
    "name": "ipython",
    "version": 3
   },
   "file_extension": ".py",
   "mimetype": "text/x-python",
   "name": "python",
   "nbconvert_exporter": "python",
   "pygments_lexer": "ipython3",
   "version": "3.12.7"
  }
 },
 "nbformat": 4,
 "nbformat_minor": 5
}
