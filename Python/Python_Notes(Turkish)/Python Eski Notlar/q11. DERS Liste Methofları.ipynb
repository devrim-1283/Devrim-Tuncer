{
 "cells": [
  {
   "cell_type": "code",
   "execution_count": 1,
   "id": "84a418e3",
   "metadata": {},
   "outputs": [],
   "source": [
    "\"\"\"\n",
    "Python List append() Method\n",
    "\"\"\"\n",
    "fruits = ['apple', 'banana', 'cherry']\n",
    "fruits.append(\"orange\")"
   ]
  },
  {
   "cell_type": "code",
   "execution_count": 2,
   "id": "5552e0da",
   "metadata": {},
   "outputs": [
    {
     "data": {
      "text/plain": [
       "['apple', 'banana', 'cherry', 'orange']"
      ]
     },
     "execution_count": 2,
     "metadata": {},
     "output_type": "execute_result"
    }
   ],
   "source": [
    "fruits"
   ]
  },
  {
   "cell_type": "code",
   "execution_count": 3,
   "id": "af5e8af9",
   "metadata": {},
   "outputs": [],
   "source": [
    "\"\"\"\n",
    "Python List clear() Method\n",
    "\"\"\"\n",
    "fruits = ['apple', 'banana', 'cherry', 'orange']\n",
    "\n",
    "fruits.clear()"
   ]
  },
  {
   "cell_type": "code",
   "execution_count": 4,
   "id": "e4708a0e",
   "metadata": {},
   "outputs": [
    {
     "data": {
      "text/plain": [
       "[]"
      ]
     },
     "execution_count": 4,
     "metadata": {},
     "output_type": "execute_result"
    }
   ],
   "source": [
    "fruits"
   ]
  },
  {
   "cell_type": "code",
   "execution_count": 5,
   "id": "1efdccb0",
   "metadata": {},
   "outputs": [],
   "source": [
    "\"\"\"\n",
    "Python List copy() Method\n",
    "\"\"\"\n",
    "fruits = ['apple', 'banana', 'cherry', 'orange']\n",
    "\n",
    "x = fruits.copy()"
   ]
  },
  {
   "cell_type": "code",
   "execution_count": 7,
   "id": "e7acfc06",
   "metadata": {},
   "outputs": [
    {
     "data": {
      "text/plain": [
       "['apple', 'banana', 'cherry', 'orange']"
      ]
     },
     "execution_count": 7,
     "metadata": {},
     "output_type": "execute_result"
    }
   ],
   "source": [
    "x"
   ]
  },
  {
   "cell_type": "code",
   "execution_count": 10,
   "id": "9a79fbb6",
   "metadata": {},
   "outputs": [
    {
     "data": {
      "text/plain": [
       "1"
      ]
     },
     "execution_count": 10,
     "metadata": {},
     "output_type": "execute_result"
    }
   ],
   "source": [
    "\"\"\"\n",
    "Python List count() Method\n",
    "KAÇ KERE VAR\n",
    "\"\"\"\n",
    "fruits = ['apple', 'banana', 'cherry']\n",
    "\n",
    "fruits.count(\"cherry\")"
   ]
  },
  {
   "cell_type": "code",
   "execution_count": 13,
   "id": "2b021c8e",
   "metadata": {},
   "outputs": [],
   "source": [
    "\"\"\"\n",
    "Python List extend() Method\n",
    "\"\"\"\n",
    "fruits = ['apple', 'banana', 'cherry',\"Ford\"]\n",
    "\n",
    "cars = ['Ford', 'BMW', 'Volvo']\n",
    "\n",
    "fruits.extend(cars)"
   ]
  },
  {
   "cell_type": "code",
   "execution_count": 14,
   "id": "9a2a198c",
   "metadata": {},
   "outputs": [
    {
     "data": {
      "text/plain": [
       "['apple', 'banana', 'cherry', 'Ford', 'Ford', 'BMW', 'Volvo']"
      ]
     },
     "execution_count": 14,
     "metadata": {},
     "output_type": "execute_result"
    }
   ],
   "source": [
    "fruits"
   ]
  },
  {
   "cell_type": "code",
   "execution_count": 16,
   "id": "9f47708a",
   "metadata": {},
   "outputs": [
    {
     "data": {
      "text/plain": [
       "2"
      ]
     },
     "execution_count": 16,
     "metadata": {},
     "output_type": "execute_result"
    }
   ],
   "source": [
    "\"\"\"\n",
    "Python List index() Method\n",
    "\"\"\"\n",
    "fruits = ['apple', 'banana', 'cherry']\n",
    "\n",
    "fruits.index(\"cherry\")"
   ]
  },
  {
   "cell_type": "code",
   "execution_count": 17,
   "id": "2acb14db",
   "metadata": {},
   "outputs": [],
   "source": [
    "\"\"\"\n",
    "Python List insert() Method\n",
    "\"\"\"\n",
    "fruits = ['apple', 'banana', 'cherry']\n",
    "\n",
    "fruits.insert(1, \"orange\")"
   ]
  },
  {
   "cell_type": "code",
   "execution_count": 18,
   "id": "fbabd6e5",
   "metadata": {},
   "outputs": [
    {
     "data": {
      "text/plain": [
       "['apple', 'orange', 'banana', 'cherry']"
      ]
     },
     "execution_count": 18,
     "metadata": {},
     "output_type": "execute_result"
    }
   ],
   "source": [
    "fruits"
   ]
  },
  {
   "cell_type": "code",
   "execution_count": 19,
   "id": "221b066e",
   "metadata": {},
   "outputs": [
    {
     "data": {
      "text/plain": [
       "'banana'"
      ]
     },
     "execution_count": 19,
     "metadata": {},
     "output_type": "execute_result"
    }
   ],
   "source": [
    "\"\"\"\n",
    "Python List pop() Method\n",
    "\"\"\"\n",
    "fruits = ['apple', 'banana', 'cherry']\n",
    "\n",
    "fruits.pop(1)"
   ]
  },
  {
   "cell_type": "code",
   "execution_count": 21,
   "id": "4d84126e",
   "metadata": {},
   "outputs": [
    {
     "data": {
      "text/plain": [
       "'cherry'"
      ]
     },
     "execution_count": 21,
     "metadata": {},
     "output_type": "execute_result"
    }
   ],
   "source": [
    "fruits = ['apple', 'banana', 'cherry']\n",
    "\n",
    "fruits.pop()"
   ]
  },
  {
   "cell_type": "code",
   "execution_count": 22,
   "id": "6f38a28c",
   "metadata": {},
   "outputs": [],
   "source": [
    "\"\"\"\n",
    "Python List remove() Method\n",
    "\"\"\"\n",
    "fruits = ['apple', 'banana', 'cherry']\n",
    "\n",
    "fruits.remove(\"banana\")"
   ]
  },
  {
   "cell_type": "code",
   "execution_count": 24,
   "id": "db995c3b",
   "metadata": {},
   "outputs": [
    {
     "data": {
      "text/plain": [
       "['apple', 'cherry']"
      ]
     },
     "execution_count": 24,
     "metadata": {},
     "output_type": "execute_result"
    }
   ],
   "source": [
    "fruits"
   ]
  },
  {
   "cell_type": "code",
   "execution_count": 25,
   "id": "0c4503cc",
   "metadata": {},
   "outputs": [],
   "source": [
    "\"\"\"\n",
    "Python List reverse() Method\n",
    "\"\"\"\n",
    "fruits = ['apple', 'banana', 'cherry']\n",
    "\n",
    "fruits.reverse()"
   ]
  },
  {
   "cell_type": "code",
   "execution_count": 26,
   "id": "3bb8badc",
   "metadata": {},
   "outputs": [
    {
     "data": {
      "text/plain": [
       "['cherry', 'banana', 'apple']"
      ]
     },
     "execution_count": 26,
     "metadata": {},
     "output_type": "execute_result"
    }
   ],
   "source": [
    "fruits"
   ]
  },
  {
   "cell_type": "code",
   "execution_count": 30,
   "id": "e973977a",
   "metadata": {},
   "outputs": [
    {
     "data": {
      "text/plain": [
       "['BMW', 'Ford', 'Volvo']"
      ]
     },
     "execution_count": 30,
     "metadata": {},
     "output_type": "execute_result"
    }
   ],
   "source": [
    "\"\"\"\n",
    "Python List sort() Method\n",
    "\"\"\"\n",
    "cars = ['Ford', 'BMW', 'Volvo']\n",
    "\n",
    "cars.sort()\n",
    "cars"
   ]
  },
  {
   "cell_type": "code",
   "execution_count": 28,
   "id": "96a78bf3",
   "metadata": {},
   "outputs": [],
   "source": [
    "cars = ['Ford', 'BMW', 'Volvo']\n",
    "\n",
    "cars.sort(reverse=True)"
   ]
  },
  {
   "cell_type": "code",
   "execution_count": 29,
   "id": "c8bee03e",
   "metadata": {},
   "outputs": [
    {
     "data": {
      "text/plain": [
       "['Volvo', 'Ford', 'BMW']"
      ]
     },
     "execution_count": 29,
     "metadata": {},
     "output_type": "execute_result"
    }
   ],
   "source": [
    "cars"
   ]
  },
  {
   "cell_type": "code",
   "execution_count": 31,
   "id": "229bf7b9",
   "metadata": {},
   "outputs": [
    {
     "ename": "TypeError",
     "evalue": "'<' not supported between instances of 'str' and 'int'",
     "output_type": "error",
     "traceback": [
      "\u001b[0;31m---------------------------------------------------------------------------\u001b[0m",
      "\u001b[0;31mTypeError\u001b[0m                                 Traceback (most recent call last)",
      "\u001b[0;32m/tmp/ipykernel_45122/1065084236.py\u001b[0m in \u001b[0;36m<module>\u001b[0;34m\u001b[0m\n\u001b[1;32m      1\u001b[0m \u001b[0mcars\u001b[0m \u001b[0;34m=\u001b[0m \u001b[0;34m[\u001b[0m\u001b[0;34m'Ford'\u001b[0m\u001b[0;34m,\u001b[0m \u001b[0;34m'BMW'\u001b[0m\u001b[0;34m,\u001b[0m \u001b[0;34m'Volvo'\u001b[0m\u001b[0;34m,\u001b[0m\u001b[0;36m1\u001b[0m\u001b[0;34m]\u001b[0m\u001b[0;34m\u001b[0m\u001b[0;34m\u001b[0m\u001b[0m\n\u001b[1;32m      2\u001b[0m \u001b[0;34m\u001b[0m\u001b[0m\n\u001b[0;32m----> 3\u001b[0;31m \u001b[0mcars\u001b[0m\u001b[0;34m.\u001b[0m\u001b[0msort\u001b[0m\u001b[0;34m(\u001b[0m\u001b[0mreverse\u001b[0m\u001b[0;34m=\u001b[0m\u001b[0;32mTrue\u001b[0m\u001b[0;34m)\u001b[0m\u001b[0;34m\u001b[0m\u001b[0;34m\u001b[0m\u001b[0m\n\u001b[0m",
      "\u001b[0;31mTypeError\u001b[0m: '<' not supported between instances of 'str' and 'int'"
     ]
    }
   ],
   "source": [
    "cars = ['Ford', 'BMW', 'Volvo',1]\n",
    "\n",
    "cars.sort(reverse=True)"
   ]
  },
  {
   "cell_type": "code",
   "execution_count": null,
   "id": "69fe441d",
   "metadata": {},
   "outputs": [],
   "source": []
  }
 ],
 "metadata": {
  "kernelspec": {
   "display_name": "Python 3 (ipykernel)",
   "language": "python",
   "name": "python3"
  },
  "language_info": {
   "codemirror_mode": {
    "name": "ipython",
    "version": 3
   },
   "file_extension": ".py",
   "mimetype": "text/x-python",
   "name": "python",
   "nbconvert_exporter": "python",
   "pygments_lexer": "ipython3",
   "version": "3.10.7"
  }
 },
 "nbformat": 4,
 "nbformat_minor": 5
}
