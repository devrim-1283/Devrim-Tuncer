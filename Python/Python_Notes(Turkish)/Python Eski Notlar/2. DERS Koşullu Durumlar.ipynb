{
 "cells": [
  {
   "cell_type": "code",
   "execution_count": 1,
   "id": "664328e9",
   "metadata": {},
   "outputs": [
    {
     "name": "stdout",
     "output_type": "stream",
     "text": [
      "<class 'bool'>\n"
     ]
    }
   ],
   "source": [
    "\"\"\"\n",
    "Mantıksal Değerler ve Karşılaştırma Operatörleri\n",
    "Bu konuda, koşullu durumları incelemeden önce bilmemiz gereken mantıksal değerleri ve karşılaştırma \n",
    "operatörlerini öğrenmeye çalışacağız.\n",
    "\n",
    "Mantıksal Değerler (Boolean)\n",
    "Mantıksal değerler ya da ingilizce ismiyle boolean değerler aslında Pythonda bir veri tipidir ve \n",
    "iki değere sahiplerdir: True ve False. Şimdi bu değerlerden değişkenler oluşturalım.\n",
    "\"\"\"\n",
    "a =  True\n",
    "print(type(a))"
   ]
  },
  {
   "cell_type": "code",
   "execution_count": 2,
   "id": "0681b23b",
   "metadata": {},
   "outputs": [
    {
     "name": "stdout",
     "output_type": "stream",
     "text": [
      "<class 'bool'>\n"
     ]
    }
   ],
   "source": [
    "b = False\n",
    "print(type(b))\n"
   ]
  },
  {
   "cell_type": "code",
   "execution_count": 3,
   "id": "8065c8fb",
   "metadata": {},
   "outputs": [
    {
     "data": {
      "text/plain": [
       "True"
      ]
     },
     "execution_count": 3,
     "metadata": {},
     "output_type": "execute_result"
    }
   ],
   "source": [
    "bool(12.4)"
   ]
  },
  {
   "cell_type": "code",
   "execution_count": 4,
   "id": "43f9fc5e",
   "metadata": {},
   "outputs": [
    {
     "data": {
      "text/plain": [
       "False"
      ]
     },
     "execution_count": 4,
     "metadata": {},
     "output_type": "execute_result"
    }
   ],
   "source": [
    "bool(0.0)"
   ]
  },
  {
   "cell_type": "code",
   "execution_count": 5,
   "id": "e68e8e86",
   "metadata": {},
   "outputs": [
    {
     "data": {
      "text/plain": [
       "True"
      ]
     },
     "execution_count": 5,
     "metadata": {},
     "output_type": "execute_result"
    }
   ],
   "source": [
    "bool(121212)"
   ]
  },
  {
   "cell_type": "code",
   "execution_count": 6,
   "id": "e376969b",
   "metadata": {},
   "outputs": [
    {
     "data": {
      "text/plain": [
       "True"
      ]
     },
     "execution_count": 6,
     "metadata": {},
     "output_type": "execute_result"
    }
   ],
   "source": [
    "bool(-1)"
   ]
  },
  {
   "cell_type": "code",
   "execution_count": 7,
   "id": "2e3c4cb7",
   "metadata": {},
   "outputs": [
    {
     "data": {
      "text/plain": [
       "False"
      ]
     },
     "execution_count": 7,
     "metadata": {},
     "output_type": "execute_result"
    }
   ],
   "source": [
    "bool(0)"
   ]
  },
  {
   "cell_type": "code",
   "execution_count": 8,
   "id": "db338a7b",
   "metadata": {},
   "outputs": [
    {
     "data": {
      "text/plain": [
       "False"
      ]
     },
     "execution_count": 8,
     "metadata": {},
     "output_type": "execute_result"
    }
   ],
   "source": [
    "#Bool değerleri ayrıca birazdan göreceğimiz bir karşılaştırma operatöründen sonra ortaya çıkan sonuç değeridir\n",
    "1 > 2 # 1 2 den büyük olmadığı için sonuç False olacaktır."
   ]
  },
  {
   "cell_type": "code",
   "execution_count": 9,
   "id": "8c9950d4",
   "metadata": {},
   "outputs": [
    {
     "data": {
      "text/plain": [
       "True"
      ]
     },
     "execution_count": 9,
     "metadata": {},
     "output_type": "execute_result"
    }
   ],
   "source": [
    "1 < 2 # 1 2 den küçük olduğu için sonuç True olacaktır."
   ]
  },
  {
   "cell_type": "code",
   "execution_count": 10,
   "id": "3a81cdb8",
   "metadata": {},
   "outputs": [
    {
     "name": "stdout",
     "output_type": "stream",
     "text": [
      "None\n"
     ]
    }
   ],
   "source": [
    "\"\"\"\n",
    "Ayrıca Pythonda eğer bir değişkenin değerini sonradan belirlemek isterseniz geçici olarak bu \n",
    "değişken None (atanmamış anlamında) değerine eşitleyebilirsiniz.\n",
    "\"\"\"\n",
    "a = None # Henüz değer atamadık\n",
    "print(a)"
   ]
  },
  {
   "cell_type": "code",
   "execution_count": 11,
   "id": "bee5c984",
   "metadata": {},
   "outputs": [
    {
     "name": "stdout",
     "output_type": "stream",
     "text": [
      "4\n"
     ]
    }
   ],
   "source": [
    "a = 4 # Şimdi değer atıyoruz.\n",
    "print(a)"
   ]
  },
  {
   "cell_type": "code",
   "execution_count": 12,
   "id": "d8e05a6e",
   "metadata": {},
   "outputs": [
    {
     "data": {
      "text/plain": [
       "True"
      ]
     },
     "execution_count": 12,
     "metadata": {},
     "output_type": "execute_result"
    }
   ],
   "source": [
    "\"\"\"\n",
    "Karşılaştırma Operatörleri\n",
    "Operatör\tGörevi\tÖrnek\n",
    "==\tİki değer birbirine eşitse True, değilse False değer döner.\t2 == 2 (True) , 2 == 3 (False)\n",
    "!=\tİki değer birbirine eşit değilse True, diğer durumda False döner.\t2 != 2 (False), 2 != 3 (True)\n",
    ">\tSoldaki değer sağdaki değerden büyükse True, değilse False döner.\t3 > 2 (True), 2 > 3 (False)\n",
    "<\tSoldaki değer sağdaki değerden küçükse True, değilse False döner.\t2 < 3 (True) , 3 < 2 (False)\n",
    ">=\tSoldaki değer sağdaki değerden büyükse veya sağdaki değere eşitse True, değilse False döner.\n",
    "3 >= 2 (True),3 >= 3 (True) , 2 >= 3 (False)\n",
    "<=\tSoldaki değer sağdaki değerden küçükse veya sağdaki değere eşitse True, değilse False döner.\n",
    "3 <= 2 (False),3 <= 3 (True) , 2 <= 3 (True)\n",
    "\"\"\"\n",
    "\"Mehmet\" == \"Mehmet\""
   ]
  },
  {
   "cell_type": "code",
   "execution_count": 13,
   "id": "a7a79579",
   "metadata": {},
   "outputs": [
    {
     "data": {
      "text/plain": [
       "False"
      ]
     },
     "execution_count": 13,
     "metadata": {},
     "output_type": "execute_result"
    }
   ],
   "source": [
    "\"Mehmet\" == \"Murat\"\n"
   ]
  },
  {
   "cell_type": "code",
   "execution_count": 14,
   "id": "d8c74c23",
   "metadata": {},
   "outputs": [
    {
     "data": {
      "text/plain": [
       "True"
      ]
     },
     "execution_count": 14,
     "metadata": {},
     "output_type": "execute_result"
    }
   ],
   "source": [
    "\"Mehmet\" != \"Murat\""
   ]
  },
  {
   "cell_type": "code",
   "execution_count": 15,
   "id": "42e1cbf4",
   "metadata": {},
   "outputs": [
    {
     "data": {
      "text/plain": [
       "False"
      ]
     },
     "execution_count": 15,
     "metadata": {},
     "output_type": "execute_result"
    }
   ],
   "source": [
    "\"Oğuz\" < \"Murat\" # Alfabetik olarak bakar. "
   ]
  },
  {
   "cell_type": "code",
   "execution_count": 16,
   "id": "8251e152",
   "metadata": {},
   "outputs": [
    {
     "data": {
      "text/plain": [
       "True"
      ]
     },
     "execution_count": 16,
     "metadata": {},
     "output_type": "execute_result"
    }
   ],
   "source": [
    "2 < 3"
   ]
  },
  {
   "cell_type": "code",
   "execution_count": 17,
   "id": "ba77e5e9",
   "metadata": {},
   "outputs": [
    {
     "data": {
      "text/plain": [
       "True"
      ]
     },
     "execution_count": 17,
     "metadata": {},
     "output_type": "execute_result"
    }
   ],
   "source": [
    "54 >= 54"
   ]
  },
  {
   "cell_type": "code",
   "execution_count": 18,
   "id": "b03e29a7",
   "metadata": {},
   "outputs": [
    {
     "data": {
      "text/plain": [
       "True"
      ]
     },
     "execution_count": 18,
     "metadata": {},
     "output_type": "execute_result"
    }
   ],
   "source": [
    "98 > 32"
   ]
  },
  {
   "cell_type": "code",
   "execution_count": 19,
   "id": "066218aa",
   "metadata": {},
   "outputs": [
    {
     "data": {
      "text/plain": [
       "True"
      ]
     },
     "execution_count": 19,
     "metadata": {},
     "output_type": "execute_result"
    }
   ],
   "source": [
    "34 <= 45"
   ]
  },
  {
   "cell_type": "code",
   "execution_count": 20,
   "id": "223a3371",
   "metadata": {},
   "outputs": [
    {
     "data": {
      "text/plain": [
       "True"
      ]
     },
     "execution_count": 20,
     "metadata": {},
     "output_type": "execute_result"
    }
   ],
   "source": [
    "\"\"\"\n",
    "Mantıksal Bağlaçlar\n",
    "Mantıksal bağlaçlar daha çok karşılaştırma işlemini kontrol ettiğimiz zamanlarda kullanılır.\n",
    "Bu konuda bunları öğrenmeye çalışacağız.\n",
    "\n",
    "and Operatörü\n",
    "Bu mantıksal bağlaç, bütün karşılaştırma işlemlerinin sonucunun True olmasına bakar. \n",
    "Bağlanan karşılaştırma işlemlerinin hepsinin kendi içinde sonucu True ise genel sonuç\n",
    "True , diğer durumlarda ise sonuç False çıkar. Kullanımı şu şekildedir.\n",
    "\"\"\"\n",
    "1 < 2 and \"Murat\" == \"Murat\""
   ]
  },
  {
   "cell_type": "code",
   "execution_count": 21,
   "id": "56b5e9a8",
   "metadata": {},
   "outputs": [
    {
     "data": {
      "text/plain": [
       "False"
      ]
     },
     "execution_count": 21,
     "metadata": {},
     "output_type": "execute_result"
    }
   ],
   "source": [
    "2 > 3 and \"Murat\" == \"Murat\""
   ]
  },
  {
   "cell_type": "code",
   "execution_count": 22,
   "id": "cf0d5190",
   "metadata": {},
   "outputs": [
    {
     "data": {
      "text/plain": [
       "False"
      ]
     },
     "execution_count": 22,
     "metadata": {},
     "output_type": "execute_result"
    }
   ],
   "source": [
    "2 == 2 and 3.14 < 2.54 and \"Elma\" != \"Armut\""
   ]
  },
  {
   "cell_type": "code",
   "execution_count": 23,
   "id": "b545372d",
   "metadata": {},
   "outputs": [],
   "source": [
    "#İşlemlerin birinin bile sonucu False ise genel işlemin sonucu False çıkmaktadır."
   ]
  },
  {
   "cell_type": "code",
   "execution_count": 24,
   "id": "3b161b26",
   "metadata": {},
   "outputs": [
    {
     "data": {
      "text/plain": [
       "True"
      ]
     },
     "execution_count": 24,
     "metadata": {},
     "output_type": "execute_result"
    }
   ],
   "source": [
    "\"\"\"\n",
    "or Operatörü\n",
    "Bu mantıksal bağlaç, bütün karşılaştırma işlemlerinin sonuçlarından en az birinin True olmasına bakar.\n",
    "Bağlanan karşılaştırma işlemlerinin en az birinin True olmasında genel sonuç True , diğer durumlarda \n",
    "ise sonuç False çıkar. Kullanımı şu şekildedir.\n",
    "\"\"\"\n",
    "1 < 2 or \"Murat\" != \"Murat\""
   ]
  },
  {
   "cell_type": "code",
   "execution_count": 26,
   "id": "3dee5a3f",
   "metadata": {},
   "outputs": [
    {
     "data": {
      "text/plain": [
       "False"
      ]
     },
     "execution_count": 26,
     "metadata": {},
     "output_type": "execute_result"
    }
   ],
   "source": [
    "2 > 3 or \"Murat\" != \"Murat\""
   ]
  },
  {
   "cell_type": "code",
   "execution_count": 27,
   "id": "dc1a99fe",
   "metadata": {},
   "outputs": [
    {
     "data": {
      "text/plain": [
       "True"
      ]
     },
     "execution_count": 27,
     "metadata": {},
     "output_type": "execute_result"
    }
   ],
   "source": [
    "2 > 3 or \"Murat\" != \"Murat\" or 3.14 < 4.32"
   ]
  },
  {
   "cell_type": "code",
   "execution_count": 28,
   "id": "e269167e",
   "metadata": {},
   "outputs": [
    {
     "data": {
      "text/plain": [
       "False"
      ]
     },
     "execution_count": 28,
     "metadata": {},
     "output_type": "execute_result"
    }
   ],
   "source": [
    "\"\"\"\n",
    "not operatörü\n",
    "not operatörü aslında bir mantıksal bağlaç değildir. Bu operatör sadece bir mantıksal değeri\n",
    "veya karşılaştırma işlemininin tam tersi sonuca çevirir. Yani, not operatörü True olan bir sonucu \n",
    "False , False olan bir sonucu True sonucuna çevirir. Kullanımı şu şekildedir.\n",
    "\"\"\"\n",
    "not 2 == 2"
   ]
  },
  {
   "cell_type": "code",
   "execution_count": 29,
   "id": "e6737500",
   "metadata": {},
   "outputs": [
    {
     "data": {
      "text/plain": [
       "True"
      ]
     },
     "execution_count": 29,
     "metadata": {},
     "output_type": "execute_result"
    }
   ],
   "source": [
    "not \"Python\" == \"Php\""
   ]
  },
  {
   "cell_type": "code",
   "execution_count": 30,
   "id": "92424a88",
   "metadata": {},
   "outputs": [
    {
     "data": {
      "text/plain": [
       "True"
      ]
     },
     "execution_count": 30,
     "metadata": {},
     "output_type": "execute_result"
    }
   ],
   "source": [
    "\"\"\"\n",
    "Operatörleri Beraber Kullanma\n",
    "Burada gördüğümüz 3 operatörü beraber kullanmak karmaşıklığa yol açacağı için, parantez kullanabiliriz.\n",
    "\"\"\"\n",
    "not (2.14 > 3.49 or ( 2 != 2 and \"Murat\" == \"Murat\"))"
   ]
  },
  {
   "cell_type": "code",
   "execution_count": 31,
   "id": "b44f7cab",
   "metadata": {},
   "outputs": [
    {
     "data": {
      "text/plain": [
       "True"
      ]
     },
     "execution_count": 31,
     "metadata": {},
     "output_type": "execute_result"
    }
   ],
   "source": [
    "\"Araba\" < \"Zula\" and ( \"Bebek\" < \"Çoçuk\" or (not 14 ))"
   ]
  },
  {
   "cell_type": "code",
   "execution_count": 32,
   "id": "bda7ba46",
   "metadata": {},
   "outputs": [
    {
     "name": "stdout",
     "output_type": "stream",
     "text": [
      "9\n"
     ]
    }
   ],
   "source": [
    "\"\"\"\n",
    "Koşullu Durumlar - if-else koşullu durumları\n",
    "Şimdiye kadar Pythondaki temel veritiplerini öğrendik ve gerekli temelleri aldık. Artık bundan \n",
    "sonra çok daha eğlenceli konular göreceğiz ve elle tutulur programlar yazmaya başlayacağız. \n",
    "Bu konuda ilk olarak Python programlarının çalışma mantığını göreceğiz ve daha sonrasında koşullu\n",
    "durumları anlamaya çalışacağız.\n",
    "\n",
    "Python Programlarının çalışma mantığı\n",
    "Python programları çalışmaya başladığı zaman kodlarımız yukardan başlayarak teker teker çalıştırılır\n",
    "ve çalıştıracak kod kalmayınca programımız sona erer. Şöyle bir örneği düşünelim;\n",
    "\"\"\"\n",
    "a = 2\n",
    "b = 3\n",
    "c = 4\n",
    "print(a+b+c)"
   ]
  },
  {
   "cell_type": "code",
   "execution_count": 33,
   "id": "bad01aac",
   "metadata": {},
   "outputs": [
    {
     "name": "stdout",
     "output_type": "stream",
     "text": [
      "2\n",
      "Merhaba\n"
     ]
    }
   ],
   "source": [
    "\"\"\"\n",
    "Yukarıdaki basit kodda program teker teker her bir satırı ve ifadeyi çalıştırır ve çalıştıracak \n",
    "kod kalmayınca program sona erer.Ancak Python'da her program bu kadar basit olmayabilir. Çoğu zaman \n",
    "Python programlarımız belirli bloklardan oluşur ve bu bloklar her zaman çalışmak zorunda olmaz.Peki \n",
    "bu bloklar nasıl tanımlanır ? Pythonda bir blok tanımlama işlemi Girintiler sayesinde olmaktadır. Örnek\n",
    "olması açısından, Pythonda bloklar şu şekilde oluşabilir.\n",
    "\"\"\"\n",
    "a = 2 # Blok 1 'e ait kod\n",
    "\n",
    "if (a == 2):\n",
    "    print(a) # Blok 2'ye ait kod\n",
    "print(\"Merhaba\") # Blok 1 ' ait kod"
   ]
  },
  {
   "cell_type": "code",
   "execution_count": 35,
   "id": "5af9c0c8",
   "metadata": {},
   "outputs": [
    {
     "name": "stdout",
     "output_type": "stream",
     "text": [
      "Merhaba\n"
     ]
    }
   ],
   "source": [
    "\"\"\"\n",
    "Dikkat ederseniz burada daha önce görmediğimiz bir şey yaptık ve if in bulunduğu satırdan \n",
    "sonraki print işlemini bir tab kadar girintili yazdık. Burada gördüğümüz gibi, girintiler(tab) \n",
    "Pythonda bir blok oluşturmak için kullanılıyor ve her bloğunun çalıştırılması gerekmiyor. Mesela \n",
    "yukarıda gördüğümüz kodda 2 print işlemi de çalıştı. Ancak kodumuzu şu şekilde yazsaydık, ilk print \n",
    "işlemi çalışmayacaktı.\n",
    "\"\"\"\n",
    "a = 2 # Blok 1 'e ait kod\n",
    "\n",
    "if (a == 3):\n",
    "    print(a) # Blok 2'ye ait kod\n",
    "print(\"Merhaba\") # Blok 1 ' ait kod"
   ]
  },
  {
   "cell_type": "code",
   "execution_count": 36,
   "id": "0c5cfb1b",
   "metadata": {},
   "outputs": [
    {
     "name": "stdout",
     "output_type": "stream",
     "text": [
      "Yaşınızı giriniz:13\n",
      "Bu mekana giremezsiniz.\n"
     ]
    }
   ],
   "source": [
    "\"\"\"\n",
    "Buradaki blok tanımlama işlemlerimiz bundan sonra sürekli karşımıza çıkacak. \n",
    "Eğer henüz anlamadıysanız zamanla anladığınızı göreceksiniz.\n",
    "\n",
    "Koşullu Durumlar\n",
    "Artık Pythonda bizi bir ileri seviyeye taşıyacak koşullu durumları öğrenmenin vakti geldi.\n",
    "\n",
    "Koşullu durumlar aslında günlük yaşamda sürekli karşılaştığımız durumlardır. Örneğin havanın \n",
    "yağmurlu olma koşuluna göre şemsiyemizi alırız veya uykumuzun gelme koşuluna göre uyuruz. Aslında \n",
    "programlamada da birçok koşullu durumla karşılaşırız. Örneğin , belli koşullara göre belli işlemleri\n",
    "yaparız , belli koşullara göre yapmayız. İşte bunlar koşullu durumların temeli oluşturur. İsterseniz \n",
    "koşullu durumları yazmaya if blokları ile başlayalım.\n",
    "\n",
    "if Bloğu\n",
    "if bloğu programımızın içinde herhangi bir yerde belli bir koşulu kontrol edecek isek kullanılan bloklardır.\n",
    "Yazımı şu şekildedir;\n",
    "\n",
    "       if (koşul): \n",
    "           # if bloğu - Koşul sağlanınca (True) çalışır. Bu hizadaki her işlem bu if bloğuna ait.\n",
    "           # if bloğu - Girintiyle oluşturulur.\n",
    "           Yapılacak İşlemler\n",
    "           \n",
    "if bloğu eğer koşul sağlanırsa anlamı taşır. Eğer if kalıbındaki koşul sağlanırsa (True) if bloğu çalıştırılır,\n",
    "koşul sağlanmazsa (False) if bloğu çalıştırılmaz.\n",
    "\n",
    "Hemen bir örnek ile koşullu durumları anlamaya çalışalım.\n",
    "\"\"\"\n",
    "# 18 yaş kontrolü\n",
    "yaş = int(input(\"Yaşınızı giriniz:\"))\n",
    "\n",
    "if (yaş < 18):\n",
    "    # if bloğu -  Girinti ile sağlanıyor.\n",
    "    print(\"Bu mekana giremezsiniz.\")"
   ]
  },
  {
   "cell_type": "code",
   "execution_count": 37,
   "id": "50db7fa4",
   "metadata": {},
   "outputs": [
    {
     "name": "stdout",
     "output_type": "stream",
     "text": [
      "Yaşınızı giriniz:19\n"
     ]
    }
   ],
   "source": [
    "# 18 yaş kontrolü\n",
    "yaş = int(input(\"Yaşınızı giriniz:\"))\n",
    "\n",
    "if (yaş < 18):\n",
    "    # if bloğu -  Girinti ile sağlanıyor.\n",
    "    print(\"Bu mekana giremezsiniz.\")"
   ]
  },
  {
   "cell_type": "code",
   "execution_count": 38,
   "id": "90051a46",
   "metadata": {},
   "outputs": [
    {
     "name": "stdout",
     "output_type": "stream",
     "text": [
      "Sayıyı giriniz:-3\n",
      "Negatif Sayı\n"
     ]
    }
   ],
   "source": [
    "# Negatif mi değil mi ?\n",
    "sayı = int (input(\"Sayıyı giriniz:\"))\n",
    "\n",
    "if (sayı < 0):\n",
    "    print(\"Negatif Sayı\")\n",
    "    "
   ]
  },
  {
   "cell_type": "code",
   "execution_count": 39,
   "id": "2b206ecb",
   "metadata": {},
   "outputs": [
    {
     "name": "stdout",
     "output_type": "stream",
     "text": [
      "Yaşınızı giriniz:17\n",
      "Bu mekana giremezsiniz.\n",
      "Mekana hoşgeldiniz.\n"
     ]
    }
   ],
   "source": [
    "\"\"\"\n",
    "Ancak buralarda bir eksiklik var. Örneğin , ** 18 yaş kontrolü ** örneğinde eğer yaş 18'e eşit\n",
    "ve 18'den büyükse ekrana herhangi bir şey basamıyoruz. Şöyle bir şey acaba istediğimizi gerçekleştirecek mi ?\n",
    "\"\"\"\n",
    "# 18 yaş kontrolü\n",
    "yaş = int(input(\"Yaşınızı giriniz:\"))\n",
    "\n",
    "if (yaş < 18):\n",
    "    # if bloğu -  Girinti ile sağlanıyor.\n",
    "    print(\"Bu mekana giremezsiniz.\")\n",
    "print(\"Mekana hoşgeldiniz.\")"
   ]
  },
  {
   "cell_type": "code",
   "execution_count": 40,
   "id": "d3054b05",
   "metadata": {},
   "outputs": [
    {
     "name": "stdout",
     "output_type": "stream",
     "text": [
      "Yaşınızı giriniz:19\n",
      "Mekana hoşgeldiniz.\n"
     ]
    }
   ],
   "source": [
    "# 18 yaş kontrolü\n",
    "yaş = int(input(\"Yaşınızı giriniz:\"))\n",
    "\n",
    "if (yaş < 18):\n",
    "    # if bloğu -  Girinti ile sağlanıyor.\n",
    "    print(\"Bu mekana giremezsiniz.\")\n",
    "print(\"Mekana hoşgeldiniz.\")"
   ]
  },
  {
   "cell_type": "code",
   "execution_count": 41,
   "id": "e5ee7a1c",
   "metadata": {},
   "outputs": [
    {
     "name": "stdout",
     "output_type": "stream",
     "text": [
      "Yaşınızı giriniz:18\n",
      "Mekana hoşgeldiniz.\n"
     ]
    }
   ],
   "source": [
    "\"\"\"\n",
    "Burada istediğimizi elde edemedik çünkü 2. print işlemi herhangi bir koşula bağlı değil. \n",
    "O yüzden 2.print işlemi her durumda çalışıyor. Peki if koşulu sağlanmadığında belli bir \n",
    "işlemin çalışmasını nasıl sağlayacağız ? Bunun için sıradaki kalıbımızı öğrenelim.\n",
    "\n",
    "else Bloğu\n",
    "else blokları **if koşulu ** sağlanmadığı zaman (False) çalışan bloklardır. Kullanımı şu şekildedir;\n",
    "\n",
    "       else:\n",
    "           # else bloğu - Yukarısındaki herhangi bir if bloğu (veya ilerde göreceğimiz elif bloğu) çalışmadığı\n",
    "           # zaman çalışır. \n",
    "           # else bloğu - Girintiyle oluşturulur.\n",
    "               Yapılacak İşlemler\n",
    "           \n",
    "Dikkat ederseniz burada else koşulunun yanına herhangi bir koşul yazmadık. Çünkü zaten else bloğunun\n",
    "çalışması ondan önce gelen diğer koşulların sağlanmamasına bağlı oluyor. İsterseniz, 18 yaş kontrolü\n",
    "örneğini else bloğunu dahil ederek tekrar yazalım.\n",
    "\"\"\"\n",
    "# 18 yaş kontrolü\n",
    "yaş = int(input(\"Yaşınızı giriniz:\"))\n",
    "\n",
    "if (yaş < 18):\n",
    "    # if bloğu -  Girinti ile sağlanıyor.\n",
    "    print(\"Bu mekana giremezsiniz.\")\n",
    "else:\n",
    "    # else bloğu -  if koşulu sağlanmazsa çalışacak.\n",
    "    print(\"Mekana hoşgeldiniz.\")"
   ]
  },
  {
   "cell_type": "code",
   "execution_count": 42,
   "id": "e10dd9bc",
   "metadata": {},
   "outputs": [
    {
     "name": "stdout",
     "output_type": "stream",
     "text": [
      "Yaşınızı giriniz:10\n",
      "Bu mekana giremezsiniz.\n"
     ]
    }
   ],
   "source": [
    "# 18 yaş kontrolü\n",
    "yaş = int(input(\"Yaşınızı giriniz:\"))\n",
    "\n",
    "if (yaş < 18):\n",
    "    # if bloğu -  Girinti ile sağlanıyor.\n",
    "    print(\"Bu mekana giremezsiniz.\")\n",
    "else:\n",
    "    # else bloğu -  if koşulu sağlanmazsa çalışacak.\n",
    "    print(\"Mekana hoşgeldiniz.\")"
   ]
  },
  {
   "cell_type": "code",
   "execution_count": 43,
   "id": "058db973",
   "metadata": {},
   "outputs": [
    {
     "ename": "SyntaxError",
     "evalue": "invalid syntax (502107600.py, line 1)",
     "output_type": "error",
     "traceback": [
      "\u001b[0;36m  File \u001b[0;32m\"/tmp/ipykernel_24877/502107600.py\"\u001b[0;36m, line \u001b[0;32m1\u001b[0m\n\u001b[0;31m    else:\u001b[0m\n\u001b[0m    ^\u001b[0m\n\u001b[0;31mSyntaxError\u001b[0m\u001b[0;31m:\u001b[0m invalid syntax\n"
     ]
    }
   ],
   "source": [
    "else:\n",
    "    print(\"Merhaba\")\n",
    "\"\"\"\n",
    "Buradaki kod hata verdi çünkü bir else bloğu kendinden önce herhangi bir koşul bloğu yok ise\n",
    "çalışamaz ve Pythonda hataya yol açar.\n",
    "\n",
    "Bir sonraki derste diğer koşullu bloklarımıza bakacağız.\n",
    "\"\"\""
   ]
  },
  {
   "cell_type": "code",
   "execution_count": 44,
   "id": "423c0837",
   "metadata": {},
   "outputs": [
    {
     "name": "stdout",
     "output_type": "stream",
     "text": [
      "İşlem seçiniz:1\n",
      "1. işlem seçildi.\n"
     ]
    }
   ],
   "source": [
    "\"\"\"\n",
    "Koşullu Durumlar - if - elif - else koşullu durumları\n",
    "Önceki konumuzda koşullu durumlardaki if-else kalıplarımızı öğrendik. Bu bölümde de if-elif-else kalıplarını\n",
    "öğrenmeye çalışacağız.\n",
    "\n",
    "if-elif-else Blokları\n",
    "Önceki konumuzda koşullu durumlarımızla sadece tek bir koşulu kontrol edebiliyorduk. Ancak programlamada bir\n",
    "durum bir çok koşula bağlı olabilir. Örneğin bir hesap makinesi programı yazdığımızda kullanıcının girdiği \n",
    "işlemlere göre koşullarımızı belirleyebiliriz. Bu tür durumlar için if-elif-else kalıplarını kullanırız. \n",
    "Kullanımı şu şekildedir;\n",
    "\n",
    "           if koşul: \n",
    "               Yapılacak İşlemler\n",
    "           elif başka bir koşul:\n",
    "               Yapılacak İşlemler\n",
    "           elif başka bir koşul:\n",
    "               Yapılacak İşlemler\n",
    "               \n",
    "                //\n",
    "                //\n",
    "           else:\n",
    "               Yapılacak İşlemler \n",
    "Programlarımızda, Kaç tane koşulumuz var ise o kadar elif bloğu oluşturabiliriz. Ayrıca else in yazılması \n",
    "zorunlu değildir. if - elif - else kalıplarında, hangi koşul sağlanırsa program o bloğu çalıştırır ve \n",
    "if-elif-blokları sona erer. Şimdi isterseniz kullanıcıya işlem seçtirdiğimiz bir programla , bu kalıbı \n",
    "öğrenmeye\n",
    "\"\"\"\n",
    "işlem =  int(input(\"İşlem seçiniz:\")) # 3 tane işlemimiz olsun.\n",
    "\n",
    "if işlem == 1:\n",
    "    print(\"1. işlem seçildi.\")\n",
    "elif işlem == 2:\n",
    "    print(\"2. işlem seçildi.\")\n",
    "elif işlem == 3:\n",
    "    print(\"3. işlem seçildi.\")\n",
    "else:\n",
    "    print(\"Geçersiz İşlem!\")\n"
   ]
  },
  {
   "cell_type": "code",
   "execution_count": 45,
   "id": "50e769bd",
   "metadata": {},
   "outputs": [
    {
     "name": "stdout",
     "output_type": "stream",
     "text": [
      "İşlem seçiniz:4\n",
      "Geçersiz İşlem!\n"
     ]
    }
   ],
   "source": [
    "işlem =  int(input(\"İşlem seçiniz:\")) # 3 tane işlemimiz olsun.\n",
    "\n",
    "if işlem == 1:\n",
    "    print(\"1. işlem seçildi.\")\n",
    "elif işlem == 2:\n",
    "    print(\"2. işlem seçildi.\")\n",
    "elif işlem == 3:\n",
    "    print(\"3. işlem seçildi.\")\n",
    "else:\n",
    "    print(\"Geçersiz İşlem!\")"
   ]
  },
  {
   "cell_type": "code",
   "execution_count": 46,
   "id": "9b1825a7",
   "metadata": {},
   "outputs": [
    {
     "name": "stdout",
     "output_type": "stream",
     "text": [
      "İşlem seçiniz:3\n",
      "3. işlem seçildi.\n"
     ]
    }
   ],
   "source": [
    "işlem =  int(input(\"İşlem seçiniz:\")) # 3 tane işlemimiz olsun.\n",
    "\n",
    "if işlem == 1:\n",
    "    print(\"1. işlem seçildi.\")\n",
    "elif işlem == 2:\n",
    "    print(\"2. işlem seçildi.\")\n",
    "elif işlem == 3:\n",
    "    print(\"3. işlem seçildi.\")\n",
    "else:\n",
    "    print(\"Geçersiz İşlem!\")"
   ]
  },
  {
   "cell_type": "code",
   "execution_count": 47,
   "id": "21fa3cbd",
   "metadata": {},
   "outputs": [
    {
     "name": "stdout",
     "output_type": "stream",
     "text": [
      "İşlem seçiniz:4\n"
     ]
    }
   ],
   "source": [
    "\"\"\"\n",
    "Programlarda else kalıbının kullanılmasına gerek yoktur.Buradaki kodda biz diğer durumlar\n",
    "için sadece opsiyonel bir else bloğu koyduk. Kodumuz else bloğu olmadan da çalışabilecektir.\n",
    "Ancak bu durumda yanlış bir işlem girilirse ekrana herhangi bir şeyin yazılmadığını göreceğiz. \n",
    "Yani, else bloğu kullanmak tamamen size bağlı.\n",
    "\"\"\"\n",
    "işlem =  int(input(\"İşlem seçiniz:\")) # 3 tane işlemimiz olsun.\n",
    "\n",
    "if işlem == 1:\n",
    "    print(\"1. işlem seçildi.\")\n",
    "elif işlem == 2:\n",
    "    print(\"2. işlem seçildi.\")\n",
    "elif işlem == 3:\n",
    "    print(\"3. işlem seçildi.\")"
   ]
  },
  {
   "cell_type": "code",
   "execution_count": 48,
   "id": "1d7b59ef",
   "metadata": {},
   "outputs": [
    {
     "ename": "SyntaxError",
     "evalue": "invalid syntax (2514721597.py, line 3)",
     "output_type": "error",
     "traceback": [
      "\u001b[0;36m  File \u001b[0;32m\"/tmp/ipykernel_24877/2514721597.py\"\u001b[0;36m, line \u001b[0;32m3\u001b[0m\n\u001b[0;31m    elif işlem == 2:\u001b[0m\n\u001b[0m    ^\u001b[0m\n\u001b[0;31mSyntaxError\u001b[0m\u001b[0;31m:\u001b[0m invalid syntax\n"
     ]
    }
   ],
   "source": [
    "işlem =  int(input(\"İşlem seçiniz:\")) # 3 tane işlemimiz olsun.\n",
    "\n",
    "elif işlem == 2:\n",
    "    print(\"2. işlem seçildi.\")\n",
    "elif işlem == 3:\n",
    "    print(\"3. işlem seçildi.\")\n",
    "else:\n",
    "    print(\"Geçersiz İşlem!\")"
   ]
  },
  {
   "cell_type": "code",
   "execution_count": 1,
   "id": "aad6626a",
   "metadata": {},
   "outputs": [
    {
     "name": "stdout",
     "output_type": "stream",
     "text": [
      "Notunuzu giriniz:90\n",
      "AA\n"
     ]
    }
   ],
   "source": [
    "\"\"\"\n",
    "f-if-if Blokları\n",
    "Bu blokları öğrenmeden önce isterseniz öğrendiğimiz bilgilerle, bir harf notu hesaplama sistemi yapalım.\n",
    "Daha sonra bu kalıpları anlamaya çalışalım.\n",
    "\"\"\"\n",
    "note = float(input(\"Notunuzu giriniz:\"))\n",
    "\n",
    "if note >= 90:\n",
    "    print(\"AA\")\n",
    "elif note >= 85:\n",
    "    print(\"BA\")\n",
    "elif note >= 90:\n",
    "    print(\"BA\")\n",
    "elif note >= 80:\n",
    "    print(\"BB\")\n",
    "elif note >= 75:\n",
    "    print(\"CB\")\n",
    "elif note >= 70:\n",
    "    print(\"CC\")\n",
    "elif note >= 65:\n",
    "    print(\"DC\")\n",
    "elif note >= 60:\n",
    "    print(\"DD\")\n",
    "else:\n",
    "    print(\"Dersten Kaldınız\")\n"
   ]
  },
  {
   "cell_type": "code",
   "execution_count": 2,
   "id": "cfc8dd66",
   "metadata": {},
   "outputs": [
    {
     "name": "stdout",
     "output_type": "stream",
     "text": [
      "Notunuzu giriniz:90\n",
      "AA\n",
      "BA\n",
      "BA\n",
      "BB\n",
      "CB\n",
      "CC\n",
      "DC\n",
      "DD\n"
     ]
    }
   ],
   "source": [
    "\"\"\"\n",
    "Burada eğer herhangi bir bloğumuz koşulu sağlarsa print işlemi gerçekleşecek ve programımız sonlanacaktır. \n",
    "Ancak acaba elif bloklarını if bloklarına çevirirsek programımız nasıl çalışacak ? Hemen bakalım.\n",
    "\"\"\"\n",
    "note = float(input(\"Notunuzu giriniz:\"))\n",
    "\n",
    "if note >= 90:\n",
    "    print(\"AA\")\n",
    "if note >= 85:\n",
    "    print(\"BA\")\n",
    "if note >= 90:\n",
    "    print(\"BA\")\n",
    "if note >= 80:\n",
    "    print(\"BB\")\n",
    "if note >= 75:\n",
    "    print(\"CB\")\n",
    "if note >= 70:\n",
    "    print(\"CC\")\n",
    "if note >= 65:\n",
    "    print(\"DC\")\n",
    "if note >= 60:\n",
    "    print(\"DD\")\n",
    "else:\n",
    "    print(\"Dersten Kaldınız\")\n"
   ]
  },
  {
   "cell_type": "code",
   "execution_count": 3,
   "id": "3b1f67fd",
   "metadata": {},
   "outputs": [
    {
     "name": "stdout",
     "output_type": "stream",
     "text": [
      "Notunuzu giriniz:50\n",
      "Dersten Kaldınız\n"
     ]
    }
   ],
   "source": [
    "note = float(input(\"Notunuzu giriniz:\"))\n",
    "\n",
    "if note >= 90:\n",
    "    print(\"AA\")\n",
    "if note >= 85:\n",
    "    print(\"BA\")\n",
    "if note >= 90:\n",
    "    print(\"BA\")\n",
    "if note >= 80:\n",
    "    print(\"BB\")\n",
    "if note >= 75:\n",
    "    print(\"CB\")\n",
    "if note >= 70:\n",
    "    print(\"CC\")\n",
    "if note >= 65:\n",
    "    print(\"DC\")\n",
    "if note >= 60:\n",
    "    print(\"DD\")\n",
    "else:\n",
    "    print(\"Dersten Kaldınız\")"
   ]
  },
  {
   "cell_type": "code",
   "execution_count": 4,
   "id": "263d2cc4",
   "metadata": {},
   "outputs": [
    {
     "data": {
      "text/plain": [
       "3"
      ]
     },
     "execution_count": 4,
     "metadata": {},
     "output_type": "execute_result"
    }
   ],
   "source": [
    "\"\"\"\n",
    "Burada gördüğümüz gibi programımız beklenmedik bir şekilde çalıştı.\n",
    "Çünkü Pythonda programlar her zaman bütün if bloklarını kontrol eder ve koşullar doğruysa bu blokları çalıştırır.\n",
    "İşte böyle not hesaplama gibi programlarda elif kullanmamızın sebebi budur.\n",
    "\n",
    "Koşullu durumlarımız şimdilik bu kadar ! Kurs boyunca programlarımızda birçok yerde koşullu durumları kullanacağız. Bu kısım sonundaki alıştırma videolarını izlerseniz ve ödevleri yaparsanız iyi yol kat etmiş olacaksınız.\n",
    "\"\"\"\n",
    "abs(-3)"
   ]
  },
  {
   "cell_type": "code",
   "execution_count": 5,
   "id": "30ba9b6f",
   "metadata": {},
   "outputs": [
    {
     "data": {
      "text/plain": [
       "5"
      ]
     },
     "execution_count": 5,
     "metadata": {},
     "output_type": "execute_result"
    }
   ],
   "source": [
    "abs(5)"
   ]
  },
  {
   "cell_type": "code",
   "execution_count": 6,
   "id": "337a4ef4",
   "metadata": {},
   "outputs": [
    {
     "data": {
      "text/plain": [
       "True"
      ]
     },
     "execution_count": 6,
     "metadata": {},
     "output_type": "execute_result"
    }
   ],
   "source": [
    "\"\"\"\n",
    "Şimdiye kadar yazdığımız programlarda yazdığımız programlar bir defa çalışıyor ve sona eriyordu.\n",
    "Ancak biz çoğu zaman programlarımızın belli koşullarda çalışmasını sürekli devam ettirmesini ve \n",
    "işlemlerini tekrar etmesini isteriz. İşte bunları yapmamızı sağlayan yapılara döngü diyoruz.\n",
    "\n",
    "Döngüler bütün programlama dillerinde bulunan ve belli koşullarda işlemlerini sürekli tekrar eden\n",
    "yapılardır. İsterseniz gerçek hayattaki programlara bakarak döngü mantığını anlamaya çalışalım.\n",
    "\n",
    "Örneğin , siz ATM makinesine gidip kartınızı yerleştiriyorsunuz ve program başlıyor. Para Çekme,\n",
    "Para Yatırma , Vergileri Ödeme gibi işlemleri tekrar tekrar gerçekleştiriyorsunuz. Programın sona\n",
    "ermesi ise Kart İade seçeneği ile gerçekleşiyor. Yani siz Kart İade tuşuna basmadığınız sürece\n",
    "ATM makinesi çalışmaya devam ediyor. Buna bakarak ,aslında ATM makinesi döngü yapılarını kullanıyor diyebiliriz.\n",
    "\n",
    "Başka bir örnek düşünelim. Örneğin siz bir siteye login olma işlemi gerçekleştiriyorsunuz. \n",
    "Biz kullanıcı adı ve parolayı yanlış girdiğimiz sürece program sürekli bize kullanıcı adı ve parola soruyor.\n",
    "Programın sona ermesi ise biz kullanıcı adı ve parolayı doğru girdiğimizde gerçekleşiyor. Yine burada da siz döngü yapılarının kullanıldığını düşünebilirsiniz.\n",
    "\n",
    "Biz de artık bu bölümle birlikte Pythondaki while ve for döngülerini kullanarak programlarımızı daha\n",
    "efektif bir şekilde yazabileceğiz.\n",
    "\n",
    "\n",
    "\n",
    "For Döngüleri\n",
    "\n",
    "Bu konuda Pythondaki for döngülerinin yapısını ve for döngülerinin kullanım alanlarını öğreneceğiz.\n",
    "Ancak ondan önce , Pythondaki in operatörünü öğrenmeye çalışalım.\n",
    "\n",
    "in Operatörü\n",
    "Pythondaki in operatörü , bir elemanın başka bir listede,demette veya stringte (karakter dizileri) \n",
    "bulunup bulunmadığını kontrol eder. Kullanımı şu şekildedir;\n",
    "\"\"\"\n",
    "\"a\" in \"merhaba\""
   ]
  },
  {
   "cell_type": "code",
   "execution_count": 7,
   "id": "473aff28",
   "metadata": {},
   "outputs": [
    {
     "data": {
      "text/plain": [
       "True"
      ]
     },
     "execution_count": 7,
     "metadata": {},
     "output_type": "execute_result"
    }
   ],
   "source": [
    "\"mer\" in \"merhaba\""
   ]
  },
  {
   "cell_type": "code",
   "execution_count": 8,
   "id": "5b120e29",
   "metadata": {},
   "outputs": [
    {
     "data": {
      "text/plain": [
       "False"
      ]
     },
     "execution_count": 8,
     "metadata": {},
     "output_type": "execute_result"
    }
   ],
   "source": [
    "\"t\" in \"merhaba\""
   ]
  },
  {
   "cell_type": "code",
   "execution_count": 9,
   "id": "837d7c1b",
   "metadata": {},
   "outputs": [
    {
     "data": {
      "text/plain": [
       "True"
      ]
     },
     "execution_count": 9,
     "metadata": {},
     "output_type": "execute_result"
    }
   ],
   "source": [
    "4 in [1,2,3,4]"
   ]
  },
  {
   "cell_type": "code",
   "execution_count": 10,
   "id": "35d33c79",
   "metadata": {},
   "outputs": [
    {
     "data": {
      "text/plain": [
       "False"
      ]
     },
     "execution_count": 10,
     "metadata": {},
     "output_type": "execute_result"
    }
   ],
   "source": [
    "10 in [1,2,3,4]"
   ]
  },
  {
   "cell_type": "code",
   "execution_count": 11,
   "id": "44eb2994",
   "metadata": {},
   "outputs": [
    {
     "data": {
      "text/plain": [
       "False"
      ]
     },
     "execution_count": 11,
     "metadata": {},
     "output_type": "execute_result"
    }
   ],
   "source": [
    "4 in (1,2,3)"
   ]
  },
  {
   "cell_type": "code",
   "execution_count": 12,
   "id": "5bb952e3",
   "metadata": {},
   "outputs": [
    {
     "name": "stdout",
     "output_type": "stream",
     "text": [
      "Eleman 1\n",
      "Eleman 2\n",
      "Eleman 3\n",
      "Eleman 4\n",
      "Eleman 5\n",
      "Eleman 6\n",
      "Eleman 7\n"
     ]
    }
   ],
   "source": [
    "\"\"\"\n",
    "for Döngüsü\n",
    "for Döngüsü , listelerin ,demetlerin, stringlerin ve hatta sözlüklerin üzerinde dolaşmamızı \n",
    "sağlayan bir döngü türüdür. Yapısı şu şekildedir.\n",
    "\n",
    "        for eleman in veri_yapısı(liste,demet vs):\n",
    "            Yapılacak İşlemler\n",
    "Bu yapı bize şunu söyler;\n",
    "\n",
    "        eleman değişkeni her döngünün başında listenin,demetin vs. her bir elemanına eşit olacak ve her döngüde \n",
    "        bu elemanla işlem yapılacak.\n",
    "for döngüsünü daha iyi anlamak için örneklerimize bakalım.\n",
    "\n",
    "Listeler Üzerinde Gezinmek\n",
    "\"\"\"\n",
    "liste = [1,2,3,4,5,6,7]\n",
    "\n",
    "for eleman in liste:\n",
    "    print(\"Eleman\",eleman)"
   ]
  },
  {
   "cell_type": "code",
   "execution_count": 13,
   "id": "1407877d",
   "metadata": {},
   "outputs": [
    {
     "name": "stdout",
     "output_type": "stream",
     "text": [
      "Toplam 28\n"
     ]
    }
   ],
   "source": [
    "# Liste elemanlarını toplama\n",
    "liste = [1,2,3,4,5,6,7]\n",
    "toplam = 0\n",
    "for eleman in liste:\n",
    "    toplam += eleman\n",
    "print(\"Toplam\",toplam)"
   ]
  },
  {
   "cell_type": "code",
   "execution_count": 14,
   "id": "06abf5cd",
   "metadata": {},
   "outputs": [
    {
     "name": "stdout",
     "output_type": "stream",
     "text": [
      "2\n",
      "4\n",
      "6\n",
      "8\n"
     ]
    }
   ],
   "source": [
    "# Çift elemanları bastırma\n",
    "liste = [1,2,3,4,5,6,7,8,9]\n",
    "\n",
    "for eleman in liste:\n",
    "    if eleman % 2 == 0:\n",
    "        print(eleman)\n"
   ]
  },
  {
   "cell_type": "code",
   "execution_count": 15,
   "id": "0ddb056a",
   "metadata": {},
   "outputs": [
    {
     "name": "stdout",
     "output_type": "stream",
     "text": [
      "P\n",
      "y\n",
      "t\n",
      "h\n",
      "o\n",
      "n\n"
     ]
    }
   ],
   "source": [
    "s =  \"Python\"\n",
    "for karakter in s:\n",
    "    print(karakter)"
   ]
  },
  {
   "cell_type": "code",
   "execution_count": 16,
   "id": "fb281505",
   "metadata": {},
   "outputs": [
    {
     "name": "stdout",
     "output_type": "stream",
     "text": [
      "PPP\n",
      "yyy\n",
      "ttt\n",
      "hhh\n",
      "ooo\n",
      "nnn\n"
     ]
    }
   ],
   "source": [
    "# Her bir karakterleri 3 ile çarpma\n",
    "s = \"Python\"\n",
    "\n",
    "for karakter in s:\n",
    "    print(karakter * 3)"
   ]
  },
  {
   "cell_type": "code",
   "execution_count": 17,
   "id": "4748a8ca",
   "metadata": {},
   "outputs": [
    {
     "name": "stdout",
     "output_type": "stream",
     "text": [
      "1\n",
      "2\n",
      "3\n",
      "4\n",
      "5\n",
      "6\n",
      "7\n"
     ]
    }
   ],
   "source": [
    "# Listelerle aynı mantık\n",
    "demet =  (1,2,3,4,5,6,7)\n",
    "\n",
    "for eleman in demet:\n",
    "    print(eleman)"
   ]
  },
  {
   "cell_type": "code",
   "execution_count": 18,
   "id": "70b41785",
   "metadata": {},
   "outputs": [
    {
     "name": "stdout",
     "output_type": "stream",
     "text": [
      "(1, 2)\n",
      "(3, 4)\n",
      "(5, 6)\n",
      "(7, 8)\n"
     ]
    }
   ],
   "source": [
    "# Listelerin için 2 boyutlu demetler\n",
    "\n",
    "liste = [(1,2),(3,4),(5,6),(7,8)]\n",
    "\n",
    "for eleman in liste:\n",
    "    print(eleman) # Herbir elemanın  demet olduğu görebiliyoruz."
   ]
  },
  {
   "cell_type": "code",
   "execution_count": 19,
   "id": "ab141965",
   "metadata": {},
   "outputs": [
    {
     "name": "stdout",
     "output_type": "stream",
     "text": [
      "1 2\n",
      "3 4\n",
      "5 6\n",
      "7 8\n"
     ]
    }
   ],
   "source": [
    "# Demet içindeki herbir elemanı almak için pratik yöntem\n",
    "liste = [(1,2),(3,4),(5,6),(7,8)]\n",
    "\n",
    "for (i,j) in liste:\n",
    "    print(i,j)\n"
   ]
  },
  {
   "cell_type": "code",
   "execution_count": 20,
   "id": "8255c7dc",
   "metadata": {},
   "outputs": [
    {
     "name": "stdout",
     "output_type": "stream",
     "text": [
      "6\n",
      "120\n",
      "504\n",
      "1320\n"
     ]
    }
   ],
   "source": [
    "# Demet içindeki elemanları çarpalım.\n",
    "liste = [(1,2,3),(4,5,6),(7,8,9),(10,11,12)]\n",
    "for (i,j,k) in liste:\n",
    "    print(i * j * k)"
   ]
  },
  {
   "cell_type": "code",
   "execution_count": 21,
   "id": "5828f174",
   "metadata": {},
   "outputs": [
    {
     "ename": "ValueError",
     "evalue": "not enough values to unpack (expected 3, got 2)",
     "output_type": "error",
     "traceback": [
      "\u001b[0;31m---------------------------------------------------------------------------\u001b[0m",
      "\u001b[0;31mValueError\u001b[0m                                Traceback (most recent call last)",
      "\u001b[0;32m/tmp/ipykernel_27185/4211070623.py\u001b[0m in \u001b[0;36m<module>\u001b[0;34m\u001b[0m\n\u001b[1;32m      1\u001b[0m \u001b[0mliste\u001b[0m \u001b[0;34m=\u001b[0m \u001b[0;34m[\u001b[0m\u001b[0;34m(\u001b[0m\u001b[0;36m1\u001b[0m\u001b[0;34m,\u001b[0m\u001b[0;36m2\u001b[0m\u001b[0;34m)\u001b[0m\u001b[0;34m,\u001b[0m\u001b[0;34m(\u001b[0m\u001b[0;36m4\u001b[0m\u001b[0;34m,\u001b[0m\u001b[0;36m5\u001b[0m\u001b[0;34m,\u001b[0m\u001b[0;36m6\u001b[0m\u001b[0;34m)\u001b[0m\u001b[0;34m,\u001b[0m\u001b[0;34m(\u001b[0m\u001b[0;36m7\u001b[0m\u001b[0;34m,\u001b[0m\u001b[0;36m8\u001b[0m\u001b[0;34m,\u001b[0m\u001b[0;36m9\u001b[0m\u001b[0;34m)\u001b[0m\u001b[0;34m,\u001b[0m\u001b[0;34m(\u001b[0m\u001b[0;36m10\u001b[0m\u001b[0;34m,\u001b[0m\u001b[0;36m11\u001b[0m\u001b[0;34m,\u001b[0m\u001b[0;36m12\u001b[0m\u001b[0;34m)\u001b[0m\u001b[0;34m]\u001b[0m\u001b[0;34m\u001b[0m\u001b[0;34m\u001b[0m\u001b[0m\n\u001b[0;32m----> 2\u001b[0;31m \u001b[0;32mfor\u001b[0m \u001b[0;34m(\u001b[0m\u001b[0mi\u001b[0m\u001b[0;34m,\u001b[0m\u001b[0mj\u001b[0m\u001b[0;34m,\u001b[0m\u001b[0mk\u001b[0m\u001b[0;34m)\u001b[0m \u001b[0;32min\u001b[0m \u001b[0mliste\u001b[0m\u001b[0;34m:\u001b[0m\u001b[0;34m\u001b[0m\u001b[0;34m\u001b[0m\u001b[0m\n\u001b[0m\u001b[1;32m      3\u001b[0m     \u001b[0mprint\u001b[0m\u001b[0;34m(\u001b[0m\u001b[0mi\u001b[0m \u001b[0;34m*\u001b[0m \u001b[0mj\u001b[0m \u001b[0;34m*\u001b[0m \u001b[0mk\u001b[0m\u001b[0;34m)\u001b[0m\u001b[0;34m\u001b[0m\u001b[0;34m\u001b[0m\u001b[0m\n",
      "\u001b[0;31mValueError\u001b[0m: not enough values to unpack (expected 3, got 2)"
     ]
    }
   ],
   "source": [
    "liste = [(1,2),(4,5,6),(7,8,9),(10,11,12)]\n",
    "for (i,j,k) in liste:\n",
    "    print(i * j * k)"
   ]
  },
  {
   "cell_type": "code",
   "execution_count": 22,
   "id": "42d0ecc7",
   "metadata": {},
   "outputs": [
    {
     "ename": "ValueError",
     "evalue": "too many values to unpack (expected 3)",
     "output_type": "error",
     "traceback": [
      "\u001b[0;31m---------------------------------------------------------------------------\u001b[0m",
      "\u001b[0;31mValueError\u001b[0m                                Traceback (most recent call last)",
      "\u001b[0;32m/tmp/ipykernel_27185/772774574.py\u001b[0m in \u001b[0;36m<module>\u001b[0;34m\u001b[0m\n\u001b[1;32m      1\u001b[0m \u001b[0mliste\u001b[0m \u001b[0;34m=\u001b[0m \u001b[0;34m[\u001b[0m\u001b[0;34m(\u001b[0m\u001b[0;36m1\u001b[0m\u001b[0;34m,\u001b[0m\u001b[0;36m2\u001b[0m\u001b[0;34m,\u001b[0m\u001b[0;36m3\u001b[0m\u001b[0;34m,\u001b[0m\u001b[0;36m4\u001b[0m\u001b[0;34m)\u001b[0m\u001b[0;34m,\u001b[0m\u001b[0;34m(\u001b[0m\u001b[0;36m4\u001b[0m\u001b[0;34m,\u001b[0m\u001b[0;36m5\u001b[0m\u001b[0;34m,\u001b[0m\u001b[0;36m6\u001b[0m\u001b[0;34m)\u001b[0m\u001b[0;34m,\u001b[0m\u001b[0;34m(\u001b[0m\u001b[0;36m7\u001b[0m\u001b[0;34m,\u001b[0m\u001b[0;36m8\u001b[0m\u001b[0;34m,\u001b[0m\u001b[0;36m9\u001b[0m\u001b[0;34m)\u001b[0m\u001b[0;34m,\u001b[0m\u001b[0;34m(\u001b[0m\u001b[0;36m10\u001b[0m\u001b[0;34m,\u001b[0m\u001b[0;36m11\u001b[0m\u001b[0;34m,\u001b[0m\u001b[0;36m12\u001b[0m\u001b[0;34m)\u001b[0m\u001b[0;34m]\u001b[0m\u001b[0;34m\u001b[0m\u001b[0;34m\u001b[0m\u001b[0m\n\u001b[0;32m----> 2\u001b[0;31m \u001b[0;32mfor\u001b[0m \u001b[0;34m(\u001b[0m\u001b[0mi\u001b[0m\u001b[0;34m,\u001b[0m\u001b[0mj\u001b[0m\u001b[0;34m,\u001b[0m\u001b[0mk\u001b[0m\u001b[0;34m)\u001b[0m \u001b[0;32min\u001b[0m \u001b[0mliste\u001b[0m\u001b[0;34m:\u001b[0m\u001b[0;34m\u001b[0m\u001b[0;34m\u001b[0m\u001b[0m\n\u001b[0m\u001b[1;32m      3\u001b[0m     \u001b[0mprint\u001b[0m\u001b[0;34m(\u001b[0m\u001b[0mi\u001b[0m \u001b[0;34m*\u001b[0m \u001b[0mj\u001b[0m \u001b[0;34m*\u001b[0m \u001b[0mk\u001b[0m\u001b[0;34m)\u001b[0m\u001b[0;34m\u001b[0m\u001b[0;34m\u001b[0m\u001b[0m\n",
      "\u001b[0;31mValueError\u001b[0m: too many values to unpack (expected 3)"
     ]
    }
   ],
   "source": [
    "liste = [(1,2,3,4),(4,5,6),(7,8,9),(10,11,12)]\n",
    "for (i,j,k) in liste:\n",
    "    print(i * j * k)"
   ]
  },
  {
   "cell_type": "code",
   "execution_count": 23,
   "id": "51b112e2",
   "metadata": {},
   "outputs": [
    {
     "name": "stdout",
     "output_type": "stream",
     "text": [
      "6\n",
      "120\n",
      "504\n",
      "1320\n"
     ]
    }
   ],
   "source": [
    "# Demet içindeki elemanları çarpalım.\n",
    "liste = [(1,2,3),(4,5,6),(7,8,9),(10,11,12)]\n",
    "for (i,j,k) in liste:\n",
    "    print(i * j * k)"
   ]
  },
  {
   "cell_type": "code",
   "execution_count": 24,
   "id": "018a8384",
   "metadata": {},
   "outputs": [
    {
     "data": {
      "text/plain": [
       "dict_keys(['bir', 'iki', 'üç', 'dört'])"
      ]
     },
     "execution_count": 24,
     "metadata": {},
     "output_type": "execute_result"
    }
   ],
   "source": [
    "sözlük = {\"bir\":1,\"iki\":2,\"üç\":3,\"dört\":4}\n",
    "\n",
    "sözlük.keys()"
   ]
  },
  {
   "cell_type": "code",
   "execution_count": 25,
   "id": "dfbe7893",
   "metadata": {},
   "outputs": [
    {
     "data": {
      "text/plain": [
       "dict_values([1, 2, 3, 4])"
      ]
     },
     "execution_count": 25,
     "metadata": {},
     "output_type": "execute_result"
    }
   ],
   "source": [
    "sözlük.values()"
   ]
  },
  {
   "cell_type": "code",
   "execution_count": 26,
   "id": "21dca0b3",
   "metadata": {},
   "outputs": [
    {
     "data": {
      "text/plain": [
       "dict_items([('bir', 1), ('iki', 2), ('üç', 3), ('dört', 4)])"
      ]
     },
     "execution_count": 26,
     "metadata": {},
     "output_type": "execute_result"
    }
   ],
   "source": [
    "sözlük.items()"
   ]
  },
  {
   "cell_type": "code",
   "execution_count": 27,
   "id": "df49d0e3",
   "metadata": {},
   "outputs": [
    {
     "name": "stdout",
     "output_type": "stream",
     "text": [
      "bir\n",
      "iki\n",
      "üç\n",
      "dört\n"
     ]
    }
   ],
   "source": [
    "# Metodları kullanmadan sözlük üzerinde gezinmek - Sadece anahtarları alabiliyoruz.\n",
    "sözlük = {\"bir\":1,\"iki\":2,\"üç\":3,\"dört\":4}\n",
    "\n",
    "for eleman in sözlük:\n",
    "    print(eleman)"
   ]
  },
  {
   "cell_type": "code",
   "execution_count": 28,
   "id": "87cc5948",
   "metadata": {},
   "outputs": [
    {
     "name": "stdout",
     "output_type": "stream",
     "text": [
      "bir\n",
      "iki\n",
      "üç\n",
      "dört\n"
     ]
    }
   ],
   "source": [
    "# keys() - Aynı şey\n",
    "sözlük = {\"bir\":1,\"iki\":2,\"üç\":3,\"dört\":4}\n",
    "\n",
    "for eleman in sözlük.keys():\n",
    "    print(eleman)"
   ]
  },
  {
   "cell_type": "code",
   "execution_count": 29,
   "id": "dc085255",
   "metadata": {},
   "outputs": [
    {
     "name": "stdout",
     "output_type": "stream",
     "text": [
      "1\n",
      "2\n",
      "3\n",
      "4\n"
     ]
    }
   ],
   "source": [
    "# values() \n",
    "sözlük = {\"bir\":1,\"iki\":2,\"üç\":3,\"dört\":4}\n",
    "\n",
    "for eleman in sözlük.values():\n",
    "    print(eleman)"
   ]
  },
  {
   "cell_type": "code",
   "execution_count": 30,
   "id": "ed04330b",
   "metadata": {},
   "outputs": [
    {
     "name": "stdout",
     "output_type": "stream",
     "text": [
      "Anahtar: bir Değer: 1\n",
      "Anahtar: iki Değer: 2\n",
      "Anahtar: üç Değer: 3\n",
      "Anahtar: dört Değer: 4\n"
     ]
    }
   ],
   "source": [
    "# items() \n",
    "sözlük = {\"bir\":1,\"iki\":2,\"üç\":3,\"dört\":4}\n",
    "\n",
    "for (i,j) in sözlük.items():\n",
    "    print(\"Anahtar:\",i,\"Değer:\",j)"
   ]
  },
  {
   "cell_type": "code",
   "execution_count": 32,
   "id": "c7ad24f3",
   "metadata": {},
   "outputs": [
    {
     "name": "stdout",
     "output_type": "stream",
     "text": [
      "i'nin değeri 0\n",
      "i'nin değeri 1\n",
      "i'nin değeri 2\n",
      "i'nin değeri 3\n",
      "i'nin değeri 4\n",
      "i'nin değeri 5\n",
      "i'nin değeri 6\n",
      "i'nin değeri 7\n",
      "i'nin değeri 8\n",
      "i'nin değeri 9\n"
     ]
    }
   ],
   "source": [
    "\"\"\"\n",
    "While Döngüleri\n",
    "Bu bölümde while döngülerinin yapısını ve nasıl kullanılacağını öğrenmeye çalışacağız.\n",
    "\n",
    "while döngüleri belli bir koşul sağlandığı sürece bloğundaki işlemleri gerçekleştirmeye devam eder.\n",
    "while döngülerinin sona ermesi için koşul durumunun bir süre sonra False olması gereklidir.Yapısı şu şekildedir;\n",
    "\n",
    "                            while (koşul):\n",
    "                                İşlem1\n",
    "                                İşlem2\n",
    "                                İşlem3\n",
    "                                  //\n",
    "                                  //\n",
    "while döngülerini daha iyi anlamak için örneklerimize bakalım.\n",
    "\"\"\"\n",
    "# Döngüde i değerlerini ekrana yazdırma\n",
    "\n",
    "i = 0 \n",
    "\n",
    "while (i < 10):\n",
    "    print(\"i'nin değeri\",i)\n",
    "    i += 1 # Koşulun bir süre sonra False olması için gerekli - Unutmayalım"
   ]
  },
  {
   "cell_type": "code",
   "execution_count": 33,
   "id": "9cd2f0b3",
   "metadata": {},
   "outputs": [
    {
     "name": "stdout",
     "output_type": "stream",
     "text": [
      "i'nin değeri 0\n",
      "i'nin değeri 2\n",
      "i'nin değeri 4\n",
      "i'nin değeri 6\n",
      "i'nin değeri 8\n",
      "i'nin değeri 10\n",
      "i'nin değeri 12\n",
      "i'nin değeri 14\n",
      "i'nin değeri 16\n",
      "i'nin değeri 18\n"
     ]
    }
   ],
   "source": [
    "# Döngüde i değerlerini ekrana yazdırma\n",
    "\n",
    "i = 0 \n",
    "\n",
    "while (i < 20):\n",
    "    print(\"i'nin değeri\",i)\n",
    "    i += 2 # Koşulun bir süre sonra False olması için gerekli - Unutmayalım"
   ]
  },
  {
   "cell_type": "code",
   "execution_count": 34,
   "id": "d97c3ccd",
   "metadata": {},
   "outputs": [
    {
     "name": "stdout",
     "output_type": "stream",
     "text": [
      "Python Öğreniyorum\n",
      "Python Öğreniyorum\n",
      "Python Öğreniyorum\n",
      "Python Öğreniyorum\n",
      "Python Öğreniyorum\n",
      "Python Öğreniyorum\n",
      "Python Öğreniyorum\n",
      "Python Öğreniyorum\n",
      "Python Öğreniyorum\n",
      "Python Öğreniyorum\n",
      "Python Öğreniyorum\n",
      "Python Öğreniyorum\n",
      "Python Öğreniyorum\n",
      "Python Öğreniyorum\n",
      "Python Öğreniyorum\n",
      "Python Öğreniyorum\n",
      "Python Öğreniyorum\n",
      "Python Öğreniyorum\n",
      "Python Öğreniyorum\n",
      "Python Öğreniyorum\n",
      "Python Öğreniyorum\n",
      "Python Öğreniyorum\n",
      "Python Öğreniyorum\n",
      "Python Öğreniyorum\n",
      "Python Öğreniyorum\n",
      "Python Öğreniyorum\n",
      "Python Öğreniyorum\n",
      "Python Öğreniyorum\n",
      "Python Öğreniyorum\n",
      "Python Öğreniyorum\n",
      "Python Öğreniyorum\n",
      "Python Öğreniyorum\n",
      "Python Öğreniyorum\n",
      "Python Öğreniyorum\n",
      "Python Öğreniyorum\n",
      "Python Öğreniyorum\n",
      "Python Öğreniyorum\n",
      "Python Öğreniyorum\n",
      "Python Öğreniyorum\n",
      "Python Öğreniyorum\n"
     ]
    }
   ],
   "source": [
    "# Ekrana 40 defa \"Python Öğreniyorum\" yazdıralım.\n",
    "i = 0\n",
    "\n",
    "while (i < 40):\n",
    "    print(\"Python Öğreniyorum\")\n",
    "    i +=1"
   ]
  },
  {
   "cell_type": "code",
   "execution_count": 35,
   "id": "1dac0686",
   "metadata": {},
   "outputs": [
    {
     "name": "stdout",
     "output_type": "stream",
     "text": [
      "Indeks: 0 Eleman: 1\n",
      "Indeks: 1 Eleman: 2\n",
      "Indeks: 2 Eleman: 3\n",
      "Indeks: 3 Eleman: 4\n",
      "Indeks: 4 Eleman: 5\n"
     ]
    }
   ],
   "source": [
    "# Liste üzerinde indeks ile gezinme\n",
    "liste = [1,2,3,4,5]\n",
    "\n",
    "a = 0 \n",
    "\n",
    "while (a < len(liste)):\n",
    "    print(\"Indeks:\",a,\"Eleman:\",liste[a])\n",
    "    a +=1"
   ]
  },
  {
   "cell_type": "code",
   "execution_count": null,
   "id": "4dc4026f",
   "metadata": {},
   "outputs": [],
   "source": [
    "\"\"\"\n",
    "Sonsuz Döngü Olayları\n",
    "while döngüsü kullanırken biraz dikkatli olmamızda fayda var. Çünkü, while döngü koşulunun bir süre sonra\n",
    "False olması gerekecek ki döngümüz sonlanabilsin. Ancak eğer biz while döngülerinde bu durumu unutursak ,\n",
    "döngümüz sonsuza kadar çalışacaktır. Biz buna sonsuz döngü olayı diyoruz. Örneğimize bakalım\n",
    "\n",
    "\n",
    "\n",
    "# Bu kodu çaıştırmayalım. Jupyter sıkıntı çıkarabilir :)\n",
    "i = 0 \n",
    "while (i < 10):\n",
    "    print(i)\n",
    "    # i değişkenini artırma işlemi yapmadığımız için i değişkeninin değeri sürekli 0 kalıyor \n",
    "    # ve döngü koşulu sürekli True kalıyor.\n",
    "    \n",
    "\"\"\""
   ]
  },
  {
   "cell_type": "code",
   "execution_count": 37,
   "id": "84b54acf",
   "metadata": {},
   "outputs": [
    {
     "data": {
      "text/plain": [
       "range(0, 20)"
      ]
     },
     "execution_count": 37,
     "metadata": {},
     "output_type": "execute_result"
    }
   ],
   "source": [
    "\"\"\"\n",
    "range() Fonksiyonu\n",
    "Pythondaki bu hazır fonksiyon bizim verdiğimiz değerlere göre range isimli bir yapı oluşturur\n",
    "ve bu yapı listelere oldukça benzer. Bu yapı başlangıç, bitiş ve opsiyonel olarak artırma değeri\n",
    "alarak listelere benzeyen bir sayı dizisi oluşturur. Kullanımlarını öğrenmeye başlayalım.\n",
    "\"\"\"\n",
    "range(0,20) # 0'dan 20' a kadar (dahil değil) sayı dizisi oluşturur. "
   ]
  },
  {
   "cell_type": "code",
   "execution_count": 38,
   "id": "3e7eec7c",
   "metadata": {},
   "outputs": [
    {
     "name": "stdout",
     "output_type": "stream",
     "text": [
      "0 1 2 3 4 5 6 7 8 9 10 11 12 13 14 15 16 17 18 19\n"
     ]
    }
   ],
   "source": [
    "print(*range(0,20)) # Yazdırmak için başına \"*\" koymamız gerekiyor."
   ]
  },
  {
   "cell_type": "code",
   "execution_count": 39,
   "id": "fd376dfa",
   "metadata": {},
   "outputs": [],
   "source": [
    "liste = list(range(0,20)) # list fonksiyonuyla listeye dönüştürebilir."
   ]
  },
  {
   "cell_type": "code",
   "execution_count": 40,
   "id": "0600488a",
   "metadata": {},
   "outputs": [
    {
     "data": {
      "text/plain": [
       "[0, 1, 2, 3, 4, 5, 6, 7, 8, 9, 10, 11, 12, 13, 14, 15, 16, 17, 18, 19]"
      ]
     },
     "execution_count": 40,
     "metadata": {},
     "output_type": "execute_result"
    }
   ],
   "source": [
    "liste"
   ]
  },
  {
   "cell_type": "code",
   "execution_count": 41,
   "id": "302b004a",
   "metadata": {},
   "outputs": [
    {
     "name": "stdout",
     "output_type": "stream",
     "text": [
      "5 6 7 8 9\n"
     ]
    }
   ],
   "source": [
    "print(*range(5,10))"
   ]
  },
  {
   "cell_type": "code",
   "execution_count": 42,
   "id": "1fc54a1f",
   "metadata": {},
   "outputs": [
    {
     "name": "stdout",
     "output_type": "stream",
     "text": [
      "0 1 2 3 4 5 6 7 8 9 10 11 12 13 14\n"
     ]
    }
   ],
   "source": [
    "print(*range(15)) # Başlangıç değeri vermediğimiz 0'dan başlar "
   ]
  },
  {
   "cell_type": "code",
   "execution_count": 43,
   "id": "e2e4ae96",
   "metadata": {},
   "outputs": [
    {
     "name": "stdout",
     "output_type": "stream",
     "text": [
      "5 7 9 11 13 15 17 19\n"
     ]
    }
   ],
   "source": [
    "print(*range(5,20,2)) # 5'ten 20'ye kadar olan sayıları 2 atlayarak oluşturur."
   ]
  },
  {
   "cell_type": "code",
   "execution_count": 44,
   "id": "cfa8d1a1",
   "metadata": {},
   "outputs": [
    {
     "name": "stdout",
     "output_type": "stream",
     "text": [
      "5 10 15 20 25 30 35 40 45 50 55 60 65 70 75 80 85 90 95\n"
     ]
    }
   ],
   "source": [
    "print(*range(5,100,5)) # 5'ten 100'e kadar olan ve 5 ile bölünebilen sayılar"
   ]
  },
  {
   "cell_type": "code",
   "execution_count": 45,
   "id": "623d0445",
   "metadata": {},
   "outputs": [
    {
     "name": "stdout",
     "output_type": "stream",
     "text": [
      "\n"
     ]
    }
   ],
   "source": [
    "print(*range(20,0)) # 20'den geri gelen sayıları oluşturmaz."
   ]
  },
  {
   "cell_type": "code",
   "execution_count": 46,
   "id": "a347da69",
   "metadata": {},
   "outputs": [
    {
     "name": "stdout",
     "output_type": "stream",
     "text": [
      "20 19 18 17 16 15 14 13 12 11 10 9 8 7 6 5 4 3 2 1\n"
     ]
    }
   ],
   "source": [
    "print(*range(20,0,-1)) # 20'den geri gelen sayıları oluşturur."
   ]
  },
  {
   "cell_type": "code",
   "execution_count": 47,
   "id": "171b45b5",
   "metadata": {},
   "outputs": [
    {
     "name": "stdout",
     "output_type": "stream",
     "text": [
      "0\n",
      "1\n",
      "2\n",
      "3\n",
      "4\n",
      "5\n",
      "6\n",
      "7\n",
      "8\n",
      "9\n"
     ]
    }
   ],
   "source": [
    "for sayı in range(0,10):\n",
    "    print(sayı)"
   ]
  },
  {
   "cell_type": "code",
   "execution_count": 49,
   "id": "7479dd13",
   "metadata": {},
   "outputs": [
    {
     "name": "stdout",
     "output_type": "stream",
     "text": [
      "* \n",
      "* * \n",
      "* * * \n",
      "* * * * \n",
      "* * * * * \n",
      "* * * * * * \n",
      "* * * * * * * \n",
      "* * * * * * * * \n",
      "* * * * * * * * * \n",
      "* * * * * * * * * * \n",
      "* * * * * * * * * * * \n",
      "* * * * * * * * * * * * \n",
      "* * * * * * * * * * * * * \n",
      "* * * * * * * * * * * * * * \n",
      "* * * * * * * * * * * * * * * \n",
      "* * * * * * * * * * * * * * * * \n",
      "* * * * * * * * * * * * * * * * * \n",
      "* * * * * * * * * * * * * * * * * * \n",
      "* * * * * * * * * * * * * * * * * * * \n"
     ]
    }
   ],
   "source": [
    "for sayı in range(1,20):\n",
    "    print(\"* \" * sayı)"
   ]
  },
  {
   "cell_type": "code",
   "execution_count": 50,
   "id": "922bb4b6",
   "metadata": {},
   "outputs": [
    {
     "name": "stdout",
     "output_type": "stream",
     "text": [
      "0\n",
      "1\n",
      "2\n",
      "3\n",
      "4\n",
      "5\n",
      "6\n",
      "7\n",
      "8\n",
      "9\n",
      "10\n",
      "11\n",
      "12\n",
      "13\n",
      "14\n",
      "15\n",
      "16\n",
      "17\n",
      "18\n",
      "19\n"
     ]
    }
   ],
   "source": [
    "\"\"\"\n",
    "Döngülerde kullanılan ifadeler : break ve continue\n",
    "Bu videoda döngülerde kullanılabilen break ve continue ifadelerini öğrenmeye çalışacağız. \n",
    "Bu ifadeleri kullanarak döngü yapılarını daha efektif kullanabiliriz.\n",
    "\n",
    "break ifadesi\n",
    "break ifadesi döngülerde programcılar tarafından en çok kullanılan ifadedir. Anlamı şu şekildedir;\n",
    "\n",
    "        Döngü herhangi bir yerde ve herhangi bir zamanda break ifadesiyle karşılaştığı zaman\n",
    "        çalışmasını bir anda durdurur. Böylelikle döngü hiçbir koşula bağlı kalmadan sonlanmış olur.\n",
    "        \n",
    "        \n",
    "break ifadesi sadece ve sadece içindeki bulunduğu döngüyü sonlandırır. Eğer iç içe döngüler\n",
    "bulunuyorsa ve en içteki döngüde break kullanılmışsa sadece içteki döngü sona erer. Örneklerle\n",
    "break ifadesini anlamaya çalışalım.\n",
    "\"\"\"\n",
    "i = 0 # Bu döngüyü biliyoruz.\n",
    "\n",
    "while (i < 20):\n",
    "    print(i)\n",
    "    i +=1"
   ]
  },
  {
   "cell_type": "code",
   "execution_count": 51,
   "id": "b930366d",
   "metadata": {},
   "outputs": [
    {
     "name": "stdout",
     "output_type": "stream",
     "text": [
      "0\n",
      "1\n",
      "2\n",
      "3\n",
      "4\n",
      "5\n",
      "6\n",
      "7\n",
      "8\n",
      "9\n",
      "10\n"
     ]
    }
   ],
   "source": [
    "i = 0 # break kullanmaya çalışalım.\n",
    "\n",
    "while (i < 20):\n",
    "    print(i)\n",
    "    if (i == 10):\n",
    "        break # i'nin değeri 10 olunca bu koşul sağlanıyor ve  break ifadesiyle karşılaşıldığı için döngü anında sona eriyor.\n",
    "    i +=1"
   ]
  },
  {
   "cell_type": "code",
   "execution_count": 52,
   "id": "38d87507",
   "metadata": {},
   "outputs": [
    {
     "name": "stdout",
     "output_type": "stream",
     "text": [
      "1\n",
      "2\n",
      "3\n",
      "4\n"
     ]
    }
   ],
   "source": [
    "# for döngüsüyle break kullanalım.\n",
    "liste = [1,2,3,4,5,6,7,8,9]\n",
    "for i in liste:\n",
    "    if (i == 5):\n",
    "        \n",
    "        break\n",
    "    print(i)"
   ]
  },
  {
   "cell_type": "code",
   "execution_count": 56,
   "id": "7d472257",
   "metadata": {},
   "outputs": [
    {
     "name": "stdout",
     "output_type": "stream",
     "text": [
      "İsminiz(Çıkmak için q tuşuna basın.):devi\n",
      "devi\n",
      "İsminiz(Çıkmak için q tuşuna basın.):deiv\n",
      "deiv\n",
      "İsminiz(Çıkmak için q tuşuna basın.):q\n",
      "Çıkış yapılıyor...\n"
     ]
    }
   ],
   "source": [
    "\n",
    "\n",
    "while True: # Sonsuz döngü. Nasıl sonlandırabiliriz ? \n",
    "    isim = input(\"İsminiz(Çıkmak için q tuşuna basın.):\")\n",
    "    if (isim == \"q\"): # break ile tabii ki.\n",
    "        print(\"Çıkış yapılıyor...\")\n",
    "        break\n",
    "    print(isim)\n",
    "    \n",
    "    "
   ]
  },
  {
   "cell_type": "code",
   "execution_count": 57,
   "id": "1c58220e",
   "metadata": {},
   "outputs": [
    {
     "name": "stdout",
     "output_type": "stream",
     "text": [
      "i: 1\n",
      "i: 2\n",
      "i: 3\n",
      "i: 4\n",
      "i: 5\n",
      "i: 6\n",
      "i: 7\n",
      "i: 8\n",
      "i: 9\n",
      "i: 10\n"
     ]
    }
   ],
   "source": [
    "\"\"\"\n",
    "continue ifadesi\n",
    "continue ifadesi break'e göre biraz daha az kullanılan bir ifadedir. Anlamı şu şekildedir;\n",
    "\n",
    "    Döngü herhangi bir yerde ve herhangi bir zamanda continue ifadesiyle karşılaştığı zaman geri \n",
    "    kalan işlemlerini\n",
    "    yapmadan direk bloğunun başına döner.\n",
    "    \n",
    "continue ifadesini anlamak için örneklerimize bakalım.\n",
    "\"\"\"\n",
    "liste = [1,2,3,4,5,6,7,8,9,10]\n",
    "\n",
    "for i in liste: # Bunu biliyoruz.\n",
    "    print(\"i:\",i)"
   ]
  },
  {
   "cell_type": "code",
   "execution_count": 58,
   "id": "21889c84",
   "metadata": {},
   "outputs": [
    {
     "name": "stdout",
     "output_type": "stream",
     "text": [
      "i: 1\n",
      "i: 2\n",
      "i: 4\n",
      "i: 6\n",
      "i: 7\n",
      "i: 8\n",
      "i: 9\n"
     ]
    }
   ],
   "source": [
    "liste = [1,2,3,4,5,6,7,8,9] # continue kullanalım.\n",
    "\n",
    "\n",
    "for i in liste:\n",
    "    if (i == 3 or i == 5):\n",
    "        continue\n",
    "    print(\"i:\",i)"
   ]
  },
  {
   "cell_type": "code",
   "execution_count": 59,
   "id": "f0255526",
   "metadata": {},
   "outputs": [
    {
     "name": "stdout",
     "output_type": "stream",
     "text": [
      "i: 0\n",
      "i: 1\n",
      "i: 3\n",
      "i: 4\n",
      "i: 5\n",
      "i: 6\n",
      "i: 7\n",
      "i: 8\n",
      "i: 9\n"
     ]
    }
   ],
   "source": [
    "\"\"\"\n",
    "continue ifadesi while döngüleriyle kullanıldıkları zaman sonsuz döngü olayına yol açabilmektedir. \n",
    "Anlamak için örneğimize bakalım.\n",
    "\n",
    "Jupyterde sonsuz döngüyü çalıştırdığımızda , programı durdurmak için ilk olarak yukarıdaki \"Kernel\"\n",
    "e gidelim ve Interrupta tıklayalım. Bir kaç saniye bekledikten sonra \"Restart\" a tıklayalım. Böyle \n",
    "bir durumda Jupyter tekrar kendine gelecektir.\n",
    " = 0 # Bu kodda Sonsuz döngü olayı neden oluşur ? Bu kodu çalıştırmayalım.\n",
    "\n",
    "# Eğer çalıştırırsak sonsuz döngüyü \"Kernel\" sekmesinde \n",
    "\n",
    "while (i < 10):\n",
    "    print(i)\n",
    "    \n",
    "    if (i == 2):\n",
    "        continue\n",
    "        \n",
    "    i += 1\n",
    "\"\"\"\n",
    "i = 0 # Kodun sorunsuz hali\n",
    "\n",
    "while (i < 10):\n",
    "    \n",
    "    if (i == 2):\n",
    "        i += 1 # Artırma işlemi\n",
    "        continue\n",
    "        \n",
    "    print(\"i:\",i)\n",
    "    i += 1"
   ]
  },
  {
   "cell_type": "code",
   "execution_count": 60,
   "id": "3fcfae9d",
   "metadata": {},
   "outputs": [],
   "source": [
    "\"\"\"\n",
    "List Comprehension\n",
    "Bu konuda listeleri üretmek ve oluşturmak Pythonda çok pratik bir yöntem olan \"List Comprehension\"\n",
    "konusunu öğreneceğiz. Biliyorsunuz Pythonda birçok işimizi çok kısa kodlar halledebiliyoruz.\n",
    "Ancak kodları daha da kısaltmak ve pratik yöntemler kullanmak her zaman isteriz. Şimdi örneklerimizle \n",
    "list comprehension'ı anlamaya çalışalım.\n",
    "\"\"\"\n",
    "# Listelerdeki append metodunu hatırlayalım.\n",
    "liste = [1,2,3,4]\n",
    "liste.append(5)"
   ]
  },
  {
   "cell_type": "code",
   "execution_count": 61,
   "id": "504ad62d",
   "metadata": {},
   "outputs": [
    {
     "data": {
      "text/plain": [
       "[1, 2, 3, 4, 5]"
      ]
     },
     "execution_count": 61,
     "metadata": {},
     "output_type": "execute_result"
    }
   ],
   "source": [
    "liste"
   ]
  },
  {
   "cell_type": "code",
   "execution_count": 62,
   "id": "fd88dcd7",
   "metadata": {},
   "outputs": [
    {
     "name": "stdout",
     "output_type": "stream",
     "text": [
      "[1, 2, 3, 4, 5]\n"
     ]
    }
   ],
   "source": [
    "# liste1'den liste2'yi oluşturalım.\n",
    "\n",
    "liste1 = [1,2,3,4,5]\n",
    "\n",
    "liste2 = list() # veya liste2 = [] ikisi de boş liste oluşturur.\n",
    "\n",
    "\n",
    "for i in liste1:\n",
    "    liste2.append(i) # liste2 'ye liste1 in elemanları for döngüsü yardımıyla atıyoruz.\n",
    "    \n",
    "print(liste2)"
   ]
  },
  {
   "cell_type": "code",
   "execution_count": 63,
   "id": "9e8cb181",
   "metadata": {},
   "outputs": [
    {
     "name": "stdout",
     "output_type": "stream",
     "text": [
      "[1, 2, 3, 4, 5]\n"
     ]
    }
   ],
   "source": [
    "liste1 = [1,2,3,4,5] # Örnek 1 \n",
    "\n",
    "liste2 = [i for i in liste1] # List Comprehension\n",
    "\n",
    "print(liste2)"
   ]
  },
  {
   "cell_type": "code",
   "execution_count": 64,
   "id": "85fa9563",
   "metadata": {},
   "outputs": [
    {
     "name": "stdout",
     "output_type": "stream",
     "text": [
      "[2, 4, 6, 8, 10]\n"
     ]
    }
   ],
   "source": [
    "liste1 = [1,2,3,4,5] # Örnek 2\n",
    "\n",
    "liste2 = [i*2 for i in liste1] # List Comprehension\n",
    "\n",
    "print(liste2)"
   ]
  },
  {
   "cell_type": "code",
   "execution_count": 65,
   "id": "d107bd89",
   "metadata": {},
   "outputs": [
    {
     "name": "stdout",
     "output_type": "stream",
     "text": [
      "[2, 12, 30]\n"
     ]
    }
   ],
   "source": [
    "liste1 = [(1,2),(3,4),(5,6)] # Örnek 3\n",
    "\n",
    "liste2 = [i*j for (i,j) in liste1] # List Comprehension\n",
    "\n",
    "print(liste2)"
   ]
  },
  {
   "cell_type": "code",
   "execution_count": 66,
   "id": "f9bc8b2e",
   "metadata": {},
   "outputs": [
    {
     "name": "stdout",
     "output_type": "stream",
     "text": [
      "[1, 2, 3, 5, 6, 7, 8, 10]\n"
     ]
    }
   ],
   "source": [
    "liste1 = [1,2,3,4,5,6,7,8,9,10] # Örnek 4\n",
    "\n",
    "liste2 = [i for i in liste1 if not (i == 4 or i == 9)] # List Comprehension\n",
    "\n",
    "print(liste2)"
   ]
  },
  {
   "cell_type": "code",
   "execution_count": 67,
   "id": "6690e104",
   "metadata": {},
   "outputs": [
    {
     "name": "stdout",
     "output_type": "stream",
     "text": [
      "['PPP', 'yyy', 'ttt', 'hhh', 'ooo', 'nnn']\n"
     ]
    }
   ],
   "source": [
    "s = \"Python\"  # Örnek 5\n",
    "\n",
    "liste = [i * 3 for i in s] # List Comprehension\n",
    "\n",
    "print(liste)"
   ]
  },
  {
   "cell_type": "code",
   "execution_count": 68,
   "id": "18b78d2a",
   "metadata": {},
   "outputs": [],
   "source": [
    "liste = [[1,2,3],[4,5,6,7,8],[9,10,11,12,13,14,15]]\n",
    "\n",
    "# yeni_liste = [1,2,3,4,5,6,7,8,9,10,11,12,13,14,15]"
   ]
  },
  {
   "cell_type": "code",
   "execution_count": 70,
   "id": "75deacbc",
   "metadata": {},
   "outputs": [
    {
     "name": "stdout",
     "output_type": "stream",
     "text": [
      "['PPP', 'yyy', 'ttt', 'hhh', 'ooo', 'nnn']\n"
     ]
    }
   ],
   "source": [
    "s = \"Python\"  # Örnek 5\n",
    "\n",
    "liste = [i * 3 for i in s] # List Comprehension\n",
    "\n",
    "print(liste)"
   ]
  },
  {
   "cell_type": "code",
   "execution_count": 71,
   "id": "baa847b9",
   "metadata": {},
   "outputs": [
    {
     "name": "stdout",
     "output_type": "stream",
     "text": [
      "{1: 2, 3: 4, 5: 6}\n"
     ]
    }
   ],
   "source": [
    "liste1 = [(1,2),(3,4),(5,6)] # Örnek 3\n",
    "\n",
    "liste2 = {i:j for (i,j) in liste1} # List Comprehension\n",
    "\n",
    "print(liste2)"
   ]
  },
  {
   "cell_type": "code",
   "execution_count": 72,
   "id": "666996d4",
   "metadata": {},
   "outputs": [
    {
     "data": {
      "text/plain": [
       "dict"
      ]
     },
     "execution_count": 72,
     "metadata": {},
     "output_type": "execute_result"
    }
   ],
   "source": [
    "type(liste2)"
   ]
  },
  {
   "cell_type": "code",
   "execution_count": 73,
   "id": "967a2a98",
   "metadata": {},
   "outputs": [
    {
     "name": "stdout",
     "output_type": "stream",
     "text": [
      "[1, 2, 3]\n",
      "[4, 5, 6, 7, 8]\n",
      "[9, 10, 11, 12, 13, 14, 15]\n"
     ]
    }
   ],
   "source": [
    "liste = [[1,2,3],[4,5,6,7,8],[9,10,11,12,13,14,15]]\n",
    "liste2 = list()\n",
    "for i in liste:\n",
    "    print(i) ## Buradaki i değeri de aslında bir liste."
   ]
  },
  {
   "cell_type": "code",
   "execution_count": 74,
   "id": "41d60b40",
   "metadata": {},
   "outputs": [
    {
     "name": "stdout",
     "output_type": "stream",
     "text": [
      "x: 1\n",
      "x: 2\n",
      "x: 3\n",
      "x: 4\n",
      "x: 5\n",
      "x: 6\n",
      "x: 7\n",
      "x: 8\n",
      "x: 9\n",
      "x: 10\n",
      "x: 11\n",
      "x: 12\n",
      "x: 13\n",
      "x: 14\n",
      "x: 15\n",
      "[1, 2, 3, 4, 5, 6, 7, 8, 9, 10, 11, 12, 13, 14, 15]\n"
     ]
    }
   ],
   "source": [
    "liste = [[1,2,3],[4,5,6,7,8],[9,10,11,12,13,14,15]]\n",
    "liste2 = list()\n",
    "for i in liste:\n",
    "    for x in i:\n",
    "        print(\"x:\",x)\n",
    "        liste2.append(x)\n",
    "print(liste2)"
   ]
  },
  {
   "cell_type": "code",
   "execution_count": 76,
   "id": "f56ddb95",
   "metadata": {},
   "outputs": [
    {
     "name": "stdout",
     "output_type": "stream",
     "text": [
      "[1, 2, 3, 4, 5, 6, 7, 8, 9, 10, 11, 12, 13, 14, 15]\n"
     ]
    }
   ],
   "source": [
    "\n",
    "# List Comprehension \n",
    "\n",
    "liste = [[1,2,3],[4,5,6,7,8],[9,10,11,12,13,14,15]]\n",
    "liste2 = [x for i in liste for x in i] # Biraz karmaşık\n",
    "print(liste2)\n"
   ]
  },
  {
   "cell_type": "code",
   "execution_count": null,
   "id": "23b45b4c",
   "metadata": {},
   "outputs": [],
   "source": []
  }
 ],
 "metadata": {
  "kernelspec": {
   "display_name": "Python 3 (ipykernel)",
   "language": "python",
   "name": "python3"
  },
  "language_info": {
   "codemirror_mode": {
    "name": "ipython",
    "version": 3
   },
   "file_extension": ".py",
   "mimetype": "text/x-python",
   "name": "python",
   "nbconvert_exporter": "python",
   "pygments_lexer": "ipython3",
   "version": "3.10.7"
  }
 },
 "nbformat": 4,
 "nbformat_minor": 5
}
