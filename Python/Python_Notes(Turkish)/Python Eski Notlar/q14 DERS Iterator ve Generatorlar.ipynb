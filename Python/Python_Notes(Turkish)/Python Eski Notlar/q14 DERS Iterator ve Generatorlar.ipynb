{
 "cells": [
  {
   "cell_type": "code",
   "execution_count": 1,
   "id": "75ab4e95",
   "metadata": {},
   "outputs": [],
   "source": [
    "\"\"\"\n",
    "Iteratorların Oluşturulması ve Kullanılması\n",
    "Bu konuda iteratorları oluşturmayı, kullanmayı ve kendi objelerimizi iterable (üzerinde gezinilebilecek)\n",
    "olarak nasıl yazarız öğrenmeye çalışacağız. İlk olarak iteratorlar nedir anlamaya çalışalım\n",
    "\n",
    "Iteratorlar nedir?\n",
    "Iteratorlar aslında Pythonda çoğu yerde biz görmesek de kullanılır. Iteratorlar özellikle for döngülerinde ,\n",
    "list comprehensionlarında, ve bir sonraki derste göreceğimiz generatorlarda karşımıza çıkar.\n",
    "\n",
    "Iteratorlar en genel anlamıyla üzerinde gezinilebilecek bir objedir ve bu obje her seferinde bir tane eleman\n",
    "döner.\n",
    "\n",
    "Pythonda kendisinden iterator oluşturabileceğimiz her obje iterable bir objedir.. Örneğin, demetlerden,\n",
    "listelerden ve stringlerden oluşturduğumuz bütün objeler iterable bir objedir.\n",
    "\n",
    "Bir objenin iterable olması için hazır metodlar olan _iter()_ ve _next()_ metodlarını mutlaka tanımlaması \n",
    "gerekir.\n",
    "\n",
    "Iterator oluşturma\n",
    "Bir iterator objesini , iterable bir objeden (liste,demet,string vs) oluşturmak için Pythonda iter()\n",
    "fonksiyonunu kullanıyoruz ve bu objenin bir sonraki elemanını almak için next() fonksiyonu kullanıyoruz.\n",
    "\"\"\"\n",
    "liste = [1,2,3,4,5]"
   ]
  },
  {
   "cell_type": "code",
   "execution_count": 2,
   "id": "c39c06a5",
   "metadata": {},
   "outputs": [
    {
     "data": {
      "text/plain": [
       "['__add__',\n",
       " '__class__',\n",
       " '__class_getitem__',\n",
       " '__contains__',\n",
       " '__delattr__',\n",
       " '__delitem__',\n",
       " '__dir__',\n",
       " '__doc__',\n",
       " '__eq__',\n",
       " '__format__',\n",
       " '__ge__',\n",
       " '__getattribute__',\n",
       " '__getitem__',\n",
       " '__gt__',\n",
       " '__hash__',\n",
       " '__iadd__',\n",
       " '__imul__',\n",
       " '__init__',\n",
       " '__init_subclass__',\n",
       " '__iter__',\n",
       " '__le__',\n",
       " '__len__',\n",
       " '__lt__',\n",
       " '__mul__',\n",
       " '__ne__',\n",
       " '__new__',\n",
       " '__reduce__',\n",
       " '__reduce_ex__',\n",
       " '__repr__',\n",
       " '__reversed__',\n",
       " '__rmul__',\n",
       " '__setattr__',\n",
       " '__setitem__',\n",
       " '__sizeof__',\n",
       " '__str__',\n",
       " '__subclasshook__',\n",
       " 'append',\n",
       " 'clear',\n",
       " 'copy',\n",
       " 'count',\n",
       " 'extend',\n",
       " 'index',\n",
       " 'insert',\n",
       " 'pop',\n",
       " 'remove',\n",
       " 'reverse',\n",
       " 'sort']"
      ]
     },
     "execution_count": 2,
     "metadata": {},
     "output_type": "execute_result"
    }
   ],
   "source": [
    "dir(liste) # __iter__ metodu tanımlı olduğu için listeler üzerinde iterator oluşturabiliriz."
   ]
  },
  {
   "cell_type": "code",
   "execution_count": 3,
   "id": "43d98a9e",
   "metadata": {},
   "outputs": [],
   "source": [
    "iterator = iter(liste) # Iterator oluşturma"
   ]
  },
  {
   "cell_type": "code",
   "execution_count": 4,
   "id": "aca5df99",
   "metadata": {},
   "outputs": [
    {
     "data": {
      "text/plain": [
       "1"
      ]
     },
     "execution_count": 4,
     "metadata": {},
     "output_type": "execute_result"
    }
   ],
   "source": [
    "next(iterator) # next metoduyla sıradaki eleman"
   ]
  },
  {
   "cell_type": "code",
   "execution_count": 5,
   "id": "ab5aadfe",
   "metadata": {},
   "outputs": [
    {
     "data": {
      "text/plain": [
       "2"
      ]
     },
     "execution_count": 5,
     "metadata": {},
     "output_type": "execute_result"
    }
   ],
   "source": [
    "next(iterator) # next metoduyla sıradaki eleman"
   ]
  },
  {
   "cell_type": "code",
   "execution_count": 6,
   "id": "d9baaa54",
   "metadata": {},
   "outputs": [
    {
     "data": {
      "text/plain": [
       "3"
      ]
     },
     "execution_count": 6,
     "metadata": {},
     "output_type": "execute_result"
    }
   ],
   "source": [
    "next(iterator) # next metoduyla sıradaki eleman"
   ]
  },
  {
   "cell_type": "code",
   "execution_count": 7,
   "id": "6ad2af11",
   "metadata": {},
   "outputs": [
    {
     "data": {
      "text/plain": [
       "4"
      ]
     },
     "execution_count": 7,
     "metadata": {},
     "output_type": "execute_result"
    }
   ],
   "source": [
    "next(iterator) # next metoduyla sıradaki eleman"
   ]
  },
  {
   "cell_type": "code",
   "execution_count": 8,
   "id": "3a4f8865",
   "metadata": {},
   "outputs": [
    {
     "data": {
      "text/plain": [
       "5"
      ]
     },
     "execution_count": 8,
     "metadata": {},
     "output_type": "execute_result"
    }
   ],
   "source": [
    "next(iterator) # next metoduyla sıradaki eleman"
   ]
  },
  {
   "cell_type": "code",
   "execution_count": 9,
   "id": "a454aecc",
   "metadata": {},
   "outputs": [
    {
     "ename": "StopIteration",
     "evalue": "",
     "output_type": "error",
     "traceback": [
      "\u001b[0;31m---------------------------------------------------------------------------\u001b[0m",
      "\u001b[0;31mStopIteration\u001b[0m                             Traceback (most recent call last)",
      "\u001b[0;32m/tmp/ipykernel_19247/3317525128.py\u001b[0m in \u001b[0;36m<module>\u001b[0;34m\u001b[0m\n\u001b[0;32m----> 1\u001b[0;31m \u001b[0mnext\u001b[0m\u001b[0;34m(\u001b[0m\u001b[0miterator\u001b[0m\u001b[0;34m)\u001b[0m \u001b[0;31m# next metoduyla sıradaki eleman\u001b[0m\u001b[0;34m\u001b[0m\u001b[0;34m\u001b[0m\u001b[0m\n\u001b[0m",
      "\u001b[0;31mStopIteration\u001b[0m: "
     ]
    }
   ],
   "source": [
    "next(iterator) # next metoduyla sıradaki eleman"
   ]
  },
  {
   "cell_type": "code",
   "execution_count": 10,
   "id": "65d42d5f",
   "metadata": {},
   "outputs": [
    {
     "name": "stdout",
     "output_type": "stream",
     "text": [
      "1\n",
      "2\n",
      "3\n",
      "4\n",
      "5\n"
     ]
    }
   ],
   "source": [
    "\"\"\"\n",
    "İşte iterable bir objeden bir iterator'ı bu şekilde oluşturup, next() fonksiyonuyla \n",
    "objenin sıradaki elemanını alabiliyoruz. Ancak eleman kalmayınca StopIteration hatasını alıyoruz. \n",
    "İşte iteratorların kullanımı bu şekildedir. Aslında biz farketmesek de Pythondaki for döngüleri \n",
    "aslında bir objenin \n",
    "üzerinde gezinirken iteratorları kullanır.\n",
    "\"\"\"\n",
    "liste = [1,2,3,4,5]\n",
    "\n",
    "for i in liste:\n",
    "    print(i)"
   ]
  },
  {
   "cell_type": "code",
   "execution_count": 12,
   "id": "e10c4505",
   "metadata": {},
   "outputs": [
    {
     "name": "stdout",
     "output_type": "stream",
     "text": [
      "1\n",
      "2\n",
      "3\n",
      "4\n",
      "5\n"
     ]
    }
   ],
   "source": [
    "liste = [1,2,3,4,5]\n",
    "\n",
    "iterator = iter(liste)\n",
    "\n",
    "while True:\n",
    "    try:\n",
    "        print(next(iterator))\n",
    "        \n",
    "    except StopIteration:\n",
    "        break\n",
    "    "
   ]
  },
  {
   "cell_type": "code",
   "execution_count": 22,
   "id": "078d943e",
   "metadata": {},
   "outputs": [],
   "source": [
    "\"\"\"\n",
    "Kendi Iterable Objelerimizi Oluşturmak\n",
    "Peki biz kendi oluşturduğumuz veritiplerini nasıl\n",
    "iterable yapacağız ? Bunun için oluşturacağımız sınıfların mutlaka _iter()_ ve _next()_ \n",
    "metodlarını tanımlaması gereklidir. Şimdi bir tane kumanda sınıfı oluşturalım ve bu sınıfı iterable yapalım.\n",
    "\"\"\"\n",
    "class Kumanda():\n",
    "    def __init__(self,kanal_listesi):\n",
    "        self.kanal_listesi = kanal_listesi # Kanal Listemiz\n",
    "        self.index = -1 # İndeksimiz\n",
    "        \n",
    "    def __iter__(self):\n",
    "        return self # iterator oluşturduğumuzda (iter fonksiyonu çağrıldığında )objemizi döneceğiz.\n",
    "    def __next__(self): # next fonksiyonu çağrıldığında burası çalışacak.\n",
    "        self.index += 1\n",
    "        if (self.index < len(self.kanal_listesi)):\n",
    "            return self.kanal_listesi[self.index]\n",
    "        else:\n",
    "            self.index = -1\n",
    "            raise StopIteration(\"Kanal Kalmadı\")"
   ]
  },
  {
   "cell_type": "code",
   "execution_count": 23,
   "id": "18ebddbe",
   "metadata": {},
   "outputs": [],
   "source": [
    "kumanda = Kumanda([\"Kanal d\",\"Trt\",\"Atv\",\"Fox\",\"Bloomberg\"]) # Objemizi oluşturuyoruz."
   ]
  },
  {
   "cell_type": "code",
   "execution_count": 24,
   "id": "ec634d22",
   "metadata": {},
   "outputs": [],
   "source": [
    "iterator =  iter(kumanda) # Objemiz iterable olduğu için iterator oluşturulabilir."
   ]
  },
  {
   "cell_type": "code",
   "execution_count": 25,
   "id": "e514e5bd",
   "metadata": {},
   "outputs": [
    {
     "data": {
      "text/plain": [
       "'Kanal d'"
      ]
     },
     "execution_count": 25,
     "metadata": {},
     "output_type": "execute_result"
    }
   ],
   "source": [
    "next(iterator)"
   ]
  },
  {
   "cell_type": "code",
   "execution_count": 26,
   "id": "da3d7cbd",
   "metadata": {},
   "outputs": [
    {
     "data": {
      "text/plain": [
       "'Trt'"
      ]
     },
     "execution_count": 26,
     "metadata": {},
     "output_type": "execute_result"
    }
   ],
   "source": [
    "next(iterator)"
   ]
  },
  {
   "cell_type": "code",
   "execution_count": 27,
   "id": "285da2b2",
   "metadata": {},
   "outputs": [
    {
     "data": {
      "text/plain": [
       "'Atv'"
      ]
     },
     "execution_count": 27,
     "metadata": {},
     "output_type": "execute_result"
    }
   ],
   "source": [
    "next(iterator)"
   ]
  },
  {
   "cell_type": "code",
   "execution_count": 28,
   "id": "51a9d7d1",
   "metadata": {},
   "outputs": [
    {
     "data": {
      "text/plain": [
       "'Fox'"
      ]
     },
     "execution_count": 28,
     "metadata": {},
     "output_type": "execute_result"
    }
   ],
   "source": [
    "next(iterator)"
   ]
  },
  {
   "cell_type": "code",
   "execution_count": 29,
   "id": "4aa8cde7",
   "metadata": {},
   "outputs": [
    {
     "data": {
      "text/plain": [
       "'Bloomberg'"
      ]
     },
     "execution_count": 29,
     "metadata": {},
     "output_type": "execute_result"
    }
   ],
   "source": [
    "next(iterator)"
   ]
  },
  {
   "cell_type": "code",
   "execution_count": 30,
   "id": "785a5a34",
   "metadata": {},
   "outputs": [
    {
     "ename": "StopIteration",
     "evalue": "Kanal Kalmadı",
     "output_type": "error",
     "traceback": [
      "\u001b[0;31m---------------------------------------------------------------------------\u001b[0m",
      "\u001b[0;31mStopIteration\u001b[0m                             Traceback (most recent call last)",
      "\u001b[0;32m/tmp/ipykernel_19247/4235178104.py\u001b[0m in \u001b[0;36m<module>\u001b[0;34m\u001b[0m\n\u001b[0;32m----> 1\u001b[0;31m \u001b[0mnext\u001b[0m\u001b[0;34m(\u001b[0m\u001b[0miterator\u001b[0m\u001b[0;34m)\u001b[0m\u001b[0;34m\u001b[0m\u001b[0;34m\u001b[0m\u001b[0m\n\u001b[0m",
      "\u001b[0;32m/tmp/ipykernel_19247/2690223213.py\u001b[0m in \u001b[0;36m__next__\u001b[0;34m(self)\u001b[0m\n\u001b[1;32m     18\u001b[0m         \u001b[0;32melse\u001b[0m\u001b[0;34m:\u001b[0m\u001b[0;34m\u001b[0m\u001b[0;34m\u001b[0m\u001b[0m\n\u001b[1;32m     19\u001b[0m             \u001b[0mself\u001b[0m\u001b[0;34m.\u001b[0m\u001b[0mindex\u001b[0m \u001b[0;34m=\u001b[0m \u001b[0;34m-\u001b[0m\u001b[0;36m1\u001b[0m\u001b[0;34m\u001b[0m\u001b[0;34m\u001b[0m\u001b[0m\n\u001b[0;32m---> 20\u001b[0;31m             \u001b[0;32mraise\u001b[0m \u001b[0mStopIteration\u001b[0m\u001b[0;34m(\u001b[0m\u001b[0;34m\"Kanal Kalmadı\"\u001b[0m\u001b[0;34m)\u001b[0m\u001b[0;34m\u001b[0m\u001b[0;34m\u001b[0m\u001b[0m\n\u001b[0m",
      "\u001b[0;31mStopIteration\u001b[0m: Kanal Kalmadı"
     ]
    }
   ],
   "source": [
    "next(iterator)"
   ]
  },
  {
   "cell_type": "code",
   "execution_count": 31,
   "id": "a2310cda",
   "metadata": {},
   "outputs": [
    {
     "name": "stdout",
     "output_type": "stream",
     "text": [
      "Kanal d\n",
      "Trt\n",
      "Atv\n",
      "Fox\n",
      "Bloomberg\n"
     ]
    }
   ],
   "source": [
    "for i in kumanda:\n",
    "    print(i)"
   ]
  },
  {
   "cell_type": "code",
   "execution_count": 32,
   "id": "0b21dcd9",
   "metadata": {},
   "outputs": [
    {
     "name": "stdout",
     "output_type": "stream",
     "text": [
      "[1, 4, 9, 16, 25]\n"
     ]
    }
   ],
   "source": [
    "\"\"\"\n",
    "Generatorların Oluşturulması ve Kullanılması\n",
    "Bu derste Pythondaki generatorları anlamaya çalışacağız.\n",
    "\n",
    "Generatorlar Pythonda iterable objeler (örnek olarak fonksiyonlar)\n",
    "oluşturmak için kullanılan objelerdir ve bellekte herhangi bir yer kaplamazlar. \n",
    "Örneğin, 100.000 tane değer üretip, bu değerleri bir listede tutmak bellekte oldukça \n",
    "fazla yer kaplayacaktır. O yüzden bu işlemi gerçekleştiren bir fonksiyonu generator\n",
    "fonksiyon şeklinde yazmak oldukça mantıklı olacaktır. Generatorları anlamak için isterseniz \n",
    "bir fonksiyonu ilk olarak generator kullanmadan yazmaya çalışalım.\n",
    "\"\"\"\n",
    "def karelerial():\n",
    "    sonuç = []\n",
    "    \n",
    "    for i in range(1,6):\n",
    "        sonuç.append(i**2)\n",
    "    return sonuç\n",
    "\n",
    "\n",
    "print(karelerial())"
   ]
  },
  {
   "cell_type": "code",
   "execution_count": 33,
   "id": "90d0d750",
   "metadata": {},
   "outputs": [
    {
     "name": "stdout",
     "output_type": "stream",
     "text": [
      "<generator object karelerial at 0x7fe0d45326c0>\n"
     ]
    }
   ],
   "source": [
    "\"\"\"\n",
    "İsterseniz bu fonksiyonu bir de generator kullanarak yazmaya çalışalım.\n",
    "Generatorlerin değer üretmesi için yield anahtar kelimesini kullanacağız.\n",
    "\"\"\"\n",
    "def karelerial():\n",
    "    for i in range(1,6):\n",
    "        yield i ** 2 # yield anahtar kelimesi generator'un değer üretmesi için kullanılıyor.\n",
    "generator =  karelerial()\n",
    "\n",
    "print(generator) # Generator objesi"
   ]
  },
  {
   "cell_type": "code",
   "execution_count": 34,
   "id": "9a4c0d90",
   "metadata": {},
   "outputs": [
    {
     "name": "stdout",
     "output_type": "stream",
     "text": [
      "1\n",
      "4\n",
      "9\n",
      "16\n",
      "25\n"
     ]
    },
    {
     "ename": "StopIteration",
     "evalue": "",
     "output_type": "error",
     "traceback": [
      "\u001b[0;31m---------------------------------------------------------------------------\u001b[0m",
      "\u001b[0;31mStopIteration\u001b[0m                             Traceback (most recent call last)",
      "\u001b[0;32m/tmp/ipykernel_19247/648281970.py\u001b[0m in \u001b[0;36m<module>\u001b[0;34m\u001b[0m\n\u001b[1;32m     17\u001b[0m \u001b[0mprint\u001b[0m\u001b[0;34m(\u001b[0m\u001b[0mnext\u001b[0m\u001b[0;34m(\u001b[0m\u001b[0miterator\u001b[0m\u001b[0;34m)\u001b[0m\u001b[0;34m)\u001b[0m \u001b[0;31m# 16 değeri üretildi 9 değeri tarihe karıştı\u001b[0m\u001b[0;34m\u001b[0m\u001b[0;34m\u001b[0m\u001b[0m\n\u001b[1;32m     18\u001b[0m \u001b[0mprint\u001b[0m\u001b[0;34m(\u001b[0m\u001b[0mnext\u001b[0m\u001b[0;34m(\u001b[0m\u001b[0miterator\u001b[0m\u001b[0;34m)\u001b[0m\u001b[0;34m)\u001b[0m \u001b[0;31m# 25 değeri üretildi 16 değeri tarihe karıştı.\u001b[0m\u001b[0;34m\u001b[0m\u001b[0;34m\u001b[0m\u001b[0m\n\u001b[0;32m---> 19\u001b[0;31m \u001b[0mprint\u001b[0m\u001b[0;34m(\u001b[0m\u001b[0mnext\u001b[0m\u001b[0;34m(\u001b[0m\u001b[0miterator\u001b[0m\u001b[0;34m)\u001b[0m\u001b[0;34m)\u001b[0m \u001b[0;31m# Üretilecek değer kalmadı.\u001b[0m\u001b[0;34m\u001b[0m\u001b[0;34m\u001b[0m\u001b[0m\n\u001b[0m",
      "\u001b[0;31mStopIteration\u001b[0m: "
     ]
    }
   ],
   "source": [
    "\"\"\"\n",
    "Yazdığımız ilk fonksiyonda 1'den 6'ya kadar gidip her bir değerin karesini sonuç isimli\n",
    "listeye atıyoruz ve daha sonra bu listeyi dönüyoruz.Yani bellekte liste değişkenin içinde\n",
    "1,4,9,16,25 değerleri tutuluyor.\n",
    "\n",
    "Generatorle yazdığımız 2.fonksiyonda yield anahtar kelimesiyle değerleri ürettiğimizi sanıyoruz. \n",
    "Ama aslında bu fonksiyonu çağırınca bize sadece bir tane generator objesi dönüyor ve biz sadece\n",
    "generator objesinin değerlerine ulaşmaya çalıştığımızda değerler tek tek üretiliyor. Yani kısacası\n",
    "bellekte değerler tutulmuyor. Bu generator objesinin üzerinde bir tane iterator oluşturarak durumu\n",
    "daha iyi anlamaya çalışalım.\n",
    "\"\"\"\n",
    "iterator = iter(generator)\n",
    "\n",
    "print(next(iterator)) # 1 değeri üretildi\n",
    "print(next(iterator)) # 4 değeri üretildi 1 değeri tarihe karıştı.\n",
    "print(next(iterator)) # 9 değeri üretildi 4 değeri tarihe karıştı.\n",
    "print(next(iterator)) # 16 değeri üretildi 9 değeri tarihe karıştı\n",
    "print(next(iterator)) # 25 değeri üretildi 16 değeri tarihe karıştı.\n",
    "print(next(iterator)) # Üretilecek değer kalmadı."
   ]
  },
  {
   "cell_type": "code",
   "execution_count": 35,
   "id": "65bdf801",
   "metadata": {},
   "outputs": [],
   "source": [
    "\"\"\"\n",
    "Aslında generator objesi sadece değerlere ulaşmak istediğimiz zaman yield\n",
    "anahtar kelimesini kullanıp değer üretiyor. Yani generatorler sadece biz değerlere \n",
    "ulaşmak istersek çalışıyor. İşte generatorlerin mantığı tamamıyla bu şekilde !\n",
    "Şimdi de list comprehensionları generatorlara çevirmeye çalışalım.\n",
    "\"\"\"\n",
    "liste = [i * 3 for i in range(5)]"
   ]
  },
  {
   "cell_type": "code",
   "execution_count": 37,
   "id": "f6247030",
   "metadata": {},
   "outputs": [
    {
     "data": {
      "text/plain": [
       "[0, 3, 6, 9, 12]"
      ]
     },
     "execution_count": 37,
     "metadata": {},
     "output_type": "execute_result"
    }
   ],
   "source": [
    "liste"
   ]
  },
  {
   "cell_type": "code",
   "execution_count": 38,
   "id": "6f3705cd",
   "metadata": {},
   "outputs": [],
   "source": [
    "generator = (i * 3 for i in range(5))"
   ]
  },
  {
   "cell_type": "code",
   "execution_count": 39,
   "id": "6ebb0b24",
   "metadata": {},
   "outputs": [
    {
     "name": "stdout",
     "output_type": "stream",
     "text": [
      "<generator object <genexpr> at 0x7fe0d45329d0>\n"
     ]
    }
   ],
   "source": [
    "print(generator)"
   ]
  },
  {
   "cell_type": "code",
   "execution_count": 40,
   "id": "3e523258",
   "metadata": {},
   "outputs": [],
   "source": [
    "iterator = iter(generator)"
   ]
  },
  {
   "cell_type": "code",
   "execution_count": 41,
   "id": "535694d6",
   "metadata": {},
   "outputs": [
    {
     "name": "stdout",
     "output_type": "stream",
     "text": [
      "0\n"
     ]
    }
   ],
   "source": [
    "print(next(iterator))"
   ]
  },
  {
   "cell_type": "code",
   "execution_count": 42,
   "id": "08b97877",
   "metadata": {},
   "outputs": [
    {
     "name": "stdout",
     "output_type": "stream",
     "text": [
      "3\n"
     ]
    }
   ],
   "source": [
    "print(next(iterator))"
   ]
  },
  {
   "cell_type": "code",
   "execution_count": 43,
   "id": "ba931dfd",
   "metadata": {},
   "outputs": [
    {
     "name": "stdout",
     "output_type": "stream",
     "text": [
      "6\n"
     ]
    }
   ],
   "source": [
    "print(next(iterator))"
   ]
  },
  {
   "cell_type": "code",
   "execution_count": 44,
   "id": "c841b54a",
   "metadata": {},
   "outputs": [
    {
     "name": "stdout",
     "output_type": "stream",
     "text": [
      "9\n"
     ]
    }
   ],
   "source": [
    "print(next(iterator))"
   ]
  },
  {
   "cell_type": "code",
   "execution_count": 45,
   "id": "03ec1fbf",
   "metadata": {},
   "outputs": [
    {
     "name": "stdout",
     "output_type": "stream",
     "text": [
      "12\n"
     ]
    }
   ],
   "source": [
    "print(next(iterator))"
   ]
  },
  {
   "cell_type": "code",
   "execution_count": 46,
   "id": "9d57dd4f",
   "metadata": {},
   "outputs": [
    {
     "ename": "StopIteration",
     "evalue": "",
     "output_type": "error",
     "traceback": [
      "\u001b[0;31m---------------------------------------------------------------------------\u001b[0m",
      "\u001b[0;31mStopIteration\u001b[0m                             Traceback (most recent call last)",
      "\u001b[0;32m/tmp/ipykernel_19247/3866658878.py\u001b[0m in \u001b[0;36m<module>\u001b[0;34m\u001b[0m\n\u001b[0;32m----> 1\u001b[0;31m \u001b[0mprint\u001b[0m\u001b[0;34m(\u001b[0m\u001b[0mnext\u001b[0m\u001b[0;34m(\u001b[0m\u001b[0miterator\u001b[0m\u001b[0;34m)\u001b[0m\u001b[0;34m)\u001b[0m\u001b[0;34m\u001b[0m\u001b[0;34m\u001b[0m\u001b[0m\n\u001b[0m",
      "\u001b[0;31mStopIteration\u001b[0m: "
     ]
    }
   ],
   "source": [
    "print(next(iterator))"
   ]
  },
  {
   "cell_type": "code",
   "execution_count": 47,
   "id": "cfec596f",
   "metadata": {},
   "outputs": [],
   "source": [
    "def carpimtablosu():\n",
    "    for i in range(1,11):\n",
    "        for j in range(1,11):\n",
    "            yield \"{} x {} = {}\".format(i,j,i*j)\n"
   ]
  },
  {
   "cell_type": "code",
   "execution_count": 48,
   "id": "55825ce8",
   "metadata": {},
   "outputs": [
    {
     "name": "stdout",
     "output_type": "stream",
     "text": [
      "1 x 1 = 1\n",
      "1 x 2 = 2\n",
      "1 x 3 = 3\n",
      "1 x 4 = 4\n",
      "1 x 5 = 5\n",
      "1 x 6 = 6\n",
      "1 x 7 = 7\n",
      "1 x 8 = 8\n",
      "1 x 9 = 9\n",
      "1 x 10 = 10\n",
      "2 x 1 = 2\n",
      "2 x 2 = 4\n",
      "2 x 3 = 6\n",
      "2 x 4 = 8\n",
      "2 x 5 = 10\n",
      "2 x 6 = 12\n",
      "2 x 7 = 14\n",
      "2 x 8 = 16\n",
      "2 x 9 = 18\n",
      "2 x 10 = 20\n",
      "3 x 1 = 3\n",
      "3 x 2 = 6\n",
      "3 x 3 = 9\n",
      "3 x 4 = 12\n",
      "3 x 5 = 15\n",
      "3 x 6 = 18\n",
      "3 x 7 = 21\n",
      "3 x 8 = 24\n",
      "3 x 9 = 27\n",
      "3 x 10 = 30\n",
      "4 x 1 = 4\n",
      "4 x 2 = 8\n",
      "4 x 3 = 12\n",
      "4 x 4 = 16\n",
      "4 x 5 = 20\n",
      "4 x 6 = 24\n",
      "4 x 7 = 28\n",
      "4 x 8 = 32\n",
      "4 x 9 = 36\n",
      "4 x 10 = 40\n",
      "5 x 1 = 5\n",
      "5 x 2 = 10\n",
      "5 x 3 = 15\n",
      "5 x 4 = 20\n",
      "5 x 5 = 25\n",
      "5 x 6 = 30\n",
      "5 x 7 = 35\n",
      "5 x 8 = 40\n",
      "5 x 9 = 45\n",
      "5 x 10 = 50\n",
      "6 x 1 = 6\n",
      "6 x 2 = 12\n",
      "6 x 3 = 18\n",
      "6 x 4 = 24\n",
      "6 x 5 = 30\n",
      "6 x 6 = 36\n",
      "6 x 7 = 42\n",
      "6 x 8 = 48\n",
      "6 x 9 = 54\n",
      "6 x 10 = 60\n",
      "7 x 1 = 7\n",
      "7 x 2 = 14\n",
      "7 x 3 = 21\n",
      "7 x 4 = 28\n",
      "7 x 5 = 35\n",
      "7 x 6 = 42\n",
      "7 x 7 = 49\n",
      "7 x 8 = 56\n",
      "7 x 9 = 63\n",
      "7 x 10 = 70\n",
      "8 x 1 = 8\n",
      "8 x 2 = 16\n",
      "8 x 3 = 24\n",
      "8 x 4 = 32\n",
      "8 x 5 = 40\n",
      "8 x 6 = 48\n",
      "8 x 7 = 56\n",
      "8 x 8 = 64\n",
      "8 x 9 = 72\n",
      "8 x 10 = 80\n",
      "9 x 1 = 9\n",
      "9 x 2 = 18\n",
      "9 x 3 = 27\n",
      "9 x 4 = 36\n",
      "9 x 5 = 45\n",
      "9 x 6 = 54\n",
      "9 x 7 = 63\n",
      "9 x 8 = 72\n",
      "9 x 9 = 81\n",
      "9 x 10 = 90\n",
      "10 x 1 = 10\n",
      "10 x 2 = 20\n",
      "10 x 3 = 30\n",
      "10 x 4 = 40\n",
      "10 x 5 = 50\n",
      "10 x 6 = 60\n",
      "10 x 7 = 70\n",
      "10 x 8 = 80\n",
      "10 x 9 = 90\n",
      "10 x 10 = 100\n"
     ]
    }
   ],
   "source": [
    "for i in carpimtablosu():\n",
    "    print(i)"
   ]
  },
  {
   "cell_type": "code",
   "execution_count": 49,
   "id": "24d8903c",
   "metadata": {},
   "outputs": [
    {
     "name": "stdout",
     "output_type": "stream",
     "text": [
      "0\n",
      "1\n",
      "2\n",
      "3\n",
      "4\n",
      "5\n",
      "6\n",
      "7\n",
      "8\n",
      "9\n",
      "10\n",
      "11\n",
      "12\n",
      "13\n",
      "14\n",
      "15\n",
      "16\n",
      "17\n",
      "18\n",
      "19\n",
      "20\n",
      "21\n",
      "22\n",
      "23\n",
      "24\n",
      "25\n",
      "26\n",
      "27\n",
      "28\n",
      "29\n",
      "30\n",
      "31\n",
      "32\n",
      "33\n",
      "34\n",
      "35\n",
      "36\n",
      "37\n",
      "38\n",
      "39\n",
      "40\n",
      "41\n",
      "42\n",
      "43\n",
      "44\n",
      "45\n",
      "46\n",
      "47\n",
      "48\n",
      "49\n",
      "50\n",
      "51\n",
      "52\n",
      "53\n",
      "54\n",
      "55\n",
      "56\n",
      "57\n",
      "58\n",
      "59\n",
      "60\n",
      "61\n",
      "62\n",
      "63\n",
      "64\n",
      "65\n",
      "66\n",
      "67\n",
      "68\n",
      "69\n",
      "70\n",
      "71\n",
      "72\n",
      "73\n",
      "74\n",
      "75\n",
      "76\n",
      "77\n",
      "78\n",
      "79\n",
      "80\n",
      "81\n",
      "82\n",
      "83\n",
      "84\n",
      "85\n",
      "86\n",
      "87\n",
      "88\n",
      "89\n",
      "90\n",
      "91\n",
      "92\n",
      "93\n",
      "94\n",
      "95\n",
      "96\n",
      "97\n",
      "98\n",
      "99\n"
     ]
    }
   ],
   "source": [
    "\"\"\"\n",
    "Buradaki bu kadar işlemi listelerde tutmak o kadar mantıklı değil. Onun yerine bellekte yer kaplamayan ve sadece \n",
    "her ulaşmaya çalıştığımızda değer üreten(yield) generator fonksiyonları kullanmak daha mantıklı olacaktır.\n",
    "\n",
    "Peki generatorlar Pythonda nerede kullanılıyor ? Aslında bizim daha önce öğrendiğimiz range fonksiyonu \n",
    "Pythonda generatorlar yazılmış bir fonksiyondur.\n",
    "\"\"\"\n",
    "for i in range(100): # Sadece istediğimiz zaman sayılara ulaşıyoruz.\n",
    "    print(i)"
   ]
  },
  {
   "cell_type": "code",
   "execution_count": 58,
   "id": "a290b38e",
   "metadata": {},
   "outputs": [
    {
     "name": "stdout",
     "output_type": "stream",
     "text": [
      "[2, 3, 5, 7]\n"
     ]
    }
   ],
   "source": [
    "def asalsayı(a):\n",
    "    liste=list(range(2,a))\n",
    "    döndürülecekliste=[]\n",
    "    for i in liste:\n",
    "        liste2=list(range(2,i))\n",
    "        kontrol=list()\n",
    "        for j in liste2:\n",
    "            if i%j==0:\n",
    "                kontrol.append(j)\n",
    "        if len(kontrol)==0:\n",
    "            döndürülecekliste.append(i)\n",
    "    yield döndürülecekliste"
   ]
  },
  {
   "cell_type": "code",
   "execution_count": 52,
   "id": "d10eb5cc",
   "metadata": {},
   "outputs": [
    {
     "data": {
      "text/plain": [
       "<generator object asalsayı at 0x7fe0d4533760>"
      ]
     },
     "execution_count": 52,
     "metadata": {},
     "output_type": "execute_result"
    }
   ],
   "source": [
    "asalsayı(100)"
   ]
  },
  {
   "cell_type": "code",
   "execution_count": null,
   "id": "532ee2f9",
   "metadata": {},
   "outputs": [],
   "source": []
  }
 ],
 "metadata": {
  "kernelspec": {
   "display_name": "Python 3 (ipykernel)",
   "language": "python",
   "name": "python3"
  },
  "language_info": {
   "codemirror_mode": {
    "name": "ipython",
    "version": 3
   },
   "file_extension": ".py",
   "mimetype": "text/x-python",
   "name": "python",
   "nbconvert_exporter": "python",
   "pygments_lexer": "ipython3",
   "version": "3.10.7"
  }
 },
 "nbformat": 4,
 "nbformat_minor": 5
}
