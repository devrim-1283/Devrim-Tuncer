{
 "cells": [
  {
   "cell_type": "markdown",
   "metadata": {},
   "source": [
    "# SQLLITE"
   ]
  },
  {
   "cell_type": "code",
   "execution_count": 1,
   "metadata": {},
   "outputs": [],
   "source": [
    "import sqlite3"
   ]
  },
  {
   "cell_type": "code",
   "execution_count": null,
   "metadata": {},
   "outputs": [],
   "source": [
    "# Veri tabanı oluşturma\n",
    "\n",
    "database = sqlite3.connect(\"kütüphane.db\") # connect database bağlanır, yoksa kurar\n",
    "\n",
    "cursor = database.cursor() # file open gibi imleç görevi görür\n",
    "\n",
    "database.close()  # close database kapatır bağlantıyı kopatır\n",
    "\n",
    "# Baktığınız zaman dosyalarla aynı "
   ]
  },
  {
   "cell_type": "markdown",
   "metadata": {},
   "source": [
    "Tablo Oluşturmak İki Farklı Yöntem Var\n",
    "\n",
    "CREATE TABLE tablename (isim TEXT, yazar TEXT, yayınevi TEXT, sayfa_sayısı INT, ücret FLOAT)\n",
    "bu sorgu tablename isimli tablo oluşturur TEXT INT FLOAT veri tipini temsil eder\n",
    "CREATE TABLE IF NOT EXISTS tablename (isim TEXT, yazar TEXT, yayınevi TEXT, sayfa_sayısı INT, ücret FLOAT)\n",
    "\n",
    "\n",
    "ilk sorgu tablo varsa hata verir ikinci ise hata vermez"
   ]
  },
  {
   "cell_type": "code",
   "execution_count": 6,
   "metadata": {},
   "outputs": [
    {
     "ename": "ProgrammingError",
     "evalue": "Cannot operate on a closed database.",
     "output_type": "error",
     "traceback": [
      "\u001b[0;31m---------------------------------------------------------------------------\u001b[0m",
      "\u001b[0;31mProgrammingError\u001b[0m                          Traceback (most recent call last)",
      "Cell \u001b[0;32mIn[6], line 3\u001b[0m\n\u001b[1;32m      1\u001b[0m \u001b[38;5;66;03m#CREATE TABLE tablename (isim TEXT, yazar TEXT, yayınevi TEXT, sayfa_sayısı INT, ücret FLOAT)\u001b[39;00m\n\u001b[1;32m      2\u001b[0m \u001b[38;5;66;03m#CREATE TABLE IF NOT EXISTS tablename (isim TEXT, yazar TEXT, yayınevi TEXT, sayfa_sayısı INT, ücret FLOAT)\u001b[39;00m\n\u001b[0;32m----> 3\u001b[0m \u001b[43mcursor\u001b[49m\u001b[38;5;241;43m.\u001b[39;49m\u001b[43mexecute\u001b[49m\u001b[43m(\u001b[49m\u001b[38;5;124;43m\"\u001b[39;49m\u001b[38;5;124;43mCREATE TABLE IF NOT EXISTS kitaplık (isim TEXT, yazar TEXT, yayınevi TEXT, sayfa_sayısı INT, ücret FLOAT)\u001b[39;49m\u001b[38;5;124;43m\"\u001b[39;49m\u001b[43m)\u001b[49m\n\u001b[1;32m      4\u001b[0m \u001b[38;5;66;03m# execute tablo oluşturma komutu\u001b[39;00m\n\u001b[1;32m      5\u001b[0m \u001b[38;5;66;03m# tabloyu oluşturduktan sonra commit etmemiz gerekli ki değişiklikler kabul olsun\u001b[39;00m\n\u001b[1;32m      6\u001b[0m database\u001b[38;5;241m.\u001b[39mcommit()\n",
      "\u001b[0;31mProgrammingError\u001b[0m: Cannot operate on a closed database."
     ]
    }
   ],
   "source": [
    "#CREATE TABLE tablename (isim TEXT, yazar TEXT, yayınevi TEXT, sayfa_sayısı INT, ücret FLOAT)\n",
    "#CREATE TABLE IF NOT EXISTS tablename (isim TEXT, yazar TEXT, yayınevi TEXT, sayfa_sayısı INT, ücret FLOAT)\n",
    "cursor.execute(\"CREATE TABLE IF NOT EXISTS kitaplık (isim TEXT, yazar TEXT, yayınevi TEXT, sayfa_sayısı INT, ücret FLOAT)\")\n",
    "# execute tablo oluşturma komutu\n",
    "# tabloyu oluşturduktan sonra commit etmemiz gerekli ki değişiklikler kabul olsun\n",
    "database.commit()"
   ]
  },
  {
   "cell_type": "code",
   "execution_count": 8,
   "metadata": {},
   "outputs": [],
   "source": [
    "# Hata aldık çünkü database bağlanmadık\n",
    "database = sqlite3.connect(\"kütüphane.db\")\n",
    "\n",
    "cursor = database.cursor()\n",
    "\n",
    "cursor.execute(\"CREATE TABLE IF NOT EXISTS kitaplık (isim TEXT, yazar TEXT, yayınevi TEXT, sayfa_sayısı INT, ücret FLOAT)\")\n",
    "\n",
    "database.commit()\n",
    "\n",
    "database.close()"
   ]
  },
  {
   "cell_type": "code",
   "execution_count": 3,
   "metadata": {},
   "outputs": [],
   "source": [
    "# Burada kitaplık tablomuza veri eklemek için INSERT INTO komutunu çalıştırcaz.\n",
    "# Sqllite da sorguları küçük büyük harfle yazabiliriz.\n",
    "database = sqlite3.connect(\"kütüphane.db\")\n",
    "cursor = database.cursor()\n",
    "\n",
    "cursor.execute(\"insert into kitaplık values('İstanbul Hatırası','Ahmet Ümit','Everest','261','199.99')\")\n",
    "database.commit()\n",
    "# commitlemeyi unutmuyoruz\n",
    "\n",
    "database.close()"
   ]
  },
  {
   "cell_type": "code",
   "execution_count": 4,
   "metadata": {},
   "outputs": [],
   "source": [
    "# Burada kitaplık tablomuza veri eklemek için INSERT INTO komutunu çalıştırcaz.\n",
    "# Sqllite da sorguları küçük büyük harfle yazabiliriz.\n",
    "database = sqlite3.connect(\"kütüphane.db\")\n",
    "cursor = database.cursor()\n",
    "\n",
    "cursor.execute(\"insert into kitaplık values('İstanbul Hatırası','Ahmet Ümit','Everest','261','199.99')\")\n",
    "cursor.execute(\"insert into kitaplık values('İstanbul Hatırası','Devrimin Güncelliği','Tunçer','211','399.99')\")\n",
    "cursor.execute(\"insert into kitaplık values('İstanbul Hatırası','Bir Güzel Esma','Tanşa','61','19.99')\")\n",
    "cursor.execute(\"insert into kitaplık values('İstanbul Hatırası','Yozgatı Kokluyorum','İş Bankası','1261','1199.99')\")\n",
    "database.commit()\n",
    "# commitlemeyi unutmuyoruz"
   ]
  },
  {
   "cell_type": "code",
   "execution_count": 4,
   "metadata": {},
   "outputs": [],
   "source": [
    "database.close()"
   ]
  },
  {
   "cell_type": "markdown",
   "metadata": {},
   "source": [
    "Buradaki sorgularımız\n",
    "\n",
    "Select * From kitaplık  -- kitaplıktaki tüm bilgileri çekme\n",
    "\n",
    "Select İsim,Yazar From kitaplık -- tablodaki tüm verilerin sadece isim yazar özelliklerini\n",
    "\n",
    "Select * From kitaplık where Yayınevi = 'Everest'  -- sadece yayınevi özelliği everest olanlar\n"
   ]
  },
  {
   "cell_type": "code",
   "execution_count": 6,
   "metadata": {},
   "outputs": [
    {
     "name": "stdout",
     "output_type": "stream",
     "text": [
      "('İstanbul Hatırası', 'Ahmet Ümit', 'Everest', 261, 199.99)\n",
      "('İstanbul Hatırası', 'Ahmet Ümit', 'Everest', 261, 199.99)\n",
      "('İstanbul Hatırası', 'Devrimin Güncelliği', 'Tunçer', 211, 399.99)\n",
      "('İstanbul Hatırası', 'Bir Güzel Esma', 'Tanşa', 61, 19.99)\n",
      "('İstanbul Hatırası', 'Yozgatı Kokluyorum', 'İş Bankası', 1261, 1199.99)\n",
      "-----------------------\n",
      "[('İstanbul Hatırası', 'Ahmet Ümit', 'Everest', 261, 199.99), ('İstanbul Hatırası', 'Ahmet Ümit', 'Everest', 261, 199.99), ('İstanbul Hatırası', 'Devrimin Güncelliği', 'Tunçer', 211, 399.99), ('İstanbul Hatırası', 'Bir Güzel Esma', 'Tanşa', 61, 19.99), ('İstanbul Hatırası', 'Yozgatı Kokluyorum', 'İş Bankası', 1261, 1199.99)]\n"
     ]
    }
   ],
   "source": [
    "# database bağlanalım\n",
    "\n",
    "database = sqlite3.connect(\"kütüphane.db\")\n",
    "\n",
    "cur = database.cursor()\n",
    "\n",
    "cur.execute(\"select * from kitaplık\")\n",
    "\n",
    "data = cur.fetchall() # Veri tabanından verileri çekmek için bu fonksiyonu kullanırız\n",
    "\n",
    "\n",
    "for i in data:\n",
    "    print(i)\n",
    "# database.commit() işlemine gerek yok. Çünkü tabloda herhangi bir güncelleme yapmıyoruz.\n",
    "print(\"-----------------------\")\n",
    "print(data)\n",
    "database.close()"
   ]
  },
  {
   "cell_type": "code",
   "execution_count": 7,
   "metadata": {},
   "outputs": [
    {
     "name": "stdout",
     "output_type": "stream",
     "text": [
      "(261, 199.99)\n",
      "(261, 199.99)\n",
      "(211, 399.99)\n",
      "(61, 19.99)\n",
      "(1261, 1199.99)\n"
     ]
    }
   ],
   "source": [
    "# İkinci sorgumuzu yazalım\n",
    "\n",
    "db = sqlite3.connect(\"kütüphane.db\")\n",
    "\n",
    "cur = db.cursor()\n",
    "\n",
    "cur.execute(\"Select sayfa_sayısı,ücret from kitaplık\")\n",
    "\n",
    "data = cur.fetchall()\n",
    "\n",
    "for i in data:\n",
    "    print(i)\n",
    "\n",
    "db.close()"
   ]
  },
  {
   "cell_type": "code",
   "execution_count": 9,
   "metadata": {},
   "outputs": [
    {
     "name": "stdout",
     "output_type": "stream",
     "text": [
      "[('İstanbul Hatırası', 'Ahmet Ümit', 'Everest', 261, 199.99), ('İstanbul Hatırası', 'Ahmet Ümit', 'Everest', 261, 199.99)]\n"
     ]
    }
   ],
   "source": [
    "# Üçüncü sorgumuz\n",
    "\n",
    "db = sqlite3.connect(\"kütüphane.db\")\n",
    "\n",
    "cur = db.cursor()\n",
    "\n",
    "cur.execute(\"select * from kitaplık where yazar = 'Ahmet Ümit'\")\n",
    "\n",
    "data = cur.fetchall()\n",
    "\n",
    "print(data)\n",
    "\n",
    "db.close()"
   ]
  },
  {
   "cell_type": "code",
   "execution_count": 14,
   "metadata": {},
   "outputs": [
    {
     "name": "stdout",
     "output_type": "stream",
     "text": [
      "[('İstanbul Hatırası', 'Devrimin Güncelliği', 'Tunçer', 211, 399.99)]\n",
      "[('İstanbul Hatırası', 'Devrimin Güncelliği', 'Tunçer', 211, 399.99), ('İstanbul Hatırası', 'Bir Güzel Esma', 'Tunçer', 61, 19.99)]\n"
     ]
    }
   ],
   "source": [
    "# Tablodaki verileri güncelleme\n",
    "\n",
    "db = sqlite3.connect(\"kütüphane.db\")\n",
    "\n",
    "cur = db.cursor()\n",
    "\n",
    "cur.execute(\"select * from kitaplık where yayınevi = 'Tunçer'\")\n",
    "\n",
    "data = cur.fetchall()\n",
    "\n",
    "print(data)\n",
    "\n",
    "cur.execute(\"update kitaplık set yayınevi='Tunçer' where yayınevi ='Tanşa'\") # Güncelleme promptu\n",
    "\n",
    "db.commit()\n",
    "\n",
    "cur.execute(\"select * from kitaplık where yayınevi = 'Tunçer'\")\n",
    "\n",
    "data = cur.fetchall()\n",
    "\n",
    "print(data)\n",
    "\n",
    "db.close()\n",
    "\n"
   ]
  },
  {
   "cell_type": "code",
   "execution_count": 19,
   "metadata": {},
   "outputs": [
    {
     "name": "stdout",
     "output_type": "stream",
     "text": [
      "('İstanbul Hatırası', 'Ahmet Ümit', 'Everest', 261, 199.99)\n",
      "('İstanbul Hatırası', 'Ahmet Ümit', 'Everest', 261, 199.99)\n",
      "('İstanbul Hatırası', 'Devrimin Güncelliği', 'Tunçer', 211, 399.99)\n",
      "('İstanbul Hatırası', 'Bir Güzel Esma', 'Tunçer', 61, 19.99)\n",
      "('İstanbul Hatırası', 'Yozgatı Kokluyorum', 'İş Bankası', 1261, 1199.99)\n",
      "---------------------\n",
      "('Kitap 1', 'Ahmet Ümit', 'Everest', 261, 199.99)\n",
      "('Kitap 1', 'Ahmet Ümit', 'Everest', 261, 199.99)\n",
      "('Kitap 1', 'Devrimin Güncelliği', 'Tunçer', 211, 399.99)\n",
      "('Kitap 1', 'Bir Güzel Esma', 'Tunçer', 61, 19.99)\n",
      "('Kitap 1', 'Yozgatı Kokluyorum', 'İş Bankası', 1261, 1199.99)\n"
     ]
    }
   ],
   "source": [
    "db = sqlite3.connect(\"kütüphane.db\")\n",
    "\n",
    "cur = db.cursor()\n",
    "\n",
    "cur.execute(\"select * from kitaplık\")\n",
    "\n",
    "data = cur.fetchall()\n",
    "\n",
    "for i in data:\n",
    "    print(i)\n",
    "\n",
    "print(\"---------------------\")\n",
    "\n",
    "cur.execute(\"update kitaplık set isim='Kitap 1' where isim='İstanbul Hatırası'\")\n",
    "#cur.execute(\"update kitaplık set isim='İstanbul Hatırası' where yayınevi='Kita'\")\n",
    "db.commit()\n",
    "\n",
    "cur.execute(\"select * from kitaplık\")\n",
    "\n",
    "data = cur.fetchall()\n",
    "\n",
    "for i in data:\n",
    "    print(i)\n",
    "\n",
    "db.close()\n"
   ]
  },
  {
   "cell_type": "code",
   "execution_count": null,
   "metadata": {},
   "outputs": [
    {
     "name": "stdout",
     "output_type": "stream",
     "text": [
      "('Kitap 1', 'Ahmet Ümit', 'Everest', 261, 199.99)\n",
      "('Kitap 1', 'Ahmet Ümit', 'Everest', 261, 199.99)\n",
      "('Kitap 1', 'Devrimin Güncelliği', 'Tunçer', 211, 399.99)\n",
      "('Kitap 1', 'Bir Güzel Esma', 'Tunçer', 61, 19.99)\n",
      "('Kitap 1', 'Yozgatı Kokluyorum', 'İş Bankası', 1261, 1199.99)\n",
      "---------------------\n",
      "('Kitap 1', 'Ahmet Ümit', 'Kitaplar', 261, 199.99)\n",
      "('Kitap 1', 'Ahmet Ümit', 'Kitaplar', 261, 199.99)\n",
      "('Kitap 1', 'Devrimin Güncelliği', 'Kitaplar', 211, 399.99)\n",
      "('Kitap 1', 'Bir Güzel Esma', 'Kitaplar', 61, 19.99)\n",
      "('Kitap 1', 'Yozgatı Kokluyorum', 'Kitaplar', 1261, 1199.99)\n"
     ]
    }
   ],
   "source": [
    "db = sqlite3.connect(\"kütüphane.db\")\n",
    "\n",
    "cur = db.cursor()\n",
    "\n",
    "cur.execute(\"select * from kitaplık\")\n",
    "\n",
    "data = cur.fetchall()\n",
    "\n",
    "for i in data:\n",
    "    print(i)\n",
    "\n",
    "print(\"---------------------\")\n",
    "\n",
    "#cur.execute(\"update kitaplık set isim='Kitap 1' where isim='İstanbul Hatırası'\")\n",
    "cur.execute(\"update kitaplık set yayınevi='Kitaplar' where isim='Kitap 1'\")\n",
    "db.commit()\n",
    "\n",
    "cur.execute(\"select * from kitaplık\")\n",
    "\n",
    "data = cur.fetchall()\n",
    "\n",
    "for i in data:\n",
    "    print(i)\n",
    "\n",
    "db.close()\n"
   ]
  },
  {
   "cell_type": "code",
   "execution_count": 25,
   "metadata": {},
   "outputs": [],
   "source": [
    "db.close()"
   ]
  },
  {
   "cell_type": "code",
   "execution_count": 26,
   "metadata": {},
   "outputs": [
    {
     "ename": "OperationalError",
     "evalue": "database is locked",
     "output_type": "error",
     "traceback": [
      "\u001b[0;31m---------------------------------------------------------------------------\u001b[0m",
      "\u001b[0;31mOperationalError\u001b[0m                          Traceback (most recent call last)",
      "Cell \u001b[0;32mIn[26], line 8\u001b[0m\n\u001b[1;32m      3\u001b[0m db \u001b[38;5;241m=\u001b[39m sqlite3\u001b[38;5;241m.\u001b[39mconnect(\u001b[38;5;124m\"\u001b[39m\u001b[38;5;124mkütüphane.db\u001b[39m\u001b[38;5;124m\"\u001b[39m)\n\u001b[1;32m      5\u001b[0m cur \u001b[38;5;241m=\u001b[39m db\u001b[38;5;241m.\u001b[39mcursor()\n\u001b[0;32m----> 8\u001b[0m \u001b[43mcur\u001b[49m\u001b[38;5;241;43m.\u001b[39;49m\u001b[43mexecute\u001b[49m\u001b[43m(\u001b[49m\u001b[38;5;124;43m\"\u001b[39;49m\u001b[38;5;124;43mdelete from kitaplık where yazar =\u001b[39;49m\u001b[38;5;124;43m'\u001b[39;49m\u001b[38;5;124;43mAhmet Ümit\u001b[39;49m\u001b[38;5;124;43m'\u001b[39;49m\u001b[38;5;124;43m \u001b[39;49m\u001b[38;5;124;43m\"\u001b[39;49m\u001b[43m)\u001b[49m\n\u001b[1;32m     10\u001b[0m db\u001b[38;5;241m.\u001b[39mcommit()\n\u001b[1;32m     12\u001b[0m cur\u001b[38;5;241m.\u001b[39mexecute(\u001b[38;5;124m\"\u001b[39m\u001b[38;5;124mSelect * from kitaplık\u001b[39m\u001b[38;5;124m\"\u001b[39m)\n",
      "\u001b[0;31mOperationalError\u001b[0m: database is locked"
     ]
    }
   ],
   "source": [
    "# Veri silmeye bakalım\n",
    "\n",
    "db = sqlite3.connect(\"kütüphane.db\")\n",
    "\n",
    "cur = db.cursor()\n",
    "\n",
    "\n",
    "cur.execute(\"delete from kitaplık where yazar ='Ahmet Ümit' \")\n",
    "\n",
    "db.commit()\n",
    "\n",
    "cur.execute(\"Select * from kitaplık\")\n",
    "\n",
    "data = cur.fetchall()\n",
    "\n",
    "for i in data:\n",
    "    print(i)\n",
    "\n",
    "db.close()"
   ]
  },
  {
   "cell_type": "code",
   "execution_count": 5,
   "metadata": {},
   "outputs": [
    {
     "name": "stdout",
     "output_type": "stream",
     "text": [
      "('Kitap 1', 'Devrimin Güncelliği', 'Kitaplar', 211, 399.99)\n",
      "('Kitap 1', 'Bir Güzel Esma', 'Kitaplar', 61, 19.99)\n",
      "('Kitap 1', 'Yozgatı Kokluyorum', 'Kitaplar', 1261, 1199.99)\n",
      "('İstanbul Hatırası', 'Devrimin Güncelliği', 'Tunçer', 211, 399.99)\n",
      "('İstanbul Hatırası', 'Bir Güzel Esma', 'Tanşa', 61, 19.99)\n",
      "('İstanbul Hatırası', 'Yozgatı Kokluyorum', 'İş Bankası', 1261, 1199.99)\n"
     ]
    }
   ],
   "source": [
    "# Veri silmeye bakalım\n",
    "\n",
    "db = sqlite3.connect(\"kütüphane.db\")\n",
    "\n",
    "cur = db.cursor()\n",
    "\n",
    "\n",
    "cur.execute(\"delete from kitaplık where yazar ='Ahmet Ümit' \")\n",
    "\n",
    "db.commit()\n",
    "\n",
    "cur.execute(\"Select * from kitaplık\")\n",
    "\n",
    "data = cur.fetchall()\n",
    "\n",
    "for i in data:\n",
    "    print(i)\n",
    "\n",
    "db.close()"
   ]
  }
 ],
 "metadata": {
  "kernelspec": {
   "display_name": "Python 3",
   "language": "python",
   "name": "python3"
  },
  "language_info": {
   "codemirror_mode": {
    "name": "ipython",
    "version": 3
   },
   "file_extension": ".py",
   "mimetype": "text/x-python",
   "name": "python",
   "nbconvert_exporter": "python",
   "pygments_lexer": "ipython3",
   "version": "3.12.7"
  }
 },
 "nbformat": 4,
 "nbformat_minor": 2
}
