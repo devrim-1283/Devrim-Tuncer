{
 "cells": [
  {
   "cell_type": "markdown",
   "metadata": {},
   "source": [
    "# SMTP"
   ]
  },
  {
   "cell_type": "code",
   "execution_count": null,
   "metadata": {},
   "outputs": [
    {
     "name": "stdout",
     "output_type": "stream",
     "text": [
      "Mail sended....\n"
     ]
    }
   ],
   "source": [
    "import smtplib\n",
    "from email.mime.multipart import MIMEMultipart\n",
    "from email.mime.text import MIMEText\n",
    "import sys\n",
    "\n",
    "\n",
    "message = MIMEMultipart()\n",
    "\n",
    "\n",
    "\n",
    "message[\"From\"] = \"220254086@ogr.alanya.edu.tr\"      \n",
    "\n",
    "message[\"To\"] = \"devrimtuncer.ai@gmail.com\"\n",
    "\n",
    "message[\"Subject\"] = \"SMTP Mail Gönderme\"\n",
    "\n",
    "\n",
    "text = \"\"\"\n",
    "    Hello I'm Devrim.\n",
    "I sended you this message from Python\n",
    "\n",
    ":))))\n",
    "\n",
    "                Devrim Tunçer\n",
    "\n",
    "\n",
    "\"\"\"\n",
    "\n",
    "my_text = MIMEText(text,\"plain\")\n",
    "\n",
    "\n",
    "message.attach(my_text)\n",
    "\n",
    "\n",
    "try:\n",
    "    mail = smtplib.SMTP(\"smtp.gmail.com\",587)  # gmaile bağlanma ve port seçme\n",
    " \n",
    "    mail.ehlo() # bağlanma porta\n",
    "\n",
    "    mail.starttls()   #şifreleme bunu kullanmazsak gönderilmez\n",
    "\n",
    "    mail.login(message[\"From\"],\"şifre\")\n",
    "\n",
    "    mail.sendmail(message[\"From\"],message[\"To\"],message.as_string())\n",
    "    \n",
    "    mail.close()   # bağlantıyı kesme\n",
    "\n",
    "\n",
    "    print(\"Mail sended....\")\n",
    "\n",
    "except:\n",
    "    sys.stderr.write(\"Mail didn't send\") # hata yazdırma\n",
    "    sys.stderr.flush() # bufferı a atıp anlık yazdırma\n"
   ]
  },
  {
   "cell_type": "code",
   "execution_count": null,
   "metadata": {},
   "outputs": [],
   "source": [
    "import smtplib\n",
    "\n",
    "# yukarıda ki iki modül mail yapısını daha rahat kontrol edebilmek içindi böyle de olabilir.\n",
    "mail = smtplib.SMTP(\"smtp.gmail.com\",587)\n",
    "\n",
    "mail.ehlo()\n",
    "\n",
    "mail.starttls()\n",
    "\n",
    "mail.login(\"220254086@ogr.alanya.edu.tr\",\"\")\n",
    "\n",
    "my_mail=\"\"\"\n",
    "        Hellloooo\n",
    "\n",
    "\n",
    "I'm Devrimmm\n",
    "\"\"\"\n",
    "\n",
    "mail.sendmail(\"Devrim Tunçer\",\"devrimtuncer.ai@gmail.com\",my_mail)\n",
    "\n",
    "mail.close()\n",
    "\n",
    "# bu şekilde gönderdiğimiz zaman mesela konu yok diye gönderdi maili\n"
   ]
  },
  {
   "cell_type": "code",
   "execution_count": null,
   "metadata": {},
   "outputs": [],
   "source": [
    "import smtplib\n",
    "\n",
    "\n",
    "mail = smtplib.SMTP(\"smtp.gmail.com\",587)\n",
    "\n",
    "mail.ehlo()\n",
    "\n",
    "mail.starttls()\n",
    "\n",
    "mail.login(\"220254086@ogr.alanya.edu.tr\",\"\")\n",
    "\n",
    "my_mail=\"\"\"Subject: Hellloooo\n",
    "\n",
    "\n",
    "I'm Devrimmm\n",
    "\"\"\"\n",
    "\n",
    "mail.sendmail(\"Devrim Tunçer\",\"devrimtuncer.ai@mgmail.com\",my_mail)\n",
    "\n",
    "mail.close()\n",
    "\n",
    "# bu şekilde gönderdiğimiz zaman konu belirtiyoruz"
   ]
  },
  {
   "cell_type": "code",
   "execution_count": null,
   "metadata": {},
   "outputs": [],
   "source": [
    "import smtplib\n",
    "\n",
    "# SMTP sunucusuna bağlanma\n",
    "mail = smtplib.SMTP(\"smtp.gmail.com\", 587)\n",
    "mail.ehlo()\n",
    "mail.starttls()\n",
    "\n",
    "# Giriş yapma\n",
    "mail.login(\"220254086@ogr.alanya.edu.tr\", \"\")\n",
    "\n",
    "# E-posta başlığı ve içeriği\n",
    "subject = \"Test Email Subject\"  # Konu başlığı\n",
    "body = \"\"\"\\\n",
    "Hellloooo,\n",
    "\n",
    "I'm Devrimmm\n",
    "\"\"\"  # E-posta gövdesi\n",
    "\n",
    "# E-posta formatı\n",
    "message = f\"Subject: {subject}\\n\\n{body}\"\n",
    "\n",
    "# E-posta gönderme\n",
    "mail.sendmail(\"220254086@ogr.alanya.edu.tr\", \"devrimtuncer.ai@gmail.com\", message)\n",
    "\n",
    "# Bağlantıyı kapatma\n",
    "mail.close()\n"
   ]
  }
 ],
 "metadata": {
  "kernelspec": {
   "display_name": "Python 3",
   "language": "python",
   "name": "python3"
  },
  "language_info": {
   "codemirror_mode": {
    "name": "ipython",
    "version": 3
   },
   "file_extension": ".py",
   "mimetype": "text/x-python",
   "name": "python",
   "nbconvert_exporter": "python",
   "pygments_lexer": "ipython3",
   "version": "3.12.7"
  }
 },
 "nbformat": 4,
 "nbformat_minor": 2
}
