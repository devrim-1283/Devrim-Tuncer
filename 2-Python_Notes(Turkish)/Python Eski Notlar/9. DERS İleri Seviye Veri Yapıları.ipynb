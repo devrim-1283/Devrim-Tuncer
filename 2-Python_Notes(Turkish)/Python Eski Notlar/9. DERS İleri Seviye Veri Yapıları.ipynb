{
 "cells": [
  {
   "cell_type": "code",
   "execution_count": 1,
   "id": "5bf53f79",
   "metadata": {},
   "outputs": [
    {
     "data": {
      "text/plain": [
       "'0b100'"
      ]
     },
     "execution_count": 1,
     "metadata": {},
     "output_type": "execute_result"
    }
   ],
   "source": [
    "\"\"\"\n",
    "İleri Seviye Sayılar\n",
    "Bu konuda sayı veritiplerini biraz daha derinlemesine incelemeye ve sayılar üzerinde uygulanabilen \n",
    "yararlı fonksiyonları öğrenmeye çalışacağız.\n",
    "\n",
    "Bazen programlamada sayılarımızı 10'luk taban haricinde 2'lik(binary) ve 16'lık(hexadecimal) tabanda\n",
    "göstermek ve kullanmak isteyebiliriz.\n",
    "\n",
    "10'luk tabandaki sayıları 2'lik ve 16'lık tabanda göstermeye başlamadan önce şu linklerden 2'lik(binary)\n",
    "ve 16'lık(hexadecimal) tabanları incelemenizi tavsiye ediyorum.\n",
    "\n",
    "https://www.turkcebilgi.com/ikili_(binary)_say%C4%B1_sistemleri\n",
    "\n",
    "http://www.blogkafem.net/2014/01/sayi-sistemleri.html\n",
    "\n",
    "Şimdi isterseniz 10'luk tabandaki bir sayıyı ikilik tabana çevirmek için kullanılan bin() fonksiyonuna bakalım.\n",
    "\"\"\"\n",
    "bin(4) # bin fonksiyonu . Sayımız 2'lik tabanda yazıldı. (1 ve 0)"
   ]
  },
  {
   "cell_type": "code",
   "execution_count": 2,
   "id": "809f838d",
   "metadata": {},
   "outputs": [
    {
     "data": {
      "text/plain": [
       "'0b10011'"
      ]
     },
     "execution_count": 2,
     "metadata": {},
     "output_type": "execute_result"
    }
   ],
   "source": [
    "bin(19) # bin fonksiyonu . Sayımız 2'lik tabanda yazıldı. (1 ve 0)"
   ]
  },
  {
   "cell_type": "code",
   "execution_count": 3,
   "id": "be19eebd",
   "metadata": {},
   "outputs": [
    {
     "data": {
      "text/plain": [
       "'0b1000001001'"
      ]
     },
     "execution_count": 3,
     "metadata": {},
     "output_type": "execute_result"
    }
   ],
   "source": [
    "bin(521) # bin fonksiyonu . Sayımız 2'lik tabanda yazıldı. (1 ve 0)"
   ]
  },
  {
   "cell_type": "code",
   "execution_count": 4,
   "id": "fdf97523",
   "metadata": {},
   "outputs": [
    {
     "data": {
      "text/plain": [
       "'0x20'"
      ]
     },
     "execution_count": 4,
     "metadata": {},
     "output_type": "execute_result"
    }
   ],
   "source": [
    "hex(32) # Sayımız 16'lık tabanda yazıldı."
   ]
  },
  {
   "cell_type": "code",
   "execution_count": 5,
   "id": "6be6b30f",
   "metadata": {},
   "outputs": [
    {
     "data": {
      "text/plain": [
       "'0x36'"
      ]
     },
     "execution_count": 5,
     "metadata": {},
     "output_type": "execute_result"
    }
   ],
   "source": [
    "hex(54) # Sayımız 16'lık tabanda yazıldı."
   ]
  },
  {
   "cell_type": "code",
   "execution_count": 6,
   "id": "0205b671",
   "metadata": {},
   "outputs": [
    {
     "data": {
      "text/plain": [
       "'0x4bc'"
      ]
     },
     "execution_count": 6,
     "metadata": {},
     "output_type": "execute_result"
    }
   ],
   "source": [
    "hex(1212) # Sayımız 16'lık tabanda yazıldı."
   ]
  },
  {
   "cell_type": "code",
   "execution_count": 7,
   "id": "a1fd1176",
   "metadata": {},
   "outputs": [
    {
     "data": {
      "text/plain": [
       "1"
      ]
     },
     "execution_count": 7,
     "metadata": {},
     "output_type": "execute_result"
    }
   ],
   "source": [
    "\"\"\"\n",
    "Fonksiyonlar\n",
    "abs fonksiyonu\n",
    "Sayının mutlak değerini almamızı sağlar.\n",
    "\"\"\"\n",
    "abs(-1)"
   ]
  },
  {
   "cell_type": "code",
   "execution_count": 10,
   "id": "e4b7e3d2",
   "metadata": {},
   "outputs": [
    {
     "data": {
      "text/plain": [
       "5"
      ]
     },
     "execution_count": 10,
     "metadata": {},
     "output_type": "execute_result"
    }
   ],
   "source": [
    "\"\"\"\n",
    "ound fonksiyonu\n",
    "Sayıları alta veya üste yuvarlar.\n",
    "\n",
    "round(3.7)\n",
    "4\n",
    "round(3.2)\n",
    "3\n",
    "round(3)\n",
    "3\n",
    "round(3.21329321321323,4) # Ondalıklı sayının 4. hanesine göre yuvarlar\n",
    "3.2133\n",
    "round(3.21324321321323,4) # Ondalıklı sayının 4. hanesine göre yuvarlar\n",
    "\"\"\"\n",
    "round(4.8)"
   ]
  },
  {
   "cell_type": "code",
   "execution_count": 12,
   "id": "4c2561c5",
   "metadata": {},
   "outputs": [
    {
     "data": {
      "text/plain": [
       "4.812"
      ]
     },
     "execution_count": 12,
     "metadata": {},
     "output_type": "execute_result"
    }
   ],
   "source": [
    "round(4.812132,3)"
   ]
  },
  {
   "cell_type": "code",
   "execution_count": 13,
   "id": "2b6b54c2",
   "metadata": {},
   "outputs": [
    {
     "data": {
      "text/plain": [
       "4"
      ]
     },
     "execution_count": 13,
     "metadata": {},
     "output_type": "execute_result"
    }
   ],
   "source": [
    "\"\"\"\n",
    "max ve min fonksiyonu\n",
    "max() fonksiyonu verdiğimiz değerlerin en büyüğünü döndürür.\n",
    "\"\"\"\n",
    "max(3,4)"
   ]
  },
  {
   "cell_type": "code",
   "execution_count": 14,
   "id": "097caed3",
   "metadata": {},
   "outputs": [
    {
     "data": {
      "text/plain": [
       "3"
      ]
     },
     "execution_count": 14,
     "metadata": {},
     "output_type": "execute_result"
    }
   ],
   "source": [
    "min(3,4)"
   ]
  },
  {
   "cell_type": "code",
   "execution_count": 16,
   "id": "64ed81c0",
   "metadata": {},
   "outputs": [
    {
     "ename": "TypeError",
     "evalue": "'int' object is not iterable",
     "output_type": "error",
     "traceback": [
      "\u001b[0;31m---------------------------------------------------------------------------\u001b[0m",
      "\u001b[0;31mTypeError\u001b[0m                                 Traceback (most recent call last)",
      "\u001b[0;32m/tmp/ipykernel_25935/564467205.py\u001b[0m in \u001b[0;36m<module>\u001b[0;34m\u001b[0m\n\u001b[1;32m      3\u001b[0m \u001b[0msum\u001b[0m\u001b[0;34m(\u001b[0m\u001b[0;34m)\u001b[0m \u001b[0mfonksiyonu\u001b[0m \u001b[0mverilen\u001b[0m \u001b[0mdeğerleri\u001b[0m \u001b[0mtoplayarak\u001b[0m \u001b[0mdöndürür\u001b[0m\u001b[0;34m.\u001b[0m \u001b[0mDeğerlerin\u001b[0m \u001b[0mliste\u001b[0m\u001b[0;34m,\u001b[0m\u001b[0mdemet\u001b[0m \u001b[0mvb\u001b[0m\u001b[0;34m.\u001b[0m \u001b[0mşeklinde\u001b[0m \u001b[0mverilmesi\u001b[0m \u001b[0mgerekir\u001b[0m\u001b[0;34m.\u001b[0m\u001b[0;34m\u001b[0m\u001b[0;34m\u001b[0m\u001b[0m\n\u001b[1;32m      4\u001b[0m \"\"\"\n\u001b[0;32m----> 5\u001b[0;31m \u001b[0msum\u001b[0m\u001b[0;34m(\u001b[0m\u001b[0;36m3\u001b[0m\u001b[0;34m,\u001b[0m\u001b[0;36m4\u001b[0m\u001b[0;34m)\u001b[0m\u001b[0;34m\u001b[0m\u001b[0;34m\u001b[0m\u001b[0m\n\u001b[0m",
      "\u001b[0;31mTypeError\u001b[0m: 'int' object is not iterable"
     ]
    }
   ],
   "source": [
    "\"\"\"\n",
    "sum fonksiyonu\n",
    "sum() fonksiyonu verilen değerleri toplayarak döndürür. Değerlerin liste,demet vb. şeklinde verilmesi gerekir.\n",
    "\"\"\"\n",
    "sum(3,4)"
   ]
  },
  {
   "cell_type": "code",
   "execution_count": 17,
   "id": "1490fee4",
   "metadata": {},
   "outputs": [
    {
     "data": {
      "text/plain": [
       "25"
      ]
     },
     "execution_count": 17,
     "metadata": {},
     "output_type": "execute_result"
    }
   ],
   "source": [
    "sum([3,4,5,6,7])"
   ]
  },
  {
   "cell_type": "code",
   "execution_count": 18,
   "id": "4a8886e2",
   "metadata": {},
   "outputs": [
    {
     "data": {
      "text/plain": [
       "16"
      ]
     },
     "execution_count": 18,
     "metadata": {},
     "output_type": "execute_result"
    }
   ],
   "source": [
    "\"\"\"\n",
    "pow fonksiyonu\n",
    "pow() fonksiyonu üs alma işlemlerinde kullanılır.\n",
    "\"\"\"\n",
    "pow(2,4) # 2 üzeri 4"
   ]
  },
  {
   "cell_type": "code",
   "execution_count": 19,
   "id": "63f73028",
   "metadata": {},
   "outputs": [],
   "source": [
    "\"\"\"\n",
    "İleri Seviye Kümeler (Sets)\n",
    "Bu konuda yeni bir veritipi olan kümeler veya ingilizce adıyla setleri öğreneceğiz.\n",
    "\n",
    "Kümeler, matematikte olduğu gibi bir elemandan sadece bir adet tutan bir veritipidir. Bu açıdan kullanıldıkları \n",
    "yerlerde çok önemli bir veritipi olmaktadırlar. İsterseniz hemen bir küme oluşturalım.\n",
    "\n",
    "Küme oluşturmak\n",
    "\"\"\"\n",
    "x =  set() # Boş küme"
   ]
  },
  {
   "cell_type": "code",
   "execution_count": 20,
   "id": "3464610a",
   "metadata": {},
   "outputs": [
    {
     "data": {
      "text/plain": [
       "set"
      ]
     },
     "execution_count": 20,
     "metadata": {},
     "output_type": "execute_result"
    }
   ],
   "source": [
    "type(x)"
   ]
  },
  {
   "cell_type": "code",
   "execution_count": 26,
   "id": "3429ad69",
   "metadata": {},
   "outputs": [],
   "source": [
    "liste = [1,2,3,3,1,1,2,2,2] # Aynı elemanı birçok defa  barındıran bir liste"
   ]
  },
  {
   "cell_type": "code",
   "execution_count": 27,
   "id": "ec946b5f",
   "metadata": {},
   "outputs": [],
   "source": [
    "x = set(liste) # Veri tipi dönüşümü"
   ]
  },
  {
   "cell_type": "code",
   "execution_count": 28,
   "id": "e7ef14b5",
   "metadata": {},
   "outputs": [
    {
     "data": {
      "text/plain": [
       "{1, 2, 3}"
      ]
     },
     "execution_count": 28,
     "metadata": {},
     "output_type": "execute_result"
    }
   ],
   "source": [
    "x"
   ]
  },
  {
   "cell_type": "code",
   "execution_count": 29,
   "id": "4348f109",
   "metadata": {},
   "outputs": [],
   "source": [
    "x={}"
   ]
  },
  {
   "cell_type": "code",
   "execution_count": 30,
   "id": "d6fc7c54",
   "metadata": {},
   "outputs": [
    {
     "data": {
      "text/plain": [
       "dict"
      ]
     },
     "execution_count": 30,
     "metadata": {},
     "output_type": "execute_result"
    }
   ],
   "source": [
    "type(x)"
   ]
  },
  {
   "cell_type": "code",
   "execution_count": 31,
   "id": "78b64ce0",
   "metadata": {},
   "outputs": [],
   "source": [
    "x = set(\"Python Programlama Dili\")  # Aynı karakterler tek bir karaktere indirgendi."
   ]
  },
  {
   "cell_type": "code",
   "execution_count": 32,
   "id": "d3cb4026",
   "metadata": {},
   "outputs": [
    {
     "data": {
      "text/plain": [
       "{' ', 'D', 'P', 'a', 'g', 'h', 'i', 'l', 'm', 'n', 'o', 'r', 't', 'y'}"
      ]
     },
     "execution_count": 32,
     "metadata": {},
     "output_type": "execute_result"
    }
   ],
   "source": [
    "x"
   ]
  },
  {
   "cell_type": "code",
   "execution_count": 33,
   "id": "6e380aca",
   "metadata": {},
   "outputs": [],
   "source": [
    "\"\"\"\n",
    "For döngüsüyle Gezinmek\n",
    "Kümeler de tıpkı sözlükler gibi sırasız bir veri tipidir. Bunu for döngüsüyle görebiliriz.\n",
    "\"\"\"\n",
    "x = {\"Python\",\"Php\",\"Java\",\"C\",\"Javascript\"}"
   ]
  },
  {
   "cell_type": "code",
   "execution_count": 34,
   "id": "61b57e50",
   "metadata": {},
   "outputs": [
    {
     "name": "stdout",
     "output_type": "stream",
     "text": [
      "Javascript\n",
      "C\n",
      "Php\n",
      "Python\n",
      "Java\n"
     ]
    }
   ],
   "source": [
    "for i in x:\n",
    "    print(i) "
   ]
  },
  {
   "cell_type": "code",
   "execution_count": 35,
   "id": "aae167e3",
   "metadata": {},
   "outputs": [
    {
     "ename": "TypeError",
     "evalue": "'set' object is not subscriptable",
     "output_type": "error",
     "traceback": [
      "\u001b[0;31m---------------------------------------------------------------------------\u001b[0m",
      "\u001b[0;31mTypeError\u001b[0m                                 Traceback (most recent call last)",
      "\u001b[0;32m/tmp/ipykernel_25935/1513058069.py\u001b[0m in \u001b[0;36m<module>\u001b[0;34m\u001b[0m\n\u001b[1;32m      1\u001b[0m \u001b[0;31m#indekslenemezler\u001b[0m\u001b[0;34m\u001b[0m\u001b[0;34m\u001b[0m\u001b[0m\n\u001b[0;32m----> 2\u001b[0;31m \u001b[0mx\u001b[0m\u001b[0;34m[\u001b[0m\u001b[0;36m0\u001b[0m\u001b[0;34m]\u001b[0m\u001b[0;34m\u001b[0m\u001b[0;34m\u001b[0m\u001b[0m\n\u001b[0m",
      "\u001b[0;31mTypeError\u001b[0m: 'set' object is not subscriptable"
     ]
    }
   ],
   "source": [
    "#indekslenemezler\n",
    "x[0]"
   ]
  },
  {
   "cell_type": "code",
   "execution_count": 36,
   "id": "2147fe25",
   "metadata": {},
   "outputs": [],
   "source": [
    "\"\"\"\n",
    "Python Set add() Method\n",
    "içine girdiğimiz değeri kümeye ekler varsa ekleme olmaz\n",
    "\"\"\"\n",
    "x = {1,2,3}"
   ]
  },
  {
   "cell_type": "code",
   "execution_count": 37,
   "id": "665180d8",
   "metadata": {},
   "outputs": [],
   "source": [
    "x.add(4)"
   ]
  },
  {
   "cell_type": "code",
   "execution_count": 38,
   "id": "35529589",
   "metadata": {},
   "outputs": [
    {
     "data": {
      "text/plain": [
       "{1, 2, 3, 4}"
      ]
     },
     "execution_count": 38,
     "metadata": {},
     "output_type": "execute_result"
    }
   ],
   "source": [
    "x"
   ]
  },
  {
   "cell_type": "code",
   "execution_count": 40,
   "id": "44d116c6",
   "metadata": {},
   "outputs": [],
   "source": [
    "x.add(3)"
   ]
  },
  {
   "cell_type": "code",
   "execution_count": 41,
   "id": "134636c3",
   "metadata": {},
   "outputs": [
    {
     "data": {
      "text/plain": [
       "{1, 2, 3, 4}"
      ]
     },
     "execution_count": 41,
     "metadata": {},
     "output_type": "execute_result"
    }
   ],
   "source": [
    "x"
   ]
  },
  {
   "cell_type": "code",
   "execution_count": 43,
   "id": "08fc960f",
   "metadata": {},
   "outputs": [
    {
     "name": "stdout",
     "output_type": "stream",
     "text": [
      "set()\n"
     ]
    }
   ],
   "source": [
    "\"\"\"\n",
    "Python Set clear() Yöntemi\n",
    "Tanım ve Kullanım\n",
    "Yöntem clear(), bir kümedeki tüm öğeleri kaldırır.\n",
    "\"\"\"\n",
    "fruits = {\"apple\", \"banana\", \"cherry\"}\n",
    "\n",
    "fruits.clear()\n",
    "\n",
    "print(fruits)"
   ]
  },
  {
   "cell_type": "code",
   "execution_count": 44,
   "id": "83404a62",
   "metadata": {},
   "outputs": [
    {
     "name": "stdout",
     "output_type": "stream",
     "text": [
      "{'banana', 'apple', 'cherry'}\n"
     ]
    }
   ],
   "source": [
    "\"\"\"\n",
    "Python Set copy() Yöntem\n",
    "\n",
    "\"\"\"\n",
    "fruits = {\"apple\", \"banana\", \"cherry\"}\n",
    "\n",
    "x = fruits.copy()\n",
    "\n",
    "print(x)"
   ]
  },
  {
   "cell_type": "code",
   "execution_count": 45,
   "id": "1c63c879",
   "metadata": {},
   "outputs": [
    {
     "name": "stdout",
     "output_type": "stream",
     "text": [
      "{'banana', 'cherry'}\n"
     ]
    }
   ],
   "source": [
    "\"\"\"\n",
    "Python Set difference() Method\n",
    "\"\"\"\n",
    "x = {\"apple\", \"banana\", \"cherry\"}\n",
    "y = {\"google\", \"microsoft\", \"apple\"}\n",
    "\n",
    "z = x.difference(y)\n",
    "\n",
    "print(z)"
   ]
  },
  {
   "cell_type": "code",
   "execution_count": 46,
   "id": "90640c9a",
   "metadata": {},
   "outputs": [
    {
     "name": "stdout",
     "output_type": "stream",
     "text": [
      "{'google', 'microsoft'}\n"
     ]
    }
   ],
   "source": [
    "x = {\"apple\", \"banana\", \"cherry\"}\n",
    "y = {\"google\", \"microsoft\", \"apple\"}\n",
    "\n",
    "z = y.difference(x)\n",
    "\n",
    "print(z)"
   ]
  },
  {
   "cell_type": "code",
   "execution_count": 47,
   "id": "48a53bf2",
   "metadata": {},
   "outputs": [
    {
     "name": "stdout",
     "output_type": "stream",
     "text": [
      "{'banana', 'cherry'}\n"
     ]
    }
   ],
   "source": [
    "\"\"\"\n",
    "difference_update() Yöntemi\n",
    "Tanım ve Kullanım\n",
    "Yöntem difference_update(), her iki kümede de bulunan öğeleri kaldırır.\n",
    "\n",
    "Yöntem yöntemden difference_update()farklıdır difference(), çünkü difference() yöntem \n",
    "istenmeyen öğeler olmadan yeni bir küme döndürür ve istenmeyen öğeleri orijinal kümeden\n",
    "kaldırır .difference_update()\n",
    "\"\"\"\n",
    "x = {\"apple\", \"banana\", \"cherry\"}\n",
    "y = {\"google\", \"microsoft\", \"apple\"}\n",
    "\n",
    "x.difference_update(y)\n",
    "\n",
    "print(x)"
   ]
  },
  {
   "cell_type": "code",
   "execution_count": 50,
   "id": "05d1bb5d",
   "metadata": {},
   "outputs": [
    {
     "name": "stdout",
     "output_type": "stream",
     "text": [
      "{'apple', 'cherry'}\n"
     ]
    }
   ],
   "source": [
    "\"\"\"\n",
    "Python Set discard() Method\n",
    "\"\"\"\n",
    "fruits = {\"apple\", \"banana\", \"cherry\"}\n",
    "\n",
    "fruits.discard(\"banana\")\n",
    "\n",
    "print(fruits)"
   ]
  },
  {
   "cell_type": "code",
   "execution_count": 51,
   "id": "b58733e4",
   "metadata": {},
   "outputs": [
    {
     "name": "stdout",
     "output_type": "stream",
     "text": [
      "{'apple'}\n"
     ]
    }
   ],
   "source": [
    "\"\"\"\n",
    "Python Set intersection() Method\n",
    "kavşak() yöntemi, iki veya daha fazla küme arasındaki benzerliği içeren bir küme döndürür.\n",
    "Anlamı: Döndürülen küme, yalnızca her iki kümede veya karşılaştırma ikiden fazla kümeyle\n",
    "yapılırsa tüm kümelerde bulunan öğeleri içerir.\n",
    "\"\"\"\n",
    "x = {\"apple\", \"banana\", \"cherry\"}\n",
    "y = {\"google\", \"microsoft\", \"apple\"}\n",
    "\n",
    "z = x.intersection(y)\n",
    "\n",
    "print(z)"
   ]
  },
  {
   "cell_type": "code",
   "execution_count": 52,
   "id": "d660205c",
   "metadata": {},
   "outputs": [
    {
     "name": "stdout",
     "output_type": "stream",
     "text": [
      "{'apple'}\n"
     ]
    }
   ],
   "source": [
    "x = {\"apple\", \"banana\", \"cherry\"}\n",
    "y = {\"google\", \"microsoft\", \"apple\"}\n",
    "\n",
    "z = y.intersection(x)\n",
    "\n",
    "print(z)"
   ]
  },
  {
   "cell_type": "code",
   "execution_count": 53,
   "id": "04db01b6",
   "metadata": {},
   "outputs": [
    {
     "name": "stdout",
     "output_type": "stream",
     "text": [
      "{'c'}\n"
     ]
    }
   ],
   "source": [
    "x = {\"a\", \"b\", \"c\"}\n",
    "y = {\"c\", \"d\", \"e\"}\n",
    "z = {\"f\", \"g\", \"c\"}\n",
    "\n",
    "result = x.intersection(y, z)\n",
    "\n",
    "print(result)"
   ]
  },
  {
   "cell_type": "code",
   "execution_count": 54,
   "id": "39efcef7",
   "metadata": {},
   "outputs": [
    {
     "name": "stdout",
     "output_type": "stream",
     "text": [
      "set()\n"
     ]
    }
   ],
   "source": [
    "x = {\"banana\", \"cherry\"}\n",
    "y = {\"google\", \"microsoft\"}\n",
    "\n",
    "z = y.intersection(x)\n",
    "\n",
    "print(z)"
   ]
  },
  {
   "cell_type": "code",
   "execution_count": 55,
   "id": "a5deb0ff",
   "metadata": {},
   "outputs": [
    {
     "name": "stdout",
     "output_type": "stream",
     "text": [
      "{'apple'}\n"
     ]
    }
   ],
   "source": [
    "\"\"\"\n",
    "Python Set intersection_update() Method\n",
    "\"\"\"\n",
    "x = {\"apple\", \"banana\", \"cherry\"}\n",
    "y = {\"google\", \"microsoft\", \"apple\"}\n",
    "\n",
    "x.intersection_update(y)\n",
    "\n",
    "print(x)"
   ]
  },
  {
   "cell_type": "code",
   "execution_count": 56,
   "id": "80f09ffd",
   "metadata": {},
   "outputs": [
    {
     "name": "stdout",
     "output_type": "stream",
     "text": [
      "{'c'}\n"
     ]
    }
   ],
   "source": [
    "x = {\"a\", \"b\", \"c\"}\n",
    "y = {\"c\", \"d\", \"e\"}\n",
    "z = {\"f\", \"g\", \"c\"}\n",
    "\n",
    "x.intersection_update(y, z)\n",
    "\n",
    "print(x)"
   ]
  },
  {
   "cell_type": "code",
   "execution_count": 57,
   "id": "de9c88fd",
   "metadata": {},
   "outputs": [
    {
     "name": "stdout",
     "output_type": "stream",
     "text": [
      "True\n"
     ]
    }
   ],
   "source": [
    "\"\"\"\n",
    "Python Set isdisjoint() Method\n",
    "isdisjoint() yöntemi, öğelerin hiçbiri her iki kümede de yoksa True döndürür, aksi takdirde False döndürür.\n",
    "\"\"\"\n",
    "x = {\"apple\", \"banana\", \"cherry\"}\n",
    "y = {\"google\", \"microsoft\", \"facebook\"}\n",
    "\n",
    "z = x.isdisjoint(y)\n",
    "\n",
    "print(z)"
   ]
  },
  {
   "cell_type": "code",
   "execution_count": 58,
   "id": "3dc7b4b8",
   "metadata": {},
   "outputs": [
    {
     "name": "stdout",
     "output_type": "stream",
     "text": [
      "False\n"
     ]
    }
   ],
   "source": [
    "x = {\"apple\", \"banana\", \"cherry\"}\n",
    "y = {\"google\", \"microsoft\", \"apple\"}\n",
    "\n",
    "z = x.isdisjoint(y)\n",
    "\n",
    "print(z)"
   ]
  },
  {
   "cell_type": "code",
   "execution_count": 59,
   "id": "18bfe3d1",
   "metadata": {},
   "outputs": [
    {
     "name": "stdout",
     "output_type": "stream",
     "text": [
      "False\n"
     ]
    }
   ],
   "source": [
    "\"\"\"\n",
    "Python Set issubset() Method\n",
    "alt küme mi kontrol edebilirsin\n",
    "issubset() yöntemi, kümedeki tüm öğeler belirtilen kümede varsa True döndürür, aksi takdirde False döndürür.\n",
    "\"\"\"\n",
    "x = {\"a\", \"b\", \"c\"}\n",
    "y = {\"f\", \"e\", \"d\", \"c\", \"b\"}\n",
    "\n",
    "z = x.issubset(y)\n",
    "\n",
    "print(z)"
   ]
  },
  {
   "cell_type": "code",
   "execution_count": 60,
   "id": "694a1caa",
   "metadata": {},
   "outputs": [
    {
     "name": "stdout",
     "output_type": "stream",
     "text": [
      "True\n"
     ]
    }
   ],
   "source": [
    "x = {\"a\", \"b\", \"c\"}\n",
    "y = {\"f\", \"e\", \"d\", \"c\", \"b\",\"a\"}\n",
    "\n",
    "z = x.issubset(y)\n",
    "\n",
    "print(z)"
   ]
  },
  {
   "cell_type": "code",
   "execution_count": 61,
   "id": "1c1cd35b",
   "metadata": {},
   "outputs": [
    {
     "name": "stdout",
     "output_type": "stream",
     "text": [
      "True\n"
     ]
    }
   ],
   "source": [
    "\"\"\"\n",
    "Python Set issuperset() Yöntem\n",
    "Yöntem issuperset(), belirtilen kümedeki tüm öğeler orijinal \n",
    "kümede varsa True döndürür, aksi takdirde False döndürür.\n",
    "\"\"\"\n",
    "x = {\"f\", \"e\", \"d\", \"c\", \"b\", \"a\"}\n",
    "y = {\"a\", \"b\", \"c\"}\n",
    "\n",
    "z = x.issuperset(y)\n",
    "\n",
    "print(z)"
   ]
  },
  {
   "cell_type": "code",
   "execution_count": 62,
   "id": "9ec59105",
   "metadata": {},
   "outputs": [
    {
     "name": "stdout",
     "output_type": "stream",
     "text": [
      "False\n"
     ]
    }
   ],
   "source": [
    "x = {\"f\", \"e\", \"d\", \"c\", \"b\"}\n",
    "y = {\"a\", \"b\", \"c\"}\n",
    "\n",
    "z = x.issuperset(y)\n",
    "\n",
    "print(z)"
   ]
  },
  {
   "cell_type": "code",
   "execution_count": 64,
   "id": "aa3022e6",
   "metadata": {},
   "outputs": [
    {
     "name": "stdout",
     "output_type": "stream",
     "text": [
      "{'apple', 'cherry'}\n"
     ]
    }
   ],
   "source": [
    "\"\"\"\n",
    "Python Set pop() Method\n",
    "Yöntem pop(), kümeden rastgele bir öğeyi kaldırır.\n",
    "\n",
    "Bu yöntem, kaldırılan öğeyi döndürür.\n",
    "\"\"\"\n",
    "fruits = {\"apple\", \"banana\", \"cherry\"}\n",
    "\n",
    "fruits.pop()\n",
    "\n",
    "print(fruits)"
   ]
  },
  {
   "cell_type": "code",
   "execution_count": 65,
   "id": "8b4bcc97",
   "metadata": {},
   "outputs": [
    {
     "ename": "TypeError",
     "evalue": "set.pop() takes no arguments (1 given)",
     "output_type": "error",
     "traceback": [
      "\u001b[0;31m---------------------------------------------------------------------------\u001b[0m",
      "\u001b[0;31mTypeError\u001b[0m                                 Traceback (most recent call last)",
      "\u001b[0;32m/tmp/ipykernel_25935/2118094656.py\u001b[0m in \u001b[0;36m<module>\u001b[0;34m\u001b[0m\n\u001b[1;32m      1\u001b[0m \u001b[0mfruits\u001b[0m \u001b[0;34m=\u001b[0m \u001b[0;34m{\u001b[0m\u001b[0;34m\"apple\"\u001b[0m\u001b[0;34m,\u001b[0m \u001b[0;34m\"banana\"\u001b[0m\u001b[0;34m,\u001b[0m \u001b[0;34m\"cherry\"\u001b[0m\u001b[0;34m}\u001b[0m\u001b[0;34m\u001b[0m\u001b[0;34m\u001b[0m\u001b[0m\n\u001b[1;32m      2\u001b[0m \u001b[0;34m\u001b[0m\u001b[0m\n\u001b[0;32m----> 3\u001b[0;31m \u001b[0mfruits\u001b[0m\u001b[0;34m.\u001b[0m\u001b[0mpop\u001b[0m\u001b[0;34m(\u001b[0m\u001b[0;36m1\u001b[0m\u001b[0;34m)\u001b[0m\u001b[0;34m\u001b[0m\u001b[0;34m\u001b[0m\u001b[0m\n\u001b[0m\u001b[1;32m      4\u001b[0m \u001b[0;34m\u001b[0m\u001b[0m\n\u001b[1;32m      5\u001b[0m \u001b[0mprint\u001b[0m\u001b[0;34m(\u001b[0m\u001b[0mfruits\u001b[0m\u001b[0;34m)\u001b[0m\u001b[0;34m\u001b[0m\u001b[0;34m\u001b[0m\u001b[0m\n",
      "\u001b[0;31mTypeError\u001b[0m: set.pop() takes no arguments (1 given)"
     ]
    }
   ],
   "source": [
    "fruits = {\"apple\", \"banana\", \"cherry\"}\n",
    "\n",
    "fruits.pop(1)\n",
    "\n",
    "print(fruits)"
   ]
  },
  {
   "cell_type": "code",
   "execution_count": 66,
   "id": "50d8fe0d",
   "metadata": {},
   "outputs": [
    {
     "name": "stdout",
     "output_type": "stream",
     "text": [
      "{'apple', 'cherry'}\n"
     ]
    }
   ],
   "source": [
    "\"\"\"\n",
    "Python Set remove() Method\n",
    "Tanım ve Kullanım remove() yöntemi, belirtilen öğeyi kümeden kaldırır. \n",
    "Bu yöntem, throw() yönteminden farklıdır, çünkü belirtilen öğe mevcut değilse\n",
    "remove() yöntemi bir hataya neden olur ve throw() yöntemi de olmaz.\n",
    "\"\"\"\n",
    "fruits = {\"apple\", \"banana\", \"cherry\"}\n",
    "\n",
    "fruits.remove(\"banana\")\n",
    "\n",
    "print(fruits)"
   ]
  },
  {
   "cell_type": "code",
   "execution_count": 67,
   "id": "f2b26eb1",
   "metadata": {},
   "outputs": [
    {
     "ename": "KeyError",
     "evalue": "'banana'",
     "output_type": "error",
     "traceback": [
      "\u001b[0;31m---------------------------------------------------------------------------\u001b[0m",
      "\u001b[0;31mKeyError\u001b[0m                                  Traceback (most recent call last)",
      "\u001b[0;32m/tmp/ipykernel_25935/1859921746.py\u001b[0m in \u001b[0;36m<module>\u001b[0;34m\u001b[0m\n\u001b[0;32m----> 1\u001b[0;31m \u001b[0mfruits\u001b[0m\u001b[0;34m.\u001b[0m\u001b[0mremove\u001b[0m\u001b[0;34m(\u001b[0m\u001b[0;34m\"banana\"\u001b[0m\u001b[0;34m)\u001b[0m\u001b[0;34m\u001b[0m\u001b[0;34m\u001b[0m\u001b[0m\n\u001b[0m\u001b[1;32m      2\u001b[0m \u001b[0;34m\u001b[0m\u001b[0m\n\u001b[1;32m      3\u001b[0m \u001b[0mprint\u001b[0m\u001b[0;34m(\u001b[0m\u001b[0mfruits\u001b[0m\u001b[0;34m)\u001b[0m\u001b[0;34m\u001b[0m\u001b[0;34m\u001b[0m\u001b[0m\n",
      "\u001b[0;31mKeyError\u001b[0m: 'banana'"
     ]
    }
   ],
   "source": [
    "fruits.remove(\"banana\")\n",
    "\n",
    "print(fruits)"
   ]
  },
  {
   "cell_type": "code",
   "execution_count": 69,
   "id": "0b03b0ad",
   "metadata": {},
   "outputs": [
    {
     "name": "stdout",
     "output_type": "stream",
     "text": [
      "{'microsoft', 'banana', 'google', 'cherry'}\n"
     ]
    }
   ],
   "source": [
    "\"\"\"\n",
    "Python Set symmetric_difference() Yöntemi\n",
    "Yöntem symmetric_difference(), her iki kümedeki tüm öğeleri içeren, ancak her \n",
    "iki kümede bulunan öğeleri içermeyen bir küme döndürür.\n",
    "\n",
    "Anlamı: Döndürülen küme, her iki kümede de bulunmayan öğelerin bir karışımını içerir.\n",
    "\n",
    "\n",
    "\"\"\"\n",
    "x = {\"apple\", \"banana\", \"cherry\"}\n",
    "y = {\"google\", \"microsoft\", \"apple\"}\n",
    "\n",
    "z = x.symmetric_difference(y)\n",
    "\n",
    "print(z)"
   ]
  },
  {
   "cell_type": "code",
   "execution_count": 70,
   "id": "63dde6dd",
   "metadata": {},
   "outputs": [
    {
     "name": "stdout",
     "output_type": "stream",
     "text": [
      "{'microsoft', 'banana', 'google', 'cherry'}\n"
     ]
    }
   ],
   "source": [
    "\"\"\"\n",
    "symmetric_difference_update()\n",
    "Yöntem symmetric_difference_update(), her iki kümede bulunan öğeleri kaldırarak ve diğer öğeleri ekleyerek\n",
    "orijinal kümeyi günceller.\n",
    "\"\"\"\n",
    "x = {\"apple\", \"banana\", \"cherry\"}\n",
    "y = {\"google\", \"microsoft\", \"apple\"}\n",
    "\n",
    "x.symmetric_difference_update(y)\n",
    "\n",
    "print(x)"
   ]
  },
  {
   "cell_type": "code",
   "execution_count": 71,
   "id": "26b35f8e",
   "metadata": {},
   "outputs": [
    {
     "name": "stdout",
     "output_type": "stream",
     "text": [
      "{'apple', 'microsoft', 'banana', 'google', 'cherry'}\n"
     ]
    }
   ],
   "source": [
    "\"\"\"\n",
    "union()\n",
    "Tanım ve Kullanım\n",
    "Yöntem union(), orijinal kümedeki tüm öğeleri ve belirtilen küme(ler)deki tüm öğeleri içeren bir küme döndürür.\n",
    "\n",
    "Virgülle ayırarak istediğiniz kadar set belirleyebilirsiniz.\n",
    "\n",
    "Bir küme olması gerekmez, yinelenebilir herhangi bir nesne olabilir.\n",
    "\n",
    "Bir öğe birden fazla sette mevcutsa sonuç, bu öğenin yalnızca bir görünümünü içerecektir.\n",
    "\"\"\"\n",
    "x = {\"apple\", \"banana\", \"cherry\"}\n",
    "y = {\"google\", \"microsoft\", \"apple\"}\n",
    "\n",
    "z = x.union(y)\n",
    "\n",
    "print(z)"
   ]
  },
  {
   "cell_type": "code",
   "execution_count": 72,
   "id": "1137a8c9",
   "metadata": {},
   "outputs": [
    {
     "name": "stdout",
     "output_type": "stream",
     "text": [
      "{'c', 'b', 'd', 'e', 'f', 'a'}\n"
     ]
    }
   ],
   "source": [
    "x = {\"a\", \"b\", \"c\"}\n",
    "y = {\"f\", \"d\", \"a\"}\n",
    "z = {\"c\", \"d\", \"e\"}\n",
    "\n",
    "result = x.union(y, z)\n",
    "\n",
    "print(result)"
   ]
  },
  {
   "cell_type": "code",
   "execution_count": 73,
   "id": "1fd8150c",
   "metadata": {},
   "outputs": [
    {
     "name": "stdout",
     "output_type": "stream",
     "text": [
      "{'apple', 'microsoft', 'banana', 'google', 'cherry'}\n"
     ]
    }
   ],
   "source": [
    "\"\"\"\n",
    "update()\n",
    "Tanım ve Kullanım\n",
    "Yöntem update(), başka bir kümeden (veya yinelenebilir herhangi bir başka kümeden) öğeler\n",
    "ekleyerek mevcut kümeyi günceller.\n",
    "\n",
    "Her iki sette de bir öğe varsa, güncellenen sette bu öğenin yalnızca bir görünümü olacaktır.\n",
    "\"\"\"\n",
    "x = {\"apple\", \"banana\", \"cherry\"}\n",
    "y = {\"google\", \"microsoft\", \"apple\"}\n",
    "\n",
    "x.update(y)\n",
    "\n",
    "print(x)"
   ]
  },
  {
   "cell_type": "code",
   "execution_count": null,
   "id": "b80fa86a",
   "metadata": {},
   "outputs": [],
   "source": []
  }
 ],
 "metadata": {
  "kernelspec": {
   "display_name": "Python 3",
   "language": "python",
   "name": "python3"
  },
  "language_info": {
   "codemirror_mode": {
    "name": "ipython",
    "version": 3
   },
   "file_extension": ".py",
   "mimetype": "text/x-python",
   "name": "python",
   "nbconvert_exporter": "python",
   "pygments_lexer": "ipython3",
   "version": "3.12.7"
  }
 },
 "nbformat": 4,
 "nbformat_minor": 5
}
