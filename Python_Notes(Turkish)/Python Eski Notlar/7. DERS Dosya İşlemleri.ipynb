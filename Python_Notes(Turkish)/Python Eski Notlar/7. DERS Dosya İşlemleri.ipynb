{
 "cells": [
  {
   "cell_type": "code",
   "execution_count": 1,
   "id": "a46326a6",
   "metadata": {},
   "outputs": [
    {
     "data": {
      "text/plain": [
       "<_io.TextIOWrapper name='bilgiler.txt' mode='w' encoding='UTF-8'>"
      ]
     },
     "execution_count": 1,
     "metadata": {},
     "output_type": "execute_result"
    }
   ],
   "source": [
    "\"\"\"\n",
    "Dosya Açma ve Yazma İşlemleri\n",
    "Bu konuyla beraber dosya üzerinde işlemler yapmaya başlayacağız.\n",
    "\n",
    "Dosya Açmak\n",
    "Bir dosyayı açmak için open() fonksiyonunu kullanıyoruz. Yapısı şu şekildedir;\n",
    "\n",
    "                open(dosya_adı,dosya_erişme_kipi)\n",
    "Dosya adını istediğimiz isimde verebiliriz. Dosya erişme kipi ise bizim dosya üzerindeki işlemlerimizi belirler.\n",
    "Bunları dersler boyunca yavaş yavaş göreceğiz.\n",
    "\n",
    "\"w\" dosya kipi\n",
    "Dosyalarımızı açmak ve dosyalarımıza yazmak için \"write\" anlamına gelen \"w\" kipini kullanıyoruz. \"w\" kipi eğer \n",
    "oluşturmak istediğimiz dizinde öyle bir dosya yoksa dosyayı oluşturuyor , eğer öyle bir dosya varsa dosyayı \n",
    "silip tekrar oluşturuyor. Yani, eğer açmak istediğimiz dosyadan zaten varsa ve dosyanın içi doluysa \"w\" kipi\n",
    "dosyadaki bilgileri silip tekrar oluşturacaktır. (Biraz Tehlikeli)\n",
    "\"\"\"\n",
    "open(\"bilgiler.txt\",\"w\") # Dosyayı bulunduğumuz dizinde açıyor. "
   ]
  },
  {
   "cell_type": "code",
   "execution_count": 2,
   "id": "31080d47",
   "metadata": {},
   "outputs": [],
   "source": [
    "file = open(\"bilgiler.txt\",\"w\") # Dosya üzerinde işlem yapacak dosya imlecini file isimli değişkene atıyoruz."
   ]
  },
  {
   "cell_type": "code",
   "execution_count": 3,
   "id": "ad2be386",
   "metadata": {},
   "outputs": [],
   "source": [
    "\"\"\"\n",
    "Dosyaları Kapatmak\n",
    "Bir dosya üzerinde işlem yaptığımızda o dosyayı kapatmak sistem kaynaklarının gereksiz kullanılmaması\n",
    "açısından önemlidir. Çünkü programımız bitse bile dosyanın kapanacağı garanti değildir.\n",
    "Bu yüzden işlerimiz bittiği zaman dosyayı kapatmalıyız.\n",
    "\"\"\"\n",
    "file.close()  # Dosyayı kapatmak"
   ]
  },
  {
   "cell_type": "code",
   "execution_count": 37,
   "id": "bee68cec",
   "metadata": {},
   "outputs": [],
   "source": [
    "\"\"\"\n",
    "Eğer bir dosyayı bulunduğumuz dizinde değil de başka bir dizinde açmak istersek, dizinin yolunu özellikle \n",
    "belirtmeliyiz.\n",
    "\n",
    "(Windows işletim sistemi kullanıyorum. Başka işletim sistemleri için yapamazsanız bana ulaşabilirsiniz :) )\n",
    "\"\"\"\n",
    "file = open(\"/home/devrm1283/Masaüstü/Python/dosya yazma işlemleri/bigiler.txt\",\"w\") "
   ]
  },
  {
   "cell_type": "code",
   "execution_count": 11,
   "id": "72cf8b2c",
   "metadata": {},
   "outputs": [],
   "source": [
    "file.close() # Unutmayalım."
   ]
  },
  {
   "cell_type": "code",
   "execution_count": 12,
   "id": "0a6fb4ff",
   "metadata": {},
   "outputs": [],
   "source": [
    "\"\"\"\n",
    "\"w\" Kipiyle Dosyalara Yazmak\n",
    "İlk olarak dosyayı \"w\" kipiyle açıyoruz.\n",
    "\"\"\"\n",
    "file = open(\"bilgiler.txt\",\"w\",encoding=\"utf-8\") # Türkçe karakter kullanacaksak encoding=\"utf-8\" parametresini veriyoruz."
   ]
  },
  {
   "cell_type": "code",
   "execution_count": 13,
   "id": "c4ef86c8",
   "metadata": {},
   "outputs": [
    {
     "data": {
      "text/plain": [
       "20"
      ]
     },
     "execution_count": 13,
     "metadata": {},
     "output_type": "execute_result"
    }
   ],
   "source": [
    "file.write(\"Mustafa Murat Coşkun\") # write fonksiyonu ile dosyamıza yazıyoruz. 20 bytelık yani 20 karakter yazıldı."
   ]
  },
  {
   "cell_type": "code",
   "execution_count": 14,
   "id": "2db31f13",
   "metadata": {},
   "outputs": [],
   "source": [
    "file.close()"
   ]
  },
  {
   "cell_type": "code",
   "execution_count": 15,
   "id": "4afc0b48",
   "metadata": {},
   "outputs": [],
   "source": [
    "file = open(\"bilgiler.txt\",\"w\",encoding=\"utf-8\")\n",
    "file.close()"
   ]
  },
  {
   "cell_type": "code",
   "execution_count": 16,
   "id": "6d415444",
   "metadata": {},
   "outputs": [],
   "source": [
    "\"\"\"\n",
    "Gördüğümüz gibi write fonksiyonuyla dosyamıza herhangi bir şey yazabiliyoruz. \n",
    "Ancak \"w\" kipi her seferinde dosyayı tekrar oluşturduğu için dosyayı tekrar açtığımızda bilgiler kaybolacaktır.\n",
    "\n",
    "\"a\" Kipiyle Dosyalara Yazmak\n",
    "\"append\" (ekleme) kelimesinin kısaltması olan \"a\" kipiyle bir dosyayı açtığımızda , \n",
    "dosya eğer yoksa oluşturulur. Eğer öyle bir dosya mevcut ise, dosya tekrar oluşturulmaz \n",
    "ve dosya imleci dosyanın sonuna giderek dosyaya ekleme yapmamızı sağlar.\n",
    "\"\"\"\n",
    "file = open(\"bilgiler.txt\",\"a\",encoding=\"utf-8\")"
   ]
  },
  {
   "cell_type": "code",
   "execution_count": 17,
   "id": "48df2710",
   "metadata": {},
   "outputs": [
    {
     "data": {
      "text/plain": [
       "20"
      ]
     },
     "execution_count": 17,
     "metadata": {},
     "output_type": "execute_result"
    }
   ],
   "source": [
    "file.write(\"Mustafa Murat Coşkun\") "
   ]
  },
  {
   "cell_type": "code",
   "execution_count": 18,
   "id": "4ddd4101",
   "metadata": {},
   "outputs": [],
   "source": [
    "file.close()"
   ]
  },
  {
   "cell_type": "code",
   "execution_count": 19,
   "id": "90212da1",
   "metadata": {},
   "outputs": [],
   "source": [
    "file = open(\"bilgiler.txt\",\"a\",encoding=\"utf-8\")"
   ]
  },
  {
   "cell_type": "code",
   "execution_count": 20,
   "id": "df70c79d",
   "metadata": {},
   "outputs": [
    {
     "data": {
      "text/plain": [
       "13"
      ]
     },
     "execution_count": 20,
     "metadata": {},
     "output_type": "execute_result"
    }
   ],
   "source": [
    "file.write(\"Mehmet Gençol\") # Dosyanın sonuna ekleme yaptık."
   ]
  },
  {
   "cell_type": "code",
   "execution_count": 21,
   "id": "50205a72",
   "metadata": {},
   "outputs": [],
   "source": [
    "file.close()"
   ]
  },
  {
   "cell_type": "code",
   "execution_count": 22,
   "id": "8b0453f7",
   "metadata": {},
   "outputs": [],
   "source": [
    "file = open(\"bilgiler.txt\",\"a\",encoding=\"utf-8\")"
   ]
  },
  {
   "cell_type": "code",
   "execution_count": 23,
   "id": "58363238",
   "metadata": {},
   "outputs": [
    {
     "data": {
      "text/plain": [
       "21"
      ]
     },
     "execution_count": 23,
     "metadata": {},
     "output_type": "execute_result"
    }
   ],
   "source": [
    "file.write(\"Mustafa Murat Coşkun\\n\")"
   ]
  },
  {
   "cell_type": "code",
   "execution_count": 24,
   "id": "f12d73de",
   "metadata": {},
   "outputs": [
    {
     "data": {
      "text/plain": [
       "14"
      ]
     },
     "execution_count": 24,
     "metadata": {},
     "output_type": "execute_result"
    }
   ],
   "source": [
    "file.write(\"Mehmet Gençol\\n\")"
   ]
  },
  {
   "cell_type": "code",
   "execution_count": 25,
   "id": "bd18cb72",
   "metadata": {},
   "outputs": [],
   "source": [
    "file.close()"
   ]
  },
  {
   "cell_type": "code",
   "execution_count": 31,
   "id": "cacaf239",
   "metadata": {},
   "outputs": [],
   "source": [
    "\"\"\"\n",
    "Dosya Okuma İşlemleri\n",
    "Bu derste dosya okuma işlemlerini görmeye çalışacağız.\n",
    "\n",
    "Dosyaları okumak ve verileri almak için \"r\" kipiyle açmamız gerekiyor. \"r\" kipiyle açtığımız dosya eğer\n",
    "bulunmuyorsa \"FileNotFoundError\" hatası dönecektir. Şimdi bulunduğumuz dizinde bulunan \"bilgiler.txt\" \n",
    "dosyasını açalım.\n",
    "\n",
    "bir dosya yok . O yüzden FileNotFoundError hatası döndü.\n",
    "\"\"\"\n",
    "file = open(\"bilgiler.txt\",\"r\", encoding=\"utf-8\")"
   ]
  },
  {
   "cell_type": "code",
   "execution_count": 32,
   "id": "fbbd9432",
   "metadata": {},
   "outputs": [],
   "source": [
    "file.close()"
   ]
  },
  {
   "cell_type": "code",
   "execution_count": 33,
   "id": "85ec6677",
   "metadata": {},
   "outputs": [
    {
     "name": "stdout",
     "output_type": "stream",
     "text": [
      "Mustafa Murat CoşkunMehmet GençolMustafa Murat Coşkun\n",
      "\n",
      "Mehmet Gençol\n",
      "\n"
     ]
    }
   ],
   "source": [
    "file = open(\"bilgiler.txt\",\"r\",encoding= \"utf-8\") # Dosyayı okuma kipiyle açıyoruz. Türkçe karaktere dikkat.\n",
    "\n",
    "for i in file: # Tıpkı listeler gibi dosyanın her bir satırı üzerinde geziniyoruz.\n",
    "    print(i) # Her bir satırı ekrana basıyoruz.\n",
    "file.close()"
   ]
  },
  {
   "cell_type": "code",
   "execution_count": 34,
   "id": "7425f2c4",
   "metadata": {},
   "outputs": [
    {
     "name": "stdout",
     "output_type": "stream",
     "text": [
      "Mustafa Murat CoşkunMehmet GençolMustafa Murat Coşkun\n",
      "Mehmet Gençol\n"
     ]
    }
   ],
   "source": [
    "\"\"\"\n",
    "Burada her bir satırımız boşluklu yazıldı. Bunun nedeni, hem her satır sonunda \"\\n\" karakterinin olması\n",
    "hem de print fonksiyonun bir alt satıra geçmek için boşluk bırakmasıdır. Bunu önlemek için varsayılan\n",
    "değer olarak \"\\n\" karakteri alan end parametresine kendimiz değer verebiliriz.\n",
    "\"\"\"\n",
    "file = open(\"bilgiler.txt\",\"r\",encoding= \"utf-8\") # Dosyayı okuma kipiyle açıyoruz. Türkçe karaktere dikkat.\n",
    "\n",
    "for i in file: # Tıpkı listeler gibi dosyanın her bir satırı üzerinde geziniyoruz.\n",
    "    print(i,end = \"\") # Her bir satırı ekrana basıyoruz. end parametresi \\n yerine boşluk alacak.\n",
    "file.close()"
   ]
  },
  {
   "cell_type": "code",
   "execution_count": 38,
   "id": "42aac317",
   "metadata": {},
   "outputs": [
    {
     "name": "stdout",
     "output_type": "stream",
     "text": [
      "Dosya İçeriği:\n",
      "Mustafa Murat CoşkunMehmet GençolMustafa Murat Coşkun\n",
      "Mehmet Gençol\n",
      "\n"
     ]
    }
   ],
   "source": [
    "\"\"\"\n",
    "read() fonksiyonu\n",
    "read() fonksiyonu eğer içine hiçbir değer vermezsek bütün dosyamızı okuyacaktır.\n",
    "\n",
    "read() fonksiyonuna değer vererek belli bir kısmı okumayı bir sonraki dersimizde görmeye \n",
    "çalışsak daha doğru olur.\n",
    "\"\"\"\n",
    "file = open(\"bilgiler.txt\",\"r\",encoding=\"utf-8\")\n",
    "\n",
    "icerik = file.read() \n",
    "\n",
    "print(\"Dosya İçeriği:\\n\",icerik,sep =\"\")\n",
    "\n",
    "file.close()"
   ]
  },
  {
   "cell_type": "code",
   "execution_count": 40,
   "id": "1daa9ca9",
   "metadata": {},
   "outputs": [
    {
     "name": "stdout",
     "output_type": "stream",
     "text": [
      "Dosya İçeriği:\n",
      "Mustafa Murat CoşkunMehmet GençolMustafa Murat Coşkun\n",
      "Mehmet Gençol\n",
      "\n"
     ]
    }
   ],
   "source": [
    "file = open(\"bilgiler.txt\",\"r\",encoding=\"utf-8\")\n",
    "\n",
    "icerik = file.read() \n",
    "\n",
    "print(\"Dosya İçeriği:\\n\",icerik,sep=\"\")\n",
    "\n",
    "file.close()"
   ]
  },
  {
   "cell_type": "code",
   "execution_count": 41,
   "id": "6af0a24c",
   "metadata": {},
   "outputs": [
    {
     "name": "stdout",
     "output_type": "stream",
     "text": [
      "Dosya İçeriği:\n",
      "Mustafa Murat CoşkunMehmet GençolMustafa Murat Coşkun\n",
      "Mehmet Gençol\n",
      "\n"
     ]
    }
   ],
   "source": [
    "\"\"\"\n",
    "read() fonksiyonuyla bir dosyayı okuduğumuzda dosya imlecimiz dosyanın en sonuna gider \n",
    "ve read() fonksiyonu 2. okuma da artık boş string döner.\n",
    "\"\"\"\n",
    "file = open(\"bilgiler.txt\",\"r\",encoding=\"utf-8\")\n",
    "\n",
    "icerik = file.read() \n",
    "\n",
    "print(\"Dosya İçeriği:\\n\",icerik,sep=\"\")\n",
    "\n",
    "file.close()"
   ]
  },
  {
   "cell_type": "code",
   "execution_count": 43,
   "id": "35aaf815",
   "metadata": {},
   "outputs": [
    {
     "name": "stdout",
     "output_type": "stream",
     "text": [
      "Dosya İçeriği:\n",
      "Mustafa Murat CoşkunMehmet GençolMustafa Murat Coşkun\n",
      "Mehmet Gençol\n",
      "\n",
      "Dosya İçeriği:\n",
      "Mustafa Murat CoşkunMehmet GençolMustafa Murat Coşkun\n",
      "Mehmet Gençol\n",
      "\n"
     ]
    }
   ],
   "source": [
    "file = open(\"bilgiler.txt\",\"r\",encoding=\"utf-8\")\n",
    "\n",
    "icerik = file.read() \n",
    "\n",
    "print(\"Dosya İçeriği:\\n\",icerik,sep=\"\")\n",
    "print(\"Dosya İçeriği:\\n\",icerik,sep=\"\")\n",
    "file.close()"
   ]
  },
  {
   "cell_type": "code",
   "execution_count": 44,
   "id": "3ddaa36e",
   "metadata": {},
   "outputs": [],
   "source": [
    "\"\"\"\n",
    "readline() fonksiyonu\n",
    "readline() fonksiyonu her çağrıldığında dosyanın sadece bir satırını okur.\n",
    "Her seferinde dosya imlecimiz (file) bir satır atlayarak devam eder.\n",
    "\"\"\"\n",
    "file = open(\"bilgiler.txt\",\"r\",encoding=\"utf-8\")"
   ]
  },
  {
   "cell_type": "code",
   "execution_count": 45,
   "id": "16824924",
   "metadata": {},
   "outputs": [
    {
     "name": "stdout",
     "output_type": "stream",
     "text": [
      "Mustafa Murat CoşkunMehmet GençolMustafa Murat Coşkun\n",
      "\n"
     ]
    }
   ],
   "source": [
    "print(file.readline())"
   ]
  },
  {
   "cell_type": "code",
   "execution_count": 46,
   "id": "27b75626",
   "metadata": {},
   "outputs": [
    {
     "name": "stdout",
     "output_type": "stream",
     "text": [
      "Mehmet Gençol\n",
      "\n"
     ]
    }
   ],
   "source": [
    "print(file.readline())"
   ]
  },
  {
   "cell_type": "code",
   "execution_count": 47,
   "id": "774058a5",
   "metadata": {},
   "outputs": [
    {
     "name": "stdout",
     "output_type": "stream",
     "text": [
      "\n"
     ]
    }
   ],
   "source": [
    "print(file.readline()) # Okuyacak herhangi bir şey kalmayınca readline fonksiyonu boş string döner."
   ]
  },
  {
   "cell_type": "code",
   "execution_count": 48,
   "id": "7b14f53f",
   "metadata": {},
   "outputs": [],
   "source": [
    "file.close()"
   ]
  },
  {
   "cell_type": "code",
   "execution_count": 50,
   "id": "f31ba4c7",
   "metadata": {},
   "outputs": [],
   "source": [
    "\"\"\"\"\n",
    "readlines() fonksiyonu\n",
    "readlines() fonksiyonu dosyanın bütün satırları bir liste şeklinde döner.\n",
    "\"\"\"\n",
    "file = open(\"bilgiler.txt\",\"r\",encoding=\"utf-8\")"
   ]
  },
  {
   "cell_type": "code",
   "execution_count": 51,
   "id": "8a0a1ca4",
   "metadata": {},
   "outputs": [
    {
     "data": {
      "text/plain": [
       "['Mustafa Murat CoşkunMehmet GençolMustafa Murat Coşkun\\n', 'Mehmet Gençol\\n']"
      ]
     },
     "execution_count": 51,
     "metadata": {},
     "output_type": "execute_result"
    }
   ],
   "source": [
    "file.readlines()"
   ]
  },
  {
   "cell_type": "code",
   "execution_count": 52,
   "id": "5c5f6acd",
   "metadata": {},
   "outputs": [],
   "source": [
    "file.close()"
   ]
  },
  {
   "cell_type": "code",
   "execution_count": 4,
   "id": "21d2fd7a",
   "metadata": {},
   "outputs": [
    {
     "name": "stdout",
     "output_type": "stream",
     "text": [
      "\u0000\u0000\u0000\u0000\u0000\u0000\u0000\u0000\u0000\u0000Deneme\n"
     ]
    }
   ],
   "source": [
    "\"\"\"\n",
    "Dosyalarda Kullanılan Fonksiyonlar\n",
    "Bu derste dosya okuma işlemlerine devam edeceğiz ve dosyalarda kullanılan metodları öğrenmeye çalışacağız.\n",
    "\n",
    "Dosyaları Otomatik Kapatma\n",
    "Dosyalarda işlemlerimiz bittiği zaman dosyamızı kapatmamız gerektiğini biliyoruz. Ancak programlamacılık doğası\n",
    "gereği çoğu zaman dosyaları kapatmayı unutabiliriz. Bunun için Pythonda dosyalarda işimiz bitince otomatik \n",
    "kapatma özelliği bulunuyor. Bundan sonra Pythonda dosya işlemlerimizi şu blok içinde yapacağız.\n",
    "\n",
    "                with open(dosya_adı,dosya_kipi) as file:\n",
    "                    Dosya işlemleri\n",
    "Örneğimize bakalım.\n",
    "Dosyamızı bu şekilde açarsak işimiz bittiğinde otomatik kapanacaktır.\n",
    "\"\"\"\n",
    "with open(\"bilgiler.txt\",\"r+\",encoding = \"utf-8\") as file:\n",
    "    print(file.read())"
   ]
  },
  {
   "cell_type": "code",
   "execution_count": null,
   "id": "a70da326",
   "metadata": {},
   "outputs": [],
   "source": [
    "\"\"\"\n",
    "Dosyaları İleri Geri Sarmak\n",
    "Biliyorsunuz önceki dersimizde dosyaları okurken sadece dosyanın en başından başlayabiliyorduk \n",
    "ve dosya imlecimiz okuma işleminin sonunda , dosyanın en sonuna gidiyordu. Ancak biz çoğu zaman \n",
    "dosya imlecini (file) dosyanın herhangi bir yerine götürmek isteyebiliriz. Bunun için Pythondaki\n",
    "seek() fonksiyonunu kullanacağız. Ancak ondan önce dosya imlecinin hangi byteda olduğunu söyleyen \n",
    "tell() fonksiyonuna bakalım.\n",
    "\"\"\""
   ]
  },
  {
   "cell_type": "code",
   "execution_count": 5,
   "id": "bfa26a89",
   "metadata": {},
   "outputs": [
    {
     "name": "stdout",
     "output_type": "stream",
     "text": [
      "0\n"
     ]
    }
   ],
   "source": [
    "with open(\"bilgiler.txt\",\"r\",encoding = \"utf-8\") as file:\n",
    "    print(file.tell())"
   ]
  },
  {
   "cell_type": "code",
   "execution_count": 6,
   "id": "0ab563be",
   "metadata": {},
   "outputs": [
    {
     "name": "stdout",
     "output_type": "stream",
     "text": [
      "20\n"
     ]
    }
   ],
   "source": [
    "\"\"\"\n",
    "Şu anda hiçbir işlem yapmadığımız için tell() fonksiyonu dosyanın en başında \n",
    "(0. byteda) olduğumuzu söyledi. Peki bir dosya imlecini dosyanın 20.byte'ına \n",
    "götürmek için ne yapacağız ? Bunun için de seek() fonksiyonunu kullanacağız.\n",
    "\"\"\"\n",
    "with open(\"bilgiler.txt\",\"r\",encoding = \"utf-8\") as file:\n",
    "    file.seek(20) # 20.byte götürdük.\n",
    "    print(file.tell()) "
   ]
  },
  {
   "cell_type": "code",
   "execution_count": 8,
   "id": "9ffb5c66",
   "metadata": {},
   "outputs": [
    {
     "name": "stdout",
     "output_type": "stream",
     "text": [
      "fe Mete ot\n",
      "15\n"
     ]
    }
   ],
   "source": [
    "\"\"\"\n",
    "Peki biz bir dosyanın belirli bir byte'ına(karakter) gidip sadece belli sayıda karakteri \n",
    "nasıl okuyacağız ? Eğer biz read() fonksiyonuna bir sayı değeri verirsek sadece o sayı değeri\n",
    "kadar alanı okuyacaktır. Hemen görelim.\n",
    "\"\"\"\n",
    "with open(\"bilgiler.txt\",\"r\",encoding = \"utf-8\") as file:\n",
    "    file.seek(5) # 5.byte gidiyoruz.\n",
    "    icerik = file.read(10)  # 10 karakteri okuyoruz.\n",
    "    print(icerik)\n",
    "    print(file.tell())"
   ]
  },
  {
   "cell_type": "code",
   "execution_count": 9,
   "id": "d60237bb",
   "metadata": {},
   "outputs": [
    {
     "name": "stdout",
     "output_type": "stream",
     "text": [
      "fe Mete ot\n",
      "ALi Ef\n"
     ]
    }
   ],
   "source": [
    "with open(\"bilgiler.txt\",\"r\",encoding = \"utf-8\") as file:\n",
    "    file.seek(5) # 5.byte gidiyoruz.\n",
    "    icerik = file.read(10)  # 10 karakteri okuyoruz.\n",
    "    print(icerik)\n",
    "    file.seek(0)\n",
    "    icerik2 = file.read(6)\n",
    "    print(icerik2)"
   ]
  },
  {
   "cell_type": "code",
   "execution_count": 11,
   "id": "ab7d433f",
   "metadata": {},
   "outputs": [],
   "source": [
    "with open(\"bilgiler.txt\",\"a\",encoding = \"utf-8\") as file:\n",
    "    file.seek(10)\n",
    "    file.write(\"EFE METE\")"
   ]
  },
  {
   "cell_type": "code",
   "execution_count": 14,
   "id": "d9a1630d",
   "metadata": {},
   "outputs": [
    {
     "name": "stdout",
     "output_type": "stream",
     "text": [
      "ALi Efe Mete ot için vermişti bir ev parası\n",
      "EFE METE"
     ]
    }
   ],
   "source": [
    "with open(\"bilgiler.txt\",\"r\",encoding = \"utf-8\") as file:\n",
    "    for i in file:\n",
    "        print(i,end=\"\")\n",
    "#olmadı"
   ]
  },
  {
   "cell_type": "code",
   "execution_count": 40,
   "id": "cf04ce79",
   "metadata": {},
   "outputs": [],
   "source": [
    "with open(\"bilgiler.txt\",\"r+\",encoding = \"utf-8\") as file:\n",
    "    file.seek(0)\n",
    "    file.write(\"DEDİM ONA EĞİL GÜZEL BÖYLE Mİ GEÇER BU GECELER\")"
   ]
  },
  {
   "cell_type": "code",
   "execution_count": 41,
   "id": "bf148fec",
   "metadata": {},
   "outputs": [
    {
     "name": "stdout",
     "output_type": "stream",
     "text": [
      "DEDİM ONA EĞİL GÜZEL BÖYLE Mİ GEÇER BU GECELER"
     ]
    }
   ],
   "source": [
    "with open(\"bilgiler.txt\",\"r+\",encoding=\"utf-8\") as file:\n",
    "    print(file.read(),end=\"\")"
   ]
  },
  {
   "cell_type": "code",
   "execution_count": 53,
   "id": "48e24e1c",
   "metadata": {},
   "outputs": [],
   "source": [
    "\"\"\"\n",
    "Dosyanın Sonunda Değişiklik Yapmak\n",
    "Bu işlemlerin en kolayıyla başlayalım. Dosyaların sonunda değişiklik yapmak için, dosyamızı \n",
    "\"a\" kipiyle açalım ve sadece dosyanın sonuna write() ile ekleme yapalım.\n",
    "\"\"\"\n",
    "with open(\"bilgiler.txt\",\"a\",encoding = \"utf-8\") as file:\n",
    "    file.write(\" Mert Erarslan\") # \"append\" metoduyla açılan bir dosyanın imleci direk dosyanın sonunda olduğu için sadece write"
   ]
  },
  {
   "cell_type": "code",
   "execution_count": 54,
   "id": "c9073395",
   "metadata": {},
   "outputs": [
    {
     "name": "stdout",
     "output_type": "stream",
     "text": [
      "DEDİM ONA EĞİL GÜZEL BÖYLE Mİ GEÇER BU GECELERMert Erarslan\n",
      "Mert Erarslan\n",
      " Mert Erarslan\n",
      " Mert Erarslan\n",
      " Mert Erarslan Mert Erarslan"
     ]
    }
   ],
   "source": [
    "with open(\"bilgiler.txt\",\"r\",encoding = \"utf-8\") as file:\n",
    "    print(file.read(),end=\"\")"
   ]
  },
  {
   "cell_type": "code",
   "execution_count": 55,
   "id": "0d92615d",
   "metadata": {},
   "outputs": [
    {
     "name": "stdout",
     "output_type": "stream",
     "text": [
      "DEDİM ONA EĞİL GÜZEL BÖYLE Mİ GEÇER BU GECELERMert Erarslan\n",
      "Mert Erarslan\n",
      " Mert Erarslan\n",
      " Mert Erarslan\n",
      " Mert Erarslan Mert Erarslan\n"
     ]
    }
   ],
   "source": [
    "\"\"\"\n",
    "Dosyanın Başında Değişiklik Yapmak\n",
    "\"bilgiler.txt\" dosyamızın başına bir tane satır eklemek için ne yapabiliriz ? \n",
    "Bunun için dosyamızı bütünüyle string halinde alıp daha sonra satırımızı string'in\n",
    "başına eklememiz gerekiyor. Daha sonra dosyanın en başına seek() fonksiyonuyla giderek \n",
    ",direk write() fonksiyonunu kullanabiliriz. Hemen yapalım.\n",
    "\"\"\"\n",
    "with open(\"bilgiler.txt\",\"r+\",encoding = \"utf-8\") as file:\n",
    "    icerik = file.read()\n",
    "    print(icerik)\n",
    "    "
   ]
  },
  {
   "cell_type": "code",
   "execution_count": 56,
   "id": "91ec9233",
   "metadata": {},
   "outputs": [],
   "source": [
    "with open(\"bilgiler.txt\",\"r+\",encoding = \"utf-8\") as file:\n",
    "    icerik = file.read()\n",
    "    \n",
    "    icerik = \"Semih Aktaş\\n\" + icerik\n",
    "    file.seek(0)\n",
    "    file.write(icerik)"
   ]
  },
  {
   "cell_type": "code",
   "execution_count": 57,
   "id": "632a7fc2",
   "metadata": {},
   "outputs": [
    {
     "name": "stdout",
     "output_type": "stream",
     "text": [
      "Semih Aktaş\n",
      "DEDİM ONA EĞİL GÜZEL BÖYLE Mİ GEÇER BU GECELERMert Erarslan\n",
      "Mert Erarslan\n",
      " Mert Erarslan\n",
      " Mert Erarslan\n",
      " Mert Erarslan Mert Erarslan\n"
     ]
    }
   ],
   "source": [
    "with open(\"bilgiler.txt\",\"r+\",encoding = \"utf-8\") as file:\n",
    "    icerik = file.read()\n",
    "    print(icerik)"
   ]
  },
  {
   "cell_type": "code",
   "execution_count": 58,
   "id": "02d192d9",
   "metadata": {},
   "outputs": [
    {
     "name": "stdout",
     "output_type": "stream",
     "text": [
      "['Semih Aktaş\\n', 'DEDİM ONA EĞİL GÜZEL BÖYLE Mİ GEÇER BU GECELERMert Erarslan\\n', 'Mert Erarslan\\n', ' Mert Erarslan\\n', ' Mert Erarslan\\n', ' Mert Erarslan Mert Erarslan']\n"
     ]
    }
   ],
   "source": [
    "\"\"\"\n",
    "Dosyanın Ortasında Değişiklik Yapmak\n",
    "Dosyaların ortasına herhangi bir satır eklemek için ilk olarak her bir satırı liste\n",
    "halinde almamızı sağlayan readlines() fonksiyonunu kullanacağız. Daha sonra bu listenin \n",
    "herhangi bir yerine bir eleman ekleyerek bu listeyi for döngüsü ile dosyaya yazacağız.\n",
    "\"\"\"\n",
    "with open(\"bilgiler.txt\",\"r+\",encoding = \"utf-8\") as file:\n",
    "    print(file.readlines())"
   ]
  },
  {
   "cell_type": "code",
   "execution_count": 59,
   "id": "76d422ef",
   "metadata": {},
   "outputs": [],
   "source": [
    "with open(\"bilgiler.txt\",\"r+\",encoding = \"utf-8\") as file:\n",
    "    liste = file.readlines()\n",
    "    liste.insert(3,\"Mehmet Keper\\n\")\n",
    "    file.seek(0)\n",
    "    for satır in liste:\n",
    "        file.write(satır)"
   ]
  },
  {
   "cell_type": "code",
   "execution_count": 60,
   "id": "04d5ebe7",
   "metadata": {},
   "outputs": [
    {
     "name": "stdout",
     "output_type": "stream",
     "text": [
      "Semih Aktaş\n",
      "DEDİM ONA EĞİL GÜZEL BÖYLE Mİ GEÇER BU GECELERMert Erarslan\n",
      "Mert Erarslan\n",
      "Mehmet Keper\n",
      " Mert Erarslan\n",
      " Mert Erarslan\n",
      " Mert Erarslan Mert Erarslan\n"
     ]
    }
   ],
   "source": [
    "with open(\"bilgiler.txt\",\"r+\",encoding = \"utf-8\") as file:\n",
    "    icerik = file.read()\n",
    "    print(icerik)"
   ]
  },
  {
   "cell_type": "code",
   "execution_count": 61,
   "id": "acd46d2a",
   "metadata": {},
   "outputs": [],
   "source": [
    "\"\"\"\n",
    "Pythonda bir dosyaya listenin içindeki değerleri yazmak için for döngüsü \n",
    "dışında pratik bir fonksiyon bulunuyor. writelines fonksiyonu içine verdiğimiz listeyi dosyaya yazacaktır.\n",
    "\"\"\"\n",
    "with open(\"bilgiler.txt\",\"r+\",encoding = \"utf-8\") as file:\n",
    "    liste = file.readlines()\n",
    "    liste.insert(3,\"Ahmet Baltacı\\n\")\n",
    "    file.seek(0)\n",
    "    file.writelines(liste)"
   ]
  },
  {
   "cell_type": "code",
   "execution_count": 62,
   "id": "8e1545c4",
   "metadata": {},
   "outputs": [
    {
     "name": "stdout",
     "output_type": "stream",
     "text": [
      "Semih Aktaş\n",
      "DEDİM ONA EĞİL GÜZEL BÖYLE Mİ GEÇER BU GECELERMert Erarslan\n",
      "Mert Erarslan\n",
      "Ahmet Baltacı\n",
      "Mehmet Keper\n",
      " Mert Erarslan\n",
      " Mert Erarslan\n",
      " Mert Erarslan Mert Erarslan\n"
     ]
    }
   ],
   "source": [
    "with open(\"bilgiler.txt\",\"r+\",encoding = \"utf-8\") as file:\n",
    "    icerik = file.read()\n",
    "    print(icerik)"
   ]
  },
  {
   "cell_type": "code",
   "execution_count": null,
   "id": "3ef8339f",
   "metadata": {},
   "outputs": [],
   "source": []
  },
  {
   "cell_type": "code",
   "execution_count": null,
   "id": "89c5f70d",
   "metadata": {},
   "outputs": [],
   "source": []
  },
  {
   "cell_type": "code",
   "execution_count": null,
   "id": "1adc638c",
   "metadata": {},
   "outputs": [],
   "source": []
  },
  {
   "cell_type": "code",
   "execution_count": null,
   "id": "185cba6b",
   "metadata": {},
   "outputs": [],
   "source": []
  }
 ],
 "metadata": {
  "kernelspec": {
   "display_name": "Python 3 (ipykernel)",
   "language": "python",
   "name": "python3"
  },
  "language_info": {
   "codemirror_mode": {
    "name": "ipython",
    "version": 3
   },
   "file_extension": ".py",
   "mimetype": "text/x-python",
   "name": "python",
   "nbconvert_exporter": "python",
   "pygments_lexer": "ipython3",
   "version": "3.10.7"
  }
 },
 "nbformat": 4,
 "nbformat_minor": 5
}
