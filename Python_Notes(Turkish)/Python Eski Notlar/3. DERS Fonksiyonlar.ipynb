{
 "cells": [
  {
   "cell_type": "code",
   "execution_count": 2,
   "id": "bcf9a1af",
   "metadata": {},
   "outputs": [],
   "source": [
    "\"\"\"\n",
    "Metodlar\n",
    "Şimdiye kadar Pythonda ve programlamada temel birçok şey öğrendik ve artık Pythondaki ve programlamadaki \n",
    "en önemli bölüme geldik. Fonksiyonlar bölümünde gerçek hayattan benzetmeler yaparak fonksiyon kullanma \n",
    "mantığını anlamaya çalışacağız. İlk olarak Metod nedir anlamaya çalışalım.\n",
    "\n",
    "Metod nedir ?\n",
    "Şimdiye kadar Pythonda kullanabildiğimiz bir çok veri tipi gördük ve bazı veritipleri üzerinde bu veritiplerinin \n",
    "metodlarını kullandık. Aslında bu veritiplerin oluşturulan her bir değişken Pythonda obje( object) olarak\n",
    "düşünülür ve Python geliştiricileri bu objelere birçok metod tanımlamıştır. Peki nedir bu metodlar ?\n",
    "\n",
    "Metodlar bir obje üzerinde belli işlemleri gerçekleştiren objelere özgü fonksiyonlardır ve objelerin üzerinde\n",
    "metodlar şu şekilde kullanılır.\n",
    "\n",
    "---------------- obje.herhangi_bir_metod(değerler(opsiyonel)) -----------------------------------------------\n",
    "\n",
    "Örneğin bir liste objesi oluşturduğumuz zaman bu objenin üzerinde belli metodları uygulayabiliriz.\n",
    "\"\"\"\n",
    "liste =  [1,2,3,4,5,6]\n",
    "\n",
    "liste.insert(1,\"Murat\")"
   ]
  },
  {
   "cell_type": "code",
   "execution_count": 3,
   "id": "707b499b",
   "metadata": {},
   "outputs": [
    {
     "data": {
      "text/plain": [
       "[1, 'Murat', 2, 3, 4, 5, 6]"
      ]
     },
     "execution_count": 3,
     "metadata": {},
     "output_type": "execute_result"
    }
   ],
   "source": [
    "liste"
   ]
  },
  {
   "cell_type": "code",
   "execution_count": 4,
   "id": "c638cae3",
   "metadata": {},
   "outputs": [
    {
     "data": {
      "text/plain": [
       "6"
      ]
     },
     "execution_count": 4,
     "metadata": {},
     "output_type": "execute_result"
    }
   ],
   "source": [
    "liste.pop()"
   ]
  },
  {
   "cell_type": "code",
   "execution_count": 5,
   "id": "ef45e68f",
   "metadata": {},
   "outputs": [
    {
     "data": {
      "text/plain": [
       "[1, 'Murat', 2, 3, 4, 5]"
      ]
     },
     "execution_count": 5,
     "metadata": {},
     "output_type": "execute_result"
    }
   ],
   "source": [
    "liste"
   ]
  },
  {
   "cell_type": "code",
   "execution_count": 6,
   "id": "a81d4c69",
   "metadata": {},
   "outputs": [
    {
     "name": "stdout",
     "output_type": "stream",
     "text": [
      "Help on built-in function insert:\n",
      "\n",
      "insert(index, object, /) method of builtins.list instance\n",
      "    Insert object before index.\n",
      "\n"
     ]
    }
   ],
   "source": [
    "help(liste.insert)"
   ]
  },
  {
   "cell_type": "code",
   "execution_count": 7,
   "id": "b0a36a16",
   "metadata": {},
   "outputs": [],
   "source": [
    "\"\"\"\n",
    "Fonksiyonlar\n",
    "Bu derste fonksiyonların ne olduğunu , bir fonksiyonun nasıl tanımlanacağını ve nasıl kullanılacağını\n",
    "öğrenmeye çalışacağız.\n",
    "\n",
    "Fonksiyonlar programlamada belli işlevleri olan ve tekrar tekrar kullandığımız yapılardır. Örneğin \n",
    "kursumuzun başlarından beri kullandığımız print() fonksiyonunun görevi içine gönderdiğimiz değerleri\n",
    "ekrana yazdırdırmaktır. Bu fonksiyon Python geliştiricileri tarafından bir defa yazılmış ve biz de bu \n",
    "fonksiyonu programlarımızın değişik yerlerinde tekrar tekrar kullanıyoruz. İşte fonksiyonların kullanım \n",
    "amacı tam olarak budur. Fonksiyonlar bir defa tanımlanır ve programlarda ihtiyacımız olduğu zaman kullanırız. \n",
    "Ayrıca fonksiyonlar kod tekrarını engeller ve kodlarımız daha derli toplu durur.\n",
    "\n",
    "İsterseniz şimdi de fonksiyonların ne olduğunu gerçek hayattan benzetme yaparak anlamaya çalışalım. Örneğin\n",
    "evimize bir adet katı meyve sıkacağı alıyoruz ve canımız ne zaman meyve suyu isterse bu aleti kullanıyoruz.\n",
    "Yani aslında bu aletin görevi ve fonksiyonu meyve suyu hazırlamaktır.\n",
    "\n",
    "Python geliştiricilerin yazdığı fonksiyonlara yani bizim hazır kullandığımız fonksiyonlara(print(),type() vs.)\n",
    "gömülü fonksiyonlar(built-in function) denilmektedir.Ancak bunlardan hariç olarak biz kendi özel\n",
    "fonksiyonlarımızı(user-defined functions) da tanımlayabiliriz.\n",
    "\n",
    "Peki biz kendi fonksiyonlarımızı nasıl tanımlayacağız ? İsterseniz şimdi yavaştan fonksiyonların nasıl \n",
    "tanımlanacağını öğrenelim.\n",
    "\n",
    "Fonksiyonların Tanımlanması\n",
    "Fonksiyon tanımlamanın yapısı şu şekildedir;\n",
    "\n",
    "        def fonksiyon_adı(parametre1,parametre2..... (opsiyonel)):\n",
    "            # Fonksiyon bloğu\n",
    "            Yapılacak işlemler\n",
    "            # dönüş değeri - Opsiyonel\n",
    "            \n",
    "İsterseniz şimdi bir tane \"selamla\" isimli bir fonksiyon tanımlayalım.\n",
    "\"\"\"\n",
    "def selamla(): \n",
    "    print(\"Selam arkadaşlar...\")\n",
    "    print(\"Nasılsınız?\")"
   ]
  },
  {
   "cell_type": "code",
   "execution_count": 8,
   "id": "898d608f",
   "metadata": {},
   "outputs": [
    {
     "data": {
      "text/plain": [
       "function"
      ]
     },
     "execution_count": 8,
     "metadata": {},
     "output_type": "execute_result"
    }
   ],
   "source": [
    "type(selamla) # Fonksiyonumuz tanımlandı."
   ]
  },
  {
   "cell_type": "code",
   "execution_count": 9,
   "id": "1766b1d3",
   "metadata": {},
   "outputs": [
    {
     "data": {
      "text/plain": [
       "function"
      ]
     },
     "execution_count": 9,
     "metadata": {},
     "output_type": "execute_result"
    }
   ],
   "source": [
    "\"\"\"\n",
    "Fonksiyonumuzu tanımladık ve Python bunu bir fonksiyon olarak algıladı ? Ancak tıpkı katı\n",
    "meyve sıkacağını alıp kullanmazsak hiçbir işe yaramadığı için , bu fonksiyonu da tanımlayıp\n",
    "kullanmazsak hiçbir işe yaramayacaktır. O halde şimdi de fonksiyonların kullanılmasını öğrenelim.\n",
    "\n",
    "Fonksiyonların Kullanılması veya Çağrılması (Function Call)\n",
    "Tanımlanan bir fonksiyonun kullanılmasına programlama dillerinde Fonksiyon Çağrısı denmektedir.\n",
    "O halde selamla fonksiyonumuzu nasıl çağıracağımızı öğrenelim. Fonksiyon çağrısı şu şekilde yapılabilmektedir;\n",
    "\n",
    "        fonksiyon_adı(Argüman1,Argüman2....)\n",
    "İsterseniz şimdi selamla fonksiyonumuzu çağıralım.\n",
    "\"\"\"\n",
    "type(selamla) # Tanımlı "
   ]
  },
  {
   "cell_type": "code",
   "execution_count": 10,
   "id": "41aa77f0",
   "metadata": {},
   "outputs": [
    {
     "name": "stdout",
     "output_type": "stream",
     "text": [
      "Selam arkadaşlar...\n",
      "Nasılsınız?\n"
     ]
    }
   ],
   "source": [
    "selamla() # Fonksiyon parametre almadığında içine argümanlarımızı göndermiyoruz."
   ]
  },
  {
   "cell_type": "code",
   "execution_count": 11,
   "id": "3a657f57",
   "metadata": {},
   "outputs": [
    {
     "name": "stdout",
     "output_type": "stream",
     "text": [
      "Selam arkadaşlar...\n",
      "Nasılsınız?\n",
      "Selam arkadaşlar...\n",
      "Nasılsınız?\n",
      "Selam arkadaşlar...\n",
      "Nasılsınız?\n",
      "Selam arkadaşlar...\n",
      "Nasılsınız?\n"
     ]
    }
   ],
   "source": [
    "\"\"\"\n",
    "Burada gördüğünüz gibi, fonksiyonumuz çağrıldığı zaman, kendi bloğundaki işleri yaptı ve ekrana 2 tane değer\n",
    "yazdırdı. Bu fonksiyonu istediğimiz yerde tekrar tekrar çağırabiliriz.\n",
    "\"\"\"\n",
    "selamla()\n",
    "selamla()\n",
    "selamla()\n",
    "selamla()"
   ]
  },
  {
   "cell_type": "code",
   "execution_count": 12,
   "id": "b7937908",
   "metadata": {},
   "outputs": [
    {
     "ename": "TypeError",
     "evalue": "selamla() takes 0 positional arguments but 1 was given",
     "output_type": "error",
     "traceback": [
      "\u001b[0;31m---------------------------------------------------------------------------\u001b[0m",
      "\u001b[0;31mTypeError\u001b[0m                                 Traceback (most recent call last)",
      "\u001b[0;32m/tmp/ipykernel_33012/2220004443.py\u001b[0m in \u001b[0;36m<module>\u001b[0;34m\u001b[0m\n\u001b[1;32m      3\u001b[0m \u001b[0mPeki\u001b[0m \u001b[0mfonksiyonumuzun\u001b[0m \u001b[0miçine\u001b[0m \u001b[0mbir\u001b[0m \u001b[0mtane\u001b[0m \u001b[0mdeğer\u001b[0m \u001b[0mverseydik\u001b[0m \u001b[0mne\u001b[0m \u001b[0molurdu\u001b[0m\u001b[0;31m \u001b[0m\u001b[0;31m?\u001b[0m\u001b[0;34m\u001b[0m\u001b[0;34m\u001b[0m\u001b[0m\n\u001b[1;32m      4\u001b[0m \"\"\"\n\u001b[0;32m----> 5\u001b[0;31m \u001b[0mselamla\u001b[0m\u001b[0;34m(\u001b[0m\u001b[0;34m\"python\"\u001b[0m\u001b[0;34m)\u001b[0m \u001b[0;31m# Hata verdi çünkü fonksiyonumuz hiçbir değer almıyor.\u001b[0m\u001b[0;34m\u001b[0m\u001b[0;34m\u001b[0m\u001b[0m\n\u001b[0m",
      "\u001b[0;31mTypeError\u001b[0m: selamla() takes 0 positional arguments but 1 was given"
     ]
    }
   ],
   "source": [
    "\"\"\"\n",
    "selamla fonksiyonumuzu 4 defa çağırdık ve fonksiyonumuz işlevini 4 defa yerine getirdi.\n",
    "Peki fonksiyonumuzun içine bir tane değer verseydik ne olurdu ?\n",
    "\"\"\"\n",
    "selamla(\"python\") # Hata verdi çünkü fonksiyonumuz hiçbir değer almıyor."
   ]
  },
  {
   "cell_type": "code",
   "execution_count": 13,
   "id": "59ac1858",
   "metadata": {},
   "outputs": [],
   "source": [
    "\"\"\"\n",
    "Parametreler ve Argümanlar\n",
    "Biliyorsunuz biz selamla fonksiyonunun içine herhangi bir değer göndermiyorduk ve fonksiyonumuz\n",
    "hep aynı işi yapıyordu. Ancak çoğu zaman fonksiyonlarımız içine gönderdiğimiz değerlerle farklı \n",
    "işlemler yaparlar. Örneğin katı meyve sıkacağına eğer \"Elma\" verirsek elma suyu, \"Nar\" verirsek nar\n",
    "suyu hazırlayacaktır. Fonksiyonlarda da Parametreleri bu şekilde düşünebilirsiniz. İsterseniz şimdi\n",
    "selamlama fonksiyonumuzu bir tane parametre alacak şekilde tanımlayalım.\n",
    "\"\"\"\n",
    "def selamla(isim): # isim değişkenimiz burada parametre olmaktadır\n",
    "    print(\"Merhaba:\",isim)\n"
   ]
  },
  {
   "cell_type": "code",
   "execution_count": 14,
   "id": "7ca46aa2",
   "metadata": {},
   "outputs": [
    {
     "name": "stdout",
     "output_type": "stream",
     "text": [
      "Merhaba: Kemal\n"
     ]
    }
   ],
   "source": [
    "selamla(\"Kemal\") # \"Kemal\" değeri burada  argüman olmaktadır."
   ]
  },
  {
   "cell_type": "code",
   "execution_count": 15,
   "id": "c8596989",
   "metadata": {},
   "outputs": [
    {
     "name": "stdout",
     "output_type": "stream",
     "text": [
      "Merhaba: Ayşe\n"
     ]
    }
   ],
   "source": [
    "selamla(\"Ayşe\") # \"Ayşe\" değeri burada  argüman olmaktadır. "
   ]
  },
  {
   "cell_type": "code",
   "execution_count": 16,
   "id": "306b5a73",
   "metadata": {},
   "outputs": [],
   "source": [
    "\"\"\"\n",
    "Bizim fonksiyon tanımlarken tanımladığımız herbir değişken birer Parametre , \n",
    "fonksiyon çağrısı yaptığımız zaman içine gönderdiğimiz değerler ise Argüman olmaktadır.\n",
    "Burada fonksiyonu çağırırken gönderdiğimiz \"Kemal\" değeri \"isim\" isimli parametreye eşit oluyor\n",
    "ve fonksiyonumuz bu değere göre işlem yapıyor. \"Ayşe\" değerini gönderdiğimizde ise fonksiyonumuz bu değere\n",
    "göre işlem yaparak ekrana farklı bir değer yazdırıyor. Şimdi isterseniz farklı bir fonksiyon tanımlayalım ve\n",
    "3 tane parametre alsın.\n",
    "\"\"\"\n",
    "# Toplama fonksiyonu\n",
    "def toplama(a,b,c):\n",
    "    print(\"Toplamları:\",a+b+c)\n"
   ]
  },
  {
   "cell_type": "code",
   "execution_count": 17,
   "id": "602c116e",
   "metadata": {},
   "outputs": [
    {
     "name": "stdout",
     "output_type": "stream",
     "text": [
      "Toplamları: 12\n"
     ]
    }
   ],
   "source": [
    "toplama(3,4,5)"
   ]
  },
  {
   "cell_type": "code",
   "execution_count": 18,
   "id": "59eac890",
   "metadata": {},
   "outputs": [],
   "source": [
    "\"\"\"\n",
    "Şimdi de örnek olması açısından bir sayının faktoriyelini hesaplayan bir fonksiyon yazalım.\n",
    "\n",
    "Eğer sayımız \"5\" ise faktoriyel 5 x 4 x 3 x 2 x 1 = 120 olacaktır\n",
    "\"\"\"\n",
    "def faktoriyel(sayı):\n",
    "    faktoriyel = 1\n",
    "    if (sayı == 0 or sayı == 1):\n",
    "        print(\"Faktoriyel\",faktoriyel)\n",
    "    else:\n",
    "        while (sayı >= 1):\n",
    "            faktoriyel *= sayı\n",
    "            sayı -=1\n",
    "        print(\"Faktoriyel\", faktoriyel)\n",
    "            \n",
    "    "
   ]
  },
  {
   "cell_type": "code",
   "execution_count": 19,
   "id": "380143f0",
   "metadata": {},
   "outputs": [
    {
     "name": "stdout",
     "output_type": "stream",
     "text": [
      "Faktoriyel 120\n"
     ]
    }
   ],
   "source": [
    "faktoriyel(5)"
   ]
  },
  {
   "cell_type": "code",
   "execution_count": 20,
   "id": "8982912a",
   "metadata": {},
   "outputs": [],
   "source": [
    "\"\"\"\n",
    "Fonksiyonlarda Return\n",
    "Bu konuda fonksiyonlardan değer döndürmemizi sağlayan return ifadesini görmeye çalışacağız.\n",
    "Önceki bölümde yazdığımız fonksiyonları hatırlayacak olursak, bu fonksiyonlar sadece ekrana \n",
    "print ile değer yazdırıyordu. Ancak bu fonksiyonlar yaptıklar işlemler bize herhangi bir değer \n",
    "vermiyorlardı. Ancak biz programlarımızda bir fonksiyon sonucunda elde edilen değerleri alıp \n",
    "programlarımızın bambaşka yerlerinde kullanmak isteyebiliriz. Bu derste bunu nasıl yapacağımızı \n",
    "öğrenmeye çalışacağız.\n",
    "\n",
    "return ifadesi fonksiyonun işlemi bittikten sonra çağrıldığı yere değer döndürmesi anlamı taşır. \n",
    "Böylelikle, fonksiyonda aldığımız değeri bir değişkende depolayabilir ve değeri programın başka \n",
    "yerlerinde kullanabiliriz. Şimdi iki tane çok basit fonksiyon yazalım ve return neden gereklidir \n",
    "anlamaya çalışalım.\n",
    "\"\"\"\n",
    "def toplama(a,b,c): # Birinci fonksiyon\n",
    "    print(\"Toplamları\",a+b+c)\n",
    "\n",
    "def ikiyleçarp(a): # İkinci fonksiyon\n",
    "    print(\"2 ile çarpılmış hali\", a * 2)\n",
    "    "
   ]
  },
  {
   "cell_type": "code",
   "execution_count": 21,
   "id": "4610668c",
   "metadata": {},
   "outputs": [
    {
     "name": "stdout",
     "output_type": "stream",
     "text": [
      "Toplamları 12\n"
     ]
    },
    {
     "ename": "TypeError",
     "evalue": "unsupported operand type(s) for *: 'NoneType' and 'int'",
     "output_type": "error",
     "traceback": [
      "\u001b[0;31m---------------------------------------------------------------------------\u001b[0m",
      "\u001b[0;31mTypeError\u001b[0m                                 Traceback (most recent call last)",
      "\u001b[0;32m/tmp/ipykernel_33012/658541131.py\u001b[0m in \u001b[0;36m<module>\u001b[0;34m\u001b[0m\n\u001b[1;32m      1\u001b[0m \u001b[0mtoplam\u001b[0m \u001b[0;34m=\u001b[0m \u001b[0mtoplama\u001b[0m\u001b[0;34m(\u001b[0m\u001b[0;36m3\u001b[0m\u001b[0;34m,\u001b[0m\u001b[0;36m4\u001b[0m\u001b[0;34m,\u001b[0m\u001b[0;36m5\u001b[0m\u001b[0;34m)\u001b[0m\u001b[0;34m\u001b[0m\u001b[0;34m\u001b[0m\u001b[0m\n\u001b[1;32m      2\u001b[0m \u001b[0;34m\u001b[0m\u001b[0m\n\u001b[0;32m----> 3\u001b[0;31m \u001b[0mikiyleçarp\u001b[0m\u001b[0;34m(\u001b[0m\u001b[0mtoplam\u001b[0m\u001b[0;34m)\u001b[0m\u001b[0;34m\u001b[0m\u001b[0;34m\u001b[0m\u001b[0m\n\u001b[0m",
      "\u001b[0;32m/tmp/ipykernel_33012/834157942.py\u001b[0m in \u001b[0;36mikiyleçarp\u001b[0;34m(a)\u001b[0m\n\u001b[1;32m     17\u001b[0m \u001b[0;34m\u001b[0m\u001b[0m\n\u001b[1;32m     18\u001b[0m \u001b[0;32mdef\u001b[0m \u001b[0mikiyleçarp\u001b[0m\u001b[0;34m(\u001b[0m\u001b[0ma\u001b[0m\u001b[0;34m)\u001b[0m\u001b[0;34m:\u001b[0m \u001b[0;31m# İkinci fonksiyon\u001b[0m\u001b[0;34m\u001b[0m\u001b[0;34m\u001b[0m\u001b[0m\n\u001b[0;32m---> 19\u001b[0;31m     \u001b[0mprint\u001b[0m\u001b[0;34m(\u001b[0m\u001b[0;34m\"2 ile çarpılmış hali\"\u001b[0m\u001b[0;34m,\u001b[0m \u001b[0ma\u001b[0m \u001b[0;34m*\u001b[0m \u001b[0;36m2\u001b[0m\u001b[0;34m)\u001b[0m\u001b[0;34m\u001b[0m\u001b[0;34m\u001b[0m\u001b[0m\n\u001b[0m\u001b[1;32m     20\u001b[0m \u001b[0;34m\u001b[0m\u001b[0m\n",
      "\u001b[0;31mTypeError\u001b[0m: unsupported operand type(s) for *: 'NoneType' and 'int'"
     ]
    }
   ],
   "source": [
    "toplam = toplama(3,4,5)\n",
    "\n",
    "ikiyleçarp(toplam)"
   ]
  },
  {
   "cell_type": "code",
   "execution_count": 22,
   "id": "246bfe4f",
   "metadata": {},
   "outputs": [
    {
     "data": {
      "text/plain": [
       "NoneType"
      ]
     },
     "execution_count": 22,
     "metadata": {},
     "output_type": "execute_result"
    }
   ],
   "source": [
    "type(toplam) "
   ]
  },
  {
   "cell_type": "code",
   "execution_count": 23,
   "id": "36f93a16",
   "metadata": {},
   "outputs": [],
   "source": [
    "\"\"\"\n",
    "Burada toplama fonksiyonundan herhangi bir değer döndürülmediği için toplam değişkenimiz hiçbir\n",
    "değere sahip olmadı ve tipi NoneType(atanmamış) olmuş oldu. İsterseniz burada fonksiyonları tekrardan\n",
    "tanımlayalım ve return mantığını anlamaya çalışalım.\n",
    "\"\"\"\n",
    "def toplama(a,b,c):\n",
    "    return a+b+c # return'un kullanımı \n",
    "def ikiyle_çarp(a):\n",
    "    return a*2\n"
   ]
  },
  {
   "cell_type": "code",
   "execution_count": 24,
   "id": "f5b9dc52",
   "metadata": {},
   "outputs": [
    {
     "name": "stdout",
     "output_type": "stream",
     "text": [
      "24\n"
     ]
    }
   ],
   "source": [
    "toplam = toplama(3,4,5)\n",
    "print(ikiyle_çarp(toplam))"
   ]
  },
  {
   "cell_type": "code",
   "execution_count": 25,
   "id": "8c684c52",
   "metadata": {},
   "outputs": [],
   "source": [
    "\"\"\"\n",
    "İşte return ifadesinin anlamı tam olarak budur. return yardımıyla fonksiyonlar değerleri çağrıldığı yere\n",
    "döndürebilir ve biz de bu değerleri istediğimiz yerde kullanabiliriz.\n",
    "\n",
    "Örneğin , siz yemek yapacaksınız ve yemek için soğanların kıyılması gerekiyor. Bunun için soğanları(değerleri),\n",
    "mutfak robotuna(fonksiyon) veriyorsunuz ve mutfak robotu kıyma işlemini gerçekleştiriyor. Ancak işlemlerini \n",
    "bitirdikten sonra mutfak robotu (ütopik bir örnek olsun) size soğanların kıyılmış halini \n",
    "vermiyor(return kullanmıyor). Sonuçta da siz bu kıyılmış soğanları alıp yemeğinizde kullanamıyorsunuz. \n",
    "Fonksiyonlarda da returnun anlamı budur. Şimdi bir tane daha örnek yapalım ve returnu iyice anlamaya çalışalım.\n",
    "\"\"\"\n",
    "def üçleçarp(a):\n",
    "    print(\"1.fonksiyon çalıştı\")\n",
    "    return a*3\n"
   ]
  },
  {
   "cell_type": "code",
   "execution_count": 26,
   "id": "6bb530a6",
   "metadata": {},
   "outputs": [],
   "source": [
    "def ikiyletopla(a):\n",
    "    print(\"2.fonksiyon çalıştı\")\n",
    "    return a + 2"
   ]
  },
  {
   "cell_type": "code",
   "execution_count": 27,
   "id": "b6c9b099",
   "metadata": {},
   "outputs": [],
   "source": [
    "def dördeböl(a):\n",
    "    print(\"3.fonksiyon çalıştı\")\n",
    "    return a / 4\n"
   ]
  },
  {
   "cell_type": "code",
   "execution_count": 28,
   "id": "553c8df6",
   "metadata": {},
   "outputs": [
    {
     "name": "stdout",
     "output_type": "stream",
     "text": [
      "1.fonksiyon çalıştı\n",
      "2.fonksiyon çalıştı\n",
      "3.fonksiyon çalıştı\n",
      "4.25\n"
     ]
    }
   ],
   "source": [
    "# 3 ünü beraber kullanalım.\n",
    "\n",
    "print(dördeböl(ikiyletopla(üçleçarp(5))))"
   ]
  },
  {
   "cell_type": "code",
   "execution_count": 29,
   "id": "9e5fefeb",
   "metadata": {},
   "outputs": [],
   "source": [
    "\"\"\"\n",
    "return ifadesinden sonra fonksiyonumuz tamamıyla sona erer.\n",
    "Yani, return ifadesinden sonra yapılan herhangi bir işlem çalıştırılmaz.\n",
    "\"\"\"\n",
    "def toplama(a,b,c):\n",
    "    return a + b + c\n",
    "    print(\"Toplama fonksiyonu\") # Çalıştırılmadı.\n",
    "\n",
    "    \n"
   ]
  },
  {
   "cell_type": "code",
   "execution_count": 30,
   "id": "f6a3a78e",
   "metadata": {},
   "outputs": [
    {
     "name": "stdout",
     "output_type": "stream",
     "text": [
      "6\n"
     ]
    }
   ],
   "source": [
    "print(toplama(1,2,3))"
   ]
  },
  {
   "cell_type": "code",
   "execution_count": 31,
   "id": "dd6d2e95",
   "metadata": {},
   "outputs": [],
   "source": [
    "def toplama(a,b,c):\n",
    "    print(\"Toplama fonksiyonu\") # Çalıştırıldı.\n",
    "    return a + b + c\n",
    "    "
   ]
  },
  {
   "cell_type": "code",
   "execution_count": 32,
   "id": "7b921e31",
   "metadata": {},
   "outputs": [
    {
     "name": "stdout",
     "output_type": "stream",
     "text": [
      "Toplama fonksiyonu\n"
     ]
    },
    {
     "data": {
      "text/plain": [
       "6"
      ]
     },
     "execution_count": 32,
     "metadata": {},
     "output_type": "execute_result"
    }
   ],
   "source": [
    "toplama(1,2,3)"
   ]
  },
  {
   "cell_type": "code",
   "execution_count": 33,
   "id": "6e45baca",
   "metadata": {},
   "outputs": [],
   "source": [
    "\"\"\"\n",
    "Fonksiyonlarda çağrıldığı yere herhangi bir değer döndürmeyen(return kullanılmayan)\n",
    "fonksiyonlara void fonksiyonlar denmektedir. Bunu da genel kültür olarak bilmekte fayda var.\n",
    "\n",
    "Fonksiyonlarda Parametre Türleri\n",
    "Bu derste fonksiyonlara parametre vermenin farklı yollarını öğrenmeye çalışacağız. İsterseniz hemen başlayalım.\n",
    "\n",
    "Parametrelerin Varsayılan Değerleri\n",
    "Biliyorsunuz önceki konularda şöyle bir fonksiyon tanımlamıştık.\n",
    "\"\"\"\n",
    "def selamla(isim):\n",
    "    print(\"Selam\",isim)\n",
    "    "
   ]
  },
  {
   "cell_type": "code",
   "execution_count": 34,
   "id": "9fb795f9",
   "metadata": {},
   "outputs": [
    {
     "name": "stdout",
     "output_type": "stream",
     "text": [
      "Selam Murat\n"
     ]
    }
   ],
   "source": [
    "selamla(\"Murat\")"
   ]
  },
  {
   "cell_type": "code",
   "execution_count": 35,
   "id": "adaad615",
   "metadata": {},
   "outputs": [
    {
     "name": "stdout",
     "output_type": "stream",
     "text": [
      "Selam Serhat\n"
     ]
    }
   ],
   "source": [
    "selamla(\"Serhat\")"
   ]
  },
  {
   "cell_type": "code",
   "execution_count": 36,
   "id": "14fda177",
   "metadata": {},
   "outputs": [
    {
     "ename": "TypeError",
     "evalue": "selamla() missing 1 required positional argument: 'isim'",
     "output_type": "error",
     "traceback": [
      "\u001b[0;31m---------------------------------------------------------------------------\u001b[0m",
      "\u001b[0;31mTypeError\u001b[0m                                 Traceback (most recent call last)",
      "\u001b[0;32m/tmp/ipykernel_33012/2920448200.py\u001b[0m in \u001b[0;36m<module>\u001b[0;34m\u001b[0m\n\u001b[0;32m----> 1\u001b[0;31m \u001b[0mselamla\u001b[0m\u001b[0;34m(\u001b[0m\u001b[0;34m)\u001b[0m \u001b[0;31m# Böyle bir kullanım hata verecektir.\u001b[0m\u001b[0;34m\u001b[0m\u001b[0;34m\u001b[0m\u001b[0m\n\u001b[0m",
      "\u001b[0;31mTypeError\u001b[0m: selamla() missing 1 required positional argument: 'isim'"
     ]
    }
   ],
   "source": [
    "selamla() # Böyle bir kullanım hata verecektir."
   ]
  },
  {
   "cell_type": "code",
   "execution_count": 37,
   "id": "3936a016",
   "metadata": {},
   "outputs": [],
   "source": [
    "\"\"\"\n",
    "Ancak biz eğer bir parametrenin değerini varsayılan olarak belirlemek istersek, \n",
    "bunu varsayılan değerler ile yapabiliriz. Varsayılan değerleri anlamak için selamla \n",
    "fonksiyonunu varsayılan parametre değeri ile yazalım.\n",
    "\"\"\"\n",
    "def selamla(isim = \"İsimsiz\"):\n",
    "    print(\"Selam\",isim)"
   ]
  },
  {
   "cell_type": "code",
   "execution_count": 38,
   "id": "87af5565",
   "metadata": {},
   "outputs": [
    {
     "name": "stdout",
     "output_type": "stream",
     "text": [
      "Selam İsimsiz\n"
     ]
    }
   ],
   "source": [
    "selamla() # Hiç bir değer göndermedik. \"isim\" parametresinin değeri varsayılan olarak \"İsimsiz\" olarak belirlendi"
   ]
  },
  {
   "cell_type": "code",
   "execution_count": 40,
   "id": "40371577",
   "metadata": {},
   "outputs": [
    {
     "name": "stdout",
     "output_type": "stream",
     "text": [
      "Selam Serhat\n"
     ]
    }
   ],
   "source": [
    "selamla(\"Serhat\") # Değer verirsek varsayılan değerin yerine bizim verdiğimiz değer geçer.  "
   ]
  },
  {
   "cell_type": "code",
   "execution_count": 41,
   "id": "6b459d59",
   "metadata": {},
   "outputs": [],
   "source": [
    "def bilgilerigöster(ad = \"Bilgi Yok\",soyad = \"Bilgi Yok\",numara =  \"Bilgi Yok\"):\n",
    "    print(\"Ad:\",ad,\"Soyad:\",soyad,\"Numara:\",numara)"
   ]
  },
  {
   "cell_type": "code",
   "execution_count": 42,
   "id": "5149b325",
   "metadata": {},
   "outputs": [
    {
     "name": "stdout",
     "output_type": "stream",
     "text": [
      "Ad: Bilgi Yok Soyad: Bilgi Yok Numara: Bilgi Yok\n"
     ]
    }
   ],
   "source": [
    "bilgilerigöster() # Bütün parametreler varsayılan değerle ekrana basılacak."
   ]
  },
  {
   "cell_type": "code",
   "execution_count": 43,
   "id": "4499f0d7",
   "metadata": {},
   "outputs": [
    {
     "name": "stdout",
     "output_type": "stream",
     "text": [
      "Ad: Mustafa Murat Soyad: Coşkun Numara: Bilgi Yok\n"
     ]
    }
   ],
   "source": [
    "bilgilerigöster(\"Mustafa Murat\",\"Coşkun\") # ad ve soyad değerini verdik ancak numara parametresi varsayılan değer oldu. "
   ]
  },
  {
   "cell_type": "code",
   "execution_count": 44,
   "id": "a67ac86c",
   "metadata": {},
   "outputs": [
    {
     "name": "stdout",
     "output_type": "stream",
     "text": [
      "Ad: Bilgi Yok Soyad: Bilgi Yok Numara: 123456\n"
     ]
    }
   ],
   "source": [
    "\"\"\"\n",
    "Ancak böyle bir durumda argümanları gönderirken değerleri sıralı vermemiz gerekiyor.\n",
    "Peki sadece numara parametresine değer vermek istersek ne yapacağız ?\n",
    "\"\"\"\n",
    "bilgilerigöster(numara = \"123456\") # numara parametresini özel olarak belirtiyoruz."
   ]
  },
  {
   "cell_type": "code",
   "execution_count": 45,
   "id": "e1579462",
   "metadata": {},
   "outputs": [
    {
     "name": "stdout",
     "output_type": "stream",
     "text": [
      "Ad: Mustafa Murat Soyad: Bilgi Yok Numara: 123456\n"
     ]
    }
   ],
   "source": [
    "bilgilerigöster(ad = \"Mustafa Murat\",numara = \"123456\")"
   ]
  },
  {
   "cell_type": "code",
   "execution_count": 46,
   "id": "9d1706d6",
   "metadata": {},
   "outputs": [
    {
     "name": "stdout",
     "output_type": "stream",
     "text": [
      "Mustafa Murat Coşkun\n"
     ]
    }
   ],
   "source": [
    "print(\"Mustafa\",\"Murat\",\"Coşkun\") # sep parametresine değer vermeyince varsayılan olarak boşluk karakteri verildi."
   ]
  },
  {
   "cell_type": "code",
   "execution_count": 47,
   "id": "fe1996f3",
   "metadata": {},
   "outputs": [
    {
     "name": "stdout",
     "output_type": "stream",
     "text": [
      "Mustafa/Murat/Coşkun\n"
     ]
    }
   ],
   "source": [
    "print(\"Mustafa\",\"Murat\",\"Coşkun\",sep = \"/\") # sep parametresine özel olarak değer atadık."
   ]
  },
  {
   "cell_type": "code",
   "execution_count": 48,
   "id": "819ea098",
   "metadata": {},
   "outputs": [
    {
     "name": "stdout",
     "output_type": "stream",
     "text": [
      "Help on built-in function print in module builtins:\n",
      "\n",
      "print(...)\n",
      "    print(value, ..., sep=' ', end='\\n', file=sys.stdout, flush=False)\n",
      "    \n",
      "    Prints the values to a stream, or to sys.stdout by default.\n",
      "    Optional keyword arguments:\n",
      "    file:  a file-like object (stream); defaults to the current sys.stdout.\n",
      "    sep:   string inserted between values, default a space.\n",
      "    end:   string appended after the last value, default a newline.\n",
      "    flush: whether to forcibly flush the stream.\n",
      "\n"
     ]
    }
   ],
   "source": [
    "help(print)  # sep parametresine varsayılan olarak boşluk değeri verildiğini görebiliyoruz."
   ]
  },
  {
   "cell_type": "code",
   "execution_count": 49,
   "id": "9bd8fe30",
   "metadata": {},
   "outputs": [],
   "source": [
    "def bilgilerigöster(ad,soyad = \"Bilgi Yok\",numara =  \"Bilgi Yok\"):\n",
    "    print(\"Ad:\",ad,\"Soyad:\",soyad,\"Numara:\",numara)"
   ]
  },
  {
   "cell_type": "code",
   "execution_count": 50,
   "id": "920c4045",
   "metadata": {},
   "outputs": [
    {
     "ename": "TypeError",
     "evalue": "bilgilerigöster() missing 1 required positional argument: 'ad'",
     "output_type": "error",
     "traceback": [
      "\u001b[0;31m---------------------------------------------------------------------------\u001b[0m",
      "\u001b[0;31mTypeError\u001b[0m                                 Traceback (most recent call last)",
      "\u001b[0;32m/tmp/ipykernel_33012/1070257361.py\u001b[0m in \u001b[0;36m<module>\u001b[0;34m\u001b[0m\n\u001b[0;32m----> 1\u001b[0;31m \u001b[0mbilgilerigöster\u001b[0m\u001b[0;34m(\u001b[0m\u001b[0msoyad\u001b[0m\u001b[0;34m=\u001b[0m\u001b[0;34m\"Tunçer\"\u001b[0m\u001b[0;34m,\u001b[0m\u001b[0mnumara\u001b[0m\u001b[0;34m=\u001b[0m\u001b[0;34m\"123123123\"\u001b[0m\u001b[0;34m)\u001b[0m\u001b[0;34m\u001b[0m\u001b[0;34m\u001b[0m\u001b[0m\n\u001b[0m",
      "\u001b[0;31mTypeError\u001b[0m: bilgilerigöster() missing 1 required positional argument: 'ad'"
     ]
    }
   ],
   "source": [
    "bilgilerigöster(soyad=\"Tunçer\",numara=\"123123123\")"
   ]
  },
  {
   "cell_type": "code",
   "execution_count": 52,
   "id": "c12fe003",
   "metadata": {},
   "outputs": [
    {
     "name": "stdout",
     "output_type": "stream",
     "text": [
      "Ad: devrim Soyad: Tunçer Numara: 123123123\n"
     ]
    }
   ],
   "source": [
    "bilgilerigöster(\"devrim\",soyad=\"Tunçer\",numara=\"123123123\")"
   ]
  },
  {
   "cell_type": "code",
   "execution_count": 53,
   "id": "af2fd0de",
   "metadata": {},
   "outputs": [],
   "source": [
    "\"\"\"\n",
    "Esnek Sayıda Değerler\n",
    "Biliyorsunuz bir fonksiyon yazıldığında özel olarak kaç tane parametresi olacağını önceden belirtmemiz gerekiyor.\n",
    "Örneğin, bir toplama fonksiyonu yazalım.\n",
    "\"\"\"\n",
    "def toplama(a,b,c):\n",
    "    print(a+b+c)\n",
    "    "
   ]
  },
  {
   "cell_type": "code",
   "execution_count": 54,
   "id": "dc78df2a",
   "metadata": {},
   "outputs": [
    {
     "name": "stdout",
     "output_type": "stream",
     "text": [
      "12\n"
     ]
    }
   ],
   "source": [
    "toplama(3,4,5)"
   ]
  },
  {
   "cell_type": "code",
   "execution_count": 55,
   "id": "372255f5",
   "metadata": {},
   "outputs": [
    {
     "ename": "TypeError",
     "evalue": "toplama() takes 3 positional arguments but 4 were given",
     "output_type": "error",
     "traceback": [
      "\u001b[0;31m---------------------------------------------------------------------------\u001b[0m",
      "\u001b[0;31mTypeError\u001b[0m                                 Traceback (most recent call last)",
      "\u001b[0;32m/tmp/ipykernel_33012/2846154212.py\u001b[0m in \u001b[0;36m<module>\u001b[0;34m\u001b[0m\n\u001b[0;32m----> 1\u001b[0;31m \u001b[0mtoplama\u001b[0m\u001b[0;34m(\u001b[0m\u001b[0;36m3\u001b[0m\u001b[0;34m,\u001b[0m\u001b[0;36m4\u001b[0m\u001b[0;34m,\u001b[0m\u001b[0;36m5\u001b[0m\u001b[0;34m,\u001b[0m\u001b[0;36m6\u001b[0m\u001b[0;34m)\u001b[0m \u001b[0;31m# 4 tane argüman veremeyiz.\u001b[0m\u001b[0;34m\u001b[0m\u001b[0;34m\u001b[0m\u001b[0m\n\u001b[0m",
      "\u001b[0;31mTypeError\u001b[0m: toplama() takes 3 positional arguments but 4 were given"
     ]
    }
   ],
   "source": [
    "toplama(3,4,5,6) # 4 tane argüman veremeyiz."
   ]
  },
  {
   "cell_type": "code",
   "execution_count": 56,
   "id": "36a8972c",
   "metadata": {},
   "outputs": [],
   "source": [
    "def toplama(a,b,c,d):\n",
    "    print(a+b+c+d)"
   ]
  },
  {
   "cell_type": "code",
   "execution_count": 57,
   "id": "e439dfd5",
   "metadata": {},
   "outputs": [
    {
     "name": "stdout",
     "output_type": "stream",
     "text": [
      "18\n"
     ]
    }
   ],
   "source": [
    "toplama(3,4,5,6)"
   ]
  },
  {
   "cell_type": "code",
   "execution_count": 58,
   "id": "8081d5cd",
   "metadata": {},
   "outputs": [
    {
     "ename": "TypeError",
     "evalue": "toplama() missing 1 required positional argument: 'd'",
     "output_type": "error",
     "traceback": [
      "\u001b[0;31m---------------------------------------------------------------------------\u001b[0m",
      "\u001b[0;31mTypeError\u001b[0m                                 Traceback (most recent call last)",
      "\u001b[0;32m/tmp/ipykernel_33012/2354263648.py\u001b[0m in \u001b[0;36m<module>\u001b[0;34m\u001b[0m\n\u001b[0;32m----> 1\u001b[0;31m \u001b[0mtoplama\u001b[0m\u001b[0;34m(\u001b[0m\u001b[0;36m3\u001b[0m\u001b[0;34m,\u001b[0m\u001b[0;36m4\u001b[0m\u001b[0;34m,\u001b[0m\u001b[0;36m5\u001b[0m\u001b[0;34m)\u001b[0m \u001b[0;31m# Ancak bu sefer de 3 argüman veremiyoruz.\u001b[0m\u001b[0;34m\u001b[0m\u001b[0;34m\u001b[0m\u001b[0m\n\u001b[0m",
      "\u001b[0;31mTypeError\u001b[0m: toplama() missing 1 required positional argument: 'd'"
     ]
    }
   ],
   "source": [
    "toplama(3,4,5) # Ancak bu sefer de 3 argüman veremiyoruz."
   ]
  },
  {
   "cell_type": "code",
   "execution_count": 59,
   "id": "032ae53e",
   "metadata": {},
   "outputs": [],
   "source": [
    "def toplama(*parametreler): # Artık parametreler değişkenini bir demet gibi kullanabilirim.\n",
    "    toplam =  0\n",
    "    print(\"Parametreler:\",parametreler)\n",
    "    for i in parametreler:\n",
    "        toplam += i\n",
    "    return toplam\n",
    "\n",
    "    "
   ]
  },
  {
   "cell_type": "code",
   "execution_count": 60,
   "id": "d2811cc9",
   "metadata": {},
   "outputs": [
    {
     "name": "stdout",
     "output_type": "stream",
     "text": [
      "Parametreler: (3, 4, 5, 6, 7, 8, 9, 10)\n",
      "52\n"
     ]
    }
   ],
   "source": [
    "print(toplama(3,4,5,6,7,8,9,10))"
   ]
  },
  {
   "cell_type": "code",
   "execution_count": 61,
   "id": "e3289f34",
   "metadata": {},
   "outputs": [
    {
     "name": "stdout",
     "output_type": "stream",
     "text": [
      "Parametreler: ()\n",
      "0\n"
     ]
    }
   ],
   "source": [
    "print(toplama())"
   ]
  },
  {
   "cell_type": "code",
   "execution_count": 62,
   "id": "7bb58c08",
   "metadata": {},
   "outputs": [
    {
     "name": "stdout",
     "output_type": "stream",
     "text": [
      "Parametreler: (1, 2, 3)\n",
      "6\n"
     ]
    }
   ],
   "source": [
    "print(toplama(1,2,3))"
   ]
  },
  {
   "cell_type": "code",
   "execution_count": 63,
   "id": "4f8aead2",
   "metadata": {},
   "outputs": [
    {
     "name": "stdout",
     "output_type": "stream",
     "text": [
      "3 4 5 6\n"
     ]
    }
   ],
   "source": [
    "\"\"\"\n",
    "print fonksiyonunu tekrar hatırlayacak olursak aslında print fonksiyonu bu şekilde tanımlanmış bir fonksiyondur.\n",
    "Çünkü biz print fonksiyonuna istediğimiz sayıda argüman gönderebiliyorduk.\n",
    "\"\"\"\n",
    "print(3,4,5,6)"
   ]
  },
  {
   "cell_type": "code",
   "execution_count": 64,
   "id": "3371b989",
   "metadata": {},
   "outputs": [
    {
     "name": "stdout",
     "output_type": "stream",
     "text": [
      "Elma Armut\n"
     ]
    }
   ],
   "source": [
    "print(\"Elma\",\"Armut\")"
   ]
  },
  {
   "cell_type": "code",
   "execution_count": 65,
   "id": "85cffcd0",
   "metadata": {},
   "outputs": [
    {
     "ename": "SyntaxError",
     "evalue": "unterminated string literal (detected at line 1) (764680637.py, line 1)",
     "output_type": "error",
     "traceback": [
      "\u001b[0;36m  File \u001b[0;32m\"/tmp/ipykernel_33012/764680637.py\"\u001b[0;36m, line \u001b[0;32m1\u001b[0m\n\u001b[0;31m    Bu konuda gördüğümüz gibi Python'ın bu özelliklerini kullanarak daha esnek fonksiyonlar yazabiliriz. Bir sonraki konuda Global ve Yerel değişkenleri öğrenmeye çalışacağız.\u001b[0m\n\u001b[0m                                    ^\u001b[0m\n\u001b[0;31mSyntaxError\u001b[0m\u001b[0;31m:\u001b[0m unterminated string literal (detected at line 1)\n"
     ]
    }
   ],
   "source": [
    "\"\"\"\n",
    "Bu konuda gördüğümüz gibi Python'ın bu özelliklerini kullanarak daha esnek fonksiyonlar yazabiliriz.\n",
    "Bir sonraki konuda Global ve Yerel değişkenleri öğrenmeye çalışacağız.\n",
    "\"\"\""
   ]
  },
  {
   "cell_type": "code",
   "execution_count": 66,
   "id": "9f269eb6",
   "metadata": {},
   "outputs": [
    {
     "name": "stdout",
     "output_type": "stream",
     "text": [
      "10\n"
     ]
    },
    {
     "ename": "NameError",
     "evalue": "name 'a' is not defined",
     "output_type": "error",
     "traceback": [
      "\u001b[0;31m---------------------------------------------------------------------------\u001b[0m",
      "\u001b[0;31mNameError\u001b[0m                                 Traceback (most recent call last)",
      "\u001b[0;32m/tmp/ipykernel_33012/3703628681.py\u001b[0m in \u001b[0;36m<module>\u001b[0;34m\u001b[0m\n\u001b[1;32m     22\u001b[0m \u001b[0;34m\u001b[0m\u001b[0m\n\u001b[1;32m     23\u001b[0m \u001b[0mfonksiyon\u001b[0m\u001b[0;34m(\u001b[0m\u001b[0;34m)\u001b[0m\u001b[0;34m\u001b[0m\u001b[0;34m\u001b[0m\u001b[0m\n\u001b[0;32m---> 24\u001b[0;31m \u001b[0mprint\u001b[0m\u001b[0;34m(\u001b[0m\u001b[0ma\u001b[0m\u001b[0;34m)\u001b[0m  \u001b[0;31m# a değişkeni yok oldu.\u001b[0m\u001b[0;34m\u001b[0m\u001b[0;34m\u001b[0m\u001b[0m\n\u001b[0m",
      "\u001b[0;31mNameError\u001b[0m: name 'a' is not defined"
     ]
    }
   ],
   "source": [
    "\"\"\"\n",
    "Global ve Yerel değişkenler\n",
    "Bu konuda global ve yerel (local) değişkenleri öğrenmeye çalışacağız.\n",
    "\n",
    "Pythonda her bir değişkenin, fonksiyonun ve ileride göreceğimiz sınıfların(class) aslında bir\n",
    "kapsamı(scope) bulunur ve Python herbir değişkeni bir isim alanında (namespace) tanımlar.\n",
    "Değişkenlerin İsim alanı ise, bu değişkenlerin nerelerde var olduğunu ve nerelerde kullanılabileceğini gösterir.\n",
    "\n",
    "Pythonda fonksiyonlarda tanımlanan değişkenler Python tarafından **Yerel (Local) değişkenler ** olarak\n",
    "tanımlanırlar. Yani bir fonksiyon bloğunda oluşturulan değişkenler fonksiyona özgüdür ve fonksiyon \n",
    "çalışmasını bitirdikten sonra bu değişkenler bellekten silinir ve yok olur. Böylelikle , fonksiyon içinde\n",
    "tanımlanmış bir değişkene başka bir yerden erişilemez.\n",
    "\n",
    "Pythonda en genel kapsama sahip değişkenler ise Global değişkenler olarak tanımlanırlar ve global\n",
    "değişkenlere tanımlandığı andan itibaren programın her yerinden ulaşabiliriz.\n",
    "\n",
    "Yerel değişkenleri anlamak için bir tane fonksiyon tanımlayalım.\n",
    "\"\"\"\n",
    "def fonksiyon():\n",
    "    a = 10 # Yerel isim alanında bir değişken\n",
    "    print(a)\n",
    "\n",
    "    \n",
    "fonksiyon() \n",
    "print(a)  # a değişkeni yok oldu."
   ]
  },
  {
   "cell_type": "code",
   "execution_count": 67,
   "id": "3fde3ffe",
   "metadata": {},
   "outputs": [
    {
     "name": "stdout",
     "output_type": "stream",
     "text": [
      "5\n"
     ]
    }
   ],
   "source": [
    "\"\"\"\n",
    "Burada fonksiyon içinde tanımlanan a değişkeni fonksiyon \n",
    "çağrıldığında bellekte oluşur ve fonksiyon bloğunu çalıştırdıktan sonra yok olur.\n",
    "Yani, a değişkeni burada bir yerel değişkendir.\n",
    "\n",
    "Global Değişkenleri anlamak içinse şöyle bir örnek yapalım.\n",
    "\"\"\"\n",
    "a = 5 # Global isim alanında bir değişken .\n",
    "\n",
    "def fonksiyon():\n",
    "    print(a) # a değişkeni globalde tanımlandığı için burada tanımlı.\n",
    "    \n",
    "fonksiyon()"
   ]
  },
  {
   "cell_type": "code",
   "execution_count": 68,
   "id": "b23444b9",
   "metadata": {},
   "outputs": [
    {
     "ename": "NameError",
     "evalue": "name 's' is not defined",
     "output_type": "error",
     "traceback": [
      "\u001b[0;31m---------------------------------------------------------------------------\u001b[0m",
      "\u001b[0;31mNameError\u001b[0m                                 Traceback (most recent call last)",
      "\u001b[0;32m/tmp/ipykernel_33012/647460761.py\u001b[0m in \u001b[0;36m<module>\u001b[0;34m\u001b[0m\n\u001b[1;32m      2\u001b[0m     \u001b[0mprint\u001b[0m\u001b[0;34m(\u001b[0m\u001b[0ms\u001b[0m\u001b[0;34m)\u001b[0m\u001b[0;34m\u001b[0m\u001b[0;34m\u001b[0m\u001b[0m\n\u001b[1;32m      3\u001b[0m \u001b[0;34m\u001b[0m\u001b[0m\n\u001b[0;32m----> 4\u001b[0;31m \u001b[0mfonksiyon\u001b[0m\u001b[0;34m(\u001b[0m\u001b[0;34m)\u001b[0m \u001b[0;31m# s global değişkeni henüz tanımlanmadığı için Python hata veriyor.\u001b[0m\u001b[0;34m\u001b[0m\u001b[0;34m\u001b[0m\u001b[0m\n\u001b[0m\u001b[1;32m      5\u001b[0m \u001b[0ms\u001b[0m \u001b[0;34m=\u001b[0m \u001b[0;34m\"Python\"\u001b[0m\u001b[0;34m\u001b[0m\u001b[0;34m\u001b[0m\u001b[0m\n",
      "\u001b[0;32m/tmp/ipykernel_33012/647460761.py\u001b[0m in \u001b[0;36mfonksiyon\u001b[0;34m()\u001b[0m\n\u001b[1;32m      1\u001b[0m \u001b[0;32mdef\u001b[0m \u001b[0mfonksiyon\u001b[0m\u001b[0;34m(\u001b[0m\u001b[0;34m)\u001b[0m\u001b[0;34m:\u001b[0m\u001b[0;34m\u001b[0m\u001b[0;34m\u001b[0m\u001b[0m\n\u001b[0;32m----> 2\u001b[0;31m     \u001b[0mprint\u001b[0m\u001b[0;34m(\u001b[0m\u001b[0ms\u001b[0m\u001b[0;34m)\u001b[0m\u001b[0;34m\u001b[0m\u001b[0;34m\u001b[0m\u001b[0m\n\u001b[0m\u001b[1;32m      3\u001b[0m \u001b[0;34m\u001b[0m\u001b[0m\n\u001b[1;32m      4\u001b[0m \u001b[0mfonksiyon\u001b[0m\u001b[0;34m(\u001b[0m\u001b[0;34m)\u001b[0m \u001b[0;31m# s global değişkeni henüz tanımlanmadığı için Python hata veriyor.\u001b[0m\u001b[0;34m\u001b[0m\u001b[0;34m\u001b[0m\u001b[0m\n\u001b[1;32m      5\u001b[0m \u001b[0ms\u001b[0m \u001b[0;34m=\u001b[0m \u001b[0;34m\"Python\"\u001b[0m\u001b[0;34m\u001b[0m\u001b[0;34m\u001b[0m\u001b[0m\n",
      "\u001b[0;31mNameError\u001b[0m: name 's' is not defined"
     ]
    }
   ],
   "source": [
    "def fonksiyon():\n",
    "    print(s)\n",
    "\n",
    "fonksiyon() # s global değişkeni henüz tanımlanmadığı için Python hata veriyor.\n",
    "s = \"Python\""
   ]
  },
  {
   "cell_type": "code",
   "execution_count": 69,
   "id": "fefd565b",
   "metadata": {},
   "outputs": [
    {
     "name": "stdout",
     "output_type": "stream",
     "text": [
      "2\n",
      "10\n"
     ]
    }
   ],
   "source": [
    "c = 10 # Globalde tanımlanmış bir değişken \n",
    "def fonksiyon():\n",
    "    c = 2 # Yerelde tanımlanmış bir değişken\n",
    "    print(c)  # Yerel değişken kullanılıyor.\n",
    "\n",
    "fonksiyon()\n",
    "print(c)"
   ]
  },
  {
   "cell_type": "code",
   "execution_count": 70,
   "id": "91c46f99",
   "metadata": {},
   "outputs": [
    {
     "name": "stdout",
     "output_type": "stream",
     "text": [
      "4\n",
      "4\n"
     ]
    }
   ],
   "source": [
    "\"\"\"\n",
    "Kodumuz çalıştığında ilk olarak c isimli global değişken oluşuyor. fonksiyon çağrıldığında ise c isimli \n",
    "başka bir yerel değişken oluşuyor gibi düşünebilirsiniz. Böyle bir durumda elimizden iki tane c değişkeni \n",
    "var. Python bu durumda global c değişkeni yerine kendi yerel c değişkenini kullanıyor.\n",
    "\n",
    "Global Deyimi\n",
    "Peki bir fonksiyonda globalde tanımlanmış bir değişkeni nasıl kullanacağız ? Bunun için Pythonda global\n",
    "ifadesi bulunmaktadır. Şimdi aşağıdaki kodu beraber inceleyelim.\n",
    "\"\"\"\n",
    "d = 10\n",
    "\n",
    "def fonksiyon():\n",
    "    global d\n",
    "    \n",
    "    d = 4\n",
    "    print(d)\n",
    "fonksiyon()\n",
    "print(d)"
   ]
  },
  {
   "cell_type": "code",
   "execution_count": 71,
   "id": "2cbef538",
   "metadata": {},
   "outputs": [
    {
     "name": "stdout",
     "output_type": "stream",
     "text": [
      "10\n",
      "10\n"
     ]
    }
   ],
   "source": [
    "\"\"\"\n",
    "Bu durumda kodumuz ne yapıyor ? İlk olarak program başladığı zaman, bir tane global d değişkeni \n",
    "oluşuyor ve fonksiyonumuz çağrıldığında global d ifadesiyle globaldeki d değişkenini kullanmak \n",
    "istediğimizi söylüyoruz. Böyle d = 4 ifadesiyle bir tane daha d değişkeni oluşturmuyoruz. Böylelikle \n",
    "d =4 ifadesiyle globaldeki değişkeninin değerini değiştirmiş oluyoruz.\n",
    "\n",
    "İşte Global ve Yerel değişkenler bu şekilde düşünülebilir. Burada gördüğümüz gibi, Yerel değişkenler\n",
    "bir fonksiyon bloğunda içinde tanımlanır. Peki bir if veya while bloğunda yerel bir değişken\n",
    "tanımlanır mı hemen bakalım.\n",
    "\"\"\"\n",
    "if True:\n",
    "    t = 10\n",
    "    print(t)\n",
    "\n",
    "print(t)"
   ]
  },
  {
   "cell_type": "code",
   "execution_count": 72,
   "id": "579f7f1d",
   "metadata": {},
   "outputs": [
    {
     "name": "stdout",
     "output_type": "stream",
     "text": [
      "10\n",
      "10\n"
     ]
    }
   ],
   "source": [
    "while True:\n",
    "    deger =  10\n",
    "    print(deger)\n",
    "    break\n",
    "\n",
    "print(deger)"
   ]
  },
  {
   "cell_type": "code",
   "execution_count": 73,
   "id": "980625bc",
   "metadata": {},
   "outputs": [
    {
     "name": "stdout",
     "output_type": "stream",
     "text": [
      "[2, 4, 6, 8, 10]\n"
     ]
    }
   ],
   "source": [
    "\"\"\"\n",
    "Burada gördüğümüz gibi, if ve while bloklarında tanımlanan değişkenler yerel bir \n",
    "değişken yerine global bir değişken olmaktadır.\n",
    "\n",
    "Bir sonraki konuda lambda ifadelerini öğrenmeye çalışacağız.\n",
    "\n",
    "Lambda İfadeleri\n",
    "Bu konuda lambda ifadelerini(expression) öğrenmeye çalışacağız. lambda ifadeleri \n",
    "fonksiyonlarımızı oluşturmak için Pythonda bulunan pratik bir yöntemdir ve gerektiği\n",
    "yerlerde bu ifadeleri kullanabiliriz. Biliyorsunuz listelerimizi oluşturmak için List \n",
    "Comprehension yöntemini kullanabiliyorduk. İsterseniz List Comprehension yöntemini hatırlayalım.\n",
    "\"\"\"\n",
    "liste1 = [1,2,3,4,5] \n",
    "liste2 = list()\n",
    "for i in liste1: # Bu klasik liste oluşturma yöntemi\n",
    "    liste2.append(i*2)\n",
    "print(liste2)"
   ]
  },
  {
   "cell_type": "code",
   "execution_count": 74,
   "id": "4be32748",
   "metadata": {},
   "outputs": [
    {
     "name": "stdout",
     "output_type": "stream",
     "text": [
      "[2, 4, 6, 8, 10]\n"
     ]
    }
   ],
   "source": [
    "liste3 = [1,2,3,4,5]\n",
    "liste4 = [i * 2 for i in liste3] # List Comprehension\n",
    "print(liste4)"
   ]
  },
  {
   "cell_type": "code",
   "execution_count": 75,
   "id": "725ce9e5",
   "metadata": {},
   "outputs": [],
   "source": [
    "\"\"\"\n",
    "Aynı buradaki gibi bir fonksiyonu da tek satır halinde lambda ifadeleriyle oluşturabiliriz.\n",
    "İlk önce yapısına bakalım sonra örneklerimize geçelim.\n",
    "\n",
    "                etiket = lambda parametre1,parametre2.... :  İşlem\n",
    "                \n",
    "Bu yapıdan henüz bir şey anlamamış olabiliriz. İsterseniz örneklerimizle lambda \n",
    "ifadelerini anlamaya çalışalım. Bir tane iki ile çarpma görevini yerine getiren fonksiyon yazalım.\n",
    "\"\"\"\n",
    "def ikiyleçarp(x): # Klasik fonksiyon tanımlama\n",
    "    return x * 2\n"
   ]
  },
  {
   "cell_type": "code",
   "execution_count": 76,
   "id": "263a421e",
   "metadata": {},
   "outputs": [
    {
     "name": "stdout",
     "output_type": "stream",
     "text": [
      "4\n"
     ]
    }
   ],
   "source": [
    "print(ikiyleçarp(2))"
   ]
  },
  {
   "cell_type": "code",
   "execution_count": 77,
   "id": "46f147da",
   "metadata": {},
   "outputs": [],
   "source": [
    "# Şimdi de bu fonksiyonu lambda ifadelerini kullanarak tek satırda yazalım.\n",
    "\n",
    "ikiyleçarp = lambda x : x * 2 \n",
    "# x parametre x* 2 return ifadesi ve ikiyleçarp değeri de bir etikettir(değişken gibi düşünelim)"
   ]
  },
  {
   "cell_type": "code",
   "execution_count": 78,
   "id": "82ebb489",
   "metadata": {},
   "outputs": [
    {
     "data": {
      "text/plain": [
       "6"
      ]
     },
     "execution_count": 78,
     "metadata": {},
     "output_type": "execute_result"
    }
   ],
   "source": [
    "ikiyleçarp(3) # Buradaki 3 argümanı lambda ifadesindeki x'in yerine geçiyor."
   ]
  },
  {
   "cell_type": "code",
   "execution_count": 79,
   "id": "5fc31c69",
   "metadata": {},
   "outputs": [],
   "source": [
    "def toplama(a,b,c):\n",
    "    return a + b + c"
   ]
  },
  {
   "cell_type": "code",
   "execution_count": 80,
   "id": "690654e1",
   "metadata": {},
   "outputs": [
    {
     "name": "stdout",
     "output_type": "stream",
     "text": [
      "12\n"
     ]
    }
   ],
   "source": [
    "print(toplama(3,4,5))"
   ]
  },
  {
   "cell_type": "code",
   "execution_count": 81,
   "id": "6cf1854b",
   "metadata": {},
   "outputs": [],
   "source": [
    "topla = lambda x,y,z : x + y + z"
   ]
  },
  {
   "cell_type": "code",
   "execution_count": 82,
   "id": "98cb420e",
   "metadata": {},
   "outputs": [
    {
     "name": "stdout",
     "output_type": "stream",
     "text": [
      "12\n"
     ]
    }
   ],
   "source": [
    "print(topla(3,4,5))"
   ]
  },
  {
   "cell_type": "code",
   "execution_count": 83,
   "id": "aac693ec",
   "metadata": {},
   "outputs": [],
   "source": [
    "# Stringi ters çevirme\n",
    "def terscevir(s):\n",
    "    return s[::-1]\n"
   ]
  },
  {
   "cell_type": "code",
   "execution_count": 84,
   "id": "784c983f",
   "metadata": {},
   "outputs": [
    {
     "name": "stdout",
     "output_type": "stream",
     "text": [
      "amalmargorP nohtyP\n"
     ]
    }
   ],
   "source": [
    "print(terscevir(\"Python Programlama\"))"
   ]
  },
  {
   "cell_type": "code",
   "execution_count": 85,
   "id": "057ca133",
   "metadata": {},
   "outputs": [],
   "source": [
    "ters =  lambda s : s[::-1]"
   ]
  },
  {
   "cell_type": "code",
   "execution_count": 86,
   "id": "990a9658",
   "metadata": {},
   "outputs": [
    {
     "name": "stdout",
     "output_type": "stream",
     "text": [
      "amalmargorP nohtyP\n"
     ]
    }
   ],
   "source": [
    "print(ters(\"Python Programlama\"))"
   ]
  },
  {
   "cell_type": "code",
   "execution_count": 88,
   "id": "5bb739e3",
   "metadata": {},
   "outputs": [],
   "source": [
    "# çift mi \n",
    "\n",
    "def çiftmi(sayı):\n",
    "    return ( sayı % 2 == 0 )\n",
    "    "
   ]
  },
  {
   "cell_type": "code",
   "execution_count": 89,
   "id": "fc1fe7e7",
   "metadata": {},
   "outputs": [
    {
     "name": "stdout",
     "output_type": "stream",
     "text": [
      "True\n"
     ]
    }
   ],
   "source": [
    "print(çiftmi(12))"
   ]
  },
  {
   "cell_type": "code",
   "execution_count": 90,
   "id": "94421ff8",
   "metadata": {},
   "outputs": [
    {
     "name": "stdout",
     "output_type": "stream",
     "text": [
      "False\n"
     ]
    }
   ],
   "source": [
    "print(çiftmi(13))"
   ]
  },
  {
   "cell_type": "code",
   "execution_count": 91,
   "id": "cff07291",
   "metadata": {},
   "outputs": [],
   "source": [
    "çifttek = lambda sayı :  sayı % 2 == 0 "
   ]
  },
  {
   "cell_type": "code",
   "execution_count": 92,
   "id": "ff46b87c",
   "metadata": {},
   "outputs": [
    {
     "data": {
      "text/plain": [
       "True"
      ]
     },
     "execution_count": 92,
     "metadata": {},
     "output_type": "execute_result"
    }
   ],
   "source": [
    "çifttek(34)"
   ]
  },
  {
   "cell_type": "code",
   "execution_count": 93,
   "id": "d35c3fa3",
   "metadata": {},
   "outputs": [
    {
     "data": {
      "text/plain": [
       "False"
      ]
     },
     "execution_count": 93,
     "metadata": {},
     "output_type": "execute_result"
    }
   ],
   "source": [
    "çifttek(13)"
   ]
  },
  {
   "cell_type": "code",
   "execution_count": 94,
   "id": "8d5f7a94",
   "metadata": {},
   "outputs": [],
   "source": [
    "def mükemmmelsayı(a):\n",
    "    for i in range(1,a):\n",
    "        b=0\n",
    "        print(\"Kontrol edilecek sayı: {}\".format(i))\n",
    "        for x in range(1,i):\n",
    "            print(\"Bölünen sayılar: {}\".format(x))\n",
    "            if a%x==0:\n",
    "                b+=x\n",
    "                print(\" {} tam bölünen {}\".format(i,x))\n",
    "            if x==b:\n",
    "                print(x)"
   ]
  },
  {
   "cell_type": "code",
   "execution_count": 95,
   "id": "89ad793c",
   "metadata": {},
   "outputs": [
    {
     "name": "stdout",
     "output_type": "stream",
     "text": [
      "1\n",
      "2\n",
      "3\n",
      "4\n",
      "1\n"
     ]
    }
   ],
   "source": []
  },
  {
   "cell_type": "code",
   "execution_count": null,
   "id": "f4c20e3b",
   "metadata": {},
   "outputs": [],
   "source": []
  }
 ],
 "metadata": {
  "kernelspec": {
   "display_name": "Python 3 (ipykernel)",
   "language": "python",
   "name": "python3"
  },
  "language_info": {
   "codemirror_mode": {
    "name": "ipython",
    "version": 3
   },
   "file_extension": ".py",
   "mimetype": "text/x-python",
   "name": "python",
   "nbconvert_exporter": "python",
   "pygments_lexer": "ipython3",
   "version": "3.10.7"
  }
 },
 "nbformat": 4,
 "nbformat_minor": 5
}
