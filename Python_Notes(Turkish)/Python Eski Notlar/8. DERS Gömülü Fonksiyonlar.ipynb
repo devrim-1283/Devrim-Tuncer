{
 "cells": [
  {
   "cell_type": "code",
   "execution_count": 1,
   "id": "1a02eb9a",
   "metadata": {},
   "outputs": [
    {
     "data": {
      "text/plain": [
       "20"
      ]
     },
     "execution_count": 1,
     "metadata": {},
     "output_type": "execute_result"
    }
   ],
   "source": [
    "\"\"\"\n",
    "Gömülü Fonksiyonlar\n",
    "Bu bölümde, daha önce de birkaç kez bahsettiğimiz ve \n",
    "çokça örneğini gördüğümüz bir kavramdan söz edeceğiz.\n",
    "Bu kavramın adı ‘gömülü fonksiyonlar’.\n",
    "\n",
    "Esasında biz buraya gelene kadar Python’da pek çok gömülü \n",
    "fonksiyon gördük. Dolayısıyla aslında görünüş olarak bunların\n",
    "neye benzediğini biliyoruz. Örneğin daha önceki derslerimizde\n",
    "gördüğümüz print() gömülü bir fonksiyondur. \n",
    "Aynı şekilde open(), type(), len(), pow(), bin() \n",
    "ve şimdiye kadar tanıştığımız öteki bütün fonksiyonlar\n",
    "birer gömülü fonksiyondur.\n",
    "\n",
    "Gömülü fonksiyonlar İngilizcede builtin functions olarak \n",
    "adlandırılır. Bu fonksiyonlar gerçekten de dile gömülü\n",
    "vaziyettedirler. Bildiğiniz gibi, bir fonksiyonu kullanabilmemiz \n",
    "için o fonksiyonu tanımlamamız gerekir. İşte gömülü fonksiyonlar,\n",
    "bizim tanımlamamıza gerek kalmadan, Python geliştiricileri tarafından \n",
    "önceden tanımlanıp dile gömülmüş ve hizmetimize sunulmuş faydalı\n",
    "birtakım araçlardır.\n",
    "\n",
    "İşte bu bölümde biz de bu gömülü fonksiyonları tek tek ve\n",
    "ayrıntılı olarak inceleyeceğiz. Dediğimiz gibi, bunlardan \n",
    "bir kısmını halihazırda görmüştünüz. Ama biz bütünlük\n",
    "açısından, önceden ele almış olduğumuz bu fonksiyonlara \n",
    "da kısaca değinmeden geçmeyeceğiz. Böylelikle hem yeni \n",
    "fonksiyonlar öğrenmiş olacağız hem de önceden öğrendiğimiz \n",
    "fonksiyonlarla birlikte yeni fonksiyonları da derli toplu \n",
    "bir şekilde görme imkanımız olacak.\n",
    "\n",
    "Bu bölümde elbette birtakım fonksiyonları salt art arda \n",
    "sıralamakla yetinmeyeceğiz. Python’daki gömülü fonksiyonları\n",
    "incelerken bir yandan da Python programlama dilindeki çok\n",
    "önemli bazı kavramları ele alacağız.\n",
    "\n",
    "İlk olarak abs() adlı bir fonksiyonla başlıyoruz gömülü \n",
    "fonksiyonları incelemeye…\n",
    "\n",
    "\n",
    "abs()\n",
    "İngilizcede ‘mutlak’ anlamına gelen absolute adlı bir \n",
    "kelime bulunur. İşte bu fonksiyonun adı da bu kelimeden \n",
    "gelir. Fonksiyonumuzun görevi de isminin anlamına yakındır.\n",
    "abs() fonksiyonunu bir sayının mutlak değerini elde etmek \n",
    "için kullanıyoruz.\n",
    "\n",
    "\n",
    "Peki ‘mutlak değer’ ne anlama geliyor. Esasında siz bu \n",
    "kavrama matematik derslerinden aşinasınız. Ama bilmeyenler\n",
    "veya unutmuş olanlar için tekrar edelim. ‘Mutlak değer’\n",
    "bir sayının 0’a olan uzaklığıdır. Örneğin 20 sayısının\n",
    "0 sayısına olan uzaklığı 20’dir. Dolayısıyla 20 sayısının\n",
    "mutlak değeri 20’dir. Aynı şekilde -20 sayısının da 0\n",
    "sayısına uzaklığı 20’dir. Yani, -20 sayısının da mutlak \n",
    "değeri 20’dir.\n",
    "\n",
    "\n",
    "İşte abs() fonksiyonu bize bir sayının mutlak değerinin\n",
    "ne olduğunu söyler:\n",
    "Mutlak değer kavramı yalnızca tamsayılar ve kayan \n",
    "noktalı sayılar için değil, aynı zamanda karmaşık \n",
    "sayılar için de geçerlidir. Dolayısıyla abs()\n",
    "fonksiyonunu kullanarak karmaşık sayıların da\n",
    "mutlak değerini hesaplayabiliriz:\n",
    "Gördüğünüz gibi bu fonksiyon yalnızca tek bir parametre\n",
    "alıyor ve bu parametrenin mutlak değerini döndürüyor.\n",
    "\"\"\"\n",
    "abs(-20)"
   ]
  },
  {
   "cell_type": "code",
   "execution_count": 2,
   "id": "8cada0ce",
   "metadata": {},
   "outputs": [
    {
     "data": {
      "text/plain": [
       "20"
      ]
     },
     "execution_count": 2,
     "metadata": {},
     "output_type": "execute_result"
    }
   ],
   "source": [
    "abs(20)"
   ]
  },
  {
   "cell_type": "code",
   "execution_count": 3,
   "id": "c170a36a",
   "metadata": {},
   "outputs": [
    {
     "data": {
      "text/plain": [
       "20.396078054371138"
      ]
     },
     "execution_count": 3,
     "metadata": {},
     "output_type": "execute_result"
    }
   ],
   "source": [
    "abs(20+4j)"
   ]
  },
  {
   "cell_type": "code",
   "execution_count": 4,
   "id": "0e54d5cb",
   "metadata": {},
   "outputs": [
    {
     "data": {
      "text/plain": [
       "12"
      ]
     },
     "execution_count": 4,
     "metadata": {},
     "output_type": "execute_result"
    }
   ],
   "source": [
    "\"\"\"\n",
    "round()\n",
    "round() fonksiyonu bir sayıyı belli ölçütlere\n",
    "göre yukarı veya aşağı doğru yuvarlamamızı sağlar.\n",
    "Basit birkaç örnek verelim:\n",
    "\"\"\"\n",
    "round(12,4)"
   ]
  },
  {
   "cell_type": "code",
   "execution_count": 5,
   "id": "d45ebbdc",
   "metadata": {},
   "outputs": [
    {
     "data": {
      "text/plain": [
       "12"
      ]
     },
     "execution_count": 5,
     "metadata": {},
     "output_type": "execute_result"
    }
   ],
   "source": [
    "round(12,7)"
   ]
  },
  {
   "cell_type": "code",
   "execution_count": 6,
   "id": "7305ad4d",
   "metadata": {},
   "outputs": [
    {
     "data": {
      "text/plain": [
       "1"
      ]
     },
     "execution_count": 6,
     "metadata": {},
     "output_type": "execute_result"
    }
   ],
   "source": [
    "\"\"\"\n",
    "Gördüğünüz gibi bu fonksiyon, kayan noktalı sayıları \n",
    "en yakın tam sayıya doğru yuvarlıyor.\n",
    "\n",
    "Ancak burada dikkat etmemiz gereken bir nokta var.\n",
    "\n",
    "Şu örnekleri bir inceleyelim:\n",
    "\"\"\"\n",
    "round(1,5)"
   ]
  },
  {
   "cell_type": "code",
   "execution_count": 7,
   "id": "ef09413f",
   "metadata": {},
   "outputs": [
    {
     "data": {
      "text/plain": [
       "12"
      ]
     },
     "execution_count": 7,
     "metadata": {},
     "output_type": "execute_result"
    }
   ],
   "source": [
    "round(12.5)"
   ]
  },
  {
   "cell_type": "code",
   "execution_count": 8,
   "id": "47cdf090",
   "metadata": {},
   "outputs": [
    {
     "data": {
      "text/plain": [
       "3.142857142857143"
      ]
     },
     "execution_count": 8,
     "metadata": {},
     "output_type": "execute_result"
    }
   ],
   "source": [
    "\"\"\"\n",
    "Gördüğünüz gibi, fonksiyonumuz 1.5 sayısını yukarı doğru, \n",
    "12.5 sayısını ise aşağı doğru yuvarladı. Bunun sebebi,\n",
    "kayan noktalı bir sayının üst ve alt tam sayılara olan \n",
    "uzaklığının birbirine eşit olduğu durumlarda Python’ın\n",
    "çift sayıya doğru yuvarlama yapmayı tercih etmesidir.\n",
    "Mesela yukarıdaki örneklerde 1.5 sayısı hem 1 sayısına,\n",
    "hem de 2 sayısına eşit uzaklıkta bulunuyor. İşte Python\n",
    "bu durumda, bir çift sayı olan 2 sayısına doğru yuvarlamayı\n",
    "tercih edecektir.\n",
    "\n",
    "round() fonksiyonu toplam iki parametre alır. İlk parametre,\n",
    "yuvarlanacak sayının kendisidir. Yuvarlama hassasiyetini \n",
    "belirlemek için ise ikinci bir parametreden yararlanabiliriz.\n",
    "\n",
    "Örneğin 22 sayısını 7’ye böldüğümüzde normalde şöyle bir \n",
    "çıktı elde ederiz:\n",
    "\"\"\"\n",
    "22/7"
   ]
  },
  {
   "cell_type": "code",
   "execution_count": 9,
   "id": "834f9d72",
   "metadata": {},
   "outputs": [
    {
     "data": {
      "text/plain": [
       "3"
      ]
     },
     "execution_count": 9,
     "metadata": {},
     "output_type": "execute_result"
    }
   ],
   "source": [
    "\"\"\"\n",
    "round() fonksiyonunu tek parametre ile \n",
    "kullandığımızda bu fonksiyon yukarıdaki\n",
    "sayıyı şu şekilde yuvarlayacaktır:\n",
    "\"\"\"\n",
    "round(22/7)"
   ]
  },
  {
   "cell_type": "code",
   "execution_count": 10,
   "id": "672a737e",
   "metadata": {},
   "outputs": [
    {
     "data": {
      "text/plain": [
       "3"
      ]
     },
     "execution_count": 10,
     "metadata": {},
     "output_type": "execute_result"
    }
   ],
   "source": [
    "\"\"\"\n",
    "İşte biz round() fonksiyonuna ikinci bir parametre daha\n",
    "vererek, yuvarlama hassasiyetini kontrol edebiliriz.\n",
    "\n",
    "Aşağıdaki örnekleri dikkatlice inceleyin:\n",
    "\"\"\"\n",
    "round(22/7)"
   ]
  },
  {
   "cell_type": "code",
   "execution_count": 11,
   "id": "96179d84",
   "metadata": {},
   "outputs": [
    {
     "data": {
      "text/plain": [
       "3.0"
      ]
     },
     "execution_count": 11,
     "metadata": {},
     "output_type": "execute_result"
    }
   ],
   "source": [
    "round(22/7,0)"
   ]
  },
  {
   "cell_type": "code",
   "execution_count": 12,
   "id": "1c825780",
   "metadata": {},
   "outputs": [
    {
     "data": {
      "text/plain": [
       "3.1"
      ]
     },
     "execution_count": 12,
     "metadata": {},
     "output_type": "execute_result"
    }
   ],
   "source": [
    "round(22/7,1)"
   ]
  },
  {
   "cell_type": "code",
   "execution_count": 13,
   "id": "20f660ab",
   "metadata": {},
   "outputs": [
    {
     "data": {
      "text/plain": [
       "3.1429"
      ]
     },
     "execution_count": 13,
     "metadata": {},
     "output_type": "execute_result"
    }
   ],
   "source": [
    "\"\"\"\n",
    "Gördüğünüz gibi, round() fonksiyonuna verdiğimiz ikinci\n",
    "parametre, yuvarlama işleminin ne kadar hassas olacağını belirliyor.\n",
    "\"\"\"\n",
    "round(22/7,4)"
   ]
  },
  {
   "cell_type": "code",
   "execution_count": 14,
   "id": "a04a327b",
   "metadata": {},
   "outputs": [],
   "source": [
    "\"\"\"\n",
    "all()\n",
    "\n",
    "All kelimesi Türkçede ‘hepsi’ anlamına gelir.\n",
    "Bu fonksiyonun görevi de bu anlamı çağrıştırır.\n",
    "all() fonksiyonunun görevi, bir dizi içinde bulunan \n",
    "bütün değerler True ise True değeri, eğer bu değerlerden\n",
    "herhangi biri False ise de False değeri döndürmektir.\n",
    "\n",
    "Örneğin elimizde şöyle bir liste olduğunu varsayalım:\n",
    "\"\"\"\n",
    "liste = [1, 2, 3, 4]"
   ]
  },
  {
   "cell_type": "code",
   "execution_count": 15,
   "id": "e8e20be0",
   "metadata": {},
   "outputs": [
    {
     "data": {
      "text/plain": [
       "True"
      ]
     },
     "execution_count": 15,
     "metadata": {},
     "output_type": "execute_result"
    }
   ],
   "source": [
    "all(liste)"
   ]
  },
  {
   "cell_type": "code",
   "execution_count": 16,
   "id": "ea43743c",
   "metadata": {},
   "outputs": [
    {
     "data": {
      "text/plain": [
       "False"
      ]
     },
     "execution_count": 16,
     "metadata": {},
     "output_type": "execute_result"
    }
   ],
   "source": [
    "\"\"\"\n",
    "Bildiğiniz gibi, 0 hariç bütün sayıların bool değeri True’dur. \n",
    "Yukarıdaki listede False değeri verebilecek herhangi bir değer \n",
    "bulunmadığından, all() fonksiyonu bu liste için True değerini \n",
    "veriyor. Bir de şuna bakalım:\n",
    "\"\"\"\n",
    "liste = [0, 1, 2, 3, 4]\n",
    "all(liste)"
   ]
  },
  {
   "cell_type": "code",
   "execution_count": 17,
   "id": "d55974d4",
   "metadata": {},
   "outputs": [
    {
     "data": {
      "text/plain": [
       "False"
      ]
     },
     "execution_count": 17,
     "metadata": {},
     "output_type": "execute_result"
    }
   ],
   "source": [
    "\"\"\"\n",
    "Dediğimiz gibi, all() fonksiyonu ancak dizi içindeki bütün \n",
    "değerlerin bool değeri True ise True çıktısı verecektir.\n",
    "\n",
    "Son bir örnek daha verelim:\n",
    "\"\"\"\n",
    "liste = ['ahmet', 'mehmet', '']\n",
    "all(liste)"
   ]
  },
  {
   "cell_type": "code",
   "execution_count": 18,
   "id": "38207750",
   "metadata": {},
   "outputs": [
    {
     "data": {
      "text/plain": [
       "True"
      ]
     },
     "execution_count": 18,
     "metadata": {},
     "output_type": "execute_result"
    }
   ],
   "source": [
    "\"\"\"\n",
    "Listede False değerine sahip bir boş karakter dizisi bulunduğu\n",
    "için all() fonksiyonu False çıktısı veriyor.\n",
    "\n",
    "Bu fonksiyonu her türlü kodun bool değerlerini test etmek için \n",
    "kullanabilirsiniz. Mesela bu fonksiyonu kullanarak, bir nesnenin\n",
    "listelenen özelliklerin hepsine sahip olup olmadığını \n",
    "denetleyebilirsiniz:\n",
    "\"\"\"\n",
    "a = 3\n",
    "t1 = a == 3         #sayı 3 mü?\n",
    "t2 = a < 4          #sayı 4'ten küçük mü?\n",
    "t3 = a % 2 == 1     #sayı bir tek sayı mı?\n",
    "all([t1, t2, t3])   #sayı bu özelliklerin hepsine sahip mi?"
   ]
  },
  {
   "cell_type": "code",
   "execution_count": 24,
   "id": "08e50a10",
   "metadata": {},
   "outputs": [
    {
     "data": {
      "text/plain": [
       "True"
      ]
     },
     "execution_count": 24,
     "metadata": {},
     "output_type": "execute_result"
    }
   ],
   "source": [
    "\"\"\"\n",
    "Listede False değerine sahip bir boş karakter dizisi bulunduğu\n",
    "için all() fonksiyonu False çıktısı veriyor.\n",
    "\n",
    "Bu fonksiyonu her türlü kodun bool değerlerini test etmek için \n",
    "kullanabilirsiniz. Mesela bu fonksiyonu kullanarak, bir nesnenin\n",
    "listelenen özelliklerin hepsine sahip olup olmadığını \n",
    "denetleyebilirsiniz:\n",
    "\"\"\"\n",
    "a = 3\n",
    "t1 = a == 3         #sayı 3 mü?\n",
    "t2 = a < 4          #sayı 4'ten küçük mü?\n",
    "t3 = a % 2 == 1     #sayı bir tek sayı mı?\n",
    "all([t1, t2, t3])   #sayı bu özelliklerin hepsine sahip mi?"
   ]
  },
  {
   "cell_type": "code",
   "execution_count": 25,
   "id": "4cc4c0b5",
   "metadata": {},
   "outputs": [
    {
     "data": {
      "text/plain": [
       "True"
      ]
     },
     "execution_count": 25,
     "metadata": {},
     "output_type": "execute_result"
    }
   ],
   "source": [
    "a = 3\n",
    "t1 = a == 3   \n",
    "t2 = a < 4   \n",
    "t3 = a % 2 == 1 \n",
    "all([t1])"
   ]
  },
  {
   "cell_type": "code",
   "execution_count": 29,
   "id": "dd7d259d",
   "metadata": {},
   "outputs": [
    {
     "data": {
      "text/plain": [
       "True"
      ]
     },
     "execution_count": 29,
     "metadata": {},
     "output_type": "execute_result"
    }
   ],
   "source": [
    "\"\"\"\n",
    "any()\n",
    "Any kelimesi İngilizcede ‘herhangi bir’ anlamına gelir.\n",
    "İşte any() fonksiyonunun görevi de, bir dizi içindeki \n",
    "bütün değerlerden en az biri True ise True çıktısı vermektir.\n",
    "ALL FONKSİYONUNUN TERSİ Fakat sadece bir true olması yeter.\n",
    "\"\"\"\n",
    "liste = [0, 1, 2, 3, 4]\n",
    "any(liste)"
   ]
  },
  {
   "cell_type": "code",
   "execution_count": 30,
   "id": "96615068",
   "metadata": {},
   "outputs": [
    {
     "data": {
      "text/plain": [
       "True"
      ]
     },
     "execution_count": 30,
     "metadata": {},
     "output_type": "execute_result"
    }
   ],
   "source": [
    "liste = ['ahmet', 'mehmet', '']\n",
    "any(liste)"
   ]
  },
  {
   "cell_type": "code",
   "execution_count": 31,
   "id": "8a9e9240",
   "metadata": {},
   "outputs": [
    {
     "data": {
      "text/plain": [
       "False"
      ]
     },
     "execution_count": 31,
     "metadata": {},
     "output_type": "execute_result"
    }
   ],
   "source": [
    "l = ['', 0, [], (), set(), dict()]\n",
    "any(l)"
   ]
  },
  {
   "cell_type": "code",
   "execution_count": 32,
   "id": "7e23b9ac",
   "metadata": {},
   "outputs": [
    {
     "name": "stdout",
     "output_type": "stream",
     "text": [
      "'istihza'\n"
     ]
    },
    {
     "data": {
      "text/plain": [
       "'istihza'"
      ]
     },
     "execution_count": 32,
     "metadata": {},
     "output_type": "execute_result"
    }
   ],
   "source": [
    "\"\"\"\n",
    "ascii()\n",
    "Bu fonksiyon, bir nesnenin ekrana basılabilir\n",
    "halini verir bize. Dilerseniz bu fonksiyonun yaptığı \n",
    "işi tanımlamak yerine bunu bir örnek üzerinden anlatmaya çalışalım:\n",
    "\"\"\"\n",
    "a = 'istihza'\n",
    "print(ascii(a))\n",
    "\n",
    "'istihza'"
   ]
  },
  {
   "cell_type": "code",
   "execution_count": 33,
   "id": "6f9bf946",
   "metadata": {},
   "outputs": [
    {
     "name": "stdout",
     "output_type": "stream",
     "text": [
      "\n",
      "\n"
     ]
    }
   ],
   "source": [
    "\"\"\"\n",
    "Bu fonksiyonun, print() fonksiyonundan farklı olarak,\n",
    "çıktıya tırnak işaretlerini de eklediğine dikkat edin.\n",
    "\n",
    "ascii() fonksiyonunun tam olarak ne yaptığını daha iyi \n",
    "anlamak için herhalde şu örnek daha faydalı olacaktır.\n",
    "\n",
    "Dikkatlice bakın:\n",
    "\"\"\"\n",
    "print('\\n')"
   ]
  },
  {
   "cell_type": "code",
   "execution_count": 35,
   "id": "8113c7ea",
   "metadata": {},
   "outputs": [
    {
     "name": "stdout",
     "output_type": "stream",
     "text": [
      "'\\n'\n"
     ]
    }
   ],
   "source": [
    "\"\"\"\n",
    "Bu komutu verdiğimizde, n kaçış dizisinin etkisiyle\n",
    "yeni satıra geçileceğini biliyorsunuz.\n",
    "\n",
    "Bir de şuna bakın:\n",
    "\"\"\"\n",
    "print(ascii('\\n'))"
   ]
  },
  {
   "cell_type": "code",
   "execution_count": 36,
   "id": "7c7b28b8",
   "metadata": {},
   "outputs": [
    {
     "name": "stdout",
     "output_type": "stream",
     "text": [
      "'\\u0131\\u015f\\u0131k'\n"
     ]
    }
   ],
   "source": [
    "\"\"\"\n",
    "Gördüğünüz gibi, ascii() fonksiyonu, satır başı kaçış \n",
    "dizisinin görevini yapmasını sağlamak yerine bu kaçış \n",
    "dizisinin ekrana basılabilir halini veriyor bize.\n",
    "\n",
    "\n",
    "Ayrıca bu fonksiyon, karakter dizileri içindeki Türkçe\n",
    "karakterlerin de UNICODE temsillerini döndürür. Örneğin:\n",
    "\"\"\"\n",
    "a = 'ışık'\n",
    "print(ascii(a))"
   ]
  },
  {
   "cell_type": "code",
   "execution_count": 37,
   "id": "b19e3b6b",
   "metadata": {},
   "outputs": [
    {
     "name": "stdout",
     "output_type": "stream",
     "text": [
      "'Devrim Tun\\xe7er'\n"
     ]
    }
   ],
   "source": [
    "a=\"Devrim Tunçer\"\n",
    "print(ascii(a))"
   ]
  },
  {
   "cell_type": "code",
   "execution_count": 38,
   "id": "0167f6bd",
   "metadata": {},
   "outputs": [
    {
     "name": "stdout",
     "output_type": "stream",
     "text": [
      "['elma', 'armut', 'erik']\n"
     ]
    }
   ],
   "source": [
    "\"\"\"\n",
    "Gördüğünüz gibi, ascii() fonksiyonu ASCII olmayan karakterlerle \n",
    "karşılaştığında bunların karakter temsilleri yerine UNICODE\n",
    "temsillerini (veya onaltılık sayma düzenindeki karşılıklarını)\n",
    "veriyor.\n",
    "\n",
    "Son olarak şu örneğe bakalım:\n",
    "\"\"\"\n",
    "liste = ['elma', 'armut', 'erik']\n",
    "temsil = ascii(liste)\n",
    "print(temsil)"
   ]
  },
  {
   "cell_type": "code",
   "execution_count": 39,
   "id": "2578c7a9",
   "metadata": {},
   "outputs": [
    {
     "name": "stdout",
     "output_type": "stream",
     "text": [
      "<class 'str'>\n"
     ]
    }
   ],
   "source": [
    "\"\"\"\n",
    "Burada listemiz ascii() fonksiyonuna parametre olarak \n",
    "verildikten sonra artık liste olma özelliğini yitirip \n",
    "bir karakter dizisi haline gelir. Bunu denetleyelim:\n",
    "\"\"\"\n",
    "print(type(temsil))"
   ]
  },
  {
   "cell_type": "code",
   "execution_count": 40,
   "id": "2128370d",
   "metadata": {},
   "outputs": [
    {
     "data": {
      "text/plain": [
       "'['"
      ]
     },
     "execution_count": 40,
     "metadata": {},
     "output_type": "execute_result"
    }
   ],
   "source": [
    "\"\"\"\n",
    "Gördüğünüz gibi, ascii() fonksiyonu listeyi alıp,\n",
    "bunu ekrana basılabilir bir bütün haline getiriyor.\n",
    "Elbette bunun için de, kendisine verilen parametreyi\n",
    "bir karakter dizisine dönüştürüyor.\n",
    "\"\"\"\n",
    "temsil[0]"
   ]
  },
  {
   "cell_type": "code",
   "execution_count": 41,
   "id": "7a494dc8",
   "metadata": {},
   "outputs": [
    {
     "data": {
      "text/plain": [
       "\"'\\\\u015feker'\""
      ]
     },
     "execution_count": 41,
     "metadata": {},
     "output_type": "execute_result"
    }
   ],
   "source": [
    "\"\"\"\n",
    "repr()\n",
    "repr() fonksiyonunun yaptığı iş, biraz önce gördüğümüz ascii() \n",
    "fonksiyonunun yaptığı işe çok benzer. Bu iki fonksiyon, ASCII\n",
    "olmayan karakterlere muameleleri açısından birbirinden ayrılır.\n",
    "\n",
    "Hatırlarsanız ascii() fonksiyonu ASCII olmayan karakterlerle \n",
    "karşılaştığında bunların UNICODE (veya onaltılık) temsillerini\n",
    "gösteriyordu\n",
    "\"\"\"\n",
    "ascii(\"şeker\")"
   ]
  },
  {
   "cell_type": "code",
   "execution_count": 42,
   "id": "8b9cfbf0",
   "metadata": {},
   "outputs": [
    {
     "data": {
      "text/plain": [
       "\"'şeker'\""
      ]
     },
     "execution_count": 42,
     "metadata": {},
     "output_type": "execute_result"
    }
   ],
   "source": [
    "\"\"\"\n",
    "repr() fonksiyonu ise ASCII olmayan karakterlerle karşılaşsa bile,\n",
    "bize çıktı olarak bunların da karakter karşılıklarını gösterir:\n",
    "Geri kalan özellikleri bakımından repr() ve ascii() fonksiyonları\n",
    "birbiriyle aynıdır.\n",
    "\"\"\"\n",
    "repr(\"şeker\")"
   ]
  },
  {
   "cell_type": "code",
   "execution_count": 43,
   "id": "744ded7b",
   "metadata": {},
   "outputs": [
    {
     "data": {
      "text/plain": [
       "False"
      ]
     },
     "execution_count": 43,
     "metadata": {},
     "output_type": "execute_result"
    }
   ],
   "source": [
    "\"\"\"\n",
    "bool()\n",
    "Bu fonksiyon bir nesnenin bool değerini verir:\n",
    "\"\"\"\n",
    "bool(0)"
   ]
  },
  {
   "cell_type": "code",
   "execution_count": 44,
   "id": "f3cdc761",
   "metadata": {},
   "outputs": [
    {
     "data": {
      "text/plain": [
       "True"
      ]
     },
     "execution_count": 44,
     "metadata": {},
     "output_type": "execute_result"
    }
   ],
   "source": [
    "bool(1)"
   ]
  },
  {
   "cell_type": "code",
   "execution_count": 45,
   "id": "c3185512",
   "metadata": {},
   "outputs": [
    {
     "data": {
      "text/plain": [
       "False"
      ]
     },
     "execution_count": 45,
     "metadata": {},
     "output_type": "execute_result"
    }
   ],
   "source": [
    "bool([])"
   ]
  },
  {
   "cell_type": "code",
   "execution_count": 46,
   "id": "95888072",
   "metadata": {},
   "outputs": [
    {
     "data": {
      "text/plain": [
       "'0b1100'"
      ]
     },
     "execution_count": 46,
     "metadata": {},
     "output_type": "execute_result"
    }
   ],
   "source": [
    "\"\"\"\n",
    "bin()\n",
    "Bu fonksiyon, bir sayının ikili düzendeki karşılığını verir:\n",
    "Bu fonksiyonun verdiği çıktının bir sayı değil,\n",
    "karakter dizisi olduğuna dikkat etmelisiniz.\n",
    "\"\"\"\n",
    "bin(12)"
   ]
  },
  {
   "cell_type": "code",
   "execution_count": 47,
   "id": "98c3beb9",
   "metadata": {},
   "outputs": [
    {
     "data": {
      "text/plain": [
       "'0b1'"
      ]
     },
     "execution_count": 47,
     "metadata": {},
     "output_type": "execute_result"
    }
   ],
   "source": [
    "bin(1)"
   ]
  },
  {
   "cell_type": "code",
   "execution_count": 48,
   "id": "81d4a1fa",
   "metadata": {},
   "outputs": [
    {
     "data": {
      "text/plain": [
       "'0b10'"
      ]
     },
     "execution_count": 48,
     "metadata": {},
     "output_type": "execute_result"
    }
   ],
   "source": [
    "bin(2)"
   ]
  },
  {
   "cell_type": "code",
   "execution_count": 49,
   "id": "f474a4b9",
   "metadata": {},
   "outputs": [
    {
     "data": {
      "text/plain": [
       "'0b11'"
      ]
     },
     "execution_count": 49,
     "metadata": {},
     "output_type": "execute_result"
    }
   ],
   "source": [
    "bin(3)"
   ]
  },
  {
   "cell_type": "code",
   "execution_count": 50,
   "id": "f836d0c9",
   "metadata": {},
   "outputs": [
    {
     "data": {
      "text/plain": [
       "'0b100'"
      ]
     },
     "execution_count": 50,
     "metadata": {},
     "output_type": "execute_result"
    }
   ],
   "source": [
    "bin(4)"
   ]
  },
  {
   "cell_type": "code",
   "execution_count": 51,
   "id": "0cdead6e",
   "metadata": {},
   "outputs": [
    {
     "data": {
      "text/plain": [
       "'0b101'"
      ]
     },
     "execution_count": 51,
     "metadata": {},
     "output_type": "execute_result"
    }
   ],
   "source": [
    "bin(5)"
   ]
  },
  {
   "cell_type": "code",
   "execution_count": 52,
   "id": "c9a5c4b1",
   "metadata": {},
   "outputs": [
    {
     "data": {
      "text/plain": [
       "'0b110'"
      ]
     },
     "execution_count": 52,
     "metadata": {},
     "output_type": "execute_result"
    }
   ],
   "source": [
    "bin(6)"
   ]
  },
  {
   "cell_type": "code",
   "execution_count": 53,
   "id": "883b5561",
   "metadata": {},
   "outputs": [
    {
     "data": {
      "text/plain": [
       "'0b111'"
      ]
     },
     "execution_count": 53,
     "metadata": {},
     "output_type": "execute_result"
    }
   ],
   "source": [
    "bin(7)"
   ]
  },
  {
   "cell_type": "code",
   "execution_count": 54,
   "id": "3d09bee1",
   "metadata": {},
   "outputs": [
    {
     "data": {
      "text/plain": [
       "b'\\x00\\x00\\x00\\x00\\x00\\x00\\x00\\x00\\x00\\x00'"
      ]
     },
     "execution_count": 54,
     "metadata": {},
     "output_type": "execute_result"
    }
   ],
   "source": [
    "\"\"\"\n",
    "bytes()\n",
    "Bu fonksiyon bytes türünde nesneler oluşturmak için kullanılır. \n",
    "Bu fonksiyonu ‘bayt’ adlı veri tipini incelerken ayrıntılı olarak \n",
    "ele almıştık. Gelin isterseniz burada da bu fonksiyona şöyle bir\n",
    "değinelim.\n",
    "\n",
    "Dediğimiz gibi, bytes() adlı fonksiyon, bytes türünde veriler\n",
    "oluşturmaya yarar. Bu fonksiyon işlev olarak, daha önce öğrendiğimiz \n",
    "list(), str(), int(), set(), dict() gibi fonksiyonlara çok benzer. \n",
    "Tıpkı bu fonksiyonlar gibi, bytes() fonksiyonunun görevi de farklı\n",
    "veri tiplerini ‘bayt’ adlı veri tipine dönüştürmektir.\n",
    "\n",
    "Bu fonksiyon, kendisine verilen parametrelerin türüne bağlı olarak \n",
    "birbirinden farklı sonuçlar ortaya çıkarır. Örneğin eğer bu fonksiyona\n",
    "parametre olarak bir tam sayı verecek olursanız, bu fonksiyon size\n",
    "o tam sayı miktarınca bir bayt nesnesi verecektir. Gelin isterseniz\n",
    "bu durumu örnekler üzerinde göstermeye çalışalım:\n",
    "\"\"\"\n",
    "bytes(10)"
   ]
  },
  {
   "cell_type": "code",
   "execution_count": 55,
   "id": "5a96481f",
   "metadata": {},
   "outputs": [],
   "source": [
    "a=bytes(10)"
   ]
  },
  {
   "cell_type": "code",
   "execution_count": 56,
   "id": "36260049",
   "metadata": {},
   "outputs": [
    {
     "data": {
      "text/plain": [
       "b'\\x00\\x00\\x00\\x00\\x00\\x00\\x00\\x00\\x00\\x00'"
      ]
     },
     "execution_count": 56,
     "metadata": {},
     "output_type": "execute_result"
    }
   ],
   "source": [
    "a"
   ]
  },
  {
   "cell_type": "code",
   "execution_count": 57,
   "id": "6baa5caa",
   "metadata": {},
   "outputs": [
    {
     "data": {
      "text/plain": [
       "0"
      ]
     },
     "execution_count": 57,
     "metadata": {},
     "output_type": "execute_result"
    }
   ],
   "source": [
    "a[0]"
   ]
  },
  {
   "cell_type": "code",
   "execution_count": 59,
   "id": "7e39716a",
   "metadata": {},
   "outputs": [
    {
     "data": {
      "text/plain": [
       "0"
      ]
     },
     "execution_count": 59,
     "metadata": {},
     "output_type": "execute_result"
    }
   ],
   "source": [
    "a[7]"
   ]
  },
  {
   "cell_type": "code",
   "execution_count": 61,
   "id": "4b086166",
   "metadata": {},
   "outputs": [
    {
     "data": {
      "text/plain": [
       "0"
      ]
     },
     "execution_count": 61,
     "metadata": {},
     "output_type": "execute_result"
    }
   ],
   "source": [
    "a[9]"
   ]
  },
  {
   "cell_type": "code",
   "execution_count": 62,
   "id": "11fd339c",
   "metadata": {},
   "outputs": [
    {
     "ename": "TypeError",
     "evalue": "string argument without an encoding",
     "output_type": "error",
     "traceback": [
      "\u001b[0;31m---------------------------------------------------------------------------\u001b[0m",
      "\u001b[0;31mTypeError\u001b[0m                                 Traceback (most recent call last)",
      "\u001b[0;32m/tmp/ipykernel_111102/2976311722.py\u001b[0m in \u001b[0;36m<module>\u001b[0;34m\u001b[0m\n\u001b[1;32m     11\u001b[0m \u001b[0mHemen\u001b[0m \u001b[0mgörelim\u001b[0m\u001b[0;34m:\u001b[0m\u001b[0;34m\u001b[0m\u001b[0;34m\u001b[0m\u001b[0m\n\u001b[1;32m     12\u001b[0m \"\"\"\n\u001b[0;32m---> 13\u001b[0;31m \u001b[0mbytes\u001b[0m\u001b[0;34m(\u001b[0m\u001b[0;34m\"devrim\"\u001b[0m\u001b[0;34m)\u001b[0m\u001b[0;34m\u001b[0m\u001b[0;34m\u001b[0m\u001b[0m\n\u001b[0m",
      "\u001b[0;31mTypeError\u001b[0m: string argument without an encoding"
     ]
    }
   ],
   "source": [
    "\"\"\"\n",
    "Gördüğünüz gibi, bytes(10) komutuyla oluşturduğumuz a \n",
    "değişkeni içinde toplam 10 adet bayt var ve bu baytların her \n",
    "birinin değeri 0.\n",
    "\n",
    "Yukarıda, bytes() fonksiyonuna bir tam sayı değerli \n",
    "parametre verdiğimizde nasıl bir sonuç alacağımızı öğrendik.\n",
    "Peki biz bu fonksiyona parametre olarak bir karakter dizisi \n",
    "verirsek ne olur?\n",
    "\n",
    "Hemen görelim:\n",
    "\"\"\"\n",
    "bytes(\"devrim\")"
   ]
  },
  {
   "cell_type": "code",
   "execution_count": 64,
   "id": "ef192b5a",
   "metadata": {},
   "outputs": [
    {
     "data": {
      "text/plain": [
       "b'\\xc4\\xb1\\xc5\\x9f\\xc4\\xb1k'"
      ]
     },
     "execution_count": 64,
     "metadata": {},
     "output_type": "execute_result"
    }
   ],
   "source": [
    "\"\"\"\n",
    "Bu fonksiyona karakter dizilerini doğrudan parametre olarak\n",
    "veremeyiz. Eğer verirsek yukarıdaki gibi bir hata alırız.\n",
    "Peki acaba bu hatayı almamızın nedeni ne olabilir?\n",
    "\n",
    "Dediğimiz gibi, bytes() fonksiyonu, çeşitli veri tiplerini \n",
    "bayta dönüştürmeye yarar. Ancak bildiğiniz gibi,\n",
    "bayta dönüştürme işlemi her kod çözücü tarafından\n",
    "farklı biçimde yapılır. Örneğin:\n",
    "\"\"\"\n",
    "\"ışık\".encode(\"utf-8\")"
   ]
  },
  {
   "cell_type": "code",
   "execution_count": 65,
   "id": "b2da4646",
   "metadata": {},
   "outputs": [
    {
     "data": {
      "text/plain": [
       "b'\\x8d\\x9f\\x8dk'"
      ]
     },
     "execution_count": 65,
     "metadata": {},
     "output_type": "execute_result"
    }
   ],
   "source": [
    "'ışık'.encode('cp857')"
   ]
  },
  {
   "cell_type": "code",
   "execution_count": 66,
   "id": "6e6770d8",
   "metadata": {},
   "outputs": [
    {
     "data": {
      "text/plain": [
       "b'\\xfd\\xfe\\xfdk'"
      ]
     },
     "execution_count": 66,
     "metadata": {},
     "output_type": "execute_result"
    }
   ],
   "source": [
    "'ışık'.encode('cp1254')\n"
   ]
  },
  {
   "cell_type": "code",
   "execution_count": 67,
   "id": "aca62e48",
   "metadata": {},
   "outputs": [
    {
     "data": {
      "text/plain": [
       "b'\\xc4\\xb1\\xc5\\x9f\\xc4\\xb1k'"
      ]
     },
     "execution_count": 67,
     "metadata": {},
     "output_type": "execute_result"
    }
   ],
   "source": [
    "\"\"\"\n",
    "Dolayısıyla, bytes() fonksiyonunun bir karakter dizisini\n",
    "bayta çevirirken nasıl davranması gerektiğini anlayabilmesi\n",
    "için, bayta dönüştürme işlemini hangi kod çözücü ile yapmak\n",
    "istediğimizi açıkça belirtmemiz gerekir:\n",
    "\"\"\"\n",
    "bytes(\"ışık\",\"utf-8\")"
   ]
  },
  {
   "cell_type": "code",
   "execution_count": 68,
   "id": "86a4c877",
   "metadata": {},
   "outputs": [
    {
     "data": {
      "text/plain": [
       "b'\\xfd\\xfe\\xfdk'"
      ]
     },
     "execution_count": 68,
     "metadata": {},
     "output_type": "execute_result"
    }
   ],
   "source": [
    "bytes('ışık', 'cp1254')"
   ]
  },
  {
   "cell_type": "code",
   "execution_count": 69,
   "id": "68dcd7e6",
   "metadata": {},
   "outputs": [
    {
     "data": {
      "text/plain": [
       "b'\\x8d\\x9f\\x8dk'"
      ]
     },
     "execution_count": 69,
     "metadata": {},
     "output_type": "execute_result"
    }
   ],
   "source": [
    "bytes('ışık', 'cp857')"
   ]
  },
  {
   "cell_type": "code",
   "execution_count": 1,
   "id": "6d5ab249",
   "metadata": {},
   "outputs": [
    {
     "data": {
      "text/plain": [
       "b'istizha'"
      ]
     },
     "execution_count": 1,
     "metadata": {},
     "output_type": "execute_result"
    }
   ],
   "source": [
    "\"\"\"\n",
    "Gördüğünüz gibi, bytes() fonksiyonuna parametre olarak bir karakter \n",
    "dizisi verebilmek için, bu karakter dizisi ile birlikte bir\n",
    "kod çözücü de belirtmemiz gerekiyor. Böylece bytes() fonksiyonu\n",
    "kendisine verdiğimiz karakter dizisini, belirttiğimiz kod\n",
    "çözücünün kurallarına göre bayta dönüştürüyor.\n",
    "\n",
    "Bu arada, çıktıda görünen ‘b’ harflerinin, elimizdeki verinin \n",
    "bir bayt olduğunu gösteren bir işaret olduğunu biliyorsunuz.\n",
    "\n",
    "Ayrıca, bytes() fonksiyonuna verdiğimiz ikinci parametrenin \n",
    "isminin encoding olduğunu ve bu parametreyi isimli bir \n",
    "parametre olarak da kullanabileceğimizi belirtelim:\n",
    "\"\"\"\n",
    "bytes(\"istizha\",encoding=(\"ascii\"))"
   ]
  },
  {
   "cell_type": "code",
   "execution_count": 74,
   "id": "dba1ec32",
   "metadata": {},
   "outputs": [
    {
     "ename": "UnicodeEncodeError",
     "evalue": "'ascii' codec can't encode character '\\u015f' in position 0: ordinal not in range(128)",
     "output_type": "error",
     "traceback": [
      "\u001b[0;31m---------------------------------------------------------------------------\u001b[0m",
      "\u001b[0;31mUnicodeEncodeError\u001b[0m                        Traceback (most recent call last)",
      "\u001b[0;32m/tmp/ipykernel_111102/3329238990.py\u001b[0m in \u001b[0;36m<module>\u001b[0;34m\u001b[0m\n\u001b[1;32m      9\u001b[0m \u001b[0;34m\u001b[0m\u001b[0m\n\u001b[1;32m     10\u001b[0m \"\"\"\n\u001b[0;32m---> 11\u001b[0;31m \u001b[0mbytes\u001b[0m\u001b[0;34m(\u001b[0m\u001b[0;34m'şeker'\u001b[0m\u001b[0;34m,\u001b[0m \u001b[0;34m'ascii'\u001b[0m\u001b[0;34m)\u001b[0m\u001b[0;34m\u001b[0m\u001b[0;34m\u001b[0m\u001b[0m\n\u001b[0m",
      "\u001b[0;31mUnicodeEncodeError\u001b[0m: 'ascii' codec can't encode character '\\u015f' in position 0: ordinal not in range(128)"
     ]
    }
   ],
   "source": [
    "\"\"\"\n",
    "Bu noktada size şöyle bir soru sorayım: \n",
    "Acaba bytes() fonksiyonuna ilk parametre \n",
    "olarak verdiğimiz karakter dizisi, ikinci \n",
    "parametrede belirttiğimiz kod çözücü tarafından tanınmazsa ne olur?\n",
    "\n",
    "Cevabı tahmin edebilirsiniz: Böyle bir durumda \n",
    "elbette Python bize bir hata mesajı gösterir:\n",
    "\n",
    "\"\"\"\n",
    "bytes('şeker', 'ascii')"
   ]
  },
  {
   "cell_type": "code",
   "execution_count": 78,
   "id": "0d31b2de",
   "metadata": {},
   "outputs": [
    {
     "data": {
      "text/plain": [
       "b'???k'"
      ]
     },
     "execution_count": 78,
     "metadata": {},
     "output_type": "execute_result"
    }
   ],
   "source": [
    "\"\"\"\n",
    "ş’ harfi ‘ASCII’ karakter kümesinde; ‘€’ işareti ise ‘CP857’ \n",
    "adlı karakter kümesinde tanımlanmamış birer karakter olduğu \n",
    "için, ilgili kod çözücüler bu karakterleri çözüp bayta \n",
    "dönüştüremiyor. Yazdığımız kodların bu tür durumlarda \n",
    "tamamen çökmesini engellemek için, önceki derslerimizde de \n",
    "çeşitli vesilelerle öğrenmiş olduğumuz errors adlı bir parametreden \n",
    "yararlanabiliriz:\n",
    "\"\"\"\n",
    "bytes('ışık', encoding='ascii', errors='replace')"
   ]
  },
  {
   "cell_type": "code",
   "execution_count": 79,
   "id": "1577547d",
   "metadata": {},
   "outputs": [
    {
     "data": {
      "text/plain": [
       "b'?eker'"
      ]
     },
     "execution_count": 79,
     "metadata": {},
     "output_type": "execute_result"
    }
   ],
   "source": [
    "bytes('şeker', encoding='ascii', errors='replace')"
   ]
  },
  {
   "cell_type": "code",
   "execution_count": 80,
   "id": "0669d746",
   "metadata": {},
   "outputs": [
    {
     "data": {
      "text/plain": [
       "b'?'"
      ]
     },
     "execution_count": 80,
     "metadata": {},
     "output_type": "execute_result"
    }
   ],
   "source": [
    "bytes('€', encoding='cp857', errors='replace')"
   ]
  },
  {
   "cell_type": "code",
   "execution_count": 81,
   "id": "72a3919a",
   "metadata": {},
   "outputs": [
    {
     "data": {
      "text/plain": [
       "b''"
      ]
     },
     "execution_count": 81,
     "metadata": {},
     "output_type": "execute_result"
    }
   ],
   "source": [
    "bytes('€', encoding='cp857', errors='ignore')"
   ]
  },
  {
   "cell_type": "code",
   "execution_count": 82,
   "id": "29351c76",
   "metadata": {},
   "outputs": [
    {
     "data": {
      "text/plain": [
       "b'&#8364;'"
      ]
     },
     "execution_count": 82,
     "metadata": {},
     "output_type": "execute_result"
    }
   ],
   "source": [
    "bytes('€', encoding='cp857', errors='xmlcharrefreplace')\n"
   ]
  },
  {
   "cell_type": "code",
   "execution_count": 83,
   "id": "00fcdd45",
   "metadata": {},
   "outputs": [
    {
     "data": {
      "text/plain": [
       "b'\\x9feker'"
      ]
     },
     "execution_count": 83,
     "metadata": {},
     "output_type": "execute_result"
    }
   ],
   "source": [
    "bytes('şeker', encoding='cp857', errors='xmlcharrefreplace')"
   ]
  },
  {
   "cell_type": "code",
   "execution_count": null,
   "id": "eedddb2c",
   "metadata": {},
   "outputs": [
    {
     "data": {
      "text/plain": [
       "b'A\\n\\x0c\\x0b\\x0fB'"
      ]
     },
     "execution_count": 84,
     "metadata": {},
     "output_type": "execute_result"
    }
   ],
   "source": [
    "\"\"\"\n",
    "Gördüğünüz gibi, errors parametresine verdiğimiz çeşitli değerler\n",
    "yardımıyla, bytes() fonksiyonunun, encoding parametresinde belirtilen\n",
    "kod çözücü ile çözülemeyen karakterlerle karşılaştığında nasıl\n",
    "davranacağını belirleyebiliyoruz.\n",
    "\n",
    "\n",
    "errors parametresine verdiğimiz bütün bu değerleri önceki\n",
    "derslerimizde öğrenmiştik. Dolayısıyla yukarıda gösterdiğimiz\n",
    "kodları rahatlıkla anlayabilecek kadar Python bilgisine sahibiz.\n",
    "\n",
    "Son olarak, bytes() fonksiyonuna parametre olarak 0-256 arası\n",
    "sayılardan oluşan diziler de verebiliriz:\n",
    "Bu yapı içinde Python, 0 ile 128 arası sayılar için standart \n",
    "ASCII tablosunu, 128 ile 256 arası sayılar için ise Latin-1 \n",
    "karakter kümesini temel alarak sayıları birer bayta dönüştürecektir.\n",
    "\"\"\"\n",
    "bytes([65, 10, 12, 11, 15, 66])"
   ]
  },
  {
   "cell_type": "code",
   "execution_count": 2,
   "id": "43698859",
   "metadata": {},
   "outputs": [],
   "source": [
    "\"\"\"\n",
    "bytearray()\n",
    "Bildiğiniz gibi baytlar değiştirilemeyen bir veri tipidir. \n",
    "Dolayısıyla bir bayt veri tipi üzerinde herhangi bir değişiklik\n",
    "yapamayız. Örneğin bir baytın herhangi bir öğesini başka bir \n",
    "değerle değiştiremeyiz:\n",
    "\"\"\"\n",
    "a = bytes('istihza', 'ascii')"
   ]
  },
  {
   "cell_type": "code",
   "execution_count": 3,
   "id": "c3299e5e",
   "metadata": {},
   "outputs": [
    {
     "data": {
      "text/plain": [
       "105"
      ]
     },
     "execution_count": 3,
     "metadata": {},
     "output_type": "execute_result"
    }
   ],
   "source": [
    "a[0]"
   ]
  },
  {
   "cell_type": "code",
   "execution_count": 4,
   "id": "2f859033",
   "metadata": {},
   "outputs": [
    {
     "ename": "TypeError",
     "evalue": "'bytes' object does not support item assignment",
     "output_type": "error",
     "traceback": [
      "\u001b[0;31m---------------------------------------------------------------------------\u001b[0m",
      "\u001b[0;31mTypeError\u001b[0m                                 Traceback (most recent call last)",
      "Cell \u001b[0;32mIn[4], line 1\u001b[0m\n\u001b[0;32m----> 1\u001b[0m \u001b[43ma\u001b[49m\u001b[43m[\u001b[49m\u001b[38;5;241;43m0\u001b[39;49m\u001b[43m]\u001b[49m\u001b[38;5;241m=\u001b[39m\u001b[38;5;241m106\u001b[39m\n",
      "\u001b[0;31mTypeError\u001b[0m: 'bytes' object does not support item assignment"
     ]
    }
   ],
   "source": [
    "a[0]=106"
   ]
  },
  {
   "cell_type": "code",
   "execution_count": 88,
   "id": "e4822ec2",
   "metadata": {},
   "outputs": [],
   "source": [
    "\"\"\"\n",
    "Ama eğer hem baytlarla çalışmak, hem de bu baytların \n",
    "üzerinde değişiklik yapabilmek isterseniz baytlar \n",
    "yerine bayt dizileri ile çalışabilirsiniz. İşte \n",
    "bunun için bytearray() adlı bir fonksiyondan yararlanıyoruz.\n",
    "\n",
    "Yaptıkları iş bakımından bytearray() ve bytes()\n",
    "fonksiyonları birbirlerine çok benzer. Bu ikisi \n",
    "arasındaki tek fark, bytearray() ile oluşturulan \n",
    "veri tipinin, bytes() ile oluşturulan veri tipinin\n",
    "aksine, değiştirilebilir nitelikte olmasıdır:\n",
    "\"\"\"\n",
    "a = bytearray('adana', 'ascii')"
   ]
  },
  {
   "cell_type": "code",
   "execution_count": 89,
   "id": "feb43e4e",
   "metadata": {},
   "outputs": [
    {
     "data": {
      "text/plain": [
       "bytearray(b'adana')"
      ]
     },
     "execution_count": 89,
     "metadata": {},
     "output_type": "execute_result"
    }
   ],
   "source": [
    "a"
   ]
  },
  {
   "cell_type": "code",
   "execution_count": 90,
   "id": "0121478a",
   "metadata": {},
   "outputs": [],
   "source": [
    "a[0] = 65"
   ]
  },
  {
   "cell_type": "code",
   "execution_count": 92,
   "id": "95fda94d",
   "metadata": {},
   "outputs": [
    {
     "data": {
      "text/plain": [
       "bytearray(b'Adana')"
      ]
     },
     "execution_count": 92,
     "metadata": {},
     "output_type": "execute_result"
    }
   ],
   "source": [
    "a"
   ]
  },
  {
   "cell_type": "code",
   "execution_count": 93,
   "id": "aede38c0",
   "metadata": {},
   "outputs": [
    {
     "data": {
      "text/plain": [
       "'\\n'"
      ]
     },
     "execution_count": 93,
     "metadata": {},
     "output_type": "execute_result"
    }
   ],
   "source": [
    "\"\"\"\n",
    "chr()\n",
    "Bu fonksiyon, kendisine parametre olarak verilen bir tam \n",
    "sayının karakter karşılığını döndürür. Örneğin:\n",
    "Bildiğiniz gibi 10 sayısının karakter karşılığı satır\n",
    "başı karakteridir. Bir de şuna bakalım:\n",
    "\"\"\"\n",
    "chr(10)"
   ]
  },
  {
   "cell_type": "code",
   "execution_count": 94,
   "id": "8c97d69a",
   "metadata": {},
   "outputs": [
    {
     "data": {
      "text/plain": [
       "'A'"
      ]
     },
     "execution_count": 94,
     "metadata": {},
     "output_type": "execute_result"
    }
   ],
   "source": [
    "chr(65)"
   ]
  },
  {
   "cell_type": "code",
   "execution_count": 95,
   "id": "249d071a",
   "metadata": {},
   "outputs": [
    {
     "data": {
      "text/plain": [
       "'ı'"
      ]
     },
     "execution_count": 95,
     "metadata": {},
     "output_type": "execute_result"
    }
   ],
   "source": [
    "\"\"\"\n",
    "Bu fonksiyon sayıları karakterlere dönüştürürken \n",
    "ASCII sistemini değil, UNICODE sistemini temel alır.\n",
    "Dolayısıyla bu fonksiyon ile 128 (veya 255) üstü sayıları\n",
    "da dönüştürebiliriz. Örneğin:\n",
    "\"\"\"\n",
    "chr(305)"
   ]
  },
  {
   "cell_type": "code",
   "execution_count": 98,
   "id": "5709b843",
   "metadata": {},
   "outputs": [
    {
     "name": "stdout",
     "output_type": "stream",
     "text": [
      "[]\n"
     ]
    }
   ],
   "source": [
    "\"\"\"\n",
    "list()\n",
    "Bu fonksiyon iki farklı amaç için kullanılabilir:\n",
    "\n",
    "Liste tipinde bir veri oluşturmak\n",
    "\n",
    "Farklı veri tiplerini liste adlı veri tipine dönüştürmek\n",
    "\n",
    "Birinci amaç için bu fonksiyonu şu şekilde kullanıyoruz:\n",
    "\n",
    "\n",
    "\"\"\"\n",
    "liste=list()\n",
    "print(liste)"
   ]
  },
  {
   "cell_type": "code",
   "execution_count": 99,
   "id": "00422122",
   "metadata": {},
   "outputs": [
    {
     "name": "stdout",
     "output_type": "stream",
     "text": [
      "[1, 2, 3, 4, 5, 6, 7, 8, 9]\n"
     ]
    }
   ],
   "source": [
    "liste=list(range(1,10))\n",
    "print(liste)"
   ]
  },
  {
   "cell_type": "code",
   "execution_count": 100,
   "id": "edb66313",
   "metadata": {},
   "outputs": [],
   "source": [
    "demet=tuple(range(1,10))"
   ]
  },
  {
   "cell_type": "code",
   "execution_count": 103,
   "id": "209d145a",
   "metadata": {},
   "outputs": [
    {
     "data": {
      "text/plain": [
       "(1, 2, 3, 4, 5, 6, 7, 8, 9)"
      ]
     },
     "execution_count": 103,
     "metadata": {},
     "output_type": "execute_result"
    }
   ],
   "source": [
    "demet"
   ]
  },
  {
   "cell_type": "code",
   "execution_count": 104,
   "id": "fa6a2459",
   "metadata": {},
   "outputs": [
    {
     "data": {
      "text/plain": [
       "tuple"
      ]
     },
     "execution_count": 104,
     "metadata": {},
     "output_type": "execute_result"
    }
   ],
   "source": [
    "type(demet)"
   ]
  },
  {
   "cell_type": "code",
   "execution_count": 105,
   "id": "10e6d2fc",
   "metadata": {},
   "outputs": [],
   "source": [
    "liste=list(demet)"
   ]
  },
  {
   "cell_type": "code",
   "execution_count": 106,
   "id": "e5a9f34a",
   "metadata": {},
   "outputs": [
    {
     "data": {
      "text/plain": [
       "[1, 2, 3, 4, 5, 6, 7, 8, 9]"
      ]
     },
     "execution_count": 106,
     "metadata": {},
     "output_type": "execute_result"
    }
   ],
   "source": [
    "liste"
   ]
  },
  {
   "cell_type": "code",
   "execution_count": 107,
   "id": "c13f36eb",
   "metadata": {},
   "outputs": [
    {
     "data": {
      "text/plain": [
       "list"
      ]
     },
     "execution_count": 107,
     "metadata": {},
     "output_type": "execute_result"
    }
   ],
   "source": [
    "type(liste)"
   ]
  },
  {
   "cell_type": "code",
   "execution_count": 108,
   "id": "65990b94",
   "metadata": {},
   "outputs": [],
   "source": [
    "\"\"\"\n",
    "set()\n",
    "set() fonksiyonu list() fonksiyonuna çok benzer. \n",
    "Bu fonksiyon da tıpkı list() fonksiyonu gibi, veri\n",
    "tipleri arasında dönüştürme işlemleri gerçekleştirmek \n",
    "için kullanılabilir. set() fonksiyonunun görevi farklı \n",
    "veri tiplerini kümeye dönüştürmektir:\n",
    "\"\"\"\n",
    "küme=set(demet)"
   ]
  },
  {
   "cell_type": "code",
   "execution_count": 109,
   "id": "f845d1a1",
   "metadata": {},
   "outputs": [
    {
     "data": {
      "text/plain": [
       "{1, 2, 3, 4, 5, 6, 7, 8, 9}"
      ]
     },
     "execution_count": 109,
     "metadata": {},
     "output_type": "execute_result"
    }
   ],
   "source": [
    "küme"
   ]
  },
  {
   "cell_type": "code",
   "execution_count": 110,
   "id": "532b845e",
   "metadata": {},
   "outputs": [
    {
     "data": {
      "text/plain": [
       "set"
      ]
     },
     "execution_count": 110,
     "metadata": {},
     "output_type": "execute_result"
    }
   ],
   "source": [
    "type(küme)"
   ]
  },
  {
   "cell_type": "code",
   "execution_count": 111,
   "id": "9d9deaf7",
   "metadata": {},
   "outputs": [],
   "source": [
    "\"\"\"\n",
    "tuple()\n",
    "tuple() fonksiyonu da, tıpkı list(), set() ve benzerleri \n",
    "gibi bir dönüştürücü fonksiyondur. Bu fonksiyon farklı veri \n",
    "tiplerini demete dönüştürür:\n",
    "\"\"\"\n",
    "demet=tuple(demet)"
   ]
  },
  {
   "cell_type": "code",
   "execution_count": 112,
   "id": "6b1c1855",
   "metadata": {},
   "outputs": [
    {
     "data": {
      "text/plain": [
       "(1, 2, 3, 4, 5, 6, 7, 8, 9)"
      ]
     },
     "execution_count": 112,
     "metadata": {},
     "output_type": "execute_result"
    }
   ],
   "source": [
    "demet"
   ]
  },
  {
   "cell_type": "code",
   "execution_count": 113,
   "id": "4fb7c679",
   "metadata": {},
   "outputs": [
    {
     "data": {
      "text/plain": [
       "tuple"
      ]
     },
     "execution_count": 113,
     "metadata": {},
     "output_type": "execute_result"
    }
   ],
   "source": [
    "type(demet)"
   ]
  },
  {
   "cell_type": "code",
   "execution_count": 114,
   "id": "f552eb7f",
   "metadata": {},
   "outputs": [],
   "source": [
    "\"\"\"\n",
    "frozenset()\n",
    "Bu fonksiyonu kullanarak farklı veri tiplerini \n",
    "dondurulmuş kümeye dönüştürebilirsiniz:\n",
    "\"\"\"\n",
    "df=frozenset(demet)"
   ]
  },
  {
   "cell_type": "code",
   "execution_count": 115,
   "id": "85424a7e",
   "metadata": {},
   "outputs": [
    {
     "data": {
      "text/plain": [
       "frozenset({1, 2, 3, 4, 5, 6, 7, 8, 9})"
      ]
     },
     "execution_count": 115,
     "metadata": {},
     "output_type": "execute_result"
    }
   ],
   "source": [
    "df"
   ]
  },
  {
   "cell_type": "code",
   "execution_count": 117,
   "id": "21e32b79",
   "metadata": {},
   "outputs": [
    {
     "ename": "TypeError",
     "evalue": "'frozenset' object is not subscriptable",
     "output_type": "error",
     "traceback": [
      "\u001b[0;31m---------------------------------------------------------------------------\u001b[0m",
      "\u001b[0;31mTypeError\u001b[0m                                 Traceback (most recent call last)",
      "\u001b[0;32m/tmp/ipykernel_111102/1141956011.py\u001b[0m in \u001b[0;36m<module>\u001b[0;34m\u001b[0m\n\u001b[0;32m----> 1\u001b[0;31m \u001b[0mdf\u001b[0m\u001b[0;34m[\u001b[0m\u001b[0;36m0\u001b[0m\u001b[0;34m]\u001b[0m\u001b[0;34m[\u001b[0m\u001b[0;36m1\u001b[0m\u001b[0;34m]\u001b[0m\u001b[0;34m\u001b[0m\u001b[0;34m\u001b[0m\u001b[0m\n\u001b[0m",
      "\u001b[0;31mTypeError\u001b[0m: 'frozenset' object is not subscriptable"
     ]
    }
   ],
   "source": [
    "df[0]"
   ]
  },
  {
   "cell_type": "code",
   "execution_count": 118,
   "id": "0aaed711",
   "metadata": {},
   "outputs": [
    {
     "data": {
      "text/plain": [
       "(12+0j)"
      ]
     },
     "execution_count": 118,
     "metadata": {},
     "output_type": "execute_result"
    }
   ],
   "source": [
    "\"\"\"\n",
    "complex()\n",
    "Sayılardan söz ederken, eğer matematikle çok fazla \n",
    "içli dışlı değilseniz pek karşılaşmayacağınız, \n",
    "‘karmaşık sayı’ adlı bir sayı türünden de bahsetmiştik.\n",
    "Karmaşık sayılar, bir gerçek, bir de sanal kısımdan oluşan sayılardır.\n",
    "\n",
    "Karmaşık sayılar Python’da ‘complex’ ifadesiyle gösteriliyor.\n",
    "Mesela şu bir karmaşık sayıdır:\n",
    "\"\"\"\n",
    "12+0j"
   ]
  },
  {
   "cell_type": "code",
   "execution_count": 119,
   "id": "2c3999a1",
   "metadata": {},
   "outputs": [
    {
     "data": {
      "text/plain": [
       "complex"
      ]
     },
     "execution_count": 119,
     "metadata": {},
     "output_type": "execute_result"
    }
   ],
   "source": [
    "type(12+2j)"
   ]
  },
  {
   "cell_type": "code",
   "execution_count": 120,
   "id": "ad612afa",
   "metadata": {},
   "outputs": [
    {
     "data": {
      "text/plain": [
       "(15+0j)"
      ]
     },
     "execution_count": 120,
     "metadata": {},
     "output_type": "execute_result"
    }
   ],
   "source": [
    "\"\"\"\n",
    "İşte eğer herhangi bir sayıyı karmaşık sayıya \n",
    "dönüştürmeniz gerekirse complex() adlı bir fonksiyondan\n",
    "yararlanabilirsiniz. Örneğin:\n",
    "FLOAT İNTEGER COMPLEX\n",
    "\"\"\"\n",
    "complex(15)"
   ]
  },
  {
   "cell_type": "code",
   "execution_count": 121,
   "id": "511fe9d8",
   "metadata": {},
   "outputs": [
    {
     "data": {
      "text/plain": [
       "(15+2j)"
      ]
     },
     "execution_count": 121,
     "metadata": {},
     "output_type": "execute_result"
    }
   ],
   "source": [
    "\"\"\"\n",
    "Böyle bir kod yazdığımızda, verdiğimiz parametre \n",
    "karmaşık sayının gerçek kısmını oluşturacak, sanal kısım\n",
    "ise 0 olarak kabul edilecektir. Elbette isterseniz sanal kısmı \n",
    "kendiniz de belirleyebilirsiniz:\n",
    "\"\"\"\n",
    "complex(15, 2)"
   ]
  },
  {
   "cell_type": "code",
   "execution_count": 122,
   "id": "1d815db3",
   "metadata": {},
   "outputs": [
    {
     "data": {
      "text/plain": [
       "134.0"
      ]
     },
     "execution_count": 122,
     "metadata": {},
     "output_type": "execute_result"
    }
   ],
   "source": [
    "\"\"\"\n",
    "float()\n",
    "Bu fonksiyonu, sayıları veya karakter dizilerini kayan noktalı\n",
    "sayıya dönüştürmek için kullanıyoruz:\n",
    "\"\"\"\n",
    "float(\"134\")"
   ]
  },
  {
   "cell_type": "code",
   "execution_count": 123,
   "id": "38522f6f",
   "metadata": {},
   "outputs": [
    {
     "data": {
      "text/plain": [
       "12.0"
      ]
     },
     "execution_count": 123,
     "metadata": {},
     "output_type": "execute_result"
    }
   ],
   "source": [
    "float(12)"
   ]
  },
  {
   "cell_type": "code",
   "execution_count": 124,
   "id": "af2c2c23",
   "metadata": {},
   "outputs": [
    {
     "data": {
      "text/plain": [
       "10"
      ]
     },
     "execution_count": 124,
     "metadata": {},
     "output_type": "execute_result"
    }
   ],
   "source": [
    "\"\"\"\n",
    "int()\n",
    "Bu fonksiyon birkaç farklı amaç için kullanılabilir.\n",
    "int() fonksiyonunun en temel görevi, bir karakter dizisi \n",
    "veya kayan noktalı sayıyı (eğer mümkünse) tam sayıya dönüştürmektir:\n",
    "\"\"\"\n",
    "int('10')\n"
   ]
  },
  {
   "cell_type": "code",
   "execution_count": 125,
   "id": "d4e0edbc",
   "metadata": {},
   "outputs": [
    {
     "data": {
      "text/plain": [
       "12"
      ]
     },
     "execution_count": 125,
     "metadata": {},
     "output_type": "execute_result"
    }
   ],
   "source": [
    "int(12.4)"
   ]
  },
  {
   "cell_type": "code",
   "execution_count": 127,
   "id": "100bd41b",
   "metadata": {},
   "outputs": [
    {
     "data": {
      "text/plain": [
       "10"
      ]
     },
     "execution_count": 127,
     "metadata": {},
     "output_type": "execute_result"
    }
   ],
   "source": [
    "\"\"\"\n",
    "Bunun dışında bu fonksiyonu, herhangi bir sayma\n",
    "sisteminde temsil edilen bir sayıyı onlu sayma \n",
    "sistemine dönüştürmek için de kullanabiliriz.\n",
    "Örneğin:\n",
    "\"\"\"\n",
    "int('12', 8)"
   ]
  },
  {
   "cell_type": "code",
   "execution_count": 128,
   "id": "407580bf",
   "metadata": {},
   "outputs": [
    {
     "data": {
      "text/plain": [
       "1231"
      ]
     },
     "execution_count": 128,
     "metadata": {},
     "output_type": "execute_result"
    }
   ],
   "source": [
    "\"\"\"\n",
    "Burada, sekizli sayma sistemine ait sayı değerli bir karakter \n",
    "dizisi olan ‘12’`yi onlu sayma sistemine dönüştürdük ve böylece \n",
    "`10 sayısını elde ettik.\n",
    "\n",
    "int() fonksiyonunu sayma sistemleri arasında dönüştürme işlemlerinde\n",
    "kullanabilmek için ilk parametrenin bir karakter dizisi olması \n",
    "gerektiğine dikkat ediyoruz.\n",
    "\n",
    "Bu arada, int('12', 8) komutununun 12 sayısını sekizli sayma\n",
    "sistemine dönüştürmediğine dikkat edin. Bu komutun yaptığı iş \n",
    "sekizli sayma sistemindeki 12 sayısını onlu sayma sistemine \n",
    "dönüştürmektir.\n",
    "\n",
    "int() fonksiyonunun bu kullanımıyla ilgili bir örnek daha verelim:\n",
    "Burada da, onaltılı sayma sistemine ait bir sayı olan 4cf’yi onlu \n",
    "sayma sistemine çevirdik ve 1231 sayısını elde ettik. 4cf sayısını \n",
    "int() fonksiyonuna parametre olarak verirken bunu karakter dizisi \n",
    "şeklinde yazmayı unutmuyoruz. Aksi halde Python bize bir hata mesajı \n",
    "gösterecektir.\n",
    "\n",
    "\n",
    "\"\"\"\n",
    "int('4cf', 16)"
   ]
  },
  {
   "cell_type": "code",
   "execution_count": 129,
   "id": "b6a8b26a",
   "metadata": {},
   "outputs": [
    {
     "data": {
      "text/plain": [
       "'12'"
      ]
     },
     "execution_count": 129,
     "metadata": {},
     "output_type": "execute_result"
    }
   ],
   "source": [
    "\"\"\"\n",
    "str()\n",
    "Bu fonksiyonun, farklı veri tiplerini karakter dizisine\n",
    "dönüştürmek için kullanıldığını biliyorsunuz. Örneğin:\n",
    "\"\"\"\n",
    "str(12)"
   ]
  },
  {
   "cell_type": "code",
   "execution_count": 130,
   "id": "b02f1aab",
   "metadata": {},
   "outputs": [],
   "source": [
    "\"\"\"\n",
    "Burada 12 sayısını bir karakter dizisine dönüştürdük. \n",
    "Şimdi de bir baytı karakter dizisine dönüştürelim:\n",
    "\"\"\"\n",
    "bayt = b'istihza'"
   ]
  },
  {
   "cell_type": "code",
   "execution_count": 131,
   "id": "0967a4d7",
   "metadata": {},
   "outputs": [
    {
     "name": "stdout",
     "output_type": "stream",
     "text": [
      "istihza\n"
     ]
    }
   ],
   "source": [
    "ardiz = str(bayt, encoding='utf-8')\n",
    "print(ardiz)"
   ]
  },
  {
   "cell_type": "code",
   "execution_count": 133,
   "id": "ea5ee074",
   "metadata": {},
   "outputs": [
    {
     "name": "stdout",
     "output_type": "stream",
     "text": [
      "b'kad\\xc4\\xb1n'\n"
     ]
    }
   ],
   "source": [
    "\"\"\"\n",
    "Gördüğünüz gibi, bir baytı karakter dizisine dönüştürmek \n",
    "için str() fonksiyonuna encoding adlı bir parametre veriyoruz.\n",
    "Fonksiyonumuz, bu parametrede hangi kodlama biçimi belirtildiyse, \n",
    "baytları bu kodlama biçiminin kurallarına göre bir karakter \n",
    "dizisine dönüştürüyor.\n",
    "\n",
    "Tahmin edebileceğiniz gibi, belirttiğiniz kodlama biçiminin \n",
    "herhangi bir baytı karakter dizisine dönüştüremediği durumlara \n",
    "karşı bir errors parametresi de verebiliriz str() fonksiyonuna.\n",
    "\n",
    "Örneğin elimizde bayt tipinde şöyle bir veri olduğunu varsayalım:\n",
    "\"\"\"\n",
    "bayt = bytes('kadın', encoding='utf-8')\n",
    "print(bayt)"
   ]
  },
  {
   "cell_type": "code",
   "execution_count": 134,
   "id": "1879fd34",
   "metadata": {},
   "outputs": [
    {
     "ename": "UnicodeDecodeError",
     "evalue": "'ascii' codec can't decode byte 0xc4 in position 3: ordinal not in range(128)",
     "output_type": "error",
     "traceback": [
      "\u001b[0;31m---------------------------------------------------------------------------\u001b[0m",
      "\u001b[0;31mUnicodeDecodeError\u001b[0m                        Traceback (most recent call last)",
      "\u001b[0;32m/tmp/ipykernel_111102/3952185178.py\u001b[0m in \u001b[0;36m<module>\u001b[0;34m\u001b[0m\n\u001b[0;32m----> 1\u001b[0;31m \u001b[0mkardiz\u001b[0m \u001b[0;34m=\u001b[0m \u001b[0mstr\u001b[0m\u001b[0;34m(\u001b[0m\u001b[0mbayt\u001b[0m\u001b[0;34m,\u001b[0m \u001b[0mencoding\u001b[0m\u001b[0;34m=\u001b[0m\u001b[0;34m'ascii'\u001b[0m\u001b[0;34m)\u001b[0m\u001b[0;34m\u001b[0m\u001b[0;34m\u001b[0m\u001b[0m\n\u001b[0m",
      "\u001b[0;31mUnicodeDecodeError\u001b[0m: 'ascii' codec can't decode byte 0xc4 in position 3: ordinal not in range(128)"
     ]
    }
   ],
   "source": [
    "kardiz = str(bayt, encoding='ascii')"
   ]
  },
  {
   "cell_type": "code",
   "execution_count": 135,
   "id": "88307569",
   "metadata": {},
   "outputs": [
    {
     "name": "stdout",
     "output_type": "stream",
     "text": [
      "kadn\n"
     ]
    }
   ],
   "source": [
    "\"\"\"\n",
    "ASCII adlı kod çözücü, b'kadın' içindeki baytlardan birini \n",
    "tanıyamadığı için bize bir hata mesajı gösterdi. Bildiğiniz\n",
    "gibi ASCII 128’den büyük baytları dönüştüremez. İşte bu tür \n",
    "durumlara karşı errors parametresinden yararlanabilirsiniz:\n",
    "\"\"\"\n",
    "kardiz = str(bayt, encoding='ascii', errors='ignore')\n",
    "print(kardiz)"
   ]
  },
  {
   "cell_type": "code",
   "execution_count": 136,
   "id": "af2fdae3",
   "metadata": {},
   "outputs": [],
   "source": [
    "\"\"\"\n",
    "errors parametresine verdiğimiz ‘ignore’ değeri sayesinde \n",
    "Python bize hata mesajı göstermek yerine, ASCII ile çözülemeyen\n",
    "baytı görmezden geldi. errors parametresinin hangi değerleri\n",
    "alabileceğini önceki derslerimizden hatırlıyor olmalısınız.\n",
    "dict()\n",
    "Bu fonksiyon, farklı veri tiplerinden sözlükler üretmemizi sağlar.\n",
    "Örneğin bu fonksiyonu kullanarak boş bir sözlük oluşturabiliriz:\n",
    "\"\"\"\n",
    "s = dict()"
   ]
  },
  {
   "cell_type": "code",
   "execution_count": 137,
   "id": "b0329763",
   "metadata": {},
   "outputs": [],
   "source": [
    "s = dict(a=1, b=2, c=3)"
   ]
  },
  {
   "cell_type": "code",
   "execution_count": 138,
   "id": "3fa632e8",
   "metadata": {},
   "outputs": [
    {
     "data": {
      "text/plain": [
       "{'a': 1, 'b': 2, 'c': 3}"
      ]
     },
     "execution_count": 138,
     "metadata": {},
     "output_type": "execute_result"
    }
   ],
   "source": [
    "s"
   ]
  },
  {
   "cell_type": "code",
   "execution_count": 139,
   "id": "ed1a5b0e",
   "metadata": {},
   "outputs": [
    {
     "data": {
      "text/plain": [
       "{'a': 1, 'b': 2, 'c': 3}"
      ]
     },
     "execution_count": 139,
     "metadata": {},
     "output_type": "execute_result"
    }
   ],
   "source": [
    "öğeler = (['a', 1], ['b', 2], ['c', 3])\n",
    "dict(öğeler)"
   ]
  },
  {
   "cell_type": "code",
   "execution_count": 140,
   "id": "810ef137",
   "metadata": {},
   "outputs": [
    {
     "data": {
      "text/plain": [
       "True"
      ]
     },
     "execution_count": 140,
     "metadata": {},
     "output_type": "execute_result"
    }
   ],
   "source": [
    "\"\"\"\n",
    "callable()\n",
    "Bu fonksiyon, bir nesnenin ‘çağrılabilir’ olup olmadığını \n",
    "denetler. Peki hangi nesneler çağrılabilir özelliktedir. \n",
    "Mesela fonksiyonlar çağrılabilir nesnelerdir. Değişkenler \n",
    "ise çağrılabilir nesneler değildir.\n",
    "\"\"\"\n",
    "callable(open)"
   ]
  },
  {
   "cell_type": "code",
   "execution_count": 141,
   "id": "61c756a6",
   "metadata": {},
   "outputs": [
    {
     "data": {
      "text/plain": [
       "False"
      ]
     },
     "execution_count": 141,
     "metadata": {},
     "output_type": "execute_result"
    }
   ],
   "source": [
    "\"\"\"\n",
    "Burada da sys modülü içindeki version adlı nesnenin çağrılabilir\n",
    "özellikte olup olmadığını sorguladık. Daha önceki derslerimizde \n",
    "de gördüğünüz gibi, sys modülü içindeki version adlı araç bir \n",
    "fonksiyon değil, değişkendir. Dolayısıyla bu değişken\n",
    "callable(sys.version) sorgusuna False yanıtı verir.\n",
    "\"\"\"\n",
    "import sys\n",
    "callable(sys.version)"
   ]
  },
  {
   "cell_type": "code",
   "execution_count": 143,
   "id": "14912d0b",
   "metadata": {},
   "outputs": [
    {
     "data": {
      "text/plain": [
       "97"
      ]
     },
     "execution_count": 143,
     "metadata": {},
     "output_type": "execute_result"
    }
   ],
   "source": [
    "\"\"\"\n",
    "ord()\n",
    "Bu fonksiyon, bir karakterin karşılık geldiği ondalık \n",
    "sayıyı verir. Örneğin:\n",
    "\"\"\"\n",
    "ord(\"a\")"
   ]
  },
  {
   "cell_type": "code",
   "execution_count": 144,
   "id": "1425c104",
   "metadata": {},
   "outputs": [
    {
     "data": {
      "text/plain": [
       "305"
      ]
     },
     "execution_count": 144,
     "metadata": {},
     "output_type": "execute_result"
    }
   ],
   "source": [
    "ord(\"ı\")"
   ]
  },
  {
   "cell_type": "code",
   "execution_count": 145,
   "id": "0fcaf3b6",
   "metadata": {},
   "outputs": [
    {
     "data": {
      "text/plain": [
       "'0o12'"
      ]
     },
     "execution_count": 145,
     "metadata": {},
     "output_type": "execute_result"
    }
   ],
   "source": [
    "\"\"\"\n",
    "oct()\n",
    "Bu fonksiyon, bir sayıyı sekizli düzendeki karşılığına \n",
    "çevirmemizi sağlar:\n",
    "\"\"\"\n",
    "oct(10)"
   ]
  },
  {
   "cell_type": "code",
   "execution_count": 146,
   "id": "1aae0853",
   "metadata": {},
   "outputs": [
    {
     "data": {
      "text/plain": [
       "'0x131'"
      ]
     },
     "execution_count": 146,
     "metadata": {},
     "output_type": "execute_result"
    }
   ],
   "source": [
    "\"\"\"\n",
    "hex()\n",
    "Bu fonksiyon, bir sayıyı onaltılı düzendeki karşılığına çevirmemizi \n",
    "sağlar:\n",
    "Yalnız hem oct() hem de hex() fonksiyonlarında dikkat etmemiz gereken\n",
    "şey,\n",
    "bu fonksiyonların parametre olarak bir sayı alıp, çıktı olarak \n",
    "bir karakter dizisi veriyor olmasıdır.\n",
    "\"\"\"\n",
    "hex(305)"
   ]
  },
  {
   "cell_type": "code",
   "execution_count": 147,
   "id": "e4a0e9ee",
   "metadata": {},
   "outputs": [
    {
     "ename": "SyntaxError",
     "evalue": "invalid syntax (<string>, line 1)",
     "output_type": "error",
     "traceback": [
      "Traceback \u001b[0;36m(most recent call last)\u001b[0m:\n",
      "  File \u001b[1;32m\"/usr/lib/python3/dist-packages/IPython/core/interactiveshell.py\"\u001b[0m, line \u001b[1;32m3457\u001b[0m, in \u001b[1;35mrun_code\u001b[0m\n    exec(code_obj, self.user_global_ns, self.user_ns)\n",
      "\u001b[0;36m  File \u001b[0;32m\"/tmp/ipykernel_111102/568916769.py\"\u001b[0;36m, line \u001b[0;32m223\u001b[0;36m, in \u001b[0;35m<module>\u001b[0;36m\u001b[0m\n\u001b[0;31m    eval(\"a=5\")\u001b[0m\n",
      "\u001b[0;36m  File \u001b[0;32m\"<string>\"\u001b[0;36m, line \u001b[0;32m1\u001b[0m\n\u001b[0;31m    a=5\u001b[0m\n\u001b[0m     ^\u001b[0m\n\u001b[0;31mSyntaxError\u001b[0m\u001b[0;31m:\u001b[0m invalid syntax\n"
     ]
    }
   ],
   "source": [
    "\"\"\"\n",
    "eval(), exec(), globals(), locals(), compile()\n",
    "Bu bölümde beş farklı fonksiyonu bir arada inceleyeceğiz. \n",
    "Bu fonksiyonları birlikte ele almamızın nedeni bunların \n",
    "birbiriyle yakından bağlantılı olması.\n",
    "\n",
    "Burada işleyeceğimiz bu beş fonksiyon şunlardan oluşuyor:\n",
    "\n",
    "eval()\n",
    "\n",
    "exec()\n",
    "\n",
    "globals()\n",
    "\n",
    "locals()\n",
    "\n",
    "compile()\n",
    "\n",
    "Ancak bu fonksiyonlardan söz etmeye başlamadan önce \n",
    "Python’daki iki önemli kavramı açıklığa kavuşturmamız \n",
    "gerekiyor: Bu kavramlar şunlar:\n",
    "\n",
    "ifade\n",
    "\n",
    "deyim\n",
    "\n",
    "Öncelikle ‘ifade’ kavramından başlayalım.\n",
    "\n",
    "İngilizcede expression denen ‘ifadeler’, bir değer \n",
    "üretmek için kullanılan kod parçalarıdır.\n",
    "Karakter dizileri, sayılar, işleçler, öteki veri tipleri, \n",
    "liste üreteçleri, sözlük üreteçleri, küme üreteçleri,\n",
    "fonksiyonlar hep birer ifadedir. Örneğin:\n",
    "\n",
    "5\n",
    "\n",
    "23 + 4\n",
    "\n",
    "[i for i in range(10)]\n",
    "\n",
    "len([1, 2, 3])\n",
    "İngilizcede statement olarak adlandırılan ‘deyimler’ \n",
    "ise ifadeleri de kapsayan daha geniş bir kavramdır.\n",
    "Buna göre bütün ifadeler aynı zamanda birer deyimdir. \n",
    "Daha doğrusu, ifadelerin bir araya gelmesi ile deyimler\n",
    "oluşturulabilir.\n",
    "\n",
    "Deyimlere birkaç örnek verelim:\n",
    "\n",
    "a = 5\n",
    "\n",
    "if a:\n",
    "    print(a)\n",
    "\n",
    "for i in range(10):\n",
    "    print(i)\n",
    "Python programlama dilinde deyimlerle ifadeleri ayırt\n",
    "etmenin kolay bir yolu da eval() fonksiyonundan yararlanmaktır.\n",
    "Eğer deyim mi yoksa ifade mi olduğundan emin olamadığınız \n",
    "bir şeyi eval() fonksiyonuna parametre olarak verdiğinizde\n",
    "hata almıyorsanız o parametre bir ifadedir. Eğer hata\n",
    "alıyorsanız o parametre bir deyimdir. Çünkü eval()\n",
    "fonksiyonuna parametre olarak yalnızca ifadeler verilebilir.\n",
    "\n",
    "Birkaç örnek verelim:\n",
    "\n",
    "eval('a = 5')\n",
    "\n",
    "  File \"<string>\", line 1\n",
    "    a = 5\n",
    "      ^\n",
    "SyntaxError: invalid syntax\n",
    "Gördüğünüz gibi, eval() fonksiyonu bize bir hata mesajı verdi.\n",
    "Çünkü a = 5 kodu bir deyimdir. Unutmayın, Python’da bütün\n",
    "değer atama işlemleri birer deyimdir. Dolayısıyla eval() \n",
    "fonksiyonu bu deyimi parametre olarak alamaz.\n",
    "\n",
    "Bir de şuna bakalım:\n",
    "\n",
    "eval('5 + 25')\n",
    "\n",
    "30\n",
    "Bu defa hata almadık. Çünkü eval() fonksiyonuna, olması\n",
    "gerektiği gibi, parametre olarak bir ifade verdik.\n",
    "Bildiğiniz gibi, 5 + 25 kodu bir ifadedir.\n",
    "\n",
    "Dediğimiz gibi, eval() fonksiyonu deyimleri parametre \n",
    "olarak alamaz. Ama exec() fonksiyonu alabilir:\n",
    "\n",
    "exec('a = 5')\n",
    "Bu şekilde, değeri 5 olan a adlı bir değişken oluşturmuş \n",
    "olduk. İsterseniz kontrol edelim:\n",
    "\n",
    "print(a)\n",
    "\n",
    "5\n",
    "Gördüğünüz gibi, exec() fonksiyonu, mevcut isim alanı\n",
    "içinde a adlı bir değişken oluşturdu. Yalnız elbette \n",
    "mevcut isim alanı içinde yeni değişkenler ve yeni değerler \n",
    "oluştururken dikkatli olmamız gerektiğini biliyorsunuz.\n",
    "Zira mesela yukarıdaki komutu vermeden önce mevcut isim \n",
    "alanında zaten a adlı bir değişken varsa, o değişkenin \n",
    "değeri değişecektir:\n",
    "\n",
    "a = 20\n",
    "Elimizde, değeri 20 olan a adlı bir değişken var. \n",
    "Şimdi exec() fonksiyonu yardımıyla a değişkeninin\n",
    "de içinde yer aldığı mevcut isim alanına müdahale ediyoruz:\n",
    "\n",
    "exec('a = 10')\n",
    "Böylece a değişkeninin eski değerini silmiş olduk. Kontrol edelim:\n",
    "\n",
    "print(a)\n",
    "\n",
    "10\n",
    "Bu tür durumlarda, exec() ile oluşturduğunuz değişkenleri \n",
    "global isim alanına değil de, farklı bir isim alanına \n",
    "göndermeyi tercih edebilirsiniz. Peki ama bunu nasıl yapacağız?\n",
    "\n",
    "Python programlama dilinde isim alanları sözlük tipinde bir veridir. \n",
    "Örneğin global isim alanı basit bir sözlükten ibarettir.\n",
    "\n",
    "Global isim alanını gösteren sözlükte hangi anahtar ve \n",
    "değerlerin olduğunu görmek için globals() adlı bir \n",
    "fonksiyonu kullanabilirsiniz:\n",
    "\n",
    "globals()\n",
    "Bu fonksiyonu çalıştırdığımızda şuna benzer bir çıktı alırız:\n",
    "\n",
    "{'__doc__': None, '__loader__': <class '_frozen_importlib.BuiltinImpor\n",
    "ter'>,'__name__': '__main__', '__package__': None, '__builtins__':\n",
    "<module 'builtins'>}\n",
    "Gördüğünüz gibi, elimizdeki şey gerçekten de bir sözlük. \n",
    "Dolayısıyla bir sözlük ile ne yapabilirsek bu sözlükle de\n",
    "aynı şeyi yapabiliriz…\n",
    "\n",
    "‘globals’ adlı bu sözlüğün içeriği, o anda global isim\n",
    "alanında bulunan nesnelere göre farklılık gösterecektir. Örneğin:\n",
    "\n",
    "x = 10\n",
    "şeklinde 10 değerine sahip bir x nesnesi tanımladıktan sonra \n",
    "globals() fonksiyonunu tekrar çalıştırırsanız global isim\n",
    "alanına bu nesnenin de eklenmiş olduğunu görürsünüz.\n",
    "\n",
    "Dediğimiz gibi, globals() fonksiyonundan dönen nesne bir sözlüktür. \n",
    "Bu sözlüğe, herhangi bir sözlüğe veri ekler gibi değer de\n",
    "ekleyebilirsiniz:\n",
    "\n",
    "globals()['z'] = 23\n",
    "Bu şekilde global isim alanına z adlı bir değişken eklemiş oldunuz:\n",
    "\n",
    "z\n",
    "\n",
    "23\n",
    "Yalnız, Python programlama dili bize bu şekilde global isim alanına\n",
    "nesne ekleme imkanı verse de, biz mecbur değilsek bu yöntemi\n",
    "kullanmaktan kaçınmalıyız. Çünkü bu şekilde sıradışı bir yöntemle\n",
    "değişken tanımladığımız için aslında global isim alanını, nerden \n",
    "geldiğini kestirmenin güç olduğu değerlerle ‘kirletmiş’ oluyoruz.\n",
    "\n",
    "Bildiğiniz gibi, Python’da global isim alanı dışında bir de lokal isim \n",
    "lanı bulunur. Lokal isim alanlarının, fonksiyonlara \n",
    "(ve ileride göreceğimiz gibi sınıflara) ait bir isim alanı\n",
    "olduğunu biliyorsunuz. İşte bu isim alanlarına ulaşmak için de \n",
    "locals() adlı bir fonksiyondan yararlanacağız:\n",
    "\n",
    "def fonksiyon(param1, param2):\n",
    "    x = 10\n",
    "    print(locals())\n",
    "\n",
    "fonksiyon(10, 20)\n",
    "Bu fonksiyonu çalıştırdığınızda şu çıktıyı alacaksınız:\n",
    "\n",
    "{'param2': 20, 'param1': 10, 'x': 10}\n",
    "Gördüğünüz gibi, locals() fonksiyonu gerçekten de bize fonksiyon()\n",
    "adlı fonksiyon içindeki lokal değerleri veriyor.\n",
    "\n",
    "globals() ve locals() fonksiyonlarının ne işe yaradığını \n",
    "incelediğimize göre exec() fonksiyonunu anlatırken kaldığımız yere \n",
    "dönebiliriz.\n",
    "\n",
    "Ne diyorduk?\n",
    "\n",
    "Elimizde, değeri 20 olan a adlı bir değişken vardı:\n",
    "\n",
    "a = 20\n",
    "exec() fonksiyonu yardımıyla a değişkeninin de içinde yer aldığı \n",
    "mevcut isim alanına müdahale edelim:\n",
    "\n",
    "exec('a = 3')\n",
    "Bu şekilde a değişkeninin varolan değerini silmiş olduk:\n",
    "\n",
    "print(a)\n",
    "\n",
    "3\n",
    "Dediğimiz gibi, bu tür durumlarda, exec() ile oluşturduğunuz \n",
    "değişkenleri global isim alanı yerine farklı bir isim alanına \n",
    "göndermeyi tercih etmemiz daha uygun olacaktır. Python’da isim\n",
    "alanlarının basit bir sözlük olduğunu öğrendiğimize göre, exec() \n",
    "ile oluşturduğumuz değişkenleri global isim alanı yerine nasıl \n",
    "farklı bir isim alanına göndereceğimizi görebiliriz.\n",
    "\n",
    "Önce yeni bir isim alanı oluşturalım:\n",
    "\n",
    "ia = {}\n",
    "Şimdi exec() ile oluşturacağımız değerleri bu isim alanına \n",
    "gönderebiliriz:\n",
    "\n",
    "exec('a = 3', ia)\n",
    "Böylece global isim alanındaki a değişkeninin değerine dokunmamış\n",
    "olduk:\n",
    "\n",
    "a\n",
    "\n",
    "20\n",
    "Yeni oluşturduğumuz değer ise ia adlı yeni isim alanına gitti:\n",
    "\n",
    "ia['a']\n",
    "\n",
    "3\n",
    "\n",
    "\"\"\"\n",
    "eval(\"a=5\")\n"
   ]
  },
  {
   "cell_type": "code",
   "execution_count": 148,
   "id": "aa5ff174",
   "metadata": {},
   "outputs": [
    {
     "data": {
      "text/plain": [
       "30"
      ]
     },
     "execution_count": 148,
     "metadata": {},
     "output_type": "execute_result"
    }
   ],
   "source": [
    "eval('5 + 25')"
   ]
  },
  {
   "cell_type": "code",
   "execution_count": 149,
   "id": "1f05795e",
   "metadata": {},
   "outputs": [],
   "source": [
    "exec('a = 5')"
   ]
  },
  {
   "cell_type": "code",
   "execution_count": 150,
   "id": "7abad270",
   "metadata": {},
   "outputs": [
    {
     "name": "stdout",
     "output_type": "stream",
     "text": [
      "5\n"
     ]
    }
   ],
   "source": [
    "print(a)"
   ]
  },
  {
   "cell_type": "code",
   "execution_count": 151,
   "id": "580eeef0",
   "metadata": {},
   "outputs": [],
   "source": [
    "\"\"\"\n",
    "Elimizde, değeri 20 olan a adlı bir değişken var. \n",
    "Şimdi exec() fonksiyonu yardımıyla a değişkeninin de içinde\n",
    "yer aldığı mevcut isim alanına müdahale ediyoruz:\n",
    "\"\"\"\n",
    "a = 20"
   ]
  },
  {
   "cell_type": "code",
   "execution_count": 152,
   "id": "b662b136",
   "metadata": {},
   "outputs": [],
   "source": [
    "exec('a = 10')"
   ]
  },
  {
   "cell_type": "code",
   "execution_count": 153,
   "id": "4299c08e",
   "metadata": {},
   "outputs": [
    {
     "name": "stdout",
     "output_type": "stream",
     "text": [
      "10\n"
     ]
    }
   ],
   "source": [
    "print(a)"
   ]
  },
  {
   "cell_type": "code",
   "execution_count": 154,
   "id": "83892a67",
   "metadata": {},
   "outputs": [
    {
     "data": {
      "text/plain": [
       "{'__name__': '__main__',\n",
       " '__doc__': '\\nBu tür durumlarda, exec() ile oluşturduğunuz\\ndeğişkenleri global isim alanına değil de, \\nfarklı bir isim alanına göndermeyi tercih edebilirsiniz. \\nPeki ama bunu nasıl yapacağız?\\nPython programlama dilinde isim alanları sözlük tipinde bir veridir.\\nÖrneğin global isim alanı basit bir sözlükten ibarettir.\\n',\n",
       " '__package__': None,\n",
       " '__loader__': None,\n",
       " '__spec__': None,\n",
       " '__builtin__': <module 'builtins' (built-in)>,\n",
       " '__builtins__': <module 'builtins' (built-in)>,\n",
       " '_ih': ['',\n",
       "  '\"\"\"\\nGömülü Fonksiyonlar\\nBu bölümde, daha önce de birkaç kez bahsettiğimiz ve \\nçokça örneğini gördüğümüz bir kavramdan söz edeceğiz.\\nBu kavramın adı ‘gömülü fonksiyonlar’.\\n\\nEsasında biz buraya gelene kadar Python’da pek çok gömülü \\nfonksiyon gördük. Dolayısıyla aslında görünüş olarak bunların\\nneye benzediğini biliyoruz. Örneğin daha önceki derslerimizde\\ngördüğümüz print() gömülü bir fonksiyondur. \\nAynı şekilde open(), type(), len(), pow(), bin() \\nve şimdiye kadar tanıştığımız öteki bütün fonksiyonlar\\nbirer gömülü fonksiyondur.\\n\\nGömülü fonksiyonlar İngilizcede builtin functions olarak \\nadlandırılır. Bu fonksiyonlar gerçekten de dile gömülü\\nvaziyettedirler. Bildiğiniz gibi, bir fonksiyonu kullanabilmemiz \\niçin o fonksiyonu tanımlamamız gerekir. İşte gömülü fonksiyonlar,\\nbizim tanımlamamıza gerek kalmadan, Python geliştiricileri tarafından \\nönceden tanımlanıp dile gömülmüş ve hizmetimize sunulmuş faydalı\\nbirtakım araçlardır.\\n\\nİşte bu bölümde biz de bu gömülü fonksiyonları tek tek ve\\nayrıntılı olarak inceleyeceğiz. Dediğimiz gibi, bunlardan \\nbir kısmını halihazırda görmüştünüz. Ama biz bütünlük\\naçısından, önceden ele almış olduğumuz bu fonksiyonlara \\nda kısaca değinmeden geçmeyeceğiz. Böylelikle hem yeni \\nfonksiyonlar öğrenmiş olacağız hem de önceden öğrendiğimiz \\nfonksiyonlarla birlikte yeni fonksiyonları da derli toplu \\nbir şekilde görme imkanımız olacak.\\n\\nBu bölümde elbette birtakım fonksiyonları salt art arda \\nsıralamakla yetinmeyeceğiz. Python’daki gömülü fonksiyonları\\nincelerken bir yandan da Python programlama dilindeki çok\\nönemli bazı kavramları ele alacağız.\\n\\nİlk olarak abs() adlı bir fonksiyonla başlıyoruz gömülü \\nfonksiyonları incelemeye…\\n\\n\\nabs()\\nİngilizcede ‘mutlak’ anlamına gelen absolute adlı bir \\nkelime bulunur. İşte bu fonksiyonun adı da bu kelimeden \\ngelir. Fonksiyonumuzun görevi de isminin anlamına yakındır.\\nabs() fonksiyonunu bir sayının mutlak değerini elde etmek \\niçin kullanıyoruz.\\n\\n\\nPeki ‘mutlak değer’ ne anlama geliyor. Esasında siz bu \\nkavrama matematik derslerinden aşinasınız. Ama bilmeyenler\\nveya unutmuş olanlar için tekrar edelim. ‘Mutlak değer’\\nbir sayının 0’a olan uzaklığıdır. Örneğin 20 sayısının\\n0 sayısına olan uzaklığı 20’dir. Dolayısıyla 20 sayısının\\nmutlak değeri 20’dir. Aynı şekilde -20 sayısının da 0\\nsayısına uzaklığı 20’dir. Yani, -20 sayısının da mutlak \\ndeğeri 20’dir.\\n\\n\\nİşte abs() fonksiyonu bize bir sayının mutlak değerinin\\nne olduğunu söyler:\\nMutlak değer kavramı yalnızca tamsayılar ve kayan \\nnoktalı sayılar için değil, aynı zamanda karmaşık \\nsayılar için de geçerlidir. Dolayısıyla abs()\\nfonksiyonunu kullanarak karmaşık sayıların da\\nmutlak değerini hesaplayabiliriz:\\nGördüğünüz gibi bu fonksiyon yalnızca tek bir parametre\\nalıyor ve bu parametrenin mutlak değerini döndürüyor.\\n\"\"\"\\nabs(-20)',\n",
       "  'abs(20)',\n",
       "  'abs(20+4j)',\n",
       "  '\"\"\"\\nround()\\nround() fonksiyonu bir sayıyı belli ölçütlere\\ngöre yukarı veya aşağı doğru yuvarlamamızı sağlar.\\nBasit birkaç örnek verelim:\\n\"\"\"\\nround(12,4)',\n",
       "  'round(12,7)',\n",
       "  '\"\"\"\\nGördüğünüz gibi bu fonksiyon, kayan noktalı sayıları \\nen yakın tam sayıya doğru yuvarlıyor.\\n\\nAncak burada dikkat etmemiz gereken bir nokta var.\\n\\nŞu örnekleri bir inceleyelim:\\n\"\"\"\\nround(1,5)',\n",
       "  'round(12.5)',\n",
       "  '\"\"\"\\nGördüğünüz gibi, fonksiyonumuz 1.5 sayısını yukarı doğru, \\n12.5 sayısını ise aşağı doğru yuvarladı. Bunun sebebi,\\nkayan noktalı bir sayının üst ve alt tam sayılara olan \\nuzaklığının birbirine eşit olduğu durumlarda Python’ın\\nçift sayıya doğru yuvarlama yapmayı tercih etmesidir.\\nMesela yukarıdaki örneklerde 1.5 sayısı hem 1 sayısına,\\nhem de 2 sayısına eşit uzaklıkta bulunuyor. İşte Python\\nbu durumda, bir çift sayı olan 2 sayısına doğru yuvarlamayı\\ntercih edecektir.\\n\\nround() fonksiyonu toplam iki parametre alır. İlk parametre,\\nyuvarlanacak sayının kendisidir. Yuvarlama hassasiyetini \\nbelirlemek için ise ikinci bir parametreden yararlanabiliriz.\\n\\nÖrneğin 22 sayısını 7’ye böldüğümüzde normalde şöyle bir \\nçıktı elde ederiz:\\n\"\"\"\\n22/7',\n",
       "  '\"\"\"\\nround() fonksiyonunu tek parametre ile \\nkullandığımızda bu fonksiyon yukarıdaki\\nsayıyı şu şekilde yuvarlayacaktır:\\n\"\"\"\\nround(22/7)',\n",
       "  '\"\"\"\\nİşte biz round() fonksiyonuna ikinci bir parametre daha\\nvererek, yuvarlama hassasiyetini kontrol edebiliriz.\\n\\nAşağıdaki örnekleri dikkatlice inceleyin:\\n\"\"\"\\nround(22/7)',\n",
       "  'round(22/7,0)',\n",
       "  'round(22/7,1)',\n",
       "  'round(22/7,4)',\n",
       "  '\"\"\"\\nall()\\n\\nAll kelimesi Türkçede ‘hepsi’ anlamına gelir.\\nBu fonksiyonun görevi de bu anlamı çağrıştırır.\\nall() fonksiyonunun görevi, bir dizi içinde bulunan \\nbütün değerler True ise True değeri, eğer bu değerlerden\\nherhangi biri False ise de False değeri döndürmektir.\\n\\nÖrneğin elimizde şöyle bir liste olduğunu varsayalım:\\n\"\"\"\\nliste = [1, 2, 3, 4]',\n",
       "  'all(liste)',\n",
       "  '\"\"\"\\nBildiğiniz gibi, 0 hariç bütün sayıların bool değeri True’dur. \\nYukarıdaki listede False değeri verebilecek herhangi bir değer \\nbulunmadığından, all() fonksiyonu bu liste için True değerini \\nveriyor. Bir de şuna bakalım:\\n\"\"\"\\nliste = [0, 1, 2, 3, 4]\\nall(liste)',\n",
       "  '\"\"\"\\nDediğimiz gibi, all() fonksiyonu ancak dizi içindeki bütün \\ndeğerlerin bool değeri True ise True çıktısı verecektir.\\n\\nSon bir örnek daha verelim:\\n\"\"\"\\nliste = [\\'ahmet\\', \\'mehmet\\', \\'\\']\\nall(liste)',\n",
       "  '\"\"\"\\nListede False değerine sahip bir boş karakter dizisi bulunduğu\\niçin all() fonksiyonu False çıktısı veriyor.\\n\\nBu fonksiyonu her türlü kodun bool değerlerini test etmek için \\nkullanabilirsiniz. Mesela bu fonksiyonu kullanarak, bir nesnenin\\nlistelenen özelliklerin hepsine sahip olup olmadığını \\ndenetleyebilirsiniz:\\n\"\"\"\\na = 3\\nt1 = a == 3         #sayı 3 mü?\\nt2 = a < 4          #sayı 4\\'ten küçük mü?\\nt3 = a % 2 == 1     #sayı bir tek sayı mı?\\nall([t1, t2, t3])   #sayı bu özelliklerin hepsine sahip mi?',\n",
       "  '\"\"\"\\nListede False değerine sahip bir boş karakter dizisi bulunduğu\\niçin all() fonksiyonu False çıktısı veriyor.\\n\\nBu fonksiyonu her türlü kodun bool değerlerini test etmek için \\nkullanabilirsiniz. Mesela bu fonksiyonu kullanarak, bir nesnenin\\nlistelenen özelliklerin hepsine sahip olup olmadığını \\ndenetleyebilirsiniz:\\n\"\"\"\\na = 3\\nt1 = a == 3         #sayı 3 mü?\\nt2 = a < 4          #sayı 4\\'ten küçük mü?\\nt3 = a % 2 == 1     #sayı bir tek sayı mı?\\nall([t1, t2, t3])   #sayı bu özelliklerin hepsine sahip mi?',\n",
       "  'a = 3\\nt1 = a == 3   \\nall(t1)',\n",
       "  'a = 3\\nt1 = a == 3   \\nt2 = a < 4   \\nall(t1)',\n",
       "  'a = 3\\nt1 = a == 3   \\nt2 = a < 4   \\nall(t1,t2)',\n",
       "  'a = 3\\nt1 = a == 3   \\nt2 = a < 4   \\nt3 = a % 2 == 1 \\nall(t1,t2,t3)',\n",
       "  '\"\"\"\\nListede False değerine sahip bir boş karakter dizisi bulunduğu\\niçin all() fonksiyonu False çıktısı veriyor.\\n\\nBu fonksiyonu her türlü kodun bool değerlerini test etmek için \\nkullanabilirsiniz. Mesela bu fonksiyonu kullanarak, bir nesnenin\\nlistelenen özelliklerin hepsine sahip olup olmadığını \\ndenetleyebilirsiniz:\\n\"\"\"\\na = 3\\nt1 = a == 3         #sayı 3 mü?\\nt2 = a < 4          #sayı 4\\'ten küçük mü?\\nt3 = a % 2 == 1     #sayı bir tek sayı mı?\\nall([t1, t2, t3])   #sayı bu özelliklerin hepsine sahip mi?',\n",
       "  'a = 3\\nt1 = a == 3   \\nt2 = a < 4   \\nt3 = a % 2 == 1 \\nall([t1])',\n",
       "  '\"\"\"\\nany()\\nAny kelimesi İngilizcede ‘herhangi bir’ anlamına gelir.\\nİşte any() fonksiyonunun görevi de, bir dizi içindeki \\nbütün değerlerden en az biri True ise True çıktısı vermektir.\\nALL FONKSİYONUNUN TERSİ\\n\"\"\"',\n",
       "  '\"\"\"\\nany()\\nAny kelimesi İngilizcede ‘herhangi bir’ anlamına gelir.\\nİşte any() fonksiyonunun görevi de, bir dizi içindeki \\nbütün değerlerden en az biri True ise True çıktısı vermektir.\\nALL FONKSİYONUNUN TERSİ\\n\"\"\"\\nliste = [0, 1, 2, 3, 4]\\nall(liste)',\n",
       "  \"liste = ['ahmet', 'mehmet', '']\\nall(liste)\",\n",
       "  '\"\"\"\\nany()\\nAny kelimesi İngilizcede ‘herhangi bir’ anlamına gelir.\\nİşte any() fonksiyonunun görevi de, bir dizi içindeki \\nbütün değerlerden en az biri True ise True çıktısı vermektir.\\nALL FONKSİYONUNUN TERSİ\\n\"\"\"\\nliste = [0, 1, 2, 3, 4]\\nany(liste)',\n",
       "  \"liste = ['ahmet', 'mehmet', '']\\nany(liste)\",\n",
       "  \"l = ['', 0, [], (), set(), dict()]\\nany(l)\",\n",
       "  '\"\"\"\\nascii()\\nBu fonksiyon, bir nesnenin ekrana basılabilir\\nhalini verir bize. Dilerseniz bu fonksiyonun yaptığı \\nişi tanımlamak yerine bunu bir örnek üzerinden anlatmaya çalışalım:\\n\"\"\"\\na = \\'istihza\\'\\nprint(ascii(a))\\n\\n\\'istihza\\'',\n",
       "  '\"\"\"\\nBu fonksiyonun, print() fonksiyonundan farklı olarak,\\nçıktıya tırnak işaretlerini de eklediğine dikkat edin.\\n\\nascii() fonksiyonunun tam olarak ne yaptığını daha iyi \\nanlamak için herhalde şu örnek daha faydalı olacaktır.\\n\\nDikkatlice bakın:\\n\"\"\"\\nprint(\\'\\\\n\\')',\n",
       "  '\"\"\"\\nBu komutu verdiğimizde, n kaçış dizisinin etkisiyle\\nyeni satıra geçileceğini biliyorsunuz.\\n\\nBir de şuna bakın:\\n\"\"\"\\nprint(ascii(\\'\\\\n!\\'))',\n",
       "  '\"\"\"\\nBu komutu verdiğimizde, n kaçış dizisinin etkisiyle\\nyeni satıra geçileceğini biliyorsunuz.\\n\\nBir de şuna bakın:\\n\"\"\"\\nprint(ascii(\\'\\\\n\\'))',\n",
       "  '\"\"\"\\nGördüğünüz gibi, ascii() fonksiyonu, satır başı kaçış \\ndizisinin görevini yapmasını sağlamak yerine bu kaçış \\ndizisinin ekrana basılabilir halini veriyor bize.\\n\\n\\nAyrıca bu fonksiyon, karakter dizileri içindeki Türkçe\\nkarakterlerin de UNICODE temsillerini döndürür. Örneğin:\\n\"\"\"\\na = \\'ışık\\'\\nprint(ascii(a))',\n",
       "  'a=\"Devrim Tunçer\"\\nprint(ascii(a))',\n",
       "  '\"\"\"\\nGördüğünüz gibi, ascii() fonksiyonu ASCII olmayan karakterlerle \\nkarşılaştığında bunların karakter temsilleri yerine UNICODE\\ntemsillerini (veya onaltılık sayma düzenindeki karşılıklarını)\\nveriyor.\\n\\nSon olarak şu örneğe bakalım:\\n\"\"\"\\nliste = [\\'elma\\', \\'armut\\', \\'erik\\']\\ntemsil = ascii(liste)\\nprint(temsil)',\n",
       "  '\"\"\"\\nBurada listemiz ascii() fonksiyonuna parametre olarak \\nverildikten sonra artık liste olma özelliğini yitirip \\nbir karakter dizisi haline gelir. Bunu denetleyelim:\\n\"\"\"\\nprint(type(temsil))',\n",
       "  'temsil[0]',\n",
       "  '\"\"\"\\nrepr()\\nrepr() fonksiyonunun yaptığı iş, biraz önce gördüğümüz ascii() \\nfonksiyonunun yaptığı işe çok benzer. Bu iki fonksiyon, ASCII\\nolmayan karakterlere muameleleri açısından birbirinden ayrılır.\\n\\nHatırlarsanız ascii() fonksiyonu ASCII olmayan karakterlerle \\nkarşılaştığında bunların UNICODE (veya onaltılık) temsillerini\\ngösteriyordu\\n\"\"\"\\nascii(\"şeker\")',\n",
       "  '\"\"\"\\nrepr() fonksiyonu ise ASCII olmayan karakterlerle karşılaşsa bile,\\nbize çıktı olarak bunların da karakter karşılıklarını gösterir:\\n\"\"\"\\nrepr(\"şeker\")',\n",
       "  '\"\"\"\\nbool()\\nBu fonksiyon bir nesnenin bool değerini verir:\\n\"\"\"\\nbool(0)',\n",
       "  'bool(1)',\n",
       "  'bool([])',\n",
       "  '\"\"\"\\nbin()\\nBu fonksiyon, bir sayının ikili düzendeki karşılığını verir:\\nBu fonksiyonun verdiği çıktının bir sayı değil,\\nkarakter dizisi olduğuna dikkat etmelisiniz.\\n\"\"\"\\nbin(12)',\n",
       "  'bin(1)',\n",
       "  'bin(2)',\n",
       "  'bin(3)',\n",
       "  'bin(4)',\n",
       "  'bin(5)',\n",
       "  'bin(6)',\n",
       "  'bin(7)',\n",
       "  '\"\"\"\\nbytes()\\nBu fonksiyon bytes türünde nesneler oluşturmak için kullanılır. \\nBu fonksiyonu ‘bayt’ adlı veri tipini incelerken ayrıntılı olarak \\nele almıştık. Gelin isterseniz burada da bu fonksiyona şöyle bir\\ndeğinelim.\\n\\nDediğimiz gibi, bytes() adlı fonksiyon, bytes türünde veriler\\noluşturmaya yarar. Bu fonksiyon işlev olarak, daha önce öğrendiğimiz \\nlist(), str(), int(), set(), dict() gibi fonksiyonlara çok benzer. \\nTıpkı bu fonksiyonlar gibi, bytes() fonksiyonunun görevi de farklı\\nveri tiplerini ‘bayt’ adlı veri tipine dönüştürmektir.\\n\\nBu fonksiyon, kendisine verilen parametrelerin türüne bağlı olarak \\nbirbirinden farklı sonuçlar ortaya çıkarır. Örneğin eğer bu fonksiyona\\nparametre olarak bir tam sayı verecek olursanız, bu fonksiyon size\\no tam sayı miktarınca bir bayt nesnesi verecektir. Gelin isterseniz\\nbu durumu örnekler üzerinde göstermeye çalışalım:\\n\"\"\"\\nbytes(10)',\n",
       "  'a=bytes(10)',\n",
       "  'a',\n",
       "  'a[0]',\n",
       "  'a(7)',\n",
       "  'a[7]',\n",
       "  'a[10]',\n",
       "  'a[9]',\n",
       "  '\"\"\"\\nGördüğünüz gibi, bytes(10) komutuyla oluşturduğumuz a \\ndeğişkeni içinde toplam 10 adet bayt var ve bu baytların her \\nbirinin değeri 0.\\n\\nYukarıda, bytes() fonksiyonuna bir tam sayı değerli \\nparametre verdiğimizde nasıl bir sonuç alacağımızı öğrendik.\\nPeki biz bu fonksiyona parametre olarak bir karakter dizisi \\nverirsek ne olur?\\n\\nHemen görelim:\\n\"\"\"\\nbytes(\"devrim\")',\n",
       "  '\"\"\"\\nBu fonksiyona karakter dizilerini doğrudan parametre olarak\\nveremeyiz. Eğer verirsek yukarıdaki gibi bir hata alırız.\\nPeki acaba bu hatayı almamızın nedeni ne olabilir?\\n\\nDediğimiz gibi, bytes() fonksiyonu, çeşitli veri tiplerini \\nbayta dönüştürmeye yarar. Ancak bildiğiniz gibi,\\nbayta dönüştürme işlemi her kod çözücü tarafından\\nfarklı biçimde yapılır. Örneğin:\\n\"\"\"\\n\"devrim\".encode(\"utf-8\")',\n",
       "  '\"\"\"\\nBu fonksiyona karakter dizilerini doğrudan parametre olarak\\nveremeyiz. Eğer verirsek yukarıdaki gibi bir hata alırız.\\nPeki acaba bu hatayı almamızın nedeni ne olabilir?\\n\\nDediğimiz gibi, bytes() fonksiyonu, çeşitli veri tiplerini \\nbayta dönüştürmeye yarar. Ancak bildiğiniz gibi,\\nbayta dönüştürme işlemi her kod çözücü tarafından\\nfarklı biçimde yapılır. Örneğin:\\n\"\"\"\\n\"ışık\".encode(\"utf-8\")',\n",
       "  \"'ışık'.encode('cp857')\",\n",
       "  \"'ışık'.encode('cp1254')\",\n",
       "  '\"\"\"\\nDolayısıyla, bytes() fonksiyonunun bir karakter dizisini\\nbayta çevirirken nasıl davranması gerektiğini anlayabilmesi\\niçin, bayta dönüştürme işlemini hangi kod çözücü ile yapmak\\nistediğimizi açıkça belirtmemiz gerekir:\\n\"\"\"\\nbytes(\"ışık\",\"utf-8\")',\n",
       "  \"bytes('ışık', 'cp1254')\",\n",
       "  \"bytes('ışık', 'cp857')\",\n",
       "  '\"\"\"\\nGördüğünüz gibi, bytes() fonksiyonuna parametre olarak bir karakter \\ndizisi verebilmek için, bu karakter dizisi ile birlikte bir\\nkod çözücü de belirtmemiz gerekiyor. Böylece bytes() fonksiyonu\\nkendisine verdiğimiz karakter dizisini, belirttiğimiz kod\\nçözücünün kurallarına göre bayta dönüştürüyor.\\n\\nBu arada, çıktıda görünen ‘b’ harflerinin, elimizdeki verinin \\nbir bayt olduğunu gösteren bir işaret olduğunu biliyorsunuz.\\n\\nAyrıca, bytes() fonksiyonuna verdiğimiz ikinci parametrenin \\nisminin encoding olduğunu ve bu parametreyi isimli bir \\nparametre olarak da kullanabileceğimizi belirtelim:\\n\"\"\"\\nbytes(\"devrim\",encoding(\"ascii\"))',\n",
       "  '\"\"\"\\nGördüğünüz gibi, bytes() fonksiyonuna parametre olarak bir karakter \\ndizisi verebilmek için, bu karakter dizisi ile birlikte bir\\nkod çözücü de belirtmemiz gerekiyor. Böylece bytes() fonksiyonu\\nkendisine verdiğimiz karakter dizisini, belirttiğimiz kod\\nçözücünün kurallarına göre bayta dönüştürüyor.\\n\\nBu arada, çıktıda görünen ‘b’ harflerinin, elimizdeki verinin \\nbir bayt olduğunu gösteren bir işaret olduğunu biliyorsunuz.\\n\\nAyrıca, bytes() fonksiyonuna verdiğimiz ikinci parametrenin \\nisminin encoding olduğunu ve bu parametreyi isimli bir \\nparametre olarak da kullanabileceğimizi belirtelim:\\n\"\"\"\\nbytes(\"istiizha\",encoding(\"ascii\"))',\n",
       "  '\"\"\"\\nGördüğünüz gibi, bytes() fonksiyonuna parametre olarak bir karakter \\ndizisi verebilmek için, bu karakter dizisi ile birlikte bir\\nkod çözücü de belirtmemiz gerekiyor. Böylece bytes() fonksiyonu\\nkendisine verdiğimiz karakter dizisini, belirttiğimiz kod\\nçözücünün kurallarına göre bayta dönüştürüyor.\\n\\nBu arada, çıktıda görünen ‘b’ harflerinin, elimizdeki verinin \\nbir bayt olduğunu gösteren bir işaret olduğunu biliyorsunuz.\\n\\nAyrıca, bytes() fonksiyonuna verdiğimiz ikinci parametrenin \\nisminin encoding olduğunu ve bu parametreyi isimli bir \\nparametre olarak da kullanabileceğimizi belirtelim:\\n\"\"\"\\nbytes(\"istizha\",encoding(\"ascii\"))',\n",
       "  '\"\"\"\\nBu noktada size şöyle bir soru sorayım: \\nAcaba bytes() fonksiyonuna ilk parametre \\nolarak verdiğimiz karakter dizisi, ikinci \\nparametrede belirttiğimiz kod çözücü tarafından tanınmazsa ne olur?\\n\\nCevabı tahmin edebilirsiniz: Böyle bir durumda \\nelbette Python bize bir hata mesajı gösterir:\\n\\n\"\"\"\\nbytes(\\'şeker\\', \\'ascii\\')',\n",
       "  '\"\"\"\\nBu noktada size şöyle bir soru sorayım: \\nAcaba bytes() fonksiyonuna ilk parametre \\nolarak verdiğimiz karakter dizisi, ikinci \\nparametrede belirttiğimiz kod çözücü tarafından tanınmazsa ne olur?\\n\\nCevabı tahmin edebilirsiniz: Böyle bir durumda \\nelbette Python bize bir hata mesajı gösterir:\\n\\n\"\"\"\\nbytes(\\'şeker\\', \\'ascii\\')',\n",
       "  'bytes(\\'€\\', \\'cp857\\')\\n\"\"\"\\nş’ harfi ‘ASCII’ karakter kümesinde; ‘€’ işareti ise ‘CP857’ \\nadlı karakter kümesinde tanımlanmamış birer karakter olduğu \\niçin, ilgili kod çözücüler bu karakterleri çözüp bayta \\ndönüştüremiyor. Yazdığımız kodların bu tür durumlarda \\ntamamen çökmesini engellemek için, önceki derslerimizde de \\nçeşitli vesilelerle öğrenmiş olduğumuz errors adlı bir parametreden \\nyararlanabiliriz:\\n\"\"\"\\nbytes(\\'ışık\\', encoding=\\'ascii\\', errors=\\'replace\\')',\n",
       "  'bytes(\\'€\\', \\'cp857\\')\\n\"\"\"\\nş’ harfi ‘ASCII’ karakter kümesinde; ‘€’ işareti ise ‘CP857’ \\nadlı karakter kümesinde tanımlanmamış birer karakter olduğu \\niçin, ilgili kod çözücüler bu karakterleri çözüp bayta \\ndönüştüremiyor. Yazdığımız kodların bu tür durumlarda \\ntamamen çökmesini engellemek için, önceki derslerimizde de \\nçeşitli vesilelerle öğrenmiş olduğumuz errors adlı bir parametreden \\nyararlanabiliriz:\\n\"\"\"\\nbytes(\\'şeker\\', encoding=\\'ascii\\', errors=\\'replace\\')',\n",
       "  'bytes(\\'€\\', \\'cp857\\')\\n\"\"\"\\nş’ harfi ‘ASCII’ karakter kümesinde; ‘€’ işareti ise ‘CP857’ \\nadlı karakter kümesinde tanımlanmamış birer karakter olduğu \\niçin, ilgili kod çözücüler bu karakterleri çözüp bayta \\ndönüştüremiyor. Yazdığımız kodların bu tür durumlarda \\ntamamen çökmesini engellemek için, önceki derslerimizde de \\nçeşitli vesilelerle öğrenmiş olduğumuz errors adlı bir parametreden \\nyararlanabiliriz:\\n\"\"\"\\nbytes(\\'€\\', encoding=\\'cp857\\', errors=\\'ignore\\')',\n",
       "  '\"\"\"\\nş’ harfi ‘ASCII’ karakter kümesinde; ‘€’ işareti ise ‘CP857’ \\nadlı karakter kümesinde tanımlanmamış birer karakter olduğu \\niçin, ilgili kod çözücüler bu karakterleri çözüp bayta \\ndönüştüremiyor. Yazdığımız kodların bu tür durumlarda \\ntamamen çökmesini engellemek için, önceki derslerimizde de \\nçeşitli vesilelerle öğrenmiş olduğumuz errors adlı bir parametreden \\nyararlanabiliriz:\\n\"\"\"\\nbytes(\\'ışık\\', encoding=\\'ascii\\', errors=\\'replace\\')',\n",
       "  \"bytes('şeker', encoding='ascii', errors='replace')\",\n",
       "  \"bytes('€', encoding='cp857', errors='replace')\",\n",
       "  \"bytes('€', encoding='cp857', errors='ignore')\",\n",
       "  \"bytes('€', encoding='cp857', errors='xmlcharrefreplace')\",\n",
       "  \"bytes('şeker', encoding='cp857', errors='xmlcharrefreplace')\",\n",
       "  '\"\"\"\\nGördüğünüz gibi, errors parametresine verdiğimiz çeşitli değerler\\nyardımıyla, bytes() fonksiyonunun, encoding parametresinde belirtilen\\nkod çözücü ile çözülemeyen karakterlerle karşılaştığında nasıl\\ndavranacağını belirleyebiliyoruz.\\n\\n\\nerrors parametresine verdiğimiz bütün bu değerleri önceki\\nderslerimizde öğrenmiştik. Dolayısıyla yukarıda gösterdiğimiz\\nkodları rahatlıkla anlayabilecek kadar Python bilgisine sahibiz.\\n\\nSon olarak, bytes() fonksiyonuna parametre olarak 0-256 arası\\nsayılardan oluşan diziler de verebiliriz:\\nBu yapı içinde Python, 0 ile 128 arası sayılar için standart \\nASCII tablosunu, 128 ile 256 arası sayılar için ise Latin-1 \\nkarakter kümesini temel alarak sayıları birer bayta dönüştürecektir.\\n\"\"\"\\nbytes([65, 10, 12, 11, 15, 66])',\n",
       "  '\"\"\"\\nbytearray()\\nBildiğiniz gibi baytlar değiştirilemeyen bir veri tipidir. \\nDolayısıyla bir bayt veri tipi üzerinde herhangi bir değişiklik\\nyapamayız. Örneğin bir baytın herhangi bir öğesini başka bir \\ndeğerle değiştiremeyiz:\\n\"\"\"\\na = bytes(\\'istihza\\', \\'ascii\\')',\n",
       "  'a[0]',\n",
       "  'a[0]=106',\n",
       "  '\"\"\"\\nAma eğer hem baytlarla çalışmak, hem de bu baytların \\nüzerinde değişiklik yapabilmek isterseniz baytlar \\nyerine bayt dizileri ile çalışabilirsiniz. İşte \\nbunun için bytearray() adlı bir fonksiyondan yararlanıyoruz.\\n\\nYaptıkları iş bakımından bytearray() ve bytes()\\nfonksiyonları birbirlerine çok benzer. Bu ikisi \\narasındaki tek fark, bytearray() ile oluşturulan \\nveri tipinin, bytes() ile oluşturulan veri tipinin\\naksine, değiştirilebilir nitelikte olmasıdır:\\n\"\"\"\\na = bytearray(\\'adana\\', \\'ascii\\')',\n",
       "  'a',\n",
       "  'a[0] = 65',\n",
       "  'a',\n",
       "  'a',\n",
       "  '\"\"\"\\nchr()\\nBu fonksiyon, kendisine parametre olarak verilen bir tam \\nsayının karakter karşılığını döndürür. Örneğin:\\n\"\"\"\\nchr(10)',\n",
       "  'chr(65)',\n",
       "  '\"\"\"\\nBu fonksiyon sayıları karakterlere dönüştürürken \\nASCII sistemini değil, UNICODE sistemini temel alır.\\nDolayısıyla bu fonksiyon ile 128 (veya 255) üstü sayıları\\nda dönüştürebiliriz. Örneğin:\\n\"\"\"\\nchr(305)',\n",
       "  '\"\"\"\\nlist()\\nBu fonksiyon iki farklı amaç için kullanılabilir:\\n\\nListe tipinde bir veri oluşturmak\\n\\nFarklı veri tiplerini liste adlı veri tipine dönüştürmek\\n\\nBirinci amaç için bu fonksiyonu şu şekilde kullanıyoruz:\\n\\n\\n\"\"\"\\nliste=list()',\n",
       "  '\"\"\"\\nlist()\\nBu fonksiyon iki farklı amaç için kullanılabilir:\\n\\nListe tipinde bir veri oluşturmak\\n\\nFarklı veri tiplerini liste adlı veri tipine dönüştürmek\\n\\nBirinci amaç için bu fonksiyonu şu şekilde kullanıyoruz:\\n\\n\\n\"\"\"\\nliste=list()\\ntype(liste)',\n",
       "  '\"\"\"\\nlist()\\nBu fonksiyon iki farklı amaç için kullanılabilir:\\n\\nListe tipinde bir veri oluşturmak\\n\\nFarklı veri tiplerini liste adlı veri tipine dönüştürmek\\n\\nBirinci amaç için bu fonksiyonu şu şekilde kullanıyoruz:\\n\\n\\n\"\"\"\\nliste=list()\\nprint(liste)',\n",
       "  'liste=list(range(1,10))\\nprint(liste)',\n",
       "  'demet=tuple(range(1,10))',\n",
       "  'demet',\n",
       "  'demet\\ntype(demet)',\n",
       "  'demet',\n",
       "  'type(demet)',\n",
       "  'liste=list(demet)',\n",
       "  'liste',\n",
       "  'type(liste)',\n",
       "  '\"\"\"\\nset()\\nset() fonksiyonu list() fonksiyonuna çok benzer. \\nBu fonksiyon da tıpkı list() fonksiyonu gibi, veri\\ntipleri arasında dönüştürme işlemleri gerçekleştirmek \\niçin kullanılabilir. set() fonksiyonunun görevi farklı \\nveri tiplerini kümeye dönüştürmektir:\\n\"\"\"\\nküme=set(demet)',\n",
       "  'küme',\n",
       "  'type(küme)',\n",
       "  '\"\"\"\\ntuple()\\ntuple() fonksiyonu da, tıpkı list(), set() ve benzerleri \\ngibi bir dönüştürücü fonksiyondur. Bu fonksiyon farklı veri \\ntiplerini demete dönüştürür:\\n\"\"\"\\ndemet=tuple(demet)',\n",
       "  'demet',\n",
       "  'type(demet)',\n",
       "  '\"\"\"\\nfrozenset()\\nBu fonksiyonu kullanarak farklı veri tiplerini \\ndondurulmuş kümeye dönüştürebilirsiniz:\\n\"\"\"\\ndf=frozenset(demet)',\n",
       "  'df',\n",
       "  'df[0]',\n",
       "  'df[0][1]',\n",
       "  '\"\"\"\\ncomplex()\\nSayılardan söz ederken, eğer matematikle çok fazla \\niçli dışlı değilseniz pek karşılaşmayacağınız, \\n‘karmaşık sayı’ adlı bir sayı türünden de bahsetmiştik.\\nKarmaşık sayılar, bir gerçek, bir de sanal kısımdan oluşan sayılardır.\\n\\nKarmaşık sayılar Python’da ‘complex’ ifadesiyle gösteriliyor.\\nMesela şu bir karmaşık sayıdır:\\n\"\"\"\\n12+0j',\n",
       "  'type(12+2j)',\n",
       "  '\"\"\"\\nİşte eğer herhangi bir sayıyı karmaşık sayıya \\ndönüştürmeniz gerekirse complex() adlı bir fonksiyondan\\nyararlanabilirsiniz. Örneğin:\\nFLOAT İNTEGER COMPLEX\\n\"\"\"\\ncomplex(15)',\n",
       "  '\"\"\"\\nBöyle bir kod yazdığımızda, verdiğimiz parametre \\nkarmaşık sayının gerçek kısmını oluşturacak, sanal kısım\\nise 0 olarak kabul edilecektir. Elbette isterseniz sanal kısmı \\nkendiniz de belirleyebilirsiniz:\\n\"\"\"\\ncomplex(15, 2)',\n",
       "  '\"\"\"\\nfloat()\\nBu fonksiyonu, sayıları veya karakter dizilerini kayan noktalı\\nsayıya dönüştürmek için kullanıyoruz:\\n\"\"\"\\nfloat(\"134\")',\n",
       "  'float(12)',\n",
       "  '\"\"\"\\nint()\\nBu fonksiyon birkaç farklı amaç için kullanılabilir.\\nint() fonksiyonunun en temel görevi, bir karakter dizisi \\nveya kayan noktalı sayıyı (eğer mümkünse) tam sayıya dönüştürmektir:\\n\"\"\"\\nint(\\'10\\')',\n",
       "  'int(12.4)',\n",
       "  '\"\"\"\\nBunun dışında bu fonksiyonu, herhangi bir sayma\\nsisteminde temsil edilen bir sayıyı onlu sayma \\nsistemine dönüştürmek için de kullanabiliriz.\\nÖrneğin:\\nint(\\'12\\', 8)\\n\"\"\"',\n",
       "  '\"\"\"\\nBunun dışında bu fonksiyonu, herhangi bir sayma\\nsisteminde temsil edilen bir sayıyı onlu sayma \\nsistemine dönüştürmek için de kullanabiliriz.\\nÖrneğin:\\n\"\"\"\\nint(\\'12\\', 8)',\n",
       "  '\"\"\"\\nBurada, sekizli sayma sistemine ait sayı değerli bir karakter \\ndizisi olan ‘12’`yi onlu sayma sistemine dönüştürdük ve böylece \\n`10 sayısını elde ettik.\\n\\nint() fonksiyonunu sayma sistemleri arasında dönüştürme işlemlerinde\\nkullanabilmek için ilk parametrenin bir karakter dizisi olması \\ngerektiğine dikkat ediyoruz.\\n\\nBu arada, int(\\'12\\', 8) komutununun 12 sayısını sekizli sayma\\nsistemine dönüştürmediğine dikkat edin. Bu komutun yaptığı iş \\nsekizli sayma sistemindeki 12 sayısını onlu sayma sistemine \\ndönüştürmektir.\\n\\nint() fonksiyonunun bu kullanımıyla ilgili bir örnek daha verelim:\\n\"\"\"\\nint(\\'4cf\\', 16)',\n",
       "  '\"\"\"\\nstr()\\nBu fonksiyonun, farklı veri tiplerini karakter dizisine\\ndönüştürmek için kullanıldığını biliyorsunuz. Örneğin:\\n\"\"\"\\nstr(12)',\n",
       "  '\"\"\"\\nBurada 12 sayısını bir karakter dizisine dönüştürdük. \\nŞimdi de bir baytı karakter dizisine dönüştürelim:\\n\"\"\"\\nbayt = b\\'istihza\\'',\n",
       "  \"ardiz = str(bayt, encoding='utf-8')\\nprint(ardiz)\",\n",
       "  '\"\"\"\\nGördüğünüz gibi, bir baytı karakter dizisine dönüştürmek \\niçin str() fonksiyonuna encoding adlı bir parametre veriyoruz.\\nFonksiyonumuz, bu parametrede hangi kodlama biçimi belirtildiyse, \\nbaytları bu kodlama biçiminin kurallarına göre bir karakter \\ndizisine dönüştürüyor.\\n\\nTahmin edebileceğiniz gibi, belirttiğiniz kodlama biçiminin \\nherhangi bir baytı karakter dizisine dönüştüremediği durumlara \\nkarşı bir errors parametresi de verebiliriz str() fonksiyonuna.\\n\\nbayt = bytes(\\'kadın\\', encoding=\\'utf-8\\')\\nprint(bayt)\\nÖrneğin elimizde bayt tipinde şöyle bir veri olduğunu varsayalım:\\n\"\"\"\\nbayt = bytes(\\'kadın\\', encoding=\\'utf-8\\')\\nprint(bayt)',\n",
       "  '\"\"\"\\nGördüğünüz gibi, bir baytı karakter dizisine dönüştürmek \\niçin str() fonksiyonuna encoding adlı bir parametre veriyoruz.\\nFonksiyonumuz, bu parametrede hangi kodlama biçimi belirtildiyse, \\nbaytları bu kodlama biçiminin kurallarına göre bir karakter \\ndizisine dönüştürüyor.\\n\\nTahmin edebileceğiniz gibi, belirttiğiniz kodlama biçiminin \\nherhangi bir baytı karakter dizisine dönüştüremediği durumlara \\nkarşı bir errors parametresi de verebiliriz str() fonksiyonuna.\\n\\nÖrneğin elimizde bayt tipinde şöyle bir veri olduğunu varsayalım:\\n\"\"\"\\nbayt = bytes(\\'kadın\\', encoding=\\'utf-8\\')\\nprint(bayt)',\n",
       "  \"kardiz = str(bayt, encoding='ascii')\",\n",
       "  '\"\"\"\\nASCII adlı kod çözücü, b\\'kadın\\' içindeki baytlardan birini \\ntanıyamadığı için bize bir hata mesajı gösterdi. Bildiğiniz\\ngibi ASCII 128’den büyük baytları dönüştüremez. İşte bu tür \\ndurumlara karşı errors parametresinden yararlanabilirsiniz:\\n\"\"\"\\nkardiz = str(bayt, encoding=\\'ascii\\', errors=\\'ignore\\')\\nprint(kardiz)',\n",
       "  '\"\"\"\\nerrors parametresine verdiğimiz ‘ignore’ değeri sayesinde \\nPython bize hata mesajı göstermek yerine, ASCII ile çözülemeyen\\nbaytı görmezden geldi. errors parametresinin hangi değerleri\\nalabileceğini önceki derslerimizden hatırlıyor olmalısınız.\\ndict()\\nBu fonksiyon, farklı veri tiplerinden sözlükler üretmemizi sağlar.\\nÖrneğin bu fonksiyonu kullanarak boş bir sözlük oluşturabiliriz:\\n\"\"\"\\ns = dict()',\n",
       "  's = dict(a=1, b=2, c=3)',\n",
       "  's',\n",
       "  \"öğeler = (['a', 1], ['b', 2], ['c', 3])\\ndict(öğeler)\",\n",
       "  '\"\"\"\\ncallable()\\nBu fonksiyon, bir nesnenin ‘çağrılabilir’ olup olmadığını \\ndenetler. Peki hangi nesneler çağrılabilir özelliktedir. \\nMesela fonksiyonlar çağrılabilir nesnelerdir. Değişkenler \\nise çağrılabilir nesneler değildir.\\n\"\"\"\\ncallable(open)',\n",
       "  'import sys\\ncallable(sys.version)',\n",
       "  '\"\"\"\\nord()\\nBu fonksiyon, bir karakterin karşılık geldiği ondalık \\nsayıyı verir. Örneğin:\\n\"\"\"\\nord(1a)',\n",
       "  '\"\"\"\\nord()\\nBu fonksiyon, bir karakterin karşılık geldiği ondalık \\nsayıyı verir. Örneğin:\\n\"\"\"\\nord(\"a\")',\n",
       "  'ord(\"ı\")',\n",
       "  '\"\"\"\\noct()\\nBu fonksiyon, bir sayıyı sekizli düzendeki karşılığına \\nçevirmemizi sağlar:\\n\"\"\"\\noct(10)',\n",
       "  '\"\"\"\\nhex()\\nBu fonksiyon, bir sayıyı onaltılı düzendeki karşılığına çevirmemizi \\nsağlar:\\n\"\"\"\\nhex(305)',\n",
       "  '\"\"\"\\neval(), exec(), globals(), locals(), compile()\\nBu bölümde beş farklı fonksiyonu bir arada inceleyeceğiz. \\nBu fonksiyonları birlikte ele almamızın nedeni bunların \\nbirbiriyle yakından bağlantılı olması.\\n\\nBurada işleyeceğimiz bu beş fonksiyon şunlardan oluşuyor:\\n\\neval()\\n\\nexec()\\n\\nglobals()\\n\\nlocals()\\n\\ncompile()\\n\\nAncak bu fonksiyonlardan söz etmeye başlamadan önce \\nPython’daki iki önemli kavramı açıklığa kavuşturmamız \\ngerekiyor: Bu kavramlar şunlar:\\n\\nifade\\n\\ndeyim\\n\\nÖncelikle ‘ifade’ kavramından başlayalım.\\n\\nİngilizcede expression denen ‘ifadeler’, bir değer \\nüretmek için kullanılan kod parçalarıdır.\\nKarakter dizileri, sayılar, işleçler, öteki veri tipleri, \\nliste üreteçleri, sözlük üreteçleri, küme üreteçleri,\\nfonksiyonlar hep birer ifadedir. Örneğin:\\n\\n5\\n\\n23 + 4\\n\\n[i for i in range(10)]\\n\\nlen([1, 2, 3])\\nİngilizcede statement olarak adlandırılan ‘deyimler’ \\nise ifadeleri de kapsayan daha geniş bir kavramdır.\\nBuna göre bütün ifadeler aynı zamanda birer deyimdir. \\nDaha doğrusu, ifadelerin bir araya gelmesi ile deyimler\\noluşturulabilir.\\n\\nDeyimlere birkaç örnek verelim:\\n\\na = 5\\n\\nif a:\\n    print(a)\\n\\nfor i in range(10):\\n    print(i)\\nPython programlama dilinde deyimlerle ifadeleri ayırt\\netmenin kolay bir yolu da eval() fonksiyonundan yararlanmaktır.\\nEğer deyim mi yoksa ifade mi olduğundan emin olamadığınız \\nbir şeyi eval() fonksiyonuna parametre olarak verdiğinizde\\nhata almıyorsanız o parametre bir ifadedir. Eğer hata\\nalıyorsanız o parametre bir deyimdir. Çünkü eval()\\nfonksiyonuna parametre olarak yalnızca ifadeler verilebilir.\\n\\nBirkaç örnek verelim:\\n\\neval(\\'a = 5\\')\\n\\n  File \"<string>\", line 1\\n    a = 5\\n      ^\\nSyntaxError: invalid syntax\\nGördüğünüz gibi, eval() fonksiyonu bize bir hata mesajı verdi.\\nÇünkü a = 5 kodu bir deyimdir. Unutmayın, Python’da bütün\\ndeğer atama işlemleri birer deyimdir. Dolayısıyla eval() \\nfonksiyonu bu deyimi parametre olarak alamaz.\\n\\nBir de şuna bakalım:\\n\\neval(\\'5 + 25\\')\\n\\n30\\nBu defa hata almadık. Çünkü eval() fonksiyonuna, olması\\ngerektiği gibi, parametre olarak bir ifade verdik.\\nBildiğiniz gibi, 5 + 25 kodu bir ifadedir.\\n\\nDediğimiz gibi, eval() fonksiyonu deyimleri parametre \\nolarak alamaz. Ama exec() fonksiyonu alabilir:\\n\\nexec(\\'a = 5\\')\\nBu şekilde, değeri 5 olan a adlı bir değişken oluşturmuş \\nolduk. İsterseniz kontrol edelim:\\n\\nprint(a)\\n\\n5\\nGördüğünüz gibi, exec() fonksiyonu, mevcut isim alanı\\niçinde a adlı bir değişken oluşturdu. Yalnız elbette \\nmevcut isim alanı içinde yeni değişkenler ve yeni değerler \\noluştururken dikkatli olmamız gerektiğini biliyorsunuz.\\nZira mesela yukarıdaki komutu vermeden önce mevcut isim \\nalanında zaten a adlı bir değişken varsa, o değişkenin \\ndeğeri değişecektir:\\n\\na = 20\\nElimizde, değeri 20 olan a adlı bir değişken var. \\nŞimdi exec() fonksiyonu yardımıyla a değişkeninin\\nde içinde yer aldığı mevcut isim alanına müdahale ediyoruz:\\n\\nexec(\\'a = 10\\')\\nBöylece a değişkeninin eski değerini silmiş olduk. Kontrol edelim:\\n\\nprint(a)\\n\\n10\\nBu tür durumlarda, exec() ile oluşturduğunuz değişkenleri \\nglobal isim alanına değil de, farklı bir isim alanına \\ngöndermeyi tercih edebilirsiniz. Peki ama bunu nasıl yapacağız?\\n\\nPython programlama dilinde isim alanları sözlük tipinde bir veridir. \\nÖrneğin global isim alanı basit bir sözlükten ibarettir.\\n\\nGlobal isim alanını gösteren sözlükte hangi anahtar ve \\ndeğerlerin olduğunu görmek için globals() adlı bir \\nfonksiyonu kullanabilirsiniz:\\n\\nglobals()\\nBu fonksiyonu çalıştırdığımızda şuna benzer bir çıktı alırız:\\n\\n{\\'__doc__\\': None, \\'__loader__\\': <class \\'_frozen_importlib.BuiltinImpor\\nter\\'>,\\'__name__\\': \\'__main__\\', \\'__package__\\': None, \\'__builtins__\\':\\n<module \\'builtins\\'>}\\nGördüğünüz gibi, elimizdeki şey gerçekten de bir sözlük. \\nDolayısıyla bir sözlük ile ne yapabilirsek bu sözlükle de\\naynı şeyi yapabiliriz…\\n\\n‘globals’ adlı bu sözlüğün içeriği, o anda global isim\\nalanında bulunan nesnelere göre farklılık gösterecektir. Örneğin:\\n\\nx = 10\\nşeklinde 10 değerine sahip bir x nesnesi tanımladıktan sonra \\nglobals() fonksiyonunu tekrar çalıştırırsanız global isim\\nalanına bu nesnenin de eklenmiş olduğunu görürsünüz.\\n\\nDediğimiz gibi, globals() fonksiyonundan dönen nesne bir sözlüktür. \\nBu sözlüğe, herhangi bir sözlüğe veri ekler gibi değer de\\nekleyebilirsiniz:\\n\\nglobals()[\\'z\\'] = 23\\nBu şekilde global isim alanına z adlı bir değişken eklemiş oldunuz:\\n\\nz\\n\\n23\\nYalnız, Python programlama dili bize bu şekilde global isim alanına\\nnesne ekleme imkanı verse de, biz mecbur değilsek bu yöntemi\\nkullanmaktan kaçınmalıyız. Çünkü bu şekilde sıradışı bir yöntemle\\ndeğişken tanımladığımız için aslında global isim alanını, nerden \\ngeldiğini kestirmenin güç olduğu değerlerle ‘kirletmiş’ oluyoruz.\\n\\nBildiğiniz gibi, Python’da global isim alanı dışında bir de lokal isim \\nlanı bulunur. Lokal isim alanlarının, fonksiyonlara \\n(ve ileride göreceğimiz gibi sınıflara) ait bir isim alanı\\nolduğunu biliyorsunuz. İşte bu isim alanlarına ulaşmak için de \\nlocals() adlı bir fonksiyondan yararlanacağız:\\n\\ndef fonksiyon(param1, param2):\\n    x = 10\\n    print(locals())\\n\\nfonksiyon(10, 20)\\nBu fonksiyonu çalıştırdığınızda şu çıktıyı alacaksınız:\\n\\n{\\'param2\\': 20, \\'param1\\': 10, \\'x\\': 10}\\nGördüğünüz gibi, locals() fonksiyonu gerçekten de bize fonksiyon()\\nadlı fonksiyon içindeki lokal değerleri veriyor.\\n\\nglobals() ve locals() fonksiyonlarının ne işe yaradığını \\nincelediğimize göre exec() fonksiyonunu anlatırken kaldığımız yere \\ndönebiliriz.\\n\\nNe diyorduk?\\n\\nElimizde, değeri 20 olan a adlı bir değişken vardı:\\n\\na = 20\\nexec() fonksiyonu yardımıyla a değişkeninin de içinde yer aldığı \\nmevcut isim alanına müdahale edelim:\\n\\nexec(\\'a = 3\\')\\nBu şekilde a değişkeninin varolan değerini silmiş olduk:\\n\\nprint(a)\\n\\n3\\nDediğimiz gibi, bu tür durumlarda, exec() ile oluşturduğunuz \\ndeğişkenleri global isim alanı yerine farklı bir isim alanına \\ngöndermeyi tercih etmemiz daha uygun olacaktır. Python’da isim\\nalanlarının basit bir sözlük olduğunu öğrendiğimize göre, exec() \\nile oluşturduğumuz değişkenleri global isim alanı yerine nasıl \\nfarklı bir isim alanına göndereceğimizi görebiliriz.\\n\\nÖnce yeni bir isim alanı oluşturalım:\\n\\nia = {}\\nŞimdi exec() ile oluşturacağımız değerleri bu isim alanına \\ngönderebiliriz:\\n\\nexec(\\'a = 3\\', ia)\\nBöylece global isim alanındaki a değişkeninin değerine dokunmamış\\nolduk:\\n\\na\\n\\n20\\nYeni oluşturduğumuz değer ise ia adlı yeni isim alanına gitti:\\n\\nia[\\'a\\']\\n\\n3\\n\\n\"\"\"\\neval(\"a=5\")',\n",
       "  \"eval('5 + 25')\",\n",
       "  \"exec('a = 5')\",\n",
       "  'print(a)',\n",
       "  'a = 20',\n",
       "  \"exec('a = 10')\",\n",
       "  'print(a)',\n",
       "  '\"\"\"\\nBu tür durumlarda, exec() ile oluşturduğunuz\\ndeğişkenleri global isim alanına değil de, \\nfarklı bir isim alanına göndermeyi tercih edebilirsiniz. \\nPeki ama bunu nasıl yapacağız?\\nPython programlama dilinde isim alanları sözlük tipinde bir veridir.\\nÖrneğin global isim alanı basit bir sözlükten ibarettir.\\n\"\"\"\\nglobals()'],\n",
       " '_oh': {1: 20,\n",
       "  2: 20,\n",
       "  3: 20.396078054371138,\n",
       "  4: 12,\n",
       "  5: 12,\n",
       "  6: 1,\n",
       "  7: 12,\n",
       "  8: 3.142857142857143,\n",
       "  9: 3,\n",
       "  10: 3,\n",
       "  11: 3.0,\n",
       "  12: 3.1,\n",
       "  13: 3.1429,\n",
       "  15: True,\n",
       "  16: False,\n",
       "  17: False,\n",
       "  18: True,\n",
       "  19: True,\n",
       "  24: True,\n",
       "  25: True,\n",
       "  26: '\\nany()\\nAny kelimesi İngilizcede ‘herhangi bir’ anlamına gelir.\\nİşte any() fonksiyonunun görevi de, bir dizi içindeki \\nbütün değerlerden en az biri True ise True çıktısı vermektir.\\nALL FONKSİYONUNUN TERSİ\\n',\n",
       "  27: False,\n",
       "  28: False,\n",
       "  29: True,\n",
       "  30: True,\n",
       "  31: False,\n",
       "  32: 'istihza',\n",
       "  40: '[',\n",
       "  41: \"'\\\\u015feker'\",\n",
       "  42: \"'şeker'\",\n",
       "  43: False,\n",
       "  44: True,\n",
       "  45: False,\n",
       "  46: '0b1100',\n",
       "  47: '0b1',\n",
       "  48: '0b10',\n",
       "  49: '0b11',\n",
       "  50: '0b100',\n",
       "  51: '0b101',\n",
       "  52: '0b110',\n",
       "  53: '0b111',\n",
       "  54: b'\\x00\\x00\\x00\\x00\\x00\\x00\\x00\\x00\\x00\\x00',\n",
       "  56: b'\\x00\\x00\\x00\\x00\\x00\\x00\\x00\\x00\\x00\\x00',\n",
       "  57: 0,\n",
       "  59: 0,\n",
       "  61: 0,\n",
       "  63: b'devrim',\n",
       "  64: b'\\xc4\\xb1\\xc5\\x9f\\xc4\\xb1k',\n",
       "  65: b'\\x8d\\x9f\\x8dk',\n",
       "  66: b'\\xfd\\xfe\\xfdk',\n",
       "  67: b'\\xc4\\xb1\\xc5\\x9f\\xc4\\xb1k',\n",
       "  68: b'\\xfd\\xfe\\xfdk',\n",
       "  69: b'\\x8d\\x9f\\x8dk',\n",
       "  78: b'???k',\n",
       "  79: b'?eker',\n",
       "  80: b'?',\n",
       "  81: b'',\n",
       "  82: b'&#8364;',\n",
       "  83: b'\\x9feker',\n",
       "  84: b'A\\n\\x0c\\x0b\\x0fB',\n",
       "  86: 105,\n",
       "  89: bytearray(b'Adana'),\n",
       "  91: bytearray(b'Adana'),\n",
       "  92: bytearray(b'Adana'),\n",
       "  93: '\\n',\n",
       "  94: 'A',\n",
       "  95: 'ı',\n",
       "  97: list,\n",
       "  101: (1, 2, 3, 4, 5, 6, 7, 8, 9),\n",
       "  102: tuple,\n",
       "  103: (1, 2, 3, 4, 5, 6, 7, 8, 9),\n",
       "  104: tuple,\n",
       "  106: [1, 2, 3, 4, 5, 6, 7, 8, 9],\n",
       "  107: list,\n",
       "  109: {1, 2, 3, 4, 5, 6, 7, 8, 9},\n",
       "  110: set,\n",
       "  112: (1, 2, 3, 4, 5, 6, 7, 8, 9),\n",
       "  113: tuple,\n",
       "  115: frozenset({1, 2, 3, 4, 5, 6, 7, 8, 9}),\n",
       "  118: (12+0j),\n",
       "  119: complex,\n",
       "  120: (15+0j),\n",
       "  121: (15+2j),\n",
       "  122: 134.0,\n",
       "  123: 12.0,\n",
       "  124: 10,\n",
       "  125: 12,\n",
       "  126: \"\\nBunun dışında bu fonksiyonu, herhangi bir sayma\\nsisteminde temsil edilen bir sayıyı onlu sayma \\nsistemine dönüştürmek için de kullanabiliriz.\\nÖrneğin:\\nint('12', 8)\\n\",\n",
       "  127: 10,\n",
       "  128: 1231,\n",
       "  129: '12',\n",
       "  138: {'a': 1, 'b': 2, 'c': 3},\n",
       "  139: {'a': 1, 'b': 2, 'c': 3},\n",
       "  140: True,\n",
       "  141: False,\n",
       "  143: 97,\n",
       "  144: 305,\n",
       "  145: '0o12',\n",
       "  146: '0x131',\n",
       "  148: 30},\n",
       " '_dh': ['/home/devrm1283/Masaüstü/Python'],\n",
       " 'In': ['',\n",
       "  '\"\"\"\\nGömülü Fonksiyonlar\\nBu bölümde, daha önce de birkaç kez bahsettiğimiz ve \\nçokça örneğini gördüğümüz bir kavramdan söz edeceğiz.\\nBu kavramın adı ‘gömülü fonksiyonlar’.\\n\\nEsasında biz buraya gelene kadar Python’da pek çok gömülü \\nfonksiyon gördük. Dolayısıyla aslında görünüş olarak bunların\\nneye benzediğini biliyoruz. Örneğin daha önceki derslerimizde\\ngördüğümüz print() gömülü bir fonksiyondur. \\nAynı şekilde open(), type(), len(), pow(), bin() \\nve şimdiye kadar tanıştığımız öteki bütün fonksiyonlar\\nbirer gömülü fonksiyondur.\\n\\nGömülü fonksiyonlar İngilizcede builtin functions olarak \\nadlandırılır. Bu fonksiyonlar gerçekten de dile gömülü\\nvaziyettedirler. Bildiğiniz gibi, bir fonksiyonu kullanabilmemiz \\niçin o fonksiyonu tanımlamamız gerekir. İşte gömülü fonksiyonlar,\\nbizim tanımlamamıza gerek kalmadan, Python geliştiricileri tarafından \\nönceden tanımlanıp dile gömülmüş ve hizmetimize sunulmuş faydalı\\nbirtakım araçlardır.\\n\\nİşte bu bölümde biz de bu gömülü fonksiyonları tek tek ve\\nayrıntılı olarak inceleyeceğiz. Dediğimiz gibi, bunlardan \\nbir kısmını halihazırda görmüştünüz. Ama biz bütünlük\\naçısından, önceden ele almış olduğumuz bu fonksiyonlara \\nda kısaca değinmeden geçmeyeceğiz. Böylelikle hem yeni \\nfonksiyonlar öğrenmiş olacağız hem de önceden öğrendiğimiz \\nfonksiyonlarla birlikte yeni fonksiyonları da derli toplu \\nbir şekilde görme imkanımız olacak.\\n\\nBu bölümde elbette birtakım fonksiyonları salt art arda \\nsıralamakla yetinmeyeceğiz. Python’daki gömülü fonksiyonları\\nincelerken bir yandan da Python programlama dilindeki çok\\nönemli bazı kavramları ele alacağız.\\n\\nİlk olarak abs() adlı bir fonksiyonla başlıyoruz gömülü \\nfonksiyonları incelemeye…\\n\\n\\nabs()\\nİngilizcede ‘mutlak’ anlamına gelen absolute adlı bir \\nkelime bulunur. İşte bu fonksiyonun adı da bu kelimeden \\ngelir. Fonksiyonumuzun görevi de isminin anlamına yakındır.\\nabs() fonksiyonunu bir sayının mutlak değerini elde etmek \\niçin kullanıyoruz.\\n\\n\\nPeki ‘mutlak değer’ ne anlama geliyor. Esasında siz bu \\nkavrama matematik derslerinden aşinasınız. Ama bilmeyenler\\nveya unutmuş olanlar için tekrar edelim. ‘Mutlak değer’\\nbir sayının 0’a olan uzaklığıdır. Örneğin 20 sayısının\\n0 sayısına olan uzaklığı 20’dir. Dolayısıyla 20 sayısının\\nmutlak değeri 20’dir. Aynı şekilde -20 sayısının da 0\\nsayısına uzaklığı 20’dir. Yani, -20 sayısının da mutlak \\ndeğeri 20’dir.\\n\\n\\nİşte abs() fonksiyonu bize bir sayının mutlak değerinin\\nne olduğunu söyler:\\nMutlak değer kavramı yalnızca tamsayılar ve kayan \\nnoktalı sayılar için değil, aynı zamanda karmaşık \\nsayılar için de geçerlidir. Dolayısıyla abs()\\nfonksiyonunu kullanarak karmaşık sayıların da\\nmutlak değerini hesaplayabiliriz:\\nGördüğünüz gibi bu fonksiyon yalnızca tek bir parametre\\nalıyor ve bu parametrenin mutlak değerini döndürüyor.\\n\"\"\"\\nabs(-20)',\n",
       "  'abs(20)',\n",
       "  'abs(20+4j)',\n",
       "  '\"\"\"\\nround()\\nround() fonksiyonu bir sayıyı belli ölçütlere\\ngöre yukarı veya aşağı doğru yuvarlamamızı sağlar.\\nBasit birkaç örnek verelim:\\n\"\"\"\\nround(12,4)',\n",
       "  'round(12,7)',\n",
       "  '\"\"\"\\nGördüğünüz gibi bu fonksiyon, kayan noktalı sayıları \\nen yakın tam sayıya doğru yuvarlıyor.\\n\\nAncak burada dikkat etmemiz gereken bir nokta var.\\n\\nŞu örnekleri bir inceleyelim:\\n\"\"\"\\nround(1,5)',\n",
       "  'round(12.5)',\n",
       "  '\"\"\"\\nGördüğünüz gibi, fonksiyonumuz 1.5 sayısını yukarı doğru, \\n12.5 sayısını ise aşağı doğru yuvarladı. Bunun sebebi,\\nkayan noktalı bir sayının üst ve alt tam sayılara olan \\nuzaklığının birbirine eşit olduğu durumlarda Python’ın\\nçift sayıya doğru yuvarlama yapmayı tercih etmesidir.\\nMesela yukarıdaki örneklerde 1.5 sayısı hem 1 sayısına,\\nhem de 2 sayısına eşit uzaklıkta bulunuyor. İşte Python\\nbu durumda, bir çift sayı olan 2 sayısına doğru yuvarlamayı\\ntercih edecektir.\\n\\nround() fonksiyonu toplam iki parametre alır. İlk parametre,\\nyuvarlanacak sayının kendisidir. Yuvarlama hassasiyetini \\nbelirlemek için ise ikinci bir parametreden yararlanabiliriz.\\n\\nÖrneğin 22 sayısını 7’ye böldüğümüzde normalde şöyle bir \\nçıktı elde ederiz:\\n\"\"\"\\n22/7',\n",
       "  '\"\"\"\\nround() fonksiyonunu tek parametre ile \\nkullandığımızda bu fonksiyon yukarıdaki\\nsayıyı şu şekilde yuvarlayacaktır:\\n\"\"\"\\nround(22/7)',\n",
       "  '\"\"\"\\nİşte biz round() fonksiyonuna ikinci bir parametre daha\\nvererek, yuvarlama hassasiyetini kontrol edebiliriz.\\n\\nAşağıdaki örnekleri dikkatlice inceleyin:\\n\"\"\"\\nround(22/7)',\n",
       "  'round(22/7,0)',\n",
       "  'round(22/7,1)',\n",
       "  'round(22/7,4)',\n",
       "  '\"\"\"\\nall()\\n\\nAll kelimesi Türkçede ‘hepsi’ anlamına gelir.\\nBu fonksiyonun görevi de bu anlamı çağrıştırır.\\nall() fonksiyonunun görevi, bir dizi içinde bulunan \\nbütün değerler True ise True değeri, eğer bu değerlerden\\nherhangi biri False ise de False değeri döndürmektir.\\n\\nÖrneğin elimizde şöyle bir liste olduğunu varsayalım:\\n\"\"\"\\nliste = [1, 2, 3, 4]',\n",
       "  'all(liste)',\n",
       "  '\"\"\"\\nBildiğiniz gibi, 0 hariç bütün sayıların bool değeri True’dur. \\nYukarıdaki listede False değeri verebilecek herhangi bir değer \\nbulunmadığından, all() fonksiyonu bu liste için True değerini \\nveriyor. Bir de şuna bakalım:\\n\"\"\"\\nliste = [0, 1, 2, 3, 4]\\nall(liste)',\n",
       "  '\"\"\"\\nDediğimiz gibi, all() fonksiyonu ancak dizi içindeki bütün \\ndeğerlerin bool değeri True ise True çıktısı verecektir.\\n\\nSon bir örnek daha verelim:\\n\"\"\"\\nliste = [\\'ahmet\\', \\'mehmet\\', \\'\\']\\nall(liste)',\n",
       "  '\"\"\"\\nListede False değerine sahip bir boş karakter dizisi bulunduğu\\niçin all() fonksiyonu False çıktısı veriyor.\\n\\nBu fonksiyonu her türlü kodun bool değerlerini test etmek için \\nkullanabilirsiniz. Mesela bu fonksiyonu kullanarak, bir nesnenin\\nlistelenen özelliklerin hepsine sahip olup olmadığını \\ndenetleyebilirsiniz:\\n\"\"\"\\na = 3\\nt1 = a == 3         #sayı 3 mü?\\nt2 = a < 4          #sayı 4\\'ten küçük mü?\\nt3 = a % 2 == 1     #sayı bir tek sayı mı?\\nall([t1, t2, t3])   #sayı bu özelliklerin hepsine sahip mi?',\n",
       "  '\"\"\"\\nListede False değerine sahip bir boş karakter dizisi bulunduğu\\niçin all() fonksiyonu False çıktısı veriyor.\\n\\nBu fonksiyonu her türlü kodun bool değerlerini test etmek için \\nkullanabilirsiniz. Mesela bu fonksiyonu kullanarak, bir nesnenin\\nlistelenen özelliklerin hepsine sahip olup olmadığını \\ndenetleyebilirsiniz:\\n\"\"\"\\na = 3\\nt1 = a == 3         #sayı 3 mü?\\nt2 = a < 4          #sayı 4\\'ten küçük mü?\\nt3 = a % 2 == 1     #sayı bir tek sayı mı?\\nall([t1, t2, t3])   #sayı bu özelliklerin hepsine sahip mi?',\n",
       "  'a = 3\\nt1 = a == 3   \\nall(t1)',\n",
       "  'a = 3\\nt1 = a == 3   \\nt2 = a < 4   \\nall(t1)',\n",
       "  'a = 3\\nt1 = a == 3   \\nt2 = a < 4   \\nall(t1,t2)',\n",
       "  'a = 3\\nt1 = a == 3   \\nt2 = a < 4   \\nt3 = a % 2 == 1 \\nall(t1,t2,t3)',\n",
       "  '\"\"\"\\nListede False değerine sahip bir boş karakter dizisi bulunduğu\\niçin all() fonksiyonu False çıktısı veriyor.\\n\\nBu fonksiyonu her türlü kodun bool değerlerini test etmek için \\nkullanabilirsiniz. Mesela bu fonksiyonu kullanarak, bir nesnenin\\nlistelenen özelliklerin hepsine sahip olup olmadığını \\ndenetleyebilirsiniz:\\n\"\"\"\\na = 3\\nt1 = a == 3         #sayı 3 mü?\\nt2 = a < 4          #sayı 4\\'ten küçük mü?\\nt3 = a % 2 == 1     #sayı bir tek sayı mı?\\nall([t1, t2, t3])   #sayı bu özelliklerin hepsine sahip mi?',\n",
       "  'a = 3\\nt1 = a == 3   \\nt2 = a < 4   \\nt3 = a % 2 == 1 \\nall([t1])',\n",
       "  '\"\"\"\\nany()\\nAny kelimesi İngilizcede ‘herhangi bir’ anlamına gelir.\\nİşte any() fonksiyonunun görevi de, bir dizi içindeki \\nbütün değerlerden en az biri True ise True çıktısı vermektir.\\nALL FONKSİYONUNUN TERSİ\\n\"\"\"',\n",
       "  '\"\"\"\\nany()\\nAny kelimesi İngilizcede ‘herhangi bir’ anlamına gelir.\\nİşte any() fonksiyonunun görevi de, bir dizi içindeki \\nbütün değerlerden en az biri True ise True çıktısı vermektir.\\nALL FONKSİYONUNUN TERSİ\\n\"\"\"\\nliste = [0, 1, 2, 3, 4]\\nall(liste)',\n",
       "  \"liste = ['ahmet', 'mehmet', '']\\nall(liste)\",\n",
       "  '\"\"\"\\nany()\\nAny kelimesi İngilizcede ‘herhangi bir’ anlamına gelir.\\nİşte any() fonksiyonunun görevi de, bir dizi içindeki \\nbütün değerlerden en az biri True ise True çıktısı vermektir.\\nALL FONKSİYONUNUN TERSİ\\n\"\"\"\\nliste = [0, 1, 2, 3, 4]\\nany(liste)',\n",
       "  \"liste = ['ahmet', 'mehmet', '']\\nany(liste)\",\n",
       "  \"l = ['', 0, [], (), set(), dict()]\\nany(l)\",\n",
       "  '\"\"\"\\nascii()\\nBu fonksiyon, bir nesnenin ekrana basılabilir\\nhalini verir bize. Dilerseniz bu fonksiyonun yaptığı \\nişi tanımlamak yerine bunu bir örnek üzerinden anlatmaya çalışalım:\\n\"\"\"\\na = \\'istihza\\'\\nprint(ascii(a))\\n\\n\\'istihza\\'',\n",
       "  '\"\"\"\\nBu fonksiyonun, print() fonksiyonundan farklı olarak,\\nçıktıya tırnak işaretlerini de eklediğine dikkat edin.\\n\\nascii() fonksiyonunun tam olarak ne yaptığını daha iyi \\nanlamak için herhalde şu örnek daha faydalı olacaktır.\\n\\nDikkatlice bakın:\\n\"\"\"\\nprint(\\'\\\\n\\')',\n",
       "  '\"\"\"\\nBu komutu verdiğimizde, n kaçış dizisinin etkisiyle\\nyeni satıra geçileceğini biliyorsunuz.\\n\\nBir de şuna bakın:\\n\"\"\"\\nprint(ascii(\\'\\\\n!\\'))',\n",
       "  '\"\"\"\\nBu komutu verdiğimizde, n kaçış dizisinin etkisiyle\\nyeni satıra geçileceğini biliyorsunuz.\\n\\nBir de şuna bakın:\\n\"\"\"\\nprint(ascii(\\'\\\\n\\'))',\n",
       "  '\"\"\"\\nGördüğünüz gibi, ascii() fonksiyonu, satır başı kaçış \\ndizisinin görevini yapmasını sağlamak yerine bu kaçış \\ndizisinin ekrana basılabilir halini veriyor bize.\\n\\n\\nAyrıca bu fonksiyon, karakter dizileri içindeki Türkçe\\nkarakterlerin de UNICODE temsillerini döndürür. Örneğin:\\n\"\"\"\\na = \\'ışık\\'\\nprint(ascii(a))',\n",
       "  'a=\"Devrim Tunçer\"\\nprint(ascii(a))',\n",
       "  '\"\"\"\\nGördüğünüz gibi, ascii() fonksiyonu ASCII olmayan karakterlerle \\nkarşılaştığında bunların karakter temsilleri yerine UNICODE\\ntemsillerini (veya onaltılık sayma düzenindeki karşılıklarını)\\nveriyor.\\n\\nSon olarak şu örneğe bakalım:\\n\"\"\"\\nliste = [\\'elma\\', \\'armut\\', \\'erik\\']\\ntemsil = ascii(liste)\\nprint(temsil)',\n",
       "  '\"\"\"\\nBurada listemiz ascii() fonksiyonuna parametre olarak \\nverildikten sonra artık liste olma özelliğini yitirip \\nbir karakter dizisi haline gelir. Bunu denetleyelim:\\n\"\"\"\\nprint(type(temsil))',\n",
       "  'temsil[0]',\n",
       "  '\"\"\"\\nrepr()\\nrepr() fonksiyonunun yaptığı iş, biraz önce gördüğümüz ascii() \\nfonksiyonunun yaptığı işe çok benzer. Bu iki fonksiyon, ASCII\\nolmayan karakterlere muameleleri açısından birbirinden ayrılır.\\n\\nHatırlarsanız ascii() fonksiyonu ASCII olmayan karakterlerle \\nkarşılaştığında bunların UNICODE (veya onaltılık) temsillerini\\ngösteriyordu\\n\"\"\"\\nascii(\"şeker\")',\n",
       "  '\"\"\"\\nrepr() fonksiyonu ise ASCII olmayan karakterlerle karşılaşsa bile,\\nbize çıktı olarak bunların da karakter karşılıklarını gösterir:\\n\"\"\"\\nrepr(\"şeker\")',\n",
       "  '\"\"\"\\nbool()\\nBu fonksiyon bir nesnenin bool değerini verir:\\n\"\"\"\\nbool(0)',\n",
       "  'bool(1)',\n",
       "  'bool([])',\n",
       "  '\"\"\"\\nbin()\\nBu fonksiyon, bir sayının ikili düzendeki karşılığını verir:\\nBu fonksiyonun verdiği çıktının bir sayı değil,\\nkarakter dizisi olduğuna dikkat etmelisiniz.\\n\"\"\"\\nbin(12)',\n",
       "  'bin(1)',\n",
       "  'bin(2)',\n",
       "  'bin(3)',\n",
       "  'bin(4)',\n",
       "  'bin(5)',\n",
       "  'bin(6)',\n",
       "  'bin(7)',\n",
       "  '\"\"\"\\nbytes()\\nBu fonksiyon bytes türünde nesneler oluşturmak için kullanılır. \\nBu fonksiyonu ‘bayt’ adlı veri tipini incelerken ayrıntılı olarak \\nele almıştık. Gelin isterseniz burada da bu fonksiyona şöyle bir\\ndeğinelim.\\n\\nDediğimiz gibi, bytes() adlı fonksiyon, bytes türünde veriler\\noluşturmaya yarar. Bu fonksiyon işlev olarak, daha önce öğrendiğimiz \\nlist(), str(), int(), set(), dict() gibi fonksiyonlara çok benzer. \\nTıpkı bu fonksiyonlar gibi, bytes() fonksiyonunun görevi de farklı\\nveri tiplerini ‘bayt’ adlı veri tipine dönüştürmektir.\\n\\nBu fonksiyon, kendisine verilen parametrelerin türüne bağlı olarak \\nbirbirinden farklı sonuçlar ortaya çıkarır. Örneğin eğer bu fonksiyona\\nparametre olarak bir tam sayı verecek olursanız, bu fonksiyon size\\no tam sayı miktarınca bir bayt nesnesi verecektir. Gelin isterseniz\\nbu durumu örnekler üzerinde göstermeye çalışalım:\\n\"\"\"\\nbytes(10)',\n",
       "  'a=bytes(10)',\n",
       "  'a',\n",
       "  'a[0]',\n",
       "  'a(7)',\n",
       "  'a[7]',\n",
       "  'a[10]',\n",
       "  'a[9]',\n",
       "  '\"\"\"\\nGördüğünüz gibi, bytes(10) komutuyla oluşturduğumuz a \\ndeğişkeni içinde toplam 10 adet bayt var ve bu baytların her \\nbirinin değeri 0.\\n\\nYukarıda, bytes() fonksiyonuna bir tam sayı değerli \\nparametre verdiğimizde nasıl bir sonuç alacağımızı öğrendik.\\nPeki biz bu fonksiyona parametre olarak bir karakter dizisi \\nverirsek ne olur?\\n\\nHemen görelim:\\n\"\"\"\\nbytes(\"devrim\")',\n",
       "  '\"\"\"\\nBu fonksiyona karakter dizilerini doğrudan parametre olarak\\nveremeyiz. Eğer verirsek yukarıdaki gibi bir hata alırız.\\nPeki acaba bu hatayı almamızın nedeni ne olabilir?\\n\\nDediğimiz gibi, bytes() fonksiyonu, çeşitli veri tiplerini \\nbayta dönüştürmeye yarar. Ancak bildiğiniz gibi,\\nbayta dönüştürme işlemi her kod çözücü tarafından\\nfarklı biçimde yapılır. Örneğin:\\n\"\"\"\\n\"devrim\".encode(\"utf-8\")',\n",
       "  '\"\"\"\\nBu fonksiyona karakter dizilerini doğrudan parametre olarak\\nveremeyiz. Eğer verirsek yukarıdaki gibi bir hata alırız.\\nPeki acaba bu hatayı almamızın nedeni ne olabilir?\\n\\nDediğimiz gibi, bytes() fonksiyonu, çeşitli veri tiplerini \\nbayta dönüştürmeye yarar. Ancak bildiğiniz gibi,\\nbayta dönüştürme işlemi her kod çözücü tarafından\\nfarklı biçimde yapılır. Örneğin:\\n\"\"\"\\n\"ışık\".encode(\"utf-8\")',\n",
       "  \"'ışık'.encode('cp857')\",\n",
       "  \"'ışık'.encode('cp1254')\",\n",
       "  '\"\"\"\\nDolayısıyla, bytes() fonksiyonunun bir karakter dizisini\\nbayta çevirirken nasıl davranması gerektiğini anlayabilmesi\\niçin, bayta dönüştürme işlemini hangi kod çözücü ile yapmak\\nistediğimizi açıkça belirtmemiz gerekir:\\n\"\"\"\\nbytes(\"ışık\",\"utf-8\")',\n",
       "  \"bytes('ışık', 'cp1254')\",\n",
       "  \"bytes('ışık', 'cp857')\",\n",
       "  '\"\"\"\\nGördüğünüz gibi, bytes() fonksiyonuna parametre olarak bir karakter \\ndizisi verebilmek için, bu karakter dizisi ile birlikte bir\\nkod çözücü de belirtmemiz gerekiyor. Böylece bytes() fonksiyonu\\nkendisine verdiğimiz karakter dizisini, belirttiğimiz kod\\nçözücünün kurallarına göre bayta dönüştürüyor.\\n\\nBu arada, çıktıda görünen ‘b’ harflerinin, elimizdeki verinin \\nbir bayt olduğunu gösteren bir işaret olduğunu biliyorsunuz.\\n\\nAyrıca, bytes() fonksiyonuna verdiğimiz ikinci parametrenin \\nisminin encoding olduğunu ve bu parametreyi isimli bir \\nparametre olarak da kullanabileceğimizi belirtelim:\\n\"\"\"\\nbytes(\"devrim\",encoding(\"ascii\"))',\n",
       "  '\"\"\"\\nGördüğünüz gibi, bytes() fonksiyonuna parametre olarak bir karakter \\ndizisi verebilmek için, bu karakter dizisi ile birlikte bir\\nkod çözücü de belirtmemiz gerekiyor. Böylece bytes() fonksiyonu\\nkendisine verdiğimiz karakter dizisini, belirttiğimiz kod\\nçözücünün kurallarına göre bayta dönüştürüyor.\\n\\nBu arada, çıktıda görünen ‘b’ harflerinin, elimizdeki verinin \\nbir bayt olduğunu gösteren bir işaret olduğunu biliyorsunuz.\\n\\nAyrıca, bytes() fonksiyonuna verdiğimiz ikinci parametrenin \\nisminin encoding olduğunu ve bu parametreyi isimli bir \\nparametre olarak da kullanabileceğimizi belirtelim:\\n\"\"\"\\nbytes(\"istiizha\",encoding(\"ascii\"))',\n",
       "  '\"\"\"\\nGördüğünüz gibi, bytes() fonksiyonuna parametre olarak bir karakter \\ndizisi verebilmek için, bu karakter dizisi ile birlikte bir\\nkod çözücü de belirtmemiz gerekiyor. Böylece bytes() fonksiyonu\\nkendisine verdiğimiz karakter dizisini, belirttiğimiz kod\\nçözücünün kurallarına göre bayta dönüştürüyor.\\n\\nBu arada, çıktıda görünen ‘b’ harflerinin, elimizdeki verinin \\nbir bayt olduğunu gösteren bir işaret olduğunu biliyorsunuz.\\n\\nAyrıca, bytes() fonksiyonuna verdiğimiz ikinci parametrenin \\nisminin encoding olduğunu ve bu parametreyi isimli bir \\nparametre olarak da kullanabileceğimizi belirtelim:\\n\"\"\"\\nbytes(\"istizha\",encoding(\"ascii\"))',\n",
       "  '\"\"\"\\nBu noktada size şöyle bir soru sorayım: \\nAcaba bytes() fonksiyonuna ilk parametre \\nolarak verdiğimiz karakter dizisi, ikinci \\nparametrede belirttiğimiz kod çözücü tarafından tanınmazsa ne olur?\\n\\nCevabı tahmin edebilirsiniz: Böyle bir durumda \\nelbette Python bize bir hata mesajı gösterir:\\n\\n\"\"\"\\nbytes(\\'şeker\\', \\'ascii\\')',\n",
       "  '\"\"\"\\nBu noktada size şöyle bir soru sorayım: \\nAcaba bytes() fonksiyonuna ilk parametre \\nolarak verdiğimiz karakter dizisi, ikinci \\nparametrede belirttiğimiz kod çözücü tarafından tanınmazsa ne olur?\\n\\nCevabı tahmin edebilirsiniz: Böyle bir durumda \\nelbette Python bize bir hata mesajı gösterir:\\n\\n\"\"\"\\nbytes(\\'şeker\\', \\'ascii\\')',\n",
       "  'bytes(\\'€\\', \\'cp857\\')\\n\"\"\"\\nş’ harfi ‘ASCII’ karakter kümesinde; ‘€’ işareti ise ‘CP857’ \\nadlı karakter kümesinde tanımlanmamış birer karakter olduğu \\niçin, ilgili kod çözücüler bu karakterleri çözüp bayta \\ndönüştüremiyor. Yazdığımız kodların bu tür durumlarda \\ntamamen çökmesini engellemek için, önceki derslerimizde de \\nçeşitli vesilelerle öğrenmiş olduğumuz errors adlı bir parametreden \\nyararlanabiliriz:\\n\"\"\"\\nbytes(\\'ışık\\', encoding=\\'ascii\\', errors=\\'replace\\')',\n",
       "  'bytes(\\'€\\', \\'cp857\\')\\n\"\"\"\\nş’ harfi ‘ASCII’ karakter kümesinde; ‘€’ işareti ise ‘CP857’ \\nadlı karakter kümesinde tanımlanmamış birer karakter olduğu \\niçin, ilgili kod çözücüler bu karakterleri çözüp bayta \\ndönüştüremiyor. Yazdığımız kodların bu tür durumlarda \\ntamamen çökmesini engellemek için, önceki derslerimizde de \\nçeşitli vesilelerle öğrenmiş olduğumuz errors adlı bir parametreden \\nyararlanabiliriz:\\n\"\"\"\\nbytes(\\'şeker\\', encoding=\\'ascii\\', errors=\\'replace\\')',\n",
       "  'bytes(\\'€\\', \\'cp857\\')\\n\"\"\"\\nş’ harfi ‘ASCII’ karakter kümesinde; ‘€’ işareti ise ‘CP857’ \\nadlı karakter kümesinde tanımlanmamış birer karakter olduğu \\niçin, ilgili kod çözücüler bu karakterleri çözüp bayta \\ndönüştüremiyor. Yazdığımız kodların bu tür durumlarda \\ntamamen çökmesini engellemek için, önceki derslerimizde de \\nçeşitli vesilelerle öğrenmiş olduğumuz errors adlı bir parametreden \\nyararlanabiliriz:\\n\"\"\"\\nbytes(\\'€\\', encoding=\\'cp857\\', errors=\\'ignore\\')',\n",
       "  '\"\"\"\\nş’ harfi ‘ASCII’ karakter kümesinde; ‘€’ işareti ise ‘CP857’ \\nadlı karakter kümesinde tanımlanmamış birer karakter olduğu \\niçin, ilgili kod çözücüler bu karakterleri çözüp bayta \\ndönüştüremiyor. Yazdığımız kodların bu tür durumlarda \\ntamamen çökmesini engellemek için, önceki derslerimizde de \\nçeşitli vesilelerle öğrenmiş olduğumuz errors adlı bir parametreden \\nyararlanabiliriz:\\n\"\"\"\\nbytes(\\'ışık\\', encoding=\\'ascii\\', errors=\\'replace\\')',\n",
       "  \"bytes('şeker', encoding='ascii', errors='replace')\",\n",
       "  \"bytes('€', encoding='cp857', errors='replace')\",\n",
       "  \"bytes('€', encoding='cp857', errors='ignore')\",\n",
       "  \"bytes('€', encoding='cp857', errors='xmlcharrefreplace')\",\n",
       "  \"bytes('şeker', encoding='cp857', errors='xmlcharrefreplace')\",\n",
       "  '\"\"\"\\nGördüğünüz gibi, errors parametresine verdiğimiz çeşitli değerler\\nyardımıyla, bytes() fonksiyonunun, encoding parametresinde belirtilen\\nkod çözücü ile çözülemeyen karakterlerle karşılaştığında nasıl\\ndavranacağını belirleyebiliyoruz.\\n\\n\\nerrors parametresine verdiğimiz bütün bu değerleri önceki\\nderslerimizde öğrenmiştik. Dolayısıyla yukarıda gösterdiğimiz\\nkodları rahatlıkla anlayabilecek kadar Python bilgisine sahibiz.\\n\\nSon olarak, bytes() fonksiyonuna parametre olarak 0-256 arası\\nsayılardan oluşan diziler de verebiliriz:\\nBu yapı içinde Python, 0 ile 128 arası sayılar için standart \\nASCII tablosunu, 128 ile 256 arası sayılar için ise Latin-1 \\nkarakter kümesini temel alarak sayıları birer bayta dönüştürecektir.\\n\"\"\"\\nbytes([65, 10, 12, 11, 15, 66])',\n",
       "  '\"\"\"\\nbytearray()\\nBildiğiniz gibi baytlar değiştirilemeyen bir veri tipidir. \\nDolayısıyla bir bayt veri tipi üzerinde herhangi bir değişiklik\\nyapamayız. Örneğin bir baytın herhangi bir öğesini başka bir \\ndeğerle değiştiremeyiz:\\n\"\"\"\\na = bytes(\\'istihza\\', \\'ascii\\')',\n",
       "  'a[0]',\n",
       "  'a[0]=106',\n",
       "  '\"\"\"\\nAma eğer hem baytlarla çalışmak, hem de bu baytların \\nüzerinde değişiklik yapabilmek isterseniz baytlar \\nyerine bayt dizileri ile çalışabilirsiniz. İşte \\nbunun için bytearray() adlı bir fonksiyondan yararlanıyoruz.\\n\\nYaptıkları iş bakımından bytearray() ve bytes()\\nfonksiyonları birbirlerine çok benzer. Bu ikisi \\narasındaki tek fark, bytearray() ile oluşturulan \\nveri tipinin, bytes() ile oluşturulan veri tipinin\\naksine, değiştirilebilir nitelikte olmasıdır:\\n\"\"\"\\na = bytearray(\\'adana\\', \\'ascii\\')',\n",
       "  'a',\n",
       "  'a[0] = 65',\n",
       "  'a',\n",
       "  'a',\n",
       "  '\"\"\"\\nchr()\\nBu fonksiyon, kendisine parametre olarak verilen bir tam \\nsayının karakter karşılığını döndürür. Örneğin:\\n\"\"\"\\nchr(10)',\n",
       "  'chr(65)',\n",
       "  '\"\"\"\\nBu fonksiyon sayıları karakterlere dönüştürürken \\nASCII sistemini değil, UNICODE sistemini temel alır.\\nDolayısıyla bu fonksiyon ile 128 (veya 255) üstü sayıları\\nda dönüştürebiliriz. Örneğin:\\n\"\"\"\\nchr(305)',\n",
       "  '\"\"\"\\nlist()\\nBu fonksiyon iki farklı amaç için kullanılabilir:\\n\\nListe tipinde bir veri oluşturmak\\n\\nFarklı veri tiplerini liste adlı veri tipine dönüştürmek\\n\\nBirinci amaç için bu fonksiyonu şu şekilde kullanıyoruz:\\n\\n\\n\"\"\"\\nliste=list()',\n",
       "  '\"\"\"\\nlist()\\nBu fonksiyon iki farklı amaç için kullanılabilir:\\n\\nListe tipinde bir veri oluşturmak\\n\\nFarklı veri tiplerini liste adlı veri tipine dönüştürmek\\n\\nBirinci amaç için bu fonksiyonu şu şekilde kullanıyoruz:\\n\\n\\n\"\"\"\\nliste=list()\\ntype(liste)',\n",
       "  '\"\"\"\\nlist()\\nBu fonksiyon iki farklı amaç için kullanılabilir:\\n\\nListe tipinde bir veri oluşturmak\\n\\nFarklı veri tiplerini liste adlı veri tipine dönüştürmek\\n\\nBirinci amaç için bu fonksiyonu şu şekilde kullanıyoruz:\\n\\n\\n\"\"\"\\nliste=list()\\nprint(liste)',\n",
       "  'liste=list(range(1,10))\\nprint(liste)',\n",
       "  'demet=tuple(range(1,10))',\n",
       "  'demet',\n",
       "  'demet\\ntype(demet)',\n",
       "  'demet',\n",
       "  'type(demet)',\n",
       "  'liste=list(demet)',\n",
       "  'liste',\n",
       "  'type(liste)',\n",
       "  '\"\"\"\\nset()\\nset() fonksiyonu list() fonksiyonuna çok benzer. \\nBu fonksiyon da tıpkı list() fonksiyonu gibi, veri\\ntipleri arasında dönüştürme işlemleri gerçekleştirmek \\niçin kullanılabilir. set() fonksiyonunun görevi farklı \\nveri tiplerini kümeye dönüştürmektir:\\n\"\"\"\\nküme=set(demet)',\n",
       "  'küme',\n",
       "  'type(küme)',\n",
       "  '\"\"\"\\ntuple()\\ntuple() fonksiyonu da, tıpkı list(), set() ve benzerleri \\ngibi bir dönüştürücü fonksiyondur. Bu fonksiyon farklı veri \\ntiplerini demete dönüştürür:\\n\"\"\"\\ndemet=tuple(demet)',\n",
       "  'demet',\n",
       "  'type(demet)',\n",
       "  '\"\"\"\\nfrozenset()\\nBu fonksiyonu kullanarak farklı veri tiplerini \\ndondurulmuş kümeye dönüştürebilirsiniz:\\n\"\"\"\\ndf=frozenset(demet)',\n",
       "  'df',\n",
       "  'df[0]',\n",
       "  'df[0][1]',\n",
       "  '\"\"\"\\ncomplex()\\nSayılardan söz ederken, eğer matematikle çok fazla \\niçli dışlı değilseniz pek karşılaşmayacağınız, \\n‘karmaşık sayı’ adlı bir sayı türünden de bahsetmiştik.\\nKarmaşık sayılar, bir gerçek, bir de sanal kısımdan oluşan sayılardır.\\n\\nKarmaşık sayılar Python’da ‘complex’ ifadesiyle gösteriliyor.\\nMesela şu bir karmaşık sayıdır:\\n\"\"\"\\n12+0j',\n",
       "  'type(12+2j)',\n",
       "  '\"\"\"\\nİşte eğer herhangi bir sayıyı karmaşık sayıya \\ndönüştürmeniz gerekirse complex() adlı bir fonksiyondan\\nyararlanabilirsiniz. Örneğin:\\nFLOAT İNTEGER COMPLEX\\n\"\"\"\\ncomplex(15)',\n",
       "  '\"\"\"\\nBöyle bir kod yazdığımızda, verdiğimiz parametre \\nkarmaşık sayının gerçek kısmını oluşturacak, sanal kısım\\nise 0 olarak kabul edilecektir. Elbette isterseniz sanal kısmı \\nkendiniz de belirleyebilirsiniz:\\n\"\"\"\\ncomplex(15, 2)',\n",
       "  '\"\"\"\\nfloat()\\nBu fonksiyonu, sayıları veya karakter dizilerini kayan noktalı\\nsayıya dönüştürmek için kullanıyoruz:\\n\"\"\"\\nfloat(\"134\")',\n",
       "  'float(12)',\n",
       "  '\"\"\"\\nint()\\nBu fonksiyon birkaç farklı amaç için kullanılabilir.\\nint() fonksiyonunun en temel görevi, bir karakter dizisi \\nveya kayan noktalı sayıyı (eğer mümkünse) tam sayıya dönüştürmektir:\\n\"\"\"\\nint(\\'10\\')',\n",
       "  'int(12.4)',\n",
       "  '\"\"\"\\nBunun dışında bu fonksiyonu, herhangi bir sayma\\nsisteminde temsil edilen bir sayıyı onlu sayma \\nsistemine dönüştürmek için de kullanabiliriz.\\nÖrneğin:\\nint(\\'12\\', 8)\\n\"\"\"',\n",
       "  '\"\"\"\\nBunun dışında bu fonksiyonu, herhangi bir sayma\\nsisteminde temsil edilen bir sayıyı onlu sayma \\nsistemine dönüştürmek için de kullanabiliriz.\\nÖrneğin:\\n\"\"\"\\nint(\\'12\\', 8)',\n",
       "  '\"\"\"\\nBurada, sekizli sayma sistemine ait sayı değerli bir karakter \\ndizisi olan ‘12’`yi onlu sayma sistemine dönüştürdük ve böylece \\n`10 sayısını elde ettik.\\n\\nint() fonksiyonunu sayma sistemleri arasında dönüştürme işlemlerinde\\nkullanabilmek için ilk parametrenin bir karakter dizisi olması \\ngerektiğine dikkat ediyoruz.\\n\\nBu arada, int(\\'12\\', 8) komutununun 12 sayısını sekizli sayma\\nsistemine dönüştürmediğine dikkat edin. Bu komutun yaptığı iş \\nsekizli sayma sistemindeki 12 sayısını onlu sayma sistemine \\ndönüştürmektir.\\n\\nint() fonksiyonunun bu kullanımıyla ilgili bir örnek daha verelim:\\n\"\"\"\\nint(\\'4cf\\', 16)',\n",
       "  '\"\"\"\\nstr()\\nBu fonksiyonun, farklı veri tiplerini karakter dizisine\\ndönüştürmek için kullanıldığını biliyorsunuz. Örneğin:\\n\"\"\"\\nstr(12)',\n",
       "  '\"\"\"\\nBurada 12 sayısını bir karakter dizisine dönüştürdük. \\nŞimdi de bir baytı karakter dizisine dönüştürelim:\\n\"\"\"\\nbayt = b\\'istihza\\'',\n",
       "  \"ardiz = str(bayt, encoding='utf-8')\\nprint(ardiz)\",\n",
       "  '\"\"\"\\nGördüğünüz gibi, bir baytı karakter dizisine dönüştürmek \\niçin str() fonksiyonuna encoding adlı bir parametre veriyoruz.\\nFonksiyonumuz, bu parametrede hangi kodlama biçimi belirtildiyse, \\nbaytları bu kodlama biçiminin kurallarına göre bir karakter \\ndizisine dönüştürüyor.\\n\\nTahmin edebileceğiniz gibi, belirttiğiniz kodlama biçiminin \\nherhangi bir baytı karakter dizisine dönüştüremediği durumlara \\nkarşı bir errors parametresi de verebiliriz str() fonksiyonuna.\\n\\nbayt = bytes(\\'kadın\\', encoding=\\'utf-8\\')\\nprint(bayt)\\nÖrneğin elimizde bayt tipinde şöyle bir veri olduğunu varsayalım:\\n\"\"\"\\nbayt = bytes(\\'kadın\\', encoding=\\'utf-8\\')\\nprint(bayt)',\n",
       "  '\"\"\"\\nGördüğünüz gibi, bir baytı karakter dizisine dönüştürmek \\niçin str() fonksiyonuna encoding adlı bir parametre veriyoruz.\\nFonksiyonumuz, bu parametrede hangi kodlama biçimi belirtildiyse, \\nbaytları bu kodlama biçiminin kurallarına göre bir karakter \\ndizisine dönüştürüyor.\\n\\nTahmin edebileceğiniz gibi, belirttiğiniz kodlama biçiminin \\nherhangi bir baytı karakter dizisine dönüştüremediği durumlara \\nkarşı bir errors parametresi de verebiliriz str() fonksiyonuna.\\n\\nÖrneğin elimizde bayt tipinde şöyle bir veri olduğunu varsayalım:\\n\"\"\"\\nbayt = bytes(\\'kadın\\', encoding=\\'utf-8\\')\\nprint(bayt)',\n",
       "  \"kardiz = str(bayt, encoding='ascii')\",\n",
       "  '\"\"\"\\nASCII adlı kod çözücü, b\\'kadın\\' içindeki baytlardan birini \\ntanıyamadığı için bize bir hata mesajı gösterdi. Bildiğiniz\\ngibi ASCII 128’den büyük baytları dönüştüremez. İşte bu tür \\ndurumlara karşı errors parametresinden yararlanabilirsiniz:\\n\"\"\"\\nkardiz = str(bayt, encoding=\\'ascii\\', errors=\\'ignore\\')\\nprint(kardiz)',\n",
       "  '\"\"\"\\nerrors parametresine verdiğimiz ‘ignore’ değeri sayesinde \\nPython bize hata mesajı göstermek yerine, ASCII ile çözülemeyen\\nbaytı görmezden geldi. errors parametresinin hangi değerleri\\nalabileceğini önceki derslerimizden hatırlıyor olmalısınız.\\ndict()\\nBu fonksiyon, farklı veri tiplerinden sözlükler üretmemizi sağlar.\\nÖrneğin bu fonksiyonu kullanarak boş bir sözlük oluşturabiliriz:\\n\"\"\"\\ns = dict()',\n",
       "  's = dict(a=1, b=2, c=3)',\n",
       "  's',\n",
       "  \"öğeler = (['a', 1], ['b', 2], ['c', 3])\\ndict(öğeler)\",\n",
       "  '\"\"\"\\ncallable()\\nBu fonksiyon, bir nesnenin ‘çağrılabilir’ olup olmadığını \\ndenetler. Peki hangi nesneler çağrılabilir özelliktedir. \\nMesela fonksiyonlar çağrılabilir nesnelerdir. Değişkenler \\nise çağrılabilir nesneler değildir.\\n\"\"\"\\ncallable(open)',\n",
       "  'import sys\\ncallable(sys.version)',\n",
       "  '\"\"\"\\nord()\\nBu fonksiyon, bir karakterin karşılık geldiği ondalık \\nsayıyı verir. Örneğin:\\n\"\"\"\\nord(1a)',\n",
       "  '\"\"\"\\nord()\\nBu fonksiyon, bir karakterin karşılık geldiği ondalık \\nsayıyı verir. Örneğin:\\n\"\"\"\\nord(\"a\")',\n",
       "  'ord(\"ı\")',\n",
       "  '\"\"\"\\noct()\\nBu fonksiyon, bir sayıyı sekizli düzendeki karşılığına \\nçevirmemizi sağlar:\\n\"\"\"\\noct(10)',\n",
       "  '\"\"\"\\nhex()\\nBu fonksiyon, bir sayıyı onaltılı düzendeki karşılığına çevirmemizi \\nsağlar:\\n\"\"\"\\nhex(305)',\n",
       "  '\"\"\"\\neval(), exec(), globals(), locals(), compile()\\nBu bölümde beş farklı fonksiyonu bir arada inceleyeceğiz. \\nBu fonksiyonları birlikte ele almamızın nedeni bunların \\nbirbiriyle yakından bağlantılı olması.\\n\\nBurada işleyeceğimiz bu beş fonksiyon şunlardan oluşuyor:\\n\\neval()\\n\\nexec()\\n\\nglobals()\\n\\nlocals()\\n\\ncompile()\\n\\nAncak bu fonksiyonlardan söz etmeye başlamadan önce \\nPython’daki iki önemli kavramı açıklığa kavuşturmamız \\ngerekiyor: Bu kavramlar şunlar:\\n\\nifade\\n\\ndeyim\\n\\nÖncelikle ‘ifade’ kavramından başlayalım.\\n\\nİngilizcede expression denen ‘ifadeler’, bir değer \\nüretmek için kullanılan kod parçalarıdır.\\nKarakter dizileri, sayılar, işleçler, öteki veri tipleri, \\nliste üreteçleri, sözlük üreteçleri, küme üreteçleri,\\nfonksiyonlar hep birer ifadedir. Örneğin:\\n\\n5\\n\\n23 + 4\\n\\n[i for i in range(10)]\\n\\nlen([1, 2, 3])\\nİngilizcede statement olarak adlandırılan ‘deyimler’ \\nise ifadeleri de kapsayan daha geniş bir kavramdır.\\nBuna göre bütün ifadeler aynı zamanda birer deyimdir. \\nDaha doğrusu, ifadelerin bir araya gelmesi ile deyimler\\noluşturulabilir.\\n\\nDeyimlere birkaç örnek verelim:\\n\\na = 5\\n\\nif a:\\n    print(a)\\n\\nfor i in range(10):\\n    print(i)\\nPython programlama dilinde deyimlerle ifadeleri ayırt\\netmenin kolay bir yolu da eval() fonksiyonundan yararlanmaktır.\\nEğer deyim mi yoksa ifade mi olduğundan emin olamadığınız \\nbir şeyi eval() fonksiyonuna parametre olarak verdiğinizde\\nhata almıyorsanız o parametre bir ifadedir. Eğer hata\\nalıyorsanız o parametre bir deyimdir. Çünkü eval()\\nfonksiyonuna parametre olarak yalnızca ifadeler verilebilir.\\n\\nBirkaç örnek verelim:\\n\\neval(\\'a = 5\\')\\n\\n  File \"<string>\", line 1\\n    a = 5\\n      ^\\nSyntaxError: invalid syntax\\nGördüğünüz gibi, eval() fonksiyonu bize bir hata mesajı verdi.\\nÇünkü a = 5 kodu bir deyimdir. Unutmayın, Python’da bütün\\ndeğer atama işlemleri birer deyimdir. Dolayısıyla eval() \\nfonksiyonu bu deyimi parametre olarak alamaz.\\n\\nBir de şuna bakalım:\\n\\neval(\\'5 + 25\\')\\n\\n30\\nBu defa hata almadık. Çünkü eval() fonksiyonuna, olması\\ngerektiği gibi, parametre olarak bir ifade verdik.\\nBildiğiniz gibi, 5 + 25 kodu bir ifadedir.\\n\\nDediğimiz gibi, eval() fonksiyonu deyimleri parametre \\nolarak alamaz. Ama exec() fonksiyonu alabilir:\\n\\nexec(\\'a = 5\\')\\nBu şekilde, değeri 5 olan a adlı bir değişken oluşturmuş \\nolduk. İsterseniz kontrol edelim:\\n\\nprint(a)\\n\\n5\\nGördüğünüz gibi, exec() fonksiyonu, mevcut isim alanı\\niçinde a adlı bir değişken oluşturdu. Yalnız elbette \\nmevcut isim alanı içinde yeni değişkenler ve yeni değerler \\noluştururken dikkatli olmamız gerektiğini biliyorsunuz.\\nZira mesela yukarıdaki komutu vermeden önce mevcut isim \\nalanında zaten a adlı bir değişken varsa, o değişkenin \\ndeğeri değişecektir:\\n\\na = 20\\nElimizde, değeri 20 olan a adlı bir değişken var. \\nŞimdi exec() fonksiyonu yardımıyla a değişkeninin\\nde içinde yer aldığı mevcut isim alanına müdahale ediyoruz:\\n\\nexec(\\'a = 10\\')\\nBöylece a değişkeninin eski değerini silmiş olduk. Kontrol edelim:\\n\\nprint(a)\\n\\n10\\nBu tür durumlarda, exec() ile oluşturduğunuz değişkenleri \\nglobal isim alanına değil de, farklı bir isim alanına \\ngöndermeyi tercih edebilirsiniz. Peki ama bunu nasıl yapacağız?\\n\\nPython programlama dilinde isim alanları sözlük tipinde bir veridir. \\nÖrneğin global isim alanı basit bir sözlükten ibarettir.\\n\\nGlobal isim alanını gösteren sözlükte hangi anahtar ve \\ndeğerlerin olduğunu görmek için globals() adlı bir \\nfonksiyonu kullanabilirsiniz:\\n\\nglobals()\\nBu fonksiyonu çalıştırdığımızda şuna benzer bir çıktı alırız:\\n\\n{\\'__doc__\\': None, \\'__loader__\\': <class \\'_frozen_importlib.BuiltinImpor\\nter\\'>,\\'__name__\\': \\'__main__\\', \\'__package__\\': None, \\'__builtins__\\':\\n<module \\'builtins\\'>}\\nGördüğünüz gibi, elimizdeki şey gerçekten de bir sözlük. \\nDolayısıyla bir sözlük ile ne yapabilirsek bu sözlükle de\\naynı şeyi yapabiliriz…\\n\\n‘globals’ adlı bu sözlüğün içeriği, o anda global isim\\nalanında bulunan nesnelere göre farklılık gösterecektir. Örneğin:\\n\\nx = 10\\nşeklinde 10 değerine sahip bir x nesnesi tanımladıktan sonra \\nglobals() fonksiyonunu tekrar çalıştırırsanız global isim\\nalanına bu nesnenin de eklenmiş olduğunu görürsünüz.\\n\\nDediğimiz gibi, globals() fonksiyonundan dönen nesne bir sözlüktür. \\nBu sözlüğe, herhangi bir sözlüğe veri ekler gibi değer de\\nekleyebilirsiniz:\\n\\nglobals()[\\'z\\'] = 23\\nBu şekilde global isim alanına z adlı bir değişken eklemiş oldunuz:\\n\\nz\\n\\n23\\nYalnız, Python programlama dili bize bu şekilde global isim alanına\\nnesne ekleme imkanı verse de, biz mecbur değilsek bu yöntemi\\nkullanmaktan kaçınmalıyız. Çünkü bu şekilde sıradışı bir yöntemle\\ndeğişken tanımladığımız için aslında global isim alanını, nerden \\ngeldiğini kestirmenin güç olduğu değerlerle ‘kirletmiş’ oluyoruz.\\n\\nBildiğiniz gibi, Python’da global isim alanı dışında bir de lokal isim \\nlanı bulunur. Lokal isim alanlarının, fonksiyonlara \\n(ve ileride göreceğimiz gibi sınıflara) ait bir isim alanı\\nolduğunu biliyorsunuz. İşte bu isim alanlarına ulaşmak için de \\nlocals() adlı bir fonksiyondan yararlanacağız:\\n\\ndef fonksiyon(param1, param2):\\n    x = 10\\n    print(locals())\\n\\nfonksiyon(10, 20)\\nBu fonksiyonu çalıştırdığınızda şu çıktıyı alacaksınız:\\n\\n{\\'param2\\': 20, \\'param1\\': 10, \\'x\\': 10}\\nGördüğünüz gibi, locals() fonksiyonu gerçekten de bize fonksiyon()\\nadlı fonksiyon içindeki lokal değerleri veriyor.\\n\\nglobals() ve locals() fonksiyonlarının ne işe yaradığını \\nincelediğimize göre exec() fonksiyonunu anlatırken kaldığımız yere \\ndönebiliriz.\\n\\nNe diyorduk?\\n\\nElimizde, değeri 20 olan a adlı bir değişken vardı:\\n\\na = 20\\nexec() fonksiyonu yardımıyla a değişkeninin de içinde yer aldığı \\nmevcut isim alanına müdahale edelim:\\n\\nexec(\\'a = 3\\')\\nBu şekilde a değişkeninin varolan değerini silmiş olduk:\\n\\nprint(a)\\n\\n3\\nDediğimiz gibi, bu tür durumlarda, exec() ile oluşturduğunuz \\ndeğişkenleri global isim alanı yerine farklı bir isim alanına \\ngöndermeyi tercih etmemiz daha uygun olacaktır. Python’da isim\\nalanlarının basit bir sözlük olduğunu öğrendiğimize göre, exec() \\nile oluşturduğumuz değişkenleri global isim alanı yerine nasıl \\nfarklı bir isim alanına göndereceğimizi görebiliriz.\\n\\nÖnce yeni bir isim alanı oluşturalım:\\n\\nia = {}\\nŞimdi exec() ile oluşturacağımız değerleri bu isim alanına \\ngönderebiliriz:\\n\\nexec(\\'a = 3\\', ia)\\nBöylece global isim alanındaki a değişkeninin değerine dokunmamış\\nolduk:\\n\\na\\n\\n20\\nYeni oluşturduğumuz değer ise ia adlı yeni isim alanına gitti:\\n\\nia[\\'a\\']\\n\\n3\\n\\n\"\"\"\\neval(\"a=5\")',\n",
       "  \"eval('5 + 25')\",\n",
       "  \"exec('a = 5')\",\n",
       "  'print(a)',\n",
       "  'a = 20',\n",
       "  \"exec('a = 10')\",\n",
       "  'print(a)',\n",
       "  '\"\"\"\\nBu tür durumlarda, exec() ile oluşturduğunuz\\ndeğişkenleri global isim alanına değil de, \\nfarklı bir isim alanına göndermeyi tercih edebilirsiniz. \\nPeki ama bunu nasıl yapacağız?\\nPython programlama dilinde isim alanları sözlük tipinde bir veridir.\\nÖrneğin global isim alanı basit bir sözlükten ibarettir.\\n\"\"\"\\nglobals()'],\n",
       " 'Out': {1: 20,\n",
       "  2: 20,\n",
       "  3: 20.396078054371138,\n",
       "  4: 12,\n",
       "  5: 12,\n",
       "  6: 1,\n",
       "  7: 12,\n",
       "  8: 3.142857142857143,\n",
       "  9: 3,\n",
       "  10: 3,\n",
       "  11: 3.0,\n",
       "  12: 3.1,\n",
       "  13: 3.1429,\n",
       "  15: True,\n",
       "  16: False,\n",
       "  17: False,\n",
       "  18: True,\n",
       "  19: True,\n",
       "  24: True,\n",
       "  25: True,\n",
       "  26: '\\nany()\\nAny kelimesi İngilizcede ‘herhangi bir’ anlamına gelir.\\nİşte any() fonksiyonunun görevi de, bir dizi içindeki \\nbütün değerlerden en az biri True ise True çıktısı vermektir.\\nALL FONKSİYONUNUN TERSİ\\n',\n",
       "  27: False,\n",
       "  28: False,\n",
       "  29: True,\n",
       "  30: True,\n",
       "  31: False,\n",
       "  32: 'istihza',\n",
       "  40: '[',\n",
       "  41: \"'\\\\u015feker'\",\n",
       "  42: \"'şeker'\",\n",
       "  43: False,\n",
       "  44: True,\n",
       "  45: False,\n",
       "  46: '0b1100',\n",
       "  47: '0b1',\n",
       "  48: '0b10',\n",
       "  49: '0b11',\n",
       "  50: '0b100',\n",
       "  51: '0b101',\n",
       "  52: '0b110',\n",
       "  53: '0b111',\n",
       "  54: b'\\x00\\x00\\x00\\x00\\x00\\x00\\x00\\x00\\x00\\x00',\n",
       "  56: b'\\x00\\x00\\x00\\x00\\x00\\x00\\x00\\x00\\x00\\x00',\n",
       "  57: 0,\n",
       "  59: 0,\n",
       "  61: 0,\n",
       "  63: b'devrim',\n",
       "  64: b'\\xc4\\xb1\\xc5\\x9f\\xc4\\xb1k',\n",
       "  65: b'\\x8d\\x9f\\x8dk',\n",
       "  66: b'\\xfd\\xfe\\xfdk',\n",
       "  67: b'\\xc4\\xb1\\xc5\\x9f\\xc4\\xb1k',\n",
       "  68: b'\\xfd\\xfe\\xfdk',\n",
       "  69: b'\\x8d\\x9f\\x8dk',\n",
       "  78: b'???k',\n",
       "  79: b'?eker',\n",
       "  80: b'?',\n",
       "  81: b'',\n",
       "  82: b'&#8364;',\n",
       "  83: b'\\x9feker',\n",
       "  84: b'A\\n\\x0c\\x0b\\x0fB',\n",
       "  86: 105,\n",
       "  89: bytearray(b'Adana'),\n",
       "  91: bytearray(b'Adana'),\n",
       "  92: bytearray(b'Adana'),\n",
       "  93: '\\n',\n",
       "  94: 'A',\n",
       "  95: 'ı',\n",
       "  97: list,\n",
       "  101: (1, 2, 3, 4, 5, 6, 7, 8, 9),\n",
       "  102: tuple,\n",
       "  103: (1, 2, 3, 4, 5, 6, 7, 8, 9),\n",
       "  104: tuple,\n",
       "  106: [1, 2, 3, 4, 5, 6, 7, 8, 9],\n",
       "  107: list,\n",
       "  109: {1, 2, 3, 4, 5, 6, 7, 8, 9},\n",
       "  110: set,\n",
       "  112: (1, 2, 3, 4, 5, 6, 7, 8, 9),\n",
       "  113: tuple,\n",
       "  115: frozenset({1, 2, 3, 4, 5, 6, 7, 8, 9}),\n",
       "  118: (12+0j),\n",
       "  119: complex,\n",
       "  120: (15+0j),\n",
       "  121: (15+2j),\n",
       "  122: 134.0,\n",
       "  123: 12.0,\n",
       "  124: 10,\n",
       "  125: 12,\n",
       "  126: \"\\nBunun dışında bu fonksiyonu, herhangi bir sayma\\nsisteminde temsil edilen bir sayıyı onlu sayma \\nsistemine dönüştürmek için de kullanabiliriz.\\nÖrneğin:\\nint('12', 8)\\n\",\n",
       "  127: 10,\n",
       "  128: 1231,\n",
       "  129: '12',\n",
       "  138: {'a': 1, 'b': 2, 'c': 3},\n",
       "  139: {'a': 1, 'b': 2, 'c': 3},\n",
       "  140: True,\n",
       "  141: False,\n",
       "  143: 97,\n",
       "  144: 305,\n",
       "  145: '0o12',\n",
       "  146: '0x131',\n",
       "  148: 30},\n",
       " 'get_ipython': <bound method InteractiveShell.get_ipython of <ipykernel.zmqshell.ZMQInteractiveShell object at 0x7f5753e54a00>>,\n",
       " 'exit': <IPython.core.autocall.ZMQExitAutocall at 0x7f5753e57a00>,\n",
       " 'quit': <IPython.core.autocall.ZMQExitAutocall at 0x7f5753e57a00>,\n",
       " '_': 30,\n",
       " '__': '0x131',\n",
       " '___': '0o12',\n",
       " '_i': 'print(a)',\n",
       " '_ii': \"exec('a = 10')\",\n",
       " '_iii': 'a = 20',\n",
       " '_i1': '\"\"\"\\nGömülü Fonksiyonlar\\nBu bölümde, daha önce de birkaç kez bahsettiğimiz ve \\nçokça örneğini gördüğümüz bir kavramdan söz edeceğiz.\\nBu kavramın adı ‘gömülü fonksiyonlar’.\\n\\nEsasında biz buraya gelene kadar Python’da pek çok gömülü \\nfonksiyon gördük. Dolayısıyla aslında görünüş olarak bunların\\nneye benzediğini biliyoruz. Örneğin daha önceki derslerimizde\\ngördüğümüz print() gömülü bir fonksiyondur. \\nAynı şekilde open(), type(), len(), pow(), bin() \\nve şimdiye kadar tanıştığımız öteki bütün fonksiyonlar\\nbirer gömülü fonksiyondur.\\n\\nGömülü fonksiyonlar İngilizcede builtin functions olarak \\nadlandırılır. Bu fonksiyonlar gerçekten de dile gömülü\\nvaziyettedirler. Bildiğiniz gibi, bir fonksiyonu kullanabilmemiz \\niçin o fonksiyonu tanımlamamız gerekir. İşte gömülü fonksiyonlar,\\nbizim tanımlamamıza gerek kalmadan, Python geliştiricileri tarafından \\nönceden tanımlanıp dile gömülmüş ve hizmetimize sunulmuş faydalı\\nbirtakım araçlardır.\\n\\nİşte bu bölümde biz de bu gömülü fonksiyonları tek tek ve\\nayrıntılı olarak inceleyeceğiz. Dediğimiz gibi, bunlardan \\nbir kısmını halihazırda görmüştünüz. Ama biz bütünlük\\naçısından, önceden ele almış olduğumuz bu fonksiyonlara \\nda kısaca değinmeden geçmeyeceğiz. Böylelikle hem yeni \\nfonksiyonlar öğrenmiş olacağız hem de önceden öğrendiğimiz \\nfonksiyonlarla birlikte yeni fonksiyonları da derli toplu \\nbir şekilde görme imkanımız olacak.\\n\\nBu bölümde elbette birtakım fonksiyonları salt art arda \\nsıralamakla yetinmeyeceğiz. Python’daki gömülü fonksiyonları\\nincelerken bir yandan da Python programlama dilindeki çok\\nönemli bazı kavramları ele alacağız.\\n\\nİlk olarak abs() adlı bir fonksiyonla başlıyoruz gömülü \\nfonksiyonları incelemeye…\\n\\n\\nabs()\\nİngilizcede ‘mutlak’ anlamına gelen absolute adlı bir \\nkelime bulunur. İşte bu fonksiyonun adı da bu kelimeden \\ngelir. Fonksiyonumuzun görevi de isminin anlamına yakındır.\\nabs() fonksiyonunu bir sayının mutlak değerini elde etmek \\niçin kullanıyoruz.\\n\\n\\nPeki ‘mutlak değer’ ne anlama geliyor. Esasında siz bu \\nkavrama matematik derslerinden aşinasınız. Ama bilmeyenler\\nveya unutmuş olanlar için tekrar edelim. ‘Mutlak değer’\\nbir sayının 0’a olan uzaklığıdır. Örneğin 20 sayısının\\n0 sayısına olan uzaklığı 20’dir. Dolayısıyla 20 sayısının\\nmutlak değeri 20’dir. Aynı şekilde -20 sayısının da 0\\nsayısına uzaklığı 20’dir. Yani, -20 sayısının da mutlak \\ndeğeri 20’dir.\\n\\n\\nİşte abs() fonksiyonu bize bir sayının mutlak değerinin\\nne olduğunu söyler:\\nMutlak değer kavramı yalnızca tamsayılar ve kayan \\nnoktalı sayılar için değil, aynı zamanda karmaşık \\nsayılar için de geçerlidir. Dolayısıyla abs()\\nfonksiyonunu kullanarak karmaşık sayıların da\\nmutlak değerini hesaplayabiliriz:\\nGördüğünüz gibi bu fonksiyon yalnızca tek bir parametre\\nalıyor ve bu parametrenin mutlak değerini döndürüyor.\\n\"\"\"\\nabs(-20)',\n",
       " '_1': 20,\n",
       " '_i2': 'abs(20)',\n",
       " '_2': 20,\n",
       " '_i3': 'abs(20+4j)',\n",
       " '_3': 20.396078054371138,\n",
       " '_i4': '\"\"\"\\nround()\\nround() fonksiyonu bir sayıyı belli ölçütlere\\ngöre yukarı veya aşağı doğru yuvarlamamızı sağlar.\\nBasit birkaç örnek verelim:\\n\"\"\"\\nround(12,4)',\n",
       " '_4': 12,\n",
       " '_i5': 'round(12,7)',\n",
       " '_5': 12,\n",
       " '_i6': '\"\"\"\\nGördüğünüz gibi bu fonksiyon, kayan noktalı sayıları \\nen yakın tam sayıya doğru yuvarlıyor.\\n\\nAncak burada dikkat etmemiz gereken bir nokta var.\\n\\nŞu örnekleri bir inceleyelim:\\n\"\"\"\\nround(1,5)',\n",
       " '_6': 1,\n",
       " '_i7': 'round(12.5)',\n",
       " '_7': 12,\n",
       " '_i8': '\"\"\"\\nGördüğünüz gibi, fonksiyonumuz 1.5 sayısını yukarı doğru, \\n12.5 sayısını ise aşağı doğru yuvarladı. Bunun sebebi,\\nkayan noktalı bir sayının üst ve alt tam sayılara olan \\nuzaklığının birbirine eşit olduğu durumlarda Python’ın\\nçift sayıya doğru yuvarlama yapmayı tercih etmesidir.\\nMesela yukarıdaki örneklerde 1.5 sayısı hem 1 sayısına,\\nhem de 2 sayısına eşit uzaklıkta bulunuyor. İşte Python\\nbu durumda, bir çift sayı olan 2 sayısına doğru yuvarlamayı\\ntercih edecektir.\\n\\nround() fonksiyonu toplam iki parametre alır. İlk parametre,\\nyuvarlanacak sayının kendisidir. Yuvarlama hassasiyetini \\nbelirlemek için ise ikinci bir parametreden yararlanabiliriz.\\n\\nÖrneğin 22 sayısını 7’ye böldüğümüzde normalde şöyle bir \\nçıktı elde ederiz:\\n\"\"\"\\n22/7',\n",
       " '_8': 3.142857142857143,\n",
       " '_i9': '\"\"\"\\nround() fonksiyonunu tek parametre ile \\nkullandığımızda bu fonksiyon yukarıdaki\\nsayıyı şu şekilde yuvarlayacaktır:\\n\"\"\"\\nround(22/7)',\n",
       " '_9': 3,\n",
       " '_i10': '\"\"\"\\nİşte biz round() fonksiyonuna ikinci bir parametre daha\\nvererek, yuvarlama hassasiyetini kontrol edebiliriz.\\n\\nAşağıdaki örnekleri dikkatlice inceleyin:\\n\"\"\"\\nround(22/7)',\n",
       " '_10': 3,\n",
       " '_i11': 'round(22/7,0)',\n",
       " '_11': 3.0,\n",
       " '_i12': 'round(22/7,1)',\n",
       " '_12': 3.1,\n",
       " '_i13': 'round(22/7,4)',\n",
       " '_13': 3.1429,\n",
       " '_i14': '\"\"\"\\nall()\\n\\nAll kelimesi Türkçede ‘hepsi’ anlamına gelir.\\nBu fonksiyonun görevi de bu anlamı çağrıştırır.\\nall() fonksiyonunun görevi, bir dizi içinde bulunan \\nbütün değerler True ise True değeri, eğer bu değerlerden\\nherhangi biri False ise de False değeri döndürmektir.\\n\\nÖrneğin elimizde şöyle bir liste olduğunu varsayalım:\\n\"\"\"\\nliste = [1, 2, 3, 4]',\n",
       " 'liste': [1, 2, 3, 4, 5, 6, 7, 8, 9],\n",
       " '_i15': 'all(liste)',\n",
       " '_15': True,\n",
       " '_i16': '\"\"\"\\nBildiğiniz gibi, 0 hariç bütün sayıların bool değeri True’dur. \\nYukarıdaki listede False değeri verebilecek herhangi bir değer \\nbulunmadığından, all() fonksiyonu bu liste için True değerini \\nveriyor. Bir de şuna bakalım:\\n\"\"\"\\nliste = [0, 1, 2, 3, 4]\\nall(liste)',\n",
       " '_16': False,\n",
       " '_i17': '\"\"\"\\nDediğimiz gibi, all() fonksiyonu ancak dizi içindeki bütün \\ndeğerlerin bool değeri True ise True çıktısı verecektir.\\n\\nSon bir örnek daha verelim:\\n\"\"\"\\nliste = [\\'ahmet\\', \\'mehmet\\', \\'\\']\\nall(liste)',\n",
       " '_17': False,\n",
       " '_i18': '\"\"\"\\nListede False değerine sahip bir boş karakter dizisi bulunduğu\\niçin all() fonksiyonu False çıktısı veriyor.\\n\\nBu fonksiyonu her türlü kodun bool değerlerini test etmek için \\nkullanabilirsiniz. Mesela bu fonksiyonu kullanarak, bir nesnenin\\nlistelenen özelliklerin hepsine sahip olup olmadığını \\ndenetleyebilirsiniz:\\n\"\"\"\\na = 3\\nt1 = a == 3         #sayı 3 mü?\\nt2 = a < 4          #sayı 4\\'ten küçük mü?\\nt3 = a % 2 == 1     #sayı bir tek sayı mı?\\nall([t1, t2, t3])   #sayı bu özelliklerin hepsine sahip mi?',\n",
       " 'a': 10,\n",
       " 't1': True,\n",
       " 't2': True,\n",
       " 't3': True,\n",
       " '_18': True,\n",
       " '_i19': '\"\"\"\\nListede False değerine sahip bir boş karakter dizisi bulunduğu\\niçin all() fonksiyonu False çıktısı veriyor.\\n\\nBu fonksiyonu her türlü kodun bool değerlerini test etmek için \\nkullanabilirsiniz. Mesela bu fonksiyonu kullanarak, bir nesnenin\\nlistelenen özelliklerin hepsine sahip olup olmadığını \\ndenetleyebilirsiniz:\\n\"\"\"\\na = 3\\nt1 = a == 3         #sayı 3 mü?\\nt2 = a < 4          #sayı 4\\'ten küçük mü?\\nt3 = a % 2 == 1     #sayı bir tek sayı mı?\\nall([t1, t2, t3])   #sayı bu özelliklerin hepsine sahip mi?',\n",
       " '_19': True,\n",
       " '_i20': 'a = 3\\nt1 = a == 3   \\nall(t1)',\n",
       " '_i21': 'a = 3\\nt1 = a == 3   \\nt2 = a < 4   \\nall(t1)',\n",
       " '_i22': 'a = 3\\nt1 = a == 3   \\nt2 = a < 4   \\nall(t1,t2)',\n",
       " '_i23': 'a = 3\\nt1 = a == 3   \\nt2 = a < 4   \\nt3 = a % 2 == 1 \\nall(t1,t2,t3)',\n",
       " '_i24': '\"\"\"\\nListede False değerine sahip bir boş karakter dizisi bulunduğu\\niçin all() fonksiyonu False çıktısı veriyor.\\n\\nBu fonksiyonu her türlü kodun bool değerlerini test etmek için \\nkullanabilirsiniz. Mesela bu fonksiyonu kullanarak, bir nesnenin\\nlistelenen özelliklerin hepsine sahip olup olmadığını \\ndenetleyebilirsiniz:\\n\"\"\"\\na = 3\\nt1 = a == 3         #sayı 3 mü?\\nt2 = a < 4          #sayı 4\\'ten küçük mü?\\nt3 = a % 2 == 1     #sayı bir tek sayı mı?\\nall([t1, t2, t3])   #sayı bu özelliklerin hepsine sahip mi?',\n",
       " '_24': True,\n",
       " '_i25': 'a = 3\\nt1 = a == 3   \\nt2 = a < 4   \\nt3 = a % 2 == 1 \\nall([t1])',\n",
       " '_25': True,\n",
       " '_i26': '\"\"\"\\nany()\\nAny kelimesi İngilizcede ‘herhangi bir’ anlamına gelir.\\nİşte any() fonksiyonunun görevi de, bir dizi içindeki \\nbütün değerlerden en az biri True ise True çıktısı vermektir.\\nALL FONKSİYONUNUN TERSİ\\n\"\"\"',\n",
       " '_26': '\\nany()\\nAny kelimesi İngilizcede ‘herhangi bir’ anlamına gelir.\\nİşte any() fonksiyonunun görevi de, bir dizi içindeki \\nbütün değerlerden en az biri True ise True çıktısı vermektir.\\nALL FONKSİYONUNUN TERSİ\\n',\n",
       " '_i27': '\"\"\"\\nany()\\nAny kelimesi İngilizcede ‘herhangi bir’ anlamına gelir.\\nİşte any() fonksiyonunun görevi de, bir dizi içindeki \\nbütün değerlerden en az biri True ise True çıktısı vermektir.\\nALL FONKSİYONUNUN TERSİ\\n\"\"\"\\nliste = [0, 1, 2, 3, 4]\\nall(liste)',\n",
       " '_27': False,\n",
       " '_i28': \"liste = ['ahmet', 'mehmet', '']\\nall(liste)\",\n",
       " '_28': False,\n",
       " '_i29': '\"\"\"\\nany()\\nAny kelimesi İngilizcede ‘herhangi bir’ anlamına gelir.\\nİşte any() fonksiyonunun görevi de, bir dizi içindeki \\nbütün değerlerden en az biri True ise True çıktısı vermektir.\\nALL FONKSİYONUNUN TERSİ\\n\"\"\"\\nliste = [0, 1, 2, 3, 4]\\nany(liste)',\n",
       " '_29': True,\n",
       " '_i30': \"liste = ['ahmet', 'mehmet', '']\\nany(liste)\",\n",
       " '_30': True,\n",
       " '_i31': \"l = ['', 0, [], (), set(), dict()]\\nany(l)\",\n",
       " 'l': ['', 0, [], (), set(), {}],\n",
       " '_31': False,\n",
       " '_i32': '\"\"\"\\nascii()\\nBu fonksiyon, bir nesnenin ekrana basılabilir\\nhalini verir bize. Dilerseniz bu fonksiyonun yaptığı \\nişi tanımlamak yerine bunu bir örnek üzerinden anlatmaya çalışalım:\\n\"\"\"\\na = \\'istihza\\'\\nprint(ascii(a))\\n\\n\\'istihza\\'',\n",
       " '_32': 'istihza',\n",
       " '_i33': '\"\"\"\\nBu fonksiyonun, print() fonksiyonundan farklı olarak,\\nçıktıya tırnak işaretlerini de eklediğine dikkat edin.\\n\\nascii() fonksiyonunun tam olarak ne yaptığını daha iyi \\nanlamak için herhalde şu örnek daha faydalı olacaktır.\\n\\nDikkatlice bakın:\\n\"\"\"\\nprint(\\'\\\\n\\')',\n",
       " '_i34': '\"\"\"\\nBu komutu verdiğimizde, n kaçış dizisinin etkisiyle\\nyeni satıra geçileceğini biliyorsunuz.\\n\\nBir de şuna bakın:\\n\"\"\"\\nprint(ascii(\\'\\\\n!\\'))',\n",
       " '_i35': '\"\"\"\\nBu komutu verdiğimizde, n kaçış dizisinin etkisiyle\\nyeni satıra geçileceğini biliyorsunuz.\\n\\nBir de şuna bakın:\\n\"\"\"\\nprint(ascii(\\'\\\\n\\'))',\n",
       " '_i36': '\"\"\"\\nGördüğünüz gibi, ascii() fonksiyonu, satır başı kaçış \\ndizisinin görevini yapmasını sağlamak yerine bu kaçış \\ndizisinin ekrana basılabilir halini veriyor bize.\\n\\n\\nAyrıca bu fonksiyon, karakter dizileri içindeki Türkçe\\nkarakterlerin de UNICODE temsillerini döndürür. Örneğin:\\n\"\"\"\\na = \\'ışık\\'\\nprint(ascii(a))',\n",
       " '_i37': 'a=\"Devrim Tunçer\"\\nprint(ascii(a))',\n",
       " '_i38': '\"\"\"\\nGördüğünüz gibi, ascii() fonksiyonu ASCII olmayan karakterlerle \\nkarşılaştığında bunların karakter temsilleri yerine UNICODE\\ntemsillerini (veya onaltılık sayma düzenindeki karşılıklarını)\\nveriyor.\\n\\nSon olarak şu örneğe bakalım:\\n\"\"\"\\nliste = [\\'elma\\', \\'armut\\', \\'erik\\']\\ntemsil = ascii(liste)\\nprint(temsil)',\n",
       " 'temsil': \"['elma', 'armut', 'erik']\",\n",
       " '_i39': '\"\"\"\\nBurada listemiz ascii() fonksiyonuna parametre olarak \\nverildikten sonra artık liste olma özelliğini yitirip \\nbir karakter dizisi haline gelir. Bunu denetleyelim:\\n\"\"\"\\nprint(type(temsil))',\n",
       " '_i40': 'temsil[0]',\n",
       " '_40': '[',\n",
       " '_i41': '\"\"\"\\nrepr()\\nrepr() fonksiyonunun yaptığı iş, biraz önce gördüğümüz ascii() \\nfonksiyonunun yaptığı işe çok benzer. Bu iki fonksiyon, ASCII\\nolmayan karakterlere muameleleri açısından birbirinden ayrılır.\\n\\nHatırlarsanız ascii() fonksiyonu ASCII olmayan karakterlerle \\nkarşılaştığında bunların UNICODE (veya onaltılık) temsillerini\\ngösteriyordu\\n\"\"\"\\nascii(\"şeker\")',\n",
       " '_41': \"'\\\\u015feker'\",\n",
       " '_i42': '\"\"\"\\nrepr() fonksiyonu ise ASCII olmayan karakterlerle karşılaşsa bile,\\nbize çıktı olarak bunların da karakter karşılıklarını gösterir:\\n\"\"\"\\nrepr(\"şeker\")',\n",
       " '_42': \"'şeker'\",\n",
       " '_i43': '\"\"\"\\nbool()\\nBu fonksiyon bir nesnenin bool değerini verir:\\n\"\"\"\\nbool(0)',\n",
       " '_43': False,\n",
       " '_i44': 'bool(1)',\n",
       " '_44': True,\n",
       " '_i45': 'bool([])',\n",
       " '_45': False,\n",
       " '_i46': '\"\"\"\\nbin()\\nBu fonksiyon, bir sayının ikili düzendeki karşılığını verir:\\nBu fonksiyonun verdiği çıktının bir sayı değil,\\nkarakter dizisi olduğuna dikkat etmelisiniz.\\n\"\"\"\\nbin(12)',\n",
       " '_46': '0b1100',\n",
       " '_i47': 'bin(1)',\n",
       " '_47': '0b1',\n",
       " '_i48': 'bin(2)',\n",
       " '_48': '0b10',\n",
       " '_i49': 'bin(3)',\n",
       " '_49': '0b11',\n",
       " '_i50': 'bin(4)',\n",
       " '_50': '0b100',\n",
       " '_i51': 'bin(5)',\n",
       " '_51': '0b101',\n",
       " '_i52': 'bin(6)',\n",
       " '_52': '0b110',\n",
       " '_i53': 'bin(7)',\n",
       " '_53': '0b111',\n",
       " '_i54': '\"\"\"\\nbytes()\\nBu fonksiyon bytes türünde nesneler oluşturmak için kullanılır. \\nBu fonksiyonu ‘bayt’ adlı veri tipini incelerken ayrıntılı olarak \\nele almıştık. Gelin isterseniz burada da bu fonksiyona şöyle bir\\ndeğinelim.\\n\\nDediğimiz gibi, bytes() adlı fonksiyon, bytes türünde veriler\\noluşturmaya yarar. Bu fonksiyon işlev olarak, daha önce öğrendiğimiz \\nlist(), str(), int(), set(), dict() gibi fonksiyonlara çok benzer. \\nTıpkı bu fonksiyonlar gibi, bytes() fonksiyonunun görevi de farklı\\nveri tiplerini ‘bayt’ adlı veri tipine dönüştürmektir.\\n\\nBu fonksiyon, kendisine verilen parametrelerin türüne bağlı olarak \\nbirbirinden farklı sonuçlar ortaya çıkarır. Örneğin eğer bu fonksiyona\\nparametre olarak bir tam sayı verecek olursanız, bu fonksiyon size\\no tam sayı miktarınca bir bayt nesnesi verecektir. Gelin isterseniz\\nbu durumu örnekler üzerinde göstermeye çalışalım:\\n\"\"\"\\nbytes(10)',\n",
       " '_54': b'\\x00\\x00\\x00\\x00\\x00\\x00\\x00\\x00\\x00\\x00',\n",
       " '_i55': 'a=bytes(10)',\n",
       " '_i56': 'a',\n",
       " '_56': b'\\x00\\x00\\x00\\x00\\x00\\x00\\x00\\x00\\x00\\x00',\n",
       " '_i57': 'a[0]',\n",
       " '_57': 0,\n",
       " '_i58': 'a(7)',\n",
       " '_i59': 'a[7]',\n",
       " '_59': 0,\n",
       " '_i60': 'a[10]',\n",
       " '_i61': 'a[9]',\n",
       " '_61': 0,\n",
       " '_i62': '\"\"\"\\nGördüğünüz gibi, bytes(10) komutuyla oluşturduğumuz a \\ndeğişkeni içinde toplam 10 adet bayt var ve bu baytların her \\nbirinin değeri 0.\\n\\nYukarıda, bytes() fonksiyonuna bir tam sayı değerli \\nparametre verdiğimizde nasıl bir sonuç alacağımızı öğrendik.\\nPeki biz bu fonksiyona parametre olarak bir karakter dizisi \\nverirsek ne olur?\\n\\nHemen görelim:\\n\"\"\"\\nbytes(\"devrim\")',\n",
       " '_i63': '\"\"\"\\nBu fonksiyona karakter dizilerini doğrudan parametre olarak\\nveremeyiz. Eğer verirsek yukarıdaki gibi bir hata alırız.\\nPeki acaba bu hatayı almamızın nedeni ne olabilir?\\n\\nDediğimiz gibi, bytes() fonksiyonu, çeşitli veri tiplerini \\nbayta dönüştürmeye yarar. Ancak bildiğiniz gibi,\\nbayta dönüştürme işlemi her kod çözücü tarafından\\nfarklı biçimde yapılır. Örneğin:\\n\"\"\"\\n\"devrim\".encode(\"utf-8\")',\n",
       " '_63': b'devrim',\n",
       " '_i64': '\"\"\"\\nBu fonksiyona karakter dizilerini doğrudan parametre olarak\\nveremeyiz. Eğer verirsek yukarıdaki gibi bir hata alırız.\\nPeki acaba bu hatayı almamızın nedeni ne olabilir?\\n\\nDediğimiz gibi, bytes() fonksiyonu, çeşitli veri tiplerini \\nbayta dönüştürmeye yarar. Ancak bildiğiniz gibi,\\nbayta dönüştürme işlemi her kod çözücü tarafından\\nfarklı biçimde yapılır. Örneğin:\\n\"\"\"\\n\"ışık\".encode(\"utf-8\")',\n",
       " '_64': b'\\xc4\\xb1\\xc5\\x9f\\xc4\\xb1k',\n",
       " '_i65': \"'ışık'.encode('cp857')\",\n",
       " '_65': b'\\x8d\\x9f\\x8dk',\n",
       " '_i66': \"'ışık'.encode('cp1254')\",\n",
       " '_66': b'\\xfd\\xfe\\xfdk',\n",
       " '_i67': '\"\"\"\\nDolayısıyla, bytes() fonksiyonunun bir karakter dizisini\\nbayta çevirirken nasıl davranması gerektiğini anlayabilmesi\\niçin, bayta dönüştürme işlemini hangi kod çözücü ile yapmak\\nistediğimizi açıkça belirtmemiz gerekir:\\n\"\"\"\\nbytes(\"ışık\",\"utf-8\")',\n",
       " '_67': b'\\xc4\\xb1\\xc5\\x9f\\xc4\\xb1k',\n",
       " '_i68': \"bytes('ışık', 'cp1254')\",\n",
       " '_68': b'\\xfd\\xfe\\xfdk',\n",
       " '_i69': \"bytes('ışık', 'cp857')\",\n",
       " '_69': b'\\x8d\\x9f\\x8dk',\n",
       " '_i70': '\"\"\"\\nGördüğünüz gibi, bytes() fonksiyonuna parametre olarak bir karakter \\ndizisi verebilmek için, bu karakter dizisi ile birlikte bir\\nkod çözücü de belirtmemiz gerekiyor. Böylece bytes() fonksiyonu\\nkendisine verdiğimiz karakter dizisini, belirttiğimiz kod\\nçözücünün kurallarına göre bayta dönüştürüyor.\\n\\nBu arada, çıktıda görünen ‘b’ harflerinin, elimizdeki verinin \\nbir bayt olduğunu gösteren bir işaret olduğunu biliyorsunuz.\\n\\nAyrıca, bytes() fonksiyonuna verdiğimiz ikinci parametrenin \\nisminin encoding olduğunu ve bu parametreyi isimli bir \\nparametre olarak da kullanabileceğimizi belirtelim:\\n\"\"\"\\nbytes(\"devrim\",encoding(\"ascii\"))',\n",
       " '_i71': '\"\"\"\\nGördüğünüz gibi, bytes() fonksiyonuna parametre olarak bir karakter \\ndizisi verebilmek için, bu karakter dizisi ile birlikte bir\\nkod çözücü de belirtmemiz gerekiyor. Böylece bytes() fonksiyonu\\nkendisine verdiğimiz karakter dizisini, belirttiğimiz kod\\nçözücünün kurallarına göre bayta dönüştürüyor.\\n\\nBu arada, çıktıda görünen ‘b’ harflerinin, elimizdeki verinin \\nbir bayt olduğunu gösteren bir işaret olduğunu biliyorsunuz.\\n\\nAyrıca, bytes() fonksiyonuna verdiğimiz ikinci parametrenin \\nisminin encoding olduğunu ve bu parametreyi isimli bir \\nparametre olarak da kullanabileceğimizi belirtelim:\\n\"\"\"\\nbytes(\"istiizha\",encoding(\"ascii\"))',\n",
       " '_i72': '\"\"\"\\nGördüğünüz gibi, bytes() fonksiyonuna parametre olarak bir karakter \\ndizisi verebilmek için, bu karakter dizisi ile birlikte bir\\nkod çözücü de belirtmemiz gerekiyor. Böylece bytes() fonksiyonu\\nkendisine verdiğimiz karakter dizisini, belirttiğimiz kod\\nçözücünün kurallarına göre bayta dönüştürüyor.\\n\\nBu arada, çıktıda görünen ‘b’ harflerinin, elimizdeki verinin \\nbir bayt olduğunu gösteren bir işaret olduğunu biliyorsunuz.\\n\\nAyrıca, bytes() fonksiyonuna verdiğimiz ikinci parametrenin \\nisminin encoding olduğunu ve bu parametreyi isimli bir \\nparametre olarak da kullanabileceğimizi belirtelim:\\n\"\"\"\\nbytes(\"istizha\",encoding(\"ascii\"))',\n",
       " '_i73': '\"\"\"\\nBu noktada size şöyle bir soru sorayım: \\nAcaba bytes() fonksiyonuna ilk parametre \\nolarak verdiğimiz karakter dizisi, ikinci \\nparametrede belirttiğimiz kod çözücü tarafından tanınmazsa ne olur?\\n\\nCevabı tahmin edebilirsiniz: Böyle bir durumda \\nelbette Python bize bir hata mesajı gösterir:\\n\\n\"\"\"\\nbytes(\\'şeker\\', \\'ascii\\')',\n",
       " '_i74': '\"\"\"\\nBu noktada size şöyle bir soru sorayım: \\nAcaba bytes() fonksiyonuna ilk parametre \\nolarak verdiğimiz karakter dizisi, ikinci \\nparametrede belirttiğimiz kod çözücü tarafından tanınmazsa ne olur?\\n\\nCevabı tahmin edebilirsiniz: Böyle bir durumda \\nelbette Python bize bir hata mesajı gösterir:\\n\\n\"\"\"\\nbytes(\\'şeker\\', \\'ascii\\')',\n",
       " '_i75': 'bytes(\\'€\\', \\'cp857\\')\\n\"\"\"\\nş’ harfi ‘ASCII’ karakter kümesinde; ‘€’ işareti ise ‘CP857’ \\nadlı karakter kümesinde tanımlanmamış birer karakter olduğu \\niçin, ilgili kod çözücüler bu karakterleri çözüp bayta \\ndönüştüremiyor. Yazdığımız kodların bu tür durumlarda \\ntamamen çökmesini engellemek için, önceki derslerimizde de \\nçeşitli vesilelerle öğrenmiş olduğumuz errors adlı bir parametreden \\nyararlanabiliriz:\\n\"\"\"\\nbytes(\\'ışık\\', encoding=\\'ascii\\', errors=\\'replace\\')',\n",
       " '_i76': 'bytes(\\'€\\', \\'cp857\\')\\n\"\"\"\\nş’ harfi ‘ASCII’ karakter kümesinde; ‘€’ işareti ise ‘CP857’ \\nadlı karakter kümesinde tanımlanmamış birer karakter olduğu \\niçin, ilgili kod çözücüler bu karakterleri çözüp bayta \\ndönüştüremiyor. Yazdığımız kodların bu tür durumlarda \\ntamamen çökmesini engellemek için, önceki derslerimizde de \\nçeşitli vesilelerle öğrenmiş olduğumuz errors adlı bir parametreden \\nyararlanabiliriz:\\n\"\"\"\\nbytes(\\'şeker\\', encoding=\\'ascii\\', errors=\\'replace\\')',\n",
       " '_i77': 'bytes(\\'€\\', \\'cp857\\')\\n\"\"\"\\nş’ harfi ‘ASCII’ karakter kümesinde; ‘€’ işareti ise ‘CP857’ \\nadlı karakter kümesinde tanımlanmamış birer karakter olduğu \\niçin, ilgili kod çözücüler bu karakterleri çözüp bayta \\ndönüştüremiyor. Yazdığımız kodların bu tür durumlarda \\ntamamen çökmesini engellemek için, önceki derslerimizde de \\nçeşitli vesilelerle öğrenmiş olduğumuz errors adlı bir parametreden \\nyararlanabiliriz:\\n\"\"\"\\nbytes(\\'€\\', encoding=\\'cp857\\', errors=\\'ignore\\')',\n",
       " '_i78': '\"\"\"\\nş’ harfi ‘ASCII’ karakter kümesinde; ‘€’ işareti ise ‘CP857’ \\nadlı karakter kümesinde tanımlanmamış birer karakter olduğu \\niçin, ilgili kod çözücüler bu karakterleri çözüp bayta \\ndönüştüremiyor. Yazdığımız kodların bu tür durumlarda \\ntamamen çökmesini engellemek için, önceki derslerimizde de \\nçeşitli vesilelerle öğrenmiş olduğumuz errors adlı bir parametreden \\nyararlanabiliriz:\\n\"\"\"\\nbytes(\\'ışık\\', encoding=\\'ascii\\', errors=\\'replace\\')',\n",
       " '_78': b'???k',\n",
       " '_i79': \"bytes('şeker', encoding='ascii', errors='replace')\",\n",
       " '_79': b'?eker',\n",
       " '_i80': \"bytes('€', encoding='cp857', errors='replace')\",\n",
       " '_80': b'?',\n",
       " '_i81': \"bytes('€', encoding='cp857', errors='ignore')\",\n",
       " '_81': b'',\n",
       " '_i82': \"bytes('€', encoding='cp857', errors='xmlcharrefreplace')\",\n",
       " '_82': b'&#8364;',\n",
       " '_i83': \"bytes('şeker', encoding='cp857', errors='xmlcharrefreplace')\",\n",
       " '_83': b'\\x9feker',\n",
       " '_i84': '\"\"\"\\nGördüğünüz gibi, errors parametresine verdiğimiz çeşitli değerler\\nyardımıyla, bytes() fonksiyonunun, encoding parametresinde belirtilen\\nkod çözücü ile çözülemeyen karakterlerle karşılaştığında nasıl\\ndavranacağını belirleyebiliyoruz.\\n\\n\\nerrors parametresine verdiğimiz bütün bu değerleri önceki\\nderslerimizde öğrenmiştik. Dolayısıyla yukarıda gösterdiğimiz\\nkodları rahatlıkla anlayabilecek kadar Python bilgisine sahibiz.\\n\\nSon olarak, bytes() fonksiyonuna parametre olarak 0-256 arası\\nsayılardan oluşan diziler de verebiliriz:\\nBu yapı içinde Python, 0 ile 128 arası sayılar için standart \\nASCII tablosunu, 128 ile 256 arası sayılar için ise Latin-1 \\nkarakter kümesini temel alarak sayıları birer bayta dönüştürecektir.\\n\"\"\"\\nbytes([65, 10, 12, 11, 15, 66])',\n",
       " '_84': b'A\\n\\x0c\\x0b\\x0fB',\n",
       " '_i85': '\"\"\"\\nbytearray()\\nBildiğiniz gibi baytlar değiştirilemeyen bir veri tipidir. \\nDolayısıyla bir bayt veri tipi üzerinde herhangi bir değişiklik\\nyapamayız. Örneğin bir baytın herhangi bir öğesini başka bir \\ndeğerle değiştiremeyiz:\\n\"\"\"\\na = bytes(\\'istihza\\', \\'ascii\\')',\n",
       " '_i86': 'a[0]',\n",
       " '_86': 105,\n",
       " '_i87': 'a[0]=106',\n",
       " '_i88': '\"\"\"\\nAma eğer hem baytlarla çalışmak, hem de bu baytların \\nüzerinde değişiklik yapabilmek isterseniz baytlar \\nyerine bayt dizileri ile çalışabilirsiniz. İşte \\nbunun için bytearray() adlı bir fonksiyondan yararlanıyoruz.\\n\\nYaptıkları iş bakımından bytearray() ve bytes()\\nfonksiyonları birbirlerine çok benzer. Bu ikisi \\narasındaki tek fark, bytearray() ile oluşturulan \\nveri tipinin, bytes() ile oluşturulan veri tipinin\\naksine, değiştirilebilir nitelikte olmasıdır:\\n\"\"\"\\na = bytearray(\\'adana\\', \\'ascii\\')',\n",
       " '_i89': 'a',\n",
       " '_89': bytearray(b'Adana'),\n",
       " '_i90': 'a[0] = 65',\n",
       " '_i91': 'a',\n",
       " '_91': bytearray(b'Adana'),\n",
       " '_i92': 'a',\n",
       " '_92': bytearray(b'Adana'),\n",
       " '_i93': '\"\"\"\\nchr()\\nBu fonksiyon, kendisine parametre olarak verilen bir tam \\nsayının karakter karşılığını döndürür. Örneğin:\\n\"\"\"\\nchr(10)',\n",
       " '_93': '\\n',\n",
       " '_i94': 'chr(65)',\n",
       " '_94': 'A',\n",
       " '_i95': '\"\"\"\\nBu fonksiyon sayıları karakterlere dönüştürürken \\nASCII sistemini değil, UNICODE sistemini temel alır.\\nDolayısıyla bu fonksiyon ile 128 (veya 255) üstü sayıları\\nda dönüştürebiliriz. Örneğin:\\n\"\"\"\\nchr(305)',\n",
       " '_95': 'ı',\n",
       " '_i96': '\"\"\"\\nlist()\\nBu fonksiyon iki farklı amaç için kullanılabilir:\\n\\nListe tipinde bir veri oluşturmak\\n\\nFarklı veri tiplerini liste adlı veri tipine dönüştürmek\\n\\nBirinci amaç için bu fonksiyonu şu şekilde kullanıyoruz:\\n\\n\\n\"\"\"\\nliste=list()',\n",
       " '_i97': '\"\"\"\\nlist()\\nBu fonksiyon iki farklı amaç için kullanılabilir:\\n\\nListe tipinde bir veri oluşturmak\\n\\nFarklı veri tiplerini liste adlı veri tipine dönüştürmek\\n\\nBirinci amaç için bu fonksiyonu şu şekilde kullanıyoruz:\\n\\n\\n\"\"\"\\nliste=list()\\ntype(liste)',\n",
       " '_97': list,\n",
       " '_i98': '\"\"\"\\nlist()\\nBu fonksiyon iki farklı amaç için kullanılabilir:\\n\\nListe tipinde bir veri oluşturmak\\n\\nFarklı veri tiplerini liste adlı veri tipine dönüştürmek\\n\\nBirinci amaç için bu fonksiyonu şu şekilde kullanıyoruz:\\n\\n\\n\"\"\"\\nliste=list()\\nprint(liste)',\n",
       " '_i99': 'liste=list(range(1,10))\\nprint(liste)',\n",
       " '_i100': 'demet=tuple(range(1,10))',\n",
       " 'demet': (1, 2, 3, 4, 5, 6, 7, 8, 9),\n",
       " '_i101': 'demet',\n",
       " '_101': (1, 2, 3, 4, 5, 6, 7, 8, 9),\n",
       " '_i102': 'demet\\ntype(demet)',\n",
       " '_102': tuple,\n",
       " '_i103': 'demet',\n",
       " '_103': (1, 2, 3, 4, 5, 6, 7, 8, 9),\n",
       " '_i104': 'type(demet)',\n",
       " '_104': tuple,\n",
       " '_i105': 'liste=list(demet)',\n",
       " '_i106': 'liste',\n",
       " '_106': [1, 2, 3, 4, 5, 6, 7, 8, 9],\n",
       " '_i107': 'type(liste)',\n",
       " '_107': list,\n",
       " '_i108': '\"\"\"\\nset()\\nset() fonksiyonu list() fonksiyonuna çok benzer. \\nBu fonksiyon da tıpkı list() fonksiyonu gibi, veri\\ntipleri arasında dönüştürme işlemleri gerçekleştirmek \\niçin kullanılabilir. set() fonksiyonunun görevi farklı \\nveri tiplerini kümeye dönüştürmektir:\\n\"\"\"\\nküme=set(demet)',\n",
       " 'küme': {1, 2, 3, 4, 5, 6, 7, 8, 9},\n",
       " '_i109': 'küme',\n",
       " '_109': {1, 2, 3, 4, 5, 6, 7, 8, 9},\n",
       " '_i110': 'type(küme)',\n",
       " '_110': set,\n",
       " '_i111': '\"\"\"\\ntuple()\\ntuple() fonksiyonu da, tıpkı list(), set() ve benzerleri \\ngibi bir dönüştürücü fonksiyondur. Bu fonksiyon farklı veri \\ntiplerini demete dönüştürür:\\n\"\"\"\\ndemet=tuple(demet)',\n",
       " '_i112': 'demet',\n",
       " '_112': (1, 2, 3, 4, 5, 6, 7, 8, 9),\n",
       " '_i113': 'type(demet)',\n",
       " '_113': tuple,\n",
       " '_i114': '\"\"\"\\nfrozenset()\\nBu fonksiyonu kullanarak farklı veri tiplerini \\ndondurulmuş kümeye dönüştürebilirsiniz:\\n\"\"\"\\ndf=frozenset(demet)',\n",
       " 'df': frozenset({1, 2, 3, 4, 5, 6, 7, 8, 9}),\n",
       " '_i115': 'df',\n",
       " '_115': frozenset({1, 2, 3, 4, 5, 6, 7, 8, 9}),\n",
       " '_i116': 'df[0]',\n",
       " '_i117': 'df[0][1]',\n",
       " '_i118': '\"\"\"\\ncomplex()\\nSayılardan söz ederken, eğer matematikle çok fazla \\niçli dışlı değilseniz pek karşılaşmayacağınız, \\n‘karmaşık sayı’ adlı bir sayı türünden de bahsetmiştik.\\nKarmaşık sayılar, bir gerçek, bir de sanal kısımdan oluşan sayılardır.\\n\\nKarmaşık sayılar Python’da ‘complex’ ifadesiyle gösteriliyor.\\nMesela şu bir karmaşık sayıdır:\\n\"\"\"\\n12+0j',\n",
       " '_118': (12+0j),\n",
       " '_i119': 'type(12+2j)',\n",
       " '_119': complex,\n",
       " '_i120': '\"\"\"\\nİşte eğer herhangi bir sayıyı karmaşık sayıya \\ndönüştürmeniz gerekirse complex() adlı bir fonksiyondan\\nyararlanabilirsiniz. Örneğin:\\nFLOAT İNTEGER COMPLEX\\n\"\"\"\\ncomplex(15)',\n",
       " '_120': (15+0j),\n",
       " '_i121': '\"\"\"\\nBöyle bir kod yazdığımızda, verdiğimiz parametre \\nkarmaşık sayının gerçek kısmını oluşturacak, sanal kısım\\nise 0 olarak kabul edilecektir. Elbette isterseniz sanal kısmı \\nkendiniz de belirleyebilirsiniz:\\n\"\"\"\\ncomplex(15, 2)',\n",
       " '_121': (15+2j),\n",
       " '_i122': '\"\"\"\\nfloat()\\nBu fonksiyonu, sayıları veya karakter dizilerini kayan noktalı\\nsayıya dönüştürmek için kullanıyoruz:\\n\"\"\"\\nfloat(\"134\")',\n",
       " '_122': 134.0,\n",
       " '_i123': 'float(12)',\n",
       " '_123': 12.0,\n",
       " '_i124': '\"\"\"\\nint()\\nBu fonksiyon birkaç farklı amaç için kullanılabilir.\\nint() fonksiyonunun en temel görevi, bir karakter dizisi \\nveya kayan noktalı sayıyı (eğer mümkünse) tam sayıya dönüştürmektir:\\n\"\"\"\\nint(\\'10\\')',\n",
       " '_124': 10,\n",
       " '_i125': 'int(12.4)',\n",
       " '_125': 12,\n",
       " '_i126': '\"\"\"\\nBunun dışında bu fonksiyonu, herhangi bir sayma\\nsisteminde temsil edilen bir sayıyı onlu sayma \\nsistemine dönüştürmek için de kullanabiliriz.\\nÖrneğin:\\nint(\\'12\\', 8)\\n\"\"\"',\n",
       " '_126': \"\\nBunun dışında bu fonksiyonu, herhangi bir sayma\\nsisteminde temsil edilen bir sayıyı onlu sayma \\nsistemine dönüştürmek için de kullanabiliriz.\\nÖrneğin:\\nint('12', 8)\\n\",\n",
       " '_i127': '\"\"\"\\nBunun dışında bu fonksiyonu, herhangi bir sayma\\nsisteminde temsil edilen bir sayıyı onlu sayma \\nsistemine dönüştürmek için de kullanabiliriz.\\nÖrneğin:\\n\"\"\"\\nint(\\'12\\', 8)',\n",
       " '_127': 10,\n",
       " '_i128': '\"\"\"\\nBurada, sekizli sayma sistemine ait sayı değerli bir karakter \\ndizisi olan ‘12’`yi onlu sayma sistemine dönüştürdük ve böylece \\n`10 sayısını elde ettik.\\n\\nint() fonksiyonunu sayma sistemleri arasında dönüştürme işlemlerinde\\nkullanabilmek için ilk parametrenin bir karakter dizisi olması \\ngerektiğine dikkat ediyoruz.\\n\\nBu arada, int(\\'12\\', 8) komutununun 12 sayısını sekizli sayma\\nsistemine dönüştürmediğine dikkat edin. Bu komutun yaptığı iş \\nsekizli sayma sistemindeki 12 sayısını onlu sayma sistemine \\ndönüştürmektir.\\n\\nint() fonksiyonunun bu kullanımıyla ilgili bir örnek daha verelim:\\n\"\"\"\\nint(\\'4cf\\', 16)',\n",
       " '_128': 1231,\n",
       " '_i129': '\"\"\"\\nstr()\\nBu fonksiyonun, farklı veri tiplerini karakter dizisine\\ndönüştürmek için kullanıldığını biliyorsunuz. Örneğin:\\n\"\"\"\\nstr(12)',\n",
       " '_129': '12',\n",
       " '_i130': '\"\"\"\\nBurada 12 sayısını bir karakter dizisine dönüştürdük. \\nŞimdi de bir baytı karakter dizisine dönüştürelim:\\n\"\"\"\\nbayt = b\\'istihza\\'',\n",
       " 'bayt': b'kad\\xc4\\xb1n',\n",
       " '_i131': \"ardiz = str(bayt, encoding='utf-8')\\nprint(ardiz)\",\n",
       " 'ardiz': 'istihza',\n",
       " '_i132': '\"\"\"\\nGördüğünüz gibi, bir baytı karakter dizisine dönüştürmek \\niçin str() fonksiyonuna encoding adlı bir parametre veriyoruz.\\nFonksiyonumuz, bu parametrede hangi kodlama biçimi belirtildiyse, \\nbaytları bu kodlama biçiminin kurallarına göre bir karakter \\ndizisine dönüştürüyor.\\n\\nTahmin edebileceğiniz gibi, belirttiğiniz kodlama biçiminin \\nherhangi bir baytı karakter dizisine dönüştüremediği durumlara \\nkarşı bir errors parametresi de verebiliriz str() fonksiyonuna.\\n\\nbayt = bytes(\\'kadın\\', encoding=\\'utf-8\\')\\nprint(bayt)\\nÖrneğin elimizde bayt tipinde şöyle bir veri olduğunu varsayalım:\\n\"\"\"\\nbayt = bytes(\\'kadın\\', encoding=\\'utf-8\\')\\nprint(bayt)',\n",
       " '_i133': '\"\"\"\\nGördüğünüz gibi, bir baytı karakter dizisine dönüştürmek \\niçin str() fonksiyonuna encoding adlı bir parametre veriyoruz.\\nFonksiyonumuz, bu parametrede hangi kodlama biçimi belirtildiyse, \\nbaytları bu kodlama biçiminin kurallarına göre bir karakter \\ndizisine dönüştürüyor.\\n\\nTahmin edebileceğiniz gibi, belirttiğiniz kodlama biçiminin \\nherhangi bir baytı karakter dizisine dönüştüremediği durumlara \\nkarşı bir errors parametresi de verebiliriz str() fonksiyonuna.\\n\\nÖrneğin elimizde bayt tipinde şöyle bir veri olduğunu varsayalım:\\n\"\"\"\\nbayt = bytes(\\'kadın\\', encoding=\\'utf-8\\')\\nprint(bayt)',\n",
       " '_i134': \"kardiz = str(bayt, encoding='ascii')\",\n",
       " '_i135': '\"\"\"\\nASCII adlı kod çözücü, b\\'kadın\\' içindeki baytlardan birini \\ntanıyamadığı için bize bir hata mesajı gösterdi. Bildiğiniz\\ngibi ASCII 128’den büyük baytları dönüştüremez. İşte bu tür \\ndurumlara karşı errors parametresinden yararlanabilirsiniz:\\n\"\"\"\\nkardiz = str(bayt, encoding=\\'ascii\\', errors=\\'ignore\\')\\nprint(kardiz)',\n",
       " 'kardiz': 'kadn',\n",
       " '_i136': '\"\"\"\\nerrors parametresine verdiğimiz ‘ignore’ değeri sayesinde \\nPython bize hata mesajı göstermek yerine, ASCII ile çözülemeyen\\nbaytı görmezden geldi. errors parametresinin hangi değerleri\\nalabileceğini önceki derslerimizden hatırlıyor olmalısınız.\\ndict()\\nBu fonksiyon, farklı veri tiplerinden sözlükler üretmemizi sağlar.\\nÖrneğin bu fonksiyonu kullanarak boş bir sözlük oluşturabiliriz:\\n\"\"\"\\ns = dict()',\n",
       " 's': {'a': 1, 'b': 2, 'c': 3},\n",
       " '_i137': 's = dict(a=1, b=2, c=3)',\n",
       " '_i138': 's',\n",
       " '_138': {'a': 1, 'b': 2, 'c': 3},\n",
       " '_i139': \"öğeler = (['a', 1], ['b', 2], ['c', 3])\\ndict(öğeler)\",\n",
       " 'öğeler': (['a', 1], ['b', 2], ['c', 3]),\n",
       " '_139': {'a': 1, 'b': 2, 'c': 3},\n",
       " '_i140': '\"\"\"\\ncallable()\\nBu fonksiyon, bir nesnenin ‘çağrılabilir’ olup olmadığını \\ndenetler. Peki hangi nesneler çağrılabilir özelliktedir. \\nMesela fonksiyonlar çağrılabilir nesnelerdir. Değişkenler \\nise çağrılabilir nesneler değildir.\\n\"\"\"\\ncallable(open)',\n",
       " '_140': True,\n",
       " '_i141': 'import sys\\ncallable(sys.version)',\n",
       " 'sys': <module 'sys' (built-in)>,\n",
       " '_141': False,\n",
       " '_i142': '\"\"\"\\nord()\\nBu fonksiyon, bir karakterin karşılık geldiği ondalık \\nsayıyı verir. Örneğin:\\n\"\"\"\\nord(1a)',\n",
       " '_i143': '\"\"\"\\nord()\\nBu fonksiyon, bir karakterin karşılık geldiği ondalık \\nsayıyı verir. Örneğin:\\n\"\"\"\\nord(\"a\")',\n",
       " '_143': 97,\n",
       " '_i144': 'ord(\"ı\")',\n",
       " '_144': 305,\n",
       " '_i145': '\"\"\"\\noct()\\nBu fonksiyon, bir sayıyı sekizli düzendeki karşılığına \\nçevirmemizi sağlar:\\n\"\"\"\\noct(10)',\n",
       " '_145': '0o12',\n",
       " '_i146': '\"\"\"\\nhex()\\nBu fonksiyon, bir sayıyı onaltılı düzendeki karşılığına çevirmemizi \\nsağlar:\\n\"\"\"\\nhex(305)',\n",
       " '_146': '0x131',\n",
       " '_i147': '\"\"\"\\neval(), exec(), globals(), locals(), compile()\\nBu bölümde beş farklı fonksiyonu bir arada inceleyeceğiz. \\nBu fonksiyonları birlikte ele almamızın nedeni bunların \\nbirbiriyle yakından bağlantılı olması.\\n\\nBurada işleyeceğimiz bu beş fonksiyon şunlardan oluşuyor:\\n\\neval()\\n\\nexec()\\n\\nglobals()\\n\\nlocals()\\n\\ncompile()\\n\\nAncak bu fonksiyonlardan söz etmeye başlamadan önce \\nPython’daki iki önemli kavramı açıklığa kavuşturmamız \\ngerekiyor: Bu kavramlar şunlar:\\n\\nifade\\n\\ndeyim\\n\\nÖncelikle ‘ifade’ kavramından başlayalım.\\n\\nİngilizcede expression denen ‘ifadeler’, bir değer \\nüretmek için kullanılan kod parçalarıdır.\\nKarakter dizileri, sayılar, işleçler, öteki veri tipleri, \\nliste üreteçleri, sözlük üreteçleri, küme üreteçleri,\\nfonksiyonlar hep birer ifadedir. Örneğin:\\n\\n5\\n\\n23 + 4\\n\\n[i for i in range(10)]\\n\\nlen([1, 2, 3])\\nİngilizcede statement olarak adlandırılan ‘deyimler’ \\nise ifadeleri de kapsayan daha geniş bir kavramdır.\\nBuna göre bütün ifadeler aynı zamanda birer deyimdir. \\nDaha doğrusu, ifadelerin bir araya gelmesi ile deyimler\\noluşturulabilir.\\n\\nDeyimlere birkaç örnek verelim:\\n\\na = 5\\n\\nif a:\\n    print(a)\\n\\nfor i in range(10):\\n    print(i)\\nPython programlama dilinde deyimlerle ifadeleri ayırt\\netmenin kolay bir yolu da eval() fonksiyonundan yararlanmaktır.\\nEğer deyim mi yoksa ifade mi olduğundan emin olamadığınız \\nbir şeyi eval() fonksiyonuna parametre olarak verdiğinizde\\nhata almıyorsanız o parametre bir ifadedir. Eğer hata\\nalıyorsanız o parametre bir deyimdir. Çünkü eval()\\nfonksiyonuna parametre olarak yalnızca ifadeler verilebilir.\\n\\nBirkaç örnek verelim:\\n\\neval(\\'a = 5\\')\\n\\n  File \"<string>\", line 1\\n    a = 5\\n      ^\\nSyntaxError: invalid syntax\\nGördüğünüz gibi, eval() fonksiyonu bize bir hata mesajı verdi.\\nÇünkü a = 5 kodu bir deyimdir. Unutmayın, Python’da bütün\\ndeğer atama işlemleri birer deyimdir. Dolayısıyla eval() \\nfonksiyonu bu deyimi parametre olarak alamaz.\\n\\nBir de şuna bakalım:\\n\\neval(\\'5 + 25\\')\\n\\n30\\nBu defa hata almadık. Çünkü eval() fonksiyonuna, olması\\ngerektiği gibi, parametre olarak bir ifade verdik.\\nBildiğiniz gibi, 5 + 25 kodu bir ifadedir.\\n\\nDediğimiz gibi, eval() fonksiyonu deyimleri parametre \\nolarak alamaz. Ama exec() fonksiyonu alabilir:\\n\\nexec(\\'a = 5\\')\\nBu şekilde, değeri 5 olan a adlı bir değişken oluşturmuş \\nolduk. İsterseniz kontrol edelim:\\n\\nprint(a)\\n\\n5\\nGördüğünüz gibi, exec() fonksiyonu, mevcut isim alanı\\niçinde a adlı bir değişken oluşturdu. Yalnız elbette \\nmevcut isim alanı içinde yeni değişkenler ve yeni değerler \\noluştururken dikkatli olmamız gerektiğini biliyorsunuz.\\nZira mesela yukarıdaki komutu vermeden önce mevcut isim \\nalanında zaten a adlı bir değişken varsa, o değişkenin \\ndeğeri değişecektir:\\n\\na = 20\\nElimizde, değeri 20 olan a adlı bir değişken var. \\nŞimdi exec() fonksiyonu yardımıyla a değişkeninin\\nde içinde yer aldığı mevcut isim alanına müdahale ediyoruz:\\n\\nexec(\\'a = 10\\')\\nBöylece a değişkeninin eski değerini silmiş olduk. Kontrol edelim:\\n\\nprint(a)\\n\\n10\\nBu tür durumlarda, exec() ile oluşturduğunuz değişkenleri \\nglobal isim alanına değil de, farklı bir isim alanına \\ngöndermeyi tercih edebilirsiniz. Peki ama bunu nasıl yapacağız?\\n\\nPython programlama dilinde isim alanları sözlük tipinde bir veridir. \\nÖrneğin global isim alanı basit bir sözlükten ibarettir.\\n\\nGlobal isim alanını gösteren sözlükte hangi anahtar ve \\ndeğerlerin olduğunu görmek için globals() adlı bir \\nfonksiyonu kullanabilirsiniz:\\n\\nglobals()\\nBu fonksiyonu çalıştırdığımızda şuna benzer bir çıktı alırız:\\n\\n{\\'__doc__\\': None, \\'__loader__\\': <class \\'_frozen_importlib.BuiltinImpor\\nter\\'>,\\'__name__\\': \\'__main__\\', \\'__package__\\': None, \\'__builtins__\\':\\n<module \\'builtins\\'>}\\nGördüğünüz gibi, elimizdeki şey gerçekten de bir sözlük. \\nDolayısıyla bir sözlük ile ne yapabilirsek bu sözlükle de\\naynı şeyi yapabiliriz…\\n\\n‘globals’ adlı bu sözlüğün içeriği, o anda global isim\\nalanında bulunan nesnelere göre farklılık gösterecektir. Örneğin:\\n\\nx = 10\\nşeklinde 10 değerine sahip bir x nesnesi tanımladıktan sonra \\nglobals() fonksiyonunu tekrar çalıştırırsanız global isim\\nalanına bu nesnenin de eklenmiş olduğunu görürsünüz.\\n\\nDediğimiz gibi, globals() fonksiyonundan dönen nesne bir sözlüktür. \\nBu sözlüğe, herhangi bir sözlüğe veri ekler gibi değer de\\nekleyebilirsiniz:\\n\\nglobals()[\\'z\\'] = 23\\nBu şekilde global isim alanına z adlı bir değişken eklemiş oldunuz:\\n\\nz\\n\\n23\\nYalnız, Python programlama dili bize bu şekilde global isim alanına\\nnesne ekleme imkanı verse de, biz mecbur değilsek bu yöntemi\\nkullanmaktan kaçınmalıyız. Çünkü bu şekilde sıradışı bir yöntemle\\ndeğişken tanımladığımız için aslında global isim alanını, nerden \\ngeldiğini kestirmenin güç olduğu değerlerle ‘kirletmiş’ oluyoruz.\\n\\nBildiğiniz gibi, Python’da global isim alanı dışında bir de lokal isim \\nlanı bulunur. Lokal isim alanlarının, fonksiyonlara \\n(ve ileride göreceğimiz gibi sınıflara) ait bir isim alanı\\nolduğunu biliyorsunuz. İşte bu isim alanlarına ulaşmak için de \\nlocals() adlı bir fonksiyondan yararlanacağız:\\n\\ndef fonksiyon(param1, param2):\\n    x = 10\\n    print(locals())\\n\\nfonksiyon(10, 20)\\nBu fonksiyonu çalıştırdığınızda şu çıktıyı alacaksınız:\\n\\n{\\'param2\\': 20, \\'param1\\': 10, \\'x\\': 10}\\nGördüğünüz gibi, locals() fonksiyonu gerçekten de bize fonksiyon()\\nadlı fonksiyon içindeki lokal değerleri veriyor.\\n\\nglobals() ve locals() fonksiyonlarının ne işe yaradığını \\nincelediğimize göre exec() fonksiyonunu anlatırken kaldığımız yere \\ndönebiliriz.\\n\\nNe diyorduk?\\n\\nElimizde, değeri 20 olan a adlı bir değişken vardı:\\n\\na = 20\\nexec() fonksiyonu yardımıyla a değişkeninin de içinde yer aldığı \\nmevcut isim alanına müdahale edelim:\\n\\nexec(\\'a = 3\\')\\nBu şekilde a değişkeninin varolan değerini silmiş olduk:\\n\\nprint(a)\\n\\n3\\nDediğimiz gibi, bu tür durumlarda, exec() ile oluşturduğunuz \\ndeğişkenleri global isim alanı yerine farklı bir isim alanına \\ngöndermeyi tercih etmemiz daha uygun olacaktır. Python’da isim\\nalanlarının basit bir sözlük olduğunu öğrendiğimize göre, exec() \\nile oluşturduğumuz değişkenleri global isim alanı yerine nasıl \\nfarklı bir isim alanına göndereceğimizi görebiliriz.\\n\\nÖnce yeni bir isim alanı oluşturalım:\\n\\nia = {}\\nŞimdi exec() ile oluşturacağımız değerleri bu isim alanına \\ngönderebiliriz:\\n\\nexec(\\'a = 3\\', ia)\\nBöylece global isim alanındaki a değişkeninin değerine dokunmamış\\nolduk:\\n\\na\\n\\n20\\nYeni oluşturduğumuz değer ise ia adlı yeni isim alanına gitti:\\n\\nia[\\'a\\']\\n\\n3\\n\\n\"\"\"\\neval(\"a=5\")',\n",
       " '_i148': \"eval('5 + 25')\",\n",
       " '_148': 30,\n",
       " '_i149': \"exec('a = 5')\",\n",
       " '_i150': 'print(a)',\n",
       " '_i151': 'a = 20',\n",
       " '_i152': \"exec('a = 10')\",\n",
       " '_i153': 'print(a)',\n",
       " '_i154': '\"\"\"\\nBu tür durumlarda, exec() ile oluşturduğunuz\\ndeğişkenleri global isim alanına değil de, \\nfarklı bir isim alanına göndermeyi tercih edebilirsiniz. \\nPeki ama bunu nasıl yapacağız?\\nPython programlama dilinde isim alanları sözlük tipinde bir veridir.\\nÖrneğin global isim alanı basit bir sözlükten ibarettir.\\n\"\"\"\\nglobals()'}"
      ]
     },
     "execution_count": 154,
     "metadata": {},
     "output_type": "execute_result"
    }
   ],
   "source": [
    "\"\"\"\n",
    "Bu tür durumlarda, exec() ile oluşturduğunuz\n",
    "değişkenleri global isim alanına değil de, \n",
    "farklı bir isim alanına göndermeyi tercih edebilirsiniz. \n",
    "Peki ama bunu nasıl yapacağız?\n",
    "Python programlama dilinde isim alanları sözlük tipinde bir veridir.\n",
    "Örneğin global isim alanı basit bir sözlükten ibarettir.\n",
    "\"\"\"\n",
    "globals()"
   ]
  },
  {
   "cell_type": "code",
   "execution_count": 155,
   "id": "6bb6c84c",
   "metadata": {},
   "outputs": [],
   "source": [
    "x=10"
   ]
  },
  {
   "cell_type": "code",
   "execution_count": 156,
   "id": "e42ef849",
   "metadata": {},
   "outputs": [],
   "source": [
    "globals()['z'] = 23"
   ]
  },
  {
   "cell_type": "code",
   "execution_count": 158,
   "id": "97b20432",
   "metadata": {},
   "outputs": [
    {
     "data": {
      "text/plain": [
       "{'__name__': '__main__',\n",
       " '__doc__': '\\nBu tür durumlarda, exec() ile oluşturduğunuz\\ndeğişkenleri global isim alanına değil de, \\nfarklı bir isim alanına göndermeyi tercih edebilirsiniz. \\nPeki ama bunu nasıl yapacağız?\\nPython programlama dilinde isim alanları sözlük tipinde bir veridir.\\nÖrneğin global isim alanı basit bir sözlükten ibarettir.\\n',\n",
       " '__package__': None,\n",
       " '__loader__': None,\n",
       " '__spec__': None,\n",
       " '__builtin__': <module 'builtins' (built-in)>,\n",
       " '__builtins__': <module 'builtins' (built-in)>,\n",
       " '_ih': ['',\n",
       "  '\"\"\"\\nGömülü Fonksiyonlar\\nBu bölümde, daha önce de birkaç kez bahsettiğimiz ve \\nçokça örneğini gördüğümüz bir kavramdan söz edeceğiz.\\nBu kavramın adı ‘gömülü fonksiyonlar’.\\n\\nEsasında biz buraya gelene kadar Python’da pek çok gömülü \\nfonksiyon gördük. Dolayısıyla aslında görünüş olarak bunların\\nneye benzediğini biliyoruz. Örneğin daha önceki derslerimizde\\ngördüğümüz print() gömülü bir fonksiyondur. \\nAynı şekilde open(), type(), len(), pow(), bin() \\nve şimdiye kadar tanıştığımız öteki bütün fonksiyonlar\\nbirer gömülü fonksiyondur.\\n\\nGömülü fonksiyonlar İngilizcede builtin functions olarak \\nadlandırılır. Bu fonksiyonlar gerçekten de dile gömülü\\nvaziyettedirler. Bildiğiniz gibi, bir fonksiyonu kullanabilmemiz \\niçin o fonksiyonu tanımlamamız gerekir. İşte gömülü fonksiyonlar,\\nbizim tanımlamamıza gerek kalmadan, Python geliştiricileri tarafından \\nönceden tanımlanıp dile gömülmüş ve hizmetimize sunulmuş faydalı\\nbirtakım araçlardır.\\n\\nİşte bu bölümde biz de bu gömülü fonksiyonları tek tek ve\\nayrıntılı olarak inceleyeceğiz. Dediğimiz gibi, bunlardan \\nbir kısmını halihazırda görmüştünüz. Ama biz bütünlük\\naçısından, önceden ele almış olduğumuz bu fonksiyonlara \\nda kısaca değinmeden geçmeyeceğiz. Böylelikle hem yeni \\nfonksiyonlar öğrenmiş olacağız hem de önceden öğrendiğimiz \\nfonksiyonlarla birlikte yeni fonksiyonları da derli toplu \\nbir şekilde görme imkanımız olacak.\\n\\nBu bölümde elbette birtakım fonksiyonları salt art arda \\nsıralamakla yetinmeyeceğiz. Python’daki gömülü fonksiyonları\\nincelerken bir yandan da Python programlama dilindeki çok\\nönemli bazı kavramları ele alacağız.\\n\\nİlk olarak abs() adlı bir fonksiyonla başlıyoruz gömülü \\nfonksiyonları incelemeye…\\n\\n\\nabs()\\nİngilizcede ‘mutlak’ anlamına gelen absolute adlı bir \\nkelime bulunur. İşte bu fonksiyonun adı da bu kelimeden \\ngelir. Fonksiyonumuzun görevi de isminin anlamına yakındır.\\nabs() fonksiyonunu bir sayının mutlak değerini elde etmek \\niçin kullanıyoruz.\\n\\n\\nPeki ‘mutlak değer’ ne anlama geliyor. Esasında siz bu \\nkavrama matematik derslerinden aşinasınız. Ama bilmeyenler\\nveya unutmuş olanlar için tekrar edelim. ‘Mutlak değer’\\nbir sayının 0’a olan uzaklığıdır. Örneğin 20 sayısının\\n0 sayısına olan uzaklığı 20’dir. Dolayısıyla 20 sayısının\\nmutlak değeri 20’dir. Aynı şekilde -20 sayısının da 0\\nsayısına uzaklığı 20’dir. Yani, -20 sayısının da mutlak \\ndeğeri 20’dir.\\n\\n\\nİşte abs() fonksiyonu bize bir sayının mutlak değerinin\\nne olduğunu söyler:\\nMutlak değer kavramı yalnızca tamsayılar ve kayan \\nnoktalı sayılar için değil, aynı zamanda karmaşık \\nsayılar için de geçerlidir. Dolayısıyla abs()\\nfonksiyonunu kullanarak karmaşık sayıların da\\nmutlak değerini hesaplayabiliriz:\\nGördüğünüz gibi bu fonksiyon yalnızca tek bir parametre\\nalıyor ve bu parametrenin mutlak değerini döndürüyor.\\n\"\"\"\\nabs(-20)',\n",
       "  'abs(20)',\n",
       "  'abs(20+4j)',\n",
       "  '\"\"\"\\nround()\\nround() fonksiyonu bir sayıyı belli ölçütlere\\ngöre yukarı veya aşağı doğru yuvarlamamızı sağlar.\\nBasit birkaç örnek verelim:\\n\"\"\"\\nround(12,4)',\n",
       "  'round(12,7)',\n",
       "  '\"\"\"\\nGördüğünüz gibi bu fonksiyon, kayan noktalı sayıları \\nen yakın tam sayıya doğru yuvarlıyor.\\n\\nAncak burada dikkat etmemiz gereken bir nokta var.\\n\\nŞu örnekleri bir inceleyelim:\\n\"\"\"\\nround(1,5)',\n",
       "  'round(12.5)',\n",
       "  '\"\"\"\\nGördüğünüz gibi, fonksiyonumuz 1.5 sayısını yukarı doğru, \\n12.5 sayısını ise aşağı doğru yuvarladı. Bunun sebebi,\\nkayan noktalı bir sayının üst ve alt tam sayılara olan \\nuzaklığının birbirine eşit olduğu durumlarda Python’ın\\nçift sayıya doğru yuvarlama yapmayı tercih etmesidir.\\nMesela yukarıdaki örneklerde 1.5 sayısı hem 1 sayısına,\\nhem de 2 sayısına eşit uzaklıkta bulunuyor. İşte Python\\nbu durumda, bir çift sayı olan 2 sayısına doğru yuvarlamayı\\ntercih edecektir.\\n\\nround() fonksiyonu toplam iki parametre alır. İlk parametre,\\nyuvarlanacak sayının kendisidir. Yuvarlama hassasiyetini \\nbelirlemek için ise ikinci bir parametreden yararlanabiliriz.\\n\\nÖrneğin 22 sayısını 7’ye böldüğümüzde normalde şöyle bir \\nçıktı elde ederiz:\\n\"\"\"\\n22/7',\n",
       "  '\"\"\"\\nround() fonksiyonunu tek parametre ile \\nkullandığımızda bu fonksiyon yukarıdaki\\nsayıyı şu şekilde yuvarlayacaktır:\\n\"\"\"\\nround(22/7)',\n",
       "  '\"\"\"\\nİşte biz round() fonksiyonuna ikinci bir parametre daha\\nvererek, yuvarlama hassasiyetini kontrol edebiliriz.\\n\\nAşağıdaki örnekleri dikkatlice inceleyin:\\n\"\"\"\\nround(22/7)',\n",
       "  'round(22/7,0)',\n",
       "  'round(22/7,1)',\n",
       "  'round(22/7,4)',\n",
       "  '\"\"\"\\nall()\\n\\nAll kelimesi Türkçede ‘hepsi’ anlamına gelir.\\nBu fonksiyonun görevi de bu anlamı çağrıştırır.\\nall() fonksiyonunun görevi, bir dizi içinde bulunan \\nbütün değerler True ise True değeri, eğer bu değerlerden\\nherhangi biri False ise de False değeri döndürmektir.\\n\\nÖrneğin elimizde şöyle bir liste olduğunu varsayalım:\\n\"\"\"\\nliste = [1, 2, 3, 4]',\n",
       "  'all(liste)',\n",
       "  '\"\"\"\\nBildiğiniz gibi, 0 hariç bütün sayıların bool değeri True’dur. \\nYukarıdaki listede False değeri verebilecek herhangi bir değer \\nbulunmadığından, all() fonksiyonu bu liste için True değerini \\nveriyor. Bir de şuna bakalım:\\n\"\"\"\\nliste = [0, 1, 2, 3, 4]\\nall(liste)',\n",
       "  '\"\"\"\\nDediğimiz gibi, all() fonksiyonu ancak dizi içindeki bütün \\ndeğerlerin bool değeri True ise True çıktısı verecektir.\\n\\nSon bir örnek daha verelim:\\n\"\"\"\\nliste = [\\'ahmet\\', \\'mehmet\\', \\'\\']\\nall(liste)',\n",
       "  '\"\"\"\\nListede False değerine sahip bir boş karakter dizisi bulunduğu\\niçin all() fonksiyonu False çıktısı veriyor.\\n\\nBu fonksiyonu her türlü kodun bool değerlerini test etmek için \\nkullanabilirsiniz. Mesela bu fonksiyonu kullanarak, bir nesnenin\\nlistelenen özelliklerin hepsine sahip olup olmadığını \\ndenetleyebilirsiniz:\\n\"\"\"\\na = 3\\nt1 = a == 3         #sayı 3 mü?\\nt2 = a < 4          #sayı 4\\'ten küçük mü?\\nt3 = a % 2 == 1     #sayı bir tek sayı mı?\\nall([t1, t2, t3])   #sayı bu özelliklerin hepsine sahip mi?',\n",
       "  '\"\"\"\\nListede False değerine sahip bir boş karakter dizisi bulunduğu\\niçin all() fonksiyonu False çıktısı veriyor.\\n\\nBu fonksiyonu her türlü kodun bool değerlerini test etmek için \\nkullanabilirsiniz. Mesela bu fonksiyonu kullanarak, bir nesnenin\\nlistelenen özelliklerin hepsine sahip olup olmadığını \\ndenetleyebilirsiniz:\\n\"\"\"\\na = 3\\nt1 = a == 3         #sayı 3 mü?\\nt2 = a < 4          #sayı 4\\'ten küçük mü?\\nt3 = a % 2 == 1     #sayı bir tek sayı mı?\\nall([t1, t2, t3])   #sayı bu özelliklerin hepsine sahip mi?',\n",
       "  'a = 3\\nt1 = a == 3   \\nall(t1)',\n",
       "  'a = 3\\nt1 = a == 3   \\nt2 = a < 4   \\nall(t1)',\n",
       "  'a = 3\\nt1 = a == 3   \\nt2 = a < 4   \\nall(t1,t2)',\n",
       "  'a = 3\\nt1 = a == 3   \\nt2 = a < 4   \\nt3 = a % 2 == 1 \\nall(t1,t2,t3)',\n",
       "  '\"\"\"\\nListede False değerine sahip bir boş karakter dizisi bulunduğu\\niçin all() fonksiyonu False çıktısı veriyor.\\n\\nBu fonksiyonu her türlü kodun bool değerlerini test etmek için \\nkullanabilirsiniz. Mesela bu fonksiyonu kullanarak, bir nesnenin\\nlistelenen özelliklerin hepsine sahip olup olmadığını \\ndenetleyebilirsiniz:\\n\"\"\"\\na = 3\\nt1 = a == 3         #sayı 3 mü?\\nt2 = a < 4          #sayı 4\\'ten küçük mü?\\nt3 = a % 2 == 1     #sayı bir tek sayı mı?\\nall([t1, t2, t3])   #sayı bu özelliklerin hepsine sahip mi?',\n",
       "  'a = 3\\nt1 = a == 3   \\nt2 = a < 4   \\nt3 = a % 2 == 1 \\nall([t1])',\n",
       "  '\"\"\"\\nany()\\nAny kelimesi İngilizcede ‘herhangi bir’ anlamına gelir.\\nİşte any() fonksiyonunun görevi de, bir dizi içindeki \\nbütün değerlerden en az biri True ise True çıktısı vermektir.\\nALL FONKSİYONUNUN TERSİ\\n\"\"\"',\n",
       "  '\"\"\"\\nany()\\nAny kelimesi İngilizcede ‘herhangi bir’ anlamına gelir.\\nİşte any() fonksiyonunun görevi de, bir dizi içindeki \\nbütün değerlerden en az biri True ise True çıktısı vermektir.\\nALL FONKSİYONUNUN TERSİ\\n\"\"\"\\nliste = [0, 1, 2, 3, 4]\\nall(liste)',\n",
       "  \"liste = ['ahmet', 'mehmet', '']\\nall(liste)\",\n",
       "  '\"\"\"\\nany()\\nAny kelimesi İngilizcede ‘herhangi bir’ anlamına gelir.\\nİşte any() fonksiyonunun görevi de, bir dizi içindeki \\nbütün değerlerden en az biri True ise True çıktısı vermektir.\\nALL FONKSİYONUNUN TERSİ\\n\"\"\"\\nliste = [0, 1, 2, 3, 4]\\nany(liste)',\n",
       "  \"liste = ['ahmet', 'mehmet', '']\\nany(liste)\",\n",
       "  \"l = ['', 0, [], (), set(), dict()]\\nany(l)\",\n",
       "  '\"\"\"\\nascii()\\nBu fonksiyon, bir nesnenin ekrana basılabilir\\nhalini verir bize. Dilerseniz bu fonksiyonun yaptığı \\nişi tanımlamak yerine bunu bir örnek üzerinden anlatmaya çalışalım:\\n\"\"\"\\na = \\'istihza\\'\\nprint(ascii(a))\\n\\n\\'istihza\\'',\n",
       "  '\"\"\"\\nBu fonksiyonun, print() fonksiyonundan farklı olarak,\\nçıktıya tırnak işaretlerini de eklediğine dikkat edin.\\n\\nascii() fonksiyonunun tam olarak ne yaptığını daha iyi \\nanlamak için herhalde şu örnek daha faydalı olacaktır.\\n\\nDikkatlice bakın:\\n\"\"\"\\nprint(\\'\\\\n\\')',\n",
       "  '\"\"\"\\nBu komutu verdiğimizde, n kaçış dizisinin etkisiyle\\nyeni satıra geçileceğini biliyorsunuz.\\n\\nBir de şuna bakın:\\n\"\"\"\\nprint(ascii(\\'\\\\n!\\'))',\n",
       "  '\"\"\"\\nBu komutu verdiğimizde, n kaçış dizisinin etkisiyle\\nyeni satıra geçileceğini biliyorsunuz.\\n\\nBir de şuna bakın:\\n\"\"\"\\nprint(ascii(\\'\\\\n\\'))',\n",
       "  '\"\"\"\\nGördüğünüz gibi, ascii() fonksiyonu, satır başı kaçış \\ndizisinin görevini yapmasını sağlamak yerine bu kaçış \\ndizisinin ekrana basılabilir halini veriyor bize.\\n\\n\\nAyrıca bu fonksiyon, karakter dizileri içindeki Türkçe\\nkarakterlerin de UNICODE temsillerini döndürür. Örneğin:\\n\"\"\"\\na = \\'ışık\\'\\nprint(ascii(a))',\n",
       "  'a=\"Devrim Tunçer\"\\nprint(ascii(a))',\n",
       "  '\"\"\"\\nGördüğünüz gibi, ascii() fonksiyonu ASCII olmayan karakterlerle \\nkarşılaştığında bunların karakter temsilleri yerine UNICODE\\ntemsillerini (veya onaltılık sayma düzenindeki karşılıklarını)\\nveriyor.\\n\\nSon olarak şu örneğe bakalım:\\n\"\"\"\\nliste = [\\'elma\\', \\'armut\\', \\'erik\\']\\ntemsil = ascii(liste)\\nprint(temsil)',\n",
       "  '\"\"\"\\nBurada listemiz ascii() fonksiyonuna parametre olarak \\nverildikten sonra artık liste olma özelliğini yitirip \\nbir karakter dizisi haline gelir. Bunu denetleyelim:\\n\"\"\"\\nprint(type(temsil))',\n",
       "  'temsil[0]',\n",
       "  '\"\"\"\\nrepr()\\nrepr() fonksiyonunun yaptığı iş, biraz önce gördüğümüz ascii() \\nfonksiyonunun yaptığı işe çok benzer. Bu iki fonksiyon, ASCII\\nolmayan karakterlere muameleleri açısından birbirinden ayrılır.\\n\\nHatırlarsanız ascii() fonksiyonu ASCII olmayan karakterlerle \\nkarşılaştığında bunların UNICODE (veya onaltılık) temsillerini\\ngösteriyordu\\n\"\"\"\\nascii(\"şeker\")',\n",
       "  '\"\"\"\\nrepr() fonksiyonu ise ASCII olmayan karakterlerle karşılaşsa bile,\\nbize çıktı olarak bunların da karakter karşılıklarını gösterir:\\n\"\"\"\\nrepr(\"şeker\")',\n",
       "  '\"\"\"\\nbool()\\nBu fonksiyon bir nesnenin bool değerini verir:\\n\"\"\"\\nbool(0)',\n",
       "  'bool(1)',\n",
       "  'bool([])',\n",
       "  '\"\"\"\\nbin()\\nBu fonksiyon, bir sayının ikili düzendeki karşılığını verir:\\nBu fonksiyonun verdiği çıktının bir sayı değil,\\nkarakter dizisi olduğuna dikkat etmelisiniz.\\n\"\"\"\\nbin(12)',\n",
       "  'bin(1)',\n",
       "  'bin(2)',\n",
       "  'bin(3)',\n",
       "  'bin(4)',\n",
       "  'bin(5)',\n",
       "  'bin(6)',\n",
       "  'bin(7)',\n",
       "  '\"\"\"\\nbytes()\\nBu fonksiyon bytes türünde nesneler oluşturmak için kullanılır. \\nBu fonksiyonu ‘bayt’ adlı veri tipini incelerken ayrıntılı olarak \\nele almıştık. Gelin isterseniz burada da bu fonksiyona şöyle bir\\ndeğinelim.\\n\\nDediğimiz gibi, bytes() adlı fonksiyon, bytes türünde veriler\\noluşturmaya yarar. Bu fonksiyon işlev olarak, daha önce öğrendiğimiz \\nlist(), str(), int(), set(), dict() gibi fonksiyonlara çok benzer. \\nTıpkı bu fonksiyonlar gibi, bytes() fonksiyonunun görevi de farklı\\nveri tiplerini ‘bayt’ adlı veri tipine dönüştürmektir.\\n\\nBu fonksiyon, kendisine verilen parametrelerin türüne bağlı olarak \\nbirbirinden farklı sonuçlar ortaya çıkarır. Örneğin eğer bu fonksiyona\\nparametre olarak bir tam sayı verecek olursanız, bu fonksiyon size\\no tam sayı miktarınca bir bayt nesnesi verecektir. Gelin isterseniz\\nbu durumu örnekler üzerinde göstermeye çalışalım:\\n\"\"\"\\nbytes(10)',\n",
       "  'a=bytes(10)',\n",
       "  'a',\n",
       "  'a[0]',\n",
       "  'a(7)',\n",
       "  'a[7]',\n",
       "  'a[10]',\n",
       "  'a[9]',\n",
       "  '\"\"\"\\nGördüğünüz gibi, bytes(10) komutuyla oluşturduğumuz a \\ndeğişkeni içinde toplam 10 adet bayt var ve bu baytların her \\nbirinin değeri 0.\\n\\nYukarıda, bytes() fonksiyonuna bir tam sayı değerli \\nparametre verdiğimizde nasıl bir sonuç alacağımızı öğrendik.\\nPeki biz bu fonksiyona parametre olarak bir karakter dizisi \\nverirsek ne olur?\\n\\nHemen görelim:\\n\"\"\"\\nbytes(\"devrim\")',\n",
       "  '\"\"\"\\nBu fonksiyona karakter dizilerini doğrudan parametre olarak\\nveremeyiz. Eğer verirsek yukarıdaki gibi bir hata alırız.\\nPeki acaba bu hatayı almamızın nedeni ne olabilir?\\n\\nDediğimiz gibi, bytes() fonksiyonu, çeşitli veri tiplerini \\nbayta dönüştürmeye yarar. Ancak bildiğiniz gibi,\\nbayta dönüştürme işlemi her kod çözücü tarafından\\nfarklı biçimde yapılır. Örneğin:\\n\"\"\"\\n\"devrim\".encode(\"utf-8\")',\n",
       "  '\"\"\"\\nBu fonksiyona karakter dizilerini doğrudan parametre olarak\\nveremeyiz. Eğer verirsek yukarıdaki gibi bir hata alırız.\\nPeki acaba bu hatayı almamızın nedeni ne olabilir?\\n\\nDediğimiz gibi, bytes() fonksiyonu, çeşitli veri tiplerini \\nbayta dönüştürmeye yarar. Ancak bildiğiniz gibi,\\nbayta dönüştürme işlemi her kod çözücü tarafından\\nfarklı biçimde yapılır. Örneğin:\\n\"\"\"\\n\"ışık\".encode(\"utf-8\")',\n",
       "  \"'ışık'.encode('cp857')\",\n",
       "  \"'ışık'.encode('cp1254')\",\n",
       "  '\"\"\"\\nDolayısıyla, bytes() fonksiyonunun bir karakter dizisini\\nbayta çevirirken nasıl davranması gerektiğini anlayabilmesi\\niçin, bayta dönüştürme işlemini hangi kod çözücü ile yapmak\\nistediğimizi açıkça belirtmemiz gerekir:\\n\"\"\"\\nbytes(\"ışık\",\"utf-8\")',\n",
       "  \"bytes('ışık', 'cp1254')\",\n",
       "  \"bytes('ışık', 'cp857')\",\n",
       "  '\"\"\"\\nGördüğünüz gibi, bytes() fonksiyonuna parametre olarak bir karakter \\ndizisi verebilmek için, bu karakter dizisi ile birlikte bir\\nkod çözücü de belirtmemiz gerekiyor. Böylece bytes() fonksiyonu\\nkendisine verdiğimiz karakter dizisini, belirttiğimiz kod\\nçözücünün kurallarına göre bayta dönüştürüyor.\\n\\nBu arada, çıktıda görünen ‘b’ harflerinin, elimizdeki verinin \\nbir bayt olduğunu gösteren bir işaret olduğunu biliyorsunuz.\\n\\nAyrıca, bytes() fonksiyonuna verdiğimiz ikinci parametrenin \\nisminin encoding olduğunu ve bu parametreyi isimli bir \\nparametre olarak da kullanabileceğimizi belirtelim:\\n\"\"\"\\nbytes(\"devrim\",encoding(\"ascii\"))',\n",
       "  '\"\"\"\\nGördüğünüz gibi, bytes() fonksiyonuna parametre olarak bir karakter \\ndizisi verebilmek için, bu karakter dizisi ile birlikte bir\\nkod çözücü de belirtmemiz gerekiyor. Böylece bytes() fonksiyonu\\nkendisine verdiğimiz karakter dizisini, belirttiğimiz kod\\nçözücünün kurallarına göre bayta dönüştürüyor.\\n\\nBu arada, çıktıda görünen ‘b’ harflerinin, elimizdeki verinin \\nbir bayt olduğunu gösteren bir işaret olduğunu biliyorsunuz.\\n\\nAyrıca, bytes() fonksiyonuna verdiğimiz ikinci parametrenin \\nisminin encoding olduğunu ve bu parametreyi isimli bir \\nparametre olarak da kullanabileceğimizi belirtelim:\\n\"\"\"\\nbytes(\"istiizha\",encoding(\"ascii\"))',\n",
       "  '\"\"\"\\nGördüğünüz gibi, bytes() fonksiyonuna parametre olarak bir karakter \\ndizisi verebilmek için, bu karakter dizisi ile birlikte bir\\nkod çözücü de belirtmemiz gerekiyor. Böylece bytes() fonksiyonu\\nkendisine verdiğimiz karakter dizisini, belirttiğimiz kod\\nçözücünün kurallarına göre bayta dönüştürüyor.\\n\\nBu arada, çıktıda görünen ‘b’ harflerinin, elimizdeki verinin \\nbir bayt olduğunu gösteren bir işaret olduğunu biliyorsunuz.\\n\\nAyrıca, bytes() fonksiyonuna verdiğimiz ikinci parametrenin \\nisminin encoding olduğunu ve bu parametreyi isimli bir \\nparametre olarak da kullanabileceğimizi belirtelim:\\n\"\"\"\\nbytes(\"istizha\",encoding(\"ascii\"))',\n",
       "  '\"\"\"\\nBu noktada size şöyle bir soru sorayım: \\nAcaba bytes() fonksiyonuna ilk parametre \\nolarak verdiğimiz karakter dizisi, ikinci \\nparametrede belirttiğimiz kod çözücü tarafından tanınmazsa ne olur?\\n\\nCevabı tahmin edebilirsiniz: Böyle bir durumda \\nelbette Python bize bir hata mesajı gösterir:\\n\\n\"\"\"\\nbytes(\\'şeker\\', \\'ascii\\')',\n",
       "  '\"\"\"\\nBu noktada size şöyle bir soru sorayım: \\nAcaba bytes() fonksiyonuna ilk parametre \\nolarak verdiğimiz karakter dizisi, ikinci \\nparametrede belirttiğimiz kod çözücü tarafından tanınmazsa ne olur?\\n\\nCevabı tahmin edebilirsiniz: Böyle bir durumda \\nelbette Python bize bir hata mesajı gösterir:\\n\\n\"\"\"\\nbytes(\\'şeker\\', \\'ascii\\')',\n",
       "  'bytes(\\'€\\', \\'cp857\\')\\n\"\"\"\\nş’ harfi ‘ASCII’ karakter kümesinde; ‘€’ işareti ise ‘CP857’ \\nadlı karakter kümesinde tanımlanmamış birer karakter olduğu \\niçin, ilgili kod çözücüler bu karakterleri çözüp bayta \\ndönüştüremiyor. Yazdığımız kodların bu tür durumlarda \\ntamamen çökmesini engellemek için, önceki derslerimizde de \\nçeşitli vesilelerle öğrenmiş olduğumuz errors adlı bir parametreden \\nyararlanabiliriz:\\n\"\"\"\\nbytes(\\'ışık\\', encoding=\\'ascii\\', errors=\\'replace\\')',\n",
       "  'bytes(\\'€\\', \\'cp857\\')\\n\"\"\"\\nş’ harfi ‘ASCII’ karakter kümesinde; ‘€’ işareti ise ‘CP857’ \\nadlı karakter kümesinde tanımlanmamış birer karakter olduğu \\niçin, ilgili kod çözücüler bu karakterleri çözüp bayta \\ndönüştüremiyor. Yazdığımız kodların bu tür durumlarda \\ntamamen çökmesini engellemek için, önceki derslerimizde de \\nçeşitli vesilelerle öğrenmiş olduğumuz errors adlı bir parametreden \\nyararlanabiliriz:\\n\"\"\"\\nbytes(\\'şeker\\', encoding=\\'ascii\\', errors=\\'replace\\')',\n",
       "  'bytes(\\'€\\', \\'cp857\\')\\n\"\"\"\\nş’ harfi ‘ASCII’ karakter kümesinde; ‘€’ işareti ise ‘CP857’ \\nadlı karakter kümesinde tanımlanmamış birer karakter olduğu \\niçin, ilgili kod çözücüler bu karakterleri çözüp bayta \\ndönüştüremiyor. Yazdığımız kodların bu tür durumlarda \\ntamamen çökmesini engellemek için, önceki derslerimizde de \\nçeşitli vesilelerle öğrenmiş olduğumuz errors adlı bir parametreden \\nyararlanabiliriz:\\n\"\"\"\\nbytes(\\'€\\', encoding=\\'cp857\\', errors=\\'ignore\\')',\n",
       "  '\"\"\"\\nş’ harfi ‘ASCII’ karakter kümesinde; ‘€’ işareti ise ‘CP857’ \\nadlı karakter kümesinde tanımlanmamış birer karakter olduğu \\niçin, ilgili kod çözücüler bu karakterleri çözüp bayta \\ndönüştüremiyor. Yazdığımız kodların bu tür durumlarda \\ntamamen çökmesini engellemek için, önceki derslerimizde de \\nçeşitli vesilelerle öğrenmiş olduğumuz errors adlı bir parametreden \\nyararlanabiliriz:\\n\"\"\"\\nbytes(\\'ışık\\', encoding=\\'ascii\\', errors=\\'replace\\')',\n",
       "  \"bytes('şeker', encoding='ascii', errors='replace')\",\n",
       "  \"bytes('€', encoding='cp857', errors='replace')\",\n",
       "  \"bytes('€', encoding='cp857', errors='ignore')\",\n",
       "  \"bytes('€', encoding='cp857', errors='xmlcharrefreplace')\",\n",
       "  \"bytes('şeker', encoding='cp857', errors='xmlcharrefreplace')\",\n",
       "  '\"\"\"\\nGördüğünüz gibi, errors parametresine verdiğimiz çeşitli değerler\\nyardımıyla, bytes() fonksiyonunun, encoding parametresinde belirtilen\\nkod çözücü ile çözülemeyen karakterlerle karşılaştığında nasıl\\ndavranacağını belirleyebiliyoruz.\\n\\n\\nerrors parametresine verdiğimiz bütün bu değerleri önceki\\nderslerimizde öğrenmiştik. Dolayısıyla yukarıda gösterdiğimiz\\nkodları rahatlıkla anlayabilecek kadar Python bilgisine sahibiz.\\n\\nSon olarak, bytes() fonksiyonuna parametre olarak 0-256 arası\\nsayılardan oluşan diziler de verebiliriz:\\nBu yapı içinde Python, 0 ile 128 arası sayılar için standart \\nASCII tablosunu, 128 ile 256 arası sayılar için ise Latin-1 \\nkarakter kümesini temel alarak sayıları birer bayta dönüştürecektir.\\n\"\"\"\\nbytes([65, 10, 12, 11, 15, 66])',\n",
       "  '\"\"\"\\nbytearray()\\nBildiğiniz gibi baytlar değiştirilemeyen bir veri tipidir. \\nDolayısıyla bir bayt veri tipi üzerinde herhangi bir değişiklik\\nyapamayız. Örneğin bir baytın herhangi bir öğesini başka bir \\ndeğerle değiştiremeyiz:\\n\"\"\"\\na = bytes(\\'istihza\\', \\'ascii\\')',\n",
       "  'a[0]',\n",
       "  'a[0]=106',\n",
       "  '\"\"\"\\nAma eğer hem baytlarla çalışmak, hem de bu baytların \\nüzerinde değişiklik yapabilmek isterseniz baytlar \\nyerine bayt dizileri ile çalışabilirsiniz. İşte \\nbunun için bytearray() adlı bir fonksiyondan yararlanıyoruz.\\n\\nYaptıkları iş bakımından bytearray() ve bytes()\\nfonksiyonları birbirlerine çok benzer. Bu ikisi \\narasındaki tek fark, bytearray() ile oluşturulan \\nveri tipinin, bytes() ile oluşturulan veri tipinin\\naksine, değiştirilebilir nitelikte olmasıdır:\\n\"\"\"\\na = bytearray(\\'adana\\', \\'ascii\\')',\n",
       "  'a',\n",
       "  'a[0] = 65',\n",
       "  'a',\n",
       "  'a',\n",
       "  '\"\"\"\\nchr()\\nBu fonksiyon, kendisine parametre olarak verilen bir tam \\nsayının karakter karşılığını döndürür. Örneğin:\\n\"\"\"\\nchr(10)',\n",
       "  'chr(65)',\n",
       "  '\"\"\"\\nBu fonksiyon sayıları karakterlere dönüştürürken \\nASCII sistemini değil, UNICODE sistemini temel alır.\\nDolayısıyla bu fonksiyon ile 128 (veya 255) üstü sayıları\\nda dönüştürebiliriz. Örneğin:\\n\"\"\"\\nchr(305)',\n",
       "  '\"\"\"\\nlist()\\nBu fonksiyon iki farklı amaç için kullanılabilir:\\n\\nListe tipinde bir veri oluşturmak\\n\\nFarklı veri tiplerini liste adlı veri tipine dönüştürmek\\n\\nBirinci amaç için bu fonksiyonu şu şekilde kullanıyoruz:\\n\\n\\n\"\"\"\\nliste=list()',\n",
       "  '\"\"\"\\nlist()\\nBu fonksiyon iki farklı amaç için kullanılabilir:\\n\\nListe tipinde bir veri oluşturmak\\n\\nFarklı veri tiplerini liste adlı veri tipine dönüştürmek\\n\\nBirinci amaç için bu fonksiyonu şu şekilde kullanıyoruz:\\n\\n\\n\"\"\"\\nliste=list()\\ntype(liste)',\n",
       "  '\"\"\"\\nlist()\\nBu fonksiyon iki farklı amaç için kullanılabilir:\\n\\nListe tipinde bir veri oluşturmak\\n\\nFarklı veri tiplerini liste adlı veri tipine dönüştürmek\\n\\nBirinci amaç için bu fonksiyonu şu şekilde kullanıyoruz:\\n\\n\\n\"\"\"\\nliste=list()\\nprint(liste)',\n",
       "  'liste=list(range(1,10))\\nprint(liste)',\n",
       "  'demet=tuple(range(1,10))',\n",
       "  'demet',\n",
       "  'demet\\ntype(demet)',\n",
       "  'demet',\n",
       "  'type(demet)',\n",
       "  'liste=list(demet)',\n",
       "  'liste',\n",
       "  'type(liste)',\n",
       "  '\"\"\"\\nset()\\nset() fonksiyonu list() fonksiyonuna çok benzer. \\nBu fonksiyon da tıpkı list() fonksiyonu gibi, veri\\ntipleri arasında dönüştürme işlemleri gerçekleştirmek \\niçin kullanılabilir. set() fonksiyonunun görevi farklı \\nveri tiplerini kümeye dönüştürmektir:\\n\"\"\"\\nküme=set(demet)',\n",
       "  'küme',\n",
       "  'type(küme)',\n",
       "  '\"\"\"\\ntuple()\\ntuple() fonksiyonu da, tıpkı list(), set() ve benzerleri \\ngibi bir dönüştürücü fonksiyondur. Bu fonksiyon farklı veri \\ntiplerini demete dönüştürür:\\n\"\"\"\\ndemet=tuple(demet)',\n",
       "  'demet',\n",
       "  'type(demet)',\n",
       "  '\"\"\"\\nfrozenset()\\nBu fonksiyonu kullanarak farklı veri tiplerini \\ndondurulmuş kümeye dönüştürebilirsiniz:\\n\"\"\"\\ndf=frozenset(demet)',\n",
       "  'df',\n",
       "  'df[0]',\n",
       "  'df[0][1]',\n",
       "  '\"\"\"\\ncomplex()\\nSayılardan söz ederken, eğer matematikle çok fazla \\niçli dışlı değilseniz pek karşılaşmayacağınız, \\n‘karmaşık sayı’ adlı bir sayı türünden de bahsetmiştik.\\nKarmaşık sayılar, bir gerçek, bir de sanal kısımdan oluşan sayılardır.\\n\\nKarmaşık sayılar Python’da ‘complex’ ifadesiyle gösteriliyor.\\nMesela şu bir karmaşık sayıdır:\\n\"\"\"\\n12+0j',\n",
       "  'type(12+2j)',\n",
       "  '\"\"\"\\nİşte eğer herhangi bir sayıyı karmaşık sayıya \\ndönüştürmeniz gerekirse complex() adlı bir fonksiyondan\\nyararlanabilirsiniz. Örneğin:\\nFLOAT İNTEGER COMPLEX\\n\"\"\"\\ncomplex(15)',\n",
       "  '\"\"\"\\nBöyle bir kod yazdığımızda, verdiğimiz parametre \\nkarmaşık sayının gerçek kısmını oluşturacak, sanal kısım\\nise 0 olarak kabul edilecektir. Elbette isterseniz sanal kısmı \\nkendiniz de belirleyebilirsiniz:\\n\"\"\"\\ncomplex(15, 2)',\n",
       "  '\"\"\"\\nfloat()\\nBu fonksiyonu, sayıları veya karakter dizilerini kayan noktalı\\nsayıya dönüştürmek için kullanıyoruz:\\n\"\"\"\\nfloat(\"134\")',\n",
       "  'float(12)',\n",
       "  '\"\"\"\\nint()\\nBu fonksiyon birkaç farklı amaç için kullanılabilir.\\nint() fonksiyonunun en temel görevi, bir karakter dizisi \\nveya kayan noktalı sayıyı (eğer mümkünse) tam sayıya dönüştürmektir:\\n\"\"\"\\nint(\\'10\\')',\n",
       "  'int(12.4)',\n",
       "  '\"\"\"\\nBunun dışında bu fonksiyonu, herhangi bir sayma\\nsisteminde temsil edilen bir sayıyı onlu sayma \\nsistemine dönüştürmek için de kullanabiliriz.\\nÖrneğin:\\nint(\\'12\\', 8)\\n\"\"\"',\n",
       "  '\"\"\"\\nBunun dışında bu fonksiyonu, herhangi bir sayma\\nsisteminde temsil edilen bir sayıyı onlu sayma \\nsistemine dönüştürmek için de kullanabiliriz.\\nÖrneğin:\\n\"\"\"\\nint(\\'12\\', 8)',\n",
       "  '\"\"\"\\nBurada, sekizli sayma sistemine ait sayı değerli bir karakter \\ndizisi olan ‘12’`yi onlu sayma sistemine dönüştürdük ve böylece \\n`10 sayısını elde ettik.\\n\\nint() fonksiyonunu sayma sistemleri arasında dönüştürme işlemlerinde\\nkullanabilmek için ilk parametrenin bir karakter dizisi olması \\ngerektiğine dikkat ediyoruz.\\n\\nBu arada, int(\\'12\\', 8) komutununun 12 sayısını sekizli sayma\\nsistemine dönüştürmediğine dikkat edin. Bu komutun yaptığı iş \\nsekizli sayma sistemindeki 12 sayısını onlu sayma sistemine \\ndönüştürmektir.\\n\\nint() fonksiyonunun bu kullanımıyla ilgili bir örnek daha verelim:\\n\"\"\"\\nint(\\'4cf\\', 16)',\n",
       "  '\"\"\"\\nstr()\\nBu fonksiyonun, farklı veri tiplerini karakter dizisine\\ndönüştürmek için kullanıldığını biliyorsunuz. Örneğin:\\n\"\"\"\\nstr(12)',\n",
       "  '\"\"\"\\nBurada 12 sayısını bir karakter dizisine dönüştürdük. \\nŞimdi de bir baytı karakter dizisine dönüştürelim:\\n\"\"\"\\nbayt = b\\'istihza\\'',\n",
       "  \"ardiz = str(bayt, encoding='utf-8')\\nprint(ardiz)\",\n",
       "  '\"\"\"\\nGördüğünüz gibi, bir baytı karakter dizisine dönüştürmek \\niçin str() fonksiyonuna encoding adlı bir parametre veriyoruz.\\nFonksiyonumuz, bu parametrede hangi kodlama biçimi belirtildiyse, \\nbaytları bu kodlama biçiminin kurallarına göre bir karakter \\ndizisine dönüştürüyor.\\n\\nTahmin edebileceğiniz gibi, belirttiğiniz kodlama biçiminin \\nherhangi bir baytı karakter dizisine dönüştüremediği durumlara \\nkarşı bir errors parametresi de verebiliriz str() fonksiyonuna.\\n\\nbayt = bytes(\\'kadın\\', encoding=\\'utf-8\\')\\nprint(bayt)\\nÖrneğin elimizde bayt tipinde şöyle bir veri olduğunu varsayalım:\\n\"\"\"\\nbayt = bytes(\\'kadın\\', encoding=\\'utf-8\\')\\nprint(bayt)',\n",
       "  '\"\"\"\\nGördüğünüz gibi, bir baytı karakter dizisine dönüştürmek \\niçin str() fonksiyonuna encoding adlı bir parametre veriyoruz.\\nFonksiyonumuz, bu parametrede hangi kodlama biçimi belirtildiyse, \\nbaytları bu kodlama biçiminin kurallarına göre bir karakter \\ndizisine dönüştürüyor.\\n\\nTahmin edebileceğiniz gibi, belirttiğiniz kodlama biçiminin \\nherhangi bir baytı karakter dizisine dönüştüremediği durumlara \\nkarşı bir errors parametresi de verebiliriz str() fonksiyonuna.\\n\\nÖrneğin elimizde bayt tipinde şöyle bir veri olduğunu varsayalım:\\n\"\"\"\\nbayt = bytes(\\'kadın\\', encoding=\\'utf-8\\')\\nprint(bayt)',\n",
       "  \"kardiz = str(bayt, encoding='ascii')\",\n",
       "  '\"\"\"\\nASCII adlı kod çözücü, b\\'kadın\\' içindeki baytlardan birini \\ntanıyamadığı için bize bir hata mesajı gösterdi. Bildiğiniz\\ngibi ASCII 128’den büyük baytları dönüştüremez. İşte bu tür \\ndurumlara karşı errors parametresinden yararlanabilirsiniz:\\n\"\"\"\\nkardiz = str(bayt, encoding=\\'ascii\\', errors=\\'ignore\\')\\nprint(kardiz)',\n",
       "  '\"\"\"\\nerrors parametresine verdiğimiz ‘ignore’ değeri sayesinde \\nPython bize hata mesajı göstermek yerine, ASCII ile çözülemeyen\\nbaytı görmezden geldi. errors parametresinin hangi değerleri\\nalabileceğini önceki derslerimizden hatırlıyor olmalısınız.\\ndict()\\nBu fonksiyon, farklı veri tiplerinden sözlükler üretmemizi sağlar.\\nÖrneğin bu fonksiyonu kullanarak boş bir sözlük oluşturabiliriz:\\n\"\"\"\\ns = dict()',\n",
       "  's = dict(a=1, b=2, c=3)',\n",
       "  's',\n",
       "  \"öğeler = (['a', 1], ['b', 2], ['c', 3])\\ndict(öğeler)\",\n",
       "  '\"\"\"\\ncallable()\\nBu fonksiyon, bir nesnenin ‘çağrılabilir’ olup olmadığını \\ndenetler. Peki hangi nesneler çağrılabilir özelliktedir. \\nMesela fonksiyonlar çağrılabilir nesnelerdir. Değişkenler \\nise çağrılabilir nesneler değildir.\\n\"\"\"\\ncallable(open)',\n",
       "  'import sys\\ncallable(sys.version)',\n",
       "  '\"\"\"\\nord()\\nBu fonksiyon, bir karakterin karşılık geldiği ondalık \\nsayıyı verir. Örneğin:\\n\"\"\"\\nord(1a)',\n",
       "  '\"\"\"\\nord()\\nBu fonksiyon, bir karakterin karşılık geldiği ondalık \\nsayıyı verir. Örneğin:\\n\"\"\"\\nord(\"a\")',\n",
       "  'ord(\"ı\")',\n",
       "  '\"\"\"\\noct()\\nBu fonksiyon, bir sayıyı sekizli düzendeki karşılığına \\nçevirmemizi sağlar:\\n\"\"\"\\noct(10)',\n",
       "  '\"\"\"\\nhex()\\nBu fonksiyon, bir sayıyı onaltılı düzendeki karşılığına çevirmemizi \\nsağlar:\\n\"\"\"\\nhex(305)',\n",
       "  '\"\"\"\\neval(), exec(), globals(), locals(), compile()\\nBu bölümde beş farklı fonksiyonu bir arada inceleyeceğiz. \\nBu fonksiyonları birlikte ele almamızın nedeni bunların \\nbirbiriyle yakından bağlantılı olması.\\n\\nBurada işleyeceğimiz bu beş fonksiyon şunlardan oluşuyor:\\n\\neval()\\n\\nexec()\\n\\nglobals()\\n\\nlocals()\\n\\ncompile()\\n\\nAncak bu fonksiyonlardan söz etmeye başlamadan önce \\nPython’daki iki önemli kavramı açıklığa kavuşturmamız \\ngerekiyor: Bu kavramlar şunlar:\\n\\nifade\\n\\ndeyim\\n\\nÖncelikle ‘ifade’ kavramından başlayalım.\\n\\nİngilizcede expression denen ‘ifadeler’, bir değer \\nüretmek için kullanılan kod parçalarıdır.\\nKarakter dizileri, sayılar, işleçler, öteki veri tipleri, \\nliste üreteçleri, sözlük üreteçleri, küme üreteçleri,\\nfonksiyonlar hep birer ifadedir. Örneğin:\\n\\n5\\n\\n23 + 4\\n\\n[i for i in range(10)]\\n\\nlen([1, 2, 3])\\nİngilizcede statement olarak adlandırılan ‘deyimler’ \\nise ifadeleri de kapsayan daha geniş bir kavramdır.\\nBuna göre bütün ifadeler aynı zamanda birer deyimdir. \\nDaha doğrusu, ifadelerin bir araya gelmesi ile deyimler\\noluşturulabilir.\\n\\nDeyimlere birkaç örnek verelim:\\n\\na = 5\\n\\nif a:\\n    print(a)\\n\\nfor i in range(10):\\n    print(i)\\nPython programlama dilinde deyimlerle ifadeleri ayırt\\netmenin kolay bir yolu da eval() fonksiyonundan yararlanmaktır.\\nEğer deyim mi yoksa ifade mi olduğundan emin olamadığınız \\nbir şeyi eval() fonksiyonuna parametre olarak verdiğinizde\\nhata almıyorsanız o parametre bir ifadedir. Eğer hata\\nalıyorsanız o parametre bir deyimdir. Çünkü eval()\\nfonksiyonuna parametre olarak yalnızca ifadeler verilebilir.\\n\\nBirkaç örnek verelim:\\n\\neval(\\'a = 5\\')\\n\\n  File \"<string>\", line 1\\n    a = 5\\n      ^\\nSyntaxError: invalid syntax\\nGördüğünüz gibi, eval() fonksiyonu bize bir hata mesajı verdi.\\nÇünkü a = 5 kodu bir deyimdir. Unutmayın, Python’da bütün\\ndeğer atama işlemleri birer deyimdir. Dolayısıyla eval() \\nfonksiyonu bu deyimi parametre olarak alamaz.\\n\\nBir de şuna bakalım:\\n\\neval(\\'5 + 25\\')\\n\\n30\\nBu defa hata almadık. Çünkü eval() fonksiyonuna, olması\\ngerektiği gibi, parametre olarak bir ifade verdik.\\nBildiğiniz gibi, 5 + 25 kodu bir ifadedir.\\n\\nDediğimiz gibi, eval() fonksiyonu deyimleri parametre \\nolarak alamaz. Ama exec() fonksiyonu alabilir:\\n\\nexec(\\'a = 5\\')\\nBu şekilde, değeri 5 olan a adlı bir değişken oluşturmuş \\nolduk. İsterseniz kontrol edelim:\\n\\nprint(a)\\n\\n5\\nGördüğünüz gibi, exec() fonksiyonu, mevcut isim alanı\\niçinde a adlı bir değişken oluşturdu. Yalnız elbette \\nmevcut isim alanı içinde yeni değişkenler ve yeni değerler \\noluştururken dikkatli olmamız gerektiğini biliyorsunuz.\\nZira mesela yukarıdaki komutu vermeden önce mevcut isim \\nalanında zaten a adlı bir değişken varsa, o değişkenin \\ndeğeri değişecektir:\\n\\na = 20\\nElimizde, değeri 20 olan a adlı bir değişken var. \\nŞimdi exec() fonksiyonu yardımıyla a değişkeninin\\nde içinde yer aldığı mevcut isim alanına müdahale ediyoruz:\\n\\nexec(\\'a = 10\\')\\nBöylece a değişkeninin eski değerini silmiş olduk. Kontrol edelim:\\n\\nprint(a)\\n\\n10\\nBu tür durumlarda, exec() ile oluşturduğunuz değişkenleri \\nglobal isim alanına değil de, farklı bir isim alanına \\ngöndermeyi tercih edebilirsiniz. Peki ama bunu nasıl yapacağız?\\n\\nPython programlama dilinde isim alanları sözlük tipinde bir veridir. \\nÖrneğin global isim alanı basit bir sözlükten ibarettir.\\n\\nGlobal isim alanını gösteren sözlükte hangi anahtar ve \\ndeğerlerin olduğunu görmek için globals() adlı bir \\nfonksiyonu kullanabilirsiniz:\\n\\nglobals()\\nBu fonksiyonu çalıştırdığımızda şuna benzer bir çıktı alırız:\\n\\n{\\'__doc__\\': None, \\'__loader__\\': <class \\'_frozen_importlib.BuiltinImpor\\nter\\'>,\\'__name__\\': \\'__main__\\', \\'__package__\\': None, \\'__builtins__\\':\\n<module \\'builtins\\'>}\\nGördüğünüz gibi, elimizdeki şey gerçekten de bir sözlük. \\nDolayısıyla bir sözlük ile ne yapabilirsek bu sözlükle de\\naynı şeyi yapabiliriz…\\n\\n‘globals’ adlı bu sözlüğün içeriği, o anda global isim\\nalanında bulunan nesnelere göre farklılık gösterecektir. Örneğin:\\n\\nx = 10\\nşeklinde 10 değerine sahip bir x nesnesi tanımladıktan sonra \\nglobals() fonksiyonunu tekrar çalıştırırsanız global isim\\nalanına bu nesnenin de eklenmiş olduğunu görürsünüz.\\n\\nDediğimiz gibi, globals() fonksiyonundan dönen nesne bir sözlüktür. \\nBu sözlüğe, herhangi bir sözlüğe veri ekler gibi değer de\\nekleyebilirsiniz:\\n\\nglobals()[\\'z\\'] = 23\\nBu şekilde global isim alanına z adlı bir değişken eklemiş oldunuz:\\n\\nz\\n\\n23\\nYalnız, Python programlama dili bize bu şekilde global isim alanına\\nnesne ekleme imkanı verse de, biz mecbur değilsek bu yöntemi\\nkullanmaktan kaçınmalıyız. Çünkü bu şekilde sıradışı bir yöntemle\\ndeğişken tanımladığımız için aslında global isim alanını, nerden \\ngeldiğini kestirmenin güç olduğu değerlerle ‘kirletmiş’ oluyoruz.\\n\\nBildiğiniz gibi, Python’da global isim alanı dışında bir de lokal isim \\nlanı bulunur. Lokal isim alanlarının, fonksiyonlara \\n(ve ileride göreceğimiz gibi sınıflara) ait bir isim alanı\\nolduğunu biliyorsunuz. İşte bu isim alanlarına ulaşmak için de \\nlocals() adlı bir fonksiyondan yararlanacağız:\\n\\ndef fonksiyon(param1, param2):\\n    x = 10\\n    print(locals())\\n\\nfonksiyon(10, 20)\\nBu fonksiyonu çalıştırdığınızda şu çıktıyı alacaksınız:\\n\\n{\\'param2\\': 20, \\'param1\\': 10, \\'x\\': 10}\\nGördüğünüz gibi, locals() fonksiyonu gerçekten de bize fonksiyon()\\nadlı fonksiyon içindeki lokal değerleri veriyor.\\n\\nglobals() ve locals() fonksiyonlarının ne işe yaradığını \\nincelediğimize göre exec() fonksiyonunu anlatırken kaldığımız yere \\ndönebiliriz.\\n\\nNe diyorduk?\\n\\nElimizde, değeri 20 olan a adlı bir değişken vardı:\\n\\na = 20\\nexec() fonksiyonu yardımıyla a değişkeninin de içinde yer aldığı \\nmevcut isim alanına müdahale edelim:\\n\\nexec(\\'a = 3\\')\\nBu şekilde a değişkeninin varolan değerini silmiş olduk:\\n\\nprint(a)\\n\\n3\\nDediğimiz gibi, bu tür durumlarda, exec() ile oluşturduğunuz \\ndeğişkenleri global isim alanı yerine farklı bir isim alanına \\ngöndermeyi tercih etmemiz daha uygun olacaktır. Python’da isim\\nalanlarının basit bir sözlük olduğunu öğrendiğimize göre, exec() \\nile oluşturduğumuz değişkenleri global isim alanı yerine nasıl \\nfarklı bir isim alanına göndereceğimizi görebiliriz.\\n\\nÖnce yeni bir isim alanı oluşturalım:\\n\\nia = {}\\nŞimdi exec() ile oluşturacağımız değerleri bu isim alanına \\ngönderebiliriz:\\n\\nexec(\\'a = 3\\', ia)\\nBöylece global isim alanındaki a değişkeninin değerine dokunmamış\\nolduk:\\n\\na\\n\\n20\\nYeni oluşturduğumuz değer ise ia adlı yeni isim alanına gitti:\\n\\nia[\\'a\\']\\n\\n3\\n\\n\"\"\"\\neval(\"a=5\")',\n",
       "  \"eval('5 + 25')\",\n",
       "  \"exec('a = 5')\",\n",
       "  'print(a)',\n",
       "  'a = 20',\n",
       "  \"exec('a = 10')\",\n",
       "  'print(a)',\n",
       "  '\"\"\"\\nBu tür durumlarda, exec() ile oluşturduğunuz\\ndeğişkenleri global isim alanına değil de, \\nfarklı bir isim alanına göndermeyi tercih edebilirsiniz. \\nPeki ama bunu nasıl yapacağız?\\nPython programlama dilinde isim alanları sözlük tipinde bir veridir.\\nÖrneğin global isim alanı basit bir sözlükten ibarettir.\\n\"\"\"\\nglobals()',\n",
       "  'x=10',\n",
       "  \"globals()['z'] = 23\",\n",
       "  'globals',\n",
       "  'globals()'],\n",
       " '_oh': {1: 20,\n",
       "  2: 20,\n",
       "  3: 20.396078054371138,\n",
       "  4: 12,\n",
       "  5: 12,\n",
       "  6: 1,\n",
       "  7: 12,\n",
       "  8: 3.142857142857143,\n",
       "  9: 3,\n",
       "  10: 3,\n",
       "  11: 3.0,\n",
       "  12: 3.1,\n",
       "  13: 3.1429,\n",
       "  15: True,\n",
       "  16: False,\n",
       "  17: False,\n",
       "  18: True,\n",
       "  19: True,\n",
       "  24: True,\n",
       "  25: True,\n",
       "  26: '\\nany()\\nAny kelimesi İngilizcede ‘herhangi bir’ anlamına gelir.\\nİşte any() fonksiyonunun görevi de, bir dizi içindeki \\nbütün değerlerden en az biri True ise True çıktısı vermektir.\\nALL FONKSİYONUNUN TERSİ\\n',\n",
       "  27: False,\n",
       "  28: False,\n",
       "  29: True,\n",
       "  30: True,\n",
       "  31: False,\n",
       "  32: 'istihza',\n",
       "  40: '[',\n",
       "  41: \"'\\\\u015feker'\",\n",
       "  42: \"'şeker'\",\n",
       "  43: False,\n",
       "  44: True,\n",
       "  45: False,\n",
       "  46: '0b1100',\n",
       "  47: '0b1',\n",
       "  48: '0b10',\n",
       "  49: '0b11',\n",
       "  50: '0b100',\n",
       "  51: '0b101',\n",
       "  52: '0b110',\n",
       "  53: '0b111',\n",
       "  54: b'\\x00\\x00\\x00\\x00\\x00\\x00\\x00\\x00\\x00\\x00',\n",
       "  56: b'\\x00\\x00\\x00\\x00\\x00\\x00\\x00\\x00\\x00\\x00',\n",
       "  57: 0,\n",
       "  59: 0,\n",
       "  61: 0,\n",
       "  63: b'devrim',\n",
       "  64: b'\\xc4\\xb1\\xc5\\x9f\\xc4\\xb1k',\n",
       "  65: b'\\x8d\\x9f\\x8dk',\n",
       "  66: b'\\xfd\\xfe\\xfdk',\n",
       "  67: b'\\xc4\\xb1\\xc5\\x9f\\xc4\\xb1k',\n",
       "  68: b'\\xfd\\xfe\\xfdk',\n",
       "  69: b'\\x8d\\x9f\\x8dk',\n",
       "  78: b'???k',\n",
       "  79: b'?eker',\n",
       "  80: b'?',\n",
       "  81: b'',\n",
       "  82: b'&#8364;',\n",
       "  83: b'\\x9feker',\n",
       "  84: b'A\\n\\x0c\\x0b\\x0fB',\n",
       "  86: 105,\n",
       "  89: bytearray(b'Adana'),\n",
       "  91: bytearray(b'Adana'),\n",
       "  92: bytearray(b'Adana'),\n",
       "  93: '\\n',\n",
       "  94: 'A',\n",
       "  95: 'ı',\n",
       "  97: list,\n",
       "  101: (1, 2, 3, 4, 5, 6, 7, 8, 9),\n",
       "  102: tuple,\n",
       "  103: (1, 2, 3, 4, 5, 6, 7, 8, 9),\n",
       "  104: tuple,\n",
       "  106: [1, 2, 3, 4, 5, 6, 7, 8, 9],\n",
       "  107: list,\n",
       "  109: {1, 2, 3, 4, 5, 6, 7, 8, 9},\n",
       "  110: set,\n",
       "  112: (1, 2, 3, 4, 5, 6, 7, 8, 9),\n",
       "  113: tuple,\n",
       "  115: frozenset({1, 2, 3, 4, 5, 6, 7, 8, 9}),\n",
       "  118: (12+0j),\n",
       "  119: complex,\n",
       "  120: (15+0j),\n",
       "  121: (15+2j),\n",
       "  122: 134.0,\n",
       "  123: 12.0,\n",
       "  124: 10,\n",
       "  125: 12,\n",
       "  126: \"\\nBunun dışında bu fonksiyonu, herhangi bir sayma\\nsisteminde temsil edilen bir sayıyı onlu sayma \\nsistemine dönüştürmek için de kullanabiliriz.\\nÖrneğin:\\nint('12', 8)\\n\",\n",
       "  127: 10,\n",
       "  128: 1231,\n",
       "  129: '12',\n",
       "  138: {'a': 1, 'b': 2, 'c': 3},\n",
       "  139: {'a': 1, 'b': 2, 'c': 3},\n",
       "  140: True,\n",
       "  141: False,\n",
       "  143: 97,\n",
       "  144: 305,\n",
       "  145: '0o12',\n",
       "  146: '0x131',\n",
       "  148: 30,\n",
       "  154: {...},\n",
       "  157: <function globals()>},\n",
       " '_dh': ['/home/devrm1283/Masaüstü/Python'],\n",
       " 'In': ['',\n",
       "  '\"\"\"\\nGömülü Fonksiyonlar\\nBu bölümde, daha önce de birkaç kez bahsettiğimiz ve \\nçokça örneğini gördüğümüz bir kavramdan söz edeceğiz.\\nBu kavramın adı ‘gömülü fonksiyonlar’.\\n\\nEsasında biz buraya gelene kadar Python’da pek çok gömülü \\nfonksiyon gördük. Dolayısıyla aslında görünüş olarak bunların\\nneye benzediğini biliyoruz. Örneğin daha önceki derslerimizde\\ngördüğümüz print() gömülü bir fonksiyondur. \\nAynı şekilde open(), type(), len(), pow(), bin() \\nve şimdiye kadar tanıştığımız öteki bütün fonksiyonlar\\nbirer gömülü fonksiyondur.\\n\\nGömülü fonksiyonlar İngilizcede builtin functions olarak \\nadlandırılır. Bu fonksiyonlar gerçekten de dile gömülü\\nvaziyettedirler. Bildiğiniz gibi, bir fonksiyonu kullanabilmemiz \\niçin o fonksiyonu tanımlamamız gerekir. İşte gömülü fonksiyonlar,\\nbizim tanımlamamıza gerek kalmadan, Python geliştiricileri tarafından \\nönceden tanımlanıp dile gömülmüş ve hizmetimize sunulmuş faydalı\\nbirtakım araçlardır.\\n\\nİşte bu bölümde biz de bu gömülü fonksiyonları tek tek ve\\nayrıntılı olarak inceleyeceğiz. Dediğimiz gibi, bunlardan \\nbir kısmını halihazırda görmüştünüz. Ama biz bütünlük\\naçısından, önceden ele almış olduğumuz bu fonksiyonlara \\nda kısaca değinmeden geçmeyeceğiz. Böylelikle hem yeni \\nfonksiyonlar öğrenmiş olacağız hem de önceden öğrendiğimiz \\nfonksiyonlarla birlikte yeni fonksiyonları da derli toplu \\nbir şekilde görme imkanımız olacak.\\n\\nBu bölümde elbette birtakım fonksiyonları salt art arda \\nsıralamakla yetinmeyeceğiz. Python’daki gömülü fonksiyonları\\nincelerken bir yandan da Python programlama dilindeki çok\\nönemli bazı kavramları ele alacağız.\\n\\nİlk olarak abs() adlı bir fonksiyonla başlıyoruz gömülü \\nfonksiyonları incelemeye…\\n\\n\\nabs()\\nİngilizcede ‘mutlak’ anlamına gelen absolute adlı bir \\nkelime bulunur. İşte bu fonksiyonun adı da bu kelimeden \\ngelir. Fonksiyonumuzun görevi de isminin anlamına yakındır.\\nabs() fonksiyonunu bir sayının mutlak değerini elde etmek \\niçin kullanıyoruz.\\n\\n\\nPeki ‘mutlak değer’ ne anlama geliyor. Esasında siz bu \\nkavrama matematik derslerinden aşinasınız. Ama bilmeyenler\\nveya unutmuş olanlar için tekrar edelim. ‘Mutlak değer’\\nbir sayının 0’a olan uzaklığıdır. Örneğin 20 sayısının\\n0 sayısına olan uzaklığı 20’dir. Dolayısıyla 20 sayısının\\nmutlak değeri 20’dir. Aynı şekilde -20 sayısının da 0\\nsayısına uzaklığı 20’dir. Yani, -20 sayısının da mutlak \\ndeğeri 20’dir.\\n\\n\\nİşte abs() fonksiyonu bize bir sayının mutlak değerinin\\nne olduğunu söyler:\\nMutlak değer kavramı yalnızca tamsayılar ve kayan \\nnoktalı sayılar için değil, aynı zamanda karmaşık \\nsayılar için de geçerlidir. Dolayısıyla abs()\\nfonksiyonunu kullanarak karmaşık sayıların da\\nmutlak değerini hesaplayabiliriz:\\nGördüğünüz gibi bu fonksiyon yalnızca tek bir parametre\\nalıyor ve bu parametrenin mutlak değerini döndürüyor.\\n\"\"\"\\nabs(-20)',\n",
       "  'abs(20)',\n",
       "  'abs(20+4j)',\n",
       "  '\"\"\"\\nround()\\nround() fonksiyonu bir sayıyı belli ölçütlere\\ngöre yukarı veya aşağı doğru yuvarlamamızı sağlar.\\nBasit birkaç örnek verelim:\\n\"\"\"\\nround(12,4)',\n",
       "  'round(12,7)',\n",
       "  '\"\"\"\\nGördüğünüz gibi bu fonksiyon, kayan noktalı sayıları \\nen yakın tam sayıya doğru yuvarlıyor.\\n\\nAncak burada dikkat etmemiz gereken bir nokta var.\\n\\nŞu örnekleri bir inceleyelim:\\n\"\"\"\\nround(1,5)',\n",
       "  'round(12.5)',\n",
       "  '\"\"\"\\nGördüğünüz gibi, fonksiyonumuz 1.5 sayısını yukarı doğru, \\n12.5 sayısını ise aşağı doğru yuvarladı. Bunun sebebi,\\nkayan noktalı bir sayının üst ve alt tam sayılara olan \\nuzaklığının birbirine eşit olduğu durumlarda Python’ın\\nçift sayıya doğru yuvarlama yapmayı tercih etmesidir.\\nMesela yukarıdaki örneklerde 1.5 sayısı hem 1 sayısına,\\nhem de 2 sayısına eşit uzaklıkta bulunuyor. İşte Python\\nbu durumda, bir çift sayı olan 2 sayısına doğru yuvarlamayı\\ntercih edecektir.\\n\\nround() fonksiyonu toplam iki parametre alır. İlk parametre,\\nyuvarlanacak sayının kendisidir. Yuvarlama hassasiyetini \\nbelirlemek için ise ikinci bir parametreden yararlanabiliriz.\\n\\nÖrneğin 22 sayısını 7’ye böldüğümüzde normalde şöyle bir \\nçıktı elde ederiz:\\n\"\"\"\\n22/7',\n",
       "  '\"\"\"\\nround() fonksiyonunu tek parametre ile \\nkullandığımızda bu fonksiyon yukarıdaki\\nsayıyı şu şekilde yuvarlayacaktır:\\n\"\"\"\\nround(22/7)',\n",
       "  '\"\"\"\\nİşte biz round() fonksiyonuna ikinci bir parametre daha\\nvererek, yuvarlama hassasiyetini kontrol edebiliriz.\\n\\nAşağıdaki örnekleri dikkatlice inceleyin:\\n\"\"\"\\nround(22/7)',\n",
       "  'round(22/7,0)',\n",
       "  'round(22/7,1)',\n",
       "  'round(22/7,4)',\n",
       "  '\"\"\"\\nall()\\n\\nAll kelimesi Türkçede ‘hepsi’ anlamına gelir.\\nBu fonksiyonun görevi de bu anlamı çağrıştırır.\\nall() fonksiyonunun görevi, bir dizi içinde bulunan \\nbütün değerler True ise True değeri, eğer bu değerlerden\\nherhangi biri False ise de False değeri döndürmektir.\\n\\nÖrneğin elimizde şöyle bir liste olduğunu varsayalım:\\n\"\"\"\\nliste = [1, 2, 3, 4]',\n",
       "  'all(liste)',\n",
       "  '\"\"\"\\nBildiğiniz gibi, 0 hariç bütün sayıların bool değeri True’dur. \\nYukarıdaki listede False değeri verebilecek herhangi bir değer \\nbulunmadığından, all() fonksiyonu bu liste için True değerini \\nveriyor. Bir de şuna bakalım:\\n\"\"\"\\nliste = [0, 1, 2, 3, 4]\\nall(liste)',\n",
       "  '\"\"\"\\nDediğimiz gibi, all() fonksiyonu ancak dizi içindeki bütün \\ndeğerlerin bool değeri True ise True çıktısı verecektir.\\n\\nSon bir örnek daha verelim:\\n\"\"\"\\nliste = [\\'ahmet\\', \\'mehmet\\', \\'\\']\\nall(liste)',\n",
       "  '\"\"\"\\nListede False değerine sahip bir boş karakter dizisi bulunduğu\\niçin all() fonksiyonu False çıktısı veriyor.\\n\\nBu fonksiyonu her türlü kodun bool değerlerini test etmek için \\nkullanabilirsiniz. Mesela bu fonksiyonu kullanarak, bir nesnenin\\nlistelenen özelliklerin hepsine sahip olup olmadığını \\ndenetleyebilirsiniz:\\n\"\"\"\\na = 3\\nt1 = a == 3         #sayı 3 mü?\\nt2 = a < 4          #sayı 4\\'ten küçük mü?\\nt3 = a % 2 == 1     #sayı bir tek sayı mı?\\nall([t1, t2, t3])   #sayı bu özelliklerin hepsine sahip mi?',\n",
       "  '\"\"\"\\nListede False değerine sahip bir boş karakter dizisi bulunduğu\\niçin all() fonksiyonu False çıktısı veriyor.\\n\\nBu fonksiyonu her türlü kodun bool değerlerini test etmek için \\nkullanabilirsiniz. Mesela bu fonksiyonu kullanarak, bir nesnenin\\nlistelenen özelliklerin hepsine sahip olup olmadığını \\ndenetleyebilirsiniz:\\n\"\"\"\\na = 3\\nt1 = a == 3         #sayı 3 mü?\\nt2 = a < 4          #sayı 4\\'ten küçük mü?\\nt3 = a % 2 == 1     #sayı bir tek sayı mı?\\nall([t1, t2, t3])   #sayı bu özelliklerin hepsine sahip mi?',\n",
       "  'a = 3\\nt1 = a == 3   \\nall(t1)',\n",
       "  'a = 3\\nt1 = a == 3   \\nt2 = a < 4   \\nall(t1)',\n",
       "  'a = 3\\nt1 = a == 3   \\nt2 = a < 4   \\nall(t1,t2)',\n",
       "  'a = 3\\nt1 = a == 3   \\nt2 = a < 4   \\nt3 = a % 2 == 1 \\nall(t1,t2,t3)',\n",
       "  '\"\"\"\\nListede False değerine sahip bir boş karakter dizisi bulunduğu\\niçin all() fonksiyonu False çıktısı veriyor.\\n\\nBu fonksiyonu her türlü kodun bool değerlerini test etmek için \\nkullanabilirsiniz. Mesela bu fonksiyonu kullanarak, bir nesnenin\\nlistelenen özelliklerin hepsine sahip olup olmadığını \\ndenetleyebilirsiniz:\\n\"\"\"\\na = 3\\nt1 = a == 3         #sayı 3 mü?\\nt2 = a < 4          #sayı 4\\'ten küçük mü?\\nt3 = a % 2 == 1     #sayı bir tek sayı mı?\\nall([t1, t2, t3])   #sayı bu özelliklerin hepsine sahip mi?',\n",
       "  'a = 3\\nt1 = a == 3   \\nt2 = a < 4   \\nt3 = a % 2 == 1 \\nall([t1])',\n",
       "  '\"\"\"\\nany()\\nAny kelimesi İngilizcede ‘herhangi bir’ anlamına gelir.\\nİşte any() fonksiyonunun görevi de, bir dizi içindeki \\nbütün değerlerden en az biri True ise True çıktısı vermektir.\\nALL FONKSİYONUNUN TERSİ\\n\"\"\"',\n",
       "  '\"\"\"\\nany()\\nAny kelimesi İngilizcede ‘herhangi bir’ anlamına gelir.\\nİşte any() fonksiyonunun görevi de, bir dizi içindeki \\nbütün değerlerden en az biri True ise True çıktısı vermektir.\\nALL FONKSİYONUNUN TERSİ\\n\"\"\"\\nliste = [0, 1, 2, 3, 4]\\nall(liste)',\n",
       "  \"liste = ['ahmet', 'mehmet', '']\\nall(liste)\",\n",
       "  '\"\"\"\\nany()\\nAny kelimesi İngilizcede ‘herhangi bir’ anlamına gelir.\\nİşte any() fonksiyonunun görevi de, bir dizi içindeki \\nbütün değerlerden en az biri True ise True çıktısı vermektir.\\nALL FONKSİYONUNUN TERSİ\\n\"\"\"\\nliste = [0, 1, 2, 3, 4]\\nany(liste)',\n",
       "  \"liste = ['ahmet', 'mehmet', '']\\nany(liste)\",\n",
       "  \"l = ['', 0, [], (), set(), dict()]\\nany(l)\",\n",
       "  '\"\"\"\\nascii()\\nBu fonksiyon, bir nesnenin ekrana basılabilir\\nhalini verir bize. Dilerseniz bu fonksiyonun yaptığı \\nişi tanımlamak yerine bunu bir örnek üzerinden anlatmaya çalışalım:\\n\"\"\"\\na = \\'istihza\\'\\nprint(ascii(a))\\n\\n\\'istihza\\'',\n",
       "  '\"\"\"\\nBu fonksiyonun, print() fonksiyonundan farklı olarak,\\nçıktıya tırnak işaretlerini de eklediğine dikkat edin.\\n\\nascii() fonksiyonunun tam olarak ne yaptığını daha iyi \\nanlamak için herhalde şu örnek daha faydalı olacaktır.\\n\\nDikkatlice bakın:\\n\"\"\"\\nprint(\\'\\\\n\\')',\n",
       "  '\"\"\"\\nBu komutu verdiğimizde, n kaçış dizisinin etkisiyle\\nyeni satıra geçileceğini biliyorsunuz.\\n\\nBir de şuna bakın:\\n\"\"\"\\nprint(ascii(\\'\\\\n!\\'))',\n",
       "  '\"\"\"\\nBu komutu verdiğimizde, n kaçış dizisinin etkisiyle\\nyeni satıra geçileceğini biliyorsunuz.\\n\\nBir de şuna bakın:\\n\"\"\"\\nprint(ascii(\\'\\\\n\\'))',\n",
       "  '\"\"\"\\nGördüğünüz gibi, ascii() fonksiyonu, satır başı kaçış \\ndizisinin görevini yapmasını sağlamak yerine bu kaçış \\ndizisinin ekrana basılabilir halini veriyor bize.\\n\\n\\nAyrıca bu fonksiyon, karakter dizileri içindeki Türkçe\\nkarakterlerin de UNICODE temsillerini döndürür. Örneğin:\\n\"\"\"\\na = \\'ışık\\'\\nprint(ascii(a))',\n",
       "  'a=\"Devrim Tunçer\"\\nprint(ascii(a))',\n",
       "  '\"\"\"\\nGördüğünüz gibi, ascii() fonksiyonu ASCII olmayan karakterlerle \\nkarşılaştığında bunların karakter temsilleri yerine UNICODE\\ntemsillerini (veya onaltılık sayma düzenindeki karşılıklarını)\\nveriyor.\\n\\nSon olarak şu örneğe bakalım:\\n\"\"\"\\nliste = [\\'elma\\', \\'armut\\', \\'erik\\']\\ntemsil = ascii(liste)\\nprint(temsil)',\n",
       "  '\"\"\"\\nBurada listemiz ascii() fonksiyonuna parametre olarak \\nverildikten sonra artık liste olma özelliğini yitirip \\nbir karakter dizisi haline gelir. Bunu denetleyelim:\\n\"\"\"\\nprint(type(temsil))',\n",
       "  'temsil[0]',\n",
       "  '\"\"\"\\nrepr()\\nrepr() fonksiyonunun yaptığı iş, biraz önce gördüğümüz ascii() \\nfonksiyonunun yaptığı işe çok benzer. Bu iki fonksiyon, ASCII\\nolmayan karakterlere muameleleri açısından birbirinden ayrılır.\\n\\nHatırlarsanız ascii() fonksiyonu ASCII olmayan karakterlerle \\nkarşılaştığında bunların UNICODE (veya onaltılık) temsillerini\\ngösteriyordu\\n\"\"\"\\nascii(\"şeker\")',\n",
       "  '\"\"\"\\nrepr() fonksiyonu ise ASCII olmayan karakterlerle karşılaşsa bile,\\nbize çıktı olarak bunların da karakter karşılıklarını gösterir:\\n\"\"\"\\nrepr(\"şeker\")',\n",
       "  '\"\"\"\\nbool()\\nBu fonksiyon bir nesnenin bool değerini verir:\\n\"\"\"\\nbool(0)',\n",
       "  'bool(1)',\n",
       "  'bool([])',\n",
       "  '\"\"\"\\nbin()\\nBu fonksiyon, bir sayının ikili düzendeki karşılığını verir:\\nBu fonksiyonun verdiği çıktının bir sayı değil,\\nkarakter dizisi olduğuna dikkat etmelisiniz.\\n\"\"\"\\nbin(12)',\n",
       "  'bin(1)',\n",
       "  'bin(2)',\n",
       "  'bin(3)',\n",
       "  'bin(4)',\n",
       "  'bin(5)',\n",
       "  'bin(6)',\n",
       "  'bin(7)',\n",
       "  '\"\"\"\\nbytes()\\nBu fonksiyon bytes türünde nesneler oluşturmak için kullanılır. \\nBu fonksiyonu ‘bayt’ adlı veri tipini incelerken ayrıntılı olarak \\nele almıştık. Gelin isterseniz burada da bu fonksiyona şöyle bir\\ndeğinelim.\\n\\nDediğimiz gibi, bytes() adlı fonksiyon, bytes türünde veriler\\noluşturmaya yarar. Bu fonksiyon işlev olarak, daha önce öğrendiğimiz \\nlist(), str(), int(), set(), dict() gibi fonksiyonlara çok benzer. \\nTıpkı bu fonksiyonlar gibi, bytes() fonksiyonunun görevi de farklı\\nveri tiplerini ‘bayt’ adlı veri tipine dönüştürmektir.\\n\\nBu fonksiyon, kendisine verilen parametrelerin türüne bağlı olarak \\nbirbirinden farklı sonuçlar ortaya çıkarır. Örneğin eğer bu fonksiyona\\nparametre olarak bir tam sayı verecek olursanız, bu fonksiyon size\\no tam sayı miktarınca bir bayt nesnesi verecektir. Gelin isterseniz\\nbu durumu örnekler üzerinde göstermeye çalışalım:\\n\"\"\"\\nbytes(10)',\n",
       "  'a=bytes(10)',\n",
       "  'a',\n",
       "  'a[0]',\n",
       "  'a(7)',\n",
       "  'a[7]',\n",
       "  'a[10]',\n",
       "  'a[9]',\n",
       "  '\"\"\"\\nGördüğünüz gibi, bytes(10) komutuyla oluşturduğumuz a \\ndeğişkeni içinde toplam 10 adet bayt var ve bu baytların her \\nbirinin değeri 0.\\n\\nYukarıda, bytes() fonksiyonuna bir tam sayı değerli \\nparametre verdiğimizde nasıl bir sonuç alacağımızı öğrendik.\\nPeki biz bu fonksiyona parametre olarak bir karakter dizisi \\nverirsek ne olur?\\n\\nHemen görelim:\\n\"\"\"\\nbytes(\"devrim\")',\n",
       "  '\"\"\"\\nBu fonksiyona karakter dizilerini doğrudan parametre olarak\\nveremeyiz. Eğer verirsek yukarıdaki gibi bir hata alırız.\\nPeki acaba bu hatayı almamızın nedeni ne olabilir?\\n\\nDediğimiz gibi, bytes() fonksiyonu, çeşitli veri tiplerini \\nbayta dönüştürmeye yarar. Ancak bildiğiniz gibi,\\nbayta dönüştürme işlemi her kod çözücü tarafından\\nfarklı biçimde yapılır. Örneğin:\\n\"\"\"\\n\"devrim\".encode(\"utf-8\")',\n",
       "  '\"\"\"\\nBu fonksiyona karakter dizilerini doğrudan parametre olarak\\nveremeyiz. Eğer verirsek yukarıdaki gibi bir hata alırız.\\nPeki acaba bu hatayı almamızın nedeni ne olabilir?\\n\\nDediğimiz gibi, bytes() fonksiyonu, çeşitli veri tiplerini \\nbayta dönüştürmeye yarar. Ancak bildiğiniz gibi,\\nbayta dönüştürme işlemi her kod çözücü tarafından\\nfarklı biçimde yapılır. Örneğin:\\n\"\"\"\\n\"ışık\".encode(\"utf-8\")',\n",
       "  \"'ışık'.encode('cp857')\",\n",
       "  \"'ışık'.encode('cp1254')\",\n",
       "  '\"\"\"\\nDolayısıyla, bytes() fonksiyonunun bir karakter dizisini\\nbayta çevirirken nasıl davranması gerektiğini anlayabilmesi\\niçin, bayta dönüştürme işlemini hangi kod çözücü ile yapmak\\nistediğimizi açıkça belirtmemiz gerekir:\\n\"\"\"\\nbytes(\"ışık\",\"utf-8\")',\n",
       "  \"bytes('ışık', 'cp1254')\",\n",
       "  \"bytes('ışık', 'cp857')\",\n",
       "  '\"\"\"\\nGördüğünüz gibi, bytes() fonksiyonuna parametre olarak bir karakter \\ndizisi verebilmek için, bu karakter dizisi ile birlikte bir\\nkod çözücü de belirtmemiz gerekiyor. Böylece bytes() fonksiyonu\\nkendisine verdiğimiz karakter dizisini, belirttiğimiz kod\\nçözücünün kurallarına göre bayta dönüştürüyor.\\n\\nBu arada, çıktıda görünen ‘b’ harflerinin, elimizdeki verinin \\nbir bayt olduğunu gösteren bir işaret olduğunu biliyorsunuz.\\n\\nAyrıca, bytes() fonksiyonuna verdiğimiz ikinci parametrenin \\nisminin encoding olduğunu ve bu parametreyi isimli bir \\nparametre olarak da kullanabileceğimizi belirtelim:\\n\"\"\"\\nbytes(\"devrim\",encoding(\"ascii\"))',\n",
       "  '\"\"\"\\nGördüğünüz gibi, bytes() fonksiyonuna parametre olarak bir karakter \\ndizisi verebilmek için, bu karakter dizisi ile birlikte bir\\nkod çözücü de belirtmemiz gerekiyor. Böylece bytes() fonksiyonu\\nkendisine verdiğimiz karakter dizisini, belirttiğimiz kod\\nçözücünün kurallarına göre bayta dönüştürüyor.\\n\\nBu arada, çıktıda görünen ‘b’ harflerinin, elimizdeki verinin \\nbir bayt olduğunu gösteren bir işaret olduğunu biliyorsunuz.\\n\\nAyrıca, bytes() fonksiyonuna verdiğimiz ikinci parametrenin \\nisminin encoding olduğunu ve bu parametreyi isimli bir \\nparametre olarak da kullanabileceğimizi belirtelim:\\n\"\"\"\\nbytes(\"istiizha\",encoding(\"ascii\"))',\n",
       "  '\"\"\"\\nGördüğünüz gibi, bytes() fonksiyonuna parametre olarak bir karakter \\ndizisi verebilmek için, bu karakter dizisi ile birlikte bir\\nkod çözücü de belirtmemiz gerekiyor. Böylece bytes() fonksiyonu\\nkendisine verdiğimiz karakter dizisini, belirttiğimiz kod\\nçözücünün kurallarına göre bayta dönüştürüyor.\\n\\nBu arada, çıktıda görünen ‘b’ harflerinin, elimizdeki verinin \\nbir bayt olduğunu gösteren bir işaret olduğunu biliyorsunuz.\\n\\nAyrıca, bytes() fonksiyonuna verdiğimiz ikinci parametrenin \\nisminin encoding olduğunu ve bu parametreyi isimli bir \\nparametre olarak da kullanabileceğimizi belirtelim:\\n\"\"\"\\nbytes(\"istizha\",encoding(\"ascii\"))',\n",
       "  '\"\"\"\\nBu noktada size şöyle bir soru sorayım: \\nAcaba bytes() fonksiyonuna ilk parametre \\nolarak verdiğimiz karakter dizisi, ikinci \\nparametrede belirttiğimiz kod çözücü tarafından tanınmazsa ne olur?\\n\\nCevabı tahmin edebilirsiniz: Böyle bir durumda \\nelbette Python bize bir hata mesajı gösterir:\\n\\n\"\"\"\\nbytes(\\'şeker\\', \\'ascii\\')',\n",
       "  '\"\"\"\\nBu noktada size şöyle bir soru sorayım: \\nAcaba bytes() fonksiyonuna ilk parametre \\nolarak verdiğimiz karakter dizisi, ikinci \\nparametrede belirttiğimiz kod çözücü tarafından tanınmazsa ne olur?\\n\\nCevabı tahmin edebilirsiniz: Böyle bir durumda \\nelbette Python bize bir hata mesajı gösterir:\\n\\n\"\"\"\\nbytes(\\'şeker\\', \\'ascii\\')',\n",
       "  'bytes(\\'€\\', \\'cp857\\')\\n\"\"\"\\nş’ harfi ‘ASCII’ karakter kümesinde; ‘€’ işareti ise ‘CP857’ \\nadlı karakter kümesinde tanımlanmamış birer karakter olduğu \\niçin, ilgili kod çözücüler bu karakterleri çözüp bayta \\ndönüştüremiyor. Yazdığımız kodların bu tür durumlarda \\ntamamen çökmesini engellemek için, önceki derslerimizde de \\nçeşitli vesilelerle öğrenmiş olduğumuz errors adlı bir parametreden \\nyararlanabiliriz:\\n\"\"\"\\nbytes(\\'ışık\\', encoding=\\'ascii\\', errors=\\'replace\\')',\n",
       "  'bytes(\\'€\\', \\'cp857\\')\\n\"\"\"\\nş’ harfi ‘ASCII’ karakter kümesinde; ‘€’ işareti ise ‘CP857’ \\nadlı karakter kümesinde tanımlanmamış birer karakter olduğu \\niçin, ilgili kod çözücüler bu karakterleri çözüp bayta \\ndönüştüremiyor. Yazdığımız kodların bu tür durumlarda \\ntamamen çökmesini engellemek için, önceki derslerimizde de \\nçeşitli vesilelerle öğrenmiş olduğumuz errors adlı bir parametreden \\nyararlanabiliriz:\\n\"\"\"\\nbytes(\\'şeker\\', encoding=\\'ascii\\', errors=\\'replace\\')',\n",
       "  'bytes(\\'€\\', \\'cp857\\')\\n\"\"\"\\nş’ harfi ‘ASCII’ karakter kümesinde; ‘€’ işareti ise ‘CP857’ \\nadlı karakter kümesinde tanımlanmamış birer karakter olduğu \\niçin, ilgili kod çözücüler bu karakterleri çözüp bayta \\ndönüştüremiyor. Yazdığımız kodların bu tür durumlarda \\ntamamen çökmesini engellemek için, önceki derslerimizde de \\nçeşitli vesilelerle öğrenmiş olduğumuz errors adlı bir parametreden \\nyararlanabiliriz:\\n\"\"\"\\nbytes(\\'€\\', encoding=\\'cp857\\', errors=\\'ignore\\')',\n",
       "  '\"\"\"\\nş’ harfi ‘ASCII’ karakter kümesinde; ‘€’ işareti ise ‘CP857’ \\nadlı karakter kümesinde tanımlanmamış birer karakter olduğu \\niçin, ilgili kod çözücüler bu karakterleri çözüp bayta \\ndönüştüremiyor. Yazdığımız kodların bu tür durumlarda \\ntamamen çökmesini engellemek için, önceki derslerimizde de \\nçeşitli vesilelerle öğrenmiş olduğumuz errors adlı bir parametreden \\nyararlanabiliriz:\\n\"\"\"\\nbytes(\\'ışık\\', encoding=\\'ascii\\', errors=\\'replace\\')',\n",
       "  \"bytes('şeker', encoding='ascii', errors='replace')\",\n",
       "  \"bytes('€', encoding='cp857', errors='replace')\",\n",
       "  \"bytes('€', encoding='cp857', errors='ignore')\",\n",
       "  \"bytes('€', encoding='cp857', errors='xmlcharrefreplace')\",\n",
       "  \"bytes('şeker', encoding='cp857', errors='xmlcharrefreplace')\",\n",
       "  '\"\"\"\\nGördüğünüz gibi, errors parametresine verdiğimiz çeşitli değerler\\nyardımıyla, bytes() fonksiyonunun, encoding parametresinde belirtilen\\nkod çözücü ile çözülemeyen karakterlerle karşılaştığında nasıl\\ndavranacağını belirleyebiliyoruz.\\n\\n\\nerrors parametresine verdiğimiz bütün bu değerleri önceki\\nderslerimizde öğrenmiştik. Dolayısıyla yukarıda gösterdiğimiz\\nkodları rahatlıkla anlayabilecek kadar Python bilgisine sahibiz.\\n\\nSon olarak, bytes() fonksiyonuna parametre olarak 0-256 arası\\nsayılardan oluşan diziler de verebiliriz:\\nBu yapı içinde Python, 0 ile 128 arası sayılar için standart \\nASCII tablosunu, 128 ile 256 arası sayılar için ise Latin-1 \\nkarakter kümesini temel alarak sayıları birer bayta dönüştürecektir.\\n\"\"\"\\nbytes([65, 10, 12, 11, 15, 66])',\n",
       "  '\"\"\"\\nbytearray()\\nBildiğiniz gibi baytlar değiştirilemeyen bir veri tipidir. \\nDolayısıyla bir bayt veri tipi üzerinde herhangi bir değişiklik\\nyapamayız. Örneğin bir baytın herhangi bir öğesini başka bir \\ndeğerle değiştiremeyiz:\\n\"\"\"\\na = bytes(\\'istihza\\', \\'ascii\\')',\n",
       "  'a[0]',\n",
       "  'a[0]=106',\n",
       "  '\"\"\"\\nAma eğer hem baytlarla çalışmak, hem de bu baytların \\nüzerinde değişiklik yapabilmek isterseniz baytlar \\nyerine bayt dizileri ile çalışabilirsiniz. İşte \\nbunun için bytearray() adlı bir fonksiyondan yararlanıyoruz.\\n\\nYaptıkları iş bakımından bytearray() ve bytes()\\nfonksiyonları birbirlerine çok benzer. Bu ikisi \\narasındaki tek fark, bytearray() ile oluşturulan \\nveri tipinin, bytes() ile oluşturulan veri tipinin\\naksine, değiştirilebilir nitelikte olmasıdır:\\n\"\"\"\\na = bytearray(\\'adana\\', \\'ascii\\')',\n",
       "  'a',\n",
       "  'a[0] = 65',\n",
       "  'a',\n",
       "  'a',\n",
       "  '\"\"\"\\nchr()\\nBu fonksiyon, kendisine parametre olarak verilen bir tam \\nsayının karakter karşılığını döndürür. Örneğin:\\n\"\"\"\\nchr(10)',\n",
       "  'chr(65)',\n",
       "  '\"\"\"\\nBu fonksiyon sayıları karakterlere dönüştürürken \\nASCII sistemini değil, UNICODE sistemini temel alır.\\nDolayısıyla bu fonksiyon ile 128 (veya 255) üstü sayıları\\nda dönüştürebiliriz. Örneğin:\\n\"\"\"\\nchr(305)',\n",
       "  '\"\"\"\\nlist()\\nBu fonksiyon iki farklı amaç için kullanılabilir:\\n\\nListe tipinde bir veri oluşturmak\\n\\nFarklı veri tiplerini liste adlı veri tipine dönüştürmek\\n\\nBirinci amaç için bu fonksiyonu şu şekilde kullanıyoruz:\\n\\n\\n\"\"\"\\nliste=list()',\n",
       "  '\"\"\"\\nlist()\\nBu fonksiyon iki farklı amaç için kullanılabilir:\\n\\nListe tipinde bir veri oluşturmak\\n\\nFarklı veri tiplerini liste adlı veri tipine dönüştürmek\\n\\nBirinci amaç için bu fonksiyonu şu şekilde kullanıyoruz:\\n\\n\\n\"\"\"\\nliste=list()\\ntype(liste)',\n",
       "  '\"\"\"\\nlist()\\nBu fonksiyon iki farklı amaç için kullanılabilir:\\n\\nListe tipinde bir veri oluşturmak\\n\\nFarklı veri tiplerini liste adlı veri tipine dönüştürmek\\n\\nBirinci amaç için bu fonksiyonu şu şekilde kullanıyoruz:\\n\\n\\n\"\"\"\\nliste=list()\\nprint(liste)',\n",
       "  'liste=list(range(1,10))\\nprint(liste)',\n",
       "  'demet=tuple(range(1,10))',\n",
       "  'demet',\n",
       "  'demet\\ntype(demet)',\n",
       "  'demet',\n",
       "  'type(demet)',\n",
       "  'liste=list(demet)',\n",
       "  'liste',\n",
       "  'type(liste)',\n",
       "  '\"\"\"\\nset()\\nset() fonksiyonu list() fonksiyonuna çok benzer. \\nBu fonksiyon da tıpkı list() fonksiyonu gibi, veri\\ntipleri arasında dönüştürme işlemleri gerçekleştirmek \\niçin kullanılabilir. set() fonksiyonunun görevi farklı \\nveri tiplerini kümeye dönüştürmektir:\\n\"\"\"\\nküme=set(demet)',\n",
       "  'küme',\n",
       "  'type(küme)',\n",
       "  '\"\"\"\\ntuple()\\ntuple() fonksiyonu da, tıpkı list(), set() ve benzerleri \\ngibi bir dönüştürücü fonksiyondur. Bu fonksiyon farklı veri \\ntiplerini demete dönüştürür:\\n\"\"\"\\ndemet=tuple(demet)',\n",
       "  'demet',\n",
       "  'type(demet)',\n",
       "  '\"\"\"\\nfrozenset()\\nBu fonksiyonu kullanarak farklı veri tiplerini \\ndondurulmuş kümeye dönüştürebilirsiniz:\\n\"\"\"\\ndf=frozenset(demet)',\n",
       "  'df',\n",
       "  'df[0]',\n",
       "  'df[0][1]',\n",
       "  '\"\"\"\\ncomplex()\\nSayılardan söz ederken, eğer matematikle çok fazla \\niçli dışlı değilseniz pek karşılaşmayacağınız, \\n‘karmaşık sayı’ adlı bir sayı türünden de bahsetmiştik.\\nKarmaşık sayılar, bir gerçek, bir de sanal kısımdan oluşan sayılardır.\\n\\nKarmaşık sayılar Python’da ‘complex’ ifadesiyle gösteriliyor.\\nMesela şu bir karmaşık sayıdır:\\n\"\"\"\\n12+0j',\n",
       "  'type(12+2j)',\n",
       "  '\"\"\"\\nİşte eğer herhangi bir sayıyı karmaşık sayıya \\ndönüştürmeniz gerekirse complex() adlı bir fonksiyondan\\nyararlanabilirsiniz. Örneğin:\\nFLOAT İNTEGER COMPLEX\\n\"\"\"\\ncomplex(15)',\n",
       "  '\"\"\"\\nBöyle bir kod yazdığımızda, verdiğimiz parametre \\nkarmaşık sayının gerçek kısmını oluşturacak, sanal kısım\\nise 0 olarak kabul edilecektir. Elbette isterseniz sanal kısmı \\nkendiniz de belirleyebilirsiniz:\\n\"\"\"\\ncomplex(15, 2)',\n",
       "  '\"\"\"\\nfloat()\\nBu fonksiyonu, sayıları veya karakter dizilerini kayan noktalı\\nsayıya dönüştürmek için kullanıyoruz:\\n\"\"\"\\nfloat(\"134\")',\n",
       "  'float(12)',\n",
       "  '\"\"\"\\nint()\\nBu fonksiyon birkaç farklı amaç için kullanılabilir.\\nint() fonksiyonunun en temel görevi, bir karakter dizisi \\nveya kayan noktalı sayıyı (eğer mümkünse) tam sayıya dönüştürmektir:\\n\"\"\"\\nint(\\'10\\')',\n",
       "  'int(12.4)',\n",
       "  '\"\"\"\\nBunun dışında bu fonksiyonu, herhangi bir sayma\\nsisteminde temsil edilen bir sayıyı onlu sayma \\nsistemine dönüştürmek için de kullanabiliriz.\\nÖrneğin:\\nint(\\'12\\', 8)\\n\"\"\"',\n",
       "  '\"\"\"\\nBunun dışında bu fonksiyonu, herhangi bir sayma\\nsisteminde temsil edilen bir sayıyı onlu sayma \\nsistemine dönüştürmek için de kullanabiliriz.\\nÖrneğin:\\n\"\"\"\\nint(\\'12\\', 8)',\n",
       "  '\"\"\"\\nBurada, sekizli sayma sistemine ait sayı değerli bir karakter \\ndizisi olan ‘12’`yi onlu sayma sistemine dönüştürdük ve böylece \\n`10 sayısını elde ettik.\\n\\nint() fonksiyonunu sayma sistemleri arasında dönüştürme işlemlerinde\\nkullanabilmek için ilk parametrenin bir karakter dizisi olması \\ngerektiğine dikkat ediyoruz.\\n\\nBu arada, int(\\'12\\', 8) komutununun 12 sayısını sekizli sayma\\nsistemine dönüştürmediğine dikkat edin. Bu komutun yaptığı iş \\nsekizli sayma sistemindeki 12 sayısını onlu sayma sistemine \\ndönüştürmektir.\\n\\nint() fonksiyonunun bu kullanımıyla ilgili bir örnek daha verelim:\\n\"\"\"\\nint(\\'4cf\\', 16)',\n",
       "  '\"\"\"\\nstr()\\nBu fonksiyonun, farklı veri tiplerini karakter dizisine\\ndönüştürmek için kullanıldığını biliyorsunuz. Örneğin:\\n\"\"\"\\nstr(12)',\n",
       "  '\"\"\"\\nBurada 12 sayısını bir karakter dizisine dönüştürdük. \\nŞimdi de bir baytı karakter dizisine dönüştürelim:\\n\"\"\"\\nbayt = b\\'istihza\\'',\n",
       "  \"ardiz = str(bayt, encoding='utf-8')\\nprint(ardiz)\",\n",
       "  '\"\"\"\\nGördüğünüz gibi, bir baytı karakter dizisine dönüştürmek \\niçin str() fonksiyonuna encoding adlı bir parametre veriyoruz.\\nFonksiyonumuz, bu parametrede hangi kodlama biçimi belirtildiyse, \\nbaytları bu kodlama biçiminin kurallarına göre bir karakter \\ndizisine dönüştürüyor.\\n\\nTahmin edebileceğiniz gibi, belirttiğiniz kodlama biçiminin \\nherhangi bir baytı karakter dizisine dönüştüremediği durumlara \\nkarşı bir errors parametresi de verebiliriz str() fonksiyonuna.\\n\\nbayt = bytes(\\'kadın\\', encoding=\\'utf-8\\')\\nprint(bayt)\\nÖrneğin elimizde bayt tipinde şöyle bir veri olduğunu varsayalım:\\n\"\"\"\\nbayt = bytes(\\'kadın\\', encoding=\\'utf-8\\')\\nprint(bayt)',\n",
       "  '\"\"\"\\nGördüğünüz gibi, bir baytı karakter dizisine dönüştürmek \\niçin str() fonksiyonuna encoding adlı bir parametre veriyoruz.\\nFonksiyonumuz, bu parametrede hangi kodlama biçimi belirtildiyse, \\nbaytları bu kodlama biçiminin kurallarına göre bir karakter \\ndizisine dönüştürüyor.\\n\\nTahmin edebileceğiniz gibi, belirttiğiniz kodlama biçiminin \\nherhangi bir baytı karakter dizisine dönüştüremediği durumlara \\nkarşı bir errors parametresi de verebiliriz str() fonksiyonuna.\\n\\nÖrneğin elimizde bayt tipinde şöyle bir veri olduğunu varsayalım:\\n\"\"\"\\nbayt = bytes(\\'kadın\\', encoding=\\'utf-8\\')\\nprint(bayt)',\n",
       "  \"kardiz = str(bayt, encoding='ascii')\",\n",
       "  '\"\"\"\\nASCII adlı kod çözücü, b\\'kadın\\' içindeki baytlardan birini \\ntanıyamadığı için bize bir hata mesajı gösterdi. Bildiğiniz\\ngibi ASCII 128’den büyük baytları dönüştüremez. İşte bu tür \\ndurumlara karşı errors parametresinden yararlanabilirsiniz:\\n\"\"\"\\nkardiz = str(bayt, encoding=\\'ascii\\', errors=\\'ignore\\')\\nprint(kardiz)',\n",
       "  '\"\"\"\\nerrors parametresine verdiğimiz ‘ignore’ değeri sayesinde \\nPython bize hata mesajı göstermek yerine, ASCII ile çözülemeyen\\nbaytı görmezden geldi. errors parametresinin hangi değerleri\\nalabileceğini önceki derslerimizden hatırlıyor olmalısınız.\\ndict()\\nBu fonksiyon, farklı veri tiplerinden sözlükler üretmemizi sağlar.\\nÖrneğin bu fonksiyonu kullanarak boş bir sözlük oluşturabiliriz:\\n\"\"\"\\ns = dict()',\n",
       "  's = dict(a=1, b=2, c=3)',\n",
       "  's',\n",
       "  \"öğeler = (['a', 1], ['b', 2], ['c', 3])\\ndict(öğeler)\",\n",
       "  '\"\"\"\\ncallable()\\nBu fonksiyon, bir nesnenin ‘çağrılabilir’ olup olmadığını \\ndenetler. Peki hangi nesneler çağrılabilir özelliktedir. \\nMesela fonksiyonlar çağrılabilir nesnelerdir. Değişkenler \\nise çağrılabilir nesneler değildir.\\n\"\"\"\\ncallable(open)',\n",
       "  'import sys\\ncallable(sys.version)',\n",
       "  '\"\"\"\\nord()\\nBu fonksiyon, bir karakterin karşılık geldiği ondalık \\nsayıyı verir. Örneğin:\\n\"\"\"\\nord(1a)',\n",
       "  '\"\"\"\\nord()\\nBu fonksiyon, bir karakterin karşılık geldiği ondalık \\nsayıyı verir. Örneğin:\\n\"\"\"\\nord(\"a\")',\n",
       "  'ord(\"ı\")',\n",
       "  '\"\"\"\\noct()\\nBu fonksiyon, bir sayıyı sekizli düzendeki karşılığına \\nçevirmemizi sağlar:\\n\"\"\"\\noct(10)',\n",
       "  '\"\"\"\\nhex()\\nBu fonksiyon, bir sayıyı onaltılı düzendeki karşılığına çevirmemizi \\nsağlar:\\n\"\"\"\\nhex(305)',\n",
       "  '\"\"\"\\neval(), exec(), globals(), locals(), compile()\\nBu bölümde beş farklı fonksiyonu bir arada inceleyeceğiz. \\nBu fonksiyonları birlikte ele almamızın nedeni bunların \\nbirbiriyle yakından bağlantılı olması.\\n\\nBurada işleyeceğimiz bu beş fonksiyon şunlardan oluşuyor:\\n\\neval()\\n\\nexec()\\n\\nglobals()\\n\\nlocals()\\n\\ncompile()\\n\\nAncak bu fonksiyonlardan söz etmeye başlamadan önce \\nPython’daki iki önemli kavramı açıklığa kavuşturmamız \\ngerekiyor: Bu kavramlar şunlar:\\n\\nifade\\n\\ndeyim\\n\\nÖncelikle ‘ifade’ kavramından başlayalım.\\n\\nİngilizcede expression denen ‘ifadeler’, bir değer \\nüretmek için kullanılan kod parçalarıdır.\\nKarakter dizileri, sayılar, işleçler, öteki veri tipleri, \\nliste üreteçleri, sözlük üreteçleri, küme üreteçleri,\\nfonksiyonlar hep birer ifadedir. Örneğin:\\n\\n5\\n\\n23 + 4\\n\\n[i for i in range(10)]\\n\\nlen([1, 2, 3])\\nİngilizcede statement olarak adlandırılan ‘deyimler’ \\nise ifadeleri de kapsayan daha geniş bir kavramdır.\\nBuna göre bütün ifadeler aynı zamanda birer deyimdir. \\nDaha doğrusu, ifadelerin bir araya gelmesi ile deyimler\\noluşturulabilir.\\n\\nDeyimlere birkaç örnek verelim:\\n\\na = 5\\n\\nif a:\\n    print(a)\\n\\nfor i in range(10):\\n    print(i)\\nPython programlama dilinde deyimlerle ifadeleri ayırt\\netmenin kolay bir yolu da eval() fonksiyonundan yararlanmaktır.\\nEğer deyim mi yoksa ifade mi olduğundan emin olamadığınız \\nbir şeyi eval() fonksiyonuna parametre olarak verdiğinizde\\nhata almıyorsanız o parametre bir ifadedir. Eğer hata\\nalıyorsanız o parametre bir deyimdir. Çünkü eval()\\nfonksiyonuna parametre olarak yalnızca ifadeler verilebilir.\\n\\nBirkaç örnek verelim:\\n\\neval(\\'a = 5\\')\\n\\n  File \"<string>\", line 1\\n    a = 5\\n      ^\\nSyntaxError: invalid syntax\\nGördüğünüz gibi, eval() fonksiyonu bize bir hata mesajı verdi.\\nÇünkü a = 5 kodu bir deyimdir. Unutmayın, Python’da bütün\\ndeğer atama işlemleri birer deyimdir. Dolayısıyla eval() \\nfonksiyonu bu deyimi parametre olarak alamaz.\\n\\nBir de şuna bakalım:\\n\\neval(\\'5 + 25\\')\\n\\n30\\nBu defa hata almadık. Çünkü eval() fonksiyonuna, olması\\ngerektiği gibi, parametre olarak bir ifade verdik.\\nBildiğiniz gibi, 5 + 25 kodu bir ifadedir.\\n\\nDediğimiz gibi, eval() fonksiyonu deyimleri parametre \\nolarak alamaz. Ama exec() fonksiyonu alabilir:\\n\\nexec(\\'a = 5\\')\\nBu şekilde, değeri 5 olan a adlı bir değişken oluşturmuş \\nolduk. İsterseniz kontrol edelim:\\n\\nprint(a)\\n\\n5\\nGördüğünüz gibi, exec() fonksiyonu, mevcut isim alanı\\niçinde a adlı bir değişken oluşturdu. Yalnız elbette \\nmevcut isim alanı içinde yeni değişkenler ve yeni değerler \\noluştururken dikkatli olmamız gerektiğini biliyorsunuz.\\nZira mesela yukarıdaki komutu vermeden önce mevcut isim \\nalanında zaten a adlı bir değişken varsa, o değişkenin \\ndeğeri değişecektir:\\n\\na = 20\\nElimizde, değeri 20 olan a adlı bir değişken var. \\nŞimdi exec() fonksiyonu yardımıyla a değişkeninin\\nde içinde yer aldığı mevcut isim alanına müdahale ediyoruz:\\n\\nexec(\\'a = 10\\')\\nBöylece a değişkeninin eski değerini silmiş olduk. Kontrol edelim:\\n\\nprint(a)\\n\\n10\\nBu tür durumlarda, exec() ile oluşturduğunuz değişkenleri \\nglobal isim alanına değil de, farklı bir isim alanına \\ngöndermeyi tercih edebilirsiniz. Peki ama bunu nasıl yapacağız?\\n\\nPython programlama dilinde isim alanları sözlük tipinde bir veridir. \\nÖrneğin global isim alanı basit bir sözlükten ibarettir.\\n\\nGlobal isim alanını gösteren sözlükte hangi anahtar ve \\ndeğerlerin olduğunu görmek için globals() adlı bir \\nfonksiyonu kullanabilirsiniz:\\n\\nglobals()\\nBu fonksiyonu çalıştırdığımızda şuna benzer bir çıktı alırız:\\n\\n{\\'__doc__\\': None, \\'__loader__\\': <class \\'_frozen_importlib.BuiltinImpor\\nter\\'>,\\'__name__\\': \\'__main__\\', \\'__package__\\': None, \\'__builtins__\\':\\n<module \\'builtins\\'>}\\nGördüğünüz gibi, elimizdeki şey gerçekten de bir sözlük. \\nDolayısıyla bir sözlük ile ne yapabilirsek bu sözlükle de\\naynı şeyi yapabiliriz…\\n\\n‘globals’ adlı bu sözlüğün içeriği, o anda global isim\\nalanında bulunan nesnelere göre farklılık gösterecektir. Örneğin:\\n\\nx = 10\\nşeklinde 10 değerine sahip bir x nesnesi tanımladıktan sonra \\nglobals() fonksiyonunu tekrar çalıştırırsanız global isim\\nalanına bu nesnenin de eklenmiş olduğunu görürsünüz.\\n\\nDediğimiz gibi, globals() fonksiyonundan dönen nesne bir sözlüktür. \\nBu sözlüğe, herhangi bir sözlüğe veri ekler gibi değer de\\nekleyebilirsiniz:\\n\\nglobals()[\\'z\\'] = 23\\nBu şekilde global isim alanına z adlı bir değişken eklemiş oldunuz:\\n\\nz\\n\\n23\\nYalnız, Python programlama dili bize bu şekilde global isim alanına\\nnesne ekleme imkanı verse de, biz mecbur değilsek bu yöntemi\\nkullanmaktan kaçınmalıyız. Çünkü bu şekilde sıradışı bir yöntemle\\ndeğişken tanımladığımız için aslında global isim alanını, nerden \\ngeldiğini kestirmenin güç olduğu değerlerle ‘kirletmiş’ oluyoruz.\\n\\nBildiğiniz gibi, Python’da global isim alanı dışında bir de lokal isim \\nlanı bulunur. Lokal isim alanlarının, fonksiyonlara \\n(ve ileride göreceğimiz gibi sınıflara) ait bir isim alanı\\nolduğunu biliyorsunuz. İşte bu isim alanlarına ulaşmak için de \\nlocals() adlı bir fonksiyondan yararlanacağız:\\n\\ndef fonksiyon(param1, param2):\\n    x = 10\\n    print(locals())\\n\\nfonksiyon(10, 20)\\nBu fonksiyonu çalıştırdığınızda şu çıktıyı alacaksınız:\\n\\n{\\'param2\\': 20, \\'param1\\': 10, \\'x\\': 10}\\nGördüğünüz gibi, locals() fonksiyonu gerçekten de bize fonksiyon()\\nadlı fonksiyon içindeki lokal değerleri veriyor.\\n\\nglobals() ve locals() fonksiyonlarının ne işe yaradığını \\nincelediğimize göre exec() fonksiyonunu anlatırken kaldığımız yere \\ndönebiliriz.\\n\\nNe diyorduk?\\n\\nElimizde, değeri 20 olan a adlı bir değişken vardı:\\n\\na = 20\\nexec() fonksiyonu yardımıyla a değişkeninin de içinde yer aldığı \\nmevcut isim alanına müdahale edelim:\\n\\nexec(\\'a = 3\\')\\nBu şekilde a değişkeninin varolan değerini silmiş olduk:\\n\\nprint(a)\\n\\n3\\nDediğimiz gibi, bu tür durumlarda, exec() ile oluşturduğunuz \\ndeğişkenleri global isim alanı yerine farklı bir isim alanına \\ngöndermeyi tercih etmemiz daha uygun olacaktır. Python’da isim\\nalanlarının basit bir sözlük olduğunu öğrendiğimize göre, exec() \\nile oluşturduğumuz değişkenleri global isim alanı yerine nasıl \\nfarklı bir isim alanına göndereceğimizi görebiliriz.\\n\\nÖnce yeni bir isim alanı oluşturalım:\\n\\nia = {}\\nŞimdi exec() ile oluşturacağımız değerleri bu isim alanına \\ngönderebiliriz:\\n\\nexec(\\'a = 3\\', ia)\\nBöylece global isim alanındaki a değişkeninin değerine dokunmamış\\nolduk:\\n\\na\\n\\n20\\nYeni oluşturduğumuz değer ise ia adlı yeni isim alanına gitti:\\n\\nia[\\'a\\']\\n\\n3\\n\\n\"\"\"\\neval(\"a=5\")',\n",
       "  \"eval('5 + 25')\",\n",
       "  \"exec('a = 5')\",\n",
       "  'print(a)',\n",
       "  'a = 20',\n",
       "  \"exec('a = 10')\",\n",
       "  'print(a)',\n",
       "  '\"\"\"\\nBu tür durumlarda, exec() ile oluşturduğunuz\\ndeğişkenleri global isim alanına değil de, \\nfarklı bir isim alanına göndermeyi tercih edebilirsiniz. \\nPeki ama bunu nasıl yapacağız?\\nPython programlama dilinde isim alanları sözlük tipinde bir veridir.\\nÖrneğin global isim alanı basit bir sözlükten ibarettir.\\n\"\"\"\\nglobals()',\n",
       "  'x=10',\n",
       "  \"globals()['z'] = 23\",\n",
       "  'globals',\n",
       "  'globals()'],\n",
       " 'Out': {1: 20,\n",
       "  2: 20,\n",
       "  3: 20.396078054371138,\n",
       "  4: 12,\n",
       "  5: 12,\n",
       "  6: 1,\n",
       "  7: 12,\n",
       "  8: 3.142857142857143,\n",
       "  9: 3,\n",
       "  10: 3,\n",
       "  11: 3.0,\n",
       "  12: 3.1,\n",
       "  13: 3.1429,\n",
       "  15: True,\n",
       "  16: False,\n",
       "  17: False,\n",
       "  18: True,\n",
       "  19: True,\n",
       "  24: True,\n",
       "  25: True,\n",
       "  26: '\\nany()\\nAny kelimesi İngilizcede ‘herhangi bir’ anlamına gelir.\\nİşte any() fonksiyonunun görevi de, bir dizi içindeki \\nbütün değerlerden en az biri True ise True çıktısı vermektir.\\nALL FONKSİYONUNUN TERSİ\\n',\n",
       "  27: False,\n",
       "  28: False,\n",
       "  29: True,\n",
       "  30: True,\n",
       "  31: False,\n",
       "  32: 'istihza',\n",
       "  40: '[',\n",
       "  41: \"'\\\\u015feker'\",\n",
       "  42: \"'şeker'\",\n",
       "  43: False,\n",
       "  44: True,\n",
       "  45: False,\n",
       "  46: '0b1100',\n",
       "  47: '0b1',\n",
       "  48: '0b10',\n",
       "  49: '0b11',\n",
       "  50: '0b100',\n",
       "  51: '0b101',\n",
       "  52: '0b110',\n",
       "  53: '0b111',\n",
       "  54: b'\\x00\\x00\\x00\\x00\\x00\\x00\\x00\\x00\\x00\\x00',\n",
       "  56: b'\\x00\\x00\\x00\\x00\\x00\\x00\\x00\\x00\\x00\\x00',\n",
       "  57: 0,\n",
       "  59: 0,\n",
       "  61: 0,\n",
       "  63: b'devrim',\n",
       "  64: b'\\xc4\\xb1\\xc5\\x9f\\xc4\\xb1k',\n",
       "  65: b'\\x8d\\x9f\\x8dk',\n",
       "  66: b'\\xfd\\xfe\\xfdk',\n",
       "  67: b'\\xc4\\xb1\\xc5\\x9f\\xc4\\xb1k',\n",
       "  68: b'\\xfd\\xfe\\xfdk',\n",
       "  69: b'\\x8d\\x9f\\x8dk',\n",
       "  78: b'???k',\n",
       "  79: b'?eker',\n",
       "  80: b'?',\n",
       "  81: b'',\n",
       "  82: b'&#8364;',\n",
       "  83: b'\\x9feker',\n",
       "  84: b'A\\n\\x0c\\x0b\\x0fB',\n",
       "  86: 105,\n",
       "  89: bytearray(b'Adana'),\n",
       "  91: bytearray(b'Adana'),\n",
       "  92: bytearray(b'Adana'),\n",
       "  93: '\\n',\n",
       "  94: 'A',\n",
       "  95: 'ı',\n",
       "  97: list,\n",
       "  101: (1, 2, 3, 4, 5, 6, 7, 8, 9),\n",
       "  102: tuple,\n",
       "  103: (1, 2, 3, 4, 5, 6, 7, 8, 9),\n",
       "  104: tuple,\n",
       "  106: [1, 2, 3, 4, 5, 6, 7, 8, 9],\n",
       "  107: list,\n",
       "  109: {1, 2, 3, 4, 5, 6, 7, 8, 9},\n",
       "  110: set,\n",
       "  112: (1, 2, 3, 4, 5, 6, 7, 8, 9),\n",
       "  113: tuple,\n",
       "  115: frozenset({1, 2, 3, 4, 5, 6, 7, 8, 9}),\n",
       "  118: (12+0j),\n",
       "  119: complex,\n",
       "  120: (15+0j),\n",
       "  121: (15+2j),\n",
       "  122: 134.0,\n",
       "  123: 12.0,\n",
       "  124: 10,\n",
       "  125: 12,\n",
       "  126: \"\\nBunun dışında bu fonksiyonu, herhangi bir sayma\\nsisteminde temsil edilen bir sayıyı onlu sayma \\nsistemine dönüştürmek için de kullanabiliriz.\\nÖrneğin:\\nint('12', 8)\\n\",\n",
       "  127: 10,\n",
       "  128: 1231,\n",
       "  129: '12',\n",
       "  138: {'a': 1, 'b': 2, 'c': 3},\n",
       "  139: {'a': 1, 'b': 2, 'c': 3},\n",
       "  140: True,\n",
       "  141: False,\n",
       "  143: 97,\n",
       "  144: 305,\n",
       "  145: '0o12',\n",
       "  146: '0x131',\n",
       "  148: 30,\n",
       "  154: {...},\n",
       "  157: <function globals()>},\n",
       " 'get_ipython': <bound method InteractiveShell.get_ipython of <ipykernel.zmqshell.ZMQInteractiveShell object at 0x7f5753e54a00>>,\n",
       " 'exit': <IPython.core.autocall.ZMQExitAutocall at 0x7f5753e57a00>,\n",
       " 'quit': <IPython.core.autocall.ZMQExitAutocall at 0x7f5753e57a00>,\n",
       " '_': <function globals()>,\n",
       " '__': {...},\n",
       " '___': 30,\n",
       " '_i': 'globals',\n",
       " '_ii': \"globals()['z'] = 23\",\n",
       " '_iii': 'x=10',\n",
       " '_i1': '\"\"\"\\nGömülü Fonksiyonlar\\nBu bölümde, daha önce de birkaç kez bahsettiğimiz ve \\nçokça örneğini gördüğümüz bir kavramdan söz edeceğiz.\\nBu kavramın adı ‘gömülü fonksiyonlar’.\\n\\nEsasında biz buraya gelene kadar Python’da pek çok gömülü \\nfonksiyon gördük. Dolayısıyla aslında görünüş olarak bunların\\nneye benzediğini biliyoruz. Örneğin daha önceki derslerimizde\\ngördüğümüz print() gömülü bir fonksiyondur. \\nAynı şekilde open(), type(), len(), pow(), bin() \\nve şimdiye kadar tanıştığımız öteki bütün fonksiyonlar\\nbirer gömülü fonksiyondur.\\n\\nGömülü fonksiyonlar İngilizcede builtin functions olarak \\nadlandırılır. Bu fonksiyonlar gerçekten de dile gömülü\\nvaziyettedirler. Bildiğiniz gibi, bir fonksiyonu kullanabilmemiz \\niçin o fonksiyonu tanımlamamız gerekir. İşte gömülü fonksiyonlar,\\nbizim tanımlamamıza gerek kalmadan, Python geliştiricileri tarafından \\nönceden tanımlanıp dile gömülmüş ve hizmetimize sunulmuş faydalı\\nbirtakım araçlardır.\\n\\nİşte bu bölümde biz de bu gömülü fonksiyonları tek tek ve\\nayrıntılı olarak inceleyeceğiz. Dediğimiz gibi, bunlardan \\nbir kısmını halihazırda görmüştünüz. Ama biz bütünlük\\naçısından, önceden ele almış olduğumuz bu fonksiyonlara \\nda kısaca değinmeden geçmeyeceğiz. Böylelikle hem yeni \\nfonksiyonlar öğrenmiş olacağız hem de önceden öğrendiğimiz \\nfonksiyonlarla birlikte yeni fonksiyonları da derli toplu \\nbir şekilde görme imkanımız olacak.\\n\\nBu bölümde elbette birtakım fonksiyonları salt art arda \\nsıralamakla yetinmeyeceğiz. Python’daki gömülü fonksiyonları\\nincelerken bir yandan da Python programlama dilindeki çok\\nönemli bazı kavramları ele alacağız.\\n\\nİlk olarak abs() adlı bir fonksiyonla başlıyoruz gömülü \\nfonksiyonları incelemeye…\\n\\n\\nabs()\\nİngilizcede ‘mutlak’ anlamına gelen absolute adlı bir \\nkelime bulunur. İşte bu fonksiyonun adı da bu kelimeden \\ngelir. Fonksiyonumuzun görevi de isminin anlamına yakındır.\\nabs() fonksiyonunu bir sayının mutlak değerini elde etmek \\niçin kullanıyoruz.\\n\\n\\nPeki ‘mutlak değer’ ne anlama geliyor. Esasında siz bu \\nkavrama matematik derslerinden aşinasınız. Ama bilmeyenler\\nveya unutmuş olanlar için tekrar edelim. ‘Mutlak değer’\\nbir sayının 0’a olan uzaklığıdır. Örneğin 20 sayısının\\n0 sayısına olan uzaklığı 20’dir. Dolayısıyla 20 sayısının\\nmutlak değeri 20’dir. Aynı şekilde -20 sayısının da 0\\nsayısına uzaklığı 20’dir. Yani, -20 sayısının da mutlak \\ndeğeri 20’dir.\\n\\n\\nİşte abs() fonksiyonu bize bir sayının mutlak değerinin\\nne olduğunu söyler:\\nMutlak değer kavramı yalnızca tamsayılar ve kayan \\nnoktalı sayılar için değil, aynı zamanda karmaşık \\nsayılar için de geçerlidir. Dolayısıyla abs()\\nfonksiyonunu kullanarak karmaşık sayıların da\\nmutlak değerini hesaplayabiliriz:\\nGördüğünüz gibi bu fonksiyon yalnızca tek bir parametre\\nalıyor ve bu parametrenin mutlak değerini döndürüyor.\\n\"\"\"\\nabs(-20)',\n",
       " '_1': 20,\n",
       " '_i2': 'abs(20)',\n",
       " '_2': 20,\n",
       " '_i3': 'abs(20+4j)',\n",
       " '_3': 20.396078054371138,\n",
       " '_i4': '\"\"\"\\nround()\\nround() fonksiyonu bir sayıyı belli ölçütlere\\ngöre yukarı veya aşağı doğru yuvarlamamızı sağlar.\\nBasit birkaç örnek verelim:\\n\"\"\"\\nround(12,4)',\n",
       " '_4': 12,\n",
       " '_i5': 'round(12,7)',\n",
       " '_5': 12,\n",
       " '_i6': '\"\"\"\\nGördüğünüz gibi bu fonksiyon, kayan noktalı sayıları \\nen yakın tam sayıya doğru yuvarlıyor.\\n\\nAncak burada dikkat etmemiz gereken bir nokta var.\\n\\nŞu örnekleri bir inceleyelim:\\n\"\"\"\\nround(1,5)',\n",
       " '_6': 1,\n",
       " '_i7': 'round(12.5)',\n",
       " '_7': 12,\n",
       " '_i8': '\"\"\"\\nGördüğünüz gibi, fonksiyonumuz 1.5 sayısını yukarı doğru, \\n12.5 sayısını ise aşağı doğru yuvarladı. Bunun sebebi,\\nkayan noktalı bir sayının üst ve alt tam sayılara olan \\nuzaklığının birbirine eşit olduğu durumlarda Python’ın\\nçift sayıya doğru yuvarlama yapmayı tercih etmesidir.\\nMesela yukarıdaki örneklerde 1.5 sayısı hem 1 sayısına,\\nhem de 2 sayısına eşit uzaklıkta bulunuyor. İşte Python\\nbu durumda, bir çift sayı olan 2 sayısına doğru yuvarlamayı\\ntercih edecektir.\\n\\nround() fonksiyonu toplam iki parametre alır. İlk parametre,\\nyuvarlanacak sayının kendisidir. Yuvarlama hassasiyetini \\nbelirlemek için ise ikinci bir parametreden yararlanabiliriz.\\n\\nÖrneğin 22 sayısını 7’ye böldüğümüzde normalde şöyle bir \\nçıktı elde ederiz:\\n\"\"\"\\n22/7',\n",
       " '_8': 3.142857142857143,\n",
       " '_i9': '\"\"\"\\nround() fonksiyonunu tek parametre ile \\nkullandığımızda bu fonksiyon yukarıdaki\\nsayıyı şu şekilde yuvarlayacaktır:\\n\"\"\"\\nround(22/7)',\n",
       " '_9': 3,\n",
       " '_i10': '\"\"\"\\nİşte biz round() fonksiyonuna ikinci bir parametre daha\\nvererek, yuvarlama hassasiyetini kontrol edebiliriz.\\n\\nAşağıdaki örnekleri dikkatlice inceleyin:\\n\"\"\"\\nround(22/7)',\n",
       " '_10': 3,\n",
       " '_i11': 'round(22/7,0)',\n",
       " '_11': 3.0,\n",
       " '_i12': 'round(22/7,1)',\n",
       " '_12': 3.1,\n",
       " '_i13': 'round(22/7,4)',\n",
       " '_13': 3.1429,\n",
       " '_i14': '\"\"\"\\nall()\\n\\nAll kelimesi Türkçede ‘hepsi’ anlamına gelir.\\nBu fonksiyonun görevi de bu anlamı çağrıştırır.\\nall() fonksiyonunun görevi, bir dizi içinde bulunan \\nbütün değerler True ise True değeri, eğer bu değerlerden\\nherhangi biri False ise de False değeri döndürmektir.\\n\\nÖrneğin elimizde şöyle bir liste olduğunu varsayalım:\\n\"\"\"\\nliste = [1, 2, 3, 4]',\n",
       " 'liste': [1, 2, 3, 4, 5, 6, 7, 8, 9],\n",
       " '_i15': 'all(liste)',\n",
       " '_15': True,\n",
       " '_i16': '\"\"\"\\nBildiğiniz gibi, 0 hariç bütün sayıların bool değeri True’dur. \\nYukarıdaki listede False değeri verebilecek herhangi bir değer \\nbulunmadığından, all() fonksiyonu bu liste için True değerini \\nveriyor. Bir de şuna bakalım:\\n\"\"\"\\nliste = [0, 1, 2, 3, 4]\\nall(liste)',\n",
       " '_16': False,\n",
       " '_i17': '\"\"\"\\nDediğimiz gibi, all() fonksiyonu ancak dizi içindeki bütün \\ndeğerlerin bool değeri True ise True çıktısı verecektir.\\n\\nSon bir örnek daha verelim:\\n\"\"\"\\nliste = [\\'ahmet\\', \\'mehmet\\', \\'\\']\\nall(liste)',\n",
       " '_17': False,\n",
       " '_i18': '\"\"\"\\nListede False değerine sahip bir boş karakter dizisi bulunduğu\\niçin all() fonksiyonu False çıktısı veriyor.\\n\\nBu fonksiyonu her türlü kodun bool değerlerini test etmek için \\nkullanabilirsiniz. Mesela bu fonksiyonu kullanarak, bir nesnenin\\nlistelenen özelliklerin hepsine sahip olup olmadığını \\ndenetleyebilirsiniz:\\n\"\"\"\\na = 3\\nt1 = a == 3         #sayı 3 mü?\\nt2 = a < 4          #sayı 4\\'ten küçük mü?\\nt3 = a % 2 == 1     #sayı bir tek sayı mı?\\nall([t1, t2, t3])   #sayı bu özelliklerin hepsine sahip mi?',\n",
       " 'a': 10,\n",
       " 't1': True,\n",
       " 't2': True,\n",
       " 't3': True,\n",
       " '_18': True,\n",
       " '_i19': '\"\"\"\\nListede False değerine sahip bir boş karakter dizisi bulunduğu\\niçin all() fonksiyonu False çıktısı veriyor.\\n\\nBu fonksiyonu her türlü kodun bool değerlerini test etmek için \\nkullanabilirsiniz. Mesela bu fonksiyonu kullanarak, bir nesnenin\\nlistelenen özelliklerin hepsine sahip olup olmadığını \\ndenetleyebilirsiniz:\\n\"\"\"\\na = 3\\nt1 = a == 3         #sayı 3 mü?\\nt2 = a < 4          #sayı 4\\'ten küçük mü?\\nt3 = a % 2 == 1     #sayı bir tek sayı mı?\\nall([t1, t2, t3])   #sayı bu özelliklerin hepsine sahip mi?',\n",
       " '_19': True,\n",
       " '_i20': 'a = 3\\nt1 = a == 3   \\nall(t1)',\n",
       " '_i21': 'a = 3\\nt1 = a == 3   \\nt2 = a < 4   \\nall(t1)',\n",
       " '_i22': 'a = 3\\nt1 = a == 3   \\nt2 = a < 4   \\nall(t1,t2)',\n",
       " '_i23': 'a = 3\\nt1 = a == 3   \\nt2 = a < 4   \\nt3 = a % 2 == 1 \\nall(t1,t2,t3)',\n",
       " '_i24': '\"\"\"\\nListede False değerine sahip bir boş karakter dizisi bulunduğu\\niçin all() fonksiyonu False çıktısı veriyor.\\n\\nBu fonksiyonu her türlü kodun bool değerlerini test etmek için \\nkullanabilirsiniz. Mesela bu fonksiyonu kullanarak, bir nesnenin\\nlistelenen özelliklerin hepsine sahip olup olmadığını \\ndenetleyebilirsiniz:\\n\"\"\"\\na = 3\\nt1 = a == 3         #sayı 3 mü?\\nt2 = a < 4          #sayı 4\\'ten küçük mü?\\nt3 = a % 2 == 1     #sayı bir tek sayı mı?\\nall([t1, t2, t3])   #sayı bu özelliklerin hepsine sahip mi?',\n",
       " '_24': True,\n",
       " '_i25': 'a = 3\\nt1 = a == 3   \\nt2 = a < 4   \\nt3 = a % 2 == 1 \\nall([t1])',\n",
       " '_25': True,\n",
       " '_i26': '\"\"\"\\nany()\\nAny kelimesi İngilizcede ‘herhangi bir’ anlamına gelir.\\nİşte any() fonksiyonunun görevi de, bir dizi içindeki \\nbütün değerlerden en az biri True ise True çıktısı vermektir.\\nALL FONKSİYONUNUN TERSİ\\n\"\"\"',\n",
       " '_26': '\\nany()\\nAny kelimesi İngilizcede ‘herhangi bir’ anlamına gelir.\\nİşte any() fonksiyonunun görevi de, bir dizi içindeki \\nbütün değerlerden en az biri True ise True çıktısı vermektir.\\nALL FONKSİYONUNUN TERSİ\\n',\n",
       " '_i27': '\"\"\"\\nany()\\nAny kelimesi İngilizcede ‘herhangi bir’ anlamına gelir.\\nİşte any() fonksiyonunun görevi de, bir dizi içindeki \\nbütün değerlerden en az biri True ise True çıktısı vermektir.\\nALL FONKSİYONUNUN TERSİ\\n\"\"\"\\nliste = [0, 1, 2, 3, 4]\\nall(liste)',\n",
       " '_27': False,\n",
       " '_i28': \"liste = ['ahmet', 'mehmet', '']\\nall(liste)\",\n",
       " '_28': False,\n",
       " '_i29': '\"\"\"\\nany()\\nAny kelimesi İngilizcede ‘herhangi bir’ anlamına gelir.\\nİşte any() fonksiyonunun görevi de, bir dizi içindeki \\nbütün değerlerden en az biri True ise True çıktısı vermektir.\\nALL FONKSİYONUNUN TERSİ\\n\"\"\"\\nliste = [0, 1, 2, 3, 4]\\nany(liste)',\n",
       " '_29': True,\n",
       " '_i30': \"liste = ['ahmet', 'mehmet', '']\\nany(liste)\",\n",
       " '_30': True,\n",
       " '_i31': \"l = ['', 0, [], (), set(), dict()]\\nany(l)\",\n",
       " 'l': ['', 0, [], (), set(), {}],\n",
       " '_31': False,\n",
       " '_i32': '\"\"\"\\nascii()\\nBu fonksiyon, bir nesnenin ekrana basılabilir\\nhalini verir bize. Dilerseniz bu fonksiyonun yaptığı \\nişi tanımlamak yerine bunu bir örnek üzerinden anlatmaya çalışalım:\\n\"\"\"\\na = \\'istihza\\'\\nprint(ascii(a))\\n\\n\\'istihza\\'',\n",
       " '_32': 'istihza',\n",
       " '_i33': '\"\"\"\\nBu fonksiyonun, print() fonksiyonundan farklı olarak,\\nçıktıya tırnak işaretlerini de eklediğine dikkat edin.\\n\\nascii() fonksiyonunun tam olarak ne yaptığını daha iyi \\nanlamak için herhalde şu örnek daha faydalı olacaktır.\\n\\nDikkatlice bakın:\\n\"\"\"\\nprint(\\'\\\\n\\')',\n",
       " '_i34': '\"\"\"\\nBu komutu verdiğimizde, n kaçış dizisinin etkisiyle\\nyeni satıra geçileceğini biliyorsunuz.\\n\\nBir de şuna bakın:\\n\"\"\"\\nprint(ascii(\\'\\\\n!\\'))',\n",
       " '_i35': '\"\"\"\\nBu komutu verdiğimizde, n kaçış dizisinin etkisiyle\\nyeni satıra geçileceğini biliyorsunuz.\\n\\nBir de şuna bakın:\\n\"\"\"\\nprint(ascii(\\'\\\\n\\'))',\n",
       " '_i36': '\"\"\"\\nGördüğünüz gibi, ascii() fonksiyonu, satır başı kaçış \\ndizisinin görevini yapmasını sağlamak yerine bu kaçış \\ndizisinin ekrana basılabilir halini veriyor bize.\\n\\n\\nAyrıca bu fonksiyon, karakter dizileri içindeki Türkçe\\nkarakterlerin de UNICODE temsillerini döndürür. Örneğin:\\n\"\"\"\\na = \\'ışık\\'\\nprint(ascii(a))',\n",
       " '_i37': 'a=\"Devrim Tunçer\"\\nprint(ascii(a))',\n",
       " '_i38': '\"\"\"\\nGördüğünüz gibi, ascii() fonksiyonu ASCII olmayan karakterlerle \\nkarşılaştığında bunların karakter temsilleri yerine UNICODE\\ntemsillerini (veya onaltılık sayma düzenindeki karşılıklarını)\\nveriyor.\\n\\nSon olarak şu örneğe bakalım:\\n\"\"\"\\nliste = [\\'elma\\', \\'armut\\', \\'erik\\']\\ntemsil = ascii(liste)\\nprint(temsil)',\n",
       " 'temsil': \"['elma', 'armut', 'erik']\",\n",
       " '_i39': '\"\"\"\\nBurada listemiz ascii() fonksiyonuna parametre olarak \\nverildikten sonra artık liste olma özelliğini yitirip \\nbir karakter dizisi haline gelir. Bunu denetleyelim:\\n\"\"\"\\nprint(type(temsil))',\n",
       " '_i40': 'temsil[0]',\n",
       " '_40': '[',\n",
       " '_i41': '\"\"\"\\nrepr()\\nrepr() fonksiyonunun yaptığı iş, biraz önce gördüğümüz ascii() \\nfonksiyonunun yaptığı işe çok benzer. Bu iki fonksiyon, ASCII\\nolmayan karakterlere muameleleri açısından birbirinden ayrılır.\\n\\nHatırlarsanız ascii() fonksiyonu ASCII olmayan karakterlerle \\nkarşılaştığında bunların UNICODE (veya onaltılık) temsillerini\\ngösteriyordu\\n\"\"\"\\nascii(\"şeker\")',\n",
       " '_41': \"'\\\\u015feker'\",\n",
       " '_i42': '\"\"\"\\nrepr() fonksiyonu ise ASCII olmayan karakterlerle karşılaşsa bile,\\nbize çıktı olarak bunların da karakter karşılıklarını gösterir:\\n\"\"\"\\nrepr(\"şeker\")',\n",
       " '_42': \"'şeker'\",\n",
       " '_i43': '\"\"\"\\nbool()\\nBu fonksiyon bir nesnenin bool değerini verir:\\n\"\"\"\\nbool(0)',\n",
       " '_43': False,\n",
       " '_i44': 'bool(1)',\n",
       " '_44': True,\n",
       " '_i45': 'bool([])',\n",
       " '_45': False,\n",
       " '_i46': '\"\"\"\\nbin()\\nBu fonksiyon, bir sayının ikili düzendeki karşılığını verir:\\nBu fonksiyonun verdiği çıktının bir sayı değil,\\nkarakter dizisi olduğuna dikkat etmelisiniz.\\n\"\"\"\\nbin(12)',\n",
       " '_46': '0b1100',\n",
       " '_i47': 'bin(1)',\n",
       " '_47': '0b1',\n",
       " '_i48': 'bin(2)',\n",
       " '_48': '0b10',\n",
       " '_i49': 'bin(3)',\n",
       " '_49': '0b11',\n",
       " '_i50': 'bin(4)',\n",
       " '_50': '0b100',\n",
       " '_i51': 'bin(5)',\n",
       " '_51': '0b101',\n",
       " '_i52': 'bin(6)',\n",
       " '_52': '0b110',\n",
       " '_i53': 'bin(7)',\n",
       " '_53': '0b111',\n",
       " '_i54': '\"\"\"\\nbytes()\\nBu fonksiyon bytes türünde nesneler oluşturmak için kullanılır. \\nBu fonksiyonu ‘bayt’ adlı veri tipini incelerken ayrıntılı olarak \\nele almıştık. Gelin isterseniz burada da bu fonksiyona şöyle bir\\ndeğinelim.\\n\\nDediğimiz gibi, bytes() adlı fonksiyon, bytes türünde veriler\\noluşturmaya yarar. Bu fonksiyon işlev olarak, daha önce öğrendiğimiz \\nlist(), str(), int(), set(), dict() gibi fonksiyonlara çok benzer. \\nTıpkı bu fonksiyonlar gibi, bytes() fonksiyonunun görevi de farklı\\nveri tiplerini ‘bayt’ adlı veri tipine dönüştürmektir.\\n\\nBu fonksiyon, kendisine verilen parametrelerin türüne bağlı olarak \\nbirbirinden farklı sonuçlar ortaya çıkarır. Örneğin eğer bu fonksiyona\\nparametre olarak bir tam sayı verecek olursanız, bu fonksiyon size\\no tam sayı miktarınca bir bayt nesnesi verecektir. Gelin isterseniz\\nbu durumu örnekler üzerinde göstermeye çalışalım:\\n\"\"\"\\nbytes(10)',\n",
       " '_54': b'\\x00\\x00\\x00\\x00\\x00\\x00\\x00\\x00\\x00\\x00',\n",
       " '_i55': 'a=bytes(10)',\n",
       " '_i56': 'a',\n",
       " '_56': b'\\x00\\x00\\x00\\x00\\x00\\x00\\x00\\x00\\x00\\x00',\n",
       " '_i57': 'a[0]',\n",
       " '_57': 0,\n",
       " '_i58': 'a(7)',\n",
       " '_i59': 'a[7]',\n",
       " '_59': 0,\n",
       " '_i60': 'a[10]',\n",
       " '_i61': 'a[9]',\n",
       " '_61': 0,\n",
       " '_i62': '\"\"\"\\nGördüğünüz gibi, bytes(10) komutuyla oluşturduğumuz a \\ndeğişkeni içinde toplam 10 adet bayt var ve bu baytların her \\nbirinin değeri 0.\\n\\nYukarıda, bytes() fonksiyonuna bir tam sayı değerli \\nparametre verdiğimizde nasıl bir sonuç alacağımızı öğrendik.\\nPeki biz bu fonksiyona parametre olarak bir karakter dizisi \\nverirsek ne olur?\\n\\nHemen görelim:\\n\"\"\"\\nbytes(\"devrim\")',\n",
       " '_i63': '\"\"\"\\nBu fonksiyona karakter dizilerini doğrudan parametre olarak\\nveremeyiz. Eğer verirsek yukarıdaki gibi bir hata alırız.\\nPeki acaba bu hatayı almamızın nedeni ne olabilir?\\n\\nDediğimiz gibi, bytes() fonksiyonu, çeşitli veri tiplerini \\nbayta dönüştürmeye yarar. Ancak bildiğiniz gibi,\\nbayta dönüştürme işlemi her kod çözücü tarafından\\nfarklı biçimde yapılır. Örneğin:\\n\"\"\"\\n\"devrim\".encode(\"utf-8\")',\n",
       " '_63': b'devrim',\n",
       " '_i64': '\"\"\"\\nBu fonksiyona karakter dizilerini doğrudan parametre olarak\\nveremeyiz. Eğer verirsek yukarıdaki gibi bir hata alırız.\\nPeki acaba bu hatayı almamızın nedeni ne olabilir?\\n\\nDediğimiz gibi, bytes() fonksiyonu, çeşitli veri tiplerini \\nbayta dönüştürmeye yarar. Ancak bildiğiniz gibi,\\nbayta dönüştürme işlemi her kod çözücü tarafından\\nfarklı biçimde yapılır. Örneğin:\\n\"\"\"\\n\"ışık\".encode(\"utf-8\")',\n",
       " '_64': b'\\xc4\\xb1\\xc5\\x9f\\xc4\\xb1k',\n",
       " '_i65': \"'ışık'.encode('cp857')\",\n",
       " '_65': b'\\x8d\\x9f\\x8dk',\n",
       " '_i66': \"'ışık'.encode('cp1254')\",\n",
       " '_66': b'\\xfd\\xfe\\xfdk',\n",
       " '_i67': '\"\"\"\\nDolayısıyla, bytes() fonksiyonunun bir karakter dizisini\\nbayta çevirirken nasıl davranması gerektiğini anlayabilmesi\\niçin, bayta dönüştürme işlemini hangi kod çözücü ile yapmak\\nistediğimizi açıkça belirtmemiz gerekir:\\n\"\"\"\\nbytes(\"ışık\",\"utf-8\")',\n",
       " '_67': b'\\xc4\\xb1\\xc5\\x9f\\xc4\\xb1k',\n",
       " '_i68': \"bytes('ışık', 'cp1254')\",\n",
       " '_68': b'\\xfd\\xfe\\xfdk',\n",
       " '_i69': \"bytes('ışık', 'cp857')\",\n",
       " '_69': b'\\x8d\\x9f\\x8dk',\n",
       " '_i70': '\"\"\"\\nGördüğünüz gibi, bytes() fonksiyonuna parametre olarak bir karakter \\ndizisi verebilmek için, bu karakter dizisi ile birlikte bir\\nkod çözücü de belirtmemiz gerekiyor. Böylece bytes() fonksiyonu\\nkendisine verdiğimiz karakter dizisini, belirttiğimiz kod\\nçözücünün kurallarına göre bayta dönüştürüyor.\\n\\nBu arada, çıktıda görünen ‘b’ harflerinin, elimizdeki verinin \\nbir bayt olduğunu gösteren bir işaret olduğunu biliyorsunuz.\\n\\nAyrıca, bytes() fonksiyonuna verdiğimiz ikinci parametrenin \\nisminin encoding olduğunu ve bu parametreyi isimli bir \\nparametre olarak da kullanabileceğimizi belirtelim:\\n\"\"\"\\nbytes(\"devrim\",encoding(\"ascii\"))',\n",
       " '_i71': '\"\"\"\\nGördüğünüz gibi, bytes() fonksiyonuna parametre olarak bir karakter \\ndizisi verebilmek için, bu karakter dizisi ile birlikte bir\\nkod çözücü de belirtmemiz gerekiyor. Böylece bytes() fonksiyonu\\nkendisine verdiğimiz karakter dizisini, belirttiğimiz kod\\nçözücünün kurallarına göre bayta dönüştürüyor.\\n\\nBu arada, çıktıda görünen ‘b’ harflerinin, elimizdeki verinin \\nbir bayt olduğunu gösteren bir işaret olduğunu biliyorsunuz.\\n\\nAyrıca, bytes() fonksiyonuna verdiğimiz ikinci parametrenin \\nisminin encoding olduğunu ve bu parametreyi isimli bir \\nparametre olarak da kullanabileceğimizi belirtelim:\\n\"\"\"\\nbytes(\"istiizha\",encoding(\"ascii\"))',\n",
       " '_i72': '\"\"\"\\nGördüğünüz gibi, bytes() fonksiyonuna parametre olarak bir karakter \\ndizisi verebilmek için, bu karakter dizisi ile birlikte bir\\nkod çözücü de belirtmemiz gerekiyor. Böylece bytes() fonksiyonu\\nkendisine verdiğimiz karakter dizisini, belirttiğimiz kod\\nçözücünün kurallarına göre bayta dönüştürüyor.\\n\\nBu arada, çıktıda görünen ‘b’ harflerinin, elimizdeki verinin \\nbir bayt olduğunu gösteren bir işaret olduğunu biliyorsunuz.\\n\\nAyrıca, bytes() fonksiyonuna verdiğimiz ikinci parametrenin \\nisminin encoding olduğunu ve bu parametreyi isimli bir \\nparametre olarak da kullanabileceğimizi belirtelim:\\n\"\"\"\\nbytes(\"istizha\",encoding(\"ascii\"))',\n",
       " '_i73': '\"\"\"\\nBu noktada size şöyle bir soru sorayım: \\nAcaba bytes() fonksiyonuna ilk parametre \\nolarak verdiğimiz karakter dizisi, ikinci \\nparametrede belirttiğimiz kod çözücü tarafından tanınmazsa ne olur?\\n\\nCevabı tahmin edebilirsiniz: Böyle bir durumda \\nelbette Python bize bir hata mesajı gösterir:\\n\\n\"\"\"\\nbytes(\\'şeker\\', \\'ascii\\')',\n",
       " '_i74': '\"\"\"\\nBu noktada size şöyle bir soru sorayım: \\nAcaba bytes() fonksiyonuna ilk parametre \\nolarak verdiğimiz karakter dizisi, ikinci \\nparametrede belirttiğimiz kod çözücü tarafından tanınmazsa ne olur?\\n\\nCevabı tahmin edebilirsiniz: Böyle bir durumda \\nelbette Python bize bir hata mesajı gösterir:\\n\\n\"\"\"\\nbytes(\\'şeker\\', \\'ascii\\')',\n",
       " '_i75': 'bytes(\\'€\\', \\'cp857\\')\\n\"\"\"\\nş’ harfi ‘ASCII’ karakter kümesinde; ‘€’ işareti ise ‘CP857’ \\nadlı karakter kümesinde tanımlanmamış birer karakter olduğu \\niçin, ilgili kod çözücüler bu karakterleri çözüp bayta \\ndönüştüremiyor. Yazdığımız kodların bu tür durumlarda \\ntamamen çökmesini engellemek için, önceki derslerimizde de \\nçeşitli vesilelerle öğrenmiş olduğumuz errors adlı bir parametreden \\nyararlanabiliriz:\\n\"\"\"\\nbytes(\\'ışık\\', encoding=\\'ascii\\', errors=\\'replace\\')',\n",
       " '_i76': 'bytes(\\'€\\', \\'cp857\\')\\n\"\"\"\\nş’ harfi ‘ASCII’ karakter kümesinde; ‘€’ işareti ise ‘CP857’ \\nadlı karakter kümesinde tanımlanmamış birer karakter olduğu \\niçin, ilgili kod çözücüler bu karakterleri çözüp bayta \\ndönüştüremiyor. Yazdığımız kodların bu tür durumlarda \\ntamamen çökmesini engellemek için, önceki derslerimizde de \\nçeşitli vesilelerle öğrenmiş olduğumuz errors adlı bir parametreden \\nyararlanabiliriz:\\n\"\"\"\\nbytes(\\'şeker\\', encoding=\\'ascii\\', errors=\\'replace\\')',\n",
       " '_i77': 'bytes(\\'€\\', \\'cp857\\')\\n\"\"\"\\nş’ harfi ‘ASCII’ karakter kümesinde; ‘€’ işareti ise ‘CP857’ \\nadlı karakter kümesinde tanımlanmamış birer karakter olduğu \\niçin, ilgili kod çözücüler bu karakterleri çözüp bayta \\ndönüştüremiyor. Yazdığımız kodların bu tür durumlarda \\ntamamen çökmesini engellemek için, önceki derslerimizde de \\nçeşitli vesilelerle öğrenmiş olduğumuz errors adlı bir parametreden \\nyararlanabiliriz:\\n\"\"\"\\nbytes(\\'€\\', encoding=\\'cp857\\', errors=\\'ignore\\')',\n",
       " '_i78': '\"\"\"\\nş’ harfi ‘ASCII’ karakter kümesinde; ‘€’ işareti ise ‘CP857’ \\nadlı karakter kümesinde tanımlanmamış birer karakter olduğu \\niçin, ilgili kod çözücüler bu karakterleri çözüp bayta \\ndönüştüremiyor. Yazdığımız kodların bu tür durumlarda \\ntamamen çökmesini engellemek için, önceki derslerimizde de \\nçeşitli vesilelerle öğrenmiş olduğumuz errors adlı bir parametreden \\nyararlanabiliriz:\\n\"\"\"\\nbytes(\\'ışık\\', encoding=\\'ascii\\', errors=\\'replace\\')',\n",
       " '_78': b'???k',\n",
       " '_i79': \"bytes('şeker', encoding='ascii', errors='replace')\",\n",
       " '_79': b'?eker',\n",
       " '_i80': \"bytes('€', encoding='cp857', errors='replace')\",\n",
       " '_80': b'?',\n",
       " '_i81': \"bytes('€', encoding='cp857', errors='ignore')\",\n",
       " '_81': b'',\n",
       " '_i82': \"bytes('€', encoding='cp857', errors='xmlcharrefreplace')\",\n",
       " '_82': b'&#8364;',\n",
       " '_i83': \"bytes('şeker', encoding='cp857', errors='xmlcharrefreplace')\",\n",
       " '_83': b'\\x9feker',\n",
       " '_i84': '\"\"\"\\nGördüğünüz gibi, errors parametresine verdiğimiz çeşitli değerler\\nyardımıyla, bytes() fonksiyonunun, encoding parametresinde belirtilen\\nkod çözücü ile çözülemeyen karakterlerle karşılaştığında nasıl\\ndavranacağını belirleyebiliyoruz.\\n\\n\\nerrors parametresine verdiğimiz bütün bu değerleri önceki\\nderslerimizde öğrenmiştik. Dolayısıyla yukarıda gösterdiğimiz\\nkodları rahatlıkla anlayabilecek kadar Python bilgisine sahibiz.\\n\\nSon olarak, bytes() fonksiyonuna parametre olarak 0-256 arası\\nsayılardan oluşan diziler de verebiliriz:\\nBu yapı içinde Python, 0 ile 128 arası sayılar için standart \\nASCII tablosunu, 128 ile 256 arası sayılar için ise Latin-1 \\nkarakter kümesini temel alarak sayıları birer bayta dönüştürecektir.\\n\"\"\"\\nbytes([65, 10, 12, 11, 15, 66])',\n",
       " '_84': b'A\\n\\x0c\\x0b\\x0fB',\n",
       " '_i85': '\"\"\"\\nbytearray()\\nBildiğiniz gibi baytlar değiştirilemeyen bir veri tipidir. \\nDolayısıyla bir bayt veri tipi üzerinde herhangi bir değişiklik\\nyapamayız. Örneğin bir baytın herhangi bir öğesini başka bir \\ndeğerle değiştiremeyiz:\\n\"\"\"\\na = bytes(\\'istihza\\', \\'ascii\\')',\n",
       " '_i86': 'a[0]',\n",
       " '_86': 105,\n",
       " '_i87': 'a[0]=106',\n",
       " '_i88': '\"\"\"\\nAma eğer hem baytlarla çalışmak, hem de bu baytların \\nüzerinde değişiklik yapabilmek isterseniz baytlar \\nyerine bayt dizileri ile çalışabilirsiniz. İşte \\nbunun için bytearray() adlı bir fonksiyondan yararlanıyoruz.\\n\\nYaptıkları iş bakımından bytearray() ve bytes()\\nfonksiyonları birbirlerine çok benzer. Bu ikisi \\narasındaki tek fark, bytearray() ile oluşturulan \\nveri tipinin, bytes() ile oluşturulan veri tipinin\\naksine, değiştirilebilir nitelikte olmasıdır:\\n\"\"\"\\na = bytearray(\\'adana\\', \\'ascii\\')',\n",
       " '_i89': 'a',\n",
       " '_89': bytearray(b'Adana'),\n",
       " '_i90': 'a[0] = 65',\n",
       " '_i91': 'a',\n",
       " '_91': bytearray(b'Adana'),\n",
       " '_i92': 'a',\n",
       " '_92': bytearray(b'Adana'),\n",
       " '_i93': '\"\"\"\\nchr()\\nBu fonksiyon, kendisine parametre olarak verilen bir tam \\nsayının karakter karşılığını döndürür. Örneğin:\\n\"\"\"\\nchr(10)',\n",
       " '_93': '\\n',\n",
       " '_i94': 'chr(65)',\n",
       " '_94': 'A',\n",
       " '_i95': '\"\"\"\\nBu fonksiyon sayıları karakterlere dönüştürürken \\nASCII sistemini değil, UNICODE sistemini temel alır.\\nDolayısıyla bu fonksiyon ile 128 (veya 255) üstü sayıları\\nda dönüştürebiliriz. Örneğin:\\n\"\"\"\\nchr(305)',\n",
       " '_95': 'ı',\n",
       " '_i96': '\"\"\"\\nlist()\\nBu fonksiyon iki farklı amaç için kullanılabilir:\\n\\nListe tipinde bir veri oluşturmak\\n\\nFarklı veri tiplerini liste adlı veri tipine dönüştürmek\\n\\nBirinci amaç için bu fonksiyonu şu şekilde kullanıyoruz:\\n\\n\\n\"\"\"\\nliste=list()',\n",
       " '_i97': '\"\"\"\\nlist()\\nBu fonksiyon iki farklı amaç için kullanılabilir:\\n\\nListe tipinde bir veri oluşturmak\\n\\nFarklı veri tiplerini liste adlı veri tipine dönüştürmek\\n\\nBirinci amaç için bu fonksiyonu şu şekilde kullanıyoruz:\\n\\n\\n\"\"\"\\nliste=list()\\ntype(liste)',\n",
       " '_97': list,\n",
       " '_i98': '\"\"\"\\nlist()\\nBu fonksiyon iki farklı amaç için kullanılabilir:\\n\\nListe tipinde bir veri oluşturmak\\n\\nFarklı veri tiplerini liste adlı veri tipine dönüştürmek\\n\\nBirinci amaç için bu fonksiyonu şu şekilde kullanıyoruz:\\n\\n\\n\"\"\"\\nliste=list()\\nprint(liste)',\n",
       " '_i99': 'liste=list(range(1,10))\\nprint(liste)',\n",
       " '_i100': 'demet=tuple(range(1,10))',\n",
       " 'demet': (1, 2, 3, 4, 5, 6, 7, 8, 9),\n",
       " '_i101': 'demet',\n",
       " '_101': (1, 2, 3, 4, 5, 6, 7, 8, 9),\n",
       " '_i102': 'demet\\ntype(demet)',\n",
       " '_102': tuple,\n",
       " '_i103': 'demet',\n",
       " '_103': (1, 2, 3, 4, 5, 6, 7, 8, 9),\n",
       " '_i104': 'type(demet)',\n",
       " '_104': tuple,\n",
       " '_i105': 'liste=list(demet)',\n",
       " '_i106': 'liste',\n",
       " '_106': [1, 2, 3, 4, 5, 6, 7, 8, 9],\n",
       " '_i107': 'type(liste)',\n",
       " '_107': list,\n",
       " '_i108': '\"\"\"\\nset()\\nset() fonksiyonu list() fonksiyonuna çok benzer. \\nBu fonksiyon da tıpkı list() fonksiyonu gibi, veri\\ntipleri arasında dönüştürme işlemleri gerçekleştirmek \\niçin kullanılabilir. set() fonksiyonunun görevi farklı \\nveri tiplerini kümeye dönüştürmektir:\\n\"\"\"\\nküme=set(demet)',\n",
       " 'küme': {1, 2, 3, 4, 5, 6, 7, 8, 9},\n",
       " '_i109': 'küme',\n",
       " '_109': {1, 2, 3, 4, 5, 6, 7, 8, 9},\n",
       " '_i110': 'type(küme)',\n",
       " '_110': set,\n",
       " '_i111': '\"\"\"\\ntuple()\\ntuple() fonksiyonu da, tıpkı list(), set() ve benzerleri \\ngibi bir dönüştürücü fonksiyondur. Bu fonksiyon farklı veri \\ntiplerini demete dönüştürür:\\n\"\"\"\\ndemet=tuple(demet)',\n",
       " '_i112': 'demet',\n",
       " '_112': (1, 2, 3, 4, 5, 6, 7, 8, 9),\n",
       " '_i113': 'type(demet)',\n",
       " '_113': tuple,\n",
       " '_i114': '\"\"\"\\nfrozenset()\\nBu fonksiyonu kullanarak farklı veri tiplerini \\ndondurulmuş kümeye dönüştürebilirsiniz:\\n\"\"\"\\ndf=frozenset(demet)',\n",
       " 'df': frozenset({1, 2, 3, 4, 5, 6, 7, 8, 9}),\n",
       " '_i115': 'df',\n",
       " '_115': frozenset({1, 2, 3, 4, 5, 6, 7, 8, 9}),\n",
       " '_i116': 'df[0]',\n",
       " '_i117': 'df[0][1]',\n",
       " '_i118': '\"\"\"\\ncomplex()\\nSayılardan söz ederken, eğer matematikle çok fazla \\niçli dışlı değilseniz pek karşılaşmayacağınız, \\n‘karmaşık sayı’ adlı bir sayı türünden de bahsetmiştik.\\nKarmaşık sayılar, bir gerçek, bir de sanal kısımdan oluşan sayılardır.\\n\\nKarmaşık sayılar Python’da ‘complex’ ifadesiyle gösteriliyor.\\nMesela şu bir karmaşık sayıdır:\\n\"\"\"\\n12+0j',\n",
       " '_118': (12+0j),\n",
       " '_i119': 'type(12+2j)',\n",
       " '_119': complex,\n",
       " '_i120': '\"\"\"\\nİşte eğer herhangi bir sayıyı karmaşık sayıya \\ndönüştürmeniz gerekirse complex() adlı bir fonksiyondan\\nyararlanabilirsiniz. Örneğin:\\nFLOAT İNTEGER COMPLEX\\n\"\"\"\\ncomplex(15)',\n",
       " '_120': (15+0j),\n",
       " '_i121': '\"\"\"\\nBöyle bir kod yazdığımızda, verdiğimiz parametre \\nkarmaşık sayının gerçek kısmını oluşturacak, sanal kısım\\nise 0 olarak kabul edilecektir. Elbette isterseniz sanal kısmı \\nkendiniz de belirleyebilirsiniz:\\n\"\"\"\\ncomplex(15, 2)',\n",
       " '_121': (15+2j),\n",
       " '_i122': '\"\"\"\\nfloat()\\nBu fonksiyonu, sayıları veya karakter dizilerini kayan noktalı\\nsayıya dönüştürmek için kullanıyoruz:\\n\"\"\"\\nfloat(\"134\")',\n",
       " '_122': 134.0,\n",
       " '_i123': 'float(12)',\n",
       " '_123': 12.0,\n",
       " '_i124': '\"\"\"\\nint()\\nBu fonksiyon birkaç farklı amaç için kullanılabilir.\\nint() fonksiyonunun en temel görevi, bir karakter dizisi \\nveya kayan noktalı sayıyı (eğer mümkünse) tam sayıya dönüştürmektir:\\n\"\"\"\\nint(\\'10\\')',\n",
       " '_124': 10,\n",
       " '_i125': 'int(12.4)',\n",
       " '_125': 12,\n",
       " '_i126': '\"\"\"\\nBunun dışında bu fonksiyonu, herhangi bir sayma\\nsisteminde temsil edilen bir sayıyı onlu sayma \\nsistemine dönüştürmek için de kullanabiliriz.\\nÖrneğin:\\nint(\\'12\\', 8)\\n\"\"\"',\n",
       " '_126': \"\\nBunun dışında bu fonksiyonu, herhangi bir sayma\\nsisteminde temsil edilen bir sayıyı onlu sayma \\nsistemine dönüştürmek için de kullanabiliriz.\\nÖrneğin:\\nint('12', 8)\\n\",\n",
       " '_i127': '\"\"\"\\nBunun dışında bu fonksiyonu, herhangi bir sayma\\nsisteminde temsil edilen bir sayıyı onlu sayma \\nsistemine dönüştürmek için de kullanabiliriz.\\nÖrneğin:\\n\"\"\"\\nint(\\'12\\', 8)',\n",
       " '_127': 10,\n",
       " '_i128': '\"\"\"\\nBurada, sekizli sayma sistemine ait sayı değerli bir karakter \\ndizisi olan ‘12’`yi onlu sayma sistemine dönüştürdük ve böylece \\n`10 sayısını elde ettik.\\n\\nint() fonksiyonunu sayma sistemleri arasında dönüştürme işlemlerinde\\nkullanabilmek için ilk parametrenin bir karakter dizisi olması \\ngerektiğine dikkat ediyoruz.\\n\\nBu arada, int(\\'12\\', 8) komutununun 12 sayısını sekizli sayma\\nsistemine dönüştürmediğine dikkat edin. Bu komutun yaptığı iş \\nsekizli sayma sistemindeki 12 sayısını onlu sayma sistemine \\ndönüştürmektir.\\n\\nint() fonksiyonunun bu kullanımıyla ilgili bir örnek daha verelim:\\n\"\"\"\\nint(\\'4cf\\', 16)',\n",
       " '_128': 1231,\n",
       " '_i129': '\"\"\"\\nstr()\\nBu fonksiyonun, farklı veri tiplerini karakter dizisine\\ndönüştürmek için kullanıldığını biliyorsunuz. Örneğin:\\n\"\"\"\\nstr(12)',\n",
       " '_129': '12',\n",
       " '_i130': '\"\"\"\\nBurada 12 sayısını bir karakter dizisine dönüştürdük. \\nŞimdi de bir baytı karakter dizisine dönüştürelim:\\n\"\"\"\\nbayt = b\\'istihza\\'',\n",
       " 'bayt': b'kad\\xc4\\xb1n',\n",
       " '_i131': \"ardiz = str(bayt, encoding='utf-8')\\nprint(ardiz)\",\n",
       " 'ardiz': 'istihza',\n",
       " '_i132': '\"\"\"\\nGördüğünüz gibi, bir baytı karakter dizisine dönüştürmek \\niçin str() fonksiyonuna encoding adlı bir parametre veriyoruz.\\nFonksiyonumuz, bu parametrede hangi kodlama biçimi belirtildiyse, \\nbaytları bu kodlama biçiminin kurallarına göre bir karakter \\ndizisine dönüştürüyor.\\n\\nTahmin edebileceğiniz gibi, belirttiğiniz kodlama biçiminin \\nherhangi bir baytı karakter dizisine dönüştüremediği durumlara \\nkarşı bir errors parametresi de verebiliriz str() fonksiyonuna.\\n\\nbayt = bytes(\\'kadın\\', encoding=\\'utf-8\\')\\nprint(bayt)\\nÖrneğin elimizde bayt tipinde şöyle bir veri olduğunu varsayalım:\\n\"\"\"\\nbayt = bytes(\\'kadın\\', encoding=\\'utf-8\\')\\nprint(bayt)',\n",
       " '_i133': '\"\"\"\\nGördüğünüz gibi, bir baytı karakter dizisine dönüştürmek \\niçin str() fonksiyonuna encoding adlı bir parametre veriyoruz.\\nFonksiyonumuz, bu parametrede hangi kodlama biçimi belirtildiyse, \\nbaytları bu kodlama biçiminin kurallarına göre bir karakter \\ndizisine dönüştürüyor.\\n\\nTahmin edebileceğiniz gibi, belirttiğiniz kodlama biçiminin \\nherhangi bir baytı karakter dizisine dönüştüremediği durumlara \\nkarşı bir errors parametresi de verebiliriz str() fonksiyonuna.\\n\\nÖrneğin elimizde bayt tipinde şöyle bir veri olduğunu varsayalım:\\n\"\"\"\\nbayt = bytes(\\'kadın\\', encoding=\\'utf-8\\')\\nprint(bayt)',\n",
       " '_i134': \"kardiz = str(bayt, encoding='ascii')\",\n",
       " '_i135': '\"\"\"\\nASCII adlı kod çözücü, b\\'kadın\\' içindeki baytlardan birini \\ntanıyamadığı için bize bir hata mesajı gösterdi. Bildiğiniz\\ngibi ASCII 128’den büyük baytları dönüştüremez. İşte bu tür \\ndurumlara karşı errors parametresinden yararlanabilirsiniz:\\n\"\"\"\\nkardiz = str(bayt, encoding=\\'ascii\\', errors=\\'ignore\\')\\nprint(kardiz)',\n",
       " 'kardiz': 'kadn',\n",
       " '_i136': '\"\"\"\\nerrors parametresine verdiğimiz ‘ignore’ değeri sayesinde \\nPython bize hata mesajı göstermek yerine, ASCII ile çözülemeyen\\nbaytı görmezden geldi. errors parametresinin hangi değerleri\\nalabileceğini önceki derslerimizden hatırlıyor olmalısınız.\\ndict()\\nBu fonksiyon, farklı veri tiplerinden sözlükler üretmemizi sağlar.\\nÖrneğin bu fonksiyonu kullanarak boş bir sözlük oluşturabiliriz:\\n\"\"\"\\ns = dict()',\n",
       " 's': {'a': 1, 'b': 2, 'c': 3},\n",
       " '_i137': 's = dict(a=1, b=2, c=3)',\n",
       " '_i138': 's',\n",
       " '_138': {'a': 1, 'b': 2, 'c': 3},\n",
       " '_i139': \"öğeler = (['a', 1], ['b', 2], ['c', 3])\\ndict(öğeler)\",\n",
       " 'öğeler': (['a', 1], ['b', 2], ['c', 3]),\n",
       " '_139': {'a': 1, 'b': 2, 'c': 3},\n",
       " '_i140': '\"\"\"\\ncallable()\\nBu fonksiyon, bir nesnenin ‘çağrılabilir’ olup olmadığını \\ndenetler. Peki hangi nesneler çağrılabilir özelliktedir. \\nMesela fonksiyonlar çağrılabilir nesnelerdir. Değişkenler \\nise çağrılabilir nesneler değildir.\\n\"\"\"\\ncallable(open)',\n",
       " '_140': True,\n",
       " '_i141': 'import sys\\ncallable(sys.version)',\n",
       " 'sys': <module 'sys' (built-in)>,\n",
       " '_141': False,\n",
       " '_i142': '\"\"\"\\nord()\\nBu fonksiyon, bir karakterin karşılık geldiği ondalık \\nsayıyı verir. Örneğin:\\n\"\"\"\\nord(1a)',\n",
       " '_i143': '\"\"\"\\nord()\\nBu fonksiyon, bir karakterin karşılık geldiği ondalık \\nsayıyı verir. Örneğin:\\n\"\"\"\\nord(\"a\")',\n",
       " '_143': 97,\n",
       " '_i144': 'ord(\"ı\")',\n",
       " '_144': 305,\n",
       " '_i145': '\"\"\"\\noct()\\nBu fonksiyon, bir sayıyı sekizli düzendeki karşılığına \\nçevirmemizi sağlar:\\n\"\"\"\\noct(10)',\n",
       " '_145': '0o12',\n",
       " '_i146': '\"\"\"\\nhex()\\nBu fonksiyon, bir sayıyı onaltılı düzendeki karşılığına çevirmemizi \\nsağlar:\\n\"\"\"\\nhex(305)',\n",
       " '_146': '0x131',\n",
       " '_i147': '\"\"\"\\neval(), exec(), globals(), locals(), compile()\\nBu bölümde beş farklı fonksiyonu bir arada inceleyeceğiz. \\nBu fonksiyonları birlikte ele almamızın nedeni bunların \\nbirbiriyle yakından bağlantılı olması.\\n\\nBurada işleyeceğimiz bu beş fonksiyon şunlardan oluşuyor:\\n\\neval()\\n\\nexec()\\n\\nglobals()\\n\\nlocals()\\n\\ncompile()\\n\\nAncak bu fonksiyonlardan söz etmeye başlamadan önce \\nPython’daki iki önemli kavramı açıklığa kavuşturmamız \\ngerekiyor: Bu kavramlar şunlar:\\n\\nifade\\n\\ndeyim\\n\\nÖncelikle ‘ifade’ kavramından başlayalım.\\n\\nİngilizcede expression denen ‘ifadeler’, bir değer \\nüretmek için kullanılan kod parçalarıdır.\\nKarakter dizileri, sayılar, işleçler, öteki veri tipleri, \\nliste üreteçleri, sözlük üreteçleri, küme üreteçleri,\\nfonksiyonlar hep birer ifadedir. Örneğin:\\n\\n5\\n\\n23 + 4\\n\\n[i for i in range(10)]\\n\\nlen([1, 2, 3])\\nİngilizcede statement olarak adlandırılan ‘deyimler’ \\nise ifadeleri de kapsayan daha geniş bir kavramdır.\\nBuna göre bütün ifadeler aynı zamanda birer deyimdir. \\nDaha doğrusu, ifadelerin bir araya gelmesi ile deyimler\\noluşturulabilir.\\n\\nDeyimlere birkaç örnek verelim:\\n\\na = 5\\n\\nif a:\\n    print(a)\\n\\nfor i in range(10):\\n    print(i)\\nPython programlama dilinde deyimlerle ifadeleri ayırt\\netmenin kolay bir yolu da eval() fonksiyonundan yararlanmaktır.\\nEğer deyim mi yoksa ifade mi olduğundan emin olamadığınız \\nbir şeyi eval() fonksiyonuna parametre olarak verdiğinizde\\nhata almıyorsanız o parametre bir ifadedir. Eğer hata\\nalıyorsanız o parametre bir deyimdir. Çünkü eval()\\nfonksiyonuna parametre olarak yalnızca ifadeler verilebilir.\\n\\nBirkaç örnek verelim:\\n\\neval(\\'a = 5\\')\\n\\n  File \"<string>\", line 1\\n    a = 5\\n      ^\\nSyntaxError: invalid syntax\\nGördüğünüz gibi, eval() fonksiyonu bize bir hata mesajı verdi.\\nÇünkü a = 5 kodu bir deyimdir. Unutmayın, Python’da bütün\\ndeğer atama işlemleri birer deyimdir. Dolayısıyla eval() \\nfonksiyonu bu deyimi parametre olarak alamaz.\\n\\nBir de şuna bakalım:\\n\\neval(\\'5 + 25\\')\\n\\n30\\nBu defa hata almadık. Çünkü eval() fonksiyonuna, olması\\ngerektiği gibi, parametre olarak bir ifade verdik.\\nBildiğiniz gibi, 5 + 25 kodu bir ifadedir.\\n\\nDediğimiz gibi, eval() fonksiyonu deyimleri parametre \\nolarak alamaz. Ama exec() fonksiyonu alabilir:\\n\\nexec(\\'a = 5\\')\\nBu şekilde, değeri 5 olan a adlı bir değişken oluşturmuş \\nolduk. İsterseniz kontrol edelim:\\n\\nprint(a)\\n\\n5\\nGördüğünüz gibi, exec() fonksiyonu, mevcut isim alanı\\niçinde a adlı bir değişken oluşturdu. Yalnız elbette \\nmevcut isim alanı içinde yeni değişkenler ve yeni değerler \\noluştururken dikkatli olmamız gerektiğini biliyorsunuz.\\nZira mesela yukarıdaki komutu vermeden önce mevcut isim \\nalanında zaten a adlı bir değişken varsa, o değişkenin \\ndeğeri değişecektir:\\n\\na = 20\\nElimizde, değeri 20 olan a adlı bir değişken var. \\nŞimdi exec() fonksiyonu yardımıyla a değişkeninin\\nde içinde yer aldığı mevcut isim alanına müdahale ediyoruz:\\n\\nexec(\\'a = 10\\')\\nBöylece a değişkeninin eski değerini silmiş olduk. Kontrol edelim:\\n\\nprint(a)\\n\\n10\\nBu tür durumlarda, exec() ile oluşturduğunuz değişkenleri \\nglobal isim alanına değil de, farklı bir isim alanına \\ngöndermeyi tercih edebilirsiniz. Peki ama bunu nasıl yapacağız?\\n\\nPython programlama dilinde isim alanları sözlük tipinde bir veridir. \\nÖrneğin global isim alanı basit bir sözlükten ibarettir.\\n\\nGlobal isim alanını gösteren sözlükte hangi anahtar ve \\ndeğerlerin olduğunu görmek için globals() adlı bir \\nfonksiyonu kullanabilirsiniz:\\n\\nglobals()\\nBu fonksiyonu çalıştırdığımızda şuna benzer bir çıktı alırız:\\n\\n{\\'__doc__\\': None, \\'__loader__\\': <class \\'_frozen_importlib.BuiltinImpor\\nter\\'>,\\'__name__\\': \\'__main__\\', \\'__package__\\': None, \\'__builtins__\\':\\n<module \\'builtins\\'>}\\nGördüğünüz gibi, elimizdeki şey gerçekten de bir sözlük. \\nDolayısıyla bir sözlük ile ne yapabilirsek bu sözlükle de\\naynı şeyi yapabiliriz…\\n\\n‘globals’ adlı bu sözlüğün içeriği, o anda global isim\\nalanında bulunan nesnelere göre farklılık gösterecektir. Örneğin:\\n\\nx = 10\\nşeklinde 10 değerine sahip bir x nesnesi tanımladıktan sonra \\nglobals() fonksiyonunu tekrar çalıştırırsanız global isim\\nalanına bu nesnenin de eklenmiş olduğunu görürsünüz.\\n\\nDediğimiz gibi, globals() fonksiyonundan dönen nesne bir sözlüktür. \\nBu sözlüğe, herhangi bir sözlüğe veri ekler gibi değer de\\nekleyebilirsiniz:\\n\\nglobals()[\\'z\\'] = 23\\nBu şekilde global isim alanına z adlı bir değişken eklemiş oldunuz:\\n\\nz\\n\\n23\\nYalnız, Python programlama dili bize bu şekilde global isim alanına\\nnesne ekleme imkanı verse de, biz mecbur değilsek bu yöntemi\\nkullanmaktan kaçınmalıyız. Çünkü bu şekilde sıradışı bir yöntemle\\ndeğişken tanımladığımız için aslında global isim alanını, nerden \\ngeldiğini kestirmenin güç olduğu değerlerle ‘kirletmiş’ oluyoruz.\\n\\nBildiğiniz gibi, Python’da global isim alanı dışında bir de lokal isim \\nlanı bulunur. Lokal isim alanlarının, fonksiyonlara \\n(ve ileride göreceğimiz gibi sınıflara) ait bir isim alanı\\nolduğunu biliyorsunuz. İşte bu isim alanlarına ulaşmak için de \\nlocals() adlı bir fonksiyondan yararlanacağız:\\n\\ndef fonksiyon(param1, param2):\\n    x = 10\\n    print(locals())\\n\\nfonksiyon(10, 20)\\nBu fonksiyonu çalıştırdığınızda şu çıktıyı alacaksınız:\\n\\n{\\'param2\\': 20, \\'param1\\': 10, \\'x\\': 10}\\nGördüğünüz gibi, locals() fonksiyonu gerçekten de bize fonksiyon()\\nadlı fonksiyon içindeki lokal değerleri veriyor.\\n\\nglobals() ve locals() fonksiyonlarının ne işe yaradığını \\nincelediğimize göre exec() fonksiyonunu anlatırken kaldığımız yere \\ndönebiliriz.\\n\\nNe diyorduk?\\n\\nElimizde, değeri 20 olan a adlı bir değişken vardı:\\n\\na = 20\\nexec() fonksiyonu yardımıyla a değişkeninin de içinde yer aldığı \\nmevcut isim alanına müdahale edelim:\\n\\nexec(\\'a = 3\\')\\nBu şekilde a değişkeninin varolan değerini silmiş olduk:\\n\\nprint(a)\\n\\n3\\nDediğimiz gibi, bu tür durumlarda, exec() ile oluşturduğunuz \\ndeğişkenleri global isim alanı yerine farklı bir isim alanına \\ngöndermeyi tercih etmemiz daha uygun olacaktır. Python’da isim\\nalanlarının basit bir sözlük olduğunu öğrendiğimize göre, exec() \\nile oluşturduğumuz değişkenleri global isim alanı yerine nasıl \\nfarklı bir isim alanına göndereceğimizi görebiliriz.\\n\\nÖnce yeni bir isim alanı oluşturalım:\\n\\nia = {}\\nŞimdi exec() ile oluşturacağımız değerleri bu isim alanına \\ngönderebiliriz:\\n\\nexec(\\'a = 3\\', ia)\\nBöylece global isim alanındaki a değişkeninin değerine dokunmamış\\nolduk:\\n\\na\\n\\n20\\nYeni oluşturduğumuz değer ise ia adlı yeni isim alanına gitti:\\n\\nia[\\'a\\']\\n\\n3\\n\\n\"\"\"\\neval(\"a=5\")',\n",
       " '_i148': \"eval('5 + 25')\",\n",
       " '_148': 30,\n",
       " '_i149': \"exec('a = 5')\",\n",
       " '_i150': 'print(a)',\n",
       " '_i151': 'a = 20',\n",
       " '_i152': \"exec('a = 10')\",\n",
       " '_i153': 'print(a)',\n",
       " '_i154': '\"\"\"\\nBu tür durumlarda, exec() ile oluşturduğunuz\\ndeğişkenleri global isim alanına değil de, \\nfarklı bir isim alanına göndermeyi tercih edebilirsiniz. \\nPeki ama bunu nasıl yapacağız?\\nPython programlama dilinde isim alanları sözlük tipinde bir veridir.\\nÖrneğin global isim alanı basit bir sözlükten ibarettir.\\n\"\"\"\\nglobals()',\n",
       " '_154': {...},\n",
       " '_i155': 'x=10',\n",
       " 'x': 10,\n",
       " '_i156': \"globals()['z'] = 23\",\n",
       " 'z': 23,\n",
       " '_i157': 'globals',\n",
       " '_157': <function globals()>,\n",
       " '_i158': 'globals()'}"
      ]
     },
     "execution_count": 158,
     "metadata": {},
     "output_type": "execute_result"
    }
   ],
   "source": [
    "globals()"
   ]
  },
  {
   "cell_type": "code",
   "execution_count": 159,
   "id": "da897156",
   "metadata": {},
   "outputs": [
    {
     "data": {
      "text/plain": [
       "23"
      ]
     },
     "execution_count": 159,
     "metadata": {},
     "output_type": "execute_result"
    }
   ],
   "source": [
    "z"
   ]
  },
  {
   "cell_type": "code",
   "execution_count": 160,
   "id": "358318c1",
   "metadata": {},
   "outputs": [],
   "source": [
    "#Classlardaki değişkenlerde lokal\n",
    "class hayvan():\n",
    "    model=\"renault\""
   ]
  },
  {
   "cell_type": "code",
   "execution_count": 161,
   "id": "09a4c12b",
   "metadata": {},
   "outputs": [
    {
     "ename": "NameError",
     "evalue": "name 'model' is not defined",
     "output_type": "error",
     "traceback": [
      "\u001b[0;31m---------------------------------------------------------------------------\u001b[0m",
      "\u001b[0;31mNameError\u001b[0m                                 Traceback (most recent call last)",
      "\u001b[0;32m/tmp/ipykernel_111102/2355735933.py\u001b[0m in \u001b[0;36m<module>\u001b[0;34m\u001b[0m\n\u001b[0;32m----> 1\u001b[0;31m \u001b[0mmodel\u001b[0m\u001b[0;34m\u001b[0m\u001b[0;34m\u001b[0m\u001b[0m\n\u001b[0m",
      "\u001b[0;31mNameError\u001b[0m: name 'model' is not defined"
     ]
    }
   ],
   "source": [
    "model"
   ]
  },
  {
   "cell_type": "code",
   "execution_count": 163,
   "id": "c0e0f304",
   "metadata": {},
   "outputs": [
    {
     "name": "stdout",
     "output_type": "stream",
     "text": [
      "{'param1': 10, 'param2': 20, 'x': 10}\n"
     ]
    }
   ],
   "source": [
    "def fonksiyon(param1, param2):\n",
    "    x = 10\n",
    "    print(locals())\n",
    "fonksiyon(10,20)"
   ]
  },
  {
   "cell_type": "code",
   "execution_count": 164,
   "id": "1e86949b",
   "metadata": {},
   "outputs": [
    {
     "data": {
      "text/plain": [
       "{'__name__': '__main__',\n",
       " '__doc__': '\\nBu tür durumlarda, exec() ile oluşturduğunuz\\ndeğişkenleri global isim alanına değil de, \\nfarklı bir isim alanına göndermeyi tercih edebilirsiniz. \\nPeki ama bunu nasıl yapacağız?\\nPython programlama dilinde isim alanları sözlük tipinde bir veridir.\\nÖrneğin global isim alanı basit bir sözlükten ibarettir.\\n',\n",
       " '__package__': None,\n",
       " '__loader__': None,\n",
       " '__spec__': None,\n",
       " '__builtin__': <module 'builtins' (built-in)>,\n",
       " '__builtins__': <module 'builtins' (built-in)>,\n",
       " '_ih': ['',\n",
       "  '\"\"\"\\nGömülü Fonksiyonlar\\nBu bölümde, daha önce de birkaç kez bahsettiğimiz ve \\nçokça örneğini gördüğümüz bir kavramdan söz edeceğiz.\\nBu kavramın adı ‘gömülü fonksiyonlar’.\\n\\nEsasında biz buraya gelene kadar Python’da pek çok gömülü \\nfonksiyon gördük. Dolayısıyla aslında görünüş olarak bunların\\nneye benzediğini biliyoruz. Örneğin daha önceki derslerimizde\\ngördüğümüz print() gömülü bir fonksiyondur. \\nAynı şekilde open(), type(), len(), pow(), bin() \\nve şimdiye kadar tanıştığımız öteki bütün fonksiyonlar\\nbirer gömülü fonksiyondur.\\n\\nGömülü fonksiyonlar İngilizcede builtin functions olarak \\nadlandırılır. Bu fonksiyonlar gerçekten de dile gömülü\\nvaziyettedirler. Bildiğiniz gibi, bir fonksiyonu kullanabilmemiz \\niçin o fonksiyonu tanımlamamız gerekir. İşte gömülü fonksiyonlar,\\nbizim tanımlamamıza gerek kalmadan, Python geliştiricileri tarafından \\nönceden tanımlanıp dile gömülmüş ve hizmetimize sunulmuş faydalı\\nbirtakım araçlardır.\\n\\nİşte bu bölümde biz de bu gömülü fonksiyonları tek tek ve\\nayrıntılı olarak inceleyeceğiz. Dediğimiz gibi, bunlardan \\nbir kısmını halihazırda görmüştünüz. Ama biz bütünlük\\naçısından, önceden ele almış olduğumuz bu fonksiyonlara \\nda kısaca değinmeden geçmeyeceğiz. Böylelikle hem yeni \\nfonksiyonlar öğrenmiş olacağız hem de önceden öğrendiğimiz \\nfonksiyonlarla birlikte yeni fonksiyonları da derli toplu \\nbir şekilde görme imkanımız olacak.\\n\\nBu bölümde elbette birtakım fonksiyonları salt art arda \\nsıralamakla yetinmeyeceğiz. Python’daki gömülü fonksiyonları\\nincelerken bir yandan da Python programlama dilindeki çok\\nönemli bazı kavramları ele alacağız.\\n\\nİlk olarak abs() adlı bir fonksiyonla başlıyoruz gömülü \\nfonksiyonları incelemeye…\\n\\n\\nabs()\\nİngilizcede ‘mutlak’ anlamına gelen absolute adlı bir \\nkelime bulunur. İşte bu fonksiyonun adı da bu kelimeden \\ngelir. Fonksiyonumuzun görevi de isminin anlamına yakındır.\\nabs() fonksiyonunu bir sayının mutlak değerini elde etmek \\niçin kullanıyoruz.\\n\\n\\nPeki ‘mutlak değer’ ne anlama geliyor. Esasında siz bu \\nkavrama matematik derslerinden aşinasınız. Ama bilmeyenler\\nveya unutmuş olanlar için tekrar edelim. ‘Mutlak değer’\\nbir sayının 0’a olan uzaklığıdır. Örneğin 20 sayısının\\n0 sayısına olan uzaklığı 20’dir. Dolayısıyla 20 sayısının\\nmutlak değeri 20’dir. Aynı şekilde -20 sayısının da 0\\nsayısına uzaklığı 20’dir. Yani, -20 sayısının da mutlak \\ndeğeri 20’dir.\\n\\n\\nİşte abs() fonksiyonu bize bir sayının mutlak değerinin\\nne olduğunu söyler:\\nMutlak değer kavramı yalnızca tamsayılar ve kayan \\nnoktalı sayılar için değil, aynı zamanda karmaşık \\nsayılar için de geçerlidir. Dolayısıyla abs()\\nfonksiyonunu kullanarak karmaşık sayıların da\\nmutlak değerini hesaplayabiliriz:\\nGördüğünüz gibi bu fonksiyon yalnızca tek bir parametre\\nalıyor ve bu parametrenin mutlak değerini döndürüyor.\\n\"\"\"\\nabs(-20)',\n",
       "  'abs(20)',\n",
       "  'abs(20+4j)',\n",
       "  '\"\"\"\\nround()\\nround() fonksiyonu bir sayıyı belli ölçütlere\\ngöre yukarı veya aşağı doğru yuvarlamamızı sağlar.\\nBasit birkaç örnek verelim:\\n\"\"\"\\nround(12,4)',\n",
       "  'round(12,7)',\n",
       "  '\"\"\"\\nGördüğünüz gibi bu fonksiyon, kayan noktalı sayıları \\nen yakın tam sayıya doğru yuvarlıyor.\\n\\nAncak burada dikkat etmemiz gereken bir nokta var.\\n\\nŞu örnekleri bir inceleyelim:\\n\"\"\"\\nround(1,5)',\n",
       "  'round(12.5)',\n",
       "  '\"\"\"\\nGördüğünüz gibi, fonksiyonumuz 1.5 sayısını yukarı doğru, \\n12.5 sayısını ise aşağı doğru yuvarladı. Bunun sebebi,\\nkayan noktalı bir sayının üst ve alt tam sayılara olan \\nuzaklığının birbirine eşit olduğu durumlarda Python’ın\\nçift sayıya doğru yuvarlama yapmayı tercih etmesidir.\\nMesela yukarıdaki örneklerde 1.5 sayısı hem 1 sayısına,\\nhem de 2 sayısına eşit uzaklıkta bulunuyor. İşte Python\\nbu durumda, bir çift sayı olan 2 sayısına doğru yuvarlamayı\\ntercih edecektir.\\n\\nround() fonksiyonu toplam iki parametre alır. İlk parametre,\\nyuvarlanacak sayının kendisidir. Yuvarlama hassasiyetini \\nbelirlemek için ise ikinci bir parametreden yararlanabiliriz.\\n\\nÖrneğin 22 sayısını 7’ye böldüğümüzde normalde şöyle bir \\nçıktı elde ederiz:\\n\"\"\"\\n22/7',\n",
       "  '\"\"\"\\nround() fonksiyonunu tek parametre ile \\nkullandığımızda bu fonksiyon yukarıdaki\\nsayıyı şu şekilde yuvarlayacaktır:\\n\"\"\"\\nround(22/7)',\n",
       "  '\"\"\"\\nİşte biz round() fonksiyonuna ikinci bir parametre daha\\nvererek, yuvarlama hassasiyetini kontrol edebiliriz.\\n\\nAşağıdaki örnekleri dikkatlice inceleyin:\\n\"\"\"\\nround(22/7)',\n",
       "  'round(22/7,0)',\n",
       "  'round(22/7,1)',\n",
       "  'round(22/7,4)',\n",
       "  '\"\"\"\\nall()\\n\\nAll kelimesi Türkçede ‘hepsi’ anlamına gelir.\\nBu fonksiyonun görevi de bu anlamı çağrıştırır.\\nall() fonksiyonunun görevi, bir dizi içinde bulunan \\nbütün değerler True ise True değeri, eğer bu değerlerden\\nherhangi biri False ise de False değeri döndürmektir.\\n\\nÖrneğin elimizde şöyle bir liste olduğunu varsayalım:\\n\"\"\"\\nliste = [1, 2, 3, 4]',\n",
       "  'all(liste)',\n",
       "  '\"\"\"\\nBildiğiniz gibi, 0 hariç bütün sayıların bool değeri True’dur. \\nYukarıdaki listede False değeri verebilecek herhangi bir değer \\nbulunmadığından, all() fonksiyonu bu liste için True değerini \\nveriyor. Bir de şuna bakalım:\\n\"\"\"\\nliste = [0, 1, 2, 3, 4]\\nall(liste)',\n",
       "  '\"\"\"\\nDediğimiz gibi, all() fonksiyonu ancak dizi içindeki bütün \\ndeğerlerin bool değeri True ise True çıktısı verecektir.\\n\\nSon bir örnek daha verelim:\\n\"\"\"\\nliste = [\\'ahmet\\', \\'mehmet\\', \\'\\']\\nall(liste)',\n",
       "  '\"\"\"\\nListede False değerine sahip bir boş karakter dizisi bulunduğu\\niçin all() fonksiyonu False çıktısı veriyor.\\n\\nBu fonksiyonu her türlü kodun bool değerlerini test etmek için \\nkullanabilirsiniz. Mesela bu fonksiyonu kullanarak, bir nesnenin\\nlistelenen özelliklerin hepsine sahip olup olmadığını \\ndenetleyebilirsiniz:\\n\"\"\"\\na = 3\\nt1 = a == 3         #sayı 3 mü?\\nt2 = a < 4          #sayı 4\\'ten küçük mü?\\nt3 = a % 2 == 1     #sayı bir tek sayı mı?\\nall([t1, t2, t3])   #sayı bu özelliklerin hepsine sahip mi?',\n",
       "  '\"\"\"\\nListede False değerine sahip bir boş karakter dizisi bulunduğu\\niçin all() fonksiyonu False çıktısı veriyor.\\n\\nBu fonksiyonu her türlü kodun bool değerlerini test etmek için \\nkullanabilirsiniz. Mesela bu fonksiyonu kullanarak, bir nesnenin\\nlistelenen özelliklerin hepsine sahip olup olmadığını \\ndenetleyebilirsiniz:\\n\"\"\"\\na = 3\\nt1 = a == 3         #sayı 3 mü?\\nt2 = a < 4          #sayı 4\\'ten küçük mü?\\nt3 = a % 2 == 1     #sayı bir tek sayı mı?\\nall([t1, t2, t3])   #sayı bu özelliklerin hepsine sahip mi?',\n",
       "  'a = 3\\nt1 = a == 3   \\nall(t1)',\n",
       "  'a = 3\\nt1 = a == 3   \\nt2 = a < 4   \\nall(t1)',\n",
       "  'a = 3\\nt1 = a == 3   \\nt2 = a < 4   \\nall(t1,t2)',\n",
       "  'a = 3\\nt1 = a == 3   \\nt2 = a < 4   \\nt3 = a % 2 == 1 \\nall(t1,t2,t3)',\n",
       "  '\"\"\"\\nListede False değerine sahip bir boş karakter dizisi bulunduğu\\niçin all() fonksiyonu False çıktısı veriyor.\\n\\nBu fonksiyonu her türlü kodun bool değerlerini test etmek için \\nkullanabilirsiniz. Mesela bu fonksiyonu kullanarak, bir nesnenin\\nlistelenen özelliklerin hepsine sahip olup olmadığını \\ndenetleyebilirsiniz:\\n\"\"\"\\na = 3\\nt1 = a == 3         #sayı 3 mü?\\nt2 = a < 4          #sayı 4\\'ten küçük mü?\\nt3 = a % 2 == 1     #sayı bir tek sayı mı?\\nall([t1, t2, t3])   #sayı bu özelliklerin hepsine sahip mi?',\n",
       "  'a = 3\\nt1 = a == 3   \\nt2 = a < 4   \\nt3 = a % 2 == 1 \\nall([t1])',\n",
       "  '\"\"\"\\nany()\\nAny kelimesi İngilizcede ‘herhangi bir’ anlamına gelir.\\nİşte any() fonksiyonunun görevi de, bir dizi içindeki \\nbütün değerlerden en az biri True ise True çıktısı vermektir.\\nALL FONKSİYONUNUN TERSİ\\n\"\"\"',\n",
       "  '\"\"\"\\nany()\\nAny kelimesi İngilizcede ‘herhangi bir’ anlamına gelir.\\nİşte any() fonksiyonunun görevi de, bir dizi içindeki \\nbütün değerlerden en az biri True ise True çıktısı vermektir.\\nALL FONKSİYONUNUN TERSİ\\n\"\"\"\\nliste = [0, 1, 2, 3, 4]\\nall(liste)',\n",
       "  \"liste = ['ahmet', 'mehmet', '']\\nall(liste)\",\n",
       "  '\"\"\"\\nany()\\nAny kelimesi İngilizcede ‘herhangi bir’ anlamına gelir.\\nİşte any() fonksiyonunun görevi de, bir dizi içindeki \\nbütün değerlerden en az biri True ise True çıktısı vermektir.\\nALL FONKSİYONUNUN TERSİ\\n\"\"\"\\nliste = [0, 1, 2, 3, 4]\\nany(liste)',\n",
       "  \"liste = ['ahmet', 'mehmet', '']\\nany(liste)\",\n",
       "  \"l = ['', 0, [], (), set(), dict()]\\nany(l)\",\n",
       "  '\"\"\"\\nascii()\\nBu fonksiyon, bir nesnenin ekrana basılabilir\\nhalini verir bize. Dilerseniz bu fonksiyonun yaptığı \\nişi tanımlamak yerine bunu bir örnek üzerinden anlatmaya çalışalım:\\n\"\"\"\\na = \\'istihza\\'\\nprint(ascii(a))\\n\\n\\'istihza\\'',\n",
       "  '\"\"\"\\nBu fonksiyonun, print() fonksiyonundan farklı olarak,\\nçıktıya tırnak işaretlerini de eklediğine dikkat edin.\\n\\nascii() fonksiyonunun tam olarak ne yaptığını daha iyi \\nanlamak için herhalde şu örnek daha faydalı olacaktır.\\n\\nDikkatlice bakın:\\n\"\"\"\\nprint(\\'\\\\n\\')',\n",
       "  '\"\"\"\\nBu komutu verdiğimizde, n kaçış dizisinin etkisiyle\\nyeni satıra geçileceğini biliyorsunuz.\\n\\nBir de şuna bakın:\\n\"\"\"\\nprint(ascii(\\'\\\\n!\\'))',\n",
       "  '\"\"\"\\nBu komutu verdiğimizde, n kaçış dizisinin etkisiyle\\nyeni satıra geçileceğini biliyorsunuz.\\n\\nBir de şuna bakın:\\n\"\"\"\\nprint(ascii(\\'\\\\n\\'))',\n",
       "  '\"\"\"\\nGördüğünüz gibi, ascii() fonksiyonu, satır başı kaçış \\ndizisinin görevini yapmasını sağlamak yerine bu kaçış \\ndizisinin ekrana basılabilir halini veriyor bize.\\n\\n\\nAyrıca bu fonksiyon, karakter dizileri içindeki Türkçe\\nkarakterlerin de UNICODE temsillerini döndürür. Örneğin:\\n\"\"\"\\na = \\'ışık\\'\\nprint(ascii(a))',\n",
       "  'a=\"Devrim Tunçer\"\\nprint(ascii(a))',\n",
       "  '\"\"\"\\nGördüğünüz gibi, ascii() fonksiyonu ASCII olmayan karakterlerle \\nkarşılaştığında bunların karakter temsilleri yerine UNICODE\\ntemsillerini (veya onaltılık sayma düzenindeki karşılıklarını)\\nveriyor.\\n\\nSon olarak şu örneğe bakalım:\\n\"\"\"\\nliste = [\\'elma\\', \\'armut\\', \\'erik\\']\\ntemsil = ascii(liste)\\nprint(temsil)',\n",
       "  '\"\"\"\\nBurada listemiz ascii() fonksiyonuna parametre olarak \\nverildikten sonra artık liste olma özelliğini yitirip \\nbir karakter dizisi haline gelir. Bunu denetleyelim:\\n\"\"\"\\nprint(type(temsil))',\n",
       "  'temsil[0]',\n",
       "  '\"\"\"\\nrepr()\\nrepr() fonksiyonunun yaptığı iş, biraz önce gördüğümüz ascii() \\nfonksiyonunun yaptığı işe çok benzer. Bu iki fonksiyon, ASCII\\nolmayan karakterlere muameleleri açısından birbirinden ayrılır.\\n\\nHatırlarsanız ascii() fonksiyonu ASCII olmayan karakterlerle \\nkarşılaştığında bunların UNICODE (veya onaltılık) temsillerini\\ngösteriyordu\\n\"\"\"\\nascii(\"şeker\")',\n",
       "  '\"\"\"\\nrepr() fonksiyonu ise ASCII olmayan karakterlerle karşılaşsa bile,\\nbize çıktı olarak bunların da karakter karşılıklarını gösterir:\\n\"\"\"\\nrepr(\"şeker\")',\n",
       "  '\"\"\"\\nbool()\\nBu fonksiyon bir nesnenin bool değerini verir:\\n\"\"\"\\nbool(0)',\n",
       "  'bool(1)',\n",
       "  'bool([])',\n",
       "  '\"\"\"\\nbin()\\nBu fonksiyon, bir sayının ikili düzendeki karşılığını verir:\\nBu fonksiyonun verdiği çıktının bir sayı değil,\\nkarakter dizisi olduğuna dikkat etmelisiniz.\\n\"\"\"\\nbin(12)',\n",
       "  'bin(1)',\n",
       "  'bin(2)',\n",
       "  'bin(3)',\n",
       "  'bin(4)',\n",
       "  'bin(5)',\n",
       "  'bin(6)',\n",
       "  'bin(7)',\n",
       "  '\"\"\"\\nbytes()\\nBu fonksiyon bytes türünde nesneler oluşturmak için kullanılır. \\nBu fonksiyonu ‘bayt’ adlı veri tipini incelerken ayrıntılı olarak \\nele almıştık. Gelin isterseniz burada da bu fonksiyona şöyle bir\\ndeğinelim.\\n\\nDediğimiz gibi, bytes() adlı fonksiyon, bytes türünde veriler\\noluşturmaya yarar. Bu fonksiyon işlev olarak, daha önce öğrendiğimiz \\nlist(), str(), int(), set(), dict() gibi fonksiyonlara çok benzer. \\nTıpkı bu fonksiyonlar gibi, bytes() fonksiyonunun görevi de farklı\\nveri tiplerini ‘bayt’ adlı veri tipine dönüştürmektir.\\n\\nBu fonksiyon, kendisine verilen parametrelerin türüne bağlı olarak \\nbirbirinden farklı sonuçlar ortaya çıkarır. Örneğin eğer bu fonksiyona\\nparametre olarak bir tam sayı verecek olursanız, bu fonksiyon size\\no tam sayı miktarınca bir bayt nesnesi verecektir. Gelin isterseniz\\nbu durumu örnekler üzerinde göstermeye çalışalım:\\n\"\"\"\\nbytes(10)',\n",
       "  'a=bytes(10)',\n",
       "  'a',\n",
       "  'a[0]',\n",
       "  'a(7)',\n",
       "  'a[7]',\n",
       "  'a[10]',\n",
       "  'a[9]',\n",
       "  '\"\"\"\\nGördüğünüz gibi, bytes(10) komutuyla oluşturduğumuz a \\ndeğişkeni içinde toplam 10 adet bayt var ve bu baytların her \\nbirinin değeri 0.\\n\\nYukarıda, bytes() fonksiyonuna bir tam sayı değerli \\nparametre verdiğimizde nasıl bir sonuç alacağımızı öğrendik.\\nPeki biz bu fonksiyona parametre olarak bir karakter dizisi \\nverirsek ne olur?\\n\\nHemen görelim:\\n\"\"\"\\nbytes(\"devrim\")',\n",
       "  '\"\"\"\\nBu fonksiyona karakter dizilerini doğrudan parametre olarak\\nveremeyiz. Eğer verirsek yukarıdaki gibi bir hata alırız.\\nPeki acaba bu hatayı almamızın nedeni ne olabilir?\\n\\nDediğimiz gibi, bytes() fonksiyonu, çeşitli veri tiplerini \\nbayta dönüştürmeye yarar. Ancak bildiğiniz gibi,\\nbayta dönüştürme işlemi her kod çözücü tarafından\\nfarklı biçimde yapılır. Örneğin:\\n\"\"\"\\n\"devrim\".encode(\"utf-8\")',\n",
       "  '\"\"\"\\nBu fonksiyona karakter dizilerini doğrudan parametre olarak\\nveremeyiz. Eğer verirsek yukarıdaki gibi bir hata alırız.\\nPeki acaba bu hatayı almamızın nedeni ne olabilir?\\n\\nDediğimiz gibi, bytes() fonksiyonu, çeşitli veri tiplerini \\nbayta dönüştürmeye yarar. Ancak bildiğiniz gibi,\\nbayta dönüştürme işlemi her kod çözücü tarafından\\nfarklı biçimde yapılır. Örneğin:\\n\"\"\"\\n\"ışık\".encode(\"utf-8\")',\n",
       "  \"'ışık'.encode('cp857')\",\n",
       "  \"'ışık'.encode('cp1254')\",\n",
       "  '\"\"\"\\nDolayısıyla, bytes() fonksiyonunun bir karakter dizisini\\nbayta çevirirken nasıl davranması gerektiğini anlayabilmesi\\niçin, bayta dönüştürme işlemini hangi kod çözücü ile yapmak\\nistediğimizi açıkça belirtmemiz gerekir:\\n\"\"\"\\nbytes(\"ışık\",\"utf-8\")',\n",
       "  \"bytes('ışık', 'cp1254')\",\n",
       "  \"bytes('ışık', 'cp857')\",\n",
       "  '\"\"\"\\nGördüğünüz gibi, bytes() fonksiyonuna parametre olarak bir karakter \\ndizisi verebilmek için, bu karakter dizisi ile birlikte bir\\nkod çözücü de belirtmemiz gerekiyor. Böylece bytes() fonksiyonu\\nkendisine verdiğimiz karakter dizisini, belirttiğimiz kod\\nçözücünün kurallarına göre bayta dönüştürüyor.\\n\\nBu arada, çıktıda görünen ‘b’ harflerinin, elimizdeki verinin \\nbir bayt olduğunu gösteren bir işaret olduğunu biliyorsunuz.\\n\\nAyrıca, bytes() fonksiyonuna verdiğimiz ikinci parametrenin \\nisminin encoding olduğunu ve bu parametreyi isimli bir \\nparametre olarak da kullanabileceğimizi belirtelim:\\n\"\"\"\\nbytes(\"devrim\",encoding(\"ascii\"))',\n",
       "  '\"\"\"\\nGördüğünüz gibi, bytes() fonksiyonuna parametre olarak bir karakter \\ndizisi verebilmek için, bu karakter dizisi ile birlikte bir\\nkod çözücü de belirtmemiz gerekiyor. Böylece bytes() fonksiyonu\\nkendisine verdiğimiz karakter dizisini, belirttiğimiz kod\\nçözücünün kurallarına göre bayta dönüştürüyor.\\n\\nBu arada, çıktıda görünen ‘b’ harflerinin, elimizdeki verinin \\nbir bayt olduğunu gösteren bir işaret olduğunu biliyorsunuz.\\n\\nAyrıca, bytes() fonksiyonuna verdiğimiz ikinci parametrenin \\nisminin encoding olduğunu ve bu parametreyi isimli bir \\nparametre olarak da kullanabileceğimizi belirtelim:\\n\"\"\"\\nbytes(\"istiizha\",encoding(\"ascii\"))',\n",
       "  '\"\"\"\\nGördüğünüz gibi, bytes() fonksiyonuna parametre olarak bir karakter \\ndizisi verebilmek için, bu karakter dizisi ile birlikte bir\\nkod çözücü de belirtmemiz gerekiyor. Böylece bytes() fonksiyonu\\nkendisine verdiğimiz karakter dizisini, belirttiğimiz kod\\nçözücünün kurallarına göre bayta dönüştürüyor.\\n\\nBu arada, çıktıda görünen ‘b’ harflerinin, elimizdeki verinin \\nbir bayt olduğunu gösteren bir işaret olduğunu biliyorsunuz.\\n\\nAyrıca, bytes() fonksiyonuna verdiğimiz ikinci parametrenin \\nisminin encoding olduğunu ve bu parametreyi isimli bir \\nparametre olarak da kullanabileceğimizi belirtelim:\\n\"\"\"\\nbytes(\"istizha\",encoding(\"ascii\"))',\n",
       "  '\"\"\"\\nBu noktada size şöyle bir soru sorayım: \\nAcaba bytes() fonksiyonuna ilk parametre \\nolarak verdiğimiz karakter dizisi, ikinci \\nparametrede belirttiğimiz kod çözücü tarafından tanınmazsa ne olur?\\n\\nCevabı tahmin edebilirsiniz: Böyle bir durumda \\nelbette Python bize bir hata mesajı gösterir:\\n\\n\"\"\"\\nbytes(\\'şeker\\', \\'ascii\\')',\n",
       "  '\"\"\"\\nBu noktada size şöyle bir soru sorayım: \\nAcaba bytes() fonksiyonuna ilk parametre \\nolarak verdiğimiz karakter dizisi, ikinci \\nparametrede belirttiğimiz kod çözücü tarafından tanınmazsa ne olur?\\n\\nCevabı tahmin edebilirsiniz: Böyle bir durumda \\nelbette Python bize bir hata mesajı gösterir:\\n\\n\"\"\"\\nbytes(\\'şeker\\', \\'ascii\\')',\n",
       "  'bytes(\\'€\\', \\'cp857\\')\\n\"\"\"\\nş’ harfi ‘ASCII’ karakter kümesinde; ‘€’ işareti ise ‘CP857’ \\nadlı karakter kümesinde tanımlanmamış birer karakter olduğu \\niçin, ilgili kod çözücüler bu karakterleri çözüp bayta \\ndönüştüremiyor. Yazdığımız kodların bu tür durumlarda \\ntamamen çökmesini engellemek için, önceki derslerimizde de \\nçeşitli vesilelerle öğrenmiş olduğumuz errors adlı bir parametreden \\nyararlanabiliriz:\\n\"\"\"\\nbytes(\\'ışık\\', encoding=\\'ascii\\', errors=\\'replace\\')',\n",
       "  'bytes(\\'€\\', \\'cp857\\')\\n\"\"\"\\nş’ harfi ‘ASCII’ karakter kümesinde; ‘€’ işareti ise ‘CP857’ \\nadlı karakter kümesinde tanımlanmamış birer karakter olduğu \\niçin, ilgili kod çözücüler bu karakterleri çözüp bayta \\ndönüştüremiyor. Yazdığımız kodların bu tür durumlarda \\ntamamen çökmesini engellemek için, önceki derslerimizde de \\nçeşitli vesilelerle öğrenmiş olduğumuz errors adlı bir parametreden \\nyararlanabiliriz:\\n\"\"\"\\nbytes(\\'şeker\\', encoding=\\'ascii\\', errors=\\'replace\\')',\n",
       "  'bytes(\\'€\\', \\'cp857\\')\\n\"\"\"\\nş’ harfi ‘ASCII’ karakter kümesinde; ‘€’ işareti ise ‘CP857’ \\nadlı karakter kümesinde tanımlanmamış birer karakter olduğu \\niçin, ilgili kod çözücüler bu karakterleri çözüp bayta \\ndönüştüremiyor. Yazdığımız kodların bu tür durumlarda \\ntamamen çökmesini engellemek için, önceki derslerimizde de \\nçeşitli vesilelerle öğrenmiş olduğumuz errors adlı bir parametreden \\nyararlanabiliriz:\\n\"\"\"\\nbytes(\\'€\\', encoding=\\'cp857\\', errors=\\'ignore\\')',\n",
       "  '\"\"\"\\nş’ harfi ‘ASCII’ karakter kümesinde; ‘€’ işareti ise ‘CP857’ \\nadlı karakter kümesinde tanımlanmamış birer karakter olduğu \\niçin, ilgili kod çözücüler bu karakterleri çözüp bayta \\ndönüştüremiyor. Yazdığımız kodların bu tür durumlarda \\ntamamen çökmesini engellemek için, önceki derslerimizde de \\nçeşitli vesilelerle öğrenmiş olduğumuz errors adlı bir parametreden \\nyararlanabiliriz:\\n\"\"\"\\nbytes(\\'ışık\\', encoding=\\'ascii\\', errors=\\'replace\\')',\n",
       "  \"bytes('şeker', encoding='ascii', errors='replace')\",\n",
       "  \"bytes('€', encoding='cp857', errors='replace')\",\n",
       "  \"bytes('€', encoding='cp857', errors='ignore')\",\n",
       "  \"bytes('€', encoding='cp857', errors='xmlcharrefreplace')\",\n",
       "  \"bytes('şeker', encoding='cp857', errors='xmlcharrefreplace')\",\n",
       "  '\"\"\"\\nGördüğünüz gibi, errors parametresine verdiğimiz çeşitli değerler\\nyardımıyla, bytes() fonksiyonunun, encoding parametresinde belirtilen\\nkod çözücü ile çözülemeyen karakterlerle karşılaştığında nasıl\\ndavranacağını belirleyebiliyoruz.\\n\\n\\nerrors parametresine verdiğimiz bütün bu değerleri önceki\\nderslerimizde öğrenmiştik. Dolayısıyla yukarıda gösterdiğimiz\\nkodları rahatlıkla anlayabilecek kadar Python bilgisine sahibiz.\\n\\nSon olarak, bytes() fonksiyonuna parametre olarak 0-256 arası\\nsayılardan oluşan diziler de verebiliriz:\\nBu yapı içinde Python, 0 ile 128 arası sayılar için standart \\nASCII tablosunu, 128 ile 256 arası sayılar için ise Latin-1 \\nkarakter kümesini temel alarak sayıları birer bayta dönüştürecektir.\\n\"\"\"\\nbytes([65, 10, 12, 11, 15, 66])',\n",
       "  '\"\"\"\\nbytearray()\\nBildiğiniz gibi baytlar değiştirilemeyen bir veri tipidir. \\nDolayısıyla bir bayt veri tipi üzerinde herhangi bir değişiklik\\nyapamayız. Örneğin bir baytın herhangi bir öğesini başka bir \\ndeğerle değiştiremeyiz:\\n\"\"\"\\na = bytes(\\'istihza\\', \\'ascii\\')',\n",
       "  'a[0]',\n",
       "  'a[0]=106',\n",
       "  '\"\"\"\\nAma eğer hem baytlarla çalışmak, hem de bu baytların \\nüzerinde değişiklik yapabilmek isterseniz baytlar \\nyerine bayt dizileri ile çalışabilirsiniz. İşte \\nbunun için bytearray() adlı bir fonksiyondan yararlanıyoruz.\\n\\nYaptıkları iş bakımından bytearray() ve bytes()\\nfonksiyonları birbirlerine çok benzer. Bu ikisi \\narasındaki tek fark, bytearray() ile oluşturulan \\nveri tipinin, bytes() ile oluşturulan veri tipinin\\naksine, değiştirilebilir nitelikte olmasıdır:\\n\"\"\"\\na = bytearray(\\'adana\\', \\'ascii\\')',\n",
       "  'a',\n",
       "  'a[0] = 65',\n",
       "  'a',\n",
       "  'a',\n",
       "  '\"\"\"\\nchr()\\nBu fonksiyon, kendisine parametre olarak verilen bir tam \\nsayının karakter karşılığını döndürür. Örneğin:\\n\"\"\"\\nchr(10)',\n",
       "  'chr(65)',\n",
       "  '\"\"\"\\nBu fonksiyon sayıları karakterlere dönüştürürken \\nASCII sistemini değil, UNICODE sistemini temel alır.\\nDolayısıyla bu fonksiyon ile 128 (veya 255) üstü sayıları\\nda dönüştürebiliriz. Örneğin:\\n\"\"\"\\nchr(305)',\n",
       "  '\"\"\"\\nlist()\\nBu fonksiyon iki farklı amaç için kullanılabilir:\\n\\nListe tipinde bir veri oluşturmak\\n\\nFarklı veri tiplerini liste adlı veri tipine dönüştürmek\\n\\nBirinci amaç için bu fonksiyonu şu şekilde kullanıyoruz:\\n\\n\\n\"\"\"\\nliste=list()',\n",
       "  '\"\"\"\\nlist()\\nBu fonksiyon iki farklı amaç için kullanılabilir:\\n\\nListe tipinde bir veri oluşturmak\\n\\nFarklı veri tiplerini liste adlı veri tipine dönüştürmek\\n\\nBirinci amaç için bu fonksiyonu şu şekilde kullanıyoruz:\\n\\n\\n\"\"\"\\nliste=list()\\ntype(liste)',\n",
       "  '\"\"\"\\nlist()\\nBu fonksiyon iki farklı amaç için kullanılabilir:\\n\\nListe tipinde bir veri oluşturmak\\n\\nFarklı veri tiplerini liste adlı veri tipine dönüştürmek\\n\\nBirinci amaç için bu fonksiyonu şu şekilde kullanıyoruz:\\n\\n\\n\"\"\"\\nliste=list()\\nprint(liste)',\n",
       "  'liste=list(range(1,10))\\nprint(liste)',\n",
       "  'demet=tuple(range(1,10))',\n",
       "  'demet',\n",
       "  'demet\\ntype(demet)',\n",
       "  'demet',\n",
       "  'type(demet)',\n",
       "  'liste=list(demet)',\n",
       "  'liste',\n",
       "  'type(liste)',\n",
       "  '\"\"\"\\nset()\\nset() fonksiyonu list() fonksiyonuna çok benzer. \\nBu fonksiyon da tıpkı list() fonksiyonu gibi, veri\\ntipleri arasında dönüştürme işlemleri gerçekleştirmek \\niçin kullanılabilir. set() fonksiyonunun görevi farklı \\nveri tiplerini kümeye dönüştürmektir:\\n\"\"\"\\nküme=set(demet)',\n",
       "  'küme',\n",
       "  'type(küme)',\n",
       "  '\"\"\"\\ntuple()\\ntuple() fonksiyonu da, tıpkı list(), set() ve benzerleri \\ngibi bir dönüştürücü fonksiyondur. Bu fonksiyon farklı veri \\ntiplerini demete dönüştürür:\\n\"\"\"\\ndemet=tuple(demet)',\n",
       "  'demet',\n",
       "  'type(demet)',\n",
       "  '\"\"\"\\nfrozenset()\\nBu fonksiyonu kullanarak farklı veri tiplerini \\ndondurulmuş kümeye dönüştürebilirsiniz:\\n\"\"\"\\ndf=frozenset(demet)',\n",
       "  'df',\n",
       "  'df[0]',\n",
       "  'df[0][1]',\n",
       "  '\"\"\"\\ncomplex()\\nSayılardan söz ederken, eğer matematikle çok fazla \\niçli dışlı değilseniz pek karşılaşmayacağınız, \\n‘karmaşık sayı’ adlı bir sayı türünden de bahsetmiştik.\\nKarmaşık sayılar, bir gerçek, bir de sanal kısımdan oluşan sayılardır.\\n\\nKarmaşık sayılar Python’da ‘complex’ ifadesiyle gösteriliyor.\\nMesela şu bir karmaşık sayıdır:\\n\"\"\"\\n12+0j',\n",
       "  'type(12+2j)',\n",
       "  '\"\"\"\\nİşte eğer herhangi bir sayıyı karmaşık sayıya \\ndönüştürmeniz gerekirse complex() adlı bir fonksiyondan\\nyararlanabilirsiniz. Örneğin:\\nFLOAT İNTEGER COMPLEX\\n\"\"\"\\ncomplex(15)',\n",
       "  '\"\"\"\\nBöyle bir kod yazdığımızda, verdiğimiz parametre \\nkarmaşık sayının gerçek kısmını oluşturacak, sanal kısım\\nise 0 olarak kabul edilecektir. Elbette isterseniz sanal kısmı \\nkendiniz de belirleyebilirsiniz:\\n\"\"\"\\ncomplex(15, 2)',\n",
       "  '\"\"\"\\nfloat()\\nBu fonksiyonu, sayıları veya karakter dizilerini kayan noktalı\\nsayıya dönüştürmek için kullanıyoruz:\\n\"\"\"\\nfloat(\"134\")',\n",
       "  'float(12)',\n",
       "  '\"\"\"\\nint()\\nBu fonksiyon birkaç farklı amaç için kullanılabilir.\\nint() fonksiyonunun en temel görevi, bir karakter dizisi \\nveya kayan noktalı sayıyı (eğer mümkünse) tam sayıya dönüştürmektir:\\n\"\"\"\\nint(\\'10\\')',\n",
       "  'int(12.4)',\n",
       "  '\"\"\"\\nBunun dışında bu fonksiyonu, herhangi bir sayma\\nsisteminde temsil edilen bir sayıyı onlu sayma \\nsistemine dönüştürmek için de kullanabiliriz.\\nÖrneğin:\\nint(\\'12\\', 8)\\n\"\"\"',\n",
       "  '\"\"\"\\nBunun dışında bu fonksiyonu, herhangi bir sayma\\nsisteminde temsil edilen bir sayıyı onlu sayma \\nsistemine dönüştürmek için de kullanabiliriz.\\nÖrneğin:\\n\"\"\"\\nint(\\'12\\', 8)',\n",
       "  '\"\"\"\\nBurada, sekizli sayma sistemine ait sayı değerli bir karakter \\ndizisi olan ‘12’`yi onlu sayma sistemine dönüştürdük ve böylece \\n`10 sayısını elde ettik.\\n\\nint() fonksiyonunu sayma sistemleri arasında dönüştürme işlemlerinde\\nkullanabilmek için ilk parametrenin bir karakter dizisi olması \\ngerektiğine dikkat ediyoruz.\\n\\nBu arada, int(\\'12\\', 8) komutununun 12 sayısını sekizli sayma\\nsistemine dönüştürmediğine dikkat edin. Bu komutun yaptığı iş \\nsekizli sayma sistemindeki 12 sayısını onlu sayma sistemine \\ndönüştürmektir.\\n\\nint() fonksiyonunun bu kullanımıyla ilgili bir örnek daha verelim:\\n\"\"\"\\nint(\\'4cf\\', 16)',\n",
       "  '\"\"\"\\nstr()\\nBu fonksiyonun, farklı veri tiplerini karakter dizisine\\ndönüştürmek için kullanıldığını biliyorsunuz. Örneğin:\\n\"\"\"\\nstr(12)',\n",
       "  '\"\"\"\\nBurada 12 sayısını bir karakter dizisine dönüştürdük. \\nŞimdi de bir baytı karakter dizisine dönüştürelim:\\n\"\"\"\\nbayt = b\\'istihza\\'',\n",
       "  \"ardiz = str(bayt, encoding='utf-8')\\nprint(ardiz)\",\n",
       "  '\"\"\"\\nGördüğünüz gibi, bir baytı karakter dizisine dönüştürmek \\niçin str() fonksiyonuna encoding adlı bir parametre veriyoruz.\\nFonksiyonumuz, bu parametrede hangi kodlama biçimi belirtildiyse, \\nbaytları bu kodlama biçiminin kurallarına göre bir karakter \\ndizisine dönüştürüyor.\\n\\nTahmin edebileceğiniz gibi, belirttiğiniz kodlama biçiminin \\nherhangi bir baytı karakter dizisine dönüştüremediği durumlara \\nkarşı bir errors parametresi de verebiliriz str() fonksiyonuna.\\n\\nbayt = bytes(\\'kadın\\', encoding=\\'utf-8\\')\\nprint(bayt)\\nÖrneğin elimizde bayt tipinde şöyle bir veri olduğunu varsayalım:\\n\"\"\"\\nbayt = bytes(\\'kadın\\', encoding=\\'utf-8\\')\\nprint(bayt)',\n",
       "  '\"\"\"\\nGördüğünüz gibi, bir baytı karakter dizisine dönüştürmek \\niçin str() fonksiyonuna encoding adlı bir parametre veriyoruz.\\nFonksiyonumuz, bu parametrede hangi kodlama biçimi belirtildiyse, \\nbaytları bu kodlama biçiminin kurallarına göre bir karakter \\ndizisine dönüştürüyor.\\n\\nTahmin edebileceğiniz gibi, belirttiğiniz kodlama biçiminin \\nherhangi bir baytı karakter dizisine dönüştüremediği durumlara \\nkarşı bir errors parametresi de verebiliriz str() fonksiyonuna.\\n\\nÖrneğin elimizde bayt tipinde şöyle bir veri olduğunu varsayalım:\\n\"\"\"\\nbayt = bytes(\\'kadın\\', encoding=\\'utf-8\\')\\nprint(bayt)',\n",
       "  \"kardiz = str(bayt, encoding='ascii')\",\n",
       "  '\"\"\"\\nASCII adlı kod çözücü, b\\'kadın\\' içindeki baytlardan birini \\ntanıyamadığı için bize bir hata mesajı gösterdi. Bildiğiniz\\ngibi ASCII 128’den büyük baytları dönüştüremez. İşte bu tür \\ndurumlara karşı errors parametresinden yararlanabilirsiniz:\\n\"\"\"\\nkardiz = str(bayt, encoding=\\'ascii\\', errors=\\'ignore\\')\\nprint(kardiz)',\n",
       "  '\"\"\"\\nerrors parametresine verdiğimiz ‘ignore’ değeri sayesinde \\nPython bize hata mesajı göstermek yerine, ASCII ile çözülemeyen\\nbaytı görmezden geldi. errors parametresinin hangi değerleri\\nalabileceğini önceki derslerimizden hatırlıyor olmalısınız.\\ndict()\\nBu fonksiyon, farklı veri tiplerinden sözlükler üretmemizi sağlar.\\nÖrneğin bu fonksiyonu kullanarak boş bir sözlük oluşturabiliriz:\\n\"\"\"\\ns = dict()',\n",
       "  's = dict(a=1, b=2, c=3)',\n",
       "  's',\n",
       "  \"öğeler = (['a', 1], ['b', 2], ['c', 3])\\ndict(öğeler)\",\n",
       "  '\"\"\"\\ncallable()\\nBu fonksiyon, bir nesnenin ‘çağrılabilir’ olup olmadığını \\ndenetler. Peki hangi nesneler çağrılabilir özelliktedir. \\nMesela fonksiyonlar çağrılabilir nesnelerdir. Değişkenler \\nise çağrılabilir nesneler değildir.\\n\"\"\"\\ncallable(open)',\n",
       "  'import sys\\ncallable(sys.version)',\n",
       "  '\"\"\"\\nord()\\nBu fonksiyon, bir karakterin karşılık geldiği ondalık \\nsayıyı verir. Örneğin:\\n\"\"\"\\nord(1a)',\n",
       "  '\"\"\"\\nord()\\nBu fonksiyon, bir karakterin karşılık geldiği ondalık \\nsayıyı verir. Örneğin:\\n\"\"\"\\nord(\"a\")',\n",
       "  'ord(\"ı\")',\n",
       "  '\"\"\"\\noct()\\nBu fonksiyon, bir sayıyı sekizli düzendeki karşılığına \\nçevirmemizi sağlar:\\n\"\"\"\\noct(10)',\n",
       "  '\"\"\"\\nhex()\\nBu fonksiyon, bir sayıyı onaltılı düzendeki karşılığına çevirmemizi \\nsağlar:\\n\"\"\"\\nhex(305)',\n",
       "  '\"\"\"\\neval(), exec(), globals(), locals(), compile()\\nBu bölümde beş farklı fonksiyonu bir arada inceleyeceğiz. \\nBu fonksiyonları birlikte ele almamızın nedeni bunların \\nbirbiriyle yakından bağlantılı olması.\\n\\nBurada işleyeceğimiz bu beş fonksiyon şunlardan oluşuyor:\\n\\neval()\\n\\nexec()\\n\\nglobals()\\n\\nlocals()\\n\\ncompile()\\n\\nAncak bu fonksiyonlardan söz etmeye başlamadan önce \\nPython’daki iki önemli kavramı açıklığa kavuşturmamız \\ngerekiyor: Bu kavramlar şunlar:\\n\\nifade\\n\\ndeyim\\n\\nÖncelikle ‘ifade’ kavramından başlayalım.\\n\\nİngilizcede expression denen ‘ifadeler’, bir değer \\nüretmek için kullanılan kod parçalarıdır.\\nKarakter dizileri, sayılar, işleçler, öteki veri tipleri, \\nliste üreteçleri, sözlük üreteçleri, küme üreteçleri,\\nfonksiyonlar hep birer ifadedir. Örneğin:\\n\\n5\\n\\n23 + 4\\n\\n[i for i in range(10)]\\n\\nlen([1, 2, 3])\\nİngilizcede statement olarak adlandırılan ‘deyimler’ \\nise ifadeleri de kapsayan daha geniş bir kavramdır.\\nBuna göre bütün ifadeler aynı zamanda birer deyimdir. \\nDaha doğrusu, ifadelerin bir araya gelmesi ile deyimler\\noluşturulabilir.\\n\\nDeyimlere birkaç örnek verelim:\\n\\na = 5\\n\\nif a:\\n    print(a)\\n\\nfor i in range(10):\\n    print(i)\\nPython programlama dilinde deyimlerle ifadeleri ayırt\\netmenin kolay bir yolu da eval() fonksiyonundan yararlanmaktır.\\nEğer deyim mi yoksa ifade mi olduğundan emin olamadığınız \\nbir şeyi eval() fonksiyonuna parametre olarak verdiğinizde\\nhata almıyorsanız o parametre bir ifadedir. Eğer hata\\nalıyorsanız o parametre bir deyimdir. Çünkü eval()\\nfonksiyonuna parametre olarak yalnızca ifadeler verilebilir.\\n\\nBirkaç örnek verelim:\\n\\neval(\\'a = 5\\')\\n\\n  File \"<string>\", line 1\\n    a = 5\\n      ^\\nSyntaxError: invalid syntax\\nGördüğünüz gibi, eval() fonksiyonu bize bir hata mesajı verdi.\\nÇünkü a = 5 kodu bir deyimdir. Unutmayın, Python’da bütün\\ndeğer atama işlemleri birer deyimdir. Dolayısıyla eval() \\nfonksiyonu bu deyimi parametre olarak alamaz.\\n\\nBir de şuna bakalım:\\n\\neval(\\'5 + 25\\')\\n\\n30\\nBu defa hata almadık. Çünkü eval() fonksiyonuna, olması\\ngerektiği gibi, parametre olarak bir ifade verdik.\\nBildiğiniz gibi, 5 + 25 kodu bir ifadedir.\\n\\nDediğimiz gibi, eval() fonksiyonu deyimleri parametre \\nolarak alamaz. Ama exec() fonksiyonu alabilir:\\n\\nexec(\\'a = 5\\')\\nBu şekilde, değeri 5 olan a adlı bir değişken oluşturmuş \\nolduk. İsterseniz kontrol edelim:\\n\\nprint(a)\\n\\n5\\nGördüğünüz gibi, exec() fonksiyonu, mevcut isim alanı\\niçinde a adlı bir değişken oluşturdu. Yalnız elbette \\nmevcut isim alanı içinde yeni değişkenler ve yeni değerler \\noluştururken dikkatli olmamız gerektiğini biliyorsunuz.\\nZira mesela yukarıdaki komutu vermeden önce mevcut isim \\nalanında zaten a adlı bir değişken varsa, o değişkenin \\ndeğeri değişecektir:\\n\\na = 20\\nElimizde, değeri 20 olan a adlı bir değişken var. \\nŞimdi exec() fonksiyonu yardımıyla a değişkeninin\\nde içinde yer aldığı mevcut isim alanına müdahale ediyoruz:\\n\\nexec(\\'a = 10\\')\\nBöylece a değişkeninin eski değerini silmiş olduk. Kontrol edelim:\\n\\nprint(a)\\n\\n10\\nBu tür durumlarda, exec() ile oluşturduğunuz değişkenleri \\nglobal isim alanına değil de, farklı bir isim alanına \\ngöndermeyi tercih edebilirsiniz. Peki ama bunu nasıl yapacağız?\\n\\nPython programlama dilinde isim alanları sözlük tipinde bir veridir. \\nÖrneğin global isim alanı basit bir sözlükten ibarettir.\\n\\nGlobal isim alanını gösteren sözlükte hangi anahtar ve \\ndeğerlerin olduğunu görmek için globals() adlı bir \\nfonksiyonu kullanabilirsiniz:\\n\\nglobals()\\nBu fonksiyonu çalıştırdığımızda şuna benzer bir çıktı alırız:\\n\\n{\\'__doc__\\': None, \\'__loader__\\': <class \\'_frozen_importlib.BuiltinImpor\\nter\\'>,\\'__name__\\': \\'__main__\\', \\'__package__\\': None, \\'__builtins__\\':\\n<module \\'builtins\\'>}\\nGördüğünüz gibi, elimizdeki şey gerçekten de bir sözlük. \\nDolayısıyla bir sözlük ile ne yapabilirsek bu sözlükle de\\naynı şeyi yapabiliriz…\\n\\n‘globals’ adlı bu sözlüğün içeriği, o anda global isim\\nalanında bulunan nesnelere göre farklılık gösterecektir. Örneğin:\\n\\nx = 10\\nşeklinde 10 değerine sahip bir x nesnesi tanımladıktan sonra \\nglobals() fonksiyonunu tekrar çalıştırırsanız global isim\\nalanına bu nesnenin de eklenmiş olduğunu görürsünüz.\\n\\nDediğimiz gibi, globals() fonksiyonundan dönen nesne bir sözlüktür. \\nBu sözlüğe, herhangi bir sözlüğe veri ekler gibi değer de\\nekleyebilirsiniz:\\n\\nglobals()[\\'z\\'] = 23\\nBu şekilde global isim alanına z adlı bir değişken eklemiş oldunuz:\\n\\nz\\n\\n23\\nYalnız, Python programlama dili bize bu şekilde global isim alanına\\nnesne ekleme imkanı verse de, biz mecbur değilsek bu yöntemi\\nkullanmaktan kaçınmalıyız. Çünkü bu şekilde sıradışı bir yöntemle\\ndeğişken tanımladığımız için aslında global isim alanını, nerden \\ngeldiğini kestirmenin güç olduğu değerlerle ‘kirletmiş’ oluyoruz.\\n\\nBildiğiniz gibi, Python’da global isim alanı dışında bir de lokal isim \\nlanı bulunur. Lokal isim alanlarının, fonksiyonlara \\n(ve ileride göreceğimiz gibi sınıflara) ait bir isim alanı\\nolduğunu biliyorsunuz. İşte bu isim alanlarına ulaşmak için de \\nlocals() adlı bir fonksiyondan yararlanacağız:\\n\\ndef fonksiyon(param1, param2):\\n    x = 10\\n    print(locals())\\n\\nfonksiyon(10, 20)\\nBu fonksiyonu çalıştırdığınızda şu çıktıyı alacaksınız:\\n\\n{\\'param2\\': 20, \\'param1\\': 10, \\'x\\': 10}\\nGördüğünüz gibi, locals() fonksiyonu gerçekten de bize fonksiyon()\\nadlı fonksiyon içindeki lokal değerleri veriyor.\\n\\nglobals() ve locals() fonksiyonlarının ne işe yaradığını \\nincelediğimize göre exec() fonksiyonunu anlatırken kaldığımız yere \\ndönebiliriz.\\n\\nNe diyorduk?\\n\\nElimizde, değeri 20 olan a adlı bir değişken vardı:\\n\\na = 20\\nexec() fonksiyonu yardımıyla a değişkeninin de içinde yer aldığı \\nmevcut isim alanına müdahale edelim:\\n\\nexec(\\'a = 3\\')\\nBu şekilde a değişkeninin varolan değerini silmiş olduk:\\n\\nprint(a)\\n\\n3\\nDediğimiz gibi, bu tür durumlarda, exec() ile oluşturduğunuz \\ndeğişkenleri global isim alanı yerine farklı bir isim alanına \\ngöndermeyi tercih etmemiz daha uygun olacaktır. Python’da isim\\nalanlarının basit bir sözlük olduğunu öğrendiğimize göre, exec() \\nile oluşturduğumuz değişkenleri global isim alanı yerine nasıl \\nfarklı bir isim alanına göndereceğimizi görebiliriz.\\n\\nÖnce yeni bir isim alanı oluşturalım:\\n\\nia = {}\\nŞimdi exec() ile oluşturacağımız değerleri bu isim alanına \\ngönderebiliriz:\\n\\nexec(\\'a = 3\\', ia)\\nBöylece global isim alanındaki a değişkeninin değerine dokunmamış\\nolduk:\\n\\na\\n\\n20\\nYeni oluşturduğumuz değer ise ia adlı yeni isim alanına gitti:\\n\\nia[\\'a\\']\\n\\n3\\n\\n\"\"\"\\neval(\"a=5\")',\n",
       "  \"eval('5 + 25')\",\n",
       "  \"exec('a = 5')\",\n",
       "  'print(a)',\n",
       "  'a = 20',\n",
       "  \"exec('a = 10')\",\n",
       "  'print(a)',\n",
       "  '\"\"\"\\nBu tür durumlarda, exec() ile oluşturduğunuz\\ndeğişkenleri global isim alanına değil de, \\nfarklı bir isim alanına göndermeyi tercih edebilirsiniz. \\nPeki ama bunu nasıl yapacağız?\\nPython programlama dilinde isim alanları sözlük tipinde bir veridir.\\nÖrneğin global isim alanı basit bir sözlükten ibarettir.\\n\"\"\"\\nglobals()',\n",
       "  'x=10',\n",
       "  \"globals()['z'] = 23\",\n",
       "  'globals',\n",
       "  'globals()',\n",
       "  'z',\n",
       "  'class hayvan():\\n    model=\"renault\"',\n",
       "  'model',\n",
       "  'def fonksiyon(param1, param2):\\n    x = 10\\n    print(locals())',\n",
       "  'def fonksiyon(param1, param2):\\n    x = 10\\n    print(locals())\\nfonksiyon(10,20)',\n",
       "  'locals()'],\n",
       " '_oh': {1: 20,\n",
       "  2: 20,\n",
       "  3: 20.396078054371138,\n",
       "  4: 12,\n",
       "  5: 12,\n",
       "  6: 1,\n",
       "  7: 12,\n",
       "  8: 3.142857142857143,\n",
       "  9: 3,\n",
       "  10: 3,\n",
       "  11: 3.0,\n",
       "  12: 3.1,\n",
       "  13: 3.1429,\n",
       "  15: True,\n",
       "  16: False,\n",
       "  17: False,\n",
       "  18: True,\n",
       "  19: True,\n",
       "  24: True,\n",
       "  25: True,\n",
       "  26: '\\nany()\\nAny kelimesi İngilizcede ‘herhangi bir’ anlamına gelir.\\nİşte any() fonksiyonunun görevi de, bir dizi içindeki \\nbütün değerlerden en az biri True ise True çıktısı vermektir.\\nALL FONKSİYONUNUN TERSİ\\n',\n",
       "  27: False,\n",
       "  28: False,\n",
       "  29: True,\n",
       "  30: True,\n",
       "  31: False,\n",
       "  32: 'istihza',\n",
       "  40: '[',\n",
       "  41: \"'\\\\u015feker'\",\n",
       "  42: \"'şeker'\",\n",
       "  43: False,\n",
       "  44: True,\n",
       "  45: False,\n",
       "  46: '0b1100',\n",
       "  47: '0b1',\n",
       "  48: '0b10',\n",
       "  49: '0b11',\n",
       "  50: '0b100',\n",
       "  51: '0b101',\n",
       "  52: '0b110',\n",
       "  53: '0b111',\n",
       "  54: b'\\x00\\x00\\x00\\x00\\x00\\x00\\x00\\x00\\x00\\x00',\n",
       "  56: b'\\x00\\x00\\x00\\x00\\x00\\x00\\x00\\x00\\x00\\x00',\n",
       "  57: 0,\n",
       "  59: 0,\n",
       "  61: 0,\n",
       "  63: b'devrim',\n",
       "  64: b'\\xc4\\xb1\\xc5\\x9f\\xc4\\xb1k',\n",
       "  65: b'\\x8d\\x9f\\x8dk',\n",
       "  66: b'\\xfd\\xfe\\xfdk',\n",
       "  67: b'\\xc4\\xb1\\xc5\\x9f\\xc4\\xb1k',\n",
       "  68: b'\\xfd\\xfe\\xfdk',\n",
       "  69: b'\\x8d\\x9f\\x8dk',\n",
       "  78: b'???k',\n",
       "  79: b'?eker',\n",
       "  80: b'?',\n",
       "  81: b'',\n",
       "  82: b'&#8364;',\n",
       "  83: b'\\x9feker',\n",
       "  84: b'A\\n\\x0c\\x0b\\x0fB',\n",
       "  86: 105,\n",
       "  89: bytearray(b'Adana'),\n",
       "  91: bytearray(b'Adana'),\n",
       "  92: bytearray(b'Adana'),\n",
       "  93: '\\n',\n",
       "  94: 'A',\n",
       "  95: 'ı',\n",
       "  97: list,\n",
       "  101: (1, 2, 3, 4, 5, 6, 7, 8, 9),\n",
       "  102: tuple,\n",
       "  103: (1, 2, 3, 4, 5, 6, 7, 8, 9),\n",
       "  104: tuple,\n",
       "  106: [1, 2, 3, 4, 5, 6, 7, 8, 9],\n",
       "  107: list,\n",
       "  109: {1, 2, 3, 4, 5, 6, 7, 8, 9},\n",
       "  110: set,\n",
       "  112: (1, 2, 3, 4, 5, 6, 7, 8, 9),\n",
       "  113: tuple,\n",
       "  115: frozenset({1, 2, 3, 4, 5, 6, 7, 8, 9}),\n",
       "  118: (12+0j),\n",
       "  119: complex,\n",
       "  120: (15+0j),\n",
       "  121: (15+2j),\n",
       "  122: 134.0,\n",
       "  123: 12.0,\n",
       "  124: 10,\n",
       "  125: 12,\n",
       "  126: \"\\nBunun dışında bu fonksiyonu, herhangi bir sayma\\nsisteminde temsil edilen bir sayıyı onlu sayma \\nsistemine dönüştürmek için de kullanabiliriz.\\nÖrneğin:\\nint('12', 8)\\n\",\n",
       "  127: 10,\n",
       "  128: 1231,\n",
       "  129: '12',\n",
       "  138: {'a': 1, 'b': 2, 'c': 3},\n",
       "  139: {'a': 1, 'b': 2, 'c': 3},\n",
       "  140: True,\n",
       "  141: False,\n",
       "  143: 97,\n",
       "  144: 305,\n",
       "  145: '0o12',\n",
       "  146: '0x131',\n",
       "  148: 30,\n",
       "  154: {...},\n",
       "  157: <function globals()>,\n",
       "  158: {...},\n",
       "  159: 23},\n",
       " '_dh': ['/home/devrm1283/Masaüstü/Python'],\n",
       " 'In': ['',\n",
       "  '\"\"\"\\nGömülü Fonksiyonlar\\nBu bölümde, daha önce de birkaç kez bahsettiğimiz ve \\nçokça örneğini gördüğümüz bir kavramdan söz edeceğiz.\\nBu kavramın adı ‘gömülü fonksiyonlar’.\\n\\nEsasında biz buraya gelene kadar Python’da pek çok gömülü \\nfonksiyon gördük. Dolayısıyla aslında görünüş olarak bunların\\nneye benzediğini biliyoruz. Örneğin daha önceki derslerimizde\\ngördüğümüz print() gömülü bir fonksiyondur. \\nAynı şekilde open(), type(), len(), pow(), bin() \\nve şimdiye kadar tanıştığımız öteki bütün fonksiyonlar\\nbirer gömülü fonksiyondur.\\n\\nGömülü fonksiyonlar İngilizcede builtin functions olarak \\nadlandırılır. Bu fonksiyonlar gerçekten de dile gömülü\\nvaziyettedirler. Bildiğiniz gibi, bir fonksiyonu kullanabilmemiz \\niçin o fonksiyonu tanımlamamız gerekir. İşte gömülü fonksiyonlar,\\nbizim tanımlamamıza gerek kalmadan, Python geliştiricileri tarafından \\nönceden tanımlanıp dile gömülmüş ve hizmetimize sunulmuş faydalı\\nbirtakım araçlardır.\\n\\nİşte bu bölümde biz de bu gömülü fonksiyonları tek tek ve\\nayrıntılı olarak inceleyeceğiz. Dediğimiz gibi, bunlardan \\nbir kısmını halihazırda görmüştünüz. Ama biz bütünlük\\naçısından, önceden ele almış olduğumuz bu fonksiyonlara \\nda kısaca değinmeden geçmeyeceğiz. Böylelikle hem yeni \\nfonksiyonlar öğrenmiş olacağız hem de önceden öğrendiğimiz \\nfonksiyonlarla birlikte yeni fonksiyonları da derli toplu \\nbir şekilde görme imkanımız olacak.\\n\\nBu bölümde elbette birtakım fonksiyonları salt art arda \\nsıralamakla yetinmeyeceğiz. Python’daki gömülü fonksiyonları\\nincelerken bir yandan da Python programlama dilindeki çok\\nönemli bazı kavramları ele alacağız.\\n\\nİlk olarak abs() adlı bir fonksiyonla başlıyoruz gömülü \\nfonksiyonları incelemeye…\\n\\n\\nabs()\\nİngilizcede ‘mutlak’ anlamına gelen absolute adlı bir \\nkelime bulunur. İşte bu fonksiyonun adı da bu kelimeden \\ngelir. Fonksiyonumuzun görevi de isminin anlamına yakındır.\\nabs() fonksiyonunu bir sayının mutlak değerini elde etmek \\niçin kullanıyoruz.\\n\\n\\nPeki ‘mutlak değer’ ne anlama geliyor. Esasında siz bu \\nkavrama matematik derslerinden aşinasınız. Ama bilmeyenler\\nveya unutmuş olanlar için tekrar edelim. ‘Mutlak değer’\\nbir sayının 0’a olan uzaklığıdır. Örneğin 20 sayısının\\n0 sayısına olan uzaklığı 20’dir. Dolayısıyla 20 sayısının\\nmutlak değeri 20’dir. Aynı şekilde -20 sayısının da 0\\nsayısına uzaklığı 20’dir. Yani, -20 sayısının da mutlak \\ndeğeri 20’dir.\\n\\n\\nİşte abs() fonksiyonu bize bir sayının mutlak değerinin\\nne olduğunu söyler:\\nMutlak değer kavramı yalnızca tamsayılar ve kayan \\nnoktalı sayılar için değil, aynı zamanda karmaşık \\nsayılar için de geçerlidir. Dolayısıyla abs()\\nfonksiyonunu kullanarak karmaşık sayıların da\\nmutlak değerini hesaplayabiliriz:\\nGördüğünüz gibi bu fonksiyon yalnızca tek bir parametre\\nalıyor ve bu parametrenin mutlak değerini döndürüyor.\\n\"\"\"\\nabs(-20)',\n",
       "  'abs(20)',\n",
       "  'abs(20+4j)',\n",
       "  '\"\"\"\\nround()\\nround() fonksiyonu bir sayıyı belli ölçütlere\\ngöre yukarı veya aşağı doğru yuvarlamamızı sağlar.\\nBasit birkaç örnek verelim:\\n\"\"\"\\nround(12,4)',\n",
       "  'round(12,7)',\n",
       "  '\"\"\"\\nGördüğünüz gibi bu fonksiyon, kayan noktalı sayıları \\nen yakın tam sayıya doğru yuvarlıyor.\\n\\nAncak burada dikkat etmemiz gereken bir nokta var.\\n\\nŞu örnekleri bir inceleyelim:\\n\"\"\"\\nround(1,5)',\n",
       "  'round(12.5)',\n",
       "  '\"\"\"\\nGördüğünüz gibi, fonksiyonumuz 1.5 sayısını yukarı doğru, \\n12.5 sayısını ise aşağı doğru yuvarladı. Bunun sebebi,\\nkayan noktalı bir sayının üst ve alt tam sayılara olan \\nuzaklığının birbirine eşit olduğu durumlarda Python’ın\\nçift sayıya doğru yuvarlama yapmayı tercih etmesidir.\\nMesela yukarıdaki örneklerde 1.5 sayısı hem 1 sayısına,\\nhem de 2 sayısına eşit uzaklıkta bulunuyor. İşte Python\\nbu durumda, bir çift sayı olan 2 sayısına doğru yuvarlamayı\\ntercih edecektir.\\n\\nround() fonksiyonu toplam iki parametre alır. İlk parametre,\\nyuvarlanacak sayının kendisidir. Yuvarlama hassasiyetini \\nbelirlemek için ise ikinci bir parametreden yararlanabiliriz.\\n\\nÖrneğin 22 sayısını 7’ye böldüğümüzde normalde şöyle bir \\nçıktı elde ederiz:\\n\"\"\"\\n22/7',\n",
       "  '\"\"\"\\nround() fonksiyonunu tek parametre ile \\nkullandığımızda bu fonksiyon yukarıdaki\\nsayıyı şu şekilde yuvarlayacaktır:\\n\"\"\"\\nround(22/7)',\n",
       "  '\"\"\"\\nİşte biz round() fonksiyonuna ikinci bir parametre daha\\nvererek, yuvarlama hassasiyetini kontrol edebiliriz.\\n\\nAşağıdaki örnekleri dikkatlice inceleyin:\\n\"\"\"\\nround(22/7)',\n",
       "  'round(22/7,0)',\n",
       "  'round(22/7,1)',\n",
       "  'round(22/7,4)',\n",
       "  '\"\"\"\\nall()\\n\\nAll kelimesi Türkçede ‘hepsi’ anlamına gelir.\\nBu fonksiyonun görevi de bu anlamı çağrıştırır.\\nall() fonksiyonunun görevi, bir dizi içinde bulunan \\nbütün değerler True ise True değeri, eğer bu değerlerden\\nherhangi biri False ise de False değeri döndürmektir.\\n\\nÖrneğin elimizde şöyle bir liste olduğunu varsayalım:\\n\"\"\"\\nliste = [1, 2, 3, 4]',\n",
       "  'all(liste)',\n",
       "  '\"\"\"\\nBildiğiniz gibi, 0 hariç bütün sayıların bool değeri True’dur. \\nYukarıdaki listede False değeri verebilecek herhangi bir değer \\nbulunmadığından, all() fonksiyonu bu liste için True değerini \\nveriyor. Bir de şuna bakalım:\\n\"\"\"\\nliste = [0, 1, 2, 3, 4]\\nall(liste)',\n",
       "  '\"\"\"\\nDediğimiz gibi, all() fonksiyonu ancak dizi içindeki bütün \\ndeğerlerin bool değeri True ise True çıktısı verecektir.\\n\\nSon bir örnek daha verelim:\\n\"\"\"\\nliste = [\\'ahmet\\', \\'mehmet\\', \\'\\']\\nall(liste)',\n",
       "  '\"\"\"\\nListede False değerine sahip bir boş karakter dizisi bulunduğu\\niçin all() fonksiyonu False çıktısı veriyor.\\n\\nBu fonksiyonu her türlü kodun bool değerlerini test etmek için \\nkullanabilirsiniz. Mesela bu fonksiyonu kullanarak, bir nesnenin\\nlistelenen özelliklerin hepsine sahip olup olmadığını \\ndenetleyebilirsiniz:\\n\"\"\"\\na = 3\\nt1 = a == 3         #sayı 3 mü?\\nt2 = a < 4          #sayı 4\\'ten küçük mü?\\nt3 = a % 2 == 1     #sayı bir tek sayı mı?\\nall([t1, t2, t3])   #sayı bu özelliklerin hepsine sahip mi?',\n",
       "  '\"\"\"\\nListede False değerine sahip bir boş karakter dizisi bulunduğu\\niçin all() fonksiyonu False çıktısı veriyor.\\n\\nBu fonksiyonu her türlü kodun bool değerlerini test etmek için \\nkullanabilirsiniz. Mesela bu fonksiyonu kullanarak, bir nesnenin\\nlistelenen özelliklerin hepsine sahip olup olmadığını \\ndenetleyebilirsiniz:\\n\"\"\"\\na = 3\\nt1 = a == 3         #sayı 3 mü?\\nt2 = a < 4          #sayı 4\\'ten küçük mü?\\nt3 = a % 2 == 1     #sayı bir tek sayı mı?\\nall([t1, t2, t3])   #sayı bu özelliklerin hepsine sahip mi?',\n",
       "  'a = 3\\nt1 = a == 3   \\nall(t1)',\n",
       "  'a = 3\\nt1 = a == 3   \\nt2 = a < 4   \\nall(t1)',\n",
       "  'a = 3\\nt1 = a == 3   \\nt2 = a < 4   \\nall(t1,t2)',\n",
       "  'a = 3\\nt1 = a == 3   \\nt2 = a < 4   \\nt3 = a % 2 == 1 \\nall(t1,t2,t3)',\n",
       "  '\"\"\"\\nListede False değerine sahip bir boş karakter dizisi bulunduğu\\niçin all() fonksiyonu False çıktısı veriyor.\\n\\nBu fonksiyonu her türlü kodun bool değerlerini test etmek için \\nkullanabilirsiniz. Mesela bu fonksiyonu kullanarak, bir nesnenin\\nlistelenen özelliklerin hepsine sahip olup olmadığını \\ndenetleyebilirsiniz:\\n\"\"\"\\na = 3\\nt1 = a == 3         #sayı 3 mü?\\nt2 = a < 4          #sayı 4\\'ten küçük mü?\\nt3 = a % 2 == 1     #sayı bir tek sayı mı?\\nall([t1, t2, t3])   #sayı bu özelliklerin hepsine sahip mi?',\n",
       "  'a = 3\\nt1 = a == 3   \\nt2 = a < 4   \\nt3 = a % 2 == 1 \\nall([t1])',\n",
       "  '\"\"\"\\nany()\\nAny kelimesi İngilizcede ‘herhangi bir’ anlamına gelir.\\nİşte any() fonksiyonunun görevi de, bir dizi içindeki \\nbütün değerlerden en az biri True ise True çıktısı vermektir.\\nALL FONKSİYONUNUN TERSİ\\n\"\"\"',\n",
       "  '\"\"\"\\nany()\\nAny kelimesi İngilizcede ‘herhangi bir’ anlamına gelir.\\nİşte any() fonksiyonunun görevi de, bir dizi içindeki \\nbütün değerlerden en az biri True ise True çıktısı vermektir.\\nALL FONKSİYONUNUN TERSİ\\n\"\"\"\\nliste = [0, 1, 2, 3, 4]\\nall(liste)',\n",
       "  \"liste = ['ahmet', 'mehmet', '']\\nall(liste)\",\n",
       "  '\"\"\"\\nany()\\nAny kelimesi İngilizcede ‘herhangi bir’ anlamına gelir.\\nİşte any() fonksiyonunun görevi de, bir dizi içindeki \\nbütün değerlerden en az biri True ise True çıktısı vermektir.\\nALL FONKSİYONUNUN TERSİ\\n\"\"\"\\nliste = [0, 1, 2, 3, 4]\\nany(liste)',\n",
       "  \"liste = ['ahmet', 'mehmet', '']\\nany(liste)\",\n",
       "  \"l = ['', 0, [], (), set(), dict()]\\nany(l)\",\n",
       "  '\"\"\"\\nascii()\\nBu fonksiyon, bir nesnenin ekrana basılabilir\\nhalini verir bize. Dilerseniz bu fonksiyonun yaptığı \\nişi tanımlamak yerine bunu bir örnek üzerinden anlatmaya çalışalım:\\n\"\"\"\\na = \\'istihza\\'\\nprint(ascii(a))\\n\\n\\'istihza\\'',\n",
       "  '\"\"\"\\nBu fonksiyonun, print() fonksiyonundan farklı olarak,\\nçıktıya tırnak işaretlerini de eklediğine dikkat edin.\\n\\nascii() fonksiyonunun tam olarak ne yaptığını daha iyi \\nanlamak için herhalde şu örnek daha faydalı olacaktır.\\n\\nDikkatlice bakın:\\n\"\"\"\\nprint(\\'\\\\n\\')',\n",
       "  '\"\"\"\\nBu komutu verdiğimizde, n kaçış dizisinin etkisiyle\\nyeni satıra geçileceğini biliyorsunuz.\\n\\nBir de şuna bakın:\\n\"\"\"\\nprint(ascii(\\'\\\\n!\\'))',\n",
       "  '\"\"\"\\nBu komutu verdiğimizde, n kaçış dizisinin etkisiyle\\nyeni satıra geçileceğini biliyorsunuz.\\n\\nBir de şuna bakın:\\n\"\"\"\\nprint(ascii(\\'\\\\n\\'))',\n",
       "  '\"\"\"\\nGördüğünüz gibi, ascii() fonksiyonu, satır başı kaçış \\ndizisinin görevini yapmasını sağlamak yerine bu kaçış \\ndizisinin ekrana basılabilir halini veriyor bize.\\n\\n\\nAyrıca bu fonksiyon, karakter dizileri içindeki Türkçe\\nkarakterlerin de UNICODE temsillerini döndürür. Örneğin:\\n\"\"\"\\na = \\'ışık\\'\\nprint(ascii(a))',\n",
       "  'a=\"Devrim Tunçer\"\\nprint(ascii(a))',\n",
       "  '\"\"\"\\nGördüğünüz gibi, ascii() fonksiyonu ASCII olmayan karakterlerle \\nkarşılaştığında bunların karakter temsilleri yerine UNICODE\\ntemsillerini (veya onaltılık sayma düzenindeki karşılıklarını)\\nveriyor.\\n\\nSon olarak şu örneğe bakalım:\\n\"\"\"\\nliste = [\\'elma\\', \\'armut\\', \\'erik\\']\\ntemsil = ascii(liste)\\nprint(temsil)',\n",
       "  '\"\"\"\\nBurada listemiz ascii() fonksiyonuna parametre olarak \\nverildikten sonra artık liste olma özelliğini yitirip \\nbir karakter dizisi haline gelir. Bunu denetleyelim:\\n\"\"\"\\nprint(type(temsil))',\n",
       "  'temsil[0]',\n",
       "  '\"\"\"\\nrepr()\\nrepr() fonksiyonunun yaptığı iş, biraz önce gördüğümüz ascii() \\nfonksiyonunun yaptığı işe çok benzer. Bu iki fonksiyon, ASCII\\nolmayan karakterlere muameleleri açısından birbirinden ayrılır.\\n\\nHatırlarsanız ascii() fonksiyonu ASCII olmayan karakterlerle \\nkarşılaştığında bunların UNICODE (veya onaltılık) temsillerini\\ngösteriyordu\\n\"\"\"\\nascii(\"şeker\")',\n",
       "  '\"\"\"\\nrepr() fonksiyonu ise ASCII olmayan karakterlerle karşılaşsa bile,\\nbize çıktı olarak bunların da karakter karşılıklarını gösterir:\\n\"\"\"\\nrepr(\"şeker\")',\n",
       "  '\"\"\"\\nbool()\\nBu fonksiyon bir nesnenin bool değerini verir:\\n\"\"\"\\nbool(0)',\n",
       "  'bool(1)',\n",
       "  'bool([])',\n",
       "  '\"\"\"\\nbin()\\nBu fonksiyon, bir sayının ikili düzendeki karşılığını verir:\\nBu fonksiyonun verdiği çıktının bir sayı değil,\\nkarakter dizisi olduğuna dikkat etmelisiniz.\\n\"\"\"\\nbin(12)',\n",
       "  'bin(1)',\n",
       "  'bin(2)',\n",
       "  'bin(3)',\n",
       "  'bin(4)',\n",
       "  'bin(5)',\n",
       "  'bin(6)',\n",
       "  'bin(7)',\n",
       "  '\"\"\"\\nbytes()\\nBu fonksiyon bytes türünde nesneler oluşturmak için kullanılır. \\nBu fonksiyonu ‘bayt’ adlı veri tipini incelerken ayrıntılı olarak \\nele almıştık. Gelin isterseniz burada da bu fonksiyona şöyle bir\\ndeğinelim.\\n\\nDediğimiz gibi, bytes() adlı fonksiyon, bytes türünde veriler\\noluşturmaya yarar. Bu fonksiyon işlev olarak, daha önce öğrendiğimiz \\nlist(), str(), int(), set(), dict() gibi fonksiyonlara çok benzer. \\nTıpkı bu fonksiyonlar gibi, bytes() fonksiyonunun görevi de farklı\\nveri tiplerini ‘bayt’ adlı veri tipine dönüştürmektir.\\n\\nBu fonksiyon, kendisine verilen parametrelerin türüne bağlı olarak \\nbirbirinden farklı sonuçlar ortaya çıkarır. Örneğin eğer bu fonksiyona\\nparametre olarak bir tam sayı verecek olursanız, bu fonksiyon size\\no tam sayı miktarınca bir bayt nesnesi verecektir. Gelin isterseniz\\nbu durumu örnekler üzerinde göstermeye çalışalım:\\n\"\"\"\\nbytes(10)',\n",
       "  'a=bytes(10)',\n",
       "  'a',\n",
       "  'a[0]',\n",
       "  'a(7)',\n",
       "  'a[7]',\n",
       "  'a[10]',\n",
       "  'a[9]',\n",
       "  '\"\"\"\\nGördüğünüz gibi, bytes(10) komutuyla oluşturduğumuz a \\ndeğişkeni içinde toplam 10 adet bayt var ve bu baytların her \\nbirinin değeri 0.\\n\\nYukarıda, bytes() fonksiyonuna bir tam sayı değerli \\nparametre verdiğimizde nasıl bir sonuç alacağımızı öğrendik.\\nPeki biz bu fonksiyona parametre olarak bir karakter dizisi \\nverirsek ne olur?\\n\\nHemen görelim:\\n\"\"\"\\nbytes(\"devrim\")',\n",
       "  '\"\"\"\\nBu fonksiyona karakter dizilerini doğrudan parametre olarak\\nveremeyiz. Eğer verirsek yukarıdaki gibi bir hata alırız.\\nPeki acaba bu hatayı almamızın nedeni ne olabilir?\\n\\nDediğimiz gibi, bytes() fonksiyonu, çeşitli veri tiplerini \\nbayta dönüştürmeye yarar. Ancak bildiğiniz gibi,\\nbayta dönüştürme işlemi her kod çözücü tarafından\\nfarklı biçimde yapılır. Örneğin:\\n\"\"\"\\n\"devrim\".encode(\"utf-8\")',\n",
       "  '\"\"\"\\nBu fonksiyona karakter dizilerini doğrudan parametre olarak\\nveremeyiz. Eğer verirsek yukarıdaki gibi bir hata alırız.\\nPeki acaba bu hatayı almamızın nedeni ne olabilir?\\n\\nDediğimiz gibi, bytes() fonksiyonu, çeşitli veri tiplerini \\nbayta dönüştürmeye yarar. Ancak bildiğiniz gibi,\\nbayta dönüştürme işlemi her kod çözücü tarafından\\nfarklı biçimde yapılır. Örneğin:\\n\"\"\"\\n\"ışık\".encode(\"utf-8\")',\n",
       "  \"'ışık'.encode('cp857')\",\n",
       "  \"'ışık'.encode('cp1254')\",\n",
       "  '\"\"\"\\nDolayısıyla, bytes() fonksiyonunun bir karakter dizisini\\nbayta çevirirken nasıl davranması gerektiğini anlayabilmesi\\niçin, bayta dönüştürme işlemini hangi kod çözücü ile yapmak\\nistediğimizi açıkça belirtmemiz gerekir:\\n\"\"\"\\nbytes(\"ışık\",\"utf-8\")',\n",
       "  \"bytes('ışık', 'cp1254')\",\n",
       "  \"bytes('ışık', 'cp857')\",\n",
       "  '\"\"\"\\nGördüğünüz gibi, bytes() fonksiyonuna parametre olarak bir karakter \\ndizisi verebilmek için, bu karakter dizisi ile birlikte bir\\nkod çözücü de belirtmemiz gerekiyor. Böylece bytes() fonksiyonu\\nkendisine verdiğimiz karakter dizisini, belirttiğimiz kod\\nçözücünün kurallarına göre bayta dönüştürüyor.\\n\\nBu arada, çıktıda görünen ‘b’ harflerinin, elimizdeki verinin \\nbir bayt olduğunu gösteren bir işaret olduğunu biliyorsunuz.\\n\\nAyrıca, bytes() fonksiyonuna verdiğimiz ikinci parametrenin \\nisminin encoding olduğunu ve bu parametreyi isimli bir \\nparametre olarak da kullanabileceğimizi belirtelim:\\n\"\"\"\\nbytes(\"devrim\",encoding(\"ascii\"))',\n",
       "  '\"\"\"\\nGördüğünüz gibi, bytes() fonksiyonuna parametre olarak bir karakter \\ndizisi verebilmek için, bu karakter dizisi ile birlikte bir\\nkod çözücü de belirtmemiz gerekiyor. Böylece bytes() fonksiyonu\\nkendisine verdiğimiz karakter dizisini, belirttiğimiz kod\\nçözücünün kurallarına göre bayta dönüştürüyor.\\n\\nBu arada, çıktıda görünen ‘b’ harflerinin, elimizdeki verinin \\nbir bayt olduğunu gösteren bir işaret olduğunu biliyorsunuz.\\n\\nAyrıca, bytes() fonksiyonuna verdiğimiz ikinci parametrenin \\nisminin encoding olduğunu ve bu parametreyi isimli bir \\nparametre olarak da kullanabileceğimizi belirtelim:\\n\"\"\"\\nbytes(\"istiizha\",encoding(\"ascii\"))',\n",
       "  '\"\"\"\\nGördüğünüz gibi, bytes() fonksiyonuna parametre olarak bir karakter \\ndizisi verebilmek için, bu karakter dizisi ile birlikte bir\\nkod çözücü de belirtmemiz gerekiyor. Böylece bytes() fonksiyonu\\nkendisine verdiğimiz karakter dizisini, belirttiğimiz kod\\nçözücünün kurallarına göre bayta dönüştürüyor.\\n\\nBu arada, çıktıda görünen ‘b’ harflerinin, elimizdeki verinin \\nbir bayt olduğunu gösteren bir işaret olduğunu biliyorsunuz.\\n\\nAyrıca, bytes() fonksiyonuna verdiğimiz ikinci parametrenin \\nisminin encoding olduğunu ve bu parametreyi isimli bir \\nparametre olarak da kullanabileceğimizi belirtelim:\\n\"\"\"\\nbytes(\"istizha\",encoding(\"ascii\"))',\n",
       "  '\"\"\"\\nBu noktada size şöyle bir soru sorayım: \\nAcaba bytes() fonksiyonuna ilk parametre \\nolarak verdiğimiz karakter dizisi, ikinci \\nparametrede belirttiğimiz kod çözücü tarafından tanınmazsa ne olur?\\n\\nCevabı tahmin edebilirsiniz: Böyle bir durumda \\nelbette Python bize bir hata mesajı gösterir:\\n\\n\"\"\"\\nbytes(\\'şeker\\', \\'ascii\\')',\n",
       "  '\"\"\"\\nBu noktada size şöyle bir soru sorayım: \\nAcaba bytes() fonksiyonuna ilk parametre \\nolarak verdiğimiz karakter dizisi, ikinci \\nparametrede belirttiğimiz kod çözücü tarafından tanınmazsa ne olur?\\n\\nCevabı tahmin edebilirsiniz: Böyle bir durumda \\nelbette Python bize bir hata mesajı gösterir:\\n\\n\"\"\"\\nbytes(\\'şeker\\', \\'ascii\\')',\n",
       "  'bytes(\\'€\\', \\'cp857\\')\\n\"\"\"\\nş’ harfi ‘ASCII’ karakter kümesinde; ‘€’ işareti ise ‘CP857’ \\nadlı karakter kümesinde tanımlanmamış birer karakter olduğu \\niçin, ilgili kod çözücüler bu karakterleri çözüp bayta \\ndönüştüremiyor. Yazdığımız kodların bu tür durumlarda \\ntamamen çökmesini engellemek için, önceki derslerimizde de \\nçeşitli vesilelerle öğrenmiş olduğumuz errors adlı bir parametreden \\nyararlanabiliriz:\\n\"\"\"\\nbytes(\\'ışık\\', encoding=\\'ascii\\', errors=\\'replace\\')',\n",
       "  'bytes(\\'€\\', \\'cp857\\')\\n\"\"\"\\nş’ harfi ‘ASCII’ karakter kümesinde; ‘€’ işareti ise ‘CP857’ \\nadlı karakter kümesinde tanımlanmamış birer karakter olduğu \\niçin, ilgili kod çözücüler bu karakterleri çözüp bayta \\ndönüştüremiyor. Yazdığımız kodların bu tür durumlarda \\ntamamen çökmesini engellemek için, önceki derslerimizde de \\nçeşitli vesilelerle öğrenmiş olduğumuz errors adlı bir parametreden \\nyararlanabiliriz:\\n\"\"\"\\nbytes(\\'şeker\\', encoding=\\'ascii\\', errors=\\'replace\\')',\n",
       "  'bytes(\\'€\\', \\'cp857\\')\\n\"\"\"\\nş’ harfi ‘ASCII’ karakter kümesinde; ‘€’ işareti ise ‘CP857’ \\nadlı karakter kümesinde tanımlanmamış birer karakter olduğu \\niçin, ilgili kod çözücüler bu karakterleri çözüp bayta \\ndönüştüremiyor. Yazdığımız kodların bu tür durumlarda \\ntamamen çökmesini engellemek için, önceki derslerimizde de \\nçeşitli vesilelerle öğrenmiş olduğumuz errors adlı bir parametreden \\nyararlanabiliriz:\\n\"\"\"\\nbytes(\\'€\\', encoding=\\'cp857\\', errors=\\'ignore\\')',\n",
       "  '\"\"\"\\nş’ harfi ‘ASCII’ karakter kümesinde; ‘€’ işareti ise ‘CP857’ \\nadlı karakter kümesinde tanımlanmamış birer karakter olduğu \\niçin, ilgili kod çözücüler bu karakterleri çözüp bayta \\ndönüştüremiyor. Yazdığımız kodların bu tür durumlarda \\ntamamen çökmesini engellemek için, önceki derslerimizde de \\nçeşitli vesilelerle öğrenmiş olduğumuz errors adlı bir parametreden \\nyararlanabiliriz:\\n\"\"\"\\nbytes(\\'ışık\\', encoding=\\'ascii\\', errors=\\'replace\\')',\n",
       "  \"bytes('şeker', encoding='ascii', errors='replace')\",\n",
       "  \"bytes('€', encoding='cp857', errors='replace')\",\n",
       "  \"bytes('€', encoding='cp857', errors='ignore')\",\n",
       "  \"bytes('€', encoding='cp857', errors='xmlcharrefreplace')\",\n",
       "  \"bytes('şeker', encoding='cp857', errors='xmlcharrefreplace')\",\n",
       "  '\"\"\"\\nGördüğünüz gibi, errors parametresine verdiğimiz çeşitli değerler\\nyardımıyla, bytes() fonksiyonunun, encoding parametresinde belirtilen\\nkod çözücü ile çözülemeyen karakterlerle karşılaştığında nasıl\\ndavranacağını belirleyebiliyoruz.\\n\\n\\nerrors parametresine verdiğimiz bütün bu değerleri önceki\\nderslerimizde öğrenmiştik. Dolayısıyla yukarıda gösterdiğimiz\\nkodları rahatlıkla anlayabilecek kadar Python bilgisine sahibiz.\\n\\nSon olarak, bytes() fonksiyonuna parametre olarak 0-256 arası\\nsayılardan oluşan diziler de verebiliriz:\\nBu yapı içinde Python, 0 ile 128 arası sayılar için standart \\nASCII tablosunu, 128 ile 256 arası sayılar için ise Latin-1 \\nkarakter kümesini temel alarak sayıları birer bayta dönüştürecektir.\\n\"\"\"\\nbytes([65, 10, 12, 11, 15, 66])',\n",
       "  '\"\"\"\\nbytearray()\\nBildiğiniz gibi baytlar değiştirilemeyen bir veri tipidir. \\nDolayısıyla bir bayt veri tipi üzerinde herhangi bir değişiklik\\nyapamayız. Örneğin bir baytın herhangi bir öğesini başka bir \\ndeğerle değiştiremeyiz:\\n\"\"\"\\na = bytes(\\'istihza\\', \\'ascii\\')',\n",
       "  'a[0]',\n",
       "  'a[0]=106',\n",
       "  '\"\"\"\\nAma eğer hem baytlarla çalışmak, hem de bu baytların \\nüzerinde değişiklik yapabilmek isterseniz baytlar \\nyerine bayt dizileri ile çalışabilirsiniz. İşte \\nbunun için bytearray() adlı bir fonksiyondan yararlanıyoruz.\\n\\nYaptıkları iş bakımından bytearray() ve bytes()\\nfonksiyonları birbirlerine çok benzer. Bu ikisi \\narasındaki tek fark, bytearray() ile oluşturulan \\nveri tipinin, bytes() ile oluşturulan veri tipinin\\naksine, değiştirilebilir nitelikte olmasıdır:\\n\"\"\"\\na = bytearray(\\'adana\\', \\'ascii\\')',\n",
       "  'a',\n",
       "  'a[0] = 65',\n",
       "  'a',\n",
       "  'a',\n",
       "  '\"\"\"\\nchr()\\nBu fonksiyon, kendisine parametre olarak verilen bir tam \\nsayının karakter karşılığını döndürür. Örneğin:\\n\"\"\"\\nchr(10)',\n",
       "  'chr(65)',\n",
       "  '\"\"\"\\nBu fonksiyon sayıları karakterlere dönüştürürken \\nASCII sistemini değil, UNICODE sistemini temel alır.\\nDolayısıyla bu fonksiyon ile 128 (veya 255) üstü sayıları\\nda dönüştürebiliriz. Örneğin:\\n\"\"\"\\nchr(305)',\n",
       "  '\"\"\"\\nlist()\\nBu fonksiyon iki farklı amaç için kullanılabilir:\\n\\nListe tipinde bir veri oluşturmak\\n\\nFarklı veri tiplerini liste adlı veri tipine dönüştürmek\\n\\nBirinci amaç için bu fonksiyonu şu şekilde kullanıyoruz:\\n\\n\\n\"\"\"\\nliste=list()',\n",
       "  '\"\"\"\\nlist()\\nBu fonksiyon iki farklı amaç için kullanılabilir:\\n\\nListe tipinde bir veri oluşturmak\\n\\nFarklı veri tiplerini liste adlı veri tipine dönüştürmek\\n\\nBirinci amaç için bu fonksiyonu şu şekilde kullanıyoruz:\\n\\n\\n\"\"\"\\nliste=list()\\ntype(liste)',\n",
       "  '\"\"\"\\nlist()\\nBu fonksiyon iki farklı amaç için kullanılabilir:\\n\\nListe tipinde bir veri oluşturmak\\n\\nFarklı veri tiplerini liste adlı veri tipine dönüştürmek\\n\\nBirinci amaç için bu fonksiyonu şu şekilde kullanıyoruz:\\n\\n\\n\"\"\"\\nliste=list()\\nprint(liste)',\n",
       "  'liste=list(range(1,10))\\nprint(liste)',\n",
       "  'demet=tuple(range(1,10))',\n",
       "  'demet',\n",
       "  'demet\\ntype(demet)',\n",
       "  'demet',\n",
       "  'type(demet)',\n",
       "  'liste=list(demet)',\n",
       "  'liste',\n",
       "  'type(liste)',\n",
       "  '\"\"\"\\nset()\\nset() fonksiyonu list() fonksiyonuna çok benzer. \\nBu fonksiyon da tıpkı list() fonksiyonu gibi, veri\\ntipleri arasında dönüştürme işlemleri gerçekleştirmek \\niçin kullanılabilir. set() fonksiyonunun görevi farklı \\nveri tiplerini kümeye dönüştürmektir:\\n\"\"\"\\nküme=set(demet)',\n",
       "  'küme',\n",
       "  'type(küme)',\n",
       "  '\"\"\"\\ntuple()\\ntuple() fonksiyonu da, tıpkı list(), set() ve benzerleri \\ngibi bir dönüştürücü fonksiyondur. Bu fonksiyon farklı veri \\ntiplerini demete dönüştürür:\\n\"\"\"\\ndemet=tuple(demet)',\n",
       "  'demet',\n",
       "  'type(demet)',\n",
       "  '\"\"\"\\nfrozenset()\\nBu fonksiyonu kullanarak farklı veri tiplerini \\ndondurulmuş kümeye dönüştürebilirsiniz:\\n\"\"\"\\ndf=frozenset(demet)',\n",
       "  'df',\n",
       "  'df[0]',\n",
       "  'df[0][1]',\n",
       "  '\"\"\"\\ncomplex()\\nSayılardan söz ederken, eğer matematikle çok fazla \\niçli dışlı değilseniz pek karşılaşmayacağınız, \\n‘karmaşık sayı’ adlı bir sayı türünden de bahsetmiştik.\\nKarmaşık sayılar, bir gerçek, bir de sanal kısımdan oluşan sayılardır.\\n\\nKarmaşık sayılar Python’da ‘complex’ ifadesiyle gösteriliyor.\\nMesela şu bir karmaşık sayıdır:\\n\"\"\"\\n12+0j',\n",
       "  'type(12+2j)',\n",
       "  '\"\"\"\\nİşte eğer herhangi bir sayıyı karmaşık sayıya \\ndönüştürmeniz gerekirse complex() adlı bir fonksiyondan\\nyararlanabilirsiniz. Örneğin:\\nFLOAT İNTEGER COMPLEX\\n\"\"\"\\ncomplex(15)',\n",
       "  '\"\"\"\\nBöyle bir kod yazdığımızda, verdiğimiz parametre \\nkarmaşık sayının gerçek kısmını oluşturacak, sanal kısım\\nise 0 olarak kabul edilecektir. Elbette isterseniz sanal kısmı \\nkendiniz de belirleyebilirsiniz:\\n\"\"\"\\ncomplex(15, 2)',\n",
       "  '\"\"\"\\nfloat()\\nBu fonksiyonu, sayıları veya karakter dizilerini kayan noktalı\\nsayıya dönüştürmek için kullanıyoruz:\\n\"\"\"\\nfloat(\"134\")',\n",
       "  'float(12)',\n",
       "  '\"\"\"\\nint()\\nBu fonksiyon birkaç farklı amaç için kullanılabilir.\\nint() fonksiyonunun en temel görevi, bir karakter dizisi \\nveya kayan noktalı sayıyı (eğer mümkünse) tam sayıya dönüştürmektir:\\n\"\"\"\\nint(\\'10\\')',\n",
       "  'int(12.4)',\n",
       "  '\"\"\"\\nBunun dışında bu fonksiyonu, herhangi bir sayma\\nsisteminde temsil edilen bir sayıyı onlu sayma \\nsistemine dönüştürmek için de kullanabiliriz.\\nÖrneğin:\\nint(\\'12\\', 8)\\n\"\"\"',\n",
       "  '\"\"\"\\nBunun dışında bu fonksiyonu, herhangi bir sayma\\nsisteminde temsil edilen bir sayıyı onlu sayma \\nsistemine dönüştürmek için de kullanabiliriz.\\nÖrneğin:\\n\"\"\"\\nint(\\'12\\', 8)',\n",
       "  '\"\"\"\\nBurada, sekizli sayma sistemine ait sayı değerli bir karakter \\ndizisi olan ‘12’`yi onlu sayma sistemine dönüştürdük ve böylece \\n`10 sayısını elde ettik.\\n\\nint() fonksiyonunu sayma sistemleri arasında dönüştürme işlemlerinde\\nkullanabilmek için ilk parametrenin bir karakter dizisi olması \\ngerektiğine dikkat ediyoruz.\\n\\nBu arada, int(\\'12\\', 8) komutununun 12 sayısını sekizli sayma\\nsistemine dönüştürmediğine dikkat edin. Bu komutun yaptığı iş \\nsekizli sayma sistemindeki 12 sayısını onlu sayma sistemine \\ndönüştürmektir.\\n\\nint() fonksiyonunun bu kullanımıyla ilgili bir örnek daha verelim:\\n\"\"\"\\nint(\\'4cf\\', 16)',\n",
       "  '\"\"\"\\nstr()\\nBu fonksiyonun, farklı veri tiplerini karakter dizisine\\ndönüştürmek için kullanıldığını biliyorsunuz. Örneğin:\\n\"\"\"\\nstr(12)',\n",
       "  '\"\"\"\\nBurada 12 sayısını bir karakter dizisine dönüştürdük. \\nŞimdi de bir baytı karakter dizisine dönüştürelim:\\n\"\"\"\\nbayt = b\\'istihza\\'',\n",
       "  \"ardiz = str(bayt, encoding='utf-8')\\nprint(ardiz)\",\n",
       "  '\"\"\"\\nGördüğünüz gibi, bir baytı karakter dizisine dönüştürmek \\niçin str() fonksiyonuna encoding adlı bir parametre veriyoruz.\\nFonksiyonumuz, bu parametrede hangi kodlama biçimi belirtildiyse, \\nbaytları bu kodlama biçiminin kurallarına göre bir karakter \\ndizisine dönüştürüyor.\\n\\nTahmin edebileceğiniz gibi, belirttiğiniz kodlama biçiminin \\nherhangi bir baytı karakter dizisine dönüştüremediği durumlara \\nkarşı bir errors parametresi de verebiliriz str() fonksiyonuna.\\n\\nbayt = bytes(\\'kadın\\', encoding=\\'utf-8\\')\\nprint(bayt)\\nÖrneğin elimizde bayt tipinde şöyle bir veri olduğunu varsayalım:\\n\"\"\"\\nbayt = bytes(\\'kadın\\', encoding=\\'utf-8\\')\\nprint(bayt)',\n",
       "  '\"\"\"\\nGördüğünüz gibi, bir baytı karakter dizisine dönüştürmek \\niçin str() fonksiyonuna encoding adlı bir parametre veriyoruz.\\nFonksiyonumuz, bu parametrede hangi kodlama biçimi belirtildiyse, \\nbaytları bu kodlama biçiminin kurallarına göre bir karakter \\ndizisine dönüştürüyor.\\n\\nTahmin edebileceğiniz gibi, belirttiğiniz kodlama biçiminin \\nherhangi bir baytı karakter dizisine dönüştüremediği durumlara \\nkarşı bir errors parametresi de verebiliriz str() fonksiyonuna.\\n\\nÖrneğin elimizde bayt tipinde şöyle bir veri olduğunu varsayalım:\\n\"\"\"\\nbayt = bytes(\\'kadın\\', encoding=\\'utf-8\\')\\nprint(bayt)',\n",
       "  \"kardiz = str(bayt, encoding='ascii')\",\n",
       "  '\"\"\"\\nASCII adlı kod çözücü, b\\'kadın\\' içindeki baytlardan birini \\ntanıyamadığı için bize bir hata mesajı gösterdi. Bildiğiniz\\ngibi ASCII 128’den büyük baytları dönüştüremez. İşte bu tür \\ndurumlara karşı errors parametresinden yararlanabilirsiniz:\\n\"\"\"\\nkardiz = str(bayt, encoding=\\'ascii\\', errors=\\'ignore\\')\\nprint(kardiz)',\n",
       "  '\"\"\"\\nerrors parametresine verdiğimiz ‘ignore’ değeri sayesinde \\nPython bize hata mesajı göstermek yerine, ASCII ile çözülemeyen\\nbaytı görmezden geldi. errors parametresinin hangi değerleri\\nalabileceğini önceki derslerimizden hatırlıyor olmalısınız.\\ndict()\\nBu fonksiyon, farklı veri tiplerinden sözlükler üretmemizi sağlar.\\nÖrneğin bu fonksiyonu kullanarak boş bir sözlük oluşturabiliriz:\\n\"\"\"\\ns = dict()',\n",
       "  's = dict(a=1, b=2, c=3)',\n",
       "  's',\n",
       "  \"öğeler = (['a', 1], ['b', 2], ['c', 3])\\ndict(öğeler)\",\n",
       "  '\"\"\"\\ncallable()\\nBu fonksiyon, bir nesnenin ‘çağrılabilir’ olup olmadığını \\ndenetler. Peki hangi nesneler çağrılabilir özelliktedir. \\nMesela fonksiyonlar çağrılabilir nesnelerdir. Değişkenler \\nise çağrılabilir nesneler değildir.\\n\"\"\"\\ncallable(open)',\n",
       "  'import sys\\ncallable(sys.version)',\n",
       "  '\"\"\"\\nord()\\nBu fonksiyon, bir karakterin karşılık geldiği ondalık \\nsayıyı verir. Örneğin:\\n\"\"\"\\nord(1a)',\n",
       "  '\"\"\"\\nord()\\nBu fonksiyon, bir karakterin karşılık geldiği ondalık \\nsayıyı verir. Örneğin:\\n\"\"\"\\nord(\"a\")',\n",
       "  'ord(\"ı\")',\n",
       "  '\"\"\"\\noct()\\nBu fonksiyon, bir sayıyı sekizli düzendeki karşılığına \\nçevirmemizi sağlar:\\n\"\"\"\\noct(10)',\n",
       "  '\"\"\"\\nhex()\\nBu fonksiyon, bir sayıyı onaltılı düzendeki karşılığına çevirmemizi \\nsağlar:\\n\"\"\"\\nhex(305)',\n",
       "  '\"\"\"\\neval(), exec(), globals(), locals(), compile()\\nBu bölümde beş farklı fonksiyonu bir arada inceleyeceğiz. \\nBu fonksiyonları birlikte ele almamızın nedeni bunların \\nbirbiriyle yakından bağlantılı olması.\\n\\nBurada işleyeceğimiz bu beş fonksiyon şunlardan oluşuyor:\\n\\neval()\\n\\nexec()\\n\\nglobals()\\n\\nlocals()\\n\\ncompile()\\n\\nAncak bu fonksiyonlardan söz etmeye başlamadan önce \\nPython’daki iki önemli kavramı açıklığa kavuşturmamız \\ngerekiyor: Bu kavramlar şunlar:\\n\\nifade\\n\\ndeyim\\n\\nÖncelikle ‘ifade’ kavramından başlayalım.\\n\\nİngilizcede expression denen ‘ifadeler’, bir değer \\nüretmek için kullanılan kod parçalarıdır.\\nKarakter dizileri, sayılar, işleçler, öteki veri tipleri, \\nliste üreteçleri, sözlük üreteçleri, küme üreteçleri,\\nfonksiyonlar hep birer ifadedir. Örneğin:\\n\\n5\\n\\n23 + 4\\n\\n[i for i in range(10)]\\n\\nlen([1, 2, 3])\\nİngilizcede statement olarak adlandırılan ‘deyimler’ \\nise ifadeleri de kapsayan daha geniş bir kavramdır.\\nBuna göre bütün ifadeler aynı zamanda birer deyimdir. \\nDaha doğrusu, ifadelerin bir araya gelmesi ile deyimler\\noluşturulabilir.\\n\\nDeyimlere birkaç örnek verelim:\\n\\na = 5\\n\\nif a:\\n    print(a)\\n\\nfor i in range(10):\\n    print(i)\\nPython programlama dilinde deyimlerle ifadeleri ayırt\\netmenin kolay bir yolu da eval() fonksiyonundan yararlanmaktır.\\nEğer deyim mi yoksa ifade mi olduğundan emin olamadığınız \\nbir şeyi eval() fonksiyonuna parametre olarak verdiğinizde\\nhata almıyorsanız o parametre bir ifadedir. Eğer hata\\nalıyorsanız o parametre bir deyimdir. Çünkü eval()\\nfonksiyonuna parametre olarak yalnızca ifadeler verilebilir.\\n\\nBirkaç örnek verelim:\\n\\neval(\\'a = 5\\')\\n\\n  File \"<string>\", line 1\\n    a = 5\\n      ^\\nSyntaxError: invalid syntax\\nGördüğünüz gibi, eval() fonksiyonu bize bir hata mesajı verdi.\\nÇünkü a = 5 kodu bir deyimdir. Unutmayın, Python’da bütün\\ndeğer atama işlemleri birer deyimdir. Dolayısıyla eval() \\nfonksiyonu bu deyimi parametre olarak alamaz.\\n\\nBir de şuna bakalım:\\n\\neval(\\'5 + 25\\')\\n\\n30\\nBu defa hata almadık. Çünkü eval() fonksiyonuna, olması\\ngerektiği gibi, parametre olarak bir ifade verdik.\\nBildiğiniz gibi, 5 + 25 kodu bir ifadedir.\\n\\nDediğimiz gibi, eval() fonksiyonu deyimleri parametre \\nolarak alamaz. Ama exec() fonksiyonu alabilir:\\n\\nexec(\\'a = 5\\')\\nBu şekilde, değeri 5 olan a adlı bir değişken oluşturmuş \\nolduk. İsterseniz kontrol edelim:\\n\\nprint(a)\\n\\n5\\nGördüğünüz gibi, exec() fonksiyonu, mevcut isim alanı\\niçinde a adlı bir değişken oluşturdu. Yalnız elbette \\nmevcut isim alanı içinde yeni değişkenler ve yeni değerler \\noluştururken dikkatli olmamız gerektiğini biliyorsunuz.\\nZira mesela yukarıdaki komutu vermeden önce mevcut isim \\nalanında zaten a adlı bir değişken varsa, o değişkenin \\ndeğeri değişecektir:\\n\\na = 20\\nElimizde, değeri 20 olan a adlı bir değişken var. \\nŞimdi exec() fonksiyonu yardımıyla a değişkeninin\\nde içinde yer aldığı mevcut isim alanına müdahale ediyoruz:\\n\\nexec(\\'a = 10\\')\\nBöylece a değişkeninin eski değerini silmiş olduk. Kontrol edelim:\\n\\nprint(a)\\n\\n10\\nBu tür durumlarda, exec() ile oluşturduğunuz değişkenleri \\nglobal isim alanına değil de, farklı bir isim alanına \\ngöndermeyi tercih edebilirsiniz. Peki ama bunu nasıl yapacağız?\\n\\nPython programlama dilinde isim alanları sözlük tipinde bir veridir. \\nÖrneğin global isim alanı basit bir sözlükten ibarettir.\\n\\nGlobal isim alanını gösteren sözlükte hangi anahtar ve \\ndeğerlerin olduğunu görmek için globals() adlı bir \\nfonksiyonu kullanabilirsiniz:\\n\\nglobals()\\nBu fonksiyonu çalıştırdığımızda şuna benzer bir çıktı alırız:\\n\\n{\\'__doc__\\': None, \\'__loader__\\': <class \\'_frozen_importlib.BuiltinImpor\\nter\\'>,\\'__name__\\': \\'__main__\\', \\'__package__\\': None, \\'__builtins__\\':\\n<module \\'builtins\\'>}\\nGördüğünüz gibi, elimizdeki şey gerçekten de bir sözlük. \\nDolayısıyla bir sözlük ile ne yapabilirsek bu sözlükle de\\naynı şeyi yapabiliriz…\\n\\n‘globals’ adlı bu sözlüğün içeriği, o anda global isim\\nalanında bulunan nesnelere göre farklılık gösterecektir. Örneğin:\\n\\nx = 10\\nşeklinde 10 değerine sahip bir x nesnesi tanımladıktan sonra \\nglobals() fonksiyonunu tekrar çalıştırırsanız global isim\\nalanına bu nesnenin de eklenmiş olduğunu görürsünüz.\\n\\nDediğimiz gibi, globals() fonksiyonundan dönen nesne bir sözlüktür. \\nBu sözlüğe, herhangi bir sözlüğe veri ekler gibi değer de\\nekleyebilirsiniz:\\n\\nglobals()[\\'z\\'] = 23\\nBu şekilde global isim alanına z adlı bir değişken eklemiş oldunuz:\\n\\nz\\n\\n23\\nYalnız, Python programlama dili bize bu şekilde global isim alanına\\nnesne ekleme imkanı verse de, biz mecbur değilsek bu yöntemi\\nkullanmaktan kaçınmalıyız. Çünkü bu şekilde sıradışı bir yöntemle\\ndeğişken tanımladığımız için aslında global isim alanını, nerden \\ngeldiğini kestirmenin güç olduğu değerlerle ‘kirletmiş’ oluyoruz.\\n\\nBildiğiniz gibi, Python’da global isim alanı dışında bir de lokal isim \\nlanı bulunur. Lokal isim alanlarının, fonksiyonlara \\n(ve ileride göreceğimiz gibi sınıflara) ait bir isim alanı\\nolduğunu biliyorsunuz. İşte bu isim alanlarına ulaşmak için de \\nlocals() adlı bir fonksiyondan yararlanacağız:\\n\\ndef fonksiyon(param1, param2):\\n    x = 10\\n    print(locals())\\n\\nfonksiyon(10, 20)\\nBu fonksiyonu çalıştırdığınızda şu çıktıyı alacaksınız:\\n\\n{\\'param2\\': 20, \\'param1\\': 10, \\'x\\': 10}\\nGördüğünüz gibi, locals() fonksiyonu gerçekten de bize fonksiyon()\\nadlı fonksiyon içindeki lokal değerleri veriyor.\\n\\nglobals() ve locals() fonksiyonlarının ne işe yaradığını \\nincelediğimize göre exec() fonksiyonunu anlatırken kaldığımız yere \\ndönebiliriz.\\n\\nNe diyorduk?\\n\\nElimizde, değeri 20 olan a adlı bir değişken vardı:\\n\\na = 20\\nexec() fonksiyonu yardımıyla a değişkeninin de içinde yer aldığı \\nmevcut isim alanına müdahale edelim:\\n\\nexec(\\'a = 3\\')\\nBu şekilde a değişkeninin varolan değerini silmiş olduk:\\n\\nprint(a)\\n\\n3\\nDediğimiz gibi, bu tür durumlarda, exec() ile oluşturduğunuz \\ndeğişkenleri global isim alanı yerine farklı bir isim alanına \\ngöndermeyi tercih etmemiz daha uygun olacaktır. Python’da isim\\nalanlarının basit bir sözlük olduğunu öğrendiğimize göre, exec() \\nile oluşturduğumuz değişkenleri global isim alanı yerine nasıl \\nfarklı bir isim alanına göndereceğimizi görebiliriz.\\n\\nÖnce yeni bir isim alanı oluşturalım:\\n\\nia = {}\\nŞimdi exec() ile oluşturacağımız değerleri bu isim alanına \\ngönderebiliriz:\\n\\nexec(\\'a = 3\\', ia)\\nBöylece global isim alanındaki a değişkeninin değerine dokunmamış\\nolduk:\\n\\na\\n\\n20\\nYeni oluşturduğumuz değer ise ia adlı yeni isim alanına gitti:\\n\\nia[\\'a\\']\\n\\n3\\n\\n\"\"\"\\neval(\"a=5\")',\n",
       "  \"eval('5 + 25')\",\n",
       "  \"exec('a = 5')\",\n",
       "  'print(a)',\n",
       "  'a = 20',\n",
       "  \"exec('a = 10')\",\n",
       "  'print(a)',\n",
       "  '\"\"\"\\nBu tür durumlarda, exec() ile oluşturduğunuz\\ndeğişkenleri global isim alanına değil de, \\nfarklı bir isim alanına göndermeyi tercih edebilirsiniz. \\nPeki ama bunu nasıl yapacağız?\\nPython programlama dilinde isim alanları sözlük tipinde bir veridir.\\nÖrneğin global isim alanı basit bir sözlükten ibarettir.\\n\"\"\"\\nglobals()',\n",
       "  'x=10',\n",
       "  \"globals()['z'] = 23\",\n",
       "  'globals',\n",
       "  'globals()',\n",
       "  'z',\n",
       "  'class hayvan():\\n    model=\"renault\"',\n",
       "  'model',\n",
       "  'def fonksiyon(param1, param2):\\n    x = 10\\n    print(locals())',\n",
       "  'def fonksiyon(param1, param2):\\n    x = 10\\n    print(locals())\\nfonksiyon(10,20)',\n",
       "  'locals()'],\n",
       " 'Out': {1: 20,\n",
       "  2: 20,\n",
       "  3: 20.396078054371138,\n",
       "  4: 12,\n",
       "  5: 12,\n",
       "  6: 1,\n",
       "  7: 12,\n",
       "  8: 3.142857142857143,\n",
       "  9: 3,\n",
       "  10: 3,\n",
       "  11: 3.0,\n",
       "  12: 3.1,\n",
       "  13: 3.1429,\n",
       "  15: True,\n",
       "  16: False,\n",
       "  17: False,\n",
       "  18: True,\n",
       "  19: True,\n",
       "  24: True,\n",
       "  25: True,\n",
       "  26: '\\nany()\\nAny kelimesi İngilizcede ‘herhangi bir’ anlamına gelir.\\nİşte any() fonksiyonunun görevi de, bir dizi içindeki \\nbütün değerlerden en az biri True ise True çıktısı vermektir.\\nALL FONKSİYONUNUN TERSİ\\n',\n",
       "  27: False,\n",
       "  28: False,\n",
       "  29: True,\n",
       "  30: True,\n",
       "  31: False,\n",
       "  32: 'istihza',\n",
       "  40: '[',\n",
       "  41: \"'\\\\u015feker'\",\n",
       "  42: \"'şeker'\",\n",
       "  43: False,\n",
       "  44: True,\n",
       "  45: False,\n",
       "  46: '0b1100',\n",
       "  47: '0b1',\n",
       "  48: '0b10',\n",
       "  49: '0b11',\n",
       "  50: '0b100',\n",
       "  51: '0b101',\n",
       "  52: '0b110',\n",
       "  53: '0b111',\n",
       "  54: b'\\x00\\x00\\x00\\x00\\x00\\x00\\x00\\x00\\x00\\x00',\n",
       "  56: b'\\x00\\x00\\x00\\x00\\x00\\x00\\x00\\x00\\x00\\x00',\n",
       "  57: 0,\n",
       "  59: 0,\n",
       "  61: 0,\n",
       "  63: b'devrim',\n",
       "  64: b'\\xc4\\xb1\\xc5\\x9f\\xc4\\xb1k',\n",
       "  65: b'\\x8d\\x9f\\x8dk',\n",
       "  66: b'\\xfd\\xfe\\xfdk',\n",
       "  67: b'\\xc4\\xb1\\xc5\\x9f\\xc4\\xb1k',\n",
       "  68: b'\\xfd\\xfe\\xfdk',\n",
       "  69: b'\\x8d\\x9f\\x8dk',\n",
       "  78: b'???k',\n",
       "  79: b'?eker',\n",
       "  80: b'?',\n",
       "  81: b'',\n",
       "  82: b'&#8364;',\n",
       "  83: b'\\x9feker',\n",
       "  84: b'A\\n\\x0c\\x0b\\x0fB',\n",
       "  86: 105,\n",
       "  89: bytearray(b'Adana'),\n",
       "  91: bytearray(b'Adana'),\n",
       "  92: bytearray(b'Adana'),\n",
       "  93: '\\n',\n",
       "  94: 'A',\n",
       "  95: 'ı',\n",
       "  97: list,\n",
       "  101: (1, 2, 3, 4, 5, 6, 7, 8, 9),\n",
       "  102: tuple,\n",
       "  103: (1, 2, 3, 4, 5, 6, 7, 8, 9),\n",
       "  104: tuple,\n",
       "  106: [1, 2, 3, 4, 5, 6, 7, 8, 9],\n",
       "  107: list,\n",
       "  109: {1, 2, 3, 4, 5, 6, 7, 8, 9},\n",
       "  110: set,\n",
       "  112: (1, 2, 3, 4, 5, 6, 7, 8, 9),\n",
       "  113: tuple,\n",
       "  115: frozenset({1, 2, 3, 4, 5, 6, 7, 8, 9}),\n",
       "  118: (12+0j),\n",
       "  119: complex,\n",
       "  120: (15+0j),\n",
       "  121: (15+2j),\n",
       "  122: 134.0,\n",
       "  123: 12.0,\n",
       "  124: 10,\n",
       "  125: 12,\n",
       "  126: \"\\nBunun dışında bu fonksiyonu, herhangi bir sayma\\nsisteminde temsil edilen bir sayıyı onlu sayma \\nsistemine dönüştürmek için de kullanabiliriz.\\nÖrneğin:\\nint('12', 8)\\n\",\n",
       "  127: 10,\n",
       "  128: 1231,\n",
       "  129: '12',\n",
       "  138: {'a': 1, 'b': 2, 'c': 3},\n",
       "  139: {'a': 1, 'b': 2, 'c': 3},\n",
       "  140: True,\n",
       "  141: False,\n",
       "  143: 97,\n",
       "  144: 305,\n",
       "  145: '0o12',\n",
       "  146: '0x131',\n",
       "  148: 30,\n",
       "  154: {...},\n",
       "  157: <function globals()>,\n",
       "  158: {...},\n",
       "  159: 23},\n",
       " 'get_ipython': <bound method InteractiveShell.get_ipython of <ipykernel.zmqshell.ZMQInteractiveShell object at 0x7f5753e54a00>>,\n",
       " 'exit': <IPython.core.autocall.ZMQExitAutocall at 0x7f5753e57a00>,\n",
       " 'quit': <IPython.core.autocall.ZMQExitAutocall at 0x7f5753e57a00>,\n",
       " '_': 23,\n",
       " '__': {...},\n",
       " '___': <function globals()>,\n",
       " '_i': 'def fonksiyon(param1, param2):\\n    x = 10\\n    print(locals())\\nfonksiyon(10,20)',\n",
       " '_ii': 'def fonksiyon(param1, param2):\\n    x = 10\\n    print(locals())',\n",
       " '_iii': 'model',\n",
       " '_i1': '\"\"\"\\nGömülü Fonksiyonlar\\nBu bölümde, daha önce de birkaç kez bahsettiğimiz ve \\nçokça örneğini gördüğümüz bir kavramdan söz edeceğiz.\\nBu kavramın adı ‘gömülü fonksiyonlar’.\\n\\nEsasında biz buraya gelene kadar Python’da pek çok gömülü \\nfonksiyon gördük. Dolayısıyla aslında görünüş olarak bunların\\nneye benzediğini biliyoruz. Örneğin daha önceki derslerimizde\\ngördüğümüz print() gömülü bir fonksiyondur. \\nAynı şekilde open(), type(), len(), pow(), bin() \\nve şimdiye kadar tanıştığımız öteki bütün fonksiyonlar\\nbirer gömülü fonksiyondur.\\n\\nGömülü fonksiyonlar İngilizcede builtin functions olarak \\nadlandırılır. Bu fonksiyonlar gerçekten de dile gömülü\\nvaziyettedirler. Bildiğiniz gibi, bir fonksiyonu kullanabilmemiz \\niçin o fonksiyonu tanımlamamız gerekir. İşte gömülü fonksiyonlar,\\nbizim tanımlamamıza gerek kalmadan, Python geliştiricileri tarafından \\nönceden tanımlanıp dile gömülmüş ve hizmetimize sunulmuş faydalı\\nbirtakım araçlardır.\\n\\nİşte bu bölümde biz de bu gömülü fonksiyonları tek tek ve\\nayrıntılı olarak inceleyeceğiz. Dediğimiz gibi, bunlardan \\nbir kısmını halihazırda görmüştünüz. Ama biz bütünlük\\naçısından, önceden ele almış olduğumuz bu fonksiyonlara \\nda kısaca değinmeden geçmeyeceğiz. Böylelikle hem yeni \\nfonksiyonlar öğrenmiş olacağız hem de önceden öğrendiğimiz \\nfonksiyonlarla birlikte yeni fonksiyonları da derli toplu \\nbir şekilde görme imkanımız olacak.\\n\\nBu bölümde elbette birtakım fonksiyonları salt art arda \\nsıralamakla yetinmeyeceğiz. Python’daki gömülü fonksiyonları\\nincelerken bir yandan da Python programlama dilindeki çok\\nönemli bazı kavramları ele alacağız.\\n\\nİlk olarak abs() adlı bir fonksiyonla başlıyoruz gömülü \\nfonksiyonları incelemeye…\\n\\n\\nabs()\\nİngilizcede ‘mutlak’ anlamına gelen absolute adlı bir \\nkelime bulunur. İşte bu fonksiyonun adı da bu kelimeden \\ngelir. Fonksiyonumuzun görevi de isminin anlamına yakındır.\\nabs() fonksiyonunu bir sayının mutlak değerini elde etmek \\niçin kullanıyoruz.\\n\\n\\nPeki ‘mutlak değer’ ne anlama geliyor. Esasında siz bu \\nkavrama matematik derslerinden aşinasınız. Ama bilmeyenler\\nveya unutmuş olanlar için tekrar edelim. ‘Mutlak değer’\\nbir sayının 0’a olan uzaklığıdır. Örneğin 20 sayısının\\n0 sayısına olan uzaklığı 20’dir. Dolayısıyla 20 sayısının\\nmutlak değeri 20’dir. Aynı şekilde -20 sayısının da 0\\nsayısına uzaklığı 20’dir. Yani, -20 sayısının da mutlak \\ndeğeri 20’dir.\\n\\n\\nİşte abs() fonksiyonu bize bir sayının mutlak değerinin\\nne olduğunu söyler:\\nMutlak değer kavramı yalnızca tamsayılar ve kayan \\nnoktalı sayılar için değil, aynı zamanda karmaşık \\nsayılar için de geçerlidir. Dolayısıyla abs()\\nfonksiyonunu kullanarak karmaşık sayıların da\\nmutlak değerini hesaplayabiliriz:\\nGördüğünüz gibi bu fonksiyon yalnızca tek bir parametre\\nalıyor ve bu parametrenin mutlak değerini döndürüyor.\\n\"\"\"\\nabs(-20)',\n",
       " '_1': 20,\n",
       " '_i2': 'abs(20)',\n",
       " '_2': 20,\n",
       " '_i3': 'abs(20+4j)',\n",
       " '_3': 20.396078054371138,\n",
       " '_i4': '\"\"\"\\nround()\\nround() fonksiyonu bir sayıyı belli ölçütlere\\ngöre yukarı veya aşağı doğru yuvarlamamızı sağlar.\\nBasit birkaç örnek verelim:\\n\"\"\"\\nround(12,4)',\n",
       " '_4': 12,\n",
       " '_i5': 'round(12,7)',\n",
       " '_5': 12,\n",
       " '_i6': '\"\"\"\\nGördüğünüz gibi bu fonksiyon, kayan noktalı sayıları \\nen yakın tam sayıya doğru yuvarlıyor.\\n\\nAncak burada dikkat etmemiz gereken bir nokta var.\\n\\nŞu örnekleri bir inceleyelim:\\n\"\"\"\\nround(1,5)',\n",
       " '_6': 1,\n",
       " '_i7': 'round(12.5)',\n",
       " '_7': 12,\n",
       " '_i8': '\"\"\"\\nGördüğünüz gibi, fonksiyonumuz 1.5 sayısını yukarı doğru, \\n12.5 sayısını ise aşağı doğru yuvarladı. Bunun sebebi,\\nkayan noktalı bir sayının üst ve alt tam sayılara olan \\nuzaklığının birbirine eşit olduğu durumlarda Python’ın\\nçift sayıya doğru yuvarlama yapmayı tercih etmesidir.\\nMesela yukarıdaki örneklerde 1.5 sayısı hem 1 sayısına,\\nhem de 2 sayısına eşit uzaklıkta bulunuyor. İşte Python\\nbu durumda, bir çift sayı olan 2 sayısına doğru yuvarlamayı\\ntercih edecektir.\\n\\nround() fonksiyonu toplam iki parametre alır. İlk parametre,\\nyuvarlanacak sayının kendisidir. Yuvarlama hassasiyetini \\nbelirlemek için ise ikinci bir parametreden yararlanabiliriz.\\n\\nÖrneğin 22 sayısını 7’ye böldüğümüzde normalde şöyle bir \\nçıktı elde ederiz:\\n\"\"\"\\n22/7',\n",
       " '_8': 3.142857142857143,\n",
       " '_i9': '\"\"\"\\nround() fonksiyonunu tek parametre ile \\nkullandığımızda bu fonksiyon yukarıdaki\\nsayıyı şu şekilde yuvarlayacaktır:\\n\"\"\"\\nround(22/7)',\n",
       " '_9': 3,\n",
       " '_i10': '\"\"\"\\nİşte biz round() fonksiyonuna ikinci bir parametre daha\\nvererek, yuvarlama hassasiyetini kontrol edebiliriz.\\n\\nAşağıdaki örnekleri dikkatlice inceleyin:\\n\"\"\"\\nround(22/7)',\n",
       " '_10': 3,\n",
       " '_i11': 'round(22/7,0)',\n",
       " '_11': 3.0,\n",
       " '_i12': 'round(22/7,1)',\n",
       " '_12': 3.1,\n",
       " '_i13': 'round(22/7,4)',\n",
       " '_13': 3.1429,\n",
       " '_i14': '\"\"\"\\nall()\\n\\nAll kelimesi Türkçede ‘hepsi’ anlamına gelir.\\nBu fonksiyonun görevi de bu anlamı çağrıştırır.\\nall() fonksiyonunun görevi, bir dizi içinde bulunan \\nbütün değerler True ise True değeri, eğer bu değerlerden\\nherhangi biri False ise de False değeri döndürmektir.\\n\\nÖrneğin elimizde şöyle bir liste olduğunu varsayalım:\\n\"\"\"\\nliste = [1, 2, 3, 4]',\n",
       " 'liste': [1, 2, 3, 4, 5, 6, 7, 8, 9],\n",
       " '_i15': 'all(liste)',\n",
       " '_15': True,\n",
       " '_i16': '\"\"\"\\nBildiğiniz gibi, 0 hariç bütün sayıların bool değeri True’dur. \\nYukarıdaki listede False değeri verebilecek herhangi bir değer \\nbulunmadığından, all() fonksiyonu bu liste için True değerini \\nveriyor. Bir de şuna bakalım:\\n\"\"\"\\nliste = [0, 1, 2, 3, 4]\\nall(liste)',\n",
       " '_16': False,\n",
       " '_i17': '\"\"\"\\nDediğimiz gibi, all() fonksiyonu ancak dizi içindeki bütün \\ndeğerlerin bool değeri True ise True çıktısı verecektir.\\n\\nSon bir örnek daha verelim:\\n\"\"\"\\nliste = [\\'ahmet\\', \\'mehmet\\', \\'\\']\\nall(liste)',\n",
       " '_17': False,\n",
       " '_i18': '\"\"\"\\nListede False değerine sahip bir boş karakter dizisi bulunduğu\\niçin all() fonksiyonu False çıktısı veriyor.\\n\\nBu fonksiyonu her türlü kodun bool değerlerini test etmek için \\nkullanabilirsiniz. Mesela bu fonksiyonu kullanarak, bir nesnenin\\nlistelenen özelliklerin hepsine sahip olup olmadığını \\ndenetleyebilirsiniz:\\n\"\"\"\\na = 3\\nt1 = a == 3         #sayı 3 mü?\\nt2 = a < 4          #sayı 4\\'ten küçük mü?\\nt3 = a % 2 == 1     #sayı bir tek sayı mı?\\nall([t1, t2, t3])   #sayı bu özelliklerin hepsine sahip mi?',\n",
       " 'a': 10,\n",
       " 't1': True,\n",
       " 't2': True,\n",
       " 't3': True,\n",
       " '_18': True,\n",
       " '_i19': '\"\"\"\\nListede False değerine sahip bir boş karakter dizisi bulunduğu\\niçin all() fonksiyonu False çıktısı veriyor.\\n\\nBu fonksiyonu her türlü kodun bool değerlerini test etmek için \\nkullanabilirsiniz. Mesela bu fonksiyonu kullanarak, bir nesnenin\\nlistelenen özelliklerin hepsine sahip olup olmadığını \\ndenetleyebilirsiniz:\\n\"\"\"\\na = 3\\nt1 = a == 3         #sayı 3 mü?\\nt2 = a < 4          #sayı 4\\'ten küçük mü?\\nt3 = a % 2 == 1     #sayı bir tek sayı mı?\\nall([t1, t2, t3])   #sayı bu özelliklerin hepsine sahip mi?',\n",
       " '_19': True,\n",
       " '_i20': 'a = 3\\nt1 = a == 3   \\nall(t1)',\n",
       " '_i21': 'a = 3\\nt1 = a == 3   \\nt2 = a < 4   \\nall(t1)',\n",
       " '_i22': 'a = 3\\nt1 = a == 3   \\nt2 = a < 4   \\nall(t1,t2)',\n",
       " '_i23': 'a = 3\\nt1 = a == 3   \\nt2 = a < 4   \\nt3 = a % 2 == 1 \\nall(t1,t2,t3)',\n",
       " '_i24': '\"\"\"\\nListede False değerine sahip bir boş karakter dizisi bulunduğu\\niçin all() fonksiyonu False çıktısı veriyor.\\n\\nBu fonksiyonu her türlü kodun bool değerlerini test etmek için \\nkullanabilirsiniz. Mesela bu fonksiyonu kullanarak, bir nesnenin\\nlistelenen özelliklerin hepsine sahip olup olmadığını \\ndenetleyebilirsiniz:\\n\"\"\"\\na = 3\\nt1 = a == 3         #sayı 3 mü?\\nt2 = a < 4          #sayı 4\\'ten küçük mü?\\nt3 = a % 2 == 1     #sayı bir tek sayı mı?\\nall([t1, t2, t3])   #sayı bu özelliklerin hepsine sahip mi?',\n",
       " '_24': True,\n",
       " '_i25': 'a = 3\\nt1 = a == 3   \\nt2 = a < 4   \\nt3 = a % 2 == 1 \\nall([t1])',\n",
       " '_25': True,\n",
       " '_i26': '\"\"\"\\nany()\\nAny kelimesi İngilizcede ‘herhangi bir’ anlamına gelir.\\nİşte any() fonksiyonunun görevi de, bir dizi içindeki \\nbütün değerlerden en az biri True ise True çıktısı vermektir.\\nALL FONKSİYONUNUN TERSİ\\n\"\"\"',\n",
       " '_26': '\\nany()\\nAny kelimesi İngilizcede ‘herhangi bir’ anlamına gelir.\\nİşte any() fonksiyonunun görevi de, bir dizi içindeki \\nbütün değerlerden en az biri True ise True çıktısı vermektir.\\nALL FONKSİYONUNUN TERSİ\\n',\n",
       " '_i27': '\"\"\"\\nany()\\nAny kelimesi İngilizcede ‘herhangi bir’ anlamına gelir.\\nİşte any() fonksiyonunun görevi de, bir dizi içindeki \\nbütün değerlerden en az biri True ise True çıktısı vermektir.\\nALL FONKSİYONUNUN TERSİ\\n\"\"\"\\nliste = [0, 1, 2, 3, 4]\\nall(liste)',\n",
       " '_27': False,\n",
       " '_i28': \"liste = ['ahmet', 'mehmet', '']\\nall(liste)\",\n",
       " '_28': False,\n",
       " '_i29': '\"\"\"\\nany()\\nAny kelimesi İngilizcede ‘herhangi bir’ anlamına gelir.\\nİşte any() fonksiyonunun görevi de, bir dizi içindeki \\nbütün değerlerden en az biri True ise True çıktısı vermektir.\\nALL FONKSİYONUNUN TERSİ\\n\"\"\"\\nliste = [0, 1, 2, 3, 4]\\nany(liste)',\n",
       " '_29': True,\n",
       " '_i30': \"liste = ['ahmet', 'mehmet', '']\\nany(liste)\",\n",
       " '_30': True,\n",
       " '_i31': \"l = ['', 0, [], (), set(), dict()]\\nany(l)\",\n",
       " 'l': ['', 0, [], (), set(), {}],\n",
       " '_31': False,\n",
       " '_i32': '\"\"\"\\nascii()\\nBu fonksiyon, bir nesnenin ekrana basılabilir\\nhalini verir bize. Dilerseniz bu fonksiyonun yaptığı \\nişi tanımlamak yerine bunu bir örnek üzerinden anlatmaya çalışalım:\\n\"\"\"\\na = \\'istihza\\'\\nprint(ascii(a))\\n\\n\\'istihza\\'',\n",
       " '_32': 'istihza',\n",
       " '_i33': '\"\"\"\\nBu fonksiyonun, print() fonksiyonundan farklı olarak,\\nçıktıya tırnak işaretlerini de eklediğine dikkat edin.\\n\\nascii() fonksiyonunun tam olarak ne yaptığını daha iyi \\nanlamak için herhalde şu örnek daha faydalı olacaktır.\\n\\nDikkatlice bakın:\\n\"\"\"\\nprint(\\'\\\\n\\')',\n",
       " '_i34': '\"\"\"\\nBu komutu verdiğimizde, n kaçış dizisinin etkisiyle\\nyeni satıra geçileceğini biliyorsunuz.\\n\\nBir de şuna bakın:\\n\"\"\"\\nprint(ascii(\\'\\\\n!\\'))',\n",
       " '_i35': '\"\"\"\\nBu komutu verdiğimizde, n kaçış dizisinin etkisiyle\\nyeni satıra geçileceğini biliyorsunuz.\\n\\nBir de şuna bakın:\\n\"\"\"\\nprint(ascii(\\'\\\\n\\'))',\n",
       " '_i36': '\"\"\"\\nGördüğünüz gibi, ascii() fonksiyonu, satır başı kaçış \\ndizisinin görevini yapmasını sağlamak yerine bu kaçış \\ndizisinin ekrana basılabilir halini veriyor bize.\\n\\n\\nAyrıca bu fonksiyon, karakter dizileri içindeki Türkçe\\nkarakterlerin de UNICODE temsillerini döndürür. Örneğin:\\n\"\"\"\\na = \\'ışık\\'\\nprint(ascii(a))',\n",
       " '_i37': 'a=\"Devrim Tunçer\"\\nprint(ascii(a))',\n",
       " '_i38': '\"\"\"\\nGördüğünüz gibi, ascii() fonksiyonu ASCII olmayan karakterlerle \\nkarşılaştığında bunların karakter temsilleri yerine UNICODE\\ntemsillerini (veya onaltılık sayma düzenindeki karşılıklarını)\\nveriyor.\\n\\nSon olarak şu örneğe bakalım:\\n\"\"\"\\nliste = [\\'elma\\', \\'armut\\', \\'erik\\']\\ntemsil = ascii(liste)\\nprint(temsil)',\n",
       " 'temsil': \"['elma', 'armut', 'erik']\",\n",
       " '_i39': '\"\"\"\\nBurada listemiz ascii() fonksiyonuna parametre olarak \\nverildikten sonra artık liste olma özelliğini yitirip \\nbir karakter dizisi haline gelir. Bunu denetleyelim:\\n\"\"\"\\nprint(type(temsil))',\n",
       " '_i40': 'temsil[0]',\n",
       " '_40': '[',\n",
       " '_i41': '\"\"\"\\nrepr()\\nrepr() fonksiyonunun yaptığı iş, biraz önce gördüğümüz ascii() \\nfonksiyonunun yaptığı işe çok benzer. Bu iki fonksiyon, ASCII\\nolmayan karakterlere muameleleri açısından birbirinden ayrılır.\\n\\nHatırlarsanız ascii() fonksiyonu ASCII olmayan karakterlerle \\nkarşılaştığında bunların UNICODE (veya onaltılık) temsillerini\\ngösteriyordu\\n\"\"\"\\nascii(\"şeker\")',\n",
       " '_41': \"'\\\\u015feker'\",\n",
       " '_i42': '\"\"\"\\nrepr() fonksiyonu ise ASCII olmayan karakterlerle karşılaşsa bile,\\nbize çıktı olarak bunların da karakter karşılıklarını gösterir:\\n\"\"\"\\nrepr(\"şeker\")',\n",
       " '_42': \"'şeker'\",\n",
       " '_i43': '\"\"\"\\nbool()\\nBu fonksiyon bir nesnenin bool değerini verir:\\n\"\"\"\\nbool(0)',\n",
       " '_43': False,\n",
       " '_i44': 'bool(1)',\n",
       " '_44': True,\n",
       " '_i45': 'bool([])',\n",
       " '_45': False,\n",
       " '_i46': '\"\"\"\\nbin()\\nBu fonksiyon, bir sayının ikili düzendeki karşılığını verir:\\nBu fonksiyonun verdiği çıktının bir sayı değil,\\nkarakter dizisi olduğuna dikkat etmelisiniz.\\n\"\"\"\\nbin(12)',\n",
       " '_46': '0b1100',\n",
       " '_i47': 'bin(1)',\n",
       " '_47': '0b1',\n",
       " '_i48': 'bin(2)',\n",
       " '_48': '0b10',\n",
       " '_i49': 'bin(3)',\n",
       " '_49': '0b11',\n",
       " '_i50': 'bin(4)',\n",
       " '_50': '0b100',\n",
       " '_i51': 'bin(5)',\n",
       " '_51': '0b101',\n",
       " '_i52': 'bin(6)',\n",
       " '_52': '0b110',\n",
       " '_i53': 'bin(7)',\n",
       " '_53': '0b111',\n",
       " '_i54': '\"\"\"\\nbytes()\\nBu fonksiyon bytes türünde nesneler oluşturmak için kullanılır. \\nBu fonksiyonu ‘bayt’ adlı veri tipini incelerken ayrıntılı olarak \\nele almıştık. Gelin isterseniz burada da bu fonksiyona şöyle bir\\ndeğinelim.\\n\\nDediğimiz gibi, bytes() adlı fonksiyon, bytes türünde veriler\\noluşturmaya yarar. Bu fonksiyon işlev olarak, daha önce öğrendiğimiz \\nlist(), str(), int(), set(), dict() gibi fonksiyonlara çok benzer. \\nTıpkı bu fonksiyonlar gibi, bytes() fonksiyonunun görevi de farklı\\nveri tiplerini ‘bayt’ adlı veri tipine dönüştürmektir.\\n\\nBu fonksiyon, kendisine verilen parametrelerin türüne bağlı olarak \\nbirbirinden farklı sonuçlar ortaya çıkarır. Örneğin eğer bu fonksiyona\\nparametre olarak bir tam sayı verecek olursanız, bu fonksiyon size\\no tam sayı miktarınca bir bayt nesnesi verecektir. Gelin isterseniz\\nbu durumu örnekler üzerinde göstermeye çalışalım:\\n\"\"\"\\nbytes(10)',\n",
       " '_54': b'\\x00\\x00\\x00\\x00\\x00\\x00\\x00\\x00\\x00\\x00',\n",
       " '_i55': 'a=bytes(10)',\n",
       " '_i56': 'a',\n",
       " '_56': b'\\x00\\x00\\x00\\x00\\x00\\x00\\x00\\x00\\x00\\x00',\n",
       " '_i57': 'a[0]',\n",
       " '_57': 0,\n",
       " '_i58': 'a(7)',\n",
       " '_i59': 'a[7]',\n",
       " '_59': 0,\n",
       " '_i60': 'a[10]',\n",
       " '_i61': 'a[9]',\n",
       " '_61': 0,\n",
       " '_i62': '\"\"\"\\nGördüğünüz gibi, bytes(10) komutuyla oluşturduğumuz a \\ndeğişkeni içinde toplam 10 adet bayt var ve bu baytların her \\nbirinin değeri 0.\\n\\nYukarıda, bytes() fonksiyonuna bir tam sayı değerli \\nparametre verdiğimizde nasıl bir sonuç alacağımızı öğrendik.\\nPeki biz bu fonksiyona parametre olarak bir karakter dizisi \\nverirsek ne olur?\\n\\nHemen görelim:\\n\"\"\"\\nbytes(\"devrim\")',\n",
       " '_i63': '\"\"\"\\nBu fonksiyona karakter dizilerini doğrudan parametre olarak\\nveremeyiz. Eğer verirsek yukarıdaki gibi bir hata alırız.\\nPeki acaba bu hatayı almamızın nedeni ne olabilir?\\n\\nDediğimiz gibi, bytes() fonksiyonu, çeşitli veri tiplerini \\nbayta dönüştürmeye yarar. Ancak bildiğiniz gibi,\\nbayta dönüştürme işlemi her kod çözücü tarafından\\nfarklı biçimde yapılır. Örneğin:\\n\"\"\"\\n\"devrim\".encode(\"utf-8\")',\n",
       " '_63': b'devrim',\n",
       " '_i64': '\"\"\"\\nBu fonksiyona karakter dizilerini doğrudan parametre olarak\\nveremeyiz. Eğer verirsek yukarıdaki gibi bir hata alırız.\\nPeki acaba bu hatayı almamızın nedeni ne olabilir?\\n\\nDediğimiz gibi, bytes() fonksiyonu, çeşitli veri tiplerini \\nbayta dönüştürmeye yarar. Ancak bildiğiniz gibi,\\nbayta dönüştürme işlemi her kod çözücü tarafından\\nfarklı biçimde yapılır. Örneğin:\\n\"\"\"\\n\"ışık\".encode(\"utf-8\")',\n",
       " '_64': b'\\xc4\\xb1\\xc5\\x9f\\xc4\\xb1k',\n",
       " '_i65': \"'ışık'.encode('cp857')\",\n",
       " '_65': b'\\x8d\\x9f\\x8dk',\n",
       " '_i66': \"'ışık'.encode('cp1254')\",\n",
       " '_66': b'\\xfd\\xfe\\xfdk',\n",
       " '_i67': '\"\"\"\\nDolayısıyla, bytes() fonksiyonunun bir karakter dizisini\\nbayta çevirirken nasıl davranması gerektiğini anlayabilmesi\\niçin, bayta dönüştürme işlemini hangi kod çözücü ile yapmak\\nistediğimizi açıkça belirtmemiz gerekir:\\n\"\"\"\\nbytes(\"ışık\",\"utf-8\")',\n",
       " '_67': b'\\xc4\\xb1\\xc5\\x9f\\xc4\\xb1k',\n",
       " '_i68': \"bytes('ışık', 'cp1254')\",\n",
       " '_68': b'\\xfd\\xfe\\xfdk',\n",
       " '_i69': \"bytes('ışık', 'cp857')\",\n",
       " '_69': b'\\x8d\\x9f\\x8dk',\n",
       " '_i70': '\"\"\"\\nGördüğünüz gibi, bytes() fonksiyonuna parametre olarak bir karakter \\ndizisi verebilmek için, bu karakter dizisi ile birlikte bir\\nkod çözücü de belirtmemiz gerekiyor. Böylece bytes() fonksiyonu\\nkendisine verdiğimiz karakter dizisini, belirttiğimiz kod\\nçözücünün kurallarına göre bayta dönüştürüyor.\\n\\nBu arada, çıktıda görünen ‘b’ harflerinin, elimizdeki verinin \\nbir bayt olduğunu gösteren bir işaret olduğunu biliyorsunuz.\\n\\nAyrıca, bytes() fonksiyonuna verdiğimiz ikinci parametrenin \\nisminin encoding olduğunu ve bu parametreyi isimli bir \\nparametre olarak da kullanabileceğimizi belirtelim:\\n\"\"\"\\nbytes(\"devrim\",encoding(\"ascii\"))',\n",
       " '_i71': '\"\"\"\\nGördüğünüz gibi, bytes() fonksiyonuna parametre olarak bir karakter \\ndizisi verebilmek için, bu karakter dizisi ile birlikte bir\\nkod çözücü de belirtmemiz gerekiyor. Böylece bytes() fonksiyonu\\nkendisine verdiğimiz karakter dizisini, belirttiğimiz kod\\nçözücünün kurallarına göre bayta dönüştürüyor.\\n\\nBu arada, çıktıda görünen ‘b’ harflerinin, elimizdeki verinin \\nbir bayt olduğunu gösteren bir işaret olduğunu biliyorsunuz.\\n\\nAyrıca, bytes() fonksiyonuna verdiğimiz ikinci parametrenin \\nisminin encoding olduğunu ve bu parametreyi isimli bir \\nparametre olarak da kullanabileceğimizi belirtelim:\\n\"\"\"\\nbytes(\"istiizha\",encoding(\"ascii\"))',\n",
       " '_i72': '\"\"\"\\nGördüğünüz gibi, bytes() fonksiyonuna parametre olarak bir karakter \\ndizisi verebilmek için, bu karakter dizisi ile birlikte bir\\nkod çözücü de belirtmemiz gerekiyor. Böylece bytes() fonksiyonu\\nkendisine verdiğimiz karakter dizisini, belirttiğimiz kod\\nçözücünün kurallarına göre bayta dönüştürüyor.\\n\\nBu arada, çıktıda görünen ‘b’ harflerinin, elimizdeki verinin \\nbir bayt olduğunu gösteren bir işaret olduğunu biliyorsunuz.\\n\\nAyrıca, bytes() fonksiyonuna verdiğimiz ikinci parametrenin \\nisminin encoding olduğunu ve bu parametreyi isimli bir \\nparametre olarak da kullanabileceğimizi belirtelim:\\n\"\"\"\\nbytes(\"istizha\",encoding(\"ascii\"))',\n",
       " '_i73': '\"\"\"\\nBu noktada size şöyle bir soru sorayım: \\nAcaba bytes() fonksiyonuna ilk parametre \\nolarak verdiğimiz karakter dizisi, ikinci \\nparametrede belirttiğimiz kod çözücü tarafından tanınmazsa ne olur?\\n\\nCevabı tahmin edebilirsiniz: Böyle bir durumda \\nelbette Python bize bir hata mesajı gösterir:\\n\\n\"\"\"\\nbytes(\\'şeker\\', \\'ascii\\')',\n",
       " '_i74': '\"\"\"\\nBu noktada size şöyle bir soru sorayım: \\nAcaba bytes() fonksiyonuna ilk parametre \\nolarak verdiğimiz karakter dizisi, ikinci \\nparametrede belirttiğimiz kod çözücü tarafından tanınmazsa ne olur?\\n\\nCevabı tahmin edebilirsiniz: Böyle bir durumda \\nelbette Python bize bir hata mesajı gösterir:\\n\\n\"\"\"\\nbytes(\\'şeker\\', \\'ascii\\')',\n",
       " '_i75': 'bytes(\\'€\\', \\'cp857\\')\\n\"\"\"\\nş’ harfi ‘ASCII’ karakter kümesinde; ‘€’ işareti ise ‘CP857’ \\nadlı karakter kümesinde tanımlanmamış birer karakter olduğu \\niçin, ilgili kod çözücüler bu karakterleri çözüp bayta \\ndönüştüremiyor. Yazdığımız kodların bu tür durumlarda \\ntamamen çökmesini engellemek için, önceki derslerimizde de \\nçeşitli vesilelerle öğrenmiş olduğumuz errors adlı bir parametreden \\nyararlanabiliriz:\\n\"\"\"\\nbytes(\\'ışık\\', encoding=\\'ascii\\', errors=\\'replace\\')',\n",
       " '_i76': 'bytes(\\'€\\', \\'cp857\\')\\n\"\"\"\\nş’ harfi ‘ASCII’ karakter kümesinde; ‘€’ işareti ise ‘CP857’ \\nadlı karakter kümesinde tanımlanmamış birer karakter olduğu \\niçin, ilgili kod çözücüler bu karakterleri çözüp bayta \\ndönüştüremiyor. Yazdığımız kodların bu tür durumlarda \\ntamamen çökmesini engellemek için, önceki derslerimizde de \\nçeşitli vesilelerle öğrenmiş olduğumuz errors adlı bir parametreden \\nyararlanabiliriz:\\n\"\"\"\\nbytes(\\'şeker\\', encoding=\\'ascii\\', errors=\\'replace\\')',\n",
       " '_i77': 'bytes(\\'€\\', \\'cp857\\')\\n\"\"\"\\nş’ harfi ‘ASCII’ karakter kümesinde; ‘€’ işareti ise ‘CP857’ \\nadlı karakter kümesinde tanımlanmamış birer karakter olduğu \\niçin, ilgili kod çözücüler bu karakterleri çözüp bayta \\ndönüştüremiyor. Yazdığımız kodların bu tür durumlarda \\ntamamen çökmesini engellemek için, önceki derslerimizde de \\nçeşitli vesilelerle öğrenmiş olduğumuz errors adlı bir parametreden \\nyararlanabiliriz:\\n\"\"\"\\nbytes(\\'€\\', encoding=\\'cp857\\', errors=\\'ignore\\')',\n",
       " '_i78': '\"\"\"\\nş’ harfi ‘ASCII’ karakter kümesinde; ‘€’ işareti ise ‘CP857’ \\nadlı karakter kümesinde tanımlanmamış birer karakter olduğu \\niçin, ilgili kod çözücüler bu karakterleri çözüp bayta \\ndönüştüremiyor. Yazdığımız kodların bu tür durumlarda \\ntamamen çökmesini engellemek için, önceki derslerimizde de \\nçeşitli vesilelerle öğrenmiş olduğumuz errors adlı bir parametreden \\nyararlanabiliriz:\\n\"\"\"\\nbytes(\\'ışık\\', encoding=\\'ascii\\', errors=\\'replace\\')',\n",
       " '_78': b'???k',\n",
       " '_i79': \"bytes('şeker', encoding='ascii', errors='replace')\",\n",
       " '_79': b'?eker',\n",
       " '_i80': \"bytes('€', encoding='cp857', errors='replace')\",\n",
       " '_80': b'?',\n",
       " '_i81': \"bytes('€', encoding='cp857', errors='ignore')\",\n",
       " '_81': b'',\n",
       " '_i82': \"bytes('€', encoding='cp857', errors='xmlcharrefreplace')\",\n",
       " '_82': b'&#8364;',\n",
       " '_i83': \"bytes('şeker', encoding='cp857', errors='xmlcharrefreplace')\",\n",
       " '_83': b'\\x9feker',\n",
       " '_i84': '\"\"\"\\nGördüğünüz gibi, errors parametresine verdiğimiz çeşitli değerler\\nyardımıyla, bytes() fonksiyonunun, encoding parametresinde belirtilen\\nkod çözücü ile çözülemeyen karakterlerle karşılaştığında nasıl\\ndavranacağını belirleyebiliyoruz.\\n\\n\\nerrors parametresine verdiğimiz bütün bu değerleri önceki\\nderslerimizde öğrenmiştik. Dolayısıyla yukarıda gösterdiğimiz\\nkodları rahatlıkla anlayabilecek kadar Python bilgisine sahibiz.\\n\\nSon olarak, bytes() fonksiyonuna parametre olarak 0-256 arası\\nsayılardan oluşan diziler de verebiliriz:\\nBu yapı içinde Python, 0 ile 128 arası sayılar için standart \\nASCII tablosunu, 128 ile 256 arası sayılar için ise Latin-1 \\nkarakter kümesini temel alarak sayıları birer bayta dönüştürecektir.\\n\"\"\"\\nbytes([65, 10, 12, 11, 15, 66])',\n",
       " '_84': b'A\\n\\x0c\\x0b\\x0fB',\n",
       " '_i85': '\"\"\"\\nbytearray()\\nBildiğiniz gibi baytlar değiştirilemeyen bir veri tipidir. \\nDolayısıyla bir bayt veri tipi üzerinde herhangi bir değişiklik\\nyapamayız. Örneğin bir baytın herhangi bir öğesini başka bir \\ndeğerle değiştiremeyiz:\\n\"\"\"\\na = bytes(\\'istihza\\', \\'ascii\\')',\n",
       " '_i86': 'a[0]',\n",
       " '_86': 105,\n",
       " '_i87': 'a[0]=106',\n",
       " '_i88': '\"\"\"\\nAma eğer hem baytlarla çalışmak, hem de bu baytların \\nüzerinde değişiklik yapabilmek isterseniz baytlar \\nyerine bayt dizileri ile çalışabilirsiniz. İşte \\nbunun için bytearray() adlı bir fonksiyondan yararlanıyoruz.\\n\\nYaptıkları iş bakımından bytearray() ve bytes()\\nfonksiyonları birbirlerine çok benzer. Bu ikisi \\narasındaki tek fark, bytearray() ile oluşturulan \\nveri tipinin, bytes() ile oluşturulan veri tipinin\\naksine, değiştirilebilir nitelikte olmasıdır:\\n\"\"\"\\na = bytearray(\\'adana\\', \\'ascii\\')',\n",
       " '_i89': 'a',\n",
       " '_89': bytearray(b'Adana'),\n",
       " '_i90': 'a[0] = 65',\n",
       " '_i91': 'a',\n",
       " '_91': bytearray(b'Adana'),\n",
       " '_i92': 'a',\n",
       " '_92': bytearray(b'Adana'),\n",
       " '_i93': '\"\"\"\\nchr()\\nBu fonksiyon, kendisine parametre olarak verilen bir tam \\nsayının karakter karşılığını döndürür. Örneğin:\\n\"\"\"\\nchr(10)',\n",
       " '_93': '\\n',\n",
       " '_i94': 'chr(65)',\n",
       " '_94': 'A',\n",
       " '_i95': '\"\"\"\\nBu fonksiyon sayıları karakterlere dönüştürürken \\nASCII sistemini değil, UNICODE sistemini temel alır.\\nDolayısıyla bu fonksiyon ile 128 (veya 255) üstü sayıları\\nda dönüştürebiliriz. Örneğin:\\n\"\"\"\\nchr(305)',\n",
       " '_95': 'ı',\n",
       " '_i96': '\"\"\"\\nlist()\\nBu fonksiyon iki farklı amaç için kullanılabilir:\\n\\nListe tipinde bir veri oluşturmak\\n\\nFarklı veri tiplerini liste adlı veri tipine dönüştürmek\\n\\nBirinci amaç için bu fonksiyonu şu şekilde kullanıyoruz:\\n\\n\\n\"\"\"\\nliste=list()',\n",
       " '_i97': '\"\"\"\\nlist()\\nBu fonksiyon iki farklı amaç için kullanılabilir:\\n\\nListe tipinde bir veri oluşturmak\\n\\nFarklı veri tiplerini liste adlı veri tipine dönüştürmek\\n\\nBirinci amaç için bu fonksiyonu şu şekilde kullanıyoruz:\\n\\n\\n\"\"\"\\nliste=list()\\ntype(liste)',\n",
       " '_97': list,\n",
       " '_i98': '\"\"\"\\nlist()\\nBu fonksiyon iki farklı amaç için kullanılabilir:\\n\\nListe tipinde bir veri oluşturmak\\n\\nFarklı veri tiplerini liste adlı veri tipine dönüştürmek\\n\\nBirinci amaç için bu fonksiyonu şu şekilde kullanıyoruz:\\n\\n\\n\"\"\"\\nliste=list()\\nprint(liste)',\n",
       " '_i99': 'liste=list(range(1,10))\\nprint(liste)',\n",
       " '_i100': 'demet=tuple(range(1,10))',\n",
       " 'demet': (1, 2, 3, 4, 5, 6, 7, 8, 9),\n",
       " '_i101': 'demet',\n",
       " '_101': (1, 2, 3, 4, 5, 6, 7, 8, 9),\n",
       " '_i102': 'demet\\ntype(demet)',\n",
       " '_102': tuple,\n",
       " '_i103': 'demet',\n",
       " '_103': (1, 2, 3, 4, 5, 6, 7, 8, 9),\n",
       " '_i104': 'type(demet)',\n",
       " '_104': tuple,\n",
       " '_i105': 'liste=list(demet)',\n",
       " '_i106': 'liste',\n",
       " '_106': [1, 2, 3, 4, 5, 6, 7, 8, 9],\n",
       " '_i107': 'type(liste)',\n",
       " '_107': list,\n",
       " '_i108': '\"\"\"\\nset()\\nset() fonksiyonu list() fonksiyonuna çok benzer. \\nBu fonksiyon da tıpkı list() fonksiyonu gibi, veri\\ntipleri arasında dönüştürme işlemleri gerçekleştirmek \\niçin kullanılabilir. set() fonksiyonunun görevi farklı \\nveri tiplerini kümeye dönüştürmektir:\\n\"\"\"\\nküme=set(demet)',\n",
       " 'küme': {1, 2, 3, 4, 5, 6, 7, 8, 9},\n",
       " '_i109': 'küme',\n",
       " '_109': {1, 2, 3, 4, 5, 6, 7, 8, 9},\n",
       " '_i110': 'type(küme)',\n",
       " '_110': set,\n",
       " '_i111': '\"\"\"\\ntuple()\\ntuple() fonksiyonu da, tıpkı list(), set() ve benzerleri \\ngibi bir dönüştürücü fonksiyondur. Bu fonksiyon farklı veri \\ntiplerini demete dönüştürür:\\n\"\"\"\\ndemet=tuple(demet)',\n",
       " '_i112': 'demet',\n",
       " '_112': (1, 2, 3, 4, 5, 6, 7, 8, 9),\n",
       " '_i113': 'type(demet)',\n",
       " '_113': tuple,\n",
       " '_i114': '\"\"\"\\nfrozenset()\\nBu fonksiyonu kullanarak farklı veri tiplerini \\ndondurulmuş kümeye dönüştürebilirsiniz:\\n\"\"\"\\ndf=frozenset(demet)',\n",
       " 'df': frozenset({1, 2, 3, 4, 5, 6, 7, 8, 9}),\n",
       " '_i115': 'df',\n",
       " '_115': frozenset({1, 2, 3, 4, 5, 6, 7, 8, 9}),\n",
       " '_i116': 'df[0]',\n",
       " '_i117': 'df[0][1]',\n",
       " '_i118': '\"\"\"\\ncomplex()\\nSayılardan söz ederken, eğer matematikle çok fazla \\niçli dışlı değilseniz pek karşılaşmayacağınız, \\n‘karmaşık sayı’ adlı bir sayı türünden de bahsetmiştik.\\nKarmaşık sayılar, bir gerçek, bir de sanal kısımdan oluşan sayılardır.\\n\\nKarmaşık sayılar Python’da ‘complex’ ifadesiyle gösteriliyor.\\nMesela şu bir karmaşık sayıdır:\\n\"\"\"\\n12+0j',\n",
       " '_118': (12+0j),\n",
       " '_i119': 'type(12+2j)',\n",
       " '_119': complex,\n",
       " '_i120': '\"\"\"\\nİşte eğer herhangi bir sayıyı karmaşık sayıya \\ndönüştürmeniz gerekirse complex() adlı bir fonksiyondan\\nyararlanabilirsiniz. Örneğin:\\nFLOAT İNTEGER COMPLEX\\n\"\"\"\\ncomplex(15)',\n",
       " '_120': (15+0j),\n",
       " '_i121': '\"\"\"\\nBöyle bir kod yazdığımızda, verdiğimiz parametre \\nkarmaşık sayının gerçek kısmını oluşturacak, sanal kısım\\nise 0 olarak kabul edilecektir. Elbette isterseniz sanal kısmı \\nkendiniz de belirleyebilirsiniz:\\n\"\"\"\\ncomplex(15, 2)',\n",
       " '_121': (15+2j),\n",
       " '_i122': '\"\"\"\\nfloat()\\nBu fonksiyonu, sayıları veya karakter dizilerini kayan noktalı\\nsayıya dönüştürmek için kullanıyoruz:\\n\"\"\"\\nfloat(\"134\")',\n",
       " '_122': 134.0,\n",
       " '_i123': 'float(12)',\n",
       " '_123': 12.0,\n",
       " '_i124': '\"\"\"\\nint()\\nBu fonksiyon birkaç farklı amaç için kullanılabilir.\\nint() fonksiyonunun en temel görevi, bir karakter dizisi \\nveya kayan noktalı sayıyı (eğer mümkünse) tam sayıya dönüştürmektir:\\n\"\"\"\\nint(\\'10\\')',\n",
       " '_124': 10,\n",
       " '_i125': 'int(12.4)',\n",
       " '_125': 12,\n",
       " '_i126': '\"\"\"\\nBunun dışında bu fonksiyonu, herhangi bir sayma\\nsisteminde temsil edilen bir sayıyı onlu sayma \\nsistemine dönüştürmek için de kullanabiliriz.\\nÖrneğin:\\nint(\\'12\\', 8)\\n\"\"\"',\n",
       " '_126': \"\\nBunun dışında bu fonksiyonu, herhangi bir sayma\\nsisteminde temsil edilen bir sayıyı onlu sayma \\nsistemine dönüştürmek için de kullanabiliriz.\\nÖrneğin:\\nint('12', 8)\\n\",\n",
       " '_i127': '\"\"\"\\nBunun dışında bu fonksiyonu, herhangi bir sayma\\nsisteminde temsil edilen bir sayıyı onlu sayma \\nsistemine dönüştürmek için de kullanabiliriz.\\nÖrneğin:\\n\"\"\"\\nint(\\'12\\', 8)',\n",
       " '_127': 10,\n",
       " '_i128': '\"\"\"\\nBurada, sekizli sayma sistemine ait sayı değerli bir karakter \\ndizisi olan ‘12’`yi onlu sayma sistemine dönüştürdük ve böylece \\n`10 sayısını elde ettik.\\n\\nint() fonksiyonunu sayma sistemleri arasında dönüştürme işlemlerinde\\nkullanabilmek için ilk parametrenin bir karakter dizisi olması \\ngerektiğine dikkat ediyoruz.\\n\\nBu arada, int(\\'12\\', 8) komutununun 12 sayısını sekizli sayma\\nsistemine dönüştürmediğine dikkat edin. Bu komutun yaptığı iş \\nsekizli sayma sistemindeki 12 sayısını onlu sayma sistemine \\ndönüştürmektir.\\n\\nint() fonksiyonunun bu kullanımıyla ilgili bir örnek daha verelim:\\n\"\"\"\\nint(\\'4cf\\', 16)',\n",
       " '_128': 1231,\n",
       " '_i129': '\"\"\"\\nstr()\\nBu fonksiyonun, farklı veri tiplerini karakter dizisine\\ndönüştürmek için kullanıldığını biliyorsunuz. Örneğin:\\n\"\"\"\\nstr(12)',\n",
       " '_129': '12',\n",
       " '_i130': '\"\"\"\\nBurada 12 sayısını bir karakter dizisine dönüştürdük. \\nŞimdi de bir baytı karakter dizisine dönüştürelim:\\n\"\"\"\\nbayt = b\\'istihza\\'',\n",
       " 'bayt': b'kad\\xc4\\xb1n',\n",
       " '_i131': \"ardiz = str(bayt, encoding='utf-8')\\nprint(ardiz)\",\n",
       " 'ardiz': 'istihza',\n",
       " '_i132': '\"\"\"\\nGördüğünüz gibi, bir baytı karakter dizisine dönüştürmek \\niçin str() fonksiyonuna encoding adlı bir parametre veriyoruz.\\nFonksiyonumuz, bu parametrede hangi kodlama biçimi belirtildiyse, \\nbaytları bu kodlama biçiminin kurallarına göre bir karakter \\ndizisine dönüştürüyor.\\n\\nTahmin edebileceğiniz gibi, belirttiğiniz kodlama biçiminin \\nherhangi bir baytı karakter dizisine dönüştüremediği durumlara \\nkarşı bir errors parametresi de verebiliriz str() fonksiyonuna.\\n\\nbayt = bytes(\\'kadın\\', encoding=\\'utf-8\\')\\nprint(bayt)\\nÖrneğin elimizde bayt tipinde şöyle bir veri olduğunu varsayalım:\\n\"\"\"\\nbayt = bytes(\\'kadın\\', encoding=\\'utf-8\\')\\nprint(bayt)',\n",
       " '_i133': '\"\"\"\\nGördüğünüz gibi, bir baytı karakter dizisine dönüştürmek \\niçin str() fonksiyonuna encoding adlı bir parametre veriyoruz.\\nFonksiyonumuz, bu parametrede hangi kodlama biçimi belirtildiyse, \\nbaytları bu kodlama biçiminin kurallarına göre bir karakter \\ndizisine dönüştürüyor.\\n\\nTahmin edebileceğiniz gibi, belirttiğiniz kodlama biçiminin \\nherhangi bir baytı karakter dizisine dönüştüremediği durumlara \\nkarşı bir errors parametresi de verebiliriz str() fonksiyonuna.\\n\\nÖrneğin elimizde bayt tipinde şöyle bir veri olduğunu varsayalım:\\n\"\"\"\\nbayt = bytes(\\'kadın\\', encoding=\\'utf-8\\')\\nprint(bayt)',\n",
       " '_i134': \"kardiz = str(bayt, encoding='ascii')\",\n",
       " '_i135': '\"\"\"\\nASCII adlı kod çözücü, b\\'kadın\\' içindeki baytlardan birini \\ntanıyamadığı için bize bir hata mesajı gösterdi. Bildiğiniz\\ngibi ASCII 128’den büyük baytları dönüştüremez. İşte bu tür \\ndurumlara karşı errors parametresinden yararlanabilirsiniz:\\n\"\"\"\\nkardiz = str(bayt, encoding=\\'ascii\\', errors=\\'ignore\\')\\nprint(kardiz)',\n",
       " 'kardiz': 'kadn',\n",
       " '_i136': '\"\"\"\\nerrors parametresine verdiğimiz ‘ignore’ değeri sayesinde \\nPython bize hata mesajı göstermek yerine, ASCII ile çözülemeyen\\nbaytı görmezden geldi. errors parametresinin hangi değerleri\\nalabileceğini önceki derslerimizden hatırlıyor olmalısınız.\\ndict()\\nBu fonksiyon, farklı veri tiplerinden sözlükler üretmemizi sağlar.\\nÖrneğin bu fonksiyonu kullanarak boş bir sözlük oluşturabiliriz:\\n\"\"\"\\ns = dict()',\n",
       " 's': {'a': 1, 'b': 2, 'c': 3},\n",
       " '_i137': 's = dict(a=1, b=2, c=3)',\n",
       " '_i138': 's',\n",
       " '_138': {'a': 1, 'b': 2, 'c': 3},\n",
       " '_i139': \"öğeler = (['a', 1], ['b', 2], ['c', 3])\\ndict(öğeler)\",\n",
       " 'öğeler': (['a', 1], ['b', 2], ['c', 3]),\n",
       " '_139': {'a': 1, 'b': 2, 'c': 3},\n",
       " '_i140': '\"\"\"\\ncallable()\\nBu fonksiyon, bir nesnenin ‘çağrılabilir’ olup olmadığını \\ndenetler. Peki hangi nesneler çağrılabilir özelliktedir. \\nMesela fonksiyonlar çağrılabilir nesnelerdir. Değişkenler \\nise çağrılabilir nesneler değildir.\\n\"\"\"\\ncallable(open)',\n",
       " '_140': True,\n",
       " '_i141': 'import sys\\ncallable(sys.version)',\n",
       " 'sys': <module 'sys' (built-in)>,\n",
       " '_141': False,\n",
       " '_i142': '\"\"\"\\nord()\\nBu fonksiyon, bir karakterin karşılık geldiği ondalık \\nsayıyı verir. Örneğin:\\n\"\"\"\\nord(1a)',\n",
       " '_i143': '\"\"\"\\nord()\\nBu fonksiyon, bir karakterin karşılık geldiği ondalık \\nsayıyı verir. Örneğin:\\n\"\"\"\\nord(\"a\")',\n",
       " '_143': 97,\n",
       " '_i144': 'ord(\"ı\")',\n",
       " '_144': 305,\n",
       " '_i145': '\"\"\"\\noct()\\nBu fonksiyon, bir sayıyı sekizli düzendeki karşılığına \\nçevirmemizi sağlar:\\n\"\"\"\\noct(10)',\n",
       " '_145': '0o12',\n",
       " '_i146': '\"\"\"\\nhex()\\nBu fonksiyon, bir sayıyı onaltılı düzendeki karşılığına çevirmemizi \\nsağlar:\\n\"\"\"\\nhex(305)',\n",
       " '_146': '0x131',\n",
       " '_i147': '\"\"\"\\neval(), exec(), globals(), locals(), compile()\\nBu bölümde beş farklı fonksiyonu bir arada inceleyeceğiz. \\nBu fonksiyonları birlikte ele almamızın nedeni bunların \\nbirbiriyle yakından bağlantılı olması.\\n\\nBurada işleyeceğimiz bu beş fonksiyon şunlardan oluşuyor:\\n\\neval()\\n\\nexec()\\n\\nglobals()\\n\\nlocals()\\n\\ncompile()\\n\\nAncak bu fonksiyonlardan söz etmeye başlamadan önce \\nPython’daki iki önemli kavramı açıklığa kavuşturmamız \\ngerekiyor: Bu kavramlar şunlar:\\n\\nifade\\n\\ndeyim\\n\\nÖncelikle ‘ifade’ kavramından başlayalım.\\n\\nİngilizcede expression denen ‘ifadeler’, bir değer \\nüretmek için kullanılan kod parçalarıdır.\\nKarakter dizileri, sayılar, işleçler, öteki veri tipleri, \\nliste üreteçleri, sözlük üreteçleri, küme üreteçleri,\\nfonksiyonlar hep birer ifadedir. Örneğin:\\n\\n5\\n\\n23 + 4\\n\\n[i for i in range(10)]\\n\\nlen([1, 2, 3])\\nİngilizcede statement olarak adlandırılan ‘deyimler’ \\nise ifadeleri de kapsayan daha geniş bir kavramdır.\\nBuna göre bütün ifadeler aynı zamanda birer deyimdir. \\nDaha doğrusu, ifadelerin bir araya gelmesi ile deyimler\\noluşturulabilir.\\n\\nDeyimlere birkaç örnek verelim:\\n\\na = 5\\n\\nif a:\\n    print(a)\\n\\nfor i in range(10):\\n    print(i)\\nPython programlama dilinde deyimlerle ifadeleri ayırt\\netmenin kolay bir yolu da eval() fonksiyonundan yararlanmaktır.\\nEğer deyim mi yoksa ifade mi olduğundan emin olamadığınız \\nbir şeyi eval() fonksiyonuna parametre olarak verdiğinizde\\nhata almıyorsanız o parametre bir ifadedir. Eğer hata\\nalıyorsanız o parametre bir deyimdir. Çünkü eval()\\nfonksiyonuna parametre olarak yalnızca ifadeler verilebilir.\\n\\nBirkaç örnek verelim:\\n\\neval(\\'a = 5\\')\\n\\n  File \"<string>\", line 1\\n    a = 5\\n      ^\\nSyntaxError: invalid syntax\\nGördüğünüz gibi, eval() fonksiyonu bize bir hata mesajı verdi.\\nÇünkü a = 5 kodu bir deyimdir. Unutmayın, Python’da bütün\\ndeğer atama işlemleri birer deyimdir. Dolayısıyla eval() \\nfonksiyonu bu deyimi parametre olarak alamaz.\\n\\nBir de şuna bakalım:\\n\\neval(\\'5 + 25\\')\\n\\n30\\nBu defa hata almadık. Çünkü eval() fonksiyonuna, olması\\ngerektiği gibi, parametre olarak bir ifade verdik.\\nBildiğiniz gibi, 5 + 25 kodu bir ifadedir.\\n\\nDediğimiz gibi, eval() fonksiyonu deyimleri parametre \\nolarak alamaz. Ama exec() fonksiyonu alabilir:\\n\\nexec(\\'a = 5\\')\\nBu şekilde, değeri 5 olan a adlı bir değişken oluşturmuş \\nolduk. İsterseniz kontrol edelim:\\n\\nprint(a)\\n\\n5\\nGördüğünüz gibi, exec() fonksiyonu, mevcut isim alanı\\niçinde a adlı bir değişken oluşturdu. Yalnız elbette \\nmevcut isim alanı içinde yeni değişkenler ve yeni değerler \\noluştururken dikkatli olmamız gerektiğini biliyorsunuz.\\nZira mesela yukarıdaki komutu vermeden önce mevcut isim \\nalanında zaten a adlı bir değişken varsa, o değişkenin \\ndeğeri değişecektir:\\n\\na = 20\\nElimizde, değeri 20 olan a adlı bir değişken var. \\nŞimdi exec() fonksiyonu yardımıyla a değişkeninin\\nde içinde yer aldığı mevcut isim alanına müdahale ediyoruz:\\n\\nexec(\\'a = 10\\')\\nBöylece a değişkeninin eski değerini silmiş olduk. Kontrol edelim:\\n\\nprint(a)\\n\\n10\\nBu tür durumlarda, exec() ile oluşturduğunuz değişkenleri \\nglobal isim alanına değil de, farklı bir isim alanına \\ngöndermeyi tercih edebilirsiniz. Peki ama bunu nasıl yapacağız?\\n\\nPython programlama dilinde isim alanları sözlük tipinde bir veridir. \\nÖrneğin global isim alanı basit bir sözlükten ibarettir.\\n\\nGlobal isim alanını gösteren sözlükte hangi anahtar ve \\ndeğerlerin olduğunu görmek için globals() adlı bir \\nfonksiyonu kullanabilirsiniz:\\n\\nglobals()\\nBu fonksiyonu çalıştırdığımızda şuna benzer bir çıktı alırız:\\n\\n{\\'__doc__\\': None, \\'__loader__\\': <class \\'_frozen_importlib.BuiltinImpor\\nter\\'>,\\'__name__\\': \\'__main__\\', \\'__package__\\': None, \\'__builtins__\\':\\n<module \\'builtins\\'>}\\nGördüğünüz gibi, elimizdeki şey gerçekten de bir sözlük. \\nDolayısıyla bir sözlük ile ne yapabilirsek bu sözlükle de\\naynı şeyi yapabiliriz…\\n\\n‘globals’ adlı bu sözlüğün içeriği, o anda global isim\\nalanında bulunan nesnelere göre farklılık gösterecektir. Örneğin:\\n\\nx = 10\\nşeklinde 10 değerine sahip bir x nesnesi tanımladıktan sonra \\nglobals() fonksiyonunu tekrar çalıştırırsanız global isim\\nalanına bu nesnenin de eklenmiş olduğunu görürsünüz.\\n\\nDediğimiz gibi, globals() fonksiyonundan dönen nesne bir sözlüktür. \\nBu sözlüğe, herhangi bir sözlüğe veri ekler gibi değer de\\nekleyebilirsiniz:\\n\\nglobals()[\\'z\\'] = 23\\nBu şekilde global isim alanına z adlı bir değişken eklemiş oldunuz:\\n\\nz\\n\\n23\\nYalnız, Python programlama dili bize bu şekilde global isim alanına\\nnesne ekleme imkanı verse de, biz mecbur değilsek bu yöntemi\\nkullanmaktan kaçınmalıyız. Çünkü bu şekilde sıradışı bir yöntemle\\ndeğişken tanımladığımız için aslında global isim alanını, nerden \\ngeldiğini kestirmenin güç olduğu değerlerle ‘kirletmiş’ oluyoruz.\\n\\nBildiğiniz gibi, Python’da global isim alanı dışında bir de lokal isim \\nlanı bulunur. Lokal isim alanlarının, fonksiyonlara \\n(ve ileride göreceğimiz gibi sınıflara) ait bir isim alanı\\nolduğunu biliyorsunuz. İşte bu isim alanlarına ulaşmak için de \\nlocals() adlı bir fonksiyondan yararlanacağız:\\n\\ndef fonksiyon(param1, param2):\\n    x = 10\\n    print(locals())\\n\\nfonksiyon(10, 20)\\nBu fonksiyonu çalıştırdığınızda şu çıktıyı alacaksınız:\\n\\n{\\'param2\\': 20, \\'param1\\': 10, \\'x\\': 10}\\nGördüğünüz gibi, locals() fonksiyonu gerçekten de bize fonksiyon()\\nadlı fonksiyon içindeki lokal değerleri veriyor.\\n\\nglobals() ve locals() fonksiyonlarının ne işe yaradığını \\nincelediğimize göre exec() fonksiyonunu anlatırken kaldığımız yere \\ndönebiliriz.\\n\\nNe diyorduk?\\n\\nElimizde, değeri 20 olan a adlı bir değişken vardı:\\n\\na = 20\\nexec() fonksiyonu yardımıyla a değişkeninin de içinde yer aldığı \\nmevcut isim alanına müdahale edelim:\\n\\nexec(\\'a = 3\\')\\nBu şekilde a değişkeninin varolan değerini silmiş olduk:\\n\\nprint(a)\\n\\n3\\nDediğimiz gibi, bu tür durumlarda, exec() ile oluşturduğunuz \\ndeğişkenleri global isim alanı yerine farklı bir isim alanına \\ngöndermeyi tercih etmemiz daha uygun olacaktır. Python’da isim\\nalanlarının basit bir sözlük olduğunu öğrendiğimize göre, exec() \\nile oluşturduğumuz değişkenleri global isim alanı yerine nasıl \\nfarklı bir isim alanına göndereceğimizi görebiliriz.\\n\\nÖnce yeni bir isim alanı oluşturalım:\\n\\nia = {}\\nŞimdi exec() ile oluşturacağımız değerleri bu isim alanına \\ngönderebiliriz:\\n\\nexec(\\'a = 3\\', ia)\\nBöylece global isim alanındaki a değişkeninin değerine dokunmamış\\nolduk:\\n\\na\\n\\n20\\nYeni oluşturduğumuz değer ise ia adlı yeni isim alanına gitti:\\n\\nia[\\'a\\']\\n\\n3\\n\\n\"\"\"\\neval(\"a=5\")',\n",
       " '_i148': \"eval('5 + 25')\",\n",
       " '_148': 30,\n",
       " '_i149': \"exec('a = 5')\",\n",
       " '_i150': 'print(a)',\n",
       " '_i151': 'a = 20',\n",
       " '_i152': \"exec('a = 10')\",\n",
       " '_i153': 'print(a)',\n",
       " '_i154': '\"\"\"\\nBu tür durumlarda, exec() ile oluşturduğunuz\\ndeğişkenleri global isim alanına değil de, \\nfarklı bir isim alanına göndermeyi tercih edebilirsiniz. \\nPeki ama bunu nasıl yapacağız?\\nPython programlama dilinde isim alanları sözlük tipinde bir veridir.\\nÖrneğin global isim alanı basit bir sözlükten ibarettir.\\n\"\"\"\\nglobals()',\n",
       " '_154': {...},\n",
       " '_i155': 'x=10',\n",
       " 'x': 10,\n",
       " '_i156': \"globals()['z'] = 23\",\n",
       " 'z': 23,\n",
       " '_i157': 'globals',\n",
       " '_157': <function globals()>,\n",
       " '_i158': 'globals()',\n",
       " '_158': {...},\n",
       " '_i159': 'z',\n",
       " '_159': 23,\n",
       " '_i160': 'class hayvan():\\n    model=\"renault\"',\n",
       " 'hayvan': __main__.hayvan,\n",
       " '_i161': 'model',\n",
       " '_i162': 'def fonksiyon(param1, param2):\\n    x = 10\\n    print(locals())',\n",
       " 'fonksiyon': <function __main__.fonksiyon(param1, param2)>,\n",
       " '_i163': 'def fonksiyon(param1, param2):\\n    x = 10\\n    print(locals())\\nfonksiyon(10,20)',\n",
       " '_i164': 'locals()'}"
      ]
     },
     "execution_count": 164,
     "metadata": {},
     "output_type": "execute_result"
    }
   ],
   "source": [
    "locals()"
   ]
  },
  {
   "cell_type": "code",
   "execution_count": 165,
   "id": "d013b6d4",
   "metadata": {},
   "outputs": [],
   "source": [
    "\"\"\"\n",
    "Dediğimiz gibi, bu tür durumlarda, exec() ile oluşturduğunuz \n",
    "değişkenleri global isim alanı yerine farklı bir isim alanına \n",
    "göndermeyi tercih etmemiz daha uygun olacaktır. Python’da isim \n",
    "alanlarının basit bir sözlük olduğunu öğrendiğimize göre, exec() \n",
    "ile oluşturduğumuz değişkenleri global isim alanı yerine nasıl \n",
    "farklı bir isim alanına göndereceğimizi görebiliriz\n",
    "\"\"\"\n",
    "ia={}"
   ]
  },
  {
   "cell_type": "code",
   "execution_count": 166,
   "id": "510db0f3",
   "metadata": {},
   "outputs": [],
   "source": [
    "exec(\"a=3\",ia)"
   ]
  },
  {
   "cell_type": "code",
   "execution_count": 167,
   "id": "460041cc",
   "metadata": {},
   "outputs": [
    {
     "data": {
      "text/plain": [
       "10"
      ]
     },
     "execution_count": 167,
     "metadata": {},
     "output_type": "execute_result"
    }
   ],
   "source": [
    "a"
   ]
  },
  {
   "cell_type": "code",
   "execution_count": 168,
   "id": "7b7c0410",
   "metadata": {},
   "outputs": [
    {
     "data": {
      "text/plain": [
       "3"
      ]
     },
     "execution_count": 168,
     "metadata": {},
     "output_type": "execute_result"
    }
   ],
   "source": [
    "ia[\"a\"]"
   ]
  },
  {
   "cell_type": "code",
   "execution_count": 169,
   "id": "903cc97d",
   "metadata": {},
   "outputs": [
    {
     "name": "stdout",
     "output_type": "stream",
     "text": [
      "Copyright (c) 2001-2022 Python Software Foundation.\n",
      "All Rights Reserved.\n",
      "\n",
      "Copyright (c) 2000 BeOpen.com.\n",
      "All Rights Reserved.\n",
      "\n",
      "Copyright (c) 1995-2001 Corporation for National Research Initiatives.\n",
      "All Rights Reserved.\n",
      "\n",
      "Copyright (c) 1991-1995 Stichting Mathematisch Centrum, Amsterdam.\n",
      "All Rights Reserved.\n"
     ]
    }
   ],
   "source": [
    "\"\"\"\n",
    "copyright()\n",
    "Bu fonksiyon yardımıyla Python’ın telif haklarına ilişkin \n",
    "bilgilere erişebilirsiniz:\n",
    "\"\"\"\n",
    "copyright()"
   ]
  },
  {
   "cell_type": "code",
   "execution_count": 170,
   "id": "a6bced20",
   "metadata": {},
   "outputs": [
    {
     "name": "stdout",
     "output_type": "stream",
     "text": [
      "    Thanks to CWI, CNRI, BeOpen.com, Zope Corporation and a cast of thousands\n",
      "    for supporting Python development.  See www.python.org for more information.\n"
     ]
    }
   ],
   "source": [
    "\"\"\"\n",
    "credits()\n",
    "Bu fonksiyon, Python programlama diline katkıda bulunanlara teşekkür\n",
    "içeren küçük bir metni ekrana çıktı olarak verir:\n",
    "\"\"\"\n",
    "credits()"
   ]
  },
  {
   "cell_type": "code",
   "execution_count": 171,
   "id": "348db1c4",
   "metadata": {},
   "outputs": [
    {
     "name": "stdout",
     "output_type": "stream",
     "text": [
      "A. HISTORY OF THE SOFTWARE\n",
      "==========================\n",
      "\n",
      "Python was created in the early 1990s by Guido van Rossum at Stichting\n",
      "Mathematisch Centrum (CWI, see http://www.cwi.nl) in the Netherlands\n",
      "as a successor of a language called ABC.  Guido remains Python's\n",
      "principal author, although it includes many contributions from others.\n",
      "\n",
      "In 1995, Guido continued his work on Python at the Corporation for\n",
      "National Research Initiatives (CNRI, see http://www.cnri.reston.va.us)\n",
      "in Reston, Virginia where he released several versions of the\n",
      "software.\n",
      "\n",
      "In May 2000, Guido and the Python core development team moved to\n",
      "BeOpen.com to form the BeOpen PythonLabs team.  In October of the same\n",
      "year, the PythonLabs team moved to Digital Creations, which became\n",
      "Zope Corporation.  In 2001, the Python Software Foundation (PSF, see\n",
      "https://www.python.org/psf/) was formed, a non-profit organization\n",
      "created specifically to own Python-related Intellectual Property.\n",
      "Zope Corporation was a sponsoring member of the PSF.\n",
      "\n",
      "All Python releases are Open Source (see http://www.opensource.org for\n",
      "the Open Source Definition).  Historically, most, but not all, Python\n",
      "Hit Return for more, or q (and Return) to quit: q\n"
     ]
    }
   ],
   "source": [
    "\"\"\"\n",
    "license()\n",
    "Bu fonksiyon yardımıyla Python’ın lisansına ilişkin epey\n",
    "ayrıntılı metinlere ulaşabilirsiniz.\n",
    "\"\"\"\n",
    "license()"
   ]
  },
  {
   "cell_type": "code",
   "execution_count": 172,
   "id": "fc0e7f0f",
   "metadata": {},
   "outputs": [
    {
     "data": {
      "text/plain": [
       "['In',\n",
       " 'Out',\n",
       " '_',\n",
       " '_1',\n",
       " '_10',\n",
       " '_101',\n",
       " '_102',\n",
       " '_103',\n",
       " '_104',\n",
       " '_106',\n",
       " '_107',\n",
       " '_109',\n",
       " '_11',\n",
       " '_110',\n",
       " '_112',\n",
       " '_113',\n",
       " '_115',\n",
       " '_118',\n",
       " '_119',\n",
       " '_12',\n",
       " '_120',\n",
       " '_121',\n",
       " '_122',\n",
       " '_123',\n",
       " '_124',\n",
       " '_125',\n",
       " '_126',\n",
       " '_127',\n",
       " '_128',\n",
       " '_129',\n",
       " '_13',\n",
       " '_138',\n",
       " '_139',\n",
       " '_140',\n",
       " '_141',\n",
       " '_143',\n",
       " '_144',\n",
       " '_145',\n",
       " '_146',\n",
       " '_148',\n",
       " '_15',\n",
       " '_154',\n",
       " '_157',\n",
       " '_158',\n",
       " '_159',\n",
       " '_16',\n",
       " '_164',\n",
       " '_167',\n",
       " '_168',\n",
       " '_17',\n",
       " '_18',\n",
       " '_19',\n",
       " '_2',\n",
       " '_24',\n",
       " '_25',\n",
       " '_26',\n",
       " '_27',\n",
       " '_28',\n",
       " '_29',\n",
       " '_3',\n",
       " '_30',\n",
       " '_31',\n",
       " '_32',\n",
       " '_4',\n",
       " '_40',\n",
       " '_41',\n",
       " '_42',\n",
       " '_43',\n",
       " '_44',\n",
       " '_45',\n",
       " '_46',\n",
       " '_47',\n",
       " '_48',\n",
       " '_49',\n",
       " '_5',\n",
       " '_50',\n",
       " '_51',\n",
       " '_52',\n",
       " '_53',\n",
       " '_54',\n",
       " '_56',\n",
       " '_57',\n",
       " '_59',\n",
       " '_6',\n",
       " '_61',\n",
       " '_63',\n",
       " '_64',\n",
       " '_65',\n",
       " '_66',\n",
       " '_67',\n",
       " '_68',\n",
       " '_69',\n",
       " '_7',\n",
       " '_78',\n",
       " '_79',\n",
       " '_8',\n",
       " '_80',\n",
       " '_81',\n",
       " '_82',\n",
       " '_83',\n",
       " '_84',\n",
       " '_86',\n",
       " '_89',\n",
       " '_9',\n",
       " '_91',\n",
       " '_92',\n",
       " '_93',\n",
       " '_94',\n",
       " '_95',\n",
       " '_97',\n",
       " '__',\n",
       " '___',\n",
       " '__builtin__',\n",
       " '__builtins__',\n",
       " '__doc__',\n",
       " '__loader__',\n",
       " '__name__',\n",
       " '__package__',\n",
       " '__spec__',\n",
       " '_dh',\n",
       " '_i',\n",
       " '_i1',\n",
       " '_i10',\n",
       " '_i100',\n",
       " '_i101',\n",
       " '_i102',\n",
       " '_i103',\n",
       " '_i104',\n",
       " '_i105',\n",
       " '_i106',\n",
       " '_i107',\n",
       " '_i108',\n",
       " '_i109',\n",
       " '_i11',\n",
       " '_i110',\n",
       " '_i111',\n",
       " '_i112',\n",
       " '_i113',\n",
       " '_i114',\n",
       " '_i115',\n",
       " '_i116',\n",
       " '_i117',\n",
       " '_i118',\n",
       " '_i119',\n",
       " '_i12',\n",
       " '_i120',\n",
       " '_i121',\n",
       " '_i122',\n",
       " '_i123',\n",
       " '_i124',\n",
       " '_i125',\n",
       " '_i126',\n",
       " '_i127',\n",
       " '_i128',\n",
       " '_i129',\n",
       " '_i13',\n",
       " '_i130',\n",
       " '_i131',\n",
       " '_i132',\n",
       " '_i133',\n",
       " '_i134',\n",
       " '_i135',\n",
       " '_i136',\n",
       " '_i137',\n",
       " '_i138',\n",
       " '_i139',\n",
       " '_i14',\n",
       " '_i140',\n",
       " '_i141',\n",
       " '_i142',\n",
       " '_i143',\n",
       " '_i144',\n",
       " '_i145',\n",
       " '_i146',\n",
       " '_i147',\n",
       " '_i148',\n",
       " '_i149',\n",
       " '_i15',\n",
       " '_i150',\n",
       " '_i151',\n",
       " '_i152',\n",
       " '_i153',\n",
       " '_i154',\n",
       " '_i155',\n",
       " '_i156',\n",
       " '_i157',\n",
       " '_i158',\n",
       " '_i159',\n",
       " '_i16',\n",
       " '_i160',\n",
       " '_i161',\n",
       " '_i162',\n",
       " '_i163',\n",
       " '_i164',\n",
       " '_i165',\n",
       " '_i166',\n",
       " '_i167',\n",
       " '_i168',\n",
       " '_i169',\n",
       " '_i17',\n",
       " '_i170',\n",
       " '_i171',\n",
       " '_i172',\n",
       " '_i18',\n",
       " '_i19',\n",
       " '_i2',\n",
       " '_i20',\n",
       " '_i21',\n",
       " '_i22',\n",
       " '_i23',\n",
       " '_i24',\n",
       " '_i25',\n",
       " '_i26',\n",
       " '_i27',\n",
       " '_i28',\n",
       " '_i29',\n",
       " '_i3',\n",
       " '_i30',\n",
       " '_i31',\n",
       " '_i32',\n",
       " '_i33',\n",
       " '_i34',\n",
       " '_i35',\n",
       " '_i36',\n",
       " '_i37',\n",
       " '_i38',\n",
       " '_i39',\n",
       " '_i4',\n",
       " '_i40',\n",
       " '_i41',\n",
       " '_i42',\n",
       " '_i43',\n",
       " '_i44',\n",
       " '_i45',\n",
       " '_i46',\n",
       " '_i47',\n",
       " '_i48',\n",
       " '_i49',\n",
       " '_i5',\n",
       " '_i50',\n",
       " '_i51',\n",
       " '_i52',\n",
       " '_i53',\n",
       " '_i54',\n",
       " '_i55',\n",
       " '_i56',\n",
       " '_i57',\n",
       " '_i58',\n",
       " '_i59',\n",
       " '_i6',\n",
       " '_i60',\n",
       " '_i61',\n",
       " '_i62',\n",
       " '_i63',\n",
       " '_i64',\n",
       " '_i65',\n",
       " '_i66',\n",
       " '_i67',\n",
       " '_i68',\n",
       " '_i69',\n",
       " '_i7',\n",
       " '_i70',\n",
       " '_i71',\n",
       " '_i72',\n",
       " '_i73',\n",
       " '_i74',\n",
       " '_i75',\n",
       " '_i76',\n",
       " '_i77',\n",
       " '_i78',\n",
       " '_i79',\n",
       " '_i8',\n",
       " '_i80',\n",
       " '_i81',\n",
       " '_i82',\n",
       " '_i83',\n",
       " '_i84',\n",
       " '_i85',\n",
       " '_i86',\n",
       " '_i87',\n",
       " '_i88',\n",
       " '_i89',\n",
       " '_i9',\n",
       " '_i90',\n",
       " '_i91',\n",
       " '_i92',\n",
       " '_i93',\n",
       " '_i94',\n",
       " '_i95',\n",
       " '_i96',\n",
       " '_i97',\n",
       " '_i98',\n",
       " '_i99',\n",
       " '_ih',\n",
       " '_ii',\n",
       " '_iii',\n",
       " '_oh',\n",
       " 'a',\n",
       " 'ardiz',\n",
       " 'bayt',\n",
       " 'demet',\n",
       " 'df',\n",
       " 'exit',\n",
       " 'fonksiyon',\n",
       " 'get_ipython',\n",
       " 'hayvan',\n",
       " 'ia',\n",
       " 'kardiz',\n",
       " 'küme',\n",
       " 'l',\n",
       " 'liste',\n",
       " 'quit',\n",
       " 's',\n",
       " 'sys',\n",
       " 't1',\n",
       " 't2',\n",
       " 't3',\n",
       " 'temsil',\n",
       " 'x',\n",
       " 'z',\n",
       " 'öğeler']"
      ]
     },
     "execution_count": 172,
     "metadata": {},
     "output_type": "execute_result"
    }
   ],
   "source": [
    "\"\"\"\n",
    "dir()\n",
    "Eğer dir() fonksiyonunu parametresiz olarak kullanırsak,\n",
    "mevcut isim alanındaki öğeleri bir liste halinde elde ederiz:\n",
    "\"\"\"\n",
    "dir()"
   ]
  },
  {
   "cell_type": "code",
   "execution_count": 173,
   "id": "ece6af97",
   "metadata": {
    "scrolled": true
   },
   "outputs": [
    {
     "data": {
      "text/plain": [
       "['__add__',\n",
       " '__class__',\n",
       " '__contains__',\n",
       " '__delattr__',\n",
       " '__dir__',\n",
       " '__doc__',\n",
       " '__eq__',\n",
       " '__format__',\n",
       " '__ge__',\n",
       " '__getattribute__',\n",
       " '__getitem__',\n",
       " '__getnewargs__',\n",
       " '__gt__',\n",
       " '__hash__',\n",
       " '__init__',\n",
       " '__init_subclass__',\n",
       " '__iter__',\n",
       " '__le__',\n",
       " '__len__',\n",
       " '__lt__',\n",
       " '__mod__',\n",
       " '__mul__',\n",
       " '__ne__',\n",
       " '__new__',\n",
       " '__reduce__',\n",
       " '__reduce_ex__',\n",
       " '__repr__',\n",
       " '__rmod__',\n",
       " '__rmul__',\n",
       " '__setattr__',\n",
       " '__sizeof__',\n",
       " '__str__',\n",
       " '__subclasshook__',\n",
       " 'capitalize',\n",
       " 'casefold',\n",
       " 'center',\n",
       " 'count',\n",
       " 'encode',\n",
       " 'endswith',\n",
       " 'expandtabs',\n",
       " 'find',\n",
       " 'format',\n",
       " 'format_map',\n",
       " 'index',\n",
       " 'isalnum',\n",
       " 'isalpha',\n",
       " 'isascii',\n",
       " 'isdecimal',\n",
       " 'isdigit',\n",
       " 'isidentifier',\n",
       " 'islower',\n",
       " 'isnumeric',\n",
       " 'isprintable',\n",
       " 'isspace',\n",
       " 'istitle',\n",
       " 'isupper',\n",
       " 'join',\n",
       " 'ljust',\n",
       " 'lower',\n",
       " 'lstrip',\n",
       " 'maketrans',\n",
       " 'partition',\n",
       " 'removeprefix',\n",
       " 'removesuffix',\n",
       " 'replace',\n",
       " 'rfind',\n",
       " 'rindex',\n",
       " 'rjust',\n",
       " 'rpartition',\n",
       " 'rsplit',\n",
       " 'rstrip',\n",
       " 'split',\n",
       " 'splitlines',\n",
       " 'startswith',\n",
       " 'strip',\n",
       " 'swapcase',\n",
       " 'title',\n",
       " 'translate',\n",
       " 'upper',\n",
       " 'zfill']"
      ]
     },
     "execution_count": 173,
     "metadata": {},
     "output_type": "execute_result"
    }
   ],
   "source": [
    "\"\"\"\n",
    "Bu bakımdan dir() fonksiyonu globals() ve locals() \n",
    "fonksiyonlarına benzer. Ancak onlardan farkı, dir() \n",
    "fonksiyonunun çıktı olarak bir liste, globals() ve locals() \n",
    "fonksiyonlarının ise birer sözlük vermesidir.\n",
    "\n",
    "Ayrıca dir() fonksiyonunu kullanarak nesnelerin metot ve \n",
    "niteliklerini içeren bir listeye ulaşabileceğimizi de biliyorsunuz.\n",
    "Örneğin bu fonksiyonu kullanarak farklı veri tiplerinin metot ve\n",
    "niteliklerini listeleyebiliriz:\n",
    "\"\"\"\n",
    "dir(\"\")"
   ]
  },
  {
   "cell_type": "code",
   "execution_count": 181,
   "id": "763d0233",
   "metadata": {},
   "outputs": [
    {
     "data": {
      "text/plain": [
       "['__add__',\n",
       " '__class__',\n",
       " '__class_getitem__',\n",
       " '__contains__',\n",
       " '__delattr__',\n",
       " '__delitem__',\n",
       " '__dir__',\n",
       " '__doc__',\n",
       " '__eq__',\n",
       " '__format__',\n",
       " '__ge__',\n",
       " '__getattribute__',\n",
       " '__getitem__',\n",
       " '__gt__',\n",
       " '__hash__',\n",
       " '__iadd__',\n",
       " '__imul__',\n",
       " '__init__',\n",
       " '__init_subclass__',\n",
       " '__iter__',\n",
       " '__le__',\n",
       " '__len__',\n",
       " '__lt__',\n",
       " '__mul__',\n",
       " '__ne__',\n",
       " '__new__',\n",
       " '__reduce__',\n",
       " '__reduce_ex__',\n",
       " '__repr__',\n",
       " '__reversed__',\n",
       " '__rmul__',\n",
       " '__setattr__',\n",
       " '__setitem__',\n",
       " '__sizeof__',\n",
       " '__str__',\n",
       " '__subclasshook__',\n",
       " 'append',\n",
       " 'clear',\n",
       " 'copy',\n",
       " 'count',\n",
       " 'extend',\n",
       " 'index',\n",
       " 'insert',\n",
       " 'pop',\n",
       " 'remove',\n",
       " 'reverse',\n",
       " 'sort']"
      ]
     },
     "execution_count": 181,
     "metadata": {},
     "output_type": "execute_result"
    }
   ],
   "source": [
    "dir([])"
   ]
  },
  {
   "cell_type": "code",
   "execution_count": 182,
   "id": "641946c5",
   "metadata": {},
   "outputs": [
    {
     "data": {
      "text/plain": [
       "['__class__',\n",
       " '__class_getitem__',\n",
       " '__contains__',\n",
       " '__delattr__',\n",
       " '__delitem__',\n",
       " '__dir__',\n",
       " '__doc__',\n",
       " '__eq__',\n",
       " '__format__',\n",
       " '__ge__',\n",
       " '__getattribute__',\n",
       " '__getitem__',\n",
       " '__gt__',\n",
       " '__hash__',\n",
       " '__init__',\n",
       " '__init_subclass__',\n",
       " '__ior__',\n",
       " '__iter__',\n",
       " '__le__',\n",
       " '__len__',\n",
       " '__lt__',\n",
       " '__ne__',\n",
       " '__new__',\n",
       " '__or__',\n",
       " '__reduce__',\n",
       " '__reduce_ex__',\n",
       " '__repr__',\n",
       " '__reversed__',\n",
       " '__ror__',\n",
       " '__setattr__',\n",
       " '__setitem__',\n",
       " '__sizeof__',\n",
       " '__str__',\n",
       " '__subclasshook__',\n",
       " 'clear',\n",
       " 'copy',\n",
       " 'fromkeys',\n",
       " 'get',\n",
       " 'items',\n",
       " 'keys',\n",
       " 'pop',\n",
       " 'popitem',\n",
       " 'setdefault',\n",
       " 'update',\n",
       " 'values']"
      ]
     },
     "execution_count": 182,
     "metadata": {},
     "output_type": "execute_result"
    }
   ],
   "source": [
    "dir({})"
   ]
  },
  {
   "cell_type": "code",
   "execution_count": 183,
   "id": "028c03e0",
   "metadata": {},
   "outputs": [
    {
     "data": {
      "text/plain": [
       "(5, 0)"
      ]
     },
     "execution_count": 183,
     "metadata": {},
     "output_type": "execute_result"
    }
   ],
   "source": [
    "\"\"\"\n",
    "divmod()\n",
    "Bu fonksiyonun işlevini bir örnek üzerinden göstermeye çalışalım:\n",
    "\n",
    "divmod(10, 2)\n",
    "\n",
    "(5, 0)\n",
    "Gördüğünüz gibi divmod(10, 2) komutu bize iki öğeli bir demet veriyor.\n",
    "Bu demetin ilk öğesi, divmod() fonksiyonuna verilen ilk parametrenin \n",
    "ikinci parametreye bölünmesi işleminin sonucudur. Demetimizin ikinci\n",
    "öğesi ise, ilk parametrenin ikinci parametreye bölünmesi işleminden\n",
    "kalan sayıdır. Yani demetin ilk parametresi bölme işleminin ‘bölüm’ \n",
    "kısmını, ikinci öğesi ise ‘kalan’ kısmını verir.\n",
    "\n",
    "Bu fonksiyonun bölme işlemininin sonucunu tamsayı cinsinden verdiğine \n",
    "dikkat ediyoruz:\n",
    "\n",
    "divmod(10, 3)\n",
    "\n",
    "(3, 1)\n",
    "10 sayısı 3 sayısına bölündüğünde tamsayı cinsinden sonuç 3’tür.\n",
    "Bu bölme işleminin kalanı ise 1’dir.\n",
    "\"\"\"\n",
    "divmod(10,2)"
   ]
  },
  {
   "cell_type": "code",
   "execution_count": 185,
   "id": "4ef8a384",
   "metadata": {},
   "outputs": [
    {
     "data": {
      "text/plain": [
       "(3, 1)"
      ]
     },
     "execution_count": 185,
     "metadata": {},
     "output_type": "execute_result"
    }
   ],
   "source": [
    "divmod(10,3)"
   ]
  },
  {
   "cell_type": "code",
   "execution_count": 186,
   "id": "856c83de",
   "metadata": {},
   "outputs": [
    {
     "data": {
      "text/plain": [
       "[(0, 'D'), (1, 'e'), (2, 'v'), (3, 'r'), (4, 'i'), (5, 'm')]"
      ]
     },
     "execution_count": 186,
     "metadata": {},
     "output_type": "execute_result"
    }
   ],
   "source": [
    "\"\"\"\n",
    "enumerate()\n",
    "İngilizcede enumerate kelimesi ‘numaralandırmak’ anlamına gelir. \n",
    "enumerate() fonksiyonunun görevi de kelimenin bu anlamıyla aynıdır.\n",
    "Yani bu fonksiyonu kullanarak nesneleri numaralandırabiliriz.\n",
    "\n",
    "Bu fonksiyon bize bir ‘enumerate’ nesnesi verir:\n",
    "\n",
    "enumerate('istihza')\n",
    "\n",
    "<class 'enumerate'>\n",
    "Bu nesnenin içeriğine nasıl erişebileceğimizi biliyorsunuz:\n",
    "\n",
    "Nesneyi bir listeye çevirebiliriz:\n",
    "\n",
    "list(enumerate('istihza'))\n",
    "\n",
    "[(0, 'i'), (1, 's'), (2, 't'), (3, 'i'), (4, 'h'), (5, 'z'), (6, 'a')]\n",
    "veya:\n",
    "\n",
    "[i for i in enumerate('istihza')]\n",
    "\n",
    "[(0, 'i'), (1, 's'), (2, 't'), (3, 'i'), (4, 'h'), (5, 'z'), (6, 'a')]\n",
    "print() fonksiyonuna yıldızlı parametre olarak verebiliriz:\n",
    "\n",
    "print(*enumerate('istihza'))\n",
    "\n",
    "(0, 'i') (1, 's') (2, 't') (3, 'i') (4, 'h') (5, 'z') (6, 'a')\n",
    "veya nesne üzerinde bir döngü kurabiliriz:\n",
    "\n",
    "for i in enumerate('istihza'):\n",
    "    print(i)\n",
    "\n",
    "(0, 'i')\n",
    "(1, 's')\n",
    "(2, 't')\n",
    "(3, 'i')\n",
    "(4, 'h')\n",
    "(5, 'z')\n",
    "(6, 'a')\n",
    "Gördüğünüz gibi, ‘enumerate’ nesnesi bize her koşulda iki öğeli \n",
    "demetler veriyor. Bu demetlerin her bir öğesine nasıl \n",
    "ulaşabileceğimizi de biliyor olmalısınız:\n",
    "\n",
    "for sıra, öğe in enumerate('istihza'):\n",
    "    print(\"{}. {:>2}\".format(sıra, öğe))\n",
    "\n",
    "0.  i\n",
    "1.  s\n",
    "2.  t\n",
    "3.  i\n",
    "4.  h\n",
    "5.  z\n",
    "6.  a\n",
    "Örneklerden de gördüğünüz gibi, enumerate() fonksiyonu bize bir dizi \n",
    "içindeki öğelerin sırasını ve öğenin kendisini içeren bir demet\n",
    "veriyor. Dikkat ettiyseniz, her zaman olduğu gibi, Python burada da\n",
    "saymaya 0’dan başlıyor. Yani enumerate() fonksiyonunun ürettiği öğe\n",
    "sıralamasında ilk öğenin sırası 0 oluyor. Elbette eğer isterseniz\n",
    "enumerate() fonksiyonunun saymaya kaçtan başlayacağını kendiniz de\n",
    "belirleyebilirsiniz:\n",
    "\n",
    "for sıra, öğe in enumerate('istihza', 1):\n",
    "    print(\"{}. {:>2}\".format(sıra, öğe))\n",
    "\n",
    "1.  i\n",
    "2.  s\n",
    "3.  t\n",
    "4.  i\n",
    "5.  h\n",
    "6.  z\n",
    "7.  a\n",
    "enumerate() fonksiyonuna verdiğimiz ikinci parametre saymaya kaçtan\n",
    "başlanacağını gösteriyor. Eğer bu fonksiyonu ikinci parametre olmadan\n",
    "kullanırsak Python bizim saymaya 0’dan başlamak istediğimizi\n",
    "varsayacaktır.\n",
    "\"\"\"\n",
    "list(enumerate(\"Devrim\"))"
   ]
  },
  {
   "cell_type": "code",
   "execution_count": 188,
   "id": "8ab1eb05",
   "metadata": {},
   "outputs": [
    {
     "data": {
      "text/plain": [
       "[(0, 'i'), (1, 's'), (2, 't'), (3, 'i'), (4, 'h'), (5, 'z'), (6, 'a')]"
      ]
     },
     "execution_count": 188,
     "metadata": {},
     "output_type": "execute_result"
    }
   ],
   "source": [
    "[i for i in enumerate('istihza')]"
   ]
  },
  {
   "cell_type": "code",
   "execution_count": 191,
   "id": "52a5791e",
   "metadata": {},
   "outputs": [
    {
     "name": "stdout",
     "output_type": "stream",
     "text": [
      "(0, 'i') (1, 's') (2, 't') (3, 'i') (4, 'h') (5, 'z') (6, 'a')\n"
     ]
    }
   ],
   "source": [
    "print(*enumerate('istihza'))"
   ]
  },
  {
   "cell_type": "code",
   "execution_count": 194,
   "id": "04b6d9c0",
   "metadata": {},
   "outputs": [
    {
     "name": "stdout",
     "output_type": "stream",
     "text": [
      "(0, 'i')\n",
      "(1, 's')\n",
      "(2, 't')\n",
      "(3, 'i')\n",
      "(4, 'h')\n",
      "(5, 'z')\n",
      "(6, 'a')\n"
     ]
    }
   ],
   "source": [
    "for i in enumerate('istihza'):\n",
    "    print(i)\n"
   ]
  },
  {
   "cell_type": "code",
   "execution_count": 195,
   "id": "ed2305a1",
   "metadata": {},
   "outputs": [
    {
     "name": "stdout",
     "output_type": "stream",
     "text": [
      "0 i\n",
      "1 s\n",
      "2 t\n",
      "3 i\n",
      "4 h\n",
      "5 z\n",
      "6 a\n"
     ]
    }
   ],
   "source": [
    "for i,j in enumerate('istihza'):\n",
    "    print(i,j)\n"
   ]
  },
  {
   "cell_type": "code",
   "execution_count": 196,
   "id": "c6d88b7c",
   "metadata": {},
   "outputs": [
    {
     "name": "stdout",
     "output_type": "stream",
     "text": [
      "1 i\n",
      "2 s\n",
      "3 t\n",
      "4 i\n",
      "5 h\n",
      "6 z\n",
      "7 a\n"
     ]
    }
   ],
   "source": [
    "for i,j in enumerate('istihza',1):\n",
    "    print(i,j)"
   ]
  },
  {
   "cell_type": "code",
   "execution_count": 198,
   "id": "c7037290",
   "metadata": {},
   "outputs": [
    {
     "name": "stdout",
     "output_type": "stream",
     "text": [
      "Help on built-in function dir in module builtins:\n",
      "\n",
      "dir(...)\n",
      "    dir([object]) -> list of strings\n",
      "    \n",
      "    If called without an argument, return the names in the current scope.\n",
      "    Else, return an alphabetized list of names comprising (some of) the attributes\n",
      "    of the given object, and of attributes reachable from it.\n",
      "    If the object supplies a method named __dir__, it will be used; otherwise\n",
      "    the default dir() logic is used and returns:\n",
      "      for a module object: the module's attributes.\n",
      "      for a class object:  its attributes, and recursively the attributes\n",
      "        of its bases.\n",
      "      for any other object: its attributes, its class's attributes, and\n",
      "        recursively the attributes of its class's base classes.\n",
      "\n"
     ]
    }
   ],
   "source": [
    "\"\"\"\n",
    "exit()\n",
    "Bu fonksiyon, o anda çalışan programdan çıkmanızı sağlar. \n",
    "Eğer bu komutu etkileşimli kabukta verirseniz o anda açık \n",
    "olan oturum kapanacaktır.\n",
    "\n",
    "\n",
    "\n",
    "help()\n",
    "help() fonksiyonu gömülü fonksiyonlar içinde en faydalı\n",
    "fonksiyonların başında gelir. Bu fonksiyonu kullanarak \n",
    "Python programlama diline ait öğelere ilişkin yardım \n",
    "belgelerine ulaşabiliriz. Örneğin:\n",
    "\n",
    "\"\"\"\n",
    "help(dir)"
   ]
  },
  {
   "cell_type": "code",
   "execution_count": 199,
   "id": "dac8c444",
   "metadata": {},
   "outputs": [
    {
     "name": "stdout",
     "output_type": "stream",
     "text": [
      "\n",
      "Welcome to Python 3.10's help utility!\n",
      "\n",
      "If this is your first time using Python, you should definitely check out\n",
      "the tutorial on the internet at https://docs.python.org/3.10/tutorial/.\n",
      "\n",
      "Enter the name of any module, keyword, or topic to get help on writing\n",
      "Python programs and using Python modules.  To quit this help utility and\n",
      "return to the interpreter, just type \"quit\".\n",
      "\n",
      "To get a list of available modules, keywords, symbols, or topics, type\n",
      "\"modules\", \"keywords\", \"symbols\", or \"topics\".  Each module also comes\n",
      "with a one-line summary of what it does; to list the modules whose name\n",
      "or summary contain a given string such as \"spam\", type \"modules spam\".\n",
      "\n",
      "help> dir\n",
      "Help on built-in function dir in module builtins:\n",
      "\n",
      "dir(...)\n",
      "    dir([object]) -> list of strings\n",
      "    \n",
      "    If called without an argument, return the names in the current scope.\n",
      "    Else, return an alphabetized list of names comprising (some of) the attributes\n",
      "    of the given object, and of attributes reachable from it.\n",
      "    If the object supplies a method named __dir__, it will be used; otherwise\n",
      "    the default dir() logic is used and returns:\n",
      "      for a module object: the module's attributes.\n",
      "      for a class object:  its attributes, and recursively the attributes\n",
      "        of its bases.\n",
      "      for any other object: its attributes, its class's attributes, and\n",
      "        recursively the attributes of its class's base classes.\n",
      "\n",
      "help> q\n",
      "\n",
      "You are now leaving help and returning to the Python interpreter.\n",
      "If you want to ask for help on a particular object directly from the\n",
      "interpreter, you can type \"help(object)\".  Executing \"help('string')\"\n",
      "has the same effect as typing a particular string at the help> prompt.\n"
     ]
    }
   ],
   "source": [
    "\"\"\"\n",
    "Bu komutu verdiğimizde dir() fonksiyonunun ne işe yaradığını\n",
    "gösteren İngilizce bir belgeye ulaşırız. Gördüğünüz gibi, \n",
    "hakkında bilgi edinmek istediğimiz öğeyi help() fonksiyonuna \n",
    "parametre olarak vererek ilgili yardım dosyasına erişebiliyoruz.\n",
    "\n",
    "Eğer bu fonksiyonu parametresiz olarak kullanırsak ‘etkileşimli \n",
    "yardım’ denen ekrana ulaşırız:\n",
    "\"\"\"\n",
    "help()"
   ]
  },
  {
   "cell_type": "code",
   "execution_count": 200,
   "id": "48e33639",
   "metadata": {},
   "outputs": [
    {
     "data": {
      "text/plain": [
       "140013103744784"
      ]
     },
     "execution_count": 200,
     "metadata": {},
     "output_type": "execute_result"
    }
   ],
   "source": [
    "\"\"\"\n",
    "id()\n",
    "Python’da her nesnenin bir kimliğinin olduğunu biliyorsunuz. \n",
    "Kimlik işleçlerini incelediğimiz konuda bundan bir miktar bahsetmiş \n",
    "ve orada id() adlı bir fonksiyondan söz etmiştik.\n",
    "\n",
    "Orada şöyle bir örnek vermiştik:\n",
    "\n",
    "Orada söylediğimiz ve yukarıdaki örneklerden de bir kez daha \n",
    "gördüğünüz gibi, Python’daki her nesnenin kimliği eşşiz,\n",
    "tek ve benzersizdir.\n",
    "\"\"\"\n",
    "a=50\n",
    "id(a)"
   ]
  },
  {
   "cell_type": "code",
   "execution_count": 201,
   "id": "0164334a",
   "metadata": {},
   "outputs": [
    {
     "name": "stdout",
     "output_type": "stream",
     "text": [
      "bi şey yaza\n"
     ]
    },
    {
     "data": {
      "text/plain": [
       "'a'"
      ]
     },
     "execution_count": 201,
     "metadata": {},
     "output_type": "execute_result"
    }
   ],
   "source": [
    "\"\"\"\n",
    "input()\n",
    "Bu fonksiyonun ne işe yaradığını gayet iyi biliyorsunuz. \n",
    "input() adlı bu gömülü fonksiyonu kullanarak kullanıcı \n",
    "ile veri alışverişinde bulunabiliyoruz.\n",
    "\"\"\"\n",
    "input(\"bi şey yaz\")"
   ]
  },
  {
   "cell_type": "code",
   "execution_count": 202,
   "id": "ae6fed2a",
   "metadata": {},
   "outputs": [
    {
     "data": {
      "text/plain": [
       "'12.00'"
      ]
     },
     "execution_count": 202,
     "metadata": {},
     "output_type": "execute_result"
    }
   ],
   "source": [
    "\"\"\"\n",
    "format()\n",
    "Bu gömülü fonksiyonun görevi, daha önce karakter dizilerini\n",
    "işlerken, karakter dizilerinin bir metodu olarak öğrendiğimiz\n",
    "format() metoduna benzer bir şekilde, karakter dizilerini \n",
    "biçimlendirmektir. Ancak format() fonksiyonu, daha önce\n",
    "öğrendiğimiz format() metoduna göre daha dar kapsamlıdır. \n",
    "format() metodunu kullanarak oldukça karmaşık karakter \n",
    "dizisi biçimlendirme işlemlerini gerçekleştirebiliriz,\n",
    "ama birazdan inceleyeceğimiz format() gömülü fonksiyonu\n",
    "yalnızca tek bir değeri biçimlendirmek için kullanılır.\n",
    "\n",
    "Basit bir örnek verelim:\n",
    "\n",
    "format(12, '.2f')\n",
    "‘12.00’\n",
    "\n",
    "Yukarıdaki ifadeyi daha önce gördüğümüz format() metodu \n",
    "ile şu şekilde yazabiliriz:\n",
    "\n",
    "'{:.2f}'.format(12)\n",
    "\n",
    "'12.00'\n",
    "\n",
    "\"\"\"\n",
    "format(12,\".2f\")"
   ]
  },
  {
   "cell_type": "code",
   "execution_count": 203,
   "id": "e8657235",
   "metadata": {},
   "outputs": [
    {
     "data": {
      "text/plain": [
       "'12.00'"
      ]
     },
     "execution_count": 203,
     "metadata": {},
     "output_type": "execute_result"
    }
   ],
   "source": [
    "\"{:.2f}\".format(12)"
   ]
  },
  {
   "cell_type": "code",
   "execution_count": 2,
   "id": "ca1222d8",
   "metadata": {},
   "outputs": [],
   "source": [
    "\"\"\"\n",
    "filter()\n",
    "Bu gömülü fonksiyon yardımıyla dizi niteliği taşıyan nesneler \n",
    "içindeki öğeler üzerinde belirli bir ölçüte göre bir süzme işlemi \n",
    "uygulayabiliriz. Dilerseniz filter() fonksiyonunun görevini bir \n",
    "örnek üzerinden anlamaya çalışalım.\n",
    "\n",
    "Diyelim ki elimizde şöyle bir liste var:\n",
    "\n",
    "l = [400, 176, 64, 175, 355, 13, 207, 298, 397, 386, 31, 120, 120, \n",
    "236, 241, 123, 249, 364, 292, 153]\n",
    "Amacımız bu liste içindeki tek sayıları süzmek.\n",
    "\n",
    "Daha önce öğrendiğimiz yöntemleri kullanarak bu görevi şu şekilde\n",
    "yerine getirebiliriz:\n",
    "\n",
    "for i in l:\n",
    "    if i % 2 == 1:\n",
    "            print(i)\n",
    "\n",
    "175\n",
    "355\n",
    "13\n",
    "207\n",
    "397\n",
    "31\n",
    "241\n",
    "123\n",
    "249\n",
    "153\n",
    "Hatta eğer istersek liste üreteçlerini kullanarak aynı işlemi daha\n",
    "kısa bir yoldan da halledebiliriz:\n",
    "\n",
    "[i for i in l if i % 2 == 1]\n",
    "\n",
    "[175, 355, 13, 207, 397, 31, 241, 123, 249, 153]\n",
    "İşte Python, yukarıdaki işlemi yapabilmemiz için bize üçüncü bir \n",
    "yol daha sunar. Bu üçüncü yolun adı filter() fonksiyonudur. \n",
    "Dikkatlice bakın:\n",
    "\n",
    "\n",
    "def tek(sayı):\n",
    "    return sayı % 2 == 1\n",
    "\n",
    "print(*filter(tek, l))\n",
    "Dilerseniz bu kodları daha iyi anlayabilmek için filter() \n",
    "fonksiyonuna biraz daha yakından bakalım…\n",
    "\n",
    "filter() fonksiyonu toplam iki parametre alır. Bu parametrelerden \n",
    "ilki ölçütü belirleyen fonksiyon, ikincisi ise bu ölçütün \n",
    "uygulanacağı öğedir. Yukarıdaki örneğe baktığımızda, tek()\n",
    "adlı fonksiyonun, l adlı öğe üzerine uygulandığını görüyoruz.\n",
    "\n",
    "Yukarıdaki örnekte ilk olarak tek() adlı bir fonksiyon tanımladık:\n",
    "\n",
    "def tek(sayı):\n",
    "    return sayı % 2 == 1\n",
    "Bu fonksiyonun görevi, kendisine parametre olarak verilen bir \n",
    "sayının tek sayı olup olmadığını sorgulamak. Eğer verilen parametre\n",
    "bir tek sayı ise fonksiyonumuz True değerini, tek sayı değilse\n",
    "False değerini döndürecektir. İsterseniz fonksiyonumuzu test edelim:\n",
    "\n",
    "print(tek(12))\n",
    "12 sayısı bir tek sayı olmadığı için fonksiyonumuz bize False\n",
    "çıktısı verir.\n",
    "\n",
    "Bir de şuna bakalım:\n",
    "\n",
    "print(tek(117))\n",
    "117 sayısı ise bir tek sayıdır. Bu nedenle fonksiyonumuz bize\n",
    "True değerini verecektir.\n",
    "\n",
    "İşte biz bu fonksiyonu, filter() fonksiyonu yardımıyla şu liste\n",
    "üzerine uygulayacağız:\n",
    "\n",
    "l = [400, 176, 64, 175, 355, 13, 207, 298, 397, 386, 31,\n",
    "     120, 120, 236, 241, 123, 249, 364, 292, 153]\n",
    "Dediğimiz gibi, filter() fonksiyonu, dizi özelliği taşıyan\n",
    "nesneler üzerinde belli bir ölçüte göre filtreleme işlemi\n",
    "yapmamızı sağlar. Biz de biraz önce tanımladığımız tek() adlı fonksiyonu l adlı bu listeye uygulayarak liste içindeki tek sayıları filtreleyeceğiz.\n",
    "\n",
    "filter() fonksiyonunu çalıştıralım:\n",
    "\n",
    "filter(tek, l)\n",
    "Burada filter() fonksiyonuna ilk parametre olarak tek() \n",
    "fonksiyonunu verdik. İkinci parametremiz ise bu fonksiyonu \n",
    "uygulayacağımız l adlı liste. Amacımız, l adlı liste \n",
    "üzerine tek() fonksiyonunu uygulayarak, bu liste içindeki\n",
    "öğelerden True çıktısı verenleri (yani tek sayıları) ayıklamak.\n",
    "\n",
    "Şimdi de yukarıdaki koddan aldığımız çıktıya bakalım:\n",
    "\n",
    "<filter object at 0x00F74F30>\n",
    "Gördüğünüz gibi, bu fonksiyonu bu şekilde kullandığımızda elde \n",
    "ettiğimiz şey bir ‘filtre nesnesi’. Bu nesne içindeki öğeleri \n",
    "görebilmek için ne yapabileceğimizi biliyorsunuz:\n",
    "\n",
    "list(filter(tek, l))\n",
    "\n",
    "[175, 355, 13, 207, 397, 31, 241, 123, 249, 153]\n",
    "veya:\n",
    "\n",
    "print(*filter(tek, l))\n",
    "\n",
    "175 355 13 207 397 31 241 123 249 153\n",
    "ya da:\n",
    "\n",
    "[i for i in filter(tek, l)]\n",
    "\n",
    "[175, 355, 13, 207, 397, 31, 241, 123, 249, 153]\n",
    "Gördüğünüz gibi, gerçekten de l adlı liste içindeki bütün tek\n",
    "sayılar süzüldü.\n",
    "\n",
    "Gelin isterseniz filter() fonksiyonunu biraz daha iyi\n",
    "anlayabilmek için basit bir çalışma yapalım.\n",
    "\n",
    "Elimizde bir sınıftaki öğrencilerin Matematik sınavından\n",
    "aldığı notları içeren bir sözlük var:\n",
    "\n",
    "notlar = {'Ahmet'   : 60,\n",
    "          'Sinan'   : 50,\n",
    "          'Mehmet'  : 45,\n",
    "          'Ceren'   : 87,\n",
    "          'Selen'   : 99,\n",
    "          'Cem'     : 98,\n",
    "          'Can'     : 51,\n",
    "          'Kezban'  : 100,\n",
    "          'Hakan'   : 66,\n",
    "          'Mahmut'  : 80}\n",
    "Okulda kullanılan not sistemine göre yukarıdaki notları\n",
    "şu şekilde sınıflandırabiliyoruz:\n",
    "\n",
    "def not_durumu(n):\n",
    "    if n in range(0, 50): return 'F'\n",
    "    if n in range(50, 70): return 'D'\n",
    "    if n in range(70, 80): return 'C'\n",
    "    if n in range(80, 90): return 'B'\n",
    "    if n in range(90, 101): return 'A'\n",
    "Buna göre mesela print(not_durumu(54)) gibi bir kod\n",
    "yazdığımızda bu notun karşılık geldiği ‘D’ sayısını \n",
    "alabiliyoruz. Peki biz bu notları belli bir ölçüte göre\n",
    "süzmek, ayıklamak istersek ne yapabiliriz? Örneğin notu 70’ten\n",
    "yukarı olan öğrencileri listelemek istersek nasıl bir kod yazabiliriz?\n",
    "\n",
    "İşte böyle bir durumda filter() adlı gömülü fonksiyonu \n",
    "kullanabiliriz:\n",
    "\n",
    "notlar = {'Ahmet'   : 60,\n",
    "          'Sinan'   : 50,\n",
    "          'Mehmet'  : 45,\n",
    "          'Ceren'   : 87,\n",
    "          'Selen'   : 99,\n",
    "          'Cem'     : 98,\n",
    "          'Can'     : 51,\n",
    "          'Kezban'  : 100,\n",
    "          'Hakan'   : 66,\n",
    "          'Mahmut'  : 80}\n",
    "\n",
    "def süz(n):\n",
    "    return n >= 70\n",
    "\n",
    "print(*filter(süz, notlar.values()))\n",
    "Gördüğünüz gibi, filter() fonksiyonu, süz() adlı fonksiyon\n",
    "ile belirlediğimiz ölçütü notlar adlı sözlüğün değerleri\n",
    "üzerine tek tek uygulamamızı sağlıyor.\n",
    "\"\"\"\n",
    "l = [400, 176, 64, 175, 355, 13, 207, 298, 397, 386, 31, 120, 120, \n",
    "236, 241, 123, 249, 364, 292, 153]"
   ]
  },
  {
   "cell_type": "code",
   "execution_count": 3,
   "id": "ea508455",
   "metadata": {},
   "outputs": [
    {
     "name": "stdout",
     "output_type": "stream",
     "text": [
      "175\n",
      "355\n",
      "13\n",
      "207\n",
      "397\n",
      "31\n",
      "241\n",
      "123\n",
      "249\n",
      "153\n"
     ]
    }
   ],
   "source": [
    "for i in l:\n",
    "    if i%2==1:\n",
    "        print(i)"
   ]
  },
  {
   "cell_type": "code",
   "execution_count": 4,
   "id": "d871eb29",
   "metadata": {},
   "outputs": [
    {
     "data": {
      "text/plain": [
       "[175, 355, 13, 207, 397, 31, 241, 123, 249, 153]"
      ]
     },
     "execution_count": 4,
     "metadata": {},
     "output_type": "execute_result"
    }
   ],
   "source": [
    "def tek(a):\n",
    "    if a%2==1:\n",
    "        return True\n",
    "list((filter(tek,l)))"
   ]
  },
  {
   "cell_type": "code",
   "execution_count": 5,
   "id": "4088d9c7",
   "metadata": {},
   "outputs": [
    {
     "name": "stdout",
     "output_type": "stream",
     "text": [
      "87 99 98 100 80\n"
     ]
    }
   ],
   "source": [
    "notlar = {'Ahmet'   : 60,\n",
    "          'Sinan'   : 50,\n",
    "          'Mehmet'  : 45,\n",
    "          'Ceren'   : 87,\n",
    "          'Selen'   : 99,\n",
    "          'Cem'     : 98,\n",
    "          'Can'     : 51,\n",
    "          'Kezban'  : 100,\n",
    "          'Hakan'   : 66,\n",
    "          'Mahmut'  : 80}\n",
    "\n",
    "def süz(n):\n",
    "    return n >= 70\n",
    "\n",
    "print(*filter(süz, notlar.values()))"
   ]
  },
  {
   "cell_type": "code",
   "execution_count": 211,
   "id": "3ba9c749",
   "metadata": {},
   "outputs": [
    {
     "data": {
      "text/plain": [
       "-663783424011065056"
      ]
     },
     "execution_count": 211,
     "metadata": {},
     "output_type": "execute_result"
    }
   ],
   "source": [
    "\"\"\"\n",
    "hash()\n",
    "Bu fonksiyon, belirli türdeki nesnelere bir karma değeri vermemizi \n",
    "sağlar. Örneğin:\n",
    "\n",
    "hash('istihza')\n",
    "\n",
    "-840510580\n",
    "\n",
    "hash('python')\n",
    "\n",
    "212829695\n",
    "Ancak bu fonksiyonun ürettiği çıktı aynı nesne için bütün \n",
    "sistemlerde aynı olmayabilir. Yani örneğin yukarıdaki \n",
    "hash('istihza') komutu 32 bitlik ve 64 bitlik işletim \n",
    "sistemlerinde birbirinden farklı sonuçlar verebilir. \n",
    "Ayrıca bu fonksiyonun ürettiği karma değerlerinin \n",
    "birbiriyle çakışma ihtimali de yüksektir. Dolayısıyla \n",
    "bu fonksiyonu kullanarak, mesela parola girişleri için\n",
    "karma değeri üretmek doğru olmaz.\n",
    "\"\"\"\n",
    "hash(\"yusuf\")"
   ]
  },
  {
   "cell_type": "code",
   "execution_count": 212,
   "id": "5bceee40",
   "metadata": {},
   "outputs": [
    {
     "data": {
      "text/plain": [
       "False"
      ]
     },
     "execution_count": 212,
     "metadata": {},
     "output_type": "execute_result"
    }
   ],
   "source": [
    "\"\"\"\n",
    "isinstance()\n",
    "Hatırlarsanız daha ilk derslerimizde öğrendiğimiz type() adlı bir\n",
    "fonksiyon vardı. Bu fonksiyonu bir nesnenin hangi veri tipinde \n",
    "olduğunu tespit etmek için kullanıyorduk:\n",
    "\n",
    "type('istihza')\n",
    "\n",
    "<class 'str'>\n",
    "İşte buna benzer şekilde, tip denetimi için kullanabileceğimiz\n",
    "bir fonksiyon daha var. Bu fonksiyonun adı isinstance().\n",
    "\n",
    "Bu fonksiyonu şöyle kullanıyoruz:\n",
    "\n",
    "isinstance('istihza', str)\n",
    "\n",
    "True\n",
    "Gördüğünüz gibi 'istihza' gerçekten bir karakter dizisi (str)\n",
    "olduğu için komutumuz True çıktısı veriyor.\n",
    "\n",
    "Bir de şuna bakalım:\n",
    "\n",
    "isinstance('istihza', list)\n",
    "\n",
    "False\n",
    "'istihza' bir liste (list) olmadığı için komutumuz bu kez False\n",
    "çıktısı verdi.\n",
    "\"\"\"\n",
    "isinstance(notlar,list)"
   ]
  },
  {
   "cell_type": "code",
   "execution_count": 213,
   "id": "f895777e",
   "metadata": {},
   "outputs": [
    {
     "data": {
      "text/plain": [
       "True"
      ]
     },
     "execution_count": 213,
     "metadata": {},
     "output_type": "execute_result"
    }
   ],
   "source": [
    "isinstance(notlar,dict)"
   ]
  },
  {
   "cell_type": "code",
   "execution_count": 214,
   "id": "2f46bf0b",
   "metadata": {},
   "outputs": [
    {
     "data": {
      "text/plain": [
       "7"
      ]
     },
     "execution_count": 214,
     "metadata": {},
     "output_type": "execute_result"
    }
   ],
   "source": [
    "\"\"\"\n",
    "len()\n",
    "Bu fonksiyon yardımıyla nesnelerin uzunluklarını \n",
    "hesaplayabileceğimizi biliyorsunuz:\n",
    "\"\"\"\n",
    "len(\"a*n a**\")"
   ]
  },
  {
   "cell_type": "code",
   "execution_count": 216,
   "id": "c5bec11c",
   "metadata": {},
   "outputs": [
    {
     "data": {
      "text/plain": [
       "[1, 16, 25, 16, 4, 81, 100]"
      ]
     },
     "execution_count": 216,
     "metadata": {},
     "output_type": "execute_result"
    }
   ],
   "source": [
    "\"\"\"\n",
    "map()¶\n",
    "Diyelim ki elimizde şöyle bir liste var:\n",
    "\n",
    "l = [1, 4, 5, 4, 2, 9, 10]\n",
    "Amacımız bu liste içindeki her öğenin karesini hesaplamak.\n",
    "Bunun için şöyle bir yol izleyebiliriz:\n",
    "\n",
    "for i in l:\n",
    "    i ** 2\n",
    "\n",
    "1\n",
    "16\n",
    "25\n",
    "16\n",
    "4\n",
    "81\n",
    "100\n",
    "Böylece, istediğimiz gibi, bütün öğelerin karesini bulmuş olduk.\n",
    "Bu tür bir işlemi yapmanın bir başka yolu da map() adlı bir gömülü \n",
    "fonksiyondan yararlanmaktır. Dikkatlice bakın:\n",
    "\n",
    "def karesi(n):\n",
    "    return n ** 2\n",
    "\n",
    "Burada bir n sayısının karesini hesaplayan bir fonksiyon tanımladık. \n",
    "Şimdi bu fonksiyonu l listesinin bütün öğeleri üzerine uygulayacağız:\n",
    "\n",
    "list(map(karesi, l))\n",
    "\n",
    "[1, 16, 25, 16, 4, 81, 100]\n",
    "\"\"\"\n",
    "def karesi(a):\n",
    "    return a**2\n",
    "l = [1, 4, 5, 4, 2, 9, 10]\n",
    "list(map(karesi,l))"
   ]
  },
  {
   "cell_type": "code",
   "execution_count": 217,
   "id": "67fbec64",
   "metadata": {},
   "outputs": [
    {
     "data": {
      "text/plain": [
       "3"
      ]
     },
     "execution_count": 217,
     "metadata": {},
     "output_type": "execute_result"
    }
   ],
   "source": [
    "\"\"\"\n",
    "max()\n",
    "max() gömülü fonksiyonunun görevi, bir dizi içindeki en büyük öğeyi\n",
    "vermektir. Bu fonksiyon birkaç farklı parametre alır ve verdiği çıktı, \n",
    "aldığı parametrelerin türüne ve sayısına bağlı olarak değişiklik \n",
    "gösterebilir.\n",
    "\n",
    "Bu fonksiyonu en basit şu şekilde kullanabilirsiniz:\n",
    "\n",
    "max(1, 2, 3)\n",
    "\n",
    "3\n",
    "max() fonksiyonu yukarıdaki şekilde çalıştırıldığında, kendisine \n",
    "verilen parametreler arasında en büyük olanı bulacaktır.\n",
    "Yukarıdaki parametrelerden en büyüğü 3 olduğu için de \n",
    "yukarıdaki komut 3 çıktısı verecektir.\n",
    "\n",
    "Yukarıdaki kodların sağladığı etkiyi şu şekilde de elde \n",
    "edebiliriz:\n",
    "\n",
    "liste = [1, 2, 3]\n",
    "max(liste)\n",
    "\n",
    "3\n",
    "max() fonksiyonu yukarıda gösterildiği gibi birtakım isimsiz\n",
    "parametrelerle birlikte key adlı isimli bir parametre de alır.\n",
    "Bu parametre yardımıyla max() fonksiyonunun ‘en büyük’ \n",
    "kavramını hangi ölçüte göre seçeceğini belirleyebiliriz. Örneğin:\n",
    "\n",
    "isimler = ['ahmet', 'can', 'mehmet', 'selin', 'abdullah', 'kezban']\n",
    "max(isimler, key=len)\n",
    "\n",
    "'abdullah'\n",
    "max() fonksiyonu öntanımlı olarak, ‘en büyük’ kavramını\n",
    "sayısal büyüklük üzerinden değerlendirir. Yani herhangi\n",
    "bir key parametresi kullanılmadığında, bu fonksiyon otomatik \n",
    "olarak bir dizi içindeki en büyük sayıyı bulur. Ancak eğer\n",
    "biz istersek, yukarıdaki örnekte olduğu gibi, ‘en büyük’ \n",
    "kavramının uzunluk cinsinden değerlendirilmesini de sağlayabiliriz.\n",
    "\n",
    "Yukarıdaki örnekte elimizde şöyle bir liste var:\n",
    "\n",
    "isimler = ['ahmet', 'can', 'mehmet', 'selin', 'abdullah', 'kezban']\n",
    "Amacımız bu liste içindeki isimler arasından, en fazla harf \n",
    "içerenini bulmak. Bildiğiniz gibi Python’da bir karakter \n",
    "dizisinin uzunluğunu belirlemek için len() adlı bir fonksiyondan \n",
    "yararlanıyoruz. İşte aşağıdaki kod yardımıyla da max() \n",
    "fonksiyonunun ‘en büyük’ ölçütünü len() fonksiyonu üzerinden\n",
    "değerlendirmesini sağlıyoruz:\n",
    "\n",
    "max(isimler, key=len)\n",
    "Bu arada key fonksiyonuna len() fonksiyonunu parantezsiz \n",
    "olarak verdiğimize dikkat edin.\n",
    "\n",
    "Gelin isterseniz max() fonksiyonunu biraz daha iyi anlamak \n",
    "için ufak bir çalışma yapalım.\n",
    "\n",
    "Diyelim ki elimizde şöyle bir sözlük var:\n",
    "\n",
    "askerler = {'ahmet'     : 'onbaşı',\n",
    "            'mehmet'    : 'teğmen',\n",
    "            'ali'       : 'yüzbaşı',\n",
    "            'cevat'     : 'albay',\n",
    "            'berkay'    : 'üsteğmen',\n",
    "            'mahmut'    : 'binbaşı'}\n",
    "Amacımız bu sözlük içindeki en yüksek askeri rütbeyi bulmak.\n",
    "İşte bunun için max() fonksiyonundan yararlanabiliriz.\n",
    "\n",
    "Bildiğiniz gibi, max() fonksiyonu ölçüt olarak sayısal \n",
    "büyüklüğü göz önüne alıyor. Elbette askeri rütbeleri böyle\n",
    "bir ölçüte göre sıralamak pek mümkün değil. Ama eğer şöyle\n",
    "bir fonksiyon yazarsak işler değişir:\n",
    "\n",
    "def en_yüksek_rütbe(rütbe):\n",
    "    rütbeler = {'er'        : 0,\n",
    "                'onbaşı'    : 1,\n",
    "                'çavuş'     : 2,\n",
    "                'asteğmen'  : 3,\n",
    "                'teğmen'    : 4,\n",
    "                'üsteğmen'  : 5,\n",
    "                'yüzbaşı'   : 6,\n",
    "                'binbaşı'   : 7,\n",
    "                'yarbay'    : 8,\n",
    "                'albay'     : 9}\n",
    "\n",
    "    return rütbeler[rütbe]\n",
    "Burada, rütbelerin her birine bir sayı verdik. En küçük \n",
    "rütbe en düşük sayıya, en yüksek rütbe ise en büyük sayıya \n",
    "sahip. Fonksiyonumuz bir adet parametre alıyor. Bu parametrenin\n",
    "adı rütbe. Yazdığımız fonksiyon, kendisine parametre olarak\n",
    "verilecek rütbeyi rütbeler adlı sözlükte arayıp,\n",
    "bu rütbeye karşılık gelen sayıyı döndürecek.\n",
    "\n",
    "Bu bilgileri kullanarak kodlarımızın son halini düzenleyelim:\n",
    "\n",
    "def en_yüksek_rütbe(rütbe):\n",
    "    rütbeler = {'er'        : 0,\n",
    "                'onbaşı'    : 1,\n",
    "                'çavuş'     : 2,\n",
    "                'asteğmen'  : 3,\n",
    "                'teğmen'    : 4,\n",
    "                'üsteğmen'  : 5,\n",
    "                'yüzbaşı'   : 6,\n",
    "                'binbaşı'   : 7,\n",
    "                'yarbay'    : 8,\n",
    "                'albay'     : 9}\n",
    "\n",
    "    return rütbeler[rütbe]\n",
    "\n",
    "askerler = {'ahmet': 'onbaşı',\n",
    "            'mehmet': 'teğmen',\n",
    "            'ali': 'yüzbaşı',\n",
    "            'cevat': 'albay',\n",
    "            'berkay': 'üsteğmen',\n",
    "            'mahmut': 'binbaşı'}\n",
    "Artık max() fonksiyonunu askerler adlı sözlük üzerinde\n",
    "uygulayabiliriz:\n",
    "\n",
    "print(max(askerler.values(), key=en_yüksek_rütbe))\n",
    "Böylece askerler adlı sözlüğün değerleri en_yüksek_rütbe() \n",
    "fonksiyonunun sunduğu ölçüt üzerinden ele alınacak ve en\n",
    "büyük sayı değerine sahip olan rütbe çıktı olarak verilecektir.\n",
    "\n",
    "Yukarıdaki kodlar problemimizi çözüyor. Peki ama ya biz rütbe\n",
    "ile birlikte bu rütbeyi taşıyan askerin adını da öğrenmek \n",
    "istersek nasıl bir kod yazacağız?\n",
    "\n",
    "Bunun için de şöyle bir kod yazabiliriz:\n",
    "\n",
    "for k, v in askerler.items():\n",
    "    if askerler[k] in max(askerler.values(), key=en_yüksek_rütbe):\n",
    "        print(v, k)\n",
    "Eğer isterseniz burada in işleci yerine == işlecini de \n",
    "kullanabilirsiniz:\n",
    "\n",
    "for k, v in askerler.items():\n",
    "    if askerler[k] == max(askerler.values(), key=en_yüksek_rütbe):\n",
    "        print(v, k)\n",
    "\n",
    "\"\"\"\n",
    "max(1,2,3)"
   ]
  },
  {
   "cell_type": "code",
   "execution_count": 218,
   "id": "2449ac06",
   "metadata": {},
   "outputs": [
    {
     "data": {
      "text/plain": [
       "4"
      ]
     },
     "execution_count": 218,
     "metadata": {},
     "output_type": "execute_result"
    }
   ],
   "source": [
    "liste=[1,2,3,4]\n",
    "max(liste)"
   ]
  },
  {
   "cell_type": "code",
   "execution_count": 219,
   "id": "09739a8b",
   "metadata": {},
   "outputs": [
    {
     "data": {
      "text/plain": [
       "'abdullah'"
      ]
     },
     "execution_count": 219,
     "metadata": {},
     "output_type": "execute_result"
    }
   ],
   "source": [
    "isimler = ['ahmet', 'can', 'mehmet', 'selin', 'abdullah', 'kezban']\n",
    "max(isimler, key=len)"
   ]
  },
  {
   "cell_type": "code",
   "execution_count": 221,
   "id": "2c8f8773",
   "metadata": {},
   "outputs": [
    {
     "data": {
      "text/plain": [
       "'selin'"
      ]
     },
     "execution_count": 221,
     "metadata": {},
     "output_type": "execute_result"
    }
   ],
   "source": [
    "max(isimler)"
   ]
  },
  {
   "cell_type": "code",
   "execution_count": 6,
   "id": "911fc7fb",
   "metadata": {},
   "outputs": [],
   "source": [
    "askerler = {'ahmet'     : 'onbaşı',\n",
    "            'mehmet'    : 'teğmen',\n",
    "            'ali'       : 'yüzbaşı',\n",
    "            'cevat'     : 'albay',\n",
    "            'berkay'    : 'üsteğmen',\n",
    "            'mahmut'    : 'binbaşı'}"
   ]
  },
  {
   "cell_type": "code",
   "execution_count": 7,
   "id": "f11d8895",
   "metadata": {},
   "outputs": [],
   "source": [
    "def en_yüksek_rütbe(rütbe):\n",
    "    rütbeler = {'er'        : 0,\n",
    "                'onbaşı'    : 1,\n",
    "                'çavuş'     : 2,\n",
    "                'asteğmen'  : 3,\n",
    "                'teğmen'    : 4,\n",
    "                'üsteğmen'  : 5,\n",
    "                'yüzbaşı'   : 6,\n",
    "                'binbaşı'   : 7,\n",
    "                'yarbay'    : 8,\n",
    "                'albay'     : 9}\n",
    "\n",
    "    return rütbeler[rütbe]"
   ]
  },
  {
   "cell_type": "code",
   "execution_count": 8,
   "id": "c9be1374",
   "metadata": {},
   "outputs": [
    {
     "name": "stdout",
     "output_type": "stream",
     "text": [
      "albay\n"
     ]
    }
   ],
   "source": [
    "print(max(askerler.values(), key=en_yüksek_rütbe))"
   ]
  },
  {
   "cell_type": "code",
   "execution_count": 4,
   "id": "d0e82ade",
   "metadata": {},
   "outputs": [
    {
     "name": "stdout",
     "output_type": "stream",
     "text": [
      "albay cevat\n"
     ]
    }
   ],
   "source": [
    "for k, v in askerler.items():\n",
    "    if askerler[k] in max(askerler.values(), key=en_yüksek_rütbe):\n",
    "        print(v, k)"
   ]
  },
  {
   "cell_type": "code",
   "execution_count": null,
   "id": "06d45526",
   "metadata": {},
   "outputs": [],
   "source": [
    "\"\"\"\n",
    "min()\n",
    "min() fonksiyonu max() fonksiyonunun tam tersini yapar. \n",
    "Bildiğiniz gibi max() fonksiyonu bir dizi içindeki en\n",
    "büyük öğeyi buluyordu. İşte min() fonksiyonu da bir\n",
    "dizi içindeki en küçük öğeyi bulur. Bu fonksiyonun \n",
    "kullanımı max() ile aynıdır.\n",
    "\"\"\""
   ]
  },
  {
   "cell_type": "code",
   "execution_count": null,
   "id": "665a0d26",
   "metadata": {},
   "outputs": [],
   "source": [
    "\"\"\"\n",
    "open()\n",
    "Bu fonksiyon herhangi bir dosyayı açmak veya oluşturmak \n",
    "için kullanılır. Eğer dosyanın açılması veya oluşturulması\n",
    "esnasında bir hata ortaya çıkarsa IOError türünde bir hata \n",
    "mesajı verilir.\n",
    "\n",
    "Bu fonksiyonun formülü şudur:\n",
    "\n",
    "open(dosya_adi, mode='r', buffering=-1, encoding=None,\n",
    "     errors=None, newline=None, closefd=True, opener=None)\n",
    "Gördüğünüz gibi, bu fonksiyon pek çok farklı parametre alabiliyor. \n",
    "Biz şimdiye kadar bu parametrelerin yalnızca en sık kullanılanlarını\n",
    "işlemiştik. Şimdi ise geri kalan parametrelerin ne işe yaradığını da\n",
    "ele alacağız.\n",
    "\n",
    "Yukarıdaki formülden de görebileceğiniz gibi, open() fonksiyonunun\n",
    "\n",
    "ilk parametresi dosya_adi’dır. Yani açmak veya oluşturmak istediğimiz\n",
    "dosya adını bu parametre ile belirtiyoruz:\n",
    "\n",
    "open('falanca_dosya.txt')\n",
    "Elbette eğer açmak istediğiniz dosya, o anda içinde bulunduğunuz\n",
    "dizinde değilse dosya adı olarak, o dosyanın tam adresini yazmanız \n",
    "gerekir. Mesela:\n",
    "\n",
    "open('/home/istihza/Desktop/dosya.txt')\n",
    "Bu arada, dosya adresini yazarken ters taksim yerine düz taksim \n",
    "işaretlerini kullanmak daha doğru olacaktır. Bu taksim türü hem\n",
    "Windows’ta hem de GNU/Linux’ta çalışır. Ancak eğer ters taksim \n",
    "işaretlerini kullanacaksanız, dosya yolu içindeki sinsi kaçış \n",
    "dizilerine karşı dikkatli olmalısınız:\n",
    "\n",
    "f = open('test\\nisan.txt')\n",
    "\n",
    "Traceback (most recent call last):\n",
    "  File \"<stdin>\", line 1, in <module>\n",
    "OSError: [Errno 22] Invalid argument: 'test\\nisan.txt'\n",
    "Burada problemin nisan.txt adlı dosyanın ilk harfi ile, bundan \n",
    "önce gelen ters taksim işaretinin birleşerek tesadüfen bir kaçış\n",
    "dizisi oluşturması olduğunu biliyorsunuz. Bu tür hatalara karşı \n",
    "ters taksim yerine düz taksim işaretlerini kullanabileceğiniz gibi\n",
    "r adlı kaçış dizisinden de yararlanabilirsiniz:\n",
    "\n",
    "f = open(r'test\\nisan.txt')\n",
    "open() fonksiyonunun ikinci parametresi olan mode’un da ne olduğunu \n",
    "biliyorsunuz. Bu parametre yardımıyla, herhangi bir dosyayı hangi \n",
    "kipte açmak istediğimizi belirtebiliyoruz.\n",
    "\n",
    "Bildiğiniz gibi, eğer mode parametresine herhangi bir değer \n",
    "vermezseniz Python ilgili dosyayı okuma kipinde açacaktır.\n",
    "\n",
    "Bu parametreye verebileceğiniz değerleri şöyle özetleyebiliriz:\n",
    "\n",
    "Karakter\n",
    "\n",
    "Anlamı\n",
    "\n",
    "‘r’\n",
    "\n",
    "Okuma kipidir. Öntanımlı değer budur.\n",
    "\n",
    "‘w’\n",
    "\n",
    "Yazma kipidir. Eğer belirtilen adda dosya zaten varsa o dosya silinir.\n",
    "\n",
    "‘x’\n",
    "\n",
    "Yeni bir dosya oluşturulup yazma kipinde açılır.\n",
    "\n",
    "‘a’\n",
    "\n",
    "Dosya ekleme kipinde açılır. Bu kip ile, varolan bir dosyanın \n",
    "sonuna eklemeler yapılabilir.\n",
    "\n",
    "‘b’\n",
    "\n",
    "Dosyaları ikili kipte açmak için kullanılır.\n",
    "\n",
    "‘t’\n",
    "\n",
    "Dosyaları metin kipinde açmak için kullanılır. Öntanımlı değerdir.\n",
    "\n",
    "‘r+’\n",
    "\n",
    "Aynı dosya üzerinde hem okuma hem de yazma işlemleri yapılmasını \n",
    "sağlar.\n",
    "\n",
    "open() fonksiyonunun alabileceği bir başka parametre de buffering \n",
    "parametresidir. Bildiğiniz gibi, open() fonksiyonuyla bir dosyayı\n",
    "açıp bu dosyaya veri girdiğimizde bu veriler önce tampona alınacak, \n",
    "dosya kapandıktan sonra ise tamponda bekletilen veriler dosyaya\n",
    "işlenecektir. İşte bu buffering parametresi yardımıyla bu tampona\n",
    "alma işleminin nasıl yürüyeceğini belirleyebiliriz.\n",
    "\n",
    "Eğer dosyaya işlenecek verilerin tampona alınmadan doğrudan dosyaya \n",
    "işlenmesini isterseniz buffering değerini 0 olarak belirlersiniz.\n",
    "Yalnız bu değer sadece ikili kipte etkindir. Yani bir dosyayı\n",
    "eğer metin kipinde açıyorsanız buffering parametresinin değerini\n",
    "0 yapamazsınız.\n",
    "\n",
    "Eğer dosyaya veri işlerken tampona alınan verilerin satır satır\n",
    "dosyaya eklenmesini isterseniz buffering değerini \n",
    "1 olarak belirlersiniz. Bunun nasıl çalıştığını anlamak\n",
    "için şu örneği dikkatlice inceleyin:\n",
    "\n",
    "f = open('ni.txt', 'w', buffering=1)\n",
    "f.write('birinci satır\\n')\n",
    "\n",
    "14\n",
    "\n",
    "f.write('ikinci satır\\n')\n",
    "\n",
    "13\n",
    "\n",
    "f.write('aaa')\n",
    "\n",
    "3\n",
    "\n",
    "f.write('\\n')\n",
    "\n",
    "1\n",
    "Burada her write() komutundan sonra ni.txt adlı dosyayı açıp\n",
    "bakarsanız, şu durumu görürsünüz:\n",
    "\n",
    "f.write('birinci satır\\n') komutuyla dosyaya bir satırlık veri \n",
    "ekledik ve bu veri dosyaya anında işlendi.\n",
    "\n",
    "\n",
    "f.write('ikinci satır\\n') komutuyla dosyaya bir satırlık başka \n",
    "bir veri daha ekledik ve bu veri de dosyaya anında işlendi.\n",
    "\n",
    "\n",
    "f.write('aaa') komutuyla eklenen veri satır değil. Çünkü satır \n",
    "sonuna işaret eden satır başı kaçış dizisini kullanmadık.\n",
    "\n",
    "f.write('\\n') komutuyla satır başı kaçış dizisini eklediğimiz \n",
    "anda bir önceki karakter dizisi ('aaa') de dosyaya eklenecektir.\n",
    "\n",
    "Ancak buffering parametresi bu 1 değerini yalnızca metin kipinde\n",
    "alabilir. Bu kısıtlamayı da aklımızın bir kenarına not edelim…\n",
    "\n",
    "0 ve 1 dışında buffering parametresine 1’den büyük bir değer \n",
    "verdiğinizde ise tampon boyutunun ne kadar olacağını kendiniz \n",
    "belirlemiş olursunuz.\n",
    "\n",
    "Yalnız çoğu durumda buffering parametresine herhangi bir özel\n",
    "değer atamanız gerekmeyecektir. Bu parametreye herhangi bir \n",
    "değer atamadığınızda, kullandığınız işletim sistemi tampona\n",
    "alma işlemlerininin nasıl yürütüleceğine ve tampon boyutuna\n",
    "kendisi karar verecektir. İşletim sisteminin sizin yerinize\n",
    "verdiği bu karar da çoğunlukla istediğiniz şey olacaktır…\n",
    "Eğer kendi sisteminizde öntanımlı tampon boyutunun ne olduğunu\n",
    "merak ediyorsanız şu komutları kullanabilirsiniz:\n",
    "\n",
    "import io\n",
    "io.DEFAULT_BUFFER_SIZE\n",
    "Çoğu sistemde bu değer 4096 ve 8192 bayt olacaktır.\n",
    "\n",
    "open() fonksiyonunun alabileceği bir başka parametre de \n",
    "encoding parametresidir. Bu parametre, dosyanın hangi \n",
    "karakter kodlaması ile açılacağını belirler. Örneğin bir\n",
    "dosyayı ‘UTF-8’ karakter kodlaması ile açmak için şu komutu\n",
    "kullanıyoruz:\n",
    "\n",
    "f = open('dosya', encoding='utf-8')\n",
    "Üzerinde işlem yaptığınız dosyalarda özellikle Türkçe karakter \n",
    "sorunları yaşamak istemiyorsanız, bir dosyayı açarken mutlaka \n",
    "encoding parametresinin değerini de ayarlamanızı tavsiye ederim.\n",
    "\n",
    "Bir dosyayı açarken veya okurken herhangi bir karakter \n",
    "kodlama hatası ile karşılaştığınızda Python’ın ne tepki \n",
    "vermesi gerektiğini ise errors adlı parametre yardımıyla\n",
    "belirleyebilirsiniz.\n",
    "\n",
    "Eğer bu parametreye strict değerini verirseniz karakter\n",
    "kodlama hataları programınızın ValueError türünde bir \n",
    "hata vererek çalışmayı kesmesine neden olacaktır. Bu \n",
    "parametreye herhangi bir değer vermediğinizde de Python \n",
    "sanki strict değerini vermişsiniz gibi davranır.\n",
    "\n",
    "Eğer errors parametresine ignore değerini verirseniz kodlama\n",
    "hataları görmezden gelinecek, bu hataya sebep olan karakter \n",
    "silinecektir. Yalnız bu değerin veri kaybına yol açma ihtimalini \n",
    "de göz önünde bulundurmalısınız.\n",
    "\n",
    "Eğer errors parametresine replace değerini verirseniz kodlama \n",
    "hatasına yol açan karater ‘?’ veya ‘ufffd’ karakterleri ile \n",
    "değiştirilecektir.\n",
    "\n",
    "open() fonksiyonunun kabul ettiği bir başka parametre de newline\n",
    "adlı parametredir. Peki bu parametre ne işe yarar?\n",
    "\n",
    "Windows ve GNU/Linux işletim sistemleri satır sonlarını\n",
    "birbirlerinden farklı şekilde gösterir. GNU/Linux’ta yazılmış\n",
    "dosyalarda satır sonları \\n karakteri ile gösterilirken, \n",
    "Windows’ta yazılmış dosyalarda satır sonunda \\r\\n karakterleri \n",
    "bulunur. Eğer Windows ve GNU/Linux sistemleri arasında dosya\n",
    "alışverişi yapıyorsanız kimi durumlarda bu farklılık çeşitli\n",
    "sorunların ortaya çıkmasına yol açabilir. İşte dosyalarınızın\n",
    "hangi satır sonu karakterine sahip olacağını yukarıda \n",
    "bahsettiğimiz newline adlı parametre ile belirleyebilirsiniz.\n",
    "Örneğin:\n",
    "\n",
    "f = open('dosya', newline='\\n')\n",
    "Bu şekilde dosyanız hangi işletim sisteminde olursa olsun satır \n",
    "sonlarında \\n karakterine sahip olacaktır.\n",
    "\n",
    "Dosyaların metotlarını incelerseniz o listede fileno() adlı bir\n",
    "metodun olduğunu göreceksiniz. Bu metot, bize bir dosyanın ‘\n",
    "dosya tanımlayıcısını’ (file descriptor) verir. Dosya tanımlayıcıları,\n",
    "dosyaya işaret eden pozitif tam sayılardır. 0, 1 ve 2 sayıları\n",
    "standart girdi, standart çıktı ve standart hata dosyalarına \n",
    "ayrılmış olduğu için, sizin açtığınız ve üzerinde işlem \n",
    "yaptığınız dosyaların tanımlayıcıları 2 sayısından büyük olacaktır.\n",
    "\n",
    "Bir örnek verelim:\n",
    "\n",
    "f = open('ni.txt')\n",
    "f.fileno()\n",
    "\n",
    "3\n",
    "İşte burada gördüğünüz sayı, ni.txt adlı dosyanın ‘dosya\n",
    "tanımlayıcısıdır. Her dosyanın dosya tanımlayıcısı benzersizdir:\n",
    "\n",
    "g = open('zi.txt')\n",
    "g.fileno()\n",
    "\n",
    "4\n",
    "Python’da bir dosyayı open() fonksiyonuyla açarken dosya adını\n",
    "vermenin yanı sıra, dosyanın tanımlayıcısını da kullanabilirsiniz:\n",
    "\n",
    "z = open(4)\n",
    "veya:\n",
    "\n",
    "z = open(g.fileno())\n",
    "Bu sayede, eğer isterseniz, elinizdeki dosyalarla daha ileri \n",
    "düzeyli işlemler yapabilirsiniz. Bir örnek verelim.\n",
    "\n",
    "Dediğimiz gibi, bir dosyanın tanımlayıcısı tek ve benzersizdir. \n",
    "Farklı dosyalar aynı tanımlayıcılara sahip olmaz:\n",
    "\n",
    "a = open('aaa.txt')\n",
    "a.fileno()\n",
    "\n",
    "3\n",
    "\n",
    "b = open('bbb.txt')\n",
    "b.fileno()\n",
    "\n",
    "4\n",
    "Şimdi şu örneklere bakın:\n",
    "\n",
    "c = open(b.fileno(), closefd=False)\n",
    "Bu şekilde b adlı dosyanın tanımlayıcısını kullanarak, aynı \n",
    "dosyayı bir de c adıyla açtık. Ancak burada kullandığımız\n",
    "closefd=False parametresine dikkat edin. Normalde dosyayı \n",
    "kapattığımızda dosyanın tanımlayıcısı serbest kalır ve başka\n",
    "bir dosya açıldığında bu tanımlayıcı yeni dosyaya atanır.\n",
    "Ama closefd parametresine False değeri verdiğimizde dosya \n",
    "kapansa bile, o dosyaya ait dosya tanımlayıcısı varolmaya \n",
    "devam edecektir.\n",
    "\"\"\""
   ]
  },
  {
   "cell_type": "code",
   "execution_count": 5,
   "id": "3e34ac4d",
   "metadata": {},
   "outputs": [
    {
     "ename": "SyntaxError",
     "evalue": "invalid decimal literal (1929525018.py, line 16)",
     "output_type": "error",
     "traceback": [
      "\u001b[0;36m  File \u001b[0;32m\"/tmp/ipykernel_121840/1929525018.py\"\u001b[0;36m, line \u001b[0;32m16\u001b[0m\n\u001b[0;31m    Burada yaptığımız şey şu: Öncelikle 2 sayısının 3. kuvvetini hesapladık. Elde ettiğimiz sayı 8. Ardından da bu sayının 2’ye bölünmesi işleminden kalan sayıyı elde ettik. Yani 0. Çünkü bildiğiniz gibi 8 % 2 işleminin sonucu 0’dır. Dolayısıyla yukarıdaki komut şuna eşdeğerdir:\u001b[0m\n\u001b[0m                                                                                                                           ^\u001b[0m\n\u001b[0;31mSyntaxError\u001b[0m\u001b[0;31m:\u001b[0m invalid decimal literal\n"
     ]
    }
   ],
   "source": [
    "\"\"\"\n",
    "pow()\n",
    "Daha önceki derslerimizde pek çok kez örneklerini verdiğimiz\n",
    "bu fonksiyon İngilizcedeki power (kuvvet) kelimesinin\n",
    "kısaltmasından oluşur. Adının anlamına uygun olarak, bu \n",
    "fonksiyonu bir sayının kuvvetlerini hesaplamak için kullanıyoruz.\n",
    "\n",
    "Bu fonksiyon en temel şekilde şöyle kullanılır:\n",
    "\n",
    "pow(2, 3)\n",
    "\n",
    "8\n",
    "Bu komutla 2 sayısının 3. kuvvetini hesaplamış oluyoruz.\n",
    "\n",
    "pow() fonksiyonu toplamda üç farklı parametre alır. İlk iki \n",
    "parametrenin ne olduğunu yukarıda örnekledik. Üçüncü parametre \n",
    "ise kuvvet hesaplaması sonucu elde edilen sayının modülüsünü \n",
    "hesaplayabilmemizi sağlar. Yani:\n",
    "\n",
    "pow(2, 3, 2)\n",
    "\n",
    "0\n",
    "Burada yaptığımız şey şu: Öncelikle 2 sayısının 3. kuvvetini \n",
    "hesapladık. Elde ettiğimiz sayı 8. Ardından da bu sayının 2’ye \n",
    "bölünmesi işleminden kalan sayıyı elde ettik. Yani 0. Çünkü bildiğiniz\n",
    "gibi 8 % 2 işleminin sonucu 0’dır. Dolayısıyla yukarıdaki komut şuna \n",
    "eşdeğerdir:\n",
    "\n",
    "(2 ** 3) % 2\n",
    "\n",
    "0\n",
    "Ancak önceki derslerimizde de söylediğimiz gibi, pow() fonksiyonu \n",
    "çoğunlukla yalnızca ilk iki parametresi ile birlikte kullanılır:\n",
    "\n",
    "pow(12, 2)\n",
    "\n",
    "144\n",
    "\"\"\""
   ]
  },
  {
   "cell_type": "code",
   "execution_count": 6,
   "id": "42084f7d",
   "metadata": {},
   "outputs": [
    {
     "data": {
      "text/plain": [
       "16"
      ]
     },
     "execution_count": 6,
     "metadata": {},
     "output_type": "execute_result"
    }
   ],
   "source": [
    "pow(2,4)"
   ]
  },
  {
   "cell_type": "code",
   "execution_count": 9,
   "id": "03f2dfdb",
   "metadata": {},
   "outputs": [
    {
     "name": "stdout",
     "output_type": "stream",
     "text": [
      "hhihiihihi\n"
     ]
    }
   ],
   "source": [
    "\"\"\"\n",
    "print()\n",
    "print() fonksiyonunu artık gayet iyi tanıyoruz. Bu fonksiyonu, \n",
    "bildiğiniz gibi, kullanıcılarımıza birtakım mesajlar göstermek\n",
    "için kullanıyoruz.\n",
    "\n",
    "Kullanımını daha önce ayrıntılı bir şekilde anlatmış olduğumuz \n",
    "bu fonksiyonu şu şekilde formüle edebiliriz:\n",
    "\n",
    "print(deg1, deg2, deg3, ..., sep=' ', end='\\n', file=sys.stdout,\n",
    "flush=False)\n",
    "Burada;\n",
    "\n",
    "degx\n",
    "Çıktı verilecek değerlerin ne olduğunu belirtir. Buraya 256 adete \n",
    "kadar değer yazabilirsiniz.\n",
    "\n",
    "sep\n",
    "Çıktı verilirken değerlerin arasına hangi karakterin\n",
    "yerleştirileceğini belirtir. Bu değer öntanımlı olarak boşluk\n",
    "karakteridir.\n",
    "\n",
    "end\n",
    "Çıktı verilecek son değerin ardından hangi karakterin iliştirileceğini\n",
    "belirtir. Bu değer öntanımlı olarak satır başı (\\n) karakteridir.\n",
    "\n",
    "file\n",
    "Çıktıların hangi dosyaya yazılacağını belirtir. Öntanımlı olarak bu\n",
    "parametrenin değeri sys.stdout’tur. Yani print() fonksiyonu \n",
    "çıktılarını öntanımlı olarak standart çıktı konumuna gönderir.\n",
    "\n",
    "flush\n",
    "Bildiğiniz gibi, herhangi bir dosyaya yazma işlemi sırasında \n",
    "dosyaya yazılacak değerler öncelikle tampona alınır. İşlem\n",
    "tamamlandıktan sonra tampondaki bu değerler topluca dosyaya\n",
    "aktarılır. İşte bu parametre, değerleri tampona almadan doğrudan\n",
    "dosyaya gönderebilmemizi sağlar. Bu parametrenin öntanımlı değeri\n",
    "False’tur. Yani değerler dosyaya yazılmadan önce öntanımlı olarak \n",
    "öncelikle tampona gider. Ama eğer biz bu parametrenin değerini\n",
    "True olarak değiştirirsek, değerler doğrudan dosyaya yazılır.\n",
    "\"\"\"\n",
    "print(\"hhihiihihi\")"
   ]
  },
  {
   "cell_type": "code",
   "execution_count": 10,
   "id": "2e6c8b41",
   "metadata": {},
   "outputs": [
    {
     "data": {
      "text/plain": [
       "[0, 2, 4, 6, 8]"
      ]
     },
     "execution_count": 10,
     "metadata": {},
     "output_type": "execute_result"
    }
   ],
   "source": [
    "\"\"\"\n",
    "quit()\n",
    "Bu fonksiyonu programdan çıkmak için kullanıyoruz.\n",
    "Eğer bu fonksiyonu etkileşimli kabukta verecek olursanız\n",
    "etkileşimli kabuk kapanacaktır.\n",
    "\n",
    "\n",
    "range()\n",
    "Bu fonksiyonu belli bir aralıktaki sayıları listelemek için\n",
    "kullanıyoruz. Yani mesela 0 ile 10 arası sayıların listesini\n",
    "almak istersek şöyle bir komut yazabiliriz:\n",
    "\n",
    "l = range(0, 10)\n",
    "Ancak burada dikkat etmemiz gereken bir özellik var: Bu \n",
    "fonksiyon aslında doğrudan herhangi bir sayı listesi oluşturmaz. \n",
    "Yukarıda l değişkenine atadığımız komutu ekrana yazdırırsak bunu\n",
    "daha net görebilirsiniz:\n",
    "\n",
    "print(l)\n",
    "\n",
    "range(0, 10)\n",
    "Bir de bu verinin tipine bakalım:\n",
    "\n",
    "type(l)\n",
    "\n",
    "<class 'range'>\n",
    "Gördüğünüz gibi, elimizdeki şey aslında bir sayı listesi değil, \n",
    "bir ‘range’ (aralık) nesnesidir. Biz bu nesneyi istersek başka\n",
    "veri tiplerine dönüştürebiliriz. Mesela bunu bir listeye dönüştürelim:\n",
    "\n",
    "\n",
    "\n",
    "list(l)\n",
    "\n",
    "[0, 1, 2, 3, 4, 5, 6, 7, 8, 9]\n",
    "veya bir demete:\n",
    "\n",
    "tuple(l)\n",
    "\n",
    "(0, 1, 2, 3, 4, 5, 6, 7, 8, 9)\n",
    "ya da bir kümeye veya dondurulmuş kümeye:\n",
    "\n",
    "set(l) #küme\n",
    "\n",
    "{0, 1, 2, 3, 4, 5, 6, 7, 8, 9}\n",
    "\n",
    "frozenset(l) #dondurulmuş küme\n",
    "\n",
    "frozenset({0, 1, 2, 3, 4, 5, 6, 7, 8, 9})\n",
    "Bu ‘range’ nesnesini istediğiniz veri tipine dönüştürdükten \n",
    "sonra, dönüştürdüğünüz veri tipinin kuralları çerçevesinde \n",
    "elinizdeki veriyi işleyebilirsiniz.\n",
    "\n",
    "range() fonksiyonundan elde ettiğiniz ‘range’ nesnesinin\n",
    "içeriğini elde etmek için bunu başka bir veri tipine \n",
    "dönüştürmenin yanısıra, bu nesne üzerinde bir for döngüsü de \n",
    "kurabilirsiniz:\n",
    "\n",
    "for i in range(10):\n",
    "    print(i)\n",
    "\n",
    "0\n",
    "1\n",
    "2\n",
    "3\n",
    "4\n",
    "5\n",
    "6\n",
    "7\n",
    "8\n",
    "9\n",
    "Ya da yıldızlı parametreler yardımıyla bu nesneyi print() \n",
    "fonksiyonuna göndererek, bu nesneyi istediğiniz gibi evirip\n",
    "çevirebilirsiniz:\n",
    "\n",
    "print(*range(10), sep=', ')\n",
    "\n",
    "0, 1, 2, 3, 4, 5, 6, 7, 8, 9\n",
    "Esasında, yukarıda nasıl kullanılacağına dair bazı örnekler \n",
    "verdiğimiz bu range() fonksiyonunu temel olarak şu şekilde \n",
    "formüle edebiliriz:\n",
    "\n",
    "range(başlangıç_değer, bitiş_değeri, atlama_değeri)\n",
    "Aşağıdaki örneği tekrar ele alalım:\n",
    "\n",
    "range(0, 10)\n",
    "Burada 0 başlangıç değeri, 10 ise bitiş değeridir. Buna göre\n",
    "oluşturulacak sayılar 0 ile 10 arasında olacaktır. Yalnız burada \n",
    "üretilecek sayı listesinde 0 sayısının dahil, 10 sayısının ise\n",
    "hariç olduğunu unutmuyoruz. Yani bu komutun bize vereceği ilk \n",
    "sayı 0; son sayı ise 9 olacaktır.\n",
    "\n",
    "range() fonksiyonunda başlangıç değerinin öntanımlı değeri 0’dır.\n",
    "Dolayısıyla istersek biz yukarıdaki komutu şöyle de yazabiliriz:\n",
    "\n",
    "range(10)\n",
    "Böylece Python bizim range(0, 10) komutunu kastettiğimizi \n",
    "varsayacaktır. Elbette eğer başlangıç değerinin 0 dışında bir\n",
    "değer olmasını istiyorsanız bunu özellikle belirtmeniz gerekir:\n",
    "\n",
    "range(10, 100)\n",
    "Bu komut bize 10 ile (10 dahil) 100 arası (100 hariç) sayıları \n",
    "içeren bir ‘range’ nesnesi verecektir.\n",
    "\n",
    "Yukarıda verdiğimiz formülden de göreceğiniz gibi, başlangıç_değer \n",
    "ve bitiş_değer dışında range() fonksiyonu üçüncü bir parametre \n",
    "daha alabiliyor. Bu parametreye atlama_değeri adı verdik. Bu \n",
    "parametreyi şöyle kullanıyoruz:\n",
    "\n",
    "list(range(0, 10, 2))\n",
    "\n",
    "[0, 2, 4, 6, 8]\n",
    "Gördüğünüz gibi, range() fonksiyonuna üçüncü parametre olarak \n",
    "verdiğimiz 2 sayısı, 0 ile 10 arası sayıların ikişer ikişer \n",
    "atlanarak üretilmesini sağladı.\n",
    "\"\"\"\n",
    "list(range(0, 10, 2))"
   ]
  },
  {
   "cell_type": "code",
   "execution_count": 11,
   "id": "a5497760",
   "metadata": {},
   "outputs": [],
   "source": [
    "\"\"\"\n",
    "reversed()\n",
    "Diyelim ki elimizde şöyle bir liste var:\n",
    "\n",
    "isimler = ['ahmet', 'mehmet', 'veli', 'ayşe', 'çiğdem', 'ışık']\n",
    "Eğer bu listedeki isimleri ters çevirmek, yani şöyle bir liste\n",
    "elde etmek isterseniz:\n",
    "\n",
    "['ışık', 'çiğdem', 'ayşe', 'veli', 'mehmet', 'ahmet']\n",
    "… ne yapmanız gerektiğini biliyorsunuz. Bu amaç için liste \n",
    "dilimleme yöntemlerinden yararlanabilirsiniz:\n",
    "\n",
    "isimler[::-1]\n",
    "\n",
    "['ışık', 'çiğdem', 'ayşe', 'veli', 'mehmet', 'ahmet']\n",
    "İşte aynı işlevi reversed() adlı bir fonksiyon yardımıyla da \n",
    "yerine getirebilirsiniz:\n",
    "\n",
    "reversed(isimler)\n",
    "\n",
    "<list_reverseiterator object at 0x00EB9710>\n",
    "Gördüğünüz gibi, tıpkı range() fonksiyonunda olduğu gibi, \n",
    "reversed() fonksiyonu da bize ürettiği öğelerin kendisi yerine,\n",
    "bir ‘nesne’ veriyor. Ama tabii ki bu bizim için bir sorun değil.\n",
    "Biz bu nesnenin içeriğini nasıl elde edebileceğimizi gayet iyi \n",
    "biliyoruz:\n",
    "\n",
    "list(reversed(isimler))\n",
    "\n",
    "['ışık', 'çiğdem', 'ayşe', 'veli', 'mehmet', 'ahmet']\n",
    "range() fonksiyonunu anlatırken sözünü ettiğimiz içerik elde etme \n",
    "yöntemlerini reversed() fonksiyonuna da uygulayabilirsiniz.\n",
    "\"\"\"\n",
    "isimler = ['ahmet', 'mehmet', 'veli', 'ayşe', 'çiğdem', 'ışık']"
   ]
  },
  {
   "cell_type": "code",
   "execution_count": 16,
   "id": "9a6e7f5c",
   "metadata": {},
   "outputs": [],
   "source": [
    "isimler=list(reversed(isimler))"
   ]
  },
  {
   "cell_type": "code",
   "execution_count": 17,
   "id": "5630b5ba",
   "metadata": {},
   "outputs": [
    {
     "data": {
      "text/plain": [
       "['ışık', 'çiğdem', 'ayşe', 'veli', 'mehmet', 'ahmet']"
      ]
     },
     "execution_count": 17,
     "metadata": {},
     "output_type": "execute_result"
    }
   ],
   "source": [
    "isimler"
   ]
  },
  {
   "cell_type": "code",
   "execution_count": 18,
   "id": "60002220",
   "metadata": {},
   "outputs": [
    {
     "data": {
      "text/plain": [
       "['ahmet', 'mehmet', 'veli', 'ayşe', 'çiğdem', 'ışık']"
      ]
     },
     "execution_count": 18,
     "metadata": {},
     "output_type": "execute_result"
    }
   ],
   "source": [
    "isimler[::-1]"
   ]
  },
  {
   "cell_type": "code",
   "execution_count": 1,
   "id": "0b5031a3",
   "metadata": {},
   "outputs": [
    {
     "data": {
      "text/plain": [
       "['a', 'e', 'h', 'm', 't']"
      ]
     },
     "execution_count": 1,
     "metadata": {},
     "output_type": "execute_result"
    }
   ],
   "source": [
    "\"\"\"\n",
    "sorted()\n",
    "Bu metot, daha önceki derslerimizden de bildiğiniz gibi, bir dizi içindeki öğeleri belirli bir ölçüte\n",
    "göre sıraya dizmemizi sağlıyor. Bununla ilgili çok basit bir örnek verelim:\n",
    "\n",
    "sorted('ahmet')\n",
    "\n",
    "['a', 'e', 'h', 'm', 't']\n",
    "Bu kodlar yardımıyla ahmet adlı karakter dizisi içindeki harfleri alfabe sırasına dizdik.\n",
    "\n",
    "Elbette bu fonksiyonu sadece karakter dizileri üzerine uygulamıyoruz. sorted() adlı fonksiyon, dizi\n",
    "özelliği taşıyan her türlü nesne üzerine uygulanabilir. Mesela demetlerin ve listelerin bir dizi \n",
    "olduğunu biliyoruz. Dolayısıyla:\n",
    "\n",
    "sorted(('elma', 'armut', 'kiraz', 'badem'))\n",
    "\n",
    "['armut', 'badem', 'elma', 'kiraz']\n",
    "\n",
    "sorted(['elma', 'armut', 'kiraz', 'badem'])\n",
    "['armut', 'badem', 'elma', 'kiraz']\n",
    "sorted() fonksiyonuna hangi türde bir veri tipi verirseniz verin, aldığınız çıktı her zaman bir\n",
    "liste olacaktır. Bunu unutmayın.\n",
    "\n",
    "Gördüğünüz gibi, sorted() fonksiyonu nesneler üzerinde bir sıralama işlemi gerçekleştiriyor. \n",
    "Ancak bu fonksiyonun bir problemi var.\n",
    "\n",
    "Dikkatlice bakın:\n",
    "\n",
    "isimler = ['ahmet', 'çiğdem', 'ışık', 'şebnem', 'zeynep', 'selin']\n",
    "sorted(isimler)\n",
    "\n",
    "['ahmet', 'selin', 'zeynep', 'çiğdem', 'ışık', 'şebnem']\n",
    "Bu fonksiyon, Türkçe karakter içeren öğeleri düzgün sıralayamaz.\n",
    "\n",
    "Bu sorunu kısmen çözebilmek için locale adlı bir modül içindeki strxfrm() adlı bir fonksiyondan \n",
    "yararlanabilirsiniz:\n",
    "\n",
    "import locale\n",
    "Henüz modülleri öğrenmemiş de olsak, bir modülü kullanabilmek için öncelikle o modülü ‘içe aktarmamız’ \n",
    "gerektiğini artık biliyorsunuz. Bu işlemi import adlı bir komut yardımıyla yaptığımızı da biliyorsunuz.\n",
    "\n",
    "Şimdi de yerelimizi (locale) ‘Türkçe’ olarak ayarlayalım:\n",
    "\n",
    "locale.setlocale(locale.LC_ALL, 'tr_TR') #GNU/Linux\n",
    "locale.setlocale(locale.LC_ALL, 'Turkish_Turkey.1254') #Windows\n",
    "Bu işlemleri yaptıktan sonra, sorted() fonksiyonunun key adlı bir parametresini kullanarak ve yine locale\n",
    "modülünün strxfrm() adlı fonksiyonundan faydalanarak Türkçe karakterler içeren listemizi sıralamayı\n",
    "deneyebiliriz:\n",
    "\n",
    "sorted(isimler, key=locale.strxfrm)\n",
    "\n",
    "['ahmet', 'çiğdem', 'ışık', 'selin', 'şebnem', 'zeynep']\n",
    "locale modülü içinde bulunan strxfrm() adlı fonksiyon, karakter dizilerinin, o anda etkin yerel neyse,\n",
    "ona göre muamele görmesini sağlar. Biz yukarıda yerelimizi Türkçe olarak ayarladığımız için strxfrm() \n",
    "fonksiyonu, sorted() ile yapılan alfabe sırasına dizme işleminin Türkçenin kurallarına göre yapılmasını \n",
    "sağlıyor.\n",
    "\n",
    "Ancak bu yöntemin de sorunlu olduğunu bir süre sonra kendiniz de farkedeceksiniz. Mesela şu örneği \n",
    "inceleyin:\n",
    "\n",
    "sorted('afgdhkıi', key=locale.strxfrm)\n",
    "\n",
    "['a', 'd', 'f', 'g', 'h', 'i', 'ı', 'k']\n",
    "Gördüğünüz gibi, listede ‘i’ harfi ‘ı’ harfinden önce geliyor. Ama aslında bunun tersi olmalıydı.\n",
    "\n",
    "İşte böyle bir durumda, kendi sıralama mekanizmamızı kendimiz icat etmeliyiz. Peki ama nasıl?\n",
    "\n",
    "Bilgisayarlar farklı dillerdeki karakterleri her zaman doğru sıralayamasa da, sayıları her zaman \n",
    "doğru sıralar:\n",
    "\n",
    "sorted([10, 9, 4, 14, 20])\n",
    "\n",
    "[4, 9, 10, 14, 20]\n",
    "Bilgisayarların bu özelliğinden ve Python’daki sözlük veri tipinden yararlanarak kendi sıralama \n",
    "mekanizmamızı rahatlıkla icat edebiliriz.\n",
    "\n",
    "Öncelikle harflerimizi yazalım:\n",
    "\n",
    "harfler = \"abcçdefgğhıijklmnoöprsştuüvyz\"\n",
    "Burada Türk alfabesini oluşturan harfleri sırasına göre dizdik. Şimdi bu harflerin her birine bir \n",
    "sayı vereceğiz:\n",
    "\n",
    "çevrim = {'a': 0, 'b': 1, 'c': 2, 'ç': 3, 'd': 4,\n",
    "          'e': 5, 'f': 6, 'g': 7, 'ğ': 8, 'h': 9,\n",
    "          'ı': 10, 'i': 11, 'j': 12, 'k': 13,\n",
    "          'l': 14, 'm': 15, 'n': 16, 'o': 17,\n",
    "          'ö': 18, 'p': 19, 'r': 20, 's': 21,\n",
    "          'ş': 22, 't': 23, 'u': 24, 'ü': 25,\n",
    "          'v': 26, 'y': 27, 'z': 28}\n",
    "Yalnız böyle her harfe karşılık gelen sayıyı elle yazmak yorucu olacaktır. Bu işlemi daha kolay bir\n",
    "şekilde yapabilmek için farklı teknikleri kullanabilirsiniz. Mesela daha önce öğrendiğimiz sözlük \n",
    "üreteçlerinden yararlanabilirsiniz:\n",
    "\n",
    "çevrim = {i: harfler.index(i) for i in harfler}\n",
    "Bu şekilde harfler değişkeni içindeki her bir harfin bir anahtar; bu harflerin harfler değişkeni\n",
    "içindeki sırasını gösteren her bir sayının ise bir değer olduğu bir sözlük oluşturmuş olduk.\n",
    "\n",
    "Şimdi isim listemizi alalım karşımıza:\n",
    "\n",
    "isimler = [\"ahmet\", \"ışık\", \"ismail\",\n",
    "           \"çiğdem\", \"can\", \"şule\"]\n",
    "Normal bir sorted() işleminin yanlış sonuç döndüreceğini biliyoruz:\n",
    "\n",
    "sorted(isimler)\n",
    "\n",
    "['ahmet', 'can', 'ismail',\n",
    " 'çiğdem', 'ışık', 'şule']\n",
    "Aynı şekilde key parametresine locale.strxfrm değerinin verilmesi de yetersiz kalacaktır:\n",
    "\n",
    "sorted(isimler, key=locale.strxfrm)\n",
    "\n",
    "['ahmet', 'can', 'çiğdem', 'ismail',\n",
    " 'ışık', 'şule']\n",
    "Ama biraz önce oluşturduğumuz çevrim anahtarını kullanırsak durum bambaşka olacaktır:\n",
    "\n",
    "sorted(isimler, key=lambda x: çevrim.get(x[0]))\n",
    "\n",
    "['ahmet', 'can', 'çiğdem', 'ışık', 'ismail', 'şule']\n",
    "Ancak aslında burada da oldukça sinsi bir problem var. Bu metot ile kelime listesini oluşturan\n",
    "kelimeleri yalnızca ilk harflerine göre sıralıyoruz (x[0]). Peki ya aynı liste içinde ilk harfleri\n",
    "aynı olup, sonraki harflerde farklılaşan kelimeler varsa ne olacak? Yani mesela bu metot acaba \n",
    "‘ismail’ ve ‘iskender’ kelimelerini doğru bir şekilde sıralayabilir mi? Bakalım:\n",
    "\n",
    "harfler = \"abcçdefgğhıijklmnoöprsştuüvyz\"\n",
    "çevrim = {i: harfler.index(i) for i in harfler}\n",
    "\n",
    "isimler = [\"ahmet\", \"ışık\", \"ismail\", \"çiğdem\",\n",
    "           \"can\", \"şule\", \"iskender\"]\n",
    "\n",
    "print(sorted(isimler, key=lambda x: çevrim.get(x[0])))\n",
    "Buradan şu çıktıyı alıyoruz:\n",
    "\n",
    "['ahmet', 'can', 'çiğdem', 'ışık', 'ismail', 'iskender', 'şule']\n",
    "Gördüğünüz gibi ‘ismail’ ve ‘iskender’ kelimeleri doğru bir şekilde sıralanmadı; ‘iskender’ \n",
    "kelimesinin ‘ismail’ kelimesinden önce gelmesi gerekiyordu…\n",
    "\n",
    "Demek ki şimdiye kadar kullandığımız bütün sıralama yöntemlerinin bir eksiği varmış. O halde \n",
    "başka bir metot bulmaya çalışalım.\n",
    "\n",
    "Dikkatlice bakın:\n",
    "\n",
    "harfler = 'abcçdefgğhıijklmnoöprsştuüvyz'\n",
    "çevrim = {i: harfler.index(i) for i in harfler}\n",
    "\n",
    "def sırala(kelime):\n",
    "    return ([çevrim.get(kelime[i]) for i in range(len(kelime))])\n",
    "\n",
    "isimler = ['ahmet', 'can', 'iskender', 'cigdem',\n",
    "           'ismet', 'ismail', 'ismit', 'çiğdem',\n",
    "           'ismıt', 'ışık', 'şule']\n",
    "\n",
    "print(*sorted(isimler, key=sırala), sep='\\n')\n",
    "Gelin bu kodları biraz inceleyelim.\n",
    "\n",
    "Burada ilk gördüğümüz kodlar şunlar:\n",
    "\n",
    "harfler = 'abcçdefgğhıijklmnoöprsştuüvyz'\n",
    "çevrim = {i: harfler.index(i) for i in harfler}\n",
    "Esasında siz bu kodların anlamını biliyorsunuz. Önceki derslerimizde de aynı kodları birkaç kez \n",
    "kullanmıştık. Yalnız biz burada, örnek olması açısından, harfler değişkeni için değer olarak yalnızca\n",
    "küçük harfleri kullandık. Bu kodları daha kapsamlı bir program içinde kullanacaksanız bu değişkenin\n",
    "uygun yerlerine mesela büyük harfleri ve noktalama işaretleriyle sayıları da eklemek isteyebilirsiniz.\n",
    "\n",
    "Sonraki satırlarda sırala() adlı bir fonksiyon tanımladık:\n",
    "\n",
    "def sırala(kelime):\n",
    "    return ([çevrim.get(kelime[i]) for i in range(len(kelime))])\n",
    "Burada liste üreteçlerinden yararlandığımıza dikkatinizi çekmek isterim:\n",
    "\n",
    "[çevrim.get(kelime[i]) for i in range(len(kelime))]\n",
    "Bu kod yardımıyla kelime içinde geçen her bir harfi çevrim adlı sözlükte sorgulayarak, sözlükte ilgili\n",
    "harfe karşılık gelen sayıyı buluyoruz.\n",
    "\n",
    "Aslında bu kodları daha iyi anlayabilmek için Python’daki sorted() fonksiyonunun mantığını biraz daha\n",
    "derinlemesine incelememiz gerekiyor. Gelin şimdi bu inceleme işini yapalım:\n",
    "\n",
    "Diyelim ki elimizde şöyle bir liste var:\n",
    "\n",
    "elemanlar = [('ahmet',       33,    'karataş'),\n",
    "             ('mehmet',      45,    'arpaçbahşiş'),\n",
    "             ('sevda',       24,    'arsuz'),\n",
    "             ('arzu',        40,    'siverek'),\n",
    "             ('abdullah',    30,    'payas'),\n",
    "             ('ilknur',      40,    'kilis'),\n",
    "             ('abdurrezzak', 40,    'bolvadin')]\n",
    "Bu liste, her biri ‘isim’, ‘yaş’ ve ‘memleket’ bilgilerini içeren üç öğeli birer demetten oluşuyor.\n",
    "Eğer biz bu liste üzerine sorted() fonksiyonunu uygularsak:\n",
    "\n",
    "print(*sorted(elemanlar), sep='\\n')\n",
    "Python elemanları demetlerin ilk öğesine göre sıralayacaktır. Yani isme göre.\n",
    "\n",
    "Peki ya biz bu elemanları yaşa göre sıralamak istersek ne yapacağız?\n",
    "\n",
    "Bu amacı gerçekleştirmek için şöyle bir kod yazabiliriz:\n",
    "\n",
    "def sırala(liste):\n",
    "    return liste[1]\n",
    "\n",
    "elemanlar = [('ahmet',       33,    'karataş'),\n",
    "             ('mehmet',      45,    'arpaçbahşiş'),\n",
    "             ('sevda',       24,    'arsuz'),\n",
    "             ('arzu',        40,    'siverek'),\n",
    "             ('abdullah',    30,    'payas'),\n",
    "             ('ilknur',      40,    'kilis'),\n",
    "             ('abdurrezzak', 40,    'bolvadin')]\n",
    "\n",
    "print(*sorted(elemanlar, key=sırala), sep='\\n')\n",
    "Bu örnek bize key parametresinin de ne işe yaradığını açık seçik gösteriyor. Eğer Python’ın kendi \n",
    "sıralama yönteminin dışında bir sıralama yöntemi uygulayacaksak, bu sıralama yönteminin ne olduğunu\n",
    "bir fonksiyon yardımıyla tarif edip bunu key parametresine değer olarak veriyoruz. Örneğin biz \n",
    "yukarıdaki Python’ın elemanlar adlı listeyi ilk sütuna (‘isim’ sütunu) göre değil, ikinci sütuna \n",
    "(‘yaş’ sütunu) göre sıralamasını istedik. Bunun için de şöyle bir fonksiyon yazdık:\n",
    "\n",
    "def sırala(liste):\n",
    "    return liste[1]\n",
    "Bu fonksiyon, kendisine parametre olarak verilen nesnenin ikinci öğesini döndürüyor. İşte biz sorted() \n",
    "fonksiyonunun key parametresine bu fonksiyonu verdiğimizde Python sıralama işleminde elemanlar\n",
    "listesinin ikinci öğesini dikkate alacaktır. Eğer Python’ın sıralama işleminde mesela üçüncü\n",
    "sütunu dikkate almasını isterseniz sırala() fonksiyonunu şöyle yazabilirsiniz:\n",
    "\n",
    "def sırala(liste):\n",
    "    return liste[2]\n",
    "Gördüğünüz gibi, elemanlar listesinin ikinci sütununda değeri aynı olan öğeler var. Mesela \n",
    "‘arzu’, ‘ilknur’ ve ‘abdurrezzak’ 40 yaşında. Python bu öğeleri sıralarken, bunların listede\n",
    "geçtiği sırayı dikkate alacaktır. Ama bazen biz sıralamanın böyle olmasını istemeyebiliriz. \n",
    "Mesela bizim istediğimiz şey, değeri aynı olan öğeler için üçüncü sütunun (veya birinci sütunun)\n",
    "dikkate alınması olabilir. İşte bunun için de sırala() fonksiyonunu şu şekilde tanımlayabiliriz:\n",
    "\n",
    "def sırala(liste):\n",
    "    return (liste[1], liste[2])\n",
    "Gördüğünüz gibi burada sırala() fonksiyonu bize iki öğeli bir demet döndürüyor.\n",
    "\n",
    "Kodlarımız tam olarak şöyle görünecek:\n",
    "\n",
    "def sırala(liste):\n",
    "    return (liste[1], liste[2])\n",
    "\n",
    "elemanlar = [('ahmet',       33,    'karataş'),\n",
    "             ('mehmet',      45,    'arpaçbahşiş'),\n",
    "             ('sevda',       24,    'arsuz'),\n",
    "             ('arzu',        40,    'siverek'),\n",
    "             ('abdullah',    30,    'payas'),\n",
    "             ('ilknur',      40,    'kilis'),\n",
    "             ('abdurrezzak', 40,    'bolvadin')]\n",
    "\n",
    "print(*sorted(elemanlar, key=sırala), sep='\\n')\n",
    "Kodlarımızı böyle yazdığımızda Python listeyi ilk olarak ikinci sütundaki ‘yaş’ değerlerine\n",
    "göre sıralar. Değeri aynı olan öğelerle karşılaştığında ise üçüncü sütundaki ‘memleket’\n",
    "değerlerine bakar ve sıralamayı ona göre yapar.\n",
    "\n",
    "Bütün bu açıklamalardan sonra yukarıdaki şu kodları daha iyi anlıyor olmalısınız:\n",
    "\n",
    "harfler = 'abcçdefgğhıijklmnoöprsştuüvyz'\n",
    "çevrim = {i: harfler.index(i) for i in harfler}\n",
    "\n",
    "def sırala(kelime):\n",
    "    return ([çevrim.get(kelime[i]) for i in range(len(kelime))])\n",
    "\n",
    "isimler = ['ahmet', 'can', 'iskender', 'cigdem',\n",
    "           'ismet', 'ismail', 'ismit', 'çiğdem',\n",
    "           'ismıt', 'ışık', 'şule']\n",
    "\n",
    "print(*sorted(isimler, key=sırala), sep='\\n')\n",
    "Biz yine de her şeyin iyiden iyine anlaşıldığından emin olmak için durumu kısaca açıklayalım.\n",
    "Öncelikle ilgili fonksiyonu önümüze alalım:\n",
    "\n",
    "def sırala(kelime):\n",
    "    return ([çevrim.get(kelime[i]) for i in range(len(kelime))])\n",
    "Burada yaptığımız şey biraz önce yaptığımız şeyle tamamen aynı aslında. Tek fark, Python’ın \n",
    "sıralamada kullanmasını istediğimiz öğeleri tek tek elle yazmak yerine, bunları bir liste \n",
    "üreteci yardımıyla otomatik olarak belirlemek.\n",
    "\n",
    "Eğer yukarıdaki kodları şöyle yazsaydık:\n",
    "\n",
    "def sırala(kelime):\n",
    "    return (çevrim.get(kelime[0]))\n",
    "Bu durumda Python sıralamada kelimelerin yalnızca ilk harflerini dikkate alacaktı. İlk harfi \n",
    "aynı olan kelimeleri ise bu yüzden düzgün sıralayamayacaktı. Elbette Python’ın önce ilk harfe,\n",
    "sonra ikinci harfe, sonra da üçüncü harfe bakmasını sağlayabiliriz:\n",
    "\n",
    "def sırala(kelime):\n",
    "    return (çevrim.get(kelime[0]), çevrim.get(kelime[1]), çevrim.get(kelime[2]))\n",
    "Ancak bu yöntemin uygulanabilir ve pratik olmadığı ortada. Kendi kendinize bazı denemeler yaparak \n",
    "bunu kendiniz de rahatlıkla görebilirsiniz.\n",
    "\n",
    "Python’ın, sıralama yaparken kelimelerin önce ilk harflerini, sonra ikinci, sonra üçüncü, vb.\n",
    "harflerini karşılaştırmasını sağlamanın en uygun yolu şu olacaktır:\n",
    "\n",
    "def sırala(kelime):\n",
    "    return ([çevrim.get(kelime[i]) for i in range(len(kelime))])\n",
    "Gördüğünüz gibi, burada kelimelerdeki harflerin sırasını tek tek elle yazmak yerine, bunu bir for\n",
    "döngüsü içinde otomatik olarak yaptırıyoruz. Dolayısıyla sırala() fonksiyonuna verilen parametrenin \n",
    "mesela ahmet olduğu bir durumda yukarıdaki fonksiyon şu demeti döndürüyor:\n",
    "\n",
    "def sırala('ahmet'):\n",
    "    return (çevrim.get('ahmet'[0]),\n",
    "            çevrim.get('ahmet'[1]),\n",
    "            çevrim.get('ahmet'[2]),\n",
    "            çevrim.get('ahmet'[3]),\n",
    "            çevrim.get('ahmet'[4]))\n",
    "Mesela ‘can’ için ise şunu:\n",
    "\n",
    "def sırala('can'):\n",
    "    return (çevrim.get('can'[0]),\n",
    "            çevrim.get('can'[1]),\n",
    "            çevrim.get('can'[2]))\n",
    "Böylece Python, hangi uzunlukta bir isimle karşılaşırsa karşılaşsın, sıralama işlemini düzgün bir \n",
    "şekilde gerçekleştirebiliyor.\n",
    "\n",
    "Bu bölümde Python’da sıralama konusunu epey ayrıntılı bir şekilde ele aldık.\n",
    "\"\"\"\n",
    "sorted('ahmet')"
   ]
  },
  {
   "cell_type": "code",
   "execution_count": 2,
   "id": "b4a0996f",
   "metadata": {},
   "outputs": [
    {
     "data": {
      "text/plain": [
       "['armut', 'badem', 'elma', 'kiraz']"
      ]
     },
     "execution_count": 2,
     "metadata": {},
     "output_type": "execute_result"
    }
   ],
   "source": [
    "sorted(('elma', 'armut', 'kiraz', 'badem'))"
   ]
  },
  {
   "cell_type": "code",
   "execution_count": 3,
   "id": "af38a9d2",
   "metadata": {},
   "outputs": [
    {
     "data": {
      "text/plain": [
       "['ahmet', 'selin', 'zeynep', 'çiğdem', 'ışık', 'şebnem']"
      ]
     },
     "execution_count": 3,
     "metadata": {},
     "output_type": "execute_result"
    }
   ],
   "source": [
    "isimler = ['ahmet', 'çiğdem', 'ışık', 'şebnem', 'zeynep', 'selin']\n",
    "sorted(isimler)"
   ]
  },
  {
   "cell_type": "code",
   "execution_count": null,
   "id": "ff72434f",
   "metadata": {},
   "outputs": [],
   "source": [
    "\"\"\"\n",
    "Bu konuya sonra derinlemesine bak\n",
    "\"\"\""
   ]
  },
  {
   "cell_type": "code",
   "execution_count": 1,
   "id": "1d63b2e0",
   "metadata": {},
   "outputs": [],
   "source": [
    "\"\"\"\n",
    "slice()\n",
    "Bildiğiniz gibi, birtakım öğelerden oluşan bir nesnenin yalnızca belli kısımlarını ayırıp alma \n",
    "işlemine ‘dilimleme’ adı veriliyor. Örneğin elimizde şöyle bir liste olduğunu düşünelim:\n",
    "\n",
    "5 öğeli bu listenin yalnızca ilk iki öğesini almak, yani dilimlemek için şu yapıyı kullanıyoruz:\n",
    "\n",
    "Dilimleme işleminin şöyle bir formülden oluştuğunu biliyoruz:\n",
    "Başlangıç parametresinin öntanımlı değeri 0 olduğu için yukarıdaki kodu şöyle de yazabilirdik:\n",
    "Aynı listenin, ilk öğeden itibaren sonuna kadar olan bütün öğelerini almak için ise şunu yazıyoruz:\n",
    "Eğer bu listeyi, öğelerini ikişer ikişer atlayarak dilimlemek istersek de şu yolu takip ediyoruz:\n",
    "Bu örnekte başlangıç ve bitiş parametrelerinin öntanımlı değerlerini kullandık. O yüzden o kısımları boş\n",
    "bıraktık. Öğeleri ikişer ikişer atlayabilmek için ise atlama_değeri olarak 2 sayısını kullandık.\n",
    "\n",
    "İşte yukarıdakine benzer dilimleme işlemleri için slice() adlı bir gömülü fonksiyondan da yararlanabiliriz.\n",
    "Dikkatlice bakın:\n",
    "\n",
    "Listemiz şu:\n",
    "Bir ‘dilimleme’ (slice) nesnesi oluşturuyoruz:\n",
    "Bu nesneyi liste üzerine uyguluyoruz:\n",
    "\n",
    "Gördüğünüz gibi, slice() fonksiyonunu yukarıda iki parametre ile kullandık. \n",
    "Tahmin edebileceğiniz gibi, bu fonksiyonunu formülü şu şekildedir:\n",
    "\"\"\"\n",
    "l = ['ahmet', 'mehmet', 'ayşe', 'senem', 'salih']"
   ]
  },
  {
   "cell_type": "code",
   "execution_count": 2,
   "id": "35293c1c",
   "metadata": {},
   "outputs": [],
   "source": [
    "dl=slice(0,3)"
   ]
  },
  {
   "cell_type": "code",
   "execution_count": 5,
   "id": "e09a0b5b",
   "metadata": {},
   "outputs": [
    {
     "data": {
      "text/plain": [
       "['ahmet', 'mehmet', 'ayşe']"
      ]
     },
     "execution_count": 5,
     "metadata": {},
     "output_type": "execute_result"
    }
   ],
   "source": [
    "l[dl]"
   ]
  },
  {
   "cell_type": "code",
   "execution_count": 6,
   "id": "e1f29773",
   "metadata": {},
   "outputs": [],
   "source": [
    "\"\"\"\n",
    "sum()\n",
    "Bu fonksiyonun temel görevi, bir dizi içindeki değerlerin toplamını bulmaktır. Örneğin:\n",
    "\n",
    "l = [1, 2, 3]\n",
    "sum(l)\n",
    "\n",
    "6\n",
    "Bu fonksiyon genellikle yukarıdaki gibi tek parametreyle kullanılır. Ama aslında bu fonksiyon ikinci\n",
    "bir parametre daha alır. Dikkatlice bakın:\n",
    "\n",
    "l = [1, 2, 3]\n",
    "sum(l, 10)\n",
    "\n",
    "16\n",
    "Gördüğünüz gibi, Python sum() fonksiyonuna verilen ikinci parametreyi, birinci parametredeki toplam\n",
    "değerin üzerine ekliyor.\n",
    "\"\"\"\n",
    "l = [1, 2, 3]"
   ]
  },
  {
   "cell_type": "code",
   "execution_count": 7,
   "id": "dcd0830e",
   "metadata": {},
   "outputs": [
    {
     "data": {
      "text/plain": [
       "6"
      ]
     },
     "execution_count": 7,
     "metadata": {},
     "output_type": "execute_result"
    }
   ],
   "source": [
    "sum(l)"
   ]
  },
  {
   "cell_type": "code",
   "execution_count": 8,
   "id": "29318115",
   "metadata": {},
   "outputs": [
    {
     "data": {
      "text/plain": [
       "16"
      ]
     },
     "execution_count": 8,
     "metadata": {},
     "output_type": "execute_result"
    }
   ],
   "source": [
    "sum(l,10)"
   ]
  },
  {
   "cell_type": "code",
   "execution_count": 9,
   "id": "486622d3",
   "metadata": {},
   "outputs": [
    {
     "data": {
      "text/plain": [
       "str"
      ]
     },
     "execution_count": 9,
     "metadata": {},
     "output_type": "execute_result"
    }
   ],
   "source": [
    "\"\"\"\n",
    "type()\n",
    "type() fonksiyonunun görevi bir nesnenin hangi veri tipine ait olduğunu söylemektir. Bu fonksiyonu artık yakından tanıyorsunuz:\n",
    "\n",
    "type('elma')\n",
    "\n",
    "<class 'str'>\n",
    "\"\"\"\n",
    "type(\"alma\")"
   ]
  },
  {
   "cell_type": "code",
   "execution_count": 10,
   "id": "968b66f3",
   "metadata": {},
   "outputs": [],
   "source": [
    "\"\"\"\n",
    "zip()\n",
    "Gelin isterseniz bu fonksiyonu bir örnek üzerinden açıklamaya çalışalım.\n",
    "\n",
    "Diyelim ki elimizde şöyle iki farklı liste var:\n",
    "\n",
    "a1 = ['a', 'b', 'c']\n",
    "a2 = ['d', 'e', 'f']\n",
    "Eğer bu listelerin öğelerini birbirleriyle eşleştirmek istersek zip() fonksiyonundan yararlanabiliriz.\n",
    "\n",
    "Dikkatlice bakın:\n",
    "\n",
    "zip(a1, a2)\n",
    "\n",
    "<zip object at 0x00FD0BE8>\n",
    "Gördüğünüz gibi, yukarıdaki kod bize bir ‘zip’ nesnesi veriyor. Bu nesnenin öğelerine nasıl ulaşabileceğinizi \n",
    "biliyorsunuz:\n",
    "\n",
    "print(*zip(a1, a2))\n",
    "\n",
    "('a', 'd') ('b', 'e') ('c', 'f')\n",
    "\n",
    "list(zip(a1, a2))\n",
    "\n",
    "[('a', 'd'), ('b', 'e'), ('c', 'f')]\n",
    "\n",
    "for a, b in zip(a1, a2):\n",
    "    print(a, b)\n",
    "\n",
    "a d\n",
    "b e\n",
    "c f\n",
    "Yukarıdaki çıktıları incelediğimizde, ilk listenin ilk öğesinin, ikinci listenin ilk öğesiyle; ilk listenin\n",
    "ikinci öğesinin, ikinci listenin ikinci öğesiyle; ilk listenin üçüncü öğesinin ise, ikinci listenin \n",
    "üçüncü öğesiyle eşleştiğini görüyoruz.\n",
    "\n",
    "Bu özellikten pek çok farklı şekilde yararlanabilirsiniz. Örneğin:\n",
    "\n",
    "isimler = ['ahmet', 'mehmet', 'zeynep', 'ilker']\n",
    "yaşlar = [25, 40, 35, 20]\n",
    "for i, y in zip(isimler, yaşlar):\n",
    "    print('isim: {} / yaş: {}'.format(i, y))\n",
    "\n",
    "isim: ahmet / yaş: 25\n",
    "isim: mehmet / yaş: 40\n",
    "isim: zeynep / yaş: 35\n",
    "isim: ilker / yaş: 20\n",
    "Burada isimler ve yaşlar adlı listelerin öğelerini zip() fonksiyonu yardımıyla birbirleriyle eşleştirdik.\n",
    "\"\"\"\n",
    "a1 = ['a', 'b', 'c']\n",
    "a2 = ['d', 'e', 'f']"
   ]
  },
  {
   "cell_type": "code",
   "execution_count": 14,
   "id": "6c829d71",
   "metadata": {},
   "outputs": [
    {
     "name": "stdout",
     "output_type": "stream",
     "text": [
      "('a', 'd') ('b', 'e') ('c', 'f')\n"
     ]
    }
   ],
   "source": [
    "print(*zip(a1,a2))"
   ]
  },
  {
   "cell_type": "code",
   "execution_count": 15,
   "id": "38fc2675",
   "metadata": {},
   "outputs": [
    {
     "data": {
      "text/plain": [
       "<zip at 0x7f1b584aa840>"
      ]
     },
     "execution_count": 15,
     "metadata": {},
     "output_type": "execute_result"
    }
   ],
   "source": [
    "isimler = ['ahmet', 'mehmet', 'zeynep', 'ilker']\n",
    "yaşlar = [25, 40, 35, 20]\n",
    "zip(isimler,yaşlar)"
   ]
  },
  {
   "cell_type": "code",
   "execution_count": 18,
   "id": "77c1cf13",
   "metadata": {},
   "outputs": [
    {
     "name": "stdout",
     "output_type": "stream",
     "text": [
      "('ahmet', 25)\n",
      "('mehmet', 40)\n",
      "('zeynep', 35)\n",
      "('ilker', 20)\n"
     ]
    }
   ],
   "source": [
    "d=list(zip(isimler,yaşlar))\n",
    "for i in d:\n",
    "    print(i)"
   ]
  },
  {
   "cell_type": "code",
   "execution_count": null,
   "id": "e57e101e",
   "metadata": {},
   "outputs": [],
   "source": [
    "\"\"\"\n",
    "vars()\n",
    "Bu fonksiyon, mevcut isim alanı içindeki metot, fonksiyon ve nitelikleri listeler.\n",
    "Eğer bu fonksiyonu parametresiz olarak kullanırsak, daha önce gördüğümüz locals() \n",
    "fonksiyonuyla aynı çıktıyı elde ederiz:\n",
    "\n",
    "vars()\n",
    "\n",
    "{'__builtins__': <module 'builtins' (built-in)>, '__name__': '__main__',\n",
    " '__package__': None, '__loader__': <class '_frozen_importlib.BuiltinImporter'>,\n",
    " '__doc__': None}\n",
    "Bu fonksiyonu, nesnelerin metotlarını ve niteliklerini öğrenmek için de kullanabilirsiniz:\n",
    "\n",
    "vars(str)\n",
    "vars(list)\n",
    "vars(dict)\n",
    "Yukarıda sırasıyla karakter dizilerinin, listelerin ve sözlüklerin metotlarını listeledik.\n",
    "Bu yönüyle vars() fonksiyonu dir() fonksiyonuna benzer.\n",
    "\n",
    "Böylece Python’daki gömülü fonksiyonları tek tek incelemiş olduk. Bu bölümde incelemediğimiz \n",
    "gömülü fonksiyonlar şunlar:\n",
    "\n",
    "memoryview\n",
    "\n",
    "iter\n",
    "\n",
    "next\n",
    "\n",
    "object\n",
    "\n",
    "property\n",
    "\n",
    "staticmethod\n",
    "\n",
    "super\n",
    "\n",
    "getattr\n",
    "\n",
    "hasattr\n",
    "\n",
    "delattr\n",
    "\n",
    "classmethod\n",
    "\n",
    "issubclass\n",
    "\n",
    "setattr\n",
    "\n",
    "__import__\n",
    "\n",
    "\n",
    "\"\"\""
   ]
  },
  {
   "cell_type": "code",
   "execution_count": 20,
   "id": "247a4bb7",
   "metadata": {},
   "outputs": [],
   "source": [
    "\"\"\"\n",
    "\n",
    "reduce fonksiyonu \n",
    "fonksiyonu 1. ve 2. elemana uygulayıp sonucu 3. elemana uygular.\n",
    "\n",
    "\"\"\"\n",
    "from functools import reduce"
   ]
  },
  {
   "cell_type": "code",
   "execution_count": 21,
   "id": "8344baf6",
   "metadata": {},
   "outputs": [],
   "source": [
    "def çarpma(a,b):\n",
    "    return a*b\n",
    "liste=[1,2,3,4,5,6,7,8,9,10]"
   ]
  },
  {
   "cell_type": "code",
   "execution_count": 22,
   "id": "2bb8523d",
   "metadata": {},
   "outputs": [
    {
     "data": {
      "text/plain": [
       "3628800"
      ]
     },
     "execution_count": 22,
     "metadata": {},
     "output_type": "execute_result"
    }
   ],
   "source": [
    "reduce(çarpma,liste)"
   ]
  },
  {
   "cell_type": "code",
   "execution_count": 27,
   "id": "dfe3c6da",
   "metadata": {},
   "outputs": [
    {
     "data": {
      "text/plain": [
       "[12, 30, 30, 9]"
      ]
     },
     "execution_count": 27,
     "metadata": {},
     "output_type": "execute_result"
    }
   ],
   "source": [
    "def alanhesaplama(a):\n",
    "    return a[0]*a[1]\n",
    "liste=[(3,4),(10,3),(5,6),(1,9)]\n",
    "list(map(alanhesaplama,liste))"
   ]
  },
  {
   "cell_type": "code",
   "execution_count": 34,
   "id": "332367c6",
   "metadata": {},
   "outputs": [
    {
     "name": "stdout",
     "output_type": "stream",
     "text": [
      "30\n"
     ]
    }
   ],
   "source": [
    "from functools import reduce\n",
    "d=  [1,2,3,4,5,6,7,8,9,10]\n",
    "def çiftmi(a):\n",
    "    if a%2==0:\n",
    "        return True\n",
    "def toplama(a,b):\n",
    "    return a+b\n",
    "d=list(filter(çiftmi,d))\n",
    "print(reduce(toplama,d))"
   ]
  },
  {
   "cell_type": "code",
   "execution_count": null,
   "id": "89d0182d",
   "metadata": {},
   "outputs": [
    {
     "ename": "",
     "evalue": "",
     "output_type": "error",
     "traceback": [
      "\u001b[1;31mThe Kernel crashed while executing code in the current cell or a previous cell. \n",
      "\u001b[1;31mPlease review the code in the cell(s) to identify a possible cause of the failure. \n",
      "\u001b[1;31mClick <a href='https://aka.ms/vscodeJupyterKernelCrash'>here</a> for more info. \n",
      "\u001b[1;31mView Jupyter <a href='command:jupyter.viewOutput'>log</a> for further details."
     ]
    }
   ],
   "source": [
    "exit()"
   ]
  },
  {
   "cell_type": "code",
   "execution_count": null,
   "id": "351cb050",
   "metadata": {},
   "outputs": [],
   "source": []
  }
 ],
 "metadata": {
  "kernelspec": {
   "display_name": "Python 3",
   "language": "python",
   "name": "python3"
  },
  "language_info": {
   "codemirror_mode": {
    "name": "ipython",
    "version": 3
   },
   "file_extension": ".py",
   "mimetype": "text/x-python",
   "name": "python",
   "nbconvert_exporter": "python",
   "pygments_lexer": "ipython3",
   "version": "3.12.7"
  }
 },
 "nbformat": 4,
 "nbformat_minor": 5
}
