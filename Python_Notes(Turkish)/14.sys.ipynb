{
 "cells": [
  {
   "cell_type": "markdown",
   "metadata": {},
   "source": [
    "# SYS"
   ]
  },
  {
   "cell_type": "code",
   "execution_count": 1,
   "metadata": {},
   "outputs": [],
   "source": [
    "import sys"
   ]
  },
  {
   "cell_type": "code",
   "execution_count": 2,
   "metadata": {},
   "outputs": [
    {
     "name": "stdout",
     "output_type": "stream",
     "text": [
      "a\n",
      "b\n"
     ]
    },
    {
     "ename": "SystemExit",
     "evalue": "",
     "output_type": "error",
     "traceback": [
      "An exception has occurred, use %tb to see the full traceback.\n",
      "\u001b[0;31mSystemExit\u001b[0m\n"
     ]
    },
    {
     "name": "stderr",
     "output_type": "stream",
     "text": [
      "/var/data/python/lib/python3.12/site-packages/IPython/core/interactiveshell.py:3585: UserWarning: To exit: use 'exit', 'quit', or Ctrl-D.\n",
      "  warn(\"To exit: use 'exit', 'quit', or Ctrl-D.\", stacklevel=1)\n"
     ]
    }
   ],
   "source": [
    "# sys.exit() programımızı sonlandırı\n",
    "\n",
    "print(\"a\")\n",
    "print(\"b\")\n",
    "sys.exit()\n",
    "print(c)"
   ]
  },
  {
   "cell_type": "markdown",
   "metadata": {},
   "source": [
    "### stderr ve stdout\n",
    "\n",
    "Bilgisayarlar uygulamalarımız ve işlemlerimiz çalıştığı zaman çıktı vermek ve girdi almak için şu dosyaları kullanır.\n",
    "\n",
    "***stdin*** :  Bu standard dosya, işlemimizin (process ) kullanıcıdan input almasını sağlar.  \n",
    "\n",
    "***stdout*** : Bu standard dosya, işlemimizin (process ) çıktı vermesini sağlar.\n",
    "\n",
    "***stderr***  : Bu standard dosya, işlemimizin hata mesajlarını çıktı olarak vermek için kullanılır.\n",
    "\n",
    "Biz print() fonksiyonumuzu kullandığımızda aslında standard olarak ***stdout*** kullanılmaktadır. Ancak biz istersek ***stderr'e de ** bir şeyler yazabiliriz."
   ]
  },
  {
   "cell_type": "code",
   "execution_count": 3,
   "metadata": {},
   "outputs": [
    {
     "name": "stderr",
     "output_type": "stream",
     "text": [
      "Burası bir hata mesajı\n"
     ]
    },
    {
     "name": "stdout",
     "output_type": "stream",
     "text": [
      "Burası normal çıktımız\n"
     ]
    },
    {
     "data": {
      "text/plain": [
       "23"
      ]
     },
     "execution_count": 3,
     "metadata": {},
     "output_type": "execute_result"
    }
   ],
   "source": [
    "sys.stderr.write(\"Burası bir hata mesajı\\n\")\n",
    "\n",
    "sys.stderr.flush() # Buffer'ı hemen yaz. \n",
    "\n",
    "sys.stdout.write(\"Burası normal çıktımız\\n\")"
   ]
  },
  {
   "cell_type": "code",
   "execution_count": 8,
   "metadata": {},
   "outputs": [],
   "source": [
    "def lens(a):\n",
    "    if type(a)==str:\n",
    "        return len(a)\n",
    "    else:\n",
    "        try:\n",
    "            sys.stderr.write(\"lütfen sayı gir\")\n",
    "            sys.stderr.flush()\n",
    "            print(\"çalıştım\")\n",
    "        except:\n",
    "            print(\"hata\")"
   ]
  },
  {
   "cell_type": "code",
   "execution_count": 9,
   "metadata": {},
   "outputs": [
    {
     "name": "stderr",
     "output_type": "stream",
     "text": [
      "lütfen sayı gir"
     ]
    },
    {
     "name": "stdout",
     "output_type": "stream",
     "text": [
      "çalıştım\n"
     ]
    }
   ],
   "source": [
    "lens(1)"
   ]
  },
  {
   "cell_type": "markdown",
   "metadata": {},
   "source": [
    "### sys.argv\n",
    "\n",
    "***sys.argv*** Python programlarını komut satırlarından çalıştırdığımızda yanına verdiğimiz argümanları taşıyan bir listedir. \n",
    "\n",
    "*sys.argv , videomuzda anlatılıyor. *"
   ]
  },
  {
   "cell_type": "code",
   "execution_count": null,
   "metadata": {},
   "outputs": [],
   "source": []
  },
  {
   "cell_type": "markdown",
   "metadata": {},
   "source": [
    "sys modülü pythonun özelliklerini kullanabileceğimiz bir modüldür. \n",
    "sys.stderr.write(\"hata mesajı\")\n",
    "sys.stderr.flush() \n",
    "\n",
    "büyük projelerde uğraşırken bu bizim için çok önemli olacak .flush() bufferı temizler.\n",
    "\n",
    "sys.stdout.write(\"çıktı mesajı\")  print fonksiyonudur\n",
    "\n",
    "for i in sys.stin:\n",
    "    print(\"klavyeden girilen değer: \",i)"
   ]
  },
  {
   "cell_type": "code",
   "execution_count": 1,
   "metadata": {},
   "outputs": [
    {
     "ename": "KeyboardInterrupt",
     "evalue": "",
     "output_type": "error",
     "traceback": [
      "\u001b[0;31m---------------------------------------------------------------------------\u001b[0m",
      "\u001b[0;31mKeyboardInterrupt\u001b[0m                         Traceback (most recent call last)",
      "Cell \u001b[0;32mIn[1], line 3\u001b[0m\n\u001b[1;32m      1\u001b[0m \u001b[38;5;28;01mimport\u001b[39;00m \u001b[38;5;21;01msys\u001b[39;00m\n\u001b[0;32m----> 3\u001b[0m \u001b[38;5;28;43;01mfor\u001b[39;49;00m\u001b[43m \u001b[49m\u001b[43mi\u001b[49m\u001b[43m \u001b[49m\u001b[38;5;129;43;01min\u001b[39;49;00m\u001b[43m \u001b[49m\u001b[43msys\u001b[49m\u001b[38;5;241;43m.\u001b[39;49m\u001b[43mstdin\u001b[49m\u001b[43m:\u001b[49m\n\u001b[1;32m      4\u001b[0m \u001b[43m    \u001b[49m\u001b[38;5;28;43mprint\u001b[39;49m\u001b[43m(\u001b[49m\u001b[43mi\u001b[49m\u001b[43m)\u001b[49m\n",
      "\u001b[0;31mKeyboardInterrupt\u001b[0m: "
     ]
    }
   ],
   "source": [
    "import sys\n",
    "\n",
    "for i in sys.stdin:\n",
    "    print(i)"
   ]
  },
  {
   "cell_type": "code",
   "execution_count": null,
   "metadata": {},
   "outputs": [],
   "source": []
  }
 ],
 "metadata": {
  "kernelspec": {
   "display_name": "Python 3",
   "language": "python",
   "name": "python3"
  },
  "language_info": {
   "codemirror_mode": {
    "name": "ipython",
    "version": 3
   },
   "file_extension": ".py",
   "mimetype": "text/x-python",
   "name": "python",
   "nbconvert_exporter": "python",
   "pygments_lexer": "ipython3",
   "version": "3.12.7"
  }
 },
 "nbformat": 4,
 "nbformat_minor": 2
}
