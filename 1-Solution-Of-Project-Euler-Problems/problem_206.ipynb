{
 "cells": [
  {
   "cell_type": "markdown",
   "metadata": {},
   "source": [
    "# PROBLEM 206"
   ]
  },
  {
   "cell_type": "code",
   "execution_count": 2,
   "metadata": {},
   "outputs": [
    {
     "name": "stdout",
     "output_type": "stream",
     "text": [
      "18\n",
      "19\n"
     ]
    }
   ],
   "source": [
    "str_square = lambda a : str(a**2) #1_2_3_4_5_6_7_8_9_0  __19__\n",
    "print(len(str_square(999999999)))\n",
    "print(len(str_square(1000000000))) # initial value"
   ]
  },
  {
   "cell_type": "code",
   "execution_count": 7,
   "metadata": {},
   "outputs": [
    {
     "name": "stdout",
     "output_type": "stream",
     "text": [
      "1389019170\n"
     ]
    }
   ],
   "source": [
    "control_value = \"1234567890\"\n",
    "value = 1000000000\n",
    "while True:\n",
    "    flag=False\n",
    "    square = str_square(value)\n",
    "    if square[::2] == control_value:\n",
    "        flag = True\n",
    "    value+=10    # because control_value[18] == 0\n",
    "    if flag:\n",
    "        break\n",
    "print(value-10)          "
   ]
  }
 ],
 "metadata": {
  "kernelspec": {
   "display_name": "Python 3",
   "language": "python",
   "name": "python3"
  },
  "language_info": {
   "codemirror_mode": {
    "name": "ipython",
    "version": 3
   },
   "file_extension": ".py",
   "mimetype": "text/x-python",
   "name": "python",
   "nbconvert_exporter": "python",
   "pygments_lexer": "ipython3",
   "version": "3.12.8"
  }
 },
 "nbformat": 4,
 "nbformat_minor": 2
}
